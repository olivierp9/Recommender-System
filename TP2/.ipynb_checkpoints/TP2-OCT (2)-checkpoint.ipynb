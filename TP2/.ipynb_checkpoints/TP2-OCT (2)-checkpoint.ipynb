{
 "cells": [
  {
   "cell_type": "markdown",
   "metadata": {},
   "source": [
    "# Question 1"
   ]
  },
  {
   "cell_type": "markdown",
   "metadata": {},
   "source": [
    "Supposons que je lis le document numéro '422908' dans ma matrice. Appliquez l'algorithme Page rank pour déterminer les autres lectures recommandées. En plus de la simple recommandation des références de '422908', appliquez au moins une variation de cette approche de base, comme celle exposée en classe qui consiste à étendre le sous-ensemble S (références) à S' (références des références). Expliquez la démarche que vous avez prise."
   ]
  },
  {
   "cell_type": "code",
   "execution_count": 1,
   "metadata": {},
   "outputs": [],
   "source": [
    "# Lecture de la base de données\n",
    "m <- read.table('citeseer.rtable')\n",
    "# Lecture de la fonction de Page Rank\n",
    "# Si la division du vecteur de PR et le vecteur de nombre de lien sortant donne une valeur infini, on le met alors à 0\n",
    "page <- function(m,d,pr) {y<-y <- pr/colSums(m); y[which(!is.finite(y))] <- 0; (1-d)/17 + (d * (m %*% (y)))} "
   ]
  },
  {
   "cell_type": "code",
   "execution_count": 2,
   "metadata": {},
   "outputs": [],
   "source": [
    "# Transformation de m en matrice pour effectuer les calculs\n",
    "m <- as.matrix(m)\n",
    "m <- m/colSums(m)\n",
    "\n",
    "# Calcul de la matice de transition S' afin de determiner les chemins transitifs entre les noeuds par la puissance de la matrice\n",
    "m2 <- m %*% m\n",
    "# Normaliser la matrice et enlever les valeur infini\n",
    "m2[which(!is.finite(m2))] <- 0"
   ]
  },
  {
   "cell_type": "code",
   "execution_count": 6,
   "metadata": {},
   "outputs": [
    {
     "data": {
      "text/html": [
       "<ol class=list-inline>\n",
       "\t<li>17</li>\n",
       "\t<li>17</li>\n",
       "</ol>\n"
      ],
      "text/latex": [
       "\\begin{enumerate*}\n",
       "\\item 17\n",
       "\\item 17\n",
       "\\end{enumerate*}\n"
      ],
      "text/markdown": [
       "1. 17\n",
       "2. 17\n",
       "\n",
       "\n"
      ],
      "text/plain": [
       "[1] 17 17"
      ]
     },
     "metadata": {},
     "output_type": "display_data"
    }
   ],
   "source": [
    "# Déterminer les valeurs qui son associé au document recherché dans la matice S et S' \n",
    "new.indice <- m['422908',]>0 | m2['422908',]>0\n",
    "# Construire une nouvelle matrice qui contient tout les documents qui sont un lien direct ou transitif vers le doucment recherché\n",
    "m.temp <- m+m2\n",
    "m3 <- m.temp[new.indice,new.indice]\n",
    "dim(m3)"
   ]
  },
  {
   "cell_type": "code",
   "execution_count": 10,
   "metadata": {},
   "outputs": [],
   "source": [
    "# Lecture de la fonction pour trouver l'indice max\n",
    "max.nindex <- function(m, n=5) {\n",
    "    i <- order(m, decreasing=TRUE)\n",
    "    return(i[1:n])\n",
    "}"
   ]
  },
  {
   "cell_type": "code",
   "execution_count": 7,
   "metadata": {},
   "outputs": [
    {
     "data": {
      "text/html": [
       "<ol class=list-inline>\n",
       "\t<li>12</li>\n",
       "\t<li>2</li>\n",
       "\t<li>6</li>\n",
       "</ol>\n"
      ],
      "text/latex": [
       "\\begin{enumerate*}\n",
       "\\item 12\n",
       "\\item 2\n",
       "\\item 6\n",
       "\\end{enumerate*}\n"
      ],
      "text/markdown": [
       "1. 12\n",
       "2. 2\n",
       "3. 6\n",
       "\n",
       "\n"
      ],
      "text/plain": [
       "[1] 12  2  6"
      ]
     },
     "metadata": {},
     "output_type": "display_data"
    }
   ],
   "source": [
    "# Appliquer PR sur la matrice issue de S et S' en itérant 10 fois \n",
    "d <- 0.85\n",
    "pr <- rep(1,17)\n",
    "mm <- matrix(0, 17, 10)\n",
    "for (i in 1:10) {pr <- page(m3,d,pr) ; mm[,i] <- pr} \n",
    "max.nindex(mm[,10],3)"
   ]
  },
  {
   "cell_type": "code",
   "execution_count": 7,
   "metadata": {},
   "outputs": [
    {
     "data": {
      "text/html": [
       "'X131548'"
      ],
      "text/latex": [
       "'X131548'"
      ],
      "text/markdown": [
       "'X131548'"
      ],
      "text/plain": [
       "[1] \"X131548\""
      ]
     },
     "metadata": {},
     "output_type": "display_data"
    }
   ],
   "source": [
    "colnames(m3)[3]\n",
    "# Étant donné que l'indice 20 représente l'original, PR recommande donc le document X131548"
   ]
  },
  {
   "cell_type": "markdown",
   "metadata": {},
   "source": [
    "# Question 2"
   ]
  },
  {
   "cell_type": "markdown",
   "metadata": {},
   "source": [
    "Comparez les résultats obtenus avec une approche basée sur la similarité des articles dans un espace vectoriel, à l'instar du calcul de similarité de l'approche item-item. La mesure de la similarité et la façon de l'utiliser pour estimer la pertinence d'articles similaires est laissé à votre discrétion."
   ]
  },
  {
   "cell_type": "code",
   "execution_count": 8,
   "metadata": {},
   "outputs": [
    {
     "data": {
      "text/html": [
       "747"
      ],
      "text/latex": [
       "747"
      ],
      "text/markdown": [
       "747"
      ],
      "text/plain": [
       "[1] 747"
      ]
     },
     "metadata": {},
     "output_type": "display_data"
    }
   ],
   "source": [
    "m = read.table(\"citeseer.rtable\")\n",
    "m <- as.matrix(m)\n",
    "m.sparse <- t(m)\n",
    "m[m==0] <- NA\n",
    "ST_id<-grep(\"422908\", rownames(m))\n",
    "ST_id"
   ]
  },
  {
   "cell_type": "code",
   "execution_count": 12,
   "metadata": {},
   "outputs": [],
   "source": [
    "min.nindex <- function(m, n=5) {\n",
    "    i <- order(m)\n",
    "    return(i[1:n])\n",
    "}\n",
    "#Fonctions de cosinus \n",
    "cosinus.vm <- function(v,m) { \n",
    "    n <- sqrt(colSums(m^2)); \n",
    "    (v %*% m)/(n * sqrt(sum(v^2)))\n",
    "}"
   ]
  },
  {
   "cell_type": "code",
   "execution_count": 13,
   "metadata": {},
   "outputs": [],
   "source": [
    "# Question 2\n",
    "\n",
    "voisins <- 21\n",
    "m.center <- m.sparse\n",
    "# on remplace les 0 par NA\n",
    "m.center[m.center == 0] <- NA\n",
    "# on calcule la distance eucledienne entre les documents\n",
    "distance.na.450.center <- sqrt(colSums((m.center[,ST_id] - m.center)^2, na.rm=T)) # ignore les valeurs manquantes\n",
    "\n",
    "# on calcule le nombre de votes communs \n",
    "votes.communs <- (colSums((m.sparse[,ST_id] * m.sparse) > 0))\n",
    "\n",
    "# on assigne la valeur Inf au document qui ont moins de 1 votes communs avec le document original \n",
    "distance.na.450.center[votes.communs<1] <- Inf\n",
    "\n",
    "# les documents les plus proches sont choisis\n",
    "# on enlève le document original de la liste \n",
    "closest.euc <- min.nindex(distance.na.450.center, voisins)[-1]\n",
    "\n",
    "# on calcule le cosinus entre les films choisis et star trek V\n",
    "wcos.st <- cosinus.vm(m.sparse[,ST_id], m.sparse[,closest.euc])"
   ]
  },
  {
   "cell_type": "code",
   "execution_count": 14,
   "metadata": {},
   "outputs": [
    {
     "data": {
      "text/html": [
       "<ol class=list-inline>\n",
       "\t<li>15</li>\n",
       "\t<li>17</li>\n",
       "\t<li>7</li>\n",
       "</ol>\n"
      ],
      "text/latex": [
       "\\begin{enumerate*}\n",
       "\\item 15\n",
       "\\item 17\n",
       "\\item 7\n",
       "\\end{enumerate*}\n"
      ],
      "text/markdown": [
       "1. 15\n",
       "2. 17\n",
       "3. 7\n",
       "\n",
       "\n"
      ],
      "text/plain": [
       "[1] 15 17  7"
      ]
     },
     "metadata": {},
     "output_type": "display_data"
    },
    {
     "data": {
      "text/html": [
       "'118823'"
      ],
      "text/latex": [
       "'118823'"
      ],
      "text/markdown": [
       "'118823'"
      ],
      "text/plain": [
       "[1] \"118823\""
      ]
     },
     "metadata": {},
     "output_type": "display_data"
    }
   ],
   "source": [
    "# Par approche item-item, le document X124 est recommandé avec la veleur de cosinus max\n",
    "max.nindex(wcos.st,3)\n",
    "colnames(wcos.st)[8]"
   ]
  },
  {
   "cell_type": "markdown",
   "metadata": {},
   "source": [
    "# Question 3"
   ]
  },
  {
   "cell_type": "markdown",
   "metadata": {},
   "source": [
    "Utilisez une validation croisée pour évaluer la performance de l'approche item-item. Vous pouvez vous inspirer de l'approche utilisée dans l'article suivant pour la méthodologie à adopter :"
   ]
  },
  {
   "cell_type": "code",
   "execution_count": 3,
   "metadata": {},
   "outputs": [],
   "source": [
    "# Lecture de la fonction pour déterminer la matrice de Cosinus de m \n",
    "matrix.cos <- function(m) {\n",
    "    (m %*% t(m)) / ( t(matrix(sqrt(rowSums(m^2)),nrow(m),nrow(m)))\n",
    "                   * (sqrt(rowSums(m^2))) )\n",
    "}"
   ]
  },
  {
   "cell_type": "code",
   "execution_count": 17,
   "metadata": {},
   "outputs": [],
   "source": [
    "m <- read.table('citeseer.rtable')\n",
    "m <- as.matrix(m)"
   ]
  },
  {
   "cell_type": "code",
   "execution_count": 71,
   "metadata": {},
   "outputs": [
    {
     "data": {
      "text/html": [
       "<ol class=list-inline>\n",
       "\t<li>2821</li>\n",
       "\t<li>2</li>\n",
       "</ol>\n"
      ],
      "text/latex": [
       "\\begin{enumerate*}\n",
       "\\item 2821\n",
       "\\item 2\n",
       "\\end{enumerate*}\n"
      ],
      "text/markdown": [
       "1. 2821\n",
       "2. 2\n",
       "\n",
       "\n"
      ],
      "text/plain": [
       "[1] 2821    2"
      ]
     },
     "metadata": {},
     "output_type": "display_data"
    }
   ],
   "source": [
    "m <- read.table('citeseer.rtable')\n",
    "m <- as.matrix(m)\n",
    "# On met le diagonal de la matrice m à 0 puisque un article ne peut pas se référencer lui-même\n",
    "diag(m)<- 0.0001\n",
    "m[m==0] <- 0\n",
    "indice <- which(m == max(m), arr.ind = TRUE);\n",
    "set.seed(3)\n",
    "dim(indice)\n",
    "indice<-indice[sample(2821),]\n",
    "blop <- rep(100,0)\n",
    "for (i in 1:100) {\n",
    "# On détermine les documents référencé dans la matrice\n",
    "temp <- m ;\n",
    "# On met à -1 le docuement pour effectuer la validation croisée\n",
    "temp[indice[i,1],indice[i,2]] <- -1;\n",
    "# On calcul ensuite la valeur de cosinus pour les n documents référencés\n",
    "blop[i]<-matrix.cos(m)[indice[i,1],indice[i,2]]\n",
    "    }\n",
    "# On observe que tous les valeurs de cosinus se rapproche de 1"
   ]
  },
  {
   "cell_type": "code",
   "execution_count": 74,
   "metadata": {},
   "outputs": [
    {
     "data": {
      "text/html": [
       "<ol class=list-inline>\n",
       "\t<li>59</li>\n",
       "\t<li>1</li>\n",
       "\t<li>29</li>\n",
       "\t<li>27</li>\n",
       "\t<li>79</li>\n",
       "\t<li>25</li>\n",
       "\t<li>69</li>\n",
       "\t<li>85</li>\n",
       "\t<li>88</li>\n",
       "\t<li>7</li>\n",
       "\t<li>68</li>\n",
       "\t<li>26</li>\n",
       "\t<li>9</li>\n",
       "\t<li>84</li>\n",
       "\t<li>36</li>\n",
       "\t<li>39</li>\n",
       "\t<li>82</li>\n",
       "\t<li>49</li>\n",
       "\t<li>96</li>\n",
       "\t<li>62</li>\n",
       "\t<li>58</li>\n",
       "\t<li>87</li>\n",
       "\t<li>40</li>\n",
       "\t<li>38</li>\n",
       "\t<li>50</li>\n",
       "\t<li>63</li>\n",
       "\t<li>86</li>\n",
       "\t<li>81</li>\n",
       "\t<li>37</li>\n",
       "\t<li>77</li>\n",
       "\t<li>78</li>\n",
       "\t<li>17</li>\n",
       "\t<li>60</li>\n",
       "\t<li>44</li>\n",
       "\t<li>32</li>\n",
       "\t<li>64</li>\n",
       "\t<li>30</li>\n",
       "\t<li>70</li>\n",
       "\t<li>95</li>\n",
       "\t<li>99</li>\n",
       "\t<li>57</li>\n",
       "\t<li>15</li>\n",
       "\t<li>33</li>\n",
       "\t<li>11</li>\n",
       "\t<li>51</li>\n",
       "\t<li>5</li>\n",
       "\t<li>83</li>\n",
       "\t<li>48</li>\n",
       "\t<li>71</li>\n",
       "\t<li>98</li>\n",
       "\t<li>20</li>\n",
       "\t<li>72</li>\n",
       "\t<li>43</li>\n",
       "\t<li>93</li>\n",
       "\t<li>52</li>\n",
       "\t<li>19</li>\n",
       "\t<li>8</li>\n",
       "\t<li>67</li>\n",
       "\t<li>46</li>\n",
       "\t<li>31</li>\n",
       "\t<li>23</li>\n",
       "\t<li>3</li>\n",
       "\t<li>80</li>\n",
       "\t<li>34</li>\n",
       "\t<li>92</li>\n",
       "\t<li>22</li>\n",
       "\t<li>47</li>\n",
       "\t<li>94</li>\n",
       "\t<li>89</li>\n",
       "\t<li>41</li>\n",
       "\t<li>90</li>\n",
       "\t<li>45</li>\n",
       "\t<li>12</li>\n",
       "\t<li>10</li>\n",
       "\t<li>35</li>\n",
       "\t<li>18</li>\n",
       "\t<li>53</li>\n",
       "\t<li>65</li>\n",
       "\t<li>6</li>\n",
       "\t<li>54</li>\n",
       "\t<li>56</li>\n",
       "\t<li>14</li>\n",
       "\t<li>75</li>\n",
       "\t<li>16</li>\n",
       "\t<li>100</li>\n",
       "\t<li>61</li>\n",
       "\t<li>42</li>\n",
       "\t<li>13</li>\n",
       "\t<li>21</li>\n",
       "\t<li>73</li>\n",
       "\t<li>2</li>\n",
       "\t<li>97</li>\n",
       "\t<li>55</li>\n",
       "\t<li>74</li>\n",
       "\t<li>28</li>\n",
       "\t<li>76</li>\n",
       "\t<li>4</li>\n",
       "\t<li>91</li>\n",
       "\t<li>24</li>\n",
       "\t<li>66</li>\n",
       "</ol>\n"
      ],
      "text/latex": [
       "\\begin{enumerate*}\n",
       "\\item 59\n",
       "\\item 1\n",
       "\\item 29\n",
       "\\item 27\n",
       "\\item 79\n",
       "\\item 25\n",
       "\\item 69\n",
       "\\item 85\n",
       "\\item 88\n",
       "\\item 7\n",
       "\\item 68\n",
       "\\item 26\n",
       "\\item 9\n",
       "\\item 84\n",
       "\\item 36\n",
       "\\item 39\n",
       "\\item 82\n",
       "\\item 49\n",
       "\\item 96\n",
       "\\item 62\n",
       "\\item 58\n",
       "\\item 87\n",
       "\\item 40\n",
       "\\item 38\n",
       "\\item 50\n",
       "\\item 63\n",
       "\\item 86\n",
       "\\item 81\n",
       "\\item 37\n",
       "\\item 77\n",
       "\\item 78\n",
       "\\item 17\n",
       "\\item 60\n",
       "\\item 44\n",
       "\\item 32\n",
       "\\item 64\n",
       "\\item 30\n",
       "\\item 70\n",
       "\\item 95\n",
       "\\item 99\n",
       "\\item 57\n",
       "\\item 15\n",
       "\\item 33\n",
       "\\item 11\n",
       "\\item 51\n",
       "\\item 5\n",
       "\\item 83\n",
       "\\item 48\n",
       "\\item 71\n",
       "\\item 98\n",
       "\\item 20\n",
       "\\item 72\n",
       "\\item 43\n",
       "\\item 93\n",
       "\\item 52\n",
       "\\item 19\n",
       "\\item 8\n",
       "\\item 67\n",
       "\\item 46\n",
       "\\item 31\n",
       "\\item 23\n",
       "\\item 3\n",
       "\\item 80\n",
       "\\item 34\n",
       "\\item 92\n",
       "\\item 22\n",
       "\\item 47\n",
       "\\item 94\n",
       "\\item 89\n",
       "\\item 41\n",
       "\\item 90\n",
       "\\item 45\n",
       "\\item 12\n",
       "\\item 10\n",
       "\\item 35\n",
       "\\item 18\n",
       "\\item 53\n",
       "\\item 65\n",
       "\\item 6\n",
       "\\item 54\n",
       "\\item 56\n",
       "\\item 14\n",
       "\\item 75\n",
       "\\item 16\n",
       "\\item 100\n",
       "\\item 61\n",
       "\\item 42\n",
       "\\item 13\n",
       "\\item 21\n",
       "\\item 73\n",
       "\\item 2\n",
       "\\item 97\n",
       "\\item 55\n",
       "\\item 74\n",
       "\\item 28\n",
       "\\item 76\n",
       "\\item 4\n",
       "\\item 91\n",
       "\\item 24\n",
       "\\item 66\n",
       "\\end{enumerate*}\n"
      ],
      "text/markdown": [
       "1. 59\n",
       "2. 1\n",
       "3. 29\n",
       "4. 27\n",
       "5. 79\n",
       "6. 25\n",
       "7. 69\n",
       "8. 85\n",
       "9. 88\n",
       "10. 7\n",
       "11. 68\n",
       "12. 26\n",
       "13. 9\n",
       "14. 84\n",
       "15. 36\n",
       "16. 39\n",
       "17. 82\n",
       "18. 49\n",
       "19. 96\n",
       "20. 62\n",
       "21. 58\n",
       "22. 87\n",
       "23. 40\n",
       "24. 38\n",
       "25. 50\n",
       "26. 63\n",
       "27. 86\n",
       "28. 81\n",
       "29. 37\n",
       "30. 77\n",
       "31. 78\n",
       "32. 17\n",
       "33. 60\n",
       "34. 44\n",
       "35. 32\n",
       "36. 64\n",
       "37. 30\n",
       "38. 70\n",
       "39. 95\n",
       "40. 99\n",
       "41. 57\n",
       "42. 15\n",
       "43. 33\n",
       "44. 11\n",
       "45. 51\n",
       "46. 5\n",
       "47. 83\n",
       "48. 48\n",
       "49. 71\n",
       "50. 98\n",
       "51. 20\n",
       "52. 72\n",
       "53. 43\n",
       "54. 93\n",
       "55. 52\n",
       "56. 19\n",
       "57. 8\n",
       "58. 67\n",
       "59. 46\n",
       "60. 31\n",
       "61. 23\n",
       "62. 3\n",
       "63. 80\n",
       "64. 34\n",
       "65. 92\n",
       "66. 22\n",
       "67. 47\n",
       "68. 94\n",
       "69. 89\n",
       "70. 41\n",
       "71. 90\n",
       "72. 45\n",
       "73. 12\n",
       "74. 10\n",
       "75. 35\n",
       "76. 18\n",
       "77. 53\n",
       "78. 65\n",
       "79. 6\n",
       "80. 54\n",
       "81. 56\n",
       "82. 14\n",
       "83. 75\n",
       "84. 16\n",
       "85. 100\n",
       "86. 61\n",
       "87. 42\n",
       "88. 13\n",
       "89. 21\n",
       "90. 73\n",
       "91. 2\n",
       "92. 97\n",
       "93. 55\n",
       "94. 74\n",
       "95. 28\n",
       "96. 76\n",
       "97. 4\n",
       "98. 91\n",
       "99. 24\n",
       "100. 66\n",
       "\n",
       "\n"
      ],
      "text/plain": [
       "  [1]  59   1  29  27  79  25  69  85  88   7  68  26   9  84  36  39  82  49\n",
       " [19]  96  62  58  87  40  38  50  63  86  81  37  77  78  17  60  44  32  64\n",
       " [37]  30  70  95  99  57  15  33  11  51   5  83  48  71  98  20  72  43  93\n",
       " [55]  52  19   8  67  46  31  23   3  80  34  92  22  47  94  89  41  90  45\n",
       " [73]  12  10  35  18  53  65   6  54  56  14  75  16 100  61  42  13  21  73\n",
       " [91]   2  97  55  74  28  76   4  91  24  66"
      ]
     },
     "metadata": {},
     "output_type": "display_data"
    }
   ],
   "source": [
    "set.seed(4)\n",
    "\n",
    "sample(100)"
   ]
  },
  {
   "cell_type": "code",
   "execution_count": null,
   "metadata": {},
   "outputs": [],
   "source": []
  },
  {
   "cell_type": "code",
   "execution_count": 72,
   "metadata": {},
   "outputs": [
    {
     "data": {
      "text/html": [
       "76"
      ],
      "text/latex": [
       "76"
      ],
      "text/markdown": [
       "76"
      ],
      "text/plain": [
       "[1] 76"
      ]
     },
     "metadata": {},
     "output_type": "display_data"
    }
   ],
   "source": [
    "sum(blop>0.01)"
   ]
  },
  {
   "cell_type": "code",
   "execution_count": null,
   "metadata": {},
   "outputs": [
    {
     "data": {
      "text/html": [
       "<ol class=list-inline>\n",
       "\t<li>1184189</li>\n",
       "\t<li>2</li>\n",
       "</ol>\n"
      ],
      "text/latex": [
       "\\begin{enumerate*}\n",
       "\\item 1184189\n",
       "\\item 2\n",
       "\\end{enumerate*}\n"
      ],
      "text/markdown": [
       "1. 1184189\n",
       "2. 2\n",
       "\n",
       "\n"
      ],
      "text/plain": [
       "[1] 1184189       2"
      ]
     },
     "metadata": {},
     "output_type": "display_data"
    }
   ],
   "source": [
    "m <- read.table('citeseer.rtable')\n",
    "m <- as.matrix(m)\n",
    "# On met le diagonal de la matrice m à 0 puisque un article ne peut pas se référencer lui-même\n",
    "diag(m)<- 0.0001\n",
    "m[m==0] <- 0\n",
    "indice <- which(m == min(m), arr.ind = TRUE);\n",
    "dim(indice)\n",
    "set.seed(3)\n",
    "indice<-indice[sample(100),]\n",
    "for (i in 1:100) {\n",
    "# On détermine les documents référencé dans la matrice\n",
    "temp <- m ;\n",
    "# On met à -1 le docuement pour effectuer la validation croisée\n",
    "temp[indice[i,1],indice[i,2]] <- -1;\n",
    "# On calcul ensuite la valeur de cosinus pour les n documents référencés\n",
    "print(matrix.cos(temp)[indice[i,1],indice[i,2]])\n",
    "    }\n",
    "# On observe que tous les valeurs de cosinus se rapproche de 1"
   ]
  },
  {
   "cell_type": "code",
   "execution_count": null,
   "metadata": {},
   "outputs": [],
   "source": []
  }
 ],
 "metadata": {
  "kernelspec": {
   "display_name": "R",
   "language": "R",
   "name": "ir"
  },
  "language_info": {
   "codemirror_mode": "r",
   "file_extension": ".r",
   "mimetype": "text/x-r-source",
   "name": "R",
   "pygments_lexer": "r",
   "version": "3.5.1"
  }
 },
 "nbformat": 4,
 "nbformat_minor": 2
}
