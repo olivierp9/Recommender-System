{
 "cells": [
  {
   "cell_type": "markdown",
   "metadata": {},
   "source": [
    "# Question 1"
   ]
  },
  {
   "cell_type": "markdown",
   "metadata": {},
   "source": [
    "Supposons qu'on lit le document numéro '422908' dans ma matrice. Appliquez l'algorithme Page rank pour déterminer les autres lectures recommandées. En plus de la simple recommandation des références de '422908', appliquez au moins une variation de cette approche de base, comme celle exposée en classe qui consiste à étendre le sous-ensemble S (références) à S' (références des références). Expliquez la démarche que vous avez prise."
   ]
  },
  {
   "cell_type": "markdown",
   "metadata": {},
   "source": [
    "Notre article:\n",
    "\n",
    "422908\n",
    "Title:\n",
    "Symbolic Model Checking for Real-time Systems\n",
    "\n",
    "Description:\n",
    ". We describe finite-state programs over real-numbered time in a guardedcommandlanguage with real-valued clocks or, equivalently, as finite automata withreal-valued clocks. Model checking answers the question which states of a real-timeprogram satisfy a branching-time specification (given in an extension of CTL with clockvariables). We develop an algorithm that computes this set of states symbolically as afixpoint of a functional on state predicates, without constructing the state space.For this purpose, we introduce a -calculus on computation trees over real-numberedtime. Unfortunately, many standard program properties, such as response for allnonzeno execution sequences (during which time diverges), cannot be characterizedby fixpoints: we show that the expressiveness of the timed -calculus is incomparableto the expressiveness of timed CTL. Fortunately, this result does not impair thesymbolic verification of \"implementable\" real-time programs---those whose safety...\n",
    "\n",
    "Authors:\n",
    "\n",
    "Joseph Sifakis, Miniparc-zirst Rue Lavoisier, Sergio Yovine, Thomas A. Henzinger, Xavier Nicollin,"
   ]
  },
  {
   "cell_type": "code",
   "execution_count": 5,
   "metadata": {},
   "outputs": [],
   "source": [
    "# Lecture de la base de données\n",
    "m <- read.table('citeseer.rtable')\n",
    "# Transformation de m en matrice pour effectuer les calculs\n",
    "m <- as.matrix(m)\n",
    "# On normalise les valeurs et on enleve les valeurs NaN\n",
    "m <- m/colSums(m)\n",
    "m[which(!is.finite(m))] <- 0\n",
    "# Lecture de la fonction de Page Rank\n",
    "# Si la division du vecteur de PR et le vecteur de nombre de lien sortant donne une valeur infini, on le met alors à 1 sur\n",
    "# sur la dimension de la matrice\n",
    "page <- function(mat,d,pr) {y <- pr/colSums(mat); y[which(!is.finite(y))] <- 1/dim(mat)[1]; (1-d)/dim(mat)[1] + (d * (mat %*% (y)))} "
   ]
  },
  {
   "cell_type": "code",
   "execution_count": 6,
   "metadata": {},
   "outputs": [],
   "source": [
    "# Lecture de la fonction pour trouver l'indice max\n",
    "max.nindex <- function(m, n=5) {\n",
    "    i <- order(m, decreasing=TRUE)\n",
    "    return(i[1:n])\n",
    "}"
   ]
  },
  {
   "cell_type": "code",
   "execution_count": 7,
   "metadata": {},
   "outputs": [
    {
     "data": {
      "text/html": [
       "<ol class=list-inline>\n",
       "\t<li>865</li>\n",
       "\t<li>443</li>\n",
       "\t<li>518</li>\n",
       "\t<li>158</li>\n",
       "\t<li>640</li>\n",
       "</ol>\n"
      ],
      "text/latex": [
       "\\begin{enumerate*}\n",
       "\\item 865\n",
       "\\item 443\n",
       "\\item 518\n",
       "\\item 158\n",
       "\\item 640\n",
       "\\end{enumerate*}\n"
      ],
      "text/markdown": [
       "1. 865\n",
       "2. 443\n",
       "3. 518\n",
       "4. 158\n",
       "5. 640\n",
       "\n",
       "\n"
      ],
      "text/plain": [
       "[1] 865 443 518 158 640"
      ]
     },
     "metadata": {},
     "output_type": "display_data"
    },
    {
     "data": {
      "text/html": [
       "<ol class=list-inline>\n",
       "\t<li>'500980'</li>\n",
       "\t<li>'259812'</li>\n",
       "\t<li>'297641'</li>\n",
       "\t<li>'14606'</li>\n",
       "\t<li>'356801'</li>\n",
       "</ol>\n"
      ],
      "text/latex": [
       "\\begin{enumerate*}\n",
       "\\item '500980'\n",
       "\\item '259812'\n",
       "\\item '297641'\n",
       "\\item '14606'\n",
       "\\item '356801'\n",
       "\\end{enumerate*}\n"
      ],
      "text/markdown": [
       "1. '500980'\n",
       "2. '259812'\n",
       "3. '297641'\n",
       "4. '14606'\n",
       "5. '356801'\n",
       "\n",
       "\n"
      ],
      "text/plain": [
       "[1] \"500980\" \"259812\" \"297641\" \"14606\"  \"356801\""
      ]
     },
     "metadata": {},
     "output_type": "display_data"
    }
   ],
   "source": [
    "# Algorithme de Page Rank pour les recommandations les plus populaires\n",
    "# On fait une nouvelle matrice avec S\n",
    "m.temp <- m\n",
    "\n",
    "d <- 0.85\n",
    "pr <- rep(1,dim(m.temp)[1])\n",
    "mm <- matrix(0, dim(m.temp)[1], 10)\n",
    "\n",
    "for (i in 1:10) {pr <- page(m.temp,d,pr) ; mm[,i] <- pr} \n",
    "max.nindex(mm[,10],5)\n",
    "# le numéro de l'article\n",
    "rownames(m.temp)[max.nindex(mm[,10],5)]"
   ]
  },
  {
   "cell_type": "markdown",
   "metadata": {},
   "source": [
    "En premier, nous avons appliquer l'algorithme de Page Rank sur l'ensemble de la matrice m. "
   ]
  },
  {
   "cell_type": "markdown",
   "metadata": {},
   "source": [
    "50098\n",
    "Title:\n",
    "FunState - An Internal Design Representation for Codesign\n",
    "\n",
    "Description:\n",
    "In this paper, an internal design model called FunState (functions driven by state machines) is presented that enables the representation of different types of system components and scheduling mechanisms using a mixture of functional programming and state machines. It is shown how properties relevant for scheduling and verification of specification models such as Boolean dataflow, cyclostatic dataflow, synchronous dataflow, marked graphs, and communicating state machines as well as Petri nets can be represented in the FunState model of computation. Examples of methods suited for FunState are described, such as scheduling and verification. They are based on the representation of the model's state transitions in form of a periodic graph. The feasibility of the novel approach is shown with an ATM switch example.\n",
    "\n",
    "Authors:\n",
    "\n",
    "Dirk Ziegenbein, Jurgen Teich, Karsten Strehl, Lothar Thiele, Matthias Gries, Rolf Ernst, Student Member,"
   ]
  },
  {
   "cell_type": "markdown",
   "metadata": {},
   "source": [
    "On voit que l'article n'est pas relier a notre article, il retourne seulement un article qui est tres cite et est cite par des articles tres cite aussi. En regardant sur google scholar, cet article est cite par 89articles ce qui est relativement beaucoup."
   ]
  },
  {
   "cell_type": "code",
   "execution_count": 8,
   "metadata": {},
   "outputs": [],
   "source": [
    "# Ajout de S' \n",
    "\n",
    "#Calcul de la matice de transition Sprime afin de determiner les chemins transitifs entre les noeuds par la puissance de la matrice\n",
    "m2 <- m %*% m"
   ]
  },
  {
   "cell_type": "code",
   "execution_count": 9,
   "metadata": {},
   "outputs": [],
   "source": [
    "# Déterminer les valeurs qui son associé au document recherché dans la matice S et S' les pages référencées par les pages de s\n",
    "new.indice <- m['422908',]>0 | m2['422908',]>0\n",
    "# Construire une nouvelle matrice qui contient tout les documents qui sont un lien direct ou transitif vers le doucment recherché\n",
    "m.temp <- m+m2\n",
    "m3 <- m.temp[new.indice,new.indice]"
   ]
  },
  {
   "cell_type": "code",
   "execution_count": 10,
   "metadata": {},
   "outputs": [
    {
     "data": {
      "text/html": [
       "<ol class=list-inline>\n",
       "\t<li>17</li>\n",
       "\t<li>2</li>\n",
       "\t<li>20</li>\n",
       "\t<li>3</li>\n",
       "\t<li>22</li>\n",
       "</ol>\n"
      ],
      "text/latex": [
       "\\begin{enumerate*}\n",
       "\\item 17\n",
       "\\item 2\n",
       "\\item 20\n",
       "\\item 3\n",
       "\\item 22\n",
       "\\end{enumerate*}\n"
      ],
      "text/markdown": [
       "1. 17\n",
       "2. 2\n",
       "3. 20\n",
       "4. 3\n",
       "5. 22\n",
       "\n",
       "\n"
      ],
      "text/plain": [
       "[1] 17  2 20  3 22"
      ]
     },
     "metadata": {},
     "output_type": "display_data"
    },
    {
     "data": {
      "text/html": [
       "<ol class=list-inline>\n",
       "\t<li>'3170'</li>\n",
       "\t<li>'124'</li>\n",
       "\t<li>'422908'</li>\n",
       "\t<li>'131548'</li>\n",
       "\t<li>'426325'</li>\n",
       "</ol>\n"
      ],
      "text/latex": [
       "\\begin{enumerate*}\n",
       "\\item '3170'\n",
       "\\item '124'\n",
       "\\item '422908'\n",
       "\\item '131548'\n",
       "\\item '426325'\n",
       "\\end{enumerate*}\n"
      ],
      "text/markdown": [
       "1. '3170'\n",
       "2. '124'\n",
       "3. '422908'\n",
       "4. '131548'\n",
       "5. '426325'\n",
       "\n",
       "\n"
      ],
      "text/plain": [
       "[1] \"3170\"   \"124\"    \"422908\" \"131548\" \"426325\""
      ]
     },
     "metadata": {},
     "output_type": "display_data"
    }
   ],
   "source": [
    "# Appliquer PR sur la matrice issue de S et S' en itérant 10 fois \n",
    "d <- 0.85\n",
    "pr <- rep(1,dim(m3)[1])\n",
    "mm2 <- matrix(0, dim(m3)[1], 10)\n",
    "for (i in 1:10) {pr <- page(m3,d,pr) ; mm2[,i] <- pr} \n",
    "max.nindex(mm2[,10],5)\n",
    "\n",
    "rownames(m3)[max.nindex(mm2[,10],5)]"
   ]
  },
  {
   "cell_type": "markdown",
   "metadata": {},
   "source": [
    "317\n",
    "Title:\n",
    "An Approach to the Description and Analysis of Hybrid Systems\n",
    "\n",
    "Description:\n",
    "IntroductionThe paper presents a model for hybrid systems, that is, systems that combine discreteand continuous components. Such systems are usually reactive real-time systemsused to control an environment evolving over time.A main assumption is that a run of a hybrid system is a sequence of two-phasesteps. The first phase of a step corresponds to a continuous state transformationusually described in terms of some parameter representing the time elapsed duringthis phase. In the second phase the state is submitted to a discrete change takingzero time.To illustrate this assumption, consider a temperature regulator commanding aheater so as to maintain the temperature ` of a room between two given bounds` min and ` max . A run of such a system is a sequence of steps determined by thealternating state changes of the heater from ON to OFF<F26.\n",
    "\n",
    "Authors:\n",
    "\n",
    "A. Olivero, J. Sifakis, S. Yovine, X. Nicollin,"
   ]
  },
  {
   "cell_type": "markdown",
   "metadata": {},
   "source": [
    "Dans cet encore on parle encore de systeme en temps reel mais avec une approche hybride ce qui est une meilleur recommandation qu'avec le PR global."
   ]
  },
  {
   "cell_type": "markdown",
   "metadata": {},
   "source": [
    "# Question 2"
   ]
  },
  {
   "cell_type": "markdown",
   "metadata": {},
   "source": [
    "Comparez les résultats obtenus avec une approche basée sur la similarité des articles dans un espace vectoriel, à l'instar du calcul de similarité de l'approche item-item. La mesure de la similarité et la façon de l'utiliser pour estimer la pertinence d'articles similaires est laissé à votre discrétion."
   ]
  },
  {
   "cell_type": "code",
   "execution_count": 25,
   "metadata": {},
   "outputs": [
    {
     "data": {
      "text/html": [
       "747"
      ],
      "text/latex": [
       "747"
      ],
      "text/markdown": [
       "747"
      ],
      "text/plain": [
       "[1] 747"
      ]
     },
     "metadata": {},
     "output_type": "display_data"
    }
   ],
   "source": [
    "m = read.table(\"citeseer.rtable\")\n",
    "m <- as.matrix(m)\n",
    "m.sparse <- m\n",
    "m[m==0] <- NA\n",
    "ST_id<-grep(\"422908\", rownames(m))\n",
    "ST_id"
   ]
  },
  {
   "cell_type": "code",
   "execution_count": 26,
   "metadata": {},
   "outputs": [],
   "source": [
    "min.nindex <- function(m, n=5) {\n",
    "    i <- order(m)\n",
    "    return(i[1:n])\n",
    "}\n",
    "#Fonctions de cosinus \n",
    "cosinus.vm <- function(v,m) { \n",
    "    n <- sqrt(colSums(m^2)); \n",
    "    (v %*% m)/(n * sqrt(sum(v^2)))\n",
    "}"
   ]
  },
  {
   "cell_type": "code",
   "execution_count": 27,
   "metadata": {},
   "outputs": [],
   "source": [
    "m.center <- m\n",
    "# on remplace les 0 par NA\n",
    "m.center[m.center == 0] <- NA\n",
    "# on calcule la distance eucledienne entre les documents\n",
    "distance.na.450.center <- sqrt(colSums((m.center[,ST_id] - m.center)^2, na.rm=T)) # ignore les valeurs manquantes\n",
    "\n",
    "# on calcule le nombre de votes communs \n",
    "votes.communs <- (colSums((m.sparse[,ST_id] * m.sparse) > 0))\n",
    "\n",
    "# on assigne la valeur Inf au document qui ont moins de 1 votes communs avec le document original \n",
    "distance.na.450.center[votes.communs<1] <- Inf\n",
    "\n",
    "# les documents les plus proches sont choisis\n",
    "# on enlève le document original de la liste \n",
    "closest.euc <- min.nindex(distance.na.450.center, voisins)[-1]\n",
    "\n",
    "# on calcule le cosinus entre les films choisis et star trek V\n",
    "wcos.st <- cosinus.vm(m.sparse[,ST_id], m.sparse)"
   ]
  },
  {
   "cell_type": "code",
   "execution_count": 28,
   "metadata": {},
   "outputs": [
    {
     "data": {
      "text/html": [
       "<ol class=list-inline>\n",
       "\t<li>747</li>\n",
       "\t<li>1081</li>\n",
       "\t<li>858</li>\n",
       "\t<li>755</li>\n",
       "\t<li>889</li>\n",
       "</ol>\n"
      ],
      "text/latex": [
       "\\begin{enumerate*}\n",
       "\\item 747\n",
       "\\item 1081\n",
       "\\item 858\n",
       "\\item 755\n",
       "\\item 889\n",
       "\\end{enumerate*}\n"
      ],
      "text/markdown": [
       "1. 747\n",
       "2. 1081\n",
       "3. 858\n",
       "4. 755\n",
       "5. 889\n",
       "\n",
       "\n"
      ],
      "text/plain": [
       "[1]  747 1081  858  755  889"
      ]
     },
     "metadata": {},
     "output_type": "display_data"
    },
    {
     "data": {
      "text/html": [
       "<ol class=list-inline>\n",
       "\t<li>'X422908'</li>\n",
       "\t<li>'X96767'</li>\n",
       "\t<li>'X496938'</li>\n",
       "\t<li>'X425638'</li>\n",
       "\t<li>'X522428'</li>\n",
       "</ol>\n"
      ],
      "text/latex": [
       "\\begin{enumerate*}\n",
       "\\item 'X422908'\n",
       "\\item 'X96767'\n",
       "\\item 'X496938'\n",
       "\\item 'X425638'\n",
       "\\item 'X522428'\n",
       "\\end{enumerate*}\n"
      ],
      "text/markdown": [
       "1. 'X422908'\n",
       "2. 'X96767'\n",
       "3. 'X496938'\n",
       "4. 'X425638'\n",
       "5. 'X522428'\n",
       "\n",
       "\n"
      ],
      "text/plain": [
       "[1] \"X422908\" \"X96767\"  \"X496938\" \"X425638\" \"X522428\""
      ]
     },
     "metadata": {},
     "output_type": "display_data"
    }
   ],
   "source": [
    "# Par approche item-item, le document X124 est recommandé avec la valeur de cosinus max\n",
    "max.nindex(wcos.st,5)\n",
    "colnames(wcos.st)[max.nindex(wcos.st,5)]"
   ]
  },
  {
   "cell_type": "code",
   "execution_count": null,
   "metadata": {},
   "outputs": [],
   "source": [
    "'X124' 'X136975' 'X131548' 'X10302' 'X147460'\n"
   ]
  },
  {
   "cell_type": "code",
   "execution_count": null,
   "metadata": {},
   "outputs": [],
   "source": []
  },
  {
   "cell_type": "code",
   "execution_count": null,
   "metadata": {},
   "outputs": [],
   "source": []
  },
  {
   "cell_type": "code",
   "execution_count": 39,
   "metadata": {},
   "outputs": [
    {
     "data": {
      "text/html": [
       "<table>\n",
       "<thead><tr><th scope=col>149673</th><th scope=col>466838</th><th scope=col>70445</th><th scope=col>96767</th><th scope=col>155792</th><th scope=col>497542</th><th scope=col>53632</th><th scope=col>147460</th><th scope=col>149505</th><th scope=col>17094</th><th scope=col>225173</th><th scope=col>22638</th><th scope=col>227057</th><th scope=col>230245</th><th scope=col>3175</th><th scope=col>426325</th><th scope=col>8434</th><th scope=col>10563</th><th scope=col>114285</th><th scope=col>119041</th></tr></thead>\n",
       "<tbody>\n",
       "\t<tr><td>0.4850713</td><td>0.4850713</td><td>0.4950738</td><td>0.5144958</td><td>0.4583492</td><td>0.4338609</td><td>0.4583492</td><td>0.396059 </td><td>0.3429972</td><td>0.396059 </td><td>0.3429972</td><td>0.396059 </td><td>0.3429972</td><td>0.3638034</td><td>0.4287465</td><td>0.396059 </td><td>0.396059 </td><td>0.2425356</td><td>0.280056 </td><td>0.2425356</td></tr>\n",
       "</tbody>\n",
       "</table>\n"
      ],
      "text/latex": [
       "\\begin{tabular}{llllllllllllllllllll}\n",
       " 149673 & 466838 & 70445 & 96767 & 155792 & 497542 & 53632 & 147460 & 149505 & 17094 & 225173 & 22638 & 227057 & 230245 & 3175 & 426325 & 8434 & 10563 & 114285 & 119041\\\\\n",
       "\\hline\n",
       "\t 0.4850713 & 0.4850713 & 0.4950738 & 0.5144958 & 0.4583492 & 0.4338609 & 0.4583492 & 0.396059  & 0.3429972 & 0.396059  & 0.3429972 & 0.396059  & 0.3429972 & 0.3638034 & 0.4287465 & 0.396059  & 0.396059  & 0.2425356 & 0.280056  & 0.2425356\\\\\n",
       "\\end{tabular}\n"
      ],
      "text/markdown": [
       "\n",
       "149673 | 466838 | 70445 | 96767 | 155792 | 497542 | 53632 | 147460 | 149505 | 17094 | 225173 | 22638 | 227057 | 230245 | 3175 | 426325 | 8434 | 10563 | 114285 | 119041 | \n",
       "|---|\n",
       "| 0.4850713 | 0.4850713 | 0.4950738 | 0.5144958 | 0.4583492 | 0.4338609 | 0.4583492 | 0.396059  | 0.3429972 | 0.396059  | 0.3429972 | 0.396059  | 0.3429972 | 0.3638034 | 0.4287465 | 0.396059  | 0.396059  | 0.2425356 | 0.280056  | 0.2425356 | \n",
       "\n",
       "\n"
      ],
      "text/plain": [
       "     149673    466838    70445     96767     155792    497542    53632    \n",
       "[1,] 0.4850713 0.4850713 0.4950738 0.5144958 0.4583492 0.4338609 0.4583492\n",
       "     147460   149505    17094    225173    22638    227057    230245   \n",
       "[1,] 0.396059 0.3429972 0.396059 0.3429972 0.396059 0.3429972 0.3638034\n",
       "     3175      426325   8434     10563     114285   119041   \n",
       "[1,] 0.4287465 0.396059 0.396059 0.2425356 0.280056 0.2425356"
      ]
     },
     "metadata": {},
     "output_type": "display_data"
    },
    {
     "data": {
      "text/html": [
       "<ol class=list-inline>\n",
       "\t<li>747</li>\n",
       "\t<li>961</li>\n",
       "\t<li>985</li>\n",
       "\t<li>246</li>\n",
       "\t<li>232</li>\n",
       "</ol>\n"
      ],
      "text/latex": [
       "\\begin{enumerate*}\n",
       "\\item 747\n",
       "\\item 961\n",
       "\\item 985\n",
       "\\item 246\n",
       "\\item 232\n",
       "\\end{enumerate*}\n"
      ],
      "text/markdown": [
       "1. 747\n",
       "2. 961\n",
       "3. 985\n",
       "4. 246\n",
       "5. 232\n",
       "\n",
       "\n"
      ],
      "text/plain": [
       "[1] 747 961 985 246 232"
      ]
     },
     "metadata": {},
     "output_type": "display_data"
    },
    {
     "data": {
      "text/html": [
       "<ol class=list-inline>\n",
       "\t<li>'X422908'</li>\n",
       "\t<li>'X64835'</li>\n",
       "\t<li>'X70445'</li>\n",
       "\t<li>'X177173'</li>\n",
       "\t<li>'X17094'</li>\n",
       "\t<li>'X426325'</li>\n",
       "\t<li>'X3950'</li>\n",
       "\t<li>'X155792'</li>\n",
       "\t<li>'X22638'</li>\n",
       "\t<li>'X3175'</li>\n",
       "</ol>\n"
      ],
      "text/latex": [
       "\\begin{enumerate*}\n",
       "\\item 'X422908'\n",
       "\\item 'X64835'\n",
       "\\item 'X70445'\n",
       "\\item 'X177173'\n",
       "\\item 'X17094'\n",
       "\\item 'X426325'\n",
       "\\item 'X3950'\n",
       "\\item 'X155792'\n",
       "\\item 'X22638'\n",
       "\\item 'X3175'\n",
       "\\end{enumerate*}\n"
      ],
      "text/markdown": [
       "1. 'X422908'\n",
       "2. 'X64835'\n",
       "3. 'X70445'\n",
       "4. 'X177173'\n",
       "5. 'X17094'\n",
       "6. 'X426325'\n",
       "7. 'X3950'\n",
       "8. 'X155792'\n",
       "9. 'X22638'\n",
       "10. 'X3175'\n",
       "\n",
       "\n"
      ],
      "text/plain": [
       " [1] \"X422908\" \"X64835\"  \"X70445\"  \"X177173\" \"X17094\"  \"X426325\" \"X3950\"  \n",
       " [8] \"X155792\" \"X22638\"  \"X3175\"  "
      ]
     },
     "metadata": {},
     "output_type": "display_data"
    },
    {
     "data": {
      "text/html": [
       "0.034899362657571"
      ],
      "text/latex": [
       "0.034899362657571"
      ],
      "text/markdown": [
       "0.034899362657571"
      ],
      "text/plain": [
       "[1] 0.03489936"
      ]
     },
     "metadata": {},
     "output_type": "display_data"
    },
    {
     "data": {
      "text/html": [
       "0.0422018348623853"
      ],
      "text/latex": [
       "0.0422018348623853"
      ],
      "text/markdown": [
       "0.0422018348623853"
      ],
      "text/plain": [
       "[1] 0.04220183"
      ]
     },
     "metadata": {},
     "output_type": "display_data"
    }
   ],
   "source": [
    "voisins <- 21\n",
    "min.nindex <- function(m, n=5) {\n",
    "    i <- order(m)\n",
    "    return(i[1:n])\n",
    "}\n",
    "cosinus.vm <- function(v,m) { \n",
    "    n <- sqrt(colSums(m^2)); \n",
    "    (v %*% m)/(n * sqrt(sum(v^2)))\n",
    "}\n",
    "\n",
    "# moyenne des votes par utilisateur\n",
    "u.mean <-rowMeans(m.sparse)\n",
    "# on centre la matrice pour enlever le biais des utilisateurs qui votent toujours haut ou en bas\n",
    "m.center <- as.matrix((m.sparse-u.mean))\n",
    "\n",
    "# on remplace les 0 par NA\n",
    "m.center[m.center == 0] <- NA\n",
    "# on calcule la distance eucledienne entre les films\n",
    "distance.na.450.center <- sqrt(colSums((m.center[,ST_id] - m.center)^2, na.rm=T)) # ignore les valeurs manquantes\n",
    "\n",
    "\n",
    "# on calcule le nombre de votes communs des films avec star trek V\n",
    "votes.communs <- (colSums((m.sparse[,ST_id] * m.sparse) > 0))\n",
    "\n",
    "# on assigne la valeur Inf au film qui ont moins de 10 votes communs avec star trek V\n",
    "# on filtre donc pour avoir 10 ou plus votes communs\n",
    "distance.na.450.center[votes.communs<1] <- Inf\n",
    "\n",
    "# les films les plus proches sont choisis (les 20 plus proches)\n",
    "# on enlève Star Trek V encore une fois\n",
    "closest.euc <- min.nindex(distance.na.450.center, voisins)[-1]\n",
    "# on calcule le cosinus entre les films choisis et star trek V\n",
    "wcos.st <- cosinus.vm(m.sparse[,ST_id], m.sparse[,closest.euc])\n",
    "wcos.st\n",
    "\n",
    "# les 20 films les plus communs\n",
    "idx<- closest.euc\n",
    "# on transpose m\n",
    "m.sparse.t <- m.sparse\n",
    "# la range de l item de star trek V\n",
    "v.item <- m.sparse[ST_id,]\n",
    "# la moyenne de l item de star trek V\n",
    "v_1 <-mean(v.item);\n",
    "# retourne la moyenne pour chacun des 20 films voisisns\n",
    "v_i <- apply(m.sparse[idx,], 1, FUN=mean)\n",
    "\n",
    "x<- as.matrix((m.sparse[idx,]))\n",
    "\n",
    "# retourne un liste ayant comme element chaque colonne de x\n",
    "new_x <-lapply(seq_len(ncol(x)), function(i) x[,i])\n",
    "# retourne un liste ayant comme element la moyenne des 20 films voisins\n",
    "new_y <-as.vector(lapply(seq_len(ncol(x)), function(i) v_i)) \n",
    "# retourne un liste ayant comme element les poids(cosinus) des 20 films voisins\n",
    "new_w <-as.vector(lapply(seq_len(ncol(x)), function(i) as.matrix(wcos.st)))\n",
    "#prend seulement ceux qui n'ont de cote \n",
    "# Fonction qui détermine la prédiction des valeurs manquants à l'aide de l'algorithme user-user ou item-item                        \n",
    "predict_func <- function(x,y,w) {\n",
    "    x.temp <- (x-y);\n",
    "    num <-  w %*%x.temp;\n",
    "    denum <- sum(abs(t(w)));\n",
    "    num/denum} \n",
    "\n",
    "c_prod <- mapply(predict_func ,new_x, new_y, new_w)\n",
    "\n",
    "                         \n",
    "# Ajoute la moeynne de l'item pour la note finale des items\n",
    "prediction <- v_1 + c_prod\n",
    "# on retourne les resultats qui n'avaient pas de prediction\n",
    "results <- prediction\n",
    "max.nindex(results,5)                       \n",
    "colnames(m)[max.nindex(results,10) ]\n",
    "min(results)\n",
    "v_1"
   ]
  },
  {
   "cell_type": "markdown",
   "metadata": {},
   "source": [
    "Dans 5 des 6premieres recommandations meme auteur"
   ]
  },
  {
   "cell_type": "code",
   "execution_count": null,
   "metadata": {},
   "outputs": [],
   "source": []
  },
  {
   "cell_type": "code",
   "execution_count": null,
   "metadata": {},
   "outputs": [],
   "source": []
  },
  {
   "cell_type": "code",
   "execution_count": null,
   "metadata": {},
   "outputs": [],
   "source": []
  },
  {
   "cell_type": "markdown",
   "metadata": {},
   "source": [
    "124\n",
    "Title:\n",
    "Hybrid Automata: An Algorithmic Approach to the Specification and Verification of Hybrid Systems\n",
    "\n",
    "Description:\n",
    "We introduce the framework of hybrid automata as a model and specification language forhybrid systems. Hybrid automata can be viewed as a generalization of timed automata, in whichthe behavior of variables is governed in each state by a set of differential equations. We show thatmany of the examples considered in the workshop can be defined by hybrid automata. Whilethe reachability problem is undecidable even for very restricted classes of hybrid automata, wepresent two semidecision procedures for verifying safety properties of piecewise-linear hybridautomata, in which all variables change at constant rates. The two procedures are based,respectively, on minimizing and computing fixpoints on generally infinite state spaces. We showthat if the procedures terminate, then they give correct answers. We then demonstrate thatfor many of the typical workshop examples, the procedures do terminate and thus provide anautomatic way for verifying their properties.1 IntroductionMore and...\n",
    "\n",
    "Authors:\n",
    "\n",
    "Costas Courcoubetis, Pei-hsin Ho, Rajeev Alur, Thomas A. Henzinger,"
   ]
  },
  {
   "cell_type": "markdown",
   "metadata": {},
   "source": [
    "Comme pour la première référence, l'article parle d'approche hybride. c'est aussi intéressant de voir que la recommendation de l'approche I-I est la deuxième proposée par l'approche page rank. C'est donc une référence de notre article de base."
   ]
  },
  {
   "cell_type": "markdown",
   "metadata": {},
   "source": [
    "125089\n",
    "Title:\n",
    "Timing Analysis of Industrial Real-Time Systems\n",
    "\n",
    "Description:\n",
    "In this paper, we describe a formal method for modellingreal-time systems and a procedure to compute themodel's timing characteristics automatically. We presentalgorithms that compute exact bounds on the delay betweentwo specified events. We also describe an algorithmto count the minimum and maximum number of times anevent occurs between a given starting condition and anending condition. These algorithms are based on symbolicmodel checking techniques [6, 24] which have been successfullyused to find bugs in several industrial designs.Such techniques can be used to search exhaustively statespaces with up to 1030states. To illustrate the usefulness ofour method, we describe the timing analysis for a patientmonitoring system with more than 1013states. We alsopresent the timing analysis and verification for an aircraftcontroller. The sizes of the examples we verify demonstratethat our tool can be applied to realistic industrial designs.1 IntroductionSymbolicmodel...\n",
    "\n",
    "Authors:\n",
    "\n",
    "E. Clarke, M. Minea, S. Campos, W. Marrero,\n",
    "\n",
    "En regardant le deuxième article qui n'est pas une source de notre recommandation, il semble être une meilleure recommandation pour une personne qui recherche sur le sujet de notre article de départ, car il parle lui aussi de système temps réel."
   ]
  },
  {
   "cell_type": "markdown",
   "metadata": {},
   "source": [
    "Recommandation:\n",
    "\n",
    "Page rank global:'500980' '259812' '297641' '14606' '356801'\n",
    "\n",
    "Page rank (S'):'3170' '124' '422908' '131548' '426325'\n",
    "\n",
    "I-I: '124' '125089' '114285' '126858' '10563'\n",
    "\n",
    "On remarque aussi que la recommandation de page rank(S) est dans les recommandation de page rank (S'). De plus, ils ont la même 5e recommadation. Et comme on avait indiqué plus tôt la première de I-I est la même que celle de page rank(S). Les recommandations sont donc semblable pour toutes les approches. Pour avoir des articles plus récent que l'article de départ, l'approche I-I est bonne, pour page rank il faudrait inclure dans (S') des articles qui référence notre article ou ces sources. Inclure les références ainsi que les références des références retourne seulement des articles plus vieux. "
   ]
  },
  {
   "cell_type": "markdown",
   "metadata": {},
   "source": [
    "# Question 3"
   ]
  },
  {
   "cell_type": "markdown",
   "metadata": {},
   "source": [
    "Utilisez une validation croisée pour évaluer la performance de l'approche item-item. Vous pouvez vous inspirer de l'approche utilisée dans l'article suivant pour la méthodologie à adopter. "
   ]
  },
  {
   "cell_type": "code",
   "execution_count": 30,
   "metadata": {},
   "outputs": [],
   "source": [
    "# Lecture de la fonction pour déterminer la matrice de Cosinus de m \n",
    "matrix.cos <- function(m) {\n",
    "    (m %*% t(m)) / ( t(matrix(sqrt(rowSums(m^2)),nrow(m),nrow(m)))\n",
    "                   * (sqrt(rowSums(m^2))) )\n",
    "}"
   ]
  },
  {
   "cell_type": "code",
   "execution_count": 36,
   "metadata": {},
   "outputs": [
    {
     "data": {
      "text/html": [
       "<ol class=list-inline>\n",
       "\t<li>2821</li>\n",
       "\t<li>2</li>\n",
       "</ol>\n"
      ],
      "text/latex": [
       "\\begin{enumerate*}\n",
       "\\item 2821\n",
       "\\item 2\n",
       "\\end{enumerate*}\n"
      ],
      "text/markdown": [
       "1. 2821\n",
       "2. 2\n",
       "\n",
       "\n"
      ],
      "text/plain": [
       "[1] 2821    2"
      ]
     },
     "metadata": {},
     "output_type": "display_data"
    }
   ],
   "source": [
    "m <- read.table('citeseer.rtable')\n",
    "m <- as.matrix(m)\n",
    "# On met le diagonal de la matrice m à ≈ 0 puisque un article ne peut pas se référencer lui-même\n",
    "# La raison de pas mettre la diagonale à 0 est pour évitre la division par 0 \n",
    "diag(m)<- 0.0001\n",
    "m[m==0] <- 0\n",
    "indice <- which(m == max(m), arr.ind = TRUE);\n",
    "# Resample la matrice m \n",
    "set.seed(3)\n",
    "dim(indice)\n",
    "indice<-indice[sample(2821),]\n",
    "blop <- rep(10,0)\n",
    "blop2 <- rep(10,0)\n",
    "mat.cos <- matrix.cos(m)\n",
    "for (i in 1:10) {\n",
    "# On détermine les documents référencé dans la matrice\n",
    "temp <- m ;\n",
    "# On met à -1 le docuement pour effectuer la validation croisée\n",
    "temp[indice[i,1],indice[i,2]] <- 0;\n",
    "# On calcul ensuite la valeur de cosinus pour les n documents référencés\n",
    "blop[i]<-mat.cos[indice[i,1],indice[i,2]]\n",
    "blop2[i]<-matrix.cos(temp)[indice[i,1],indice[i,2]]\n",
    "    }"
   ]
  },
  {
   "cell_type": "code",
   "execution_count": 37,
   "metadata": {},
   "outputs": [
    {
     "data": {
      "text/html": [
       "<ol class=list-inline>\n",
       "\t<li>0.325406532829761</li>\n",
       "\t<li>0.707106779418781</li>\n",
       "\t<li>0.33336666481463</li>\n",
       "\t<li>2.04124144806673e-05</li>\n",
       "\t<li>0.223629157758866</li>\n",
       "\t<li>2.35702259675314e-05</li>\n",
       "\t<li>1.29099444701448e-05</li>\n",
       "\t<li>0.182592442858022</li>\n",
       "\t<li>0.499999999375</li>\n",
       "\t<li>0.707106779418781</li>\n",
       "</ol>\n"
      ],
      "text/latex": [
       "\\begin{enumerate*}\n",
       "\\item 0.325406532829761\n",
       "\\item 0.707106779418781\n",
       "\\item 0.33336666481463\n",
       "\\item 2.04124144806673e-05\n",
       "\\item 0.223629157758866\n",
       "\\item 2.35702259675314e-05\n",
       "\\item 1.29099444701448e-05\n",
       "\\item 0.182592442858022\n",
       "\\item 0.499999999375\n",
       "\\item 0.707106779418781\n",
       "\\end{enumerate*}\n"
      ],
      "text/markdown": [
       "1. 0.325406532829761\n",
       "2. 0.707106779418781\n",
       "3. 0.33336666481463\n",
       "4. 2.04124144806673e-05\n",
       "5. 0.223629157758866\n",
       "6. 2.35702259675314e-05\n",
       "7. 1.29099444701448e-05\n",
       "8. 0.182592442858022\n",
       "9. 0.499999999375\n",
       "10. 0.707106779418781\n",
       "\n",
       "\n"
      ],
      "text/plain": [
       " [1] 3.254065e-01 7.071068e-01 3.333667e-01 2.041241e-05 2.236292e-01\n",
       " [6] 2.357023e-05 1.290994e-05 1.825924e-01 5.000000e-01 7.071068e-01"
      ]
     },
     "metadata": {},
     "output_type": "display_data"
    }
   ],
   "source": [
    "blop"
   ]
  },
  {
   "cell_type": "code",
   "execution_count": 38,
   "metadata": {},
   "outputs": [
    {
     "data": {
      "text/html": [
       "<ol class=list-inline>\n",
       "\t<li>0.335410196184743</li>\n",
       "\t<li>0</li>\n",
       "\t<li>0.353553388604536</li>\n",
       "\t<li>0</li>\n",
       "\t<li>0.235702259675314</li>\n",
       "\t<li>0</li>\n",
       "\t<li>0</li>\n",
       "\t<li>0.192450089302208</li>\n",
       "\t<li>0</li>\n",
       "\t<li>0</li>\n",
       "</ol>\n"
      ],
      "text/latex": [
       "\\begin{enumerate*}\n",
       "\\item 0.335410196184743\n",
       "\\item 0\n",
       "\\item 0.353553388604536\n",
       "\\item 0\n",
       "\\item 0.235702259675314\n",
       "\\item 0\n",
       "\\item 0\n",
       "\\item 0.192450089302208\n",
       "\\item 0\n",
       "\\item 0\n",
       "\\end{enumerate*}\n"
      ],
      "text/markdown": [
       "1. 0.335410196184743\n",
       "2. 0\n",
       "3. 0.353553388604536\n",
       "4. 0\n",
       "5. 0.235702259675314\n",
       "6. 0\n",
       "7. 0\n",
       "8. 0.192450089302208\n",
       "9. 0\n",
       "10. 0\n",
       "\n",
       "\n"
      ],
      "text/plain": [
       " [1] 0.3354102 0.0000000 0.3535534 0.0000000 0.2357023 0.0000000 0.0000000\n",
       " [8] 0.1924501 0.0000000 0.0000000"
      ]
     },
     "metadata": {},
     "output_type": "display_data"
    }
   ],
   "source": [
    "blop2"
   ]
  },
  {
   "cell_type": "code",
   "execution_count": 23,
   "metadata": {},
   "outputs": [
    {
     "data": {
      "image/png": "[encoded data removed]",
      "text/plain": [
       "plot without title"
      ]
     },
     "metadata": {},
     "output_type": "display_data"
    }
   ],
   "source": [
    "plot(blop)"
   ]
  },
  {
   "cell_type": "code",
   "execution_count": 28,
   "metadata": {},
   "outputs": [
    {
     "data": {
      "image/png": "[encoded data removed]",
      "text/plain": [
       "plot without title"
      ]
     },
     "metadata": {},
     "output_type": "display_data"
    }
   ],
   "source": [
    "plot((blop2))"
   ]
  }
 ],
 "metadata": {
  "kernelspec": {
   "display_name": "R",
   "language": "R",
   "name": "ir"
  },
  "language_info": {
   "codemirror_mode": "r",
   "file_extension": ".r",
   "mimetype": "text/x-r-source",
   "name": "R",
   "pygments_lexer": "r",
   "version": "3.5.1"
  }
 },
 "nbformat": 4,
 "nbformat_minor": 2
}
