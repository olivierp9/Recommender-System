{
 "cells": [
  {
   "cell_type": "markdown",
   "metadata": {},
   "source": [
    "# Question 1"
   ]
  },
  {
   "cell_type": "markdown",
   "metadata": {},
   "source": [
    "Supposons qu'on lit le document numéro '422908' dans ma matrice. Appliquez l'algorithme Page rank pour déterminer les autres lectures recommandées. En plus de la simple recommandation des références de '422908', appliquez au moins une variation de cette approche de base, comme celle exposée en classe qui consiste à étendre le sous-ensemble S (références) à S' (références des références). Expliquez la démarche que vous avez prise."
   ]
  },
  {
   "cell_type": "markdown",
   "metadata": {},
   "source": [
    "Notre article:\n",
    "\n",
    "422908\n",
    "Title:\n",
    "Symbolic Model Checking for Real-time Systems\n",
    "\n",
    "Description:\n",
    ". We describe finite-state programs over real-numbered time in a guardedcommandlanguage with real-valued clocks or, equivalently, as finite automata withreal-valued clocks. Model checking answers the question which states of a real-timeprogram satisfy a branching-time specification (given in an extension of CTL with clockvariables). We develop an algorithm that computes this set of states symbolically as afixpoint of a functional on state predicates, without constructing the state space.For this purpose, we introduce a -calculus on computation trees over real-numberedtime. Unfortunately, many standard program properties, such as response for allnonzeno execution sequences (during which time diverges), cannot be characterizedby fixpoints: we show that the expressiveness of the timed -calculus is incomparableto the expressiveness of timed CTL. Fortunately, this result does not impair thesymbolic verification of \"implementable\" real-time programs---those whose safety...\n",
    "\n",
    "Authors:\n",
    "\n",
    "Joseph Sifakis, Miniparc-zirst Rue Lavoisier, Sergio Yovine, Thomas A. Henzinger, Xavier Nicollin,"
   ]
  },
  {
   "cell_type": "code",
   "execution_count": 110,
   "metadata": {},
   "outputs": [],
   "source": [
    "# Lecture de la base de données\n",
    "m <- read.table('citeseer.rtable')\n",
    "# Transformation de m en matrice pour effectuer les calculs\n",
    "m <- as.matrix(m)\n",
    "# On normalise la matrice et on enelve les NaN\n",
    "m <- m/colSums(m)\n",
    "m[which(!is.finite(m))] <- 0\n",
    "\n",
    "# Lecture de la fonction de Page Rank\n",
    "# Si la division du vecteur de PR et le vecteur de nombre de lien sortant donne une valeur infini, on le met alors à 1 sur\n",
    "# sur la dimension de la matrice comme dit par M. DesMarais\n",
    "page <- function(mat,d,pr) {y <- pr/colSums(mat); y[which(!is.finite(y))] <- 1/dim(mat)[1]; (1-d)/dim(mat)[1] + (d * (mat %*% (y)))} "
   ]
  },
  {
   "cell_type": "code",
   "execution_count": 111,
   "metadata": {},
   "outputs": [],
   "source": [
    "# Lecture de la fonction pour trouver l'indice max\n",
    "max.nindex <- function(m, n=5) {\n",
    "    i <- order(m, decreasing=TRUE)\n",
    "    return(i[1:n])\n",
    "}"
   ]
  },
  {
   "cell_type": "code",
   "execution_count": 113,
   "metadata": {},
   "outputs": [
    {
     "data": {
      "text/html": [
       "<ol class=list-inline>\n",
       "\t<li>865</li>\n",
       "\t<li>443</li>\n",
       "\t<li>518</li>\n",
       "\t<li>158</li>\n",
       "\t<li>640</li>\n",
       "</ol>\n"
      ],
      "text/latex": [
       "\\begin{enumerate*}\n",
       "\\item 865\n",
       "\\item 443\n",
       "\\item 518\n",
       "\\item 158\n",
       "\\item 640\n",
       "\\end{enumerate*}\n"
      ],
      "text/markdown": [
       "1. 865\n",
       "2. 443\n",
       "3. 518\n",
       "4. 158\n",
       "5. 640\n",
       "\n",
       "\n"
      ],
      "text/plain": [
       "[1] 865 443 518 158 640"
      ]
     },
     "metadata": {},
     "output_type": "display_data"
    },
    {
     "data": {
      "text/html": [
       "<ol class=list-inline>\n",
       "\t<li>'500980'</li>\n",
       "\t<li>'259812'</li>\n",
       "\t<li>'297641'</li>\n",
       "\t<li>'14606'</li>\n",
       "\t<li>'356801'</li>\n",
       "</ol>\n"
      ],
      "text/latex": [
       "\\begin{enumerate*}\n",
       "\\item '500980'\n",
       "\\item '259812'\n",
       "\\item '297641'\n",
       "\\item '14606'\n",
       "\\item '356801'\n",
       "\\end{enumerate*}\n"
      ],
      "text/markdown": [
       "1. '500980'\n",
       "2. '259812'\n",
       "3. '297641'\n",
       "4. '14606'\n",
       "5. '356801'\n",
       "\n",
       "\n"
      ],
      "text/plain": [
       "[1] \"500980\" \"259812\" \"297641\" \"14606\"  \"356801\""
      ]
     },
     "metadata": {},
     "output_type": "display_data"
    }
   ],
   "source": [
    "# Algorithme de Page Rank pour les recommandations les plus populaires\n",
    "# On fait une nouvelle matrice avec S\n",
    "m.temp <- m\n",
    "\n",
    "d <- 0.85\n",
    "pr <- rep(1,dim(m.temp)[1])\n",
    "mm <- matrix(0, dim(m.temp)[1], 100)\n",
    "\n",
    "for (i in 1:100) {pr <- page(m.temp,d,pr) ; mm[,i] <- pr} \n",
    "max.nindex(mm[,10],5)\n",
    "# le numéro de l'article\n",
    "rownames(m.temp)[max.nindex(mm[,10],5)]"
   ]
  },
  {
   "cell_type": "markdown",
   "metadata": {},
   "source": [
    "En premier, nous avons appliquer l'algorithme de Page Rank sur l'ensemble de la matrice m. "
   ]
  },
  {
   "cell_type": "markdown",
   "metadata": {},
   "source": [
    "50098\n",
    "Title:\n",
    "FunState - An Internal Design Representation for Codesign\n",
    "\n",
    "Description:\n",
    "In this paper, an internal design model called FunState (functions driven by state machines) is presented that enables the representation of different types of system components and scheduling mechanisms using a mixture of functional programming and state machines. It is shown how properties relevant for scheduling and verification of specification models such as Boolean dataflow, cyclostatic dataflow, synchronous dataflow, marked graphs, and communicating state machines as well as Petri nets can be represented in the FunState model of computation. Examples of methods suited for FunState are described, such as scheduling and verification. They are based on the representation of the model's state transitions in form of a periodic graph. The feasibility of the novel approach is shown with an ATM switch example.\n",
    "\n",
    "Authors:\n",
    "\n",
    "Dirk Ziegenbein, Jurgen Teich, Karsten Strehl, Lothar Thiele, Matthias Gries, Rolf Ernst, Student Member,"
   ]
  },
  {
   "cell_type": "markdown",
   "metadata": {},
   "source": [
    "On voit que l'article n'est pas relier a notre article, il retourne seulement un article qui est tres cite et est cite par des articles tres cite aussi. En regardant sur google scholar, cet article est cite par 89articles ce qui est relativement beaucoup. Ce n'est pas un bonne recommandation comme on pouvait s'y attendre"
   ]
  },
  {
   "cell_type": "code",
   "execution_count": 80,
   "metadata": {},
   "outputs": [],
   "source": [
    "# S' \n",
    "\n",
    "#Calcul de la matice de transition Sprime afin de determiner les chemins transitifs entre les noeuds par la puissance de la matrice\n",
    "m2 <- m %*% m\n",
    "m.t <- t(m)\n"
   ]
  },
  {
   "cell_type": "code",
   "execution_count": 81,
   "metadata": {},
   "outputs": [],
   "source": [
    "# Déterminer les valeurs qui son associé au document recherché dans la matice S et S' les pages référencées par les pages de s\n",
    "new.indice <- m['422908',]>0 | m2['422908',]>0 | m.t['X422908',]>0\n",
    "# Construire une nouvelle matrice qui contient tout les documents qui sont un lien direct ou transitif vers le doucment recherché\n",
    "m.temp <- m+m2+m.t\n",
    "m3 <- m.temp[new.indice,new.indice]"
   ]
  },
  {
   "cell_type": "code",
   "execution_count": 82,
   "metadata": {},
   "outputs": [
    {
     "data": {
      "text/html": [
       "<ol class=list-inline>\n",
       "\t<li>29</li>\n",
       "\t<li>38</li>\n",
       "\t<li>42</li>\n",
       "\t<li>23</li>\n",
       "\t<li>17</li>\n",
       "</ol>\n"
      ],
      "text/latex": [
       "\\begin{enumerate*}\n",
       "\\item 29\n",
       "\\item 38\n",
       "\\item 42\n",
       "\\item 23\n",
       "\\item 17\n",
       "\\end{enumerate*}\n"
      ],
      "text/markdown": [
       "1. 29\n",
       "2. 38\n",
       "3. 42\n",
       "4. 23\n",
       "5. 17\n",
       "\n",
       "\n"
      ],
      "text/plain": [
       "[1] 29 38 42 23 17"
      ]
     },
     "metadata": {},
     "output_type": "display_data"
    },
    {
     "data": {
      "text/html": [
       "<ol class=list-inline>\n",
       "\t<li>'297641'</li>\n",
       "\t<li>'392298'</li>\n",
       "\t<li>'422908'</li>\n",
       "\t<li>'226359'</li>\n",
       "\t<li>'177173'</li>\n",
       "</ol>\n"
      ],
      "text/latex": [
       "\\begin{enumerate*}\n",
       "\\item '297641'\n",
       "\\item '392298'\n",
       "\\item '422908'\n",
       "\\item '226359'\n",
       "\\item '177173'\n",
       "\\end{enumerate*}\n"
      ],
      "text/markdown": [
       "1. '297641'\n",
       "2. '392298'\n",
       "3. '422908'\n",
       "4. '226359'\n",
       "5. '177173'\n",
       "\n",
       "\n"
      ],
      "text/plain": [
       "[1] \"297641\" \"392298\" \"422908\" \"226359\" \"177173\""
      ]
     },
     "metadata": {},
     "output_type": "display_data"
    }
   ],
   "source": [
    "# Appliquer PR sur la matrice issue de S et S' en itérant 10 fois \n",
    "d <- 0.85\n",
    "pr <- rep(1,dim(m3)[1])\n",
    "mm2 <- matrix(0, dim(m3)[1], 10)\n",
    "for (i in 1:10) {pr <- page(m3,d,pr) ; mm2[,i] <- pr} \n",
    "max.nindex(mm2[,10],5)\n",
    "\n",
    "rownames(m3)[max.nindex(mm2[,10],5)]"
   ]
  },
  {
   "cell_type": "markdown",
   "metadata": {},
   "source": [
    "297641\n",
    "Title:\n",
    "Automatic Verification of Real-time Systems with Discrete Probability Distributions\n",
    "\n",
    "Description:\n",
    "We consider the timed automata model of [3], which allows the analysis of realtimesystems expressed in terms of quantitative timing constraints. Traditional approachesto real-time system description express the model purely in terms of nondeterminism;however, it is often desirable to express the likelihood of the systemmaking certain transitions. In this paper, we present a model for real-time systemsaugmented with discrete probability distributions. Furthermore, two approaches tomodel checking are introduced for this model. The first uses the algorithm of [6]to provide a verification technique for our model against temporal logic propertieswhich can refer both to timing properties and probabilities. The second, generallymore efficient, technique concerns the verification of probabilistic, real-time reachabilityproperties.1 IntroductionThe proliferation of digital technology embedded into real-life environmentshas led to increased interest in computer systems expressed i...\n",
    "\n",
    "Authors:\n",
    "\n",
    "And Jeremy Sproston, Marta Kwiatkowska, Roberto Segala,"
   ]
  },
  {
   "cell_type": "markdown",
   "metadata": {},
   "source": [
    "Cet article semble etre une bonne recommandation, il parle de systeme temps reel comme notre article initial. Ce n'est pas le meme auteur principal ce qui est bon signe. Il est cite 336 ce qui lui donne une bonne credibilite. On pouvait s'attendre a une article populaire car c'est souvent le resultat du pagerank. "
   ]
  },
  {
   "cell_type": "markdown",
   "metadata": {},
   "source": [
    "# Question 2"
   ]
  },
  {
   "cell_type": "markdown",
   "metadata": {},
   "source": [
    "Comparez les résultats obtenus avec une approche basée sur la similarité des articles dans un espace vectoriel, à l'instar du calcul de similarité de l'approche item-item. La mesure de la similarité et la façon de l'utiliser pour estimer la pertinence d'articles similaires est laissé à votre discrétion."
   ]
  },
  {
   "cell_type": "markdown",
   "metadata": {},
   "source": [
    "Comme approche de similarite nous avons choisi le cosinus."
   ]
  },
  {
   "cell_type": "code",
   "execution_count": 147,
   "metadata": {},
   "outputs": [],
   "source": [
    "m = read.table(\"citeseer.rtable\")\n",
    "m <- as.matrix(m)\n",
    "m.sparse <- m\n",
    "ST_id<-grep(\"422908\", rownames(m))"
   ]
  },
  {
   "cell_type": "code",
   "execution_count": 148,
   "metadata": {},
   "outputs": [],
   "source": [
    "min.nindex <- function(m, n=5) {\n",
    "    i <- order(m)\n",
    "    return(i[1:n])\n",
    "}\n",
    "#Fonctions de cosinus \n",
    "cosinus.vm <- function(v,m) { \n",
    "    n <- sqrt(colSums(m^2)); \n",
    "    (v %*% m)/(n * sqrt(sum(v^2)))\n",
    "}"
   ]
  },
  {
   "cell_type": "code",
   "execution_count": 149,
   "metadata": {},
   "outputs": [],
   "source": [
    "# on calcule le cosinus \n",
    "wcos.st <- cosinus.vm(m.sparse[,ST_id], m.sparse)"
   ]
  },
  {
   "cell_type": "code",
   "execution_count": 150,
   "metadata": {},
   "outputs": [
    {
     "data": {
      "text/html": [
       "<ol class=list-inline>\n",
       "\t<li>1081</li>\n",
       "\t<li>858</li>\n",
       "\t<li>755</li>\n",
       "\t<li>889</li>\n",
       "\t<li>989</li>\n",
       "</ol>\n"
      ],
      "text/latex": [
       "\\begin{enumerate*}\n",
       "\\item 1081\n",
       "\\item 858\n",
       "\\item 755\n",
       "\\item 889\n",
       "\\item 989\n",
       "\\end{enumerate*}\n"
      ],
      "text/markdown": [
       "1. 1081\n",
       "2. 858\n",
       "3. 755\n",
       "4. 889\n",
       "5. 989\n",
       "\n",
       "\n"
      ],
      "text/plain": [
       "[1] 1081  858  755  889  989"
      ]
     },
     "metadata": {},
     "output_type": "display_data"
    },
    {
     "data": {
      "text/html": [
       "<ol class=list-inline>\n",
       "\t<li>'X96767'</li>\n",
       "\t<li>'X496938'</li>\n",
       "\t<li>'X425638'</li>\n",
       "\t<li>'X522428'</li>\n",
       "\t<li>'X7099'</li>\n",
       "</ol>\n"
      ],
      "text/latex": [
       "\\begin{enumerate*}\n",
       "\\item 'X96767'\n",
       "\\item 'X496938'\n",
       "\\item 'X425638'\n",
       "\\item 'X522428'\n",
       "\\item 'X7099'\n",
       "\\end{enumerate*}\n"
      ],
      "text/markdown": [
       "1. 'X96767'\n",
       "2. 'X496938'\n",
       "3. 'X425638'\n",
       "4. 'X522428'\n",
       "5. 'X7099'\n",
       "\n",
       "\n"
      ],
      "text/plain": [
       "[1] \"X96767\"  \"X496938\" \"X425638\" \"X522428\" \"X7099\"  "
      ]
     },
     "metadata": {},
     "output_type": "display_data"
    }
   ],
   "source": [
    "# Par approche item-item, le document X124 est recommandé avec la valeur de cosinus max\n",
    "max.nindex(wcos.st,6)[-1]\n",
    "colnames(wcos.st)[max.nindex(wcos.st,6)[-1]]"
   ]
  },
  {
   "cell_type": "markdown",
   "metadata": {},
   "source": [
    "96767\n",
    "Title:\n",
    "Model-Checking in Dense Real-time\n",
    "\n",
    "Description:\n",
    ". Model-checking is a method of verifying concurrent systems in whicha state-transition graph model of the system behavior is compared with a temporallogic formula. This paper extends model-checking for the branching-time logic CTLto the analysis of real-time systems, whose correctness depends on the magnitudesof the timing delays. For specifications, we extend the syntax of CTL to allowquantitative temporal operators such as 93!5 , meaning \"possibly within 5 timeunits.\" The formulas of the resulting logic, Timed CTL (TCTL), are interpretedover continuous computation trees , trees in which paths are maps from the set ofnonnegative reals to system states. To model finite-state systems we introduce timedgraphs --- state-transition graphs annotated with timing constraints.As our main result, we develop an algorithm for model-checking, for determiningthe truth of a TCTL-formula with respect to a timed graph. We argue that choosinga dense domain instead of a discrete domain to m...\n",
    "\n",
    "Authors:\n",
    "\n",
    "Costas Courcoubetis, David Dill, Rajeev Alur,"
   ]
  },
  {
   "cell_type": "markdown",
   "metadata": {},
   "source": [
    "On trouve ici une recommandation qui est tres pres de notre article de base. En effet, en comparant les titres:\n",
    "\n",
    "Model-Checking in Dense Real-time\n",
    "\n",
    "Symbolic Model Checking for Real-time Systems\n",
    "\n",
    "On s'attend a ce que l'article soit tres pertinant par rapport a notre article de base. Nous avons donc ici une bonne recommandation selon nous etant donne le fait que les auteurs ne soit pas les memes que notre article de base. L'approche cosinus semble une bonne approche de similarite."
   ]
  },
  {
   "cell_type": "markdown",
   "metadata": {},
   "source": [
    "Une vraie approche item-item est utilie pour voir la comparaison avec l'approche de distance"
   ]
  },
  {
   "cell_type": "code",
   "execution_count": 38,
   "metadata": {},
   "outputs": [
    {
     "data": {
      "text/html": [
       "<ol class=list-inline>\n",
       "\t<li>'64835'</li>\n",
       "\t<li>'70445'</li>\n",
       "\t<li>'177173'</li>\n",
       "\t<li>'17094'</li>\n",
       "\t<li>'426325'</li>\n",
       "</ol>\n"
      ],
      "text/latex": [
       "\\begin{enumerate*}\n",
       "\\item '64835'\n",
       "\\item '70445'\n",
       "\\item '177173'\n",
       "\\item '17094'\n",
       "\\item '426325'\n",
       "\\end{enumerate*}\n"
      ],
      "text/markdown": [
       "1. '64835'\n",
       "2. '70445'\n",
       "3. '177173'\n",
       "4. '17094'\n",
       "5. '426325'\n",
       "\n",
       "\n"
      ],
      "text/plain": [
       "[1] \"64835\"  \"70445\"  \"177173\" \"17094\"  \"426325\""
      ]
     },
     "metadata": {},
     "output_type": "display_data"
    }
   ],
   "source": [
    "voisins <- 21\n",
    "min.nindex <- function(m, n=5) {\n",
    "    i <- order(m)\n",
    "    return(i[1:n])\n",
    "}\n",
    "cosinus.vm <- function(v,m) { \n",
    "    n <- sqrt(colSums(m^2)); \n",
    "    (v %*% m)/(n * sqrt(sum(v^2)))\n",
    "}\n",
    "\n",
    "# moyenne des votes par utilisateur\n",
    "u.mean <-rowMeans(m.sparse)\n",
    "# on centre la matrice pour enlever le biais des utilisateurs qui votent toujours haut ou en bas\n",
    "m.center <- as.matrix((m.sparse-u.mean))\n",
    "\n",
    "# on remplace les 0 par NA\n",
    "m.center[m.center == 0] <- NA\n",
    "# on calcule la distance eucledienne entre les films\n",
    "distance.na.450.center <- sqrt(colSums((m.center[,ST_id] - m.center)^2, na.rm=T)) # ignore les valeurs manquantes\n",
    "\n",
    "\n",
    "# on calcule le nombre de votes communs des films avec star trek V\n",
    "votes.communs <- (colSums((m.sparse[,ST_id] * m.sparse) > 0))\n",
    "\n",
    "# on assigne la valeur Inf au film qui ont moins de 10 votes communs avec star trek V\n",
    "# on filtre donc pour avoir 10 ou plus votes communs\n",
    "distance.na.450.center[votes.communs<1] <- Inf\n",
    "\n",
    "# les films les plus proches sont choisis (les 20 plus proches)\n",
    "# on enlève Star Trek V encore une fois\n",
    "closest.euc <- min.nindex(distance.na.450.center, voisins)[-1]\n",
    "# on calcule le cosinus entre les films choisis et star trek V\n",
    "wcos.st <- cosinus.vm(m.sparse[,ST_id], m.sparse[,closest.euc])\n",
    "\n",
    "# les 20 films les plus communs\n",
    "idx<- closest.euc\n",
    "# on transpose m\n",
    "m.sparse.t <- m.sparse\n",
    "# la range de l item de star trek V\n",
    "v.item <- m.sparse[ST_id,]\n",
    "# la moyenne de l item de star trek V\n",
    "v_1 <-mean(v.item);\n",
    "# retourne la moyenne pour chacun des 20 films voisisns\n",
    "v_i <- apply(m.sparse[idx,], 1, FUN=mean)\n",
    "\n",
    "x<- as.matrix((m.sparse[idx,]))\n",
    "\n",
    "# retourne un liste ayant comme element chaque colonne de x\n",
    "new_x <-lapply(seq_len(ncol(x)), function(i) x[,i])\n",
    "# retourne un liste ayant comme element la moyenne des 20 films voisins\n",
    "new_y <-as.vector(lapply(seq_len(ncol(x)), function(i) v_i)) \n",
    "# retourne un liste ayant comme element les poids(cosinus) des 20 films voisins\n",
    "new_w <-as.vector(lapply(seq_len(ncol(x)), function(i) as.matrix(wcos.st)))\n",
    "#prend seulement ceux qui n'ont de cote \n",
    "# Fonction qui détermine la prédiction des valeurs manquants à l'aide de l'algorithme user-user ou item-item                        \n",
    "predict_func <- function(x,y,w) {\n",
    "    x.temp <- (x-y);\n",
    "    num <-  w %*%x.temp;\n",
    "    denum <- sum(abs(t(w)));\n",
    "    num/denum} \n",
    "\n",
    "c_prod <- mapply(predict_func ,new_x, new_y, new_w)\n",
    "\n",
    "                         \n",
    "# Ajoute la moeynne de l'item pour la note finale des items\n",
    "prediction <- v_1 + c_prod\n",
    "# on retourne les resultats qui n'avaient pas de prediction\n",
    "results <- prediction\n",
    "rownames(m)[max.nindex(results,6) ][-1]"
   ]
  },
  {
   "cell_type": "markdown",
   "metadata": {},
   "source": [
    "On remarque que les recommandation ne sont pas les memes que pour l'approche distance avec cosinus.\n",
    "On remarque aussi que sur les 5 des recommandations, 4 d'entre elles est du meme autour que notre article original. On s'attend a obtenir des recommandations avec les memes auteurs avec l'approche item item car les auteurs citent les memes references et se citent eux-meme."
   ]
  },
  {
   "cell_type": "markdown",
   "metadata": {},
   "source": [
    "# Question 3"
   ]
  },
  {
   "cell_type": "markdown",
   "metadata": {},
   "source": [
    "Utilisez une validation croisée pour évaluer la performance de l'approche de similarite. Vous pouvez vous inspirer de l'approche utilisée dans l'article suivant pour la méthodologie à adopter. "
   ]
  },
  {
   "cell_type": "markdown",
   "metadata": {},
   "source": [
    "Pour la validation croisee on validera sur la methode cosinus"
   ]
  },
  {
   "cell_type": "code",
   "execution_count": 2,
   "metadata": {},
   "outputs": [],
   "source": [
    "# Lecture de la fonction pour déterminer la matrice de Cosinus de m \n",
    "matrix.cos <- function(m) {\n",
    "    (m %*% t(m)) / ( t(matrix(sqrt(rowSums(m^2)),nrow(m),nrow(m)))\n",
    "                   * (sqrt(rowSums(m^2))) )\n",
    "}"
   ]
  },
  {
   "cell_type": "code",
   "execution_count": 25,
   "metadata": {},
   "outputs": [],
   "source": [
    "m <- read.table('citeseer.rtable')\n",
    "m <- as.matrix(m)\n",
    "# on met la diagonale proche de 0 pour evite les NaN\n",
    "diag(m)<- 0.0001\n",
    "# Trouver les indices des ariticles référencés \n",
    "indice <- which(m == max(m), arr.ind = TRUE);\n",
    "# Resample la matrice m \n",
    "set.seed(3)\n",
    "len <- 100\n",
    "indice<-indice[sample(len),]\n",
    "vrai <- rep(len,0)\n",
    "test <- rep(len,0)\n",
    "mat.cos <- matrix.cos(m)\n",
    "\n",
    "# pour des raisons de temps on mets a 100 le nombre de repetitions\n",
    "for (i in 1:dim(indice)[1]) {\n",
    "# On détermine les documents référencé dans la matrice\n",
    "temp <- m ;\n",
    "    \n",
    "# On met à 0 le docuement pour effectuer la validation croisée\n",
    "temp[indice[i,1],indice[i,2]] <- 0;\n",
    "# On calcul ensuite la valeur de cosinus pour les n documents référencés\n",
    "vrai[i]<-mat.cos[indice[i,1],indice[i,2]]\n",
    "test[i]<-matrix.cos(temp)[indice[i,1],indice[i,2]]\n",
    "    }\n",
    "\n",
    "\n",
    "# Par la méthode décrite avec 10 itérations, on met à 0 un article référencé on analyse les impacts sur les \n",
    "# recommandations de ce dernier. "
   ]
  },
  {
   "cell_type": "code",
   "execution_count": 114,
   "metadata": {},
   "outputs": [
    {
     "data": {
      "text/html": [
       "0.159893757657983"
      ],
      "text/latex": [
       "0.159893757657983"
      ],
      "text/markdown": [
       "0.159893757657983"
      ],
      "text/plain": [
       "[1] 0.1598938"
      ]
     },
     "metadata": {},
     "output_type": "display_data"
    }
   ],
   "source": [
    "mean(abs(vrai[vrai>0.05]-test[vrai>0.05]))"
   ]
  },
  {
   "cell_type": "code",
   "execution_count": 115,
   "metadata": {},
   "outputs": [
    {
     "data": {
      "text/html": [
       "0.765625"
      ],
      "text/latex": [
       "0.765625"
      ],
      "text/markdown": [
       "0.765625"
      ],
      "text/plain": [
       "[1] 0.765625"
      ]
     },
     "metadata": {},
     "output_type": "display_data"
    }
   ],
   "source": [
    "# rappel\n",
    "sum(test>0.05)/sum(vrai>0.05)\n",
    "\n"
   ]
  },
  {
   "cell_type": "markdown",
   "metadata": {},
   "source": [
    "Nous avons opter pour une validation croisee leave one etant donnee le peu de recommandation que nous avions.\n",
    "On enleve la recommandation par la suite on recalcule la valeur du cosinus pour cette article. On regarde uniquement les recommandations car le fait qu'un article ne soit pas recommander ne nous interesse pas dans le cadre de cette analyse(on regarde donc uniquement le rappel). \n",
    "\n",
    "On ne regarde pas la precison parce que ca ne ferait pas de sens de transformer une non reference en reference. On ne peut pas non plus le mettre a -1 car cela aura une influence sur le numerateur du cosinus qui pourra devenir negatif ce qui serait difficile a interpreter. \n",
    "\n",
    "On considere une recommandation quand son cosinus est plus grand que 0.05(arbitraire) pour qu'il ait un minimum de similarite  et aussi pour filtrer les effets de la diagonale, qui a ete mise a 0.0001, lors du calcul du cosinus. (de facon a eviter les NaN)\n",
    "\n",
    "On regarde par la suite le rappel des predictions.\n",
    "\n",
    "On voit qu'environ 25% des predictions sont perdus dans le processus de CV. Cela est a cause des situations ou il y a seulement un vote en commun entre les deux articles sont cosinus est alors mis a 0. \n",
    "\n",
    "On peut aussi calculer le MAE. Il est de 0.16 ce qui est assez elever etant donnee les cosinus qui vont jusqu'a environ 0.5.\n",
    "\n",
    "\n",
    "\n",
    "\n"
   ]
  },
  {
   "cell_type": "markdown",
   "metadata": {},
   "source": [
    "Une meilleur approche selon nous serait plutot de regarder le variation sur le rang des recommandations."
   ]
  },
  {
   "cell_type": "markdown",
   "metadata": {},
   "source": [
    "Comme lu dans le papier recommander pour le TP2 nous allons proceder a une validation croisee de la sorte.\n",
    "Le but de cet excercise est d'analyser les effets d'enlever une reference et de comparer les resultats sur le rang des autres articles referencés. On aurait pu repeter les memes procedure pour les autres articles, mais cela aurait demandé trop de temps de calcul, nous nous sommes donc concentrer sur notre article de départ et ses références pour regarder les varations de rang.\n",
    "\n",
    "Le rang correspond a la position de la recommandation. (position 1 = meilleure recommandation)"
   ]
  },
  {
   "cell_type": "code",
   "execution_count": 116,
   "metadata": {},
   "outputs": [],
   "source": [
    "cosinus.vm <- function(v,m) { \n",
    "    n <- sqrt(colSums(m^2)); \n",
    "    (v %*% m)/(n * sqrt(sum(v^2)))\n",
    "}"
   ]
  },
  {
   "cell_type": "code",
   "execution_count": 212,
   "metadata": {},
   "outputs": [],
   "source": [
    "# Par la méthode iétatif, on calcule les recommandations pour l'article 422908 en enlevant une référence à chaque fois \n",
    "ST_id <- 747\n",
    "m <- read.table('citeseer.rtable')\n",
    "m <- as.matrix(m)\n",
    "m.sparse<-m\n",
    "# calcul du cosinus original\n",
    "wcos.st <- cosinus.vm(m[,ST_id], m)\n",
    "# on utilise les indices du des refenreces de l'article\n",
    "indice <- which(m.sparse[,ST_id]==1, arr.ind = TRUE)\n",
    "len <- length(indice)\n",
    "\n",
    "rank.T <- matrix(, nrow = len, ncol = len)\n",
    "\n",
    "rank.N <- matrix(, nrow = len, ncol = len)\n",
    "\n",
    "# on repete pour chaque reference\n",
    "for (i in 1:len) {\n",
    "\n",
    "m.sparse<-m\n",
    "# on met une des references a 0\n",
    "m.sparse[indice[i],ST_id]<-0\n",
    "# on calcule le nouveau cosinus\n",
    "wcos.st2 <- cosinus.vm(m.sparse[,ST_id], m.sparse)\n",
    "    # on calcul le nouveau rang pour les autres refenreces\n",
    "    for (j in 1:len){\n",
    "        if (j!=i){\n",
    "# on calcule le rang de la vraie refenrece pour toutes les autres refenrences\n",
    "rank.T[i,j] <- which(colnames(wcos.st)[max.nindex(wcos.st,1090)]==colnames(m)[indice[j]],arr.ind=TRUE)\n",
    "# on calcule le nouveau rang de la refenrece pour toutes les autres refenrences\n",
    "rank.N[i,j] <- which(colnames(wcos.st2)[max.nindex(wcos.st2,1090)]==colnames(m)[indice[j]],arr.ind=TRUE)  \n",
    "            }\n",
    "        }\n",
    "    }\n"
   ]
  },
  {
   "cell_type": "code",
   "execution_count": 205,
   "metadata": {},
   "outputs": [
    {
     "data": {
      "text/html": [
       "<ol class=list-inline>\n",
       "\t<li>18</li>\n",
       "\t<li>80</li>\n",
       "\t<li>33</li>\n",
       "\t<li>11</li>\n",
       "\t<li>750</li>\n",
       "\t<li>17</li>\n",
       "\t<li>15</li>\n",
       "\t<li>34</li>\n",
       "\t<li>21</li>\n",
       "\t<li>29</li>\n",
       "\t<li>72</li>\n",
       "\t<li>20</li>\n",
       "\t<li>47</li>\n",
       "\t<li>88</li>\n",
       "\t<li>103</li>\n",
       "\t<li>309</li>\n",
       "\t<li>9</li>\n",
       "\t<li>49</li>\n",
       "\t<li>886</li>\n",
       "\t<li>50</li>\n",
       "\t<li>401</li>\n",
       "\t<li>7</li>\n",
       "\t<li>27</li>\n",
       "\t<li>42</li>\n",
       "\t<li>441</li>\n",
       "\t<li>962</li>\n",
       "\t<li>498</li>\n",
       "\t<li>500</li>\n",
       "\t<li>55</li>\n",
       "\t<li>63</li>\n",
       "\t<li>92</li>\n",
       "\t<li>3</li>\n",
       "\t<li>12</li>\n",
       "\t<li>22</li>\n",
       "\t<li>93</li>\n",
       "\t<li>8</li>\n",
       "\t<li>78</li>\n",
       "\t<li>6</li>\n",
       "\t<li>1058</li>\n",
       "\t<li>79</li>\n",
       "\t<li>58</li>\n",
       "\t<li>678</li>\n",
       "\t<li>1065</li>\n",
       "\t<li>23</li>\n",
       "\t<li>2</li>\n",
       "\t<li>708</li>\n",
       "</ol>\n"
      ],
      "text/latex": [
       "\\begin{enumerate*}\n",
       "\\item 18\n",
       "\\item 80\n",
       "\\item 33\n",
       "\\item 11\n",
       "\\item 750\n",
       "\\item 17\n",
       "\\item 15\n",
       "\\item 34\n",
       "\\item 21\n",
       "\\item 29\n",
       "\\item 72\n",
       "\\item 20\n",
       "\\item 47\n",
       "\\item 88\n",
       "\\item 103\n",
       "\\item 309\n",
       "\\item 9\n",
       "\\item 49\n",
       "\\item 886\n",
       "\\item 50\n",
       "\\item 401\n",
       "\\item 7\n",
       "\\item 27\n",
       "\\item 42\n",
       "\\item 441\n",
       "\\item 962\n",
       "\\item 498\n",
       "\\item 500\n",
       "\\item 55\n",
       "\\item 63\n",
       "\\item 92\n",
       "\\item 3\n",
       "\\item 12\n",
       "\\item 22\n",
       "\\item 93\n",
       "\\item 8\n",
       "\\item 78\n",
       "\\item 6\n",
       "\\item 1058\n",
       "\\item 79\n",
       "\\item 58\n",
       "\\item 678\n",
       "\\item 1065\n",
       "\\item 23\n",
       "\\item 2\n",
       "\\item 708\n",
       "\\end{enumerate*}\n"
      ],
      "text/markdown": [
       "1. 18\n",
       "2. 80\n",
       "3. 33\n",
       "4. 11\n",
       "5. 750\n",
       "6. 17\n",
       "7. 15\n",
       "8. 34\n",
       "9. 21\n",
       "10. 29\n",
       "11. 72\n",
       "12. 20\n",
       "13. 47\n",
       "14. 88\n",
       "15. 103\n",
       "16. 309\n",
       "17. 9\n",
       "18. 49\n",
       "19. 886\n",
       "20. 50\n",
       "21. 401\n",
       "22. 7\n",
       "23. 27\n",
       "24. 42\n",
       "25. 441\n",
       "26. 962\n",
       "27. 498\n",
       "28. 500\n",
       "29. 55\n",
       "30. 63\n",
       "31. 92\n",
       "32. 3\n",
       "33. 12\n",
       "34. 22\n",
       "35. 93\n",
       "36. 8\n",
       "37. 78\n",
       "38. 6\n",
       "39. 1058\n",
       "40. 79\n",
       "41. 58\n",
       "42. 678\n",
       "43. 1065\n",
       "44. 23\n",
       "45. 2\n",
       "46. 708\n",
       "\n",
       "\n"
      ],
      "text/plain": [
       " [1]   18   80   33   11  750   17   15   34   21   29   72   20   47   88  103\n",
       "[16]  309    9   49  886   50  401    7   27   42  441  962  498  500   55   63\n",
       "[31]   92    3   12   22   93    8   78    6 1058   79   58  678 1065   23    2\n",
       "[46]  708"
      ]
     },
     "metadata": {},
     "output_type": "display_data"
    }
   ],
   "source": [
    "article.rank <- rank.T[1,]\n",
    "article.rank[1]<- rank.T[2,1]\n",
    "# dans cette matrice on voit le rang inital de toutes les references de l'article de depart\n",
    "article.rank"
   ]
  },
  {
   "cell_type": "code",
   "execution_count": 206,
   "metadata": {},
   "outputs": [
    {
     "data": {
      "text/html": [
       "<table>\n",
       "<tbody>\n",
       "\t<tr><td>NA </td><td> 4 </td><td> 0 </td><td> 0 </td><td> 0 </td><td> 1 </td><td> 1 </td><td> 0 </td><td> 1 </td><td> 1 </td><td>...</td><td>  3</td><td> 1 </td><td> 0 </td><td>586</td><td>  1</td><td> 0 </td><td> 0 </td><td> 1 </td><td> 0 </td><td> 0 </td></tr>\n",
       "\t<tr><td> 3 </td><td>NA </td><td> 0 </td><td> 4 </td><td> 0 </td><td> 2 </td><td> 2 </td><td> 0 </td><td> 4 </td><td> 2 </td><td>...</td><td>  4</td><td> 5 </td><td> 0 </td><td>  4</td><td>  2</td><td> 0 </td><td> 0 </td><td> 6 </td><td> 0 </td><td> 0 </td></tr>\n",
       "\t<tr><td> 1 </td><td> 0 </td><td>NA </td><td> 3 </td><td> 0 </td><td> 1 </td><td> 2 </td><td> 0 </td><td> 0 </td><td> 0 </td><td>...</td><td>  0</td><td> 5 </td><td> 0 </td><td>  0</td><td>  0</td><td> 0 </td><td> 0 </td><td> 0 </td><td> 0 </td><td> 0 </td></tr>\n",
       "\t<tr><td> 0 </td><td> 0 </td><td> 0 </td><td>NA </td><td> 0 </td><td> 0 </td><td> 2 </td><td> 0 </td><td> 5 </td><td> 0 </td><td>...</td><td>  0</td><td> 1 </td><td> 0 </td><td>  0</td><td>  0</td><td> 0 </td><td> 0 </td><td> 1 </td><td> 0 </td><td> 0 </td></tr>\n",
       "\t<tr><td> 1 </td><td> 0 </td><td> 0 </td><td> 0 </td><td>NA </td><td> 1 </td><td> 0 </td><td> 0 </td><td> 1 </td><td> 1 </td><td>...</td><td>  0</td><td> 1 </td><td> 0 </td><td>  0</td><td>  0</td><td> 0 </td><td> 0 </td><td> 1 </td><td> 0 </td><td> 0 </td></tr>\n",
       "\t<tr><td> 1 </td><td> 0 </td><td> 0 </td><td> 7 </td><td> 0 </td><td>NA </td><td> 3 </td><td> 0 </td><td> 0 </td><td> 0 </td><td>...</td><td>  0</td><td> 2 </td><td> 0 </td><td>  0</td><td>  0</td><td> 0 </td><td> 0 </td><td> 1 </td><td> 0 </td><td> 0 </td></tr>\n",
       "\t<tr><td> 0 </td><td> 0 </td><td> 0 </td><td> 1 </td><td> 0 </td><td> 1 </td><td>NA </td><td> 0 </td><td> 5 </td><td> 0 </td><td>...</td><td>  0</td><td> 0 </td><td> 0 </td><td>  0</td><td>  0</td><td> 0 </td><td> 0 </td><td> 1 </td><td> 0 </td><td> 0 </td></tr>\n",
       "\t<tr><td> 1 </td><td> 2 </td><td> 0 </td><td> 1 </td><td> 0 </td><td> 1 </td><td> 1 </td><td>NA </td><td> 0 </td><td> 0 </td><td>...</td><td>  2</td><td> 0 </td><td> 0 </td><td>  2</td><td>  1</td><td> 0 </td><td> 0 </td><td> 0 </td><td> 0 </td><td> 0 </td></tr>\n",
       "\t<tr><td> 0 </td><td> 0 </td><td> 0 </td><td> 0 </td><td> 0 </td><td> 1 </td><td> 1 </td><td> 0 </td><td>NA </td><td> 0 </td><td>...</td><td>  0</td><td> 1 </td><td> 0 </td><td>  0</td><td>  1</td><td> 0 </td><td> 0 </td><td> 1 </td><td> 0 </td><td> 0 </td></tr>\n",
       "\t<tr><td> 3 </td><td> 2 </td><td> 1 </td><td> 1 </td><td> 0 </td><td> 4 </td><td> 1 </td><td> 1 </td><td> 2 </td><td>NA </td><td>...</td><td>  2</td><td> 0 </td><td> 0 </td><td>  2</td><td>  2</td><td> 0 </td><td> 0 </td><td> 1 </td><td> 0 </td><td> 0 </td></tr>\n",
       "\t<tr><td> 0 </td><td> 1 </td><td> 1 </td><td> 1 </td><td> 0 </td><td> 1 </td><td> 1 </td><td> 1 </td><td> 0 </td><td> 0 </td><td>...</td><td>  1</td><td> 7 </td><td> 0 </td><td>  1</td><td>  2</td><td> 0 </td><td> 0 </td><td> 1 </td><td> 0 </td><td> 0 </td></tr>\n",
       "\t<tr><td> 3 </td><td> 1 </td><td> 0 </td><td> 5 </td><td> 0 </td><td> 4 </td><td> 4 </td><td> 0 </td><td> 5 </td><td> 0 </td><td>...</td><td>  1</td><td> 2 </td><td> 0 </td><td>  1</td><td>  1</td><td> 0 </td><td> 0 </td><td> 1 </td><td> 0 </td><td> 0 </td></tr>\n",
       "\t<tr><td> 3 </td><td> 6 </td><td>45 </td><td> 3 </td><td> 0 </td><td> 3 </td><td> 8 </td><td>45 </td><td> 3 </td><td>25 </td><td>...</td><td>  6</td><td> 5 </td><td> 0 </td><td>  6</td><td>  7</td><td> 0 </td><td> 0 </td><td> 3 </td><td> 0 </td><td> 0 </td></tr>\n",
       "\t<tr><td> 4 </td><td> 0 </td><td> 1 </td><td> 0 </td><td> 0 </td><td> 2 </td><td> 9 </td><td> 1 </td><td> 3 </td><td> 0 </td><td>...</td><td>  0</td><td> 0 </td><td> 0 </td><td>  0</td><td>  1</td><td> 0 </td><td> 0 </td><td> 3 </td><td> 0 </td><td> 0 </td></tr>\n",
       "\t<tr><td> 1 </td><td> 0 </td><td> 0 </td><td> 0 </td><td> 0 </td><td> 1 </td><td> 0 </td><td> 0 </td><td> 1 </td><td> 1 </td><td>...</td><td>  0</td><td> 1 </td><td> 0 </td><td>  0</td><td>  0</td><td> 0 </td><td> 0 </td><td> 1 </td><td> 0 </td><td> 0 </td></tr>\n",
       "\t<tr><td> 1 </td><td> 2 </td><td> 1 </td><td> 1 </td><td> 0 </td><td> 1 </td><td> 1 </td><td> 1 </td><td> 0 </td><td>29 </td><td>...</td><td>  2</td><td> 0 </td><td> 0 </td><td>  2</td><td>  3</td><td> 0 </td><td> 0 </td><td> 0 </td><td> 0 </td><td> 0 </td></tr>\n",
       "\t<tr><td> 5 </td><td> 0 </td><td> 1 </td><td> 1 </td><td> 0 </td><td> 1 </td><td> 1 </td><td> 1 </td><td> 1 </td><td> 2 </td><td>...</td><td>  0</td><td> 6 </td><td> 0 </td><td>  0</td><td>  1</td><td> 0 </td><td> 0 </td><td> 5 </td><td> 0 </td><td> 0 </td></tr>\n",
       "\t<tr><td> 1 </td><td> 2 </td><td> 0 </td><td> 0 </td><td> 0 </td><td> 1 </td><td> 1 </td><td> 0 </td><td> 0 </td><td> 0 </td><td>...</td><td>  2</td><td> 0 </td><td> 0 </td><td>  2</td><td>  0</td><td> 0 </td><td> 0 </td><td> 0 </td><td> 0 </td><td> 0 </td></tr>\n",
       "\t<tr><td> 2 </td><td> 2 </td><td> 1 </td><td> 0 </td><td> 0 </td><td> 5 </td><td> 1 </td><td> 1 </td><td> 1 </td><td> 1 </td><td>...</td><td>  2</td><td> 0 </td><td> 0 </td><td>  2</td><td>  3</td><td> 0 </td><td> 0 </td><td> 0 </td><td> 0 </td><td> 0 </td></tr>\n",
       "\t<tr><td> 0 </td><td> 8 </td><td> 0 </td><td> 1 </td><td> 0 </td><td> 0 </td><td> 1 </td><td> 0 </td><td> 0 </td><td> 0 </td><td>...</td><td>  8</td><td> 0 </td><td> 0 </td><td>  8</td><td>  3</td><td> 0 </td><td> 0 </td><td> 0 </td><td> 0 </td><td> 0 </td></tr>\n",
       "\t<tr><td> 0 </td><td> 2 </td><td> 0 </td><td> 0 </td><td> 0 </td><td> 0 </td><td> 0 </td><td> 0 </td><td> 0 </td><td> 0 </td><td>...</td><td>  2</td><td> 0 </td><td> 0 </td><td>  2</td><td>  2</td><td> 1 </td><td> 0 </td><td> 0 </td><td> 0 </td><td> 0 </td></tr>\n",
       "\t<tr><td> 2 </td><td> 1 </td><td> 0 </td><td> 6 </td><td> 0 </td><td> 2 </td><td> 2 </td><td> 0 </td><td> 0 </td><td> 0 </td><td>...</td><td>  1</td><td> 1 </td><td> 0 </td><td>  1</td><td>  0</td><td> 0 </td><td> 0 </td><td> 0 </td><td> 0 </td><td> 0 </td></tr>\n",
       "\t<tr><td> 2 </td><td> 2 </td><td> 0 </td><td> 6 </td><td> 0 </td><td> 3 </td><td> 4 </td><td> 0 </td><td> 0 </td><td> 0 </td><td>...</td><td>  2</td><td> 0 </td><td> 0 </td><td>  2</td><td>  1</td><td> 0 </td><td> 0 </td><td> 1 </td><td> 0 </td><td> 0 </td></tr>\n",
       "\t<tr><td> 2 </td><td> 1 </td><td> 0 </td><td> 6 </td><td> 0 </td><td> 5 </td><td> 3 </td><td> 0 </td><td> 1 </td><td> 1 </td><td>...</td><td>  1</td><td> 1 </td><td> 0 </td><td>  1</td><td>  0</td><td> 0 </td><td> 0 </td><td> 6 </td><td> 0 </td><td> 0 </td></tr>\n",
       "\t<tr><td> 1 </td><td> 1 </td><td> 1 </td><td> 0 </td><td> 0 </td><td> 1 </td><td> 8 </td><td> 1 </td><td> 1 </td><td> 2 </td><td>...</td><td>  1</td><td> 0 </td><td> 0 </td><td>  1</td><td>  1</td><td> 0 </td><td> 0 </td><td> 5 </td><td> 0 </td><td> 0 </td></tr>\n",
       "\t<tr><td> 0 </td><td> 6 </td><td> 0 </td><td> 0 </td><td> 0 </td><td> 0 </td><td> 0 </td><td> 0 </td><td> 0 </td><td> 0 </td><td>...</td><td>  6</td><td> 0 </td><td> 0 </td><td>  6</td><td>  3</td><td> 0 </td><td> 0 </td><td> 0 </td><td> 0 </td><td> 0 </td></tr>\n",
       "\t<tr><td> 2 </td><td>24 </td><td> 0 </td><td> 6 </td><td> 0 </td><td> 4 </td><td> 3 </td><td> 0 </td><td> 2 </td><td> 0 </td><td>...</td><td>  4</td><td> 0 </td><td> 0 </td><td>  4</td><td>  4</td><td> 0 </td><td> 0 </td><td> 1 </td><td> 0 </td><td> 0 </td></tr>\n",
       "\t<tr><td> 0 </td><td> 1 </td><td> 2 </td><td> 0 </td><td> 0 </td><td> 0 </td><td> 0 </td><td> 2 </td><td> 1 </td><td> 1 </td><td>...</td><td>  1</td><td> 1 </td><td> 0 </td><td>  1</td><td>  2</td><td> 0 </td><td> 0 </td><td> 1 </td><td> 0 </td><td> 0 </td></tr>\n",
       "\t<tr><td> 2 </td><td> 3 </td><td> 0 </td><td> 0 </td><td> 0 </td><td> 2 </td><td> 9 </td><td> 0 </td><td> 4 </td><td> 0 </td><td>...</td><td>  3</td><td> 1 </td><td> 0 </td><td>  3</td><td>607</td><td> 0 </td><td> 0 </td><td> 2 </td><td> 0 </td><td> 0 </td></tr>\n",
       "\t<tr><td> 1 </td><td> 4 </td><td>47 </td><td> 2 </td><td> 0 </td><td> 1 </td><td> 2 </td><td> 2 </td><td> 0 </td><td> 1 </td><td>...</td><td>566</td><td> 5 </td><td> 0 </td><td>  4</td><td>  3</td><td> 0 </td><td> 0 </td><td> 0 </td><td> 0 </td><td> 0 </td></tr>\n",
       "\t<tr><td> 0 </td><td> 0 </td><td> 0 </td><td> 0 </td><td> 0 </td><td> 1 </td><td> 1 </td><td> 0 </td><td> 0 </td><td> 0 </td><td>...</td><td>  0</td><td> 0 </td><td> 0 </td><td>  0</td><td>  0</td><td> 0 </td><td> 0 </td><td> 0 </td><td> 0 </td><td> 0 </td></tr>\n",
       "\t<tr><td> 1 </td><td> 0 </td><td> 0 </td><td> 1 </td><td> 0 </td><td> 1 </td><td> 2 </td><td> 0 </td><td> 0 </td><td> 0 </td><td>...</td><td>  0</td><td> 1 </td><td> 0 </td><td>  0</td><td>  0</td><td> 0 </td><td> 0 </td><td> 0 </td><td> 0 </td><td> 0 </td></tr>\n",
       "\t<tr><td> 0 </td><td> 0 </td><td> 0 </td><td> 0 </td><td> 0 </td><td> 1 </td><td> 1 </td><td> 0 </td><td> 0 </td><td> 1 </td><td>...</td><td>  0</td><td> 1 </td><td> 0 </td><td>  0</td><td>  0</td><td> 0 </td><td> 0 </td><td> 0 </td><td> 0 </td><td> 0 </td></tr>\n",
       "\t<tr><td> 0 </td><td> 1 </td><td> 0 </td><td> 0 </td><td> 0 </td><td> 1 </td><td> 1 </td><td> 0 </td><td> 0 </td><td> 1 </td><td>...</td><td>  1</td><td> 0 </td><td> 0 </td><td>  1</td><td>  0</td><td> 0 </td><td> 0 </td><td> 0 </td><td> 0 </td><td> 0 </td></tr>\n",
       "\t<tr><td> 5 </td><td> 1 </td><td> 1 </td><td> 1 </td><td> 0 </td><td> 1 </td><td> 1 </td><td> 1 </td><td> 2 </td><td>31 </td><td>...</td><td>  1</td><td> 6 </td><td> 0 </td><td>  1</td><td>  1</td><td> 0 </td><td> 0 </td><td> 2 </td><td> 0 </td><td> 0 </td></tr>\n",
       "\t<tr><td> 0 </td><td> 0 </td><td> 0 </td><td> 0 </td><td> 0 </td><td> 0 </td><td> 0 </td><td> 0 </td><td> 1 </td><td> 0 </td><td>...</td><td>  0</td><td> 0 </td><td> 0 </td><td>  0</td><td>  0</td><td> 0 </td><td> 0 </td><td> 1 </td><td> 0 </td><td> 0 </td></tr>\n",
       "\t<tr><td> 0 </td><td> 1 </td><td> 1 </td><td> 2 </td><td> 0 </td><td> 0 </td><td> 1 </td><td> 1 </td><td> 0 </td><td> 1 </td><td>...</td><td> NA</td><td> 6 </td><td> 0 </td><td>  1</td><td>  0</td><td> 0 </td><td> 0 </td><td> 0 </td><td> 0 </td><td> 0 </td></tr>\n",
       "\t<tr><td> 0 </td><td> 0 </td><td> 1 </td><td> 0 </td><td> 0 </td><td> 0 </td><td> 0 </td><td> 1 </td><td> 1 </td><td> 0 </td><td>...</td><td>  0</td><td>NA </td><td> 0 </td><td>  0</td><td>  1</td><td> 0 </td><td> 0 </td><td> 1 </td><td> 0 </td><td> 0 </td></tr>\n",
       "\t<tr><td> 2 </td><td>24 </td><td> 0 </td><td> 1 </td><td> 0 </td><td> 4 </td><td> 2 </td><td>47 </td><td> 2 </td><td> 0 </td><td>...</td><td>  2</td><td> 0 </td><td>NA </td><td>  2</td><td>  1</td><td> 0 </td><td> 0 </td><td> 1 </td><td> 0 </td><td> 0 </td></tr>\n",
       "\t<tr><td> 1 </td><td> 3 </td><td> 0 </td><td> 0 </td><td> 0 </td><td> 1 </td><td> 1 </td><td> 0 </td><td> 1 </td><td> 1 </td><td>...</td><td>  3</td><td> 1 </td><td> 0 </td><td> NA</td><td>  1</td><td> 0 </td><td> 0 </td><td> 1 </td><td> 0 </td><td> 0 </td></tr>\n",
       "\t<tr><td> 0 </td><td> 0 </td><td> 1 </td><td> 0 </td><td> 0 </td><td> 0 </td><td> 0 </td><td> 1 </td><td> 0 </td><td> 1 </td><td>...</td><td>  0</td><td> 1 </td><td> 0 </td><td>  0</td><td> NA</td><td> 0 </td><td> 0 </td><td> 6 </td><td> 0 </td><td> 0 </td></tr>\n",
       "\t<tr><td> 1 </td><td> 1 </td><td> 1 </td><td> 1 </td><td> 0 </td><td> 5 </td><td> 0 </td><td> 1 </td><td> 1 </td><td> 0 </td><td>...</td><td>  1</td><td> 7 </td><td> 0 </td><td>  1</td><td>  2</td><td>NA </td><td> 0 </td><td> 0 </td><td> 0 </td><td> 0 </td></tr>\n",
       "\t<tr><td> 6 </td><td> 1 </td><td> 2 </td><td> 0 </td><td> 0 </td><td> 0 </td><td> 0 </td><td> 2 </td><td> 1 </td><td> 1 </td><td>...</td><td>  1</td><td> 0 </td><td> 0 </td><td>  1</td><td>  3</td><td> 0 </td><td>NA </td><td> 1 </td><td> 0 </td><td> 0 </td></tr>\n",
       "\t<tr><td> 1 </td><td> 0 </td><td> 0 </td><td> 1 </td><td> 0 </td><td> 2 </td><td> 3 </td><td> 0 </td><td> 5 </td><td> 0 </td><td>...</td><td>  0</td><td> 0 </td><td> 0 </td><td>  0</td><td>  1</td><td> 0 </td><td> 0 </td><td>NA </td><td> 0 </td><td> 0 </td></tr>\n",
       "\t<tr><td> 0 </td><td> 0 </td><td> 0 </td><td> 0 </td><td> 0 </td><td> 1 </td><td> 1 </td><td> 0 </td><td> 0 </td><td> 1 </td><td>...</td><td>  0</td><td> 1 </td><td> 0 </td><td>  0</td><td>  0</td><td> 0 </td><td> 0 </td><td> 1 </td><td>NA </td><td> 0 </td></tr>\n",
       "\t<tr><td> 0 </td><td> 0 </td><td> 0 </td><td> 0 </td><td> 0 </td><td> 0 </td><td> 0 </td><td> 0 </td><td> 5 </td><td> 0 </td><td>...</td><td>  0</td><td> 0 </td><td> 0 </td><td>  0</td><td>  0</td><td> 0 </td><td> 0 </td><td> 1 </td><td> 0 </td><td>NA </td></tr>\n",
       "</tbody>\n",
       "</table>\n"
      ],
      "text/latex": [
       "\\begin{tabular}{llllllllllllllllllllllllllllllllllllllllllllll}\n",
       "\t NA  &  4  &  0  &  0  &  0  &  1  &  1  &  0  &  1  &  1  & ... &   3 &  1  &  0  & 586 &   1 &  0  &  0  &  1  &  0  &  0 \\\\\n",
       "\t  3  & NA  &  0  &  4  &  0  &  2  &  2  &  0  &  4  &  2  & ... &   4 &  5  &  0  &   4 &   2 &  0  &  0  &  6  &  0  &  0 \\\\\n",
       "\t  1  &  0  & NA  &  3  &  0  &  1  &  2  &  0  &  0  &  0  & ... &   0 &  5  &  0  &   0 &   0 &  0  &  0  &  0  &  0  &  0 \\\\\n",
       "\t  0  &  0  &  0  & NA  &  0  &  0  &  2  &  0  &  5  &  0  & ... &   0 &  1  &  0  &   0 &   0 &  0  &  0  &  1  &  0  &  0 \\\\\n",
       "\t  1  &  0  &  0  &  0  & NA  &  1  &  0  &  0  &  1  &  1  & ... &   0 &  1  &  0  &   0 &   0 &  0  &  0  &  1  &  0  &  0 \\\\\n",
       "\t  1  &  0  &  0  &  7  &  0  & NA  &  3  &  0  &  0  &  0  & ... &   0 &  2  &  0  &   0 &   0 &  0  &  0  &  1  &  0  &  0 \\\\\n",
       "\t  0  &  0  &  0  &  1  &  0  &  1  & NA  &  0  &  5  &  0  & ... &   0 &  0  &  0  &   0 &   0 &  0  &  0  &  1  &  0  &  0 \\\\\n",
       "\t  1  &  2  &  0  &  1  &  0  &  1  &  1  & NA  &  0  &  0  & ... &   2 &  0  &  0  &   2 &   1 &  0  &  0  &  0  &  0  &  0 \\\\\n",
       "\t  0  &  0  &  0  &  0  &  0  &  1  &  1  &  0  & NA  &  0  & ... &   0 &  1  &  0  &   0 &   1 &  0  &  0  &  1  &  0  &  0 \\\\\n",
       "\t  3  &  2  &  1  &  1  &  0  &  4  &  1  &  1  &  2  & NA  & ... &   2 &  0  &  0  &   2 &   2 &  0  &  0  &  1  &  0  &  0 \\\\\n",
       "\t  0  &  1  &  1  &  1  &  0  &  1  &  1  &  1  &  0  &  0  & ... &   1 &  7  &  0  &   1 &   2 &  0  &  0  &  1  &  0  &  0 \\\\\n",
       "\t  3  &  1  &  0  &  5  &  0  &  4  &  4  &  0  &  5  &  0  & ... &   1 &  2  &  0  &   1 &   1 &  0  &  0  &  1  &  0  &  0 \\\\\n",
       "\t  3  &  6  & 45  &  3  &  0  &  3  &  8  & 45  &  3  & 25  & ... &   6 &  5  &  0  &   6 &   7 &  0  &  0  &  3  &  0  &  0 \\\\\n",
       "\t  4  &  0  &  1  &  0  &  0  &  2  &  9  &  1  &  3  &  0  & ... &   0 &  0  &  0  &   0 &   1 &  0  &  0  &  3  &  0  &  0 \\\\\n",
       "\t  1  &  0  &  0  &  0  &  0  &  1  &  0  &  0  &  1  &  1  & ... &   0 &  1  &  0  &   0 &   0 &  0  &  0  &  1  &  0  &  0 \\\\\n",
       "\t  1  &  2  &  1  &  1  &  0  &  1  &  1  &  1  &  0  & 29  & ... &   2 &  0  &  0  &   2 &   3 &  0  &  0  &  0  &  0  &  0 \\\\\n",
       "\t  5  &  0  &  1  &  1  &  0  &  1  &  1  &  1  &  1  &  2  & ... &   0 &  6  &  0  &   0 &   1 &  0  &  0  &  5  &  0  &  0 \\\\\n",
       "\t  1  &  2  &  0  &  0  &  0  &  1  &  1  &  0  &  0  &  0  & ... &   2 &  0  &  0  &   2 &   0 &  0  &  0  &  0  &  0  &  0 \\\\\n",
       "\t  2  &  2  &  1  &  0  &  0  &  5  &  1  &  1  &  1  &  1  & ... &   2 &  0  &  0  &   2 &   3 &  0  &  0  &  0  &  0  &  0 \\\\\n",
       "\t  0  &  8  &  0  &  1  &  0  &  0  &  1  &  0  &  0  &  0  & ... &   8 &  0  &  0  &   8 &   3 &  0  &  0  &  0  &  0  &  0 \\\\\n",
       "\t  0  &  2  &  0  &  0  &  0  &  0  &  0  &  0  &  0  &  0  & ... &   2 &  0  &  0  &   2 &   2 &  1  &  0  &  0  &  0  &  0 \\\\\n",
       "\t  2  &  1  &  0  &  6  &  0  &  2  &  2  &  0  &  0  &  0  & ... &   1 &  1  &  0  &   1 &   0 &  0  &  0  &  0  &  0  &  0 \\\\\n",
       "\t  2  &  2  &  0  &  6  &  0  &  3  &  4  &  0  &  0  &  0  & ... &   2 &  0  &  0  &   2 &   1 &  0  &  0  &  1  &  0  &  0 \\\\\n",
       "\t  2  &  1  &  0  &  6  &  0  &  5  &  3  &  0  &  1  &  1  & ... &   1 &  1  &  0  &   1 &   0 &  0  &  0  &  6  &  0  &  0 \\\\\n",
       "\t  1  &  1  &  1  &  0  &  0  &  1  &  8  &  1  &  1  &  2  & ... &   1 &  0  &  0  &   1 &   1 &  0  &  0  &  5  &  0  &  0 \\\\\n",
       "\t  0  &  6  &  0  &  0  &  0  &  0  &  0  &  0  &  0  &  0  & ... &   6 &  0  &  0  &   6 &   3 &  0  &  0  &  0  &  0  &  0 \\\\\n",
       "\t  2  & 24  &  0  &  6  &  0  &  4  &  3  &  0  &  2  &  0  & ... &   4 &  0  &  0  &   4 &   4 &  0  &  0  &  1  &  0  &  0 \\\\\n",
       "\t  0  &  1  &  2  &  0  &  0  &  0  &  0  &  2  &  1  &  1  & ... &   1 &  1  &  0  &   1 &   2 &  0  &  0  &  1  &  0  &  0 \\\\\n",
       "\t  2  &  3  &  0  &  0  &  0  &  2  &  9  &  0  &  4  &  0  & ... &   3 &  1  &  0  &   3 & 607 &  0  &  0  &  2  &  0  &  0 \\\\\n",
       "\t  1  &  4  & 47  &  2  &  0  &  1  &  2  &  2  &  0  &  1  & ... & 566 &  5  &  0  &   4 &   3 &  0  &  0  &  0  &  0  &  0 \\\\\n",
       "\t  0  &  0  &  0  &  0  &  0  &  1  &  1  &  0  &  0  &  0  & ... &   0 &  0  &  0  &   0 &   0 &  0  &  0  &  0  &  0  &  0 \\\\\n",
       "\t  1  &  0  &  0  &  1  &  0  &  1  &  2  &  0  &  0  &  0  & ... &   0 &  1  &  0  &   0 &   0 &  0  &  0  &  0  &  0  &  0 \\\\\n",
       "\t  0  &  0  &  0  &  0  &  0  &  1  &  1  &  0  &  0  &  1  & ... &   0 &  1  &  0  &   0 &   0 &  0  &  0  &  0  &  0  &  0 \\\\\n",
       "\t  0  &  1  &  0  &  0  &  0  &  1  &  1  &  0  &  0  &  1  & ... &   1 &  0  &  0  &   1 &   0 &  0  &  0  &  0  &  0  &  0 \\\\\n",
       "\t  5  &  1  &  1  &  1  &  0  &  1  &  1  &  1  &  2  & 31  & ... &   1 &  6  &  0  &   1 &   1 &  0  &  0  &  2  &  0  &  0 \\\\\n",
       "\t  0  &  0  &  0  &  0  &  0  &  0  &  0  &  0  &  1  &  0  & ... &   0 &  0  &  0  &   0 &   0 &  0  &  0  &  1  &  0  &  0 \\\\\n",
       "\t  0  &  1  &  1  &  2  &  0  &  0  &  1  &  1  &  0  &  1  & ... &  NA &  6  &  0  &   1 &   0 &  0  &  0  &  0  &  0  &  0 \\\\\n",
       "\t  0  &  0  &  1  &  0  &  0  &  0  &  0  &  1  &  1  &  0  & ... &   0 & NA  &  0  &   0 &   1 &  0  &  0  &  1  &  0  &  0 \\\\\n",
       "\t  2  & 24  &  0  &  1  &  0  &  4  &  2  & 47  &  2  &  0  & ... &   2 &  0  & NA  &   2 &   1 &  0  &  0  &  1  &  0  &  0 \\\\\n",
       "\t  1  &  3  &  0  &  0  &  0  &  1  &  1  &  0  &  1  &  1  & ... &   3 &  1  &  0  &  NA &   1 &  0  &  0  &  1  &  0  &  0 \\\\\n",
       "\t  0  &  0  &  1  &  0  &  0  &  0  &  0  &  1  &  0  &  1  & ... &   0 &  1  &  0  &   0 &  NA &  0  &  0  &  6  &  0  &  0 \\\\\n",
       "\t  1  &  1  &  1  &  1  &  0  &  5  &  0  &  1  &  1  &  0  & ... &   1 &  7  &  0  &   1 &   2 & NA  &  0  &  0  &  0  &  0 \\\\\n",
       "\t  6  &  1  &  2  &  0  &  0  &  0  &  0  &  2  &  1  &  1  & ... &   1 &  0  &  0  &   1 &   3 &  0  & NA  &  1  &  0  &  0 \\\\\n",
       "\t  1  &  0  &  0  &  1  &  0  &  2  &  3  &  0  &  5  &  0  & ... &   0 &  0  &  0  &   0 &   1 &  0  &  0  & NA  &  0  &  0 \\\\\n",
       "\t  0  &  0  &  0  &  0  &  0  &  1  &  1  &  0  &  0  &  1  & ... &   0 &  1  &  0  &   0 &   0 &  0  &  0  &  1  & NA  &  0 \\\\\n",
       "\t  0  &  0  &  0  &  0  &  0  &  0  &  0  &  0  &  5  &  0  & ... &   0 &  0  &  0  &   0 &   0 &  0  &  0  &  1  &  0  & NA \\\\\n",
       "\\end{tabular}\n"
      ],
      "text/markdown": [
       "\n",
       "| NA  |  4  |  0  |  0  |  0  |  1  |  1  |  0  |  1  |  1  | ... |   3 |  1  |  0  | 586 |   1 |  0  |  0  |  1  |  0  |  0  | \n",
       "|  3  | NA  |  0  |  4  |  0  |  2  |  2  |  0  |  4  |  2  | ... |   4 |  5  |  0  |   4 |   2 |  0  |  0  |  6  |  0  |  0  | \n",
       "|  1  |  0  | NA  |  3  |  0  |  1  |  2  |  0  |  0  |  0  | ... |   0 |  5  |  0  |   0 |   0 |  0  |  0  |  0  |  0  |  0  | \n",
       "|  0  |  0  |  0  | NA  |  0  |  0  |  2  |  0  |  5  |  0  | ... |   0 |  1  |  0  |   0 |   0 |  0  |  0  |  1  |  0  |  0  | \n",
       "|  1  |  0  |  0  |  0  | NA  |  1  |  0  |  0  |  1  |  1  | ... |   0 |  1  |  0  |   0 |   0 |  0  |  0  |  1  |  0  |  0  | \n",
       "|  1  |  0  |  0  |  7  |  0  | NA  |  3  |  0  |  0  |  0  | ... |   0 |  2  |  0  |   0 |   0 |  0  |  0  |  1  |  0  |  0  | \n",
       "|  0  |  0  |  0  |  1  |  0  |  1  | NA  |  0  |  5  |  0  | ... |   0 |  0  |  0  |   0 |   0 |  0  |  0  |  1  |  0  |  0  | \n",
       "|  1  |  2  |  0  |  1  |  0  |  1  |  1  | NA  |  0  |  0  | ... |   2 |  0  |  0  |   2 |   1 |  0  |  0  |  0  |  0  |  0  | \n",
       "|  0  |  0  |  0  |  0  |  0  |  1  |  1  |  0  | NA  |  0  | ... |   0 |  1  |  0  |   0 |   1 |  0  |  0  |  1  |  0  |  0  | \n",
       "|  3  |  2  |  1  |  1  |  0  |  4  |  1  |  1  |  2  | NA  | ... |   2 |  0  |  0  |   2 |   2 |  0  |  0  |  1  |  0  |  0  | \n",
       "|  0  |  1  |  1  |  1  |  0  |  1  |  1  |  1  |  0  |  0  | ... |   1 |  7  |  0  |   1 |   2 |  0  |  0  |  1  |  0  |  0  | \n",
       "|  3  |  1  |  0  |  5  |  0  |  4  |  4  |  0  |  5  |  0  | ... |   1 |  2  |  0  |   1 |   1 |  0  |  0  |  1  |  0  |  0  | \n",
       "|  3  |  6  | 45  |  3  |  0  |  3  |  8  | 45  |  3  | 25  | ... |   6 |  5  |  0  |   6 |   7 |  0  |  0  |  3  |  0  |  0  | \n",
       "|  4  |  0  |  1  |  0  |  0  |  2  |  9  |  1  |  3  |  0  | ... |   0 |  0  |  0  |   0 |   1 |  0  |  0  |  3  |  0  |  0  | \n",
       "|  1  |  0  |  0  |  0  |  0  |  1  |  0  |  0  |  1  |  1  | ... |   0 |  1  |  0  |   0 |   0 |  0  |  0  |  1  |  0  |  0  | \n",
       "|  1  |  2  |  1  |  1  |  0  |  1  |  1  |  1  |  0  | 29  | ... |   2 |  0  |  0  |   2 |   3 |  0  |  0  |  0  |  0  |  0  | \n",
       "|  5  |  0  |  1  |  1  |  0  |  1  |  1  |  1  |  1  |  2  | ... |   0 |  6  |  0  |   0 |   1 |  0  |  0  |  5  |  0  |  0  | \n",
       "|  1  |  2  |  0  |  0  |  0  |  1  |  1  |  0  |  0  |  0  | ... |   2 |  0  |  0  |   2 |   0 |  0  |  0  |  0  |  0  |  0  | \n",
       "|  2  |  2  |  1  |  0  |  0  |  5  |  1  |  1  |  1  |  1  | ... |   2 |  0  |  0  |   2 |   3 |  0  |  0  |  0  |  0  |  0  | \n",
       "|  0  |  8  |  0  |  1  |  0  |  0  |  1  |  0  |  0  |  0  | ... |   8 |  0  |  0  |   8 |   3 |  0  |  0  |  0  |  0  |  0  | \n",
       "|  0  |  2  |  0  |  0  |  0  |  0  |  0  |  0  |  0  |  0  | ... |   2 |  0  |  0  |   2 |   2 |  1  |  0  |  0  |  0  |  0  | \n",
       "|  2  |  1  |  0  |  6  |  0  |  2  |  2  |  0  |  0  |  0  | ... |   1 |  1  |  0  |   1 |   0 |  0  |  0  |  0  |  0  |  0  | \n",
       "|  2  |  2  |  0  |  6  |  0  |  3  |  4  |  0  |  0  |  0  | ... |   2 |  0  |  0  |   2 |   1 |  0  |  0  |  1  |  0  |  0  | \n",
       "|  2  |  1  |  0  |  6  |  0  |  5  |  3  |  0  |  1  |  1  | ... |   1 |  1  |  0  |   1 |   0 |  0  |  0  |  6  |  0  |  0  | \n",
       "|  1  |  1  |  1  |  0  |  0  |  1  |  8  |  1  |  1  |  2  | ... |   1 |  0  |  0  |   1 |   1 |  0  |  0  |  5  |  0  |  0  | \n",
       "|  0  |  6  |  0  |  0  |  0  |  0  |  0  |  0  |  0  |  0  | ... |   6 |  0  |  0  |   6 |   3 |  0  |  0  |  0  |  0  |  0  | \n",
       "|  2  | 24  |  0  |  6  |  0  |  4  |  3  |  0  |  2  |  0  | ... |   4 |  0  |  0  |   4 |   4 |  0  |  0  |  1  |  0  |  0  | \n",
       "|  0  |  1  |  2  |  0  |  0  |  0  |  0  |  2  |  1  |  1  | ... |   1 |  1  |  0  |   1 |   2 |  0  |  0  |  1  |  0  |  0  | \n",
       "|  2  |  3  |  0  |  0  |  0  |  2  |  9  |  0  |  4  |  0  | ... |   3 |  1  |  0  |   3 | 607 |  0  |  0  |  2  |  0  |  0  | \n",
       "|  1  |  4  | 47  |  2  |  0  |  1  |  2  |  2  |  0  |  1  | ... | 566 |  5  |  0  |   4 |   3 |  0  |  0  |  0  |  0  |  0  | \n",
       "|  0  |  0  |  0  |  0  |  0  |  1  |  1  |  0  |  0  |  0  | ... |   0 |  0  |  0  |   0 |   0 |  0  |  0  |  0  |  0  |  0  | \n",
       "|  1  |  0  |  0  |  1  |  0  |  1  |  2  |  0  |  0  |  0  | ... |   0 |  1  |  0  |   0 |   0 |  0  |  0  |  0  |  0  |  0  | \n",
       "|  0  |  0  |  0  |  0  |  0  |  1  |  1  |  0  |  0  |  1  | ... |   0 |  1  |  0  |   0 |   0 |  0  |  0  |  0  |  0  |  0  | \n",
       "|  0  |  1  |  0  |  0  |  0  |  1  |  1  |  0  |  0  |  1  | ... |   1 |  0  |  0  |   1 |   0 |  0  |  0  |  0  |  0  |  0  | \n",
       "|  5  |  1  |  1  |  1  |  0  |  1  |  1  |  1  |  2  | 31  | ... |   1 |  6  |  0  |   1 |   1 |  0  |  0  |  2  |  0  |  0  | \n",
       "|  0  |  0  |  0  |  0  |  0  |  0  |  0  |  0  |  1  |  0  | ... |   0 |  0  |  0  |   0 |   0 |  0  |  0  |  1  |  0  |  0  | \n",
       "|  0  |  1  |  1  |  2  |  0  |  0  |  1  |  1  |  0  |  1  | ... |  NA |  6  |  0  |   1 |   0 |  0  |  0  |  0  |  0  |  0  | \n",
       "|  0  |  0  |  1  |  0  |  0  |  0  |  0  |  1  |  1  |  0  | ... |   0 | NA  |  0  |   0 |   1 |  0  |  0  |  1  |  0  |  0  | \n",
       "|  2  | 24  |  0  |  1  |  0  |  4  |  2  | 47  |  2  |  0  | ... |   2 |  0  | NA  |   2 |   1 |  0  |  0  |  1  |  0  |  0  | \n",
       "|  1  |  3  |  0  |  0  |  0  |  1  |  1  |  0  |  1  |  1  | ... |   3 |  1  |  0  |  NA |   1 |  0  |  0  |  1  |  0  |  0  | \n",
       "|  0  |  0  |  1  |  0  |  0  |  0  |  0  |  1  |  0  |  1  | ... |   0 |  1  |  0  |   0 |  NA |  0  |  0  |  6  |  0  |  0  | \n",
       "|  1  |  1  |  1  |  1  |  0  |  5  |  0  |  1  |  1  |  0  | ... |   1 |  7  |  0  |   1 |   2 | NA  |  0  |  0  |  0  |  0  | \n",
       "|  6  |  1  |  2  |  0  |  0  |  0  |  0  |  2  |  1  |  1  | ... |   1 |  0  |  0  |   1 |   3 |  0  | NA  |  1  |  0  |  0  | \n",
       "|  1  |  0  |  0  |  1  |  0  |  2  |  3  |  0  |  5  |  0  | ... |   0 |  0  |  0  |   0 |   1 |  0  |  0  | NA  |  0  |  0  | \n",
       "|  0  |  0  |  0  |  0  |  0  |  1  |  1  |  0  |  0  |  1  | ... |   0 |  1  |  0  |   0 |   0 |  0  |  0  |  1  | NA  |  0  | \n",
       "|  0  |  0  |  0  |  0  |  0  |  0  |  0  |  0  |  5  |  0  | ... |   0 |  0  |  0  |   0 |   0 |  0  |  0  |  1  |  0  | NA  | \n",
       "\n",
       "\n"
      ],
      "text/plain": [
       "      [,1] [,2] [,3] [,4] [,5] [,6] [,7] [,8] [,9] [,10] [,11] [,12] [,13]\n",
       " [1,] NA    4    0    0    0    1    1    0    1    1    ...     3    1   \n",
       " [2,]  3   NA    0    4    0    2    2    0    4    2    ...     4    5   \n",
       " [3,]  1    0   NA    3    0    1    2    0    0    0    ...     0    5   \n",
       " [4,]  0    0    0   NA    0    0    2    0    5    0    ...     0    1   \n",
       " [5,]  1    0    0    0   NA    1    0    0    1    1    ...     0    1   \n",
       " [6,]  1    0    0    7    0   NA    3    0    0    0    ...     0    2   \n",
       " [7,]  0    0    0    1    0    1   NA    0    5    0    ...     0    0   \n",
       " [8,]  1    2    0    1    0    1    1   NA    0    0    ...     2    0   \n",
       " [9,]  0    0    0    0    0    1    1    0   NA    0    ...     0    1   \n",
       "[10,]  3    2    1    1    0    4    1    1    2   NA    ...     2    0   \n",
       "[11,]  0    1    1    1    0    1    1    1    0    0    ...     1    7   \n",
       "[12,]  3    1    0    5    0    4    4    0    5    0    ...     1    2   \n",
       "[13,]  3    6   45    3    0    3    8   45    3   25    ...     6    5   \n",
       "[14,]  4    0    1    0    0    2    9    1    3    0    ...     0    0   \n",
       "[15,]  1    0    0    0    0    1    0    0    1    1    ...     0    1   \n",
       "[16,]  1    2    1    1    0    1    1    1    0   29    ...     2    0   \n",
       "[17,]  5    0    1    1    0    1    1    1    1    2    ...     0    6   \n",
       "[18,]  1    2    0    0    0    1    1    0    0    0    ...     2    0   \n",
       "[19,]  2    2    1    0    0    5    1    1    1    1    ...     2    0   \n",
       "[20,]  0    8    0    1    0    0    1    0    0    0    ...     8    0   \n",
       "[21,]  0    2    0    0    0    0    0    0    0    0    ...     2    0   \n",
       "[22,]  2    1    0    6    0    2    2    0    0    0    ...     1    1   \n",
       "[23,]  2    2    0    6    0    3    4    0    0    0    ...     2    0   \n",
       "[24,]  2    1    0    6    0    5    3    0    1    1    ...     1    1   \n",
       "[25,]  1    1    1    0    0    1    8    1    1    2    ...     1    0   \n",
       "[26,]  0    6    0    0    0    0    0    0    0    0    ...     6    0   \n",
       "[27,]  2   24    0    6    0    4    3    0    2    0    ...     4    0   \n",
       "[28,]  0    1    2    0    0    0    0    2    1    1    ...     1    1   \n",
       "[29,]  2    3    0    0    0    2    9    0    4    0    ...     3    1   \n",
       "[30,]  1    4   47    2    0    1    2    2    0    1    ...   566    5   \n",
       "[31,]  0    0    0    0    0    1    1    0    0    0    ...     0    0   \n",
       "[32,]  1    0    0    1    0    1    2    0    0    0    ...     0    1   \n",
       "[33,]  0    0    0    0    0    1    1    0    0    1    ...     0    1   \n",
       "[34,]  0    1    0    0    0    1    1    0    0    1    ...     1    0   \n",
       "[35,]  5    1    1    1    0    1    1    1    2   31    ...     1    6   \n",
       "[36,]  0    0    0    0    0    0    0    0    1    0    ...     0    0   \n",
       "[37,]  0    1    1    2    0    0    1    1    0    1    ...    NA    6   \n",
       "[38,]  0    0    1    0    0    0    0    1    1    0    ...     0   NA   \n",
       "[39,]  2   24    0    1    0    4    2   47    2    0    ...     2    0   \n",
       "[40,]  1    3    0    0    0    1    1    0    1    1    ...     3    1   \n",
       "[41,]  0    0    1    0    0    0    0    1    0    1    ...     0    1   \n",
       "[42,]  1    1    1    1    0    5    0    1    1    0    ...     1    7   \n",
       "[43,]  6    1    2    0    0    0    0    2    1    1    ...     1    0   \n",
       "[44,]  1    0    0    1    0    2    3    0    5    0    ...     0    0   \n",
       "[45,]  0    0    0    0    0    1    1    0    0    1    ...     0    1   \n",
       "[46,]  0    0    0    0    0    0    0    0    5    0    ...     0    0   \n",
       "      [,14] [,15] [,16] [,17] [,18] [,19] [,20] [,21]\n",
       " [1,]  0    586     1    0     0     1     0     0   \n",
       " [2,]  0      4     2    0     0     6     0     0   \n",
       " [3,]  0      0     0    0     0     0     0     0   \n",
       " [4,]  0      0     0    0     0     1     0     0   \n",
       " [5,]  0      0     0    0     0     1     0     0   \n",
       " [6,]  0      0     0    0     0     1     0     0   \n",
       " [7,]  0      0     0    0     0     1     0     0   \n",
       " [8,]  0      2     1    0     0     0     0     0   \n",
       " [9,]  0      0     1    0     0     1     0     0   \n",
       "[10,]  0      2     2    0     0     1     0     0   \n",
       "[11,]  0      1     2    0     0     1     0     0   \n",
       "[12,]  0      1     1    0     0     1     0     0   \n",
       "[13,]  0      6     7    0     0     3     0     0   \n",
       "[14,]  0      0     1    0     0     3     0     0   \n",
       "[15,]  0      0     0    0     0     1     0     0   \n",
       "[16,]  0      2     3    0     0     0     0     0   \n",
       "[17,]  0      0     1    0     0     5     0     0   \n",
       "[18,]  0      2     0    0     0     0     0     0   \n",
       "[19,]  0      2     3    0     0     0     0     0   \n",
       "[20,]  0      8     3    0     0     0     0     0   \n",
       "[21,]  0      2     2    1     0     0     0     0   \n",
       "[22,]  0      1     0    0     0     0     0     0   \n",
       "[23,]  0      2     1    0     0     1     0     0   \n",
       "[24,]  0      1     0    0     0     6     0     0   \n",
       "[25,]  0      1     1    0     0     5     0     0   \n",
       "[26,]  0      6     3    0     0     0     0     0   \n",
       "[27,]  0      4     4    0     0     1     0     0   \n",
       "[28,]  0      1     2    0     0     1     0     0   \n",
       "[29,]  0      3   607    0     0     2     0     0   \n",
       "[30,]  0      4     3    0     0     0     0     0   \n",
       "[31,]  0      0     0    0     0     0     0     0   \n",
       "[32,]  0      0     0    0     0     0     0     0   \n",
       "[33,]  0      0     0    0     0     0     0     0   \n",
       "[34,]  0      1     0    0     0     0     0     0   \n",
       "[35,]  0      1     1    0     0     2     0     0   \n",
       "[36,]  0      0     0    0     0     1     0     0   \n",
       "[37,]  0      1     0    0     0     0     0     0   \n",
       "[38,]  0      0     1    0     0     1     0     0   \n",
       "[39,] NA      2     1    0     0     1     0     0   \n",
       "[40,]  0     NA     1    0     0     1     0     0   \n",
       "[41,]  0      0    NA    0     0     6     0     0   \n",
       "[42,]  0      1     2   NA     0     0     0     0   \n",
       "[43,]  0      1     3    0    NA     1     0     0   \n",
       "[44,]  0      0     1    0     0    NA     0     0   \n",
       "[45,]  0      0     0    0     0     1    NA     0   \n",
       "[46,]  0      0     0    0     0     1     0    NA   "
      ]
     },
     "metadata": {},
     "output_type": "display_data"
    }
   ],
   "source": [
    "# ici on voit le changement de rang pour chacune des situations\n",
    "abs(rank.N-rank.T)"
   ]
  },
  {
   "cell_type": "code",
   "execution_count": 207,
   "metadata": {},
   "outputs": [
    {
     "data": {
      "text/html": [
       "<ol class=list-inline>\n",
       "\t<li>13.9555555555556</li>\n",
       "\t<li>3.24444444444444</li>\n",
       "\t<li>0.755555555555556</li>\n",
       "\t<li>0.511111111111111</li>\n",
       "\t<li>3.6</li>\n",
       "\t<li>0.777777777777778</li>\n",
       "\t<li>0.311111111111111</li>\n",
       "\t<li>1.15555555555556</li>\n",
       "\t<li>0.466666666666667</li>\n",
       "\t<li>1.24444444444444</li>\n",
       "\t<li>0.888888888888889</li>\n",
       "\t<li>1.84444444444444</li>\n",
       "\t<li>5.33333333333333</li>\n",
       "\t<li>0.844444444444444</li>\n",
       "\t<li>0.311111111111111</li>\n",
       "\t<li>2.48888888888889</li>\n",
       "\t<li>0.888888888888889</li>\n",
       "\t<li>0.644444444444444</li>\n",
       "\t<li>1.2</li>\n",
       "\t<li>2.2</li>\n",
       "\t<li>0.977777777777778</li>\n",
       "\t<li>0.6</li>\n",
       "\t<li>0.844444444444444</li>\n",
       "\t<li>1.04444444444444</li>\n",
       "\t<li>1.82222222222222</li>\n",
       "\t<li>9.06666666666667</li>\n",
       "\t<li>7.24444444444444</li>\n",
       "\t<li>1.93333333333333</li>\n",
       "\t<li>15.0666666666667</li>\n",
       "\t<li>16.0666666666667</li>\n",
       "\t<li>0.177777777777778</li>\n",
       "\t<li>0.533333333333333</li>\n",
       "\t<li>0.155555555555556</li>\n",
       "\t<li>0.177777777777778</li>\n",
       "\t<li>1.71111111111111</li>\n",
       "\t<li>0.177777777777778</li>\n",
       "\t<li>4.2</li>\n",
       "\t<li>0.377777777777778</li>\n",
       "\t<li>2.8</li>\n",
       "\t<li>0.733333333333333</li>\n",
       "\t<li>10.7111111111111</li>\n",
       "\t<li>1.64444444444444</li>\n",
       "\t<li>13.2444444444444</li>\n",
       "\t<li>0.488888888888889</li>\n",
       "\t<li>0.422222222222222</li>\n",
       "\t<li>0.155555555555556</li>\n",
       "</ol>\n"
      ],
      "text/latex": [
       "\\begin{enumerate*}\n",
       "\\item 13.9555555555556\n",
       "\\item 3.24444444444444\n",
       "\\item 0.755555555555556\n",
       "\\item 0.511111111111111\n",
       "\\item 3.6\n",
       "\\item 0.777777777777778\n",
       "\\item 0.311111111111111\n",
       "\\item 1.15555555555556\n",
       "\\item 0.466666666666667\n",
       "\\item 1.24444444444444\n",
       "\\item 0.888888888888889\n",
       "\\item 1.84444444444444\n",
       "\\item 5.33333333333333\n",
       "\\item 0.844444444444444\n",
       "\\item 0.311111111111111\n",
       "\\item 2.48888888888889\n",
       "\\item 0.888888888888889\n",
       "\\item 0.644444444444444\n",
       "\\item 1.2\n",
       "\\item 2.2\n",
       "\\item 0.977777777777778\n",
       "\\item 0.6\n",
       "\\item 0.844444444444444\n",
       "\\item 1.04444444444444\n",
       "\\item 1.82222222222222\n",
       "\\item 9.06666666666667\n",
       "\\item 7.24444444444444\n",
       "\\item 1.93333333333333\n",
       "\\item 15.0666666666667\n",
       "\\item 16.0666666666667\n",
       "\\item 0.177777777777778\n",
       "\\item 0.533333333333333\n",
       "\\item 0.155555555555556\n",
       "\\item 0.177777777777778\n",
       "\\item 1.71111111111111\n",
       "\\item 0.177777777777778\n",
       "\\item 4.2\n",
       "\\item 0.377777777777778\n",
       "\\item 2.8\n",
       "\\item 0.733333333333333\n",
       "\\item 10.7111111111111\n",
       "\\item 1.64444444444444\n",
       "\\item 13.2444444444444\n",
       "\\item 0.488888888888889\n",
       "\\item 0.422222222222222\n",
       "\\item 0.155555555555556\n",
       "\\end{enumerate*}\n"
      ],
      "text/markdown": [
       "1. 13.9555555555556\n",
       "2. 3.24444444444444\n",
       "3. 0.755555555555556\n",
       "4. 0.511111111111111\n",
       "5. 3.6\n",
       "6. 0.777777777777778\n",
       "7. 0.311111111111111\n",
       "8. 1.15555555555556\n",
       "9. 0.466666666666667\n",
       "10. 1.24444444444444\n",
       "11. 0.888888888888889\n",
       "12. 1.84444444444444\n",
       "13. 5.33333333333333\n",
       "14. 0.844444444444444\n",
       "15. 0.311111111111111\n",
       "16. 2.48888888888889\n",
       "17. 0.888888888888889\n",
       "18. 0.644444444444444\n",
       "19. 1.2\n",
       "20. 2.2\n",
       "21. 0.977777777777778\n",
       "22. 0.6\n",
       "23. 0.844444444444444\n",
       "24. 1.04444444444444\n",
       "25. 1.82222222222222\n",
       "26. 9.06666666666667\n",
       "27. 7.24444444444444\n",
       "28. 1.93333333333333\n",
       "29. 15.0666666666667\n",
       "30. 16.0666666666667\n",
       "31. 0.177777777777778\n",
       "32. 0.533333333333333\n",
       "33. 0.155555555555556\n",
       "34. 0.177777777777778\n",
       "35. 1.71111111111111\n",
       "36. 0.177777777777778\n",
       "37. 4.2\n",
       "38. 0.377777777777778\n",
       "39. 2.8\n",
       "40. 0.733333333333333\n",
       "41. 10.7111111111111\n",
       "42. 1.64444444444444\n",
       "43. 13.2444444444444\n",
       "44. 0.488888888888889\n",
       "45. 0.422222222222222\n",
       "46. 0.155555555555556\n",
       "\n",
       "\n"
      ],
      "text/plain": [
       " [1] 13.9555556  3.2444444  0.7555556  0.5111111  3.6000000  0.7777778\n",
       " [7]  0.3111111  1.1555556  0.4666667  1.2444444  0.8888889  1.8444444\n",
       "[13]  5.3333333  0.8444444  0.3111111  2.4888889  0.8888889  0.6444444\n",
       "[19]  1.2000000  2.2000000  0.9777778  0.6000000  0.8444444  1.0444444\n",
       "[25]  1.8222222  9.0666667  7.2444444  1.9333333 15.0666667 16.0666667\n",
       "[31]  0.1777778  0.5333333  0.1555556  0.1777778  1.7111111  0.1777778\n",
       "[37]  4.2000000  0.3777778  2.8000000  0.7333333 10.7111111  1.6444444\n",
       "[43] 13.2444444  0.4888889  0.4222222  0.1555556"
      ]
     },
     "metadata": {},
     "output_type": "display_data"
    }
   ],
   "source": [
    "# la moyenne de changment de rang pour chacune des references\n",
    "rowMeans(abs(rank.N-rank.T),na.rm=T)"
   ]
  },
  {
   "cell_type": "code",
   "execution_count": 208,
   "metadata": {},
   "outputs": [
    {
     "data": {
      "text/html": [
       "2.93574879227053"
      ],
      "text/latex": [
       "2.93574879227053"
      ],
      "text/markdown": [
       "2.93574879227053"
      ],
      "text/plain": [
       "[1] 2.935749"
      ]
     },
     "metadata": {},
     "output_type": "display_data"
    }
   ],
   "source": [
    "# la moyenne globale de changement de rang\n",
    "mean(rowMeans(abs(rank.N-rank.T),na.rm=T))"
   ]
  },
  {
   "cell_type": "markdown",
   "metadata": {},
   "source": [
    "On remarque qu'avec le cosinus meme si une refence est enleve on retrouvera cette recommandation dans le meme rang environ que si elle n'etait pas la. En effet, la moyenne du changement de rang est de 3. L'approche du cosinus recommandera cette article dans la majorite des cas a la meme position ou dans une position tres proche meme si la reference de l'article est enleve. \n",
    "\n"
   ]
  },
  {
   "cell_type": "markdown",
   "metadata": {},
   "source": [
    "Cette moyenne pourrait etre diminuer en se limitant au articles recommandable a la base.\n",
    "si on garde les colonnes avec des articles qui ont un rang inital <= 50 on devrait trouver un meilleur resultat."
   ]
  },
  {
   "cell_type": "code",
   "execution_count": 213,
   "metadata": {},
   "outputs": [
    {
     "data": {
      "text/html": [
       "<table>\n",
       "<tbody>\n",
       "\t<tr><td>NA </td><td> 0 </td><td> 0 </td><td> 1 </td><td> 1 </td><td> 0 </td><td> 1 </td><td> 1 </td><td> 1 </td><td> 1 </td><td>...</td><td> 1 </td><td> 2 </td><td> 1 </td><td> 0 </td><td> 0 </td><td> 1 </td><td> 1 </td><td> 1 </td><td> 1 </td><td> 0 </td></tr>\n",
       "\t<tr><td> 3 </td><td> 0 </td><td> 4 </td><td> 2 </td><td> 2 </td><td> 0 </td><td> 4 </td><td> 2 </td><td> 3 </td><td> 1 </td><td>...</td><td> 2 </td><td> 2 </td><td>28 </td><td> 0 </td><td> 2 </td><td> 4 </td><td> 2 </td><td> 5 </td><td> 6 </td><td> 0 </td></tr>\n",
       "\t<tr><td> 1 </td><td>NA </td><td> 3 </td><td> 1 </td><td> 2 </td><td> 0 </td><td> 0 </td><td> 0 </td><td> 0 </td><td> 0 </td><td>...</td><td> 1 </td><td> 1 </td><td> 0 </td><td> 0 </td><td> 3 </td><td> 0 </td><td>11 </td><td> 5 </td><td> 0 </td><td> 0 </td></tr>\n",
       "\t<tr><td> 0 </td><td> 0 </td><td>NA </td><td> 0 </td><td> 2 </td><td> 0 </td><td> 5 </td><td> 0 </td><td> 0 </td><td> 0 </td><td>...</td><td> 9 </td><td> 0 </td><td> 0 </td><td> 0 </td><td> 2 </td><td> 1 </td><td> 1 </td><td> 1 </td><td> 1 </td><td> 0 </td></tr>\n",
       "\t<tr><td> 1 </td><td> 0 </td><td> 0 </td><td> 1 </td><td> 0 </td><td> 0 </td><td> 1 </td><td> 1 </td><td> 1 </td><td> 0 </td><td>...</td><td> 1 </td><td> 2 </td><td> 0 </td><td> 0 </td><td> 0 </td><td> 1 </td><td> 0 </td><td> 1 </td><td> 1 </td><td> 0 </td></tr>\n",
       "\t<tr><td> 1 </td><td> 0 </td><td> 7 </td><td>NA </td><td> 3 </td><td> 0 </td><td> 0 </td><td> 0 </td><td> 0 </td><td> 0 </td><td>...</td><td> 8 </td><td> 1 </td><td> 0 </td><td> 0 </td><td> 3 </td><td> 6 </td><td> 2 </td><td> 2 </td><td> 1 </td><td> 0 </td></tr>\n",
       "\t<tr><td> 0 </td><td> 0 </td><td> 1 </td><td> 1 </td><td>NA </td><td> 0 </td><td> 5 </td><td> 0 </td><td> 0 </td><td> 0 </td><td>...</td><td> 0 </td><td> 0 </td><td> 0 </td><td> 0 </td><td> 1 </td><td> 1 </td><td> 0 </td><td> 0 </td><td> 1 </td><td> 0 </td></tr>\n",
       "\t<tr><td> 1 </td><td> 0 </td><td> 1 </td><td> 1 </td><td> 1 </td><td>NA </td><td> 0 </td><td> 0 </td><td> 0 </td><td> 1 </td><td>...</td><td> 0 </td><td> 1 </td><td> 0 </td><td> 0 </td><td> 1 </td><td> 0 </td><td>11 </td><td> 0 </td><td> 0 </td><td> 0 </td></tr>\n",
       "\t<tr><td> 0 </td><td> 0 </td><td> 0 </td><td> 1 </td><td> 1 </td><td> 0 </td><td>NA </td><td> 0 </td><td> 0 </td><td> 1 </td><td>...</td><td> 1 </td><td> 2 </td><td> 1 </td><td> 0 </td><td> 0 </td><td> 6 </td><td> 0 </td><td> 1 </td><td> 1 </td><td> 0 </td></tr>\n",
       "\t<tr><td> 3 </td><td> 1 </td><td> 1 </td><td> 4 </td><td> 1 </td><td> 1 </td><td> 2 </td><td>NA </td><td> 2 </td><td> 2 </td><td>...</td><td> 0 </td><td> 1 </td><td> 2 </td><td> 0 </td><td> 1 </td><td> 2 </td><td> 9 </td><td> 0 </td><td> 1 </td><td> 0 </td></tr>\n",
       "\t<tr><td> 0 </td><td> 1 </td><td> 1 </td><td> 1 </td><td> 1 </td><td> 1 </td><td> 0 </td><td> 0 </td><td> 0 </td><td> 2 </td><td>...</td><td> 1 </td><td> 1 </td><td> 1 </td><td> 0 </td><td> 1 </td><td> 6 </td><td> 1 </td><td> 7 </td><td> 1 </td><td> 0 </td></tr>\n",
       "\t<tr><td> 3 </td><td> 0 </td><td> 5 </td><td> 4 </td><td> 4 </td><td> 0 </td><td> 5 </td><td> 0 </td><td>NA </td><td> 1 </td><td>...</td><td> 7 </td><td> 0 </td><td>30 </td><td> 0 </td><td> 5 </td><td> 2 </td><td> 2 </td><td> 2 </td><td> 1 </td><td> 0 </td></tr>\n",
       "\t<tr><td> 3 </td><td>45 </td><td> 3 </td><td> 3 </td><td> 8 </td><td>45 </td><td> 3 </td><td>25 </td><td> 3 </td><td>NA </td><td>...</td><td> 2 </td><td> 2 </td><td> 6 </td><td> 0 </td><td> 3 </td><td> 3 </td><td> 8 </td><td> 5 </td><td> 3 </td><td> 0 </td></tr>\n",
       "\t<tr><td> 4 </td><td> 1 </td><td> 0 </td><td> 2 </td><td> 9 </td><td> 1 </td><td> 3 </td><td> 0 </td><td> 5 </td><td> 1 </td><td>...</td><td> 0 </td><td> 0 </td><td> 1 </td><td> 0 </td><td> 0 </td><td> 3 </td><td> 0 </td><td> 0 </td><td> 3 </td><td> 0 </td></tr>\n",
       "\t<tr><td> 1 </td><td> 0 </td><td> 0 </td><td> 1 </td><td> 0 </td><td> 0 </td><td> 1 </td><td> 1 </td><td> 1 </td><td> 0 </td><td>...</td><td> 1 </td><td> 2 </td><td> 0 </td><td> 0 </td><td> 0 </td><td> 1 </td><td> 0 </td><td> 1 </td><td> 1 </td><td> 0 </td></tr>\n",
       "\t<tr><td> 1 </td><td> 1 </td><td> 1 </td><td> 1 </td><td> 1 </td><td> 1 </td><td> 0 </td><td>29 </td><td> 0 </td><td>40 </td><td>...</td><td> 0 </td><td> 0 </td><td> 2 </td><td> 0 </td><td> 1 </td><td> 0 </td><td>11 </td><td> 0 </td><td> 0 </td><td> 0 </td></tr>\n",
       "\t<tr><td> 5 </td><td> 1 </td><td> 1 </td><td> 1 </td><td> 1 </td><td> 1 </td><td> 1 </td><td> 2 </td><td> 1 </td><td> 1 </td><td>...</td><td> 1 </td><td> 2 </td><td> 2 </td><td> 0 </td><td> 1 </td><td> 1 </td><td> 1 </td><td> 6 </td><td> 5 </td><td> 0 </td></tr>\n",
       "\t<tr><td> 1 </td><td> 0 </td><td> 0 </td><td> 1 </td><td> 1 </td><td> 0 </td><td> 0 </td><td> 0 </td><td> 0 </td><td> 0 </td><td>...</td><td> 0 </td><td> 0 </td><td> 0 </td><td> 0 </td><td> 6 </td><td> 0 </td><td> 0 </td><td> 0 </td><td> 0 </td><td> 0 </td></tr>\n",
       "\t<tr><td> 2 </td><td> 1 </td><td> 0 </td><td> 5 </td><td> 1 </td><td> 1 </td><td> 1 </td><td> 1 </td><td> 1 </td><td> 2 </td><td>...</td><td> 0 </td><td> 1 </td><td> 2 </td><td> 0 </td><td> 5 </td><td> 1 </td><td> 0 </td><td> 0 </td><td> 0 </td><td> 0 </td></tr>\n",
       "\t<tr><td> 0 </td><td> 0 </td><td> 1 </td><td> 0 </td><td> 1 </td><td> 0 </td><td> 0 </td><td> 0 </td><td> 0 </td><td> 1 </td><td>...</td><td> 0 </td><td> 0 </td><td> 1 </td><td> 0 </td><td> 1 </td><td> 0 </td><td> 0 </td><td> 0 </td><td> 0 </td><td> 0 </td></tr>\n",
       "\t<tr><td> 0 </td><td> 0 </td><td> 0 </td><td> 0 </td><td> 0 </td><td> 0 </td><td> 0 </td><td> 0 </td><td> 0 </td><td> 1 </td><td>...</td><td> 0 </td><td> 0 </td><td> 0 </td><td> 0 </td><td> 0 </td><td> 0 </td><td> 0 </td><td> 0 </td><td> 0 </td><td> 0 </td></tr>\n",
       "\t<tr><td> 2 </td><td> 0 </td><td> 6 </td><td> 2 </td><td> 2 </td><td> 0 </td><td> 0 </td><td> 0 </td><td> 0 </td><td> 0 </td><td>...</td><td>NA </td><td> 0 </td><td> 0 </td><td> 0 </td><td> 6 </td><td> 0 </td><td> 0 </td><td> 1 </td><td> 0 </td><td> 0 </td></tr>\n",
       "\t<tr><td> 2 </td><td> 0 </td><td> 6 </td><td> 3 </td><td> 4 </td><td> 0 </td><td> 0 </td><td> 0 </td><td> 0 </td><td> 1 </td><td>...</td><td> 0 </td><td>NA </td><td> 0 </td><td> 0 </td><td> 2 </td><td> 6 </td><td> 0 </td><td> 0 </td><td> 1 </td><td> 0 </td></tr>\n",
       "\t<tr><td> 2 </td><td> 0 </td><td> 6 </td><td> 5 </td><td> 3 </td><td> 0 </td><td> 1 </td><td> 1 </td><td> 1 </td><td> 0 </td><td>...</td><td> 8 </td><td> 1 </td><td>NA </td><td> 0 </td><td> 3 </td><td> 1 </td><td> 2 </td><td> 1 </td><td> 6 </td><td> 0 </td></tr>\n",
       "\t<tr><td> 1 </td><td> 1 </td><td> 0 </td><td> 1 </td><td> 8 </td><td> 1 </td><td> 1 </td><td> 2 </td><td> 1 </td><td> 1 </td><td>...</td><td> 0 </td><td>45 </td><td> 1 </td><td> 0 </td><td> 0 </td><td> 4 </td><td> 0 </td><td> 0 </td><td> 5 </td><td> 0 </td></tr>\n",
       "\t<tr><td> 0 </td><td> 0 </td><td> 0 </td><td> 0 </td><td> 0 </td><td> 0 </td><td> 0 </td><td> 0 </td><td> 0 </td><td> 1 </td><td>...</td><td> 0 </td><td> 0 </td><td> 1 </td><td> 0 </td><td> 0 </td><td> 0 </td><td> 0 </td><td> 0 </td><td> 0 </td><td> 0 </td></tr>\n",
       "\t<tr><td> 2 </td><td> 0 </td><td> 6 </td><td> 4 </td><td> 3 </td><td> 0 </td><td> 2 </td><td> 0 </td><td> 5 </td><td> 3 </td><td>...</td><td> 8 </td><td> 1 </td><td>27 </td><td> 0 </td><td> 3 </td><td> 2 </td><td> 1 </td><td> 0 </td><td> 1 </td><td> 0 </td></tr>\n",
       "\t<tr><td> 0 </td><td> 2 </td><td> 0 </td><td> 0 </td><td> 0 </td><td> 2 </td><td> 1 </td><td> 1 </td><td> 5 </td><td> 2 </td><td>...</td><td> 1 </td><td>46 </td><td> 2 </td><td> 0 </td><td> 0 </td><td> 1 </td><td> 0 </td><td> 1 </td><td> 1 </td><td> 0 </td></tr>\n",
       "\t<tr><td> 2 </td><td> 0 </td><td> 0 </td><td> 2 </td><td> 9 </td><td> 0 </td><td> 4 </td><td> 0 </td><td> 1 </td><td> 0 </td><td>...</td><td> 1 </td><td> 1 </td><td> 0 </td><td> 0 </td><td> 5 </td><td> 2 </td><td> 1 </td><td> 1 </td><td> 2 </td><td> 0 </td></tr>\n",
       "\t<tr><td> 1 </td><td>47 </td><td> 2 </td><td> 1 </td><td> 2 </td><td> 2 </td><td> 0 </td><td> 1 </td><td> 0 </td><td>39 </td><td>...</td><td> 1 </td><td> 1 </td><td> 3 </td><td> 0 </td><td> 6 </td><td> 0 </td><td> 1 </td><td> 5 </td><td> 0 </td><td> 0 </td></tr>\n",
       "\t<tr><td> 0 </td><td> 0 </td><td> 0 </td><td> 1 </td><td> 1 </td><td> 0 </td><td> 0 </td><td> 0 </td><td> 0 </td><td> 0 </td><td>...</td><td> 0 </td><td> 1 </td><td> 0 </td><td> 0 </td><td> 0 </td><td> 0 </td><td> 0 </td><td> 0 </td><td> 0 </td><td> 0 </td></tr>\n",
       "\t<tr><td> 1 </td><td> 0 </td><td> 1 </td><td> 1 </td><td> 2 </td><td> 0 </td><td> 0 </td><td> 0 </td><td> 0 </td><td> 0 </td><td>...</td><td> 8 </td><td> 0 </td><td> 0 </td><td>NA </td><td> 6 </td><td> 0 </td><td> 1 </td><td> 1 </td><td> 0 </td><td> 0 </td></tr>\n",
       "\t<tr><td> 0 </td><td> 0 </td><td> 0 </td><td> 1 </td><td> 1 </td><td> 0 </td><td> 0 </td><td> 1 </td><td> 0 </td><td> 0 </td><td>...</td><td> 1 </td><td> 2 </td><td> 0 </td><td> 0 </td><td>NA </td><td> 0 </td><td> 0 </td><td> 1 </td><td> 0 </td><td> 0 </td></tr>\n",
       "\t<tr><td> 0 </td><td> 0 </td><td> 0 </td><td> 1 </td><td> 1 </td><td> 0 </td><td> 0 </td><td> 1 </td><td> 0 </td><td> 0 </td><td>...</td><td> 0 </td><td> 1 </td><td> 0 </td><td> 0 </td><td> 0 </td><td>NA </td><td> 0 </td><td> 0 </td><td> 0 </td><td> 0 </td></tr>\n",
       "\t<tr><td> 5 </td><td> 1 </td><td> 1 </td><td> 1 </td><td> 1 </td><td> 1 </td><td> 2 </td><td>31 </td><td> 2 </td><td> 1 </td><td>...</td><td> 1 </td><td> 2 </td><td> 1 </td><td> 0 </td><td> 1 </td><td> 2 </td><td> 1 </td><td> 6 </td><td> 2 </td><td> 0 </td></tr>\n",
       "\t<tr><td> 0 </td><td> 0 </td><td> 0 </td><td> 0 </td><td> 0 </td><td> 0 </td><td> 1 </td><td> 0 </td><td> 5 </td><td> 0 </td><td>...</td><td> 0 </td><td> 0 </td><td> 0 </td><td> 0 </td><td> 0 </td><td> 1 </td><td>NA </td><td> 0 </td><td> 1 </td><td> 0 </td></tr>\n",
       "\t<tr><td> 0 </td><td> 1 </td><td> 2 </td><td> 0 </td><td> 1 </td><td> 1 </td><td> 0 </td><td> 1 </td><td> 0 </td><td> 0 </td><td>...</td><td> 1 </td><td> 1 </td><td> 1 </td><td> 0 </td><td> 2 </td><td> 0 </td><td> 1 </td><td> 6 </td><td> 0 </td><td> 0 </td></tr>\n",
       "\t<tr><td> 0 </td><td> 1 </td><td> 0 </td><td> 0 </td><td> 0 </td><td> 1 </td><td> 1 </td><td> 0 </td><td> 5 </td><td> 1 </td><td>...</td><td> 0 </td><td> 0 </td><td> 1 </td><td> 0 </td><td> 0 </td><td> 1 </td><td> 0 </td><td>NA </td><td> 1 </td><td> 0 </td></tr>\n",
       "\t<tr><td> 2 </td><td> 0 </td><td> 1 </td><td> 4 </td><td> 2 </td><td>47 </td><td> 2 </td><td> 0 </td><td> 5 </td><td> 1 </td><td>...</td><td> 0 </td><td> 0 </td><td> 1 </td><td> 0 </td><td> 1 </td><td> 2 </td><td> 0 </td><td> 0 </td><td> 1 </td><td> 0 </td></tr>\n",
       "\t<tr><td> 1 </td><td> 0 </td><td> 0 </td><td> 1 </td><td> 1 </td><td> 0 </td><td> 1 </td><td> 1 </td><td> 1 </td><td> 1 </td><td>...</td><td> 1 </td><td> 2 </td><td> 1 </td><td> 0 </td><td> 0 </td><td> 1 </td><td> 1 </td><td> 1 </td><td> 1 </td><td> 0 </td></tr>\n",
       "\t<tr><td> 0 </td><td> 1 </td><td> 0 </td><td> 0 </td><td> 0 </td><td> 1 </td><td> 0 </td><td> 1 </td><td> 0 </td><td> 1 </td><td>...</td><td> 1 </td><td> 1 </td><td> 1 </td><td> 0 </td><td> 0 </td><td> 0 </td><td> 1 </td><td> 1 </td><td> 6 </td><td> 0 </td></tr>\n",
       "\t<tr><td> 1 </td><td> 1 </td><td> 1 </td><td> 5 </td><td> 0 </td><td> 1 </td><td> 1 </td><td> 0 </td><td> 1 </td><td> 1 </td><td>...</td><td> 1 </td><td> 0 </td><td> 1 </td><td> 0 </td><td> 1 </td><td> 1 </td><td> 1 </td><td> 7 </td><td> 0 </td><td> 0 </td></tr>\n",
       "\t<tr><td> 6 </td><td> 2 </td><td> 0 </td><td> 0 </td><td> 0 </td><td> 2 </td><td> 1 </td><td> 1 </td><td> 1 </td><td> 3 </td><td>...</td><td> 0 </td><td> 0 </td><td> 3 </td><td> 0 </td><td> 0 </td><td> 1 </td><td> 0 </td><td> 0 </td><td> 1 </td><td> 0 </td></tr>\n",
       "\t<tr><td> 1 </td><td> 0 </td><td> 1 </td><td> 2 </td><td> 3 </td><td> 0 </td><td> 5 </td><td> 0 </td><td> 0 </td><td> 1 </td><td>...</td><td> 0 </td><td> 0 </td><td> 1 </td><td> 0 </td><td> 1 </td><td> 1 </td><td> 0 </td><td> 0 </td><td>NA </td><td> 0 </td></tr>\n",
       "\t<tr><td> 0 </td><td> 0 </td><td> 0 </td><td> 1 </td><td> 1 </td><td> 0 </td><td> 0 </td><td> 1 </td><td> 0 </td><td> 0 </td><td>...</td><td> 1 </td><td> 3 </td><td> 0 </td><td> 0 </td><td> 0 </td><td> 5 </td><td> 0 </td><td> 1 </td><td> 1 </td><td>NA </td></tr>\n",
       "\t<tr><td> 0 </td><td> 0 </td><td> 0 </td><td> 0 </td><td> 0 </td><td> 0 </td><td> 5 </td><td> 0 </td><td> 0 </td><td> 0 </td><td>...</td><td> 0 </td><td> 0 </td><td> 0 </td><td> 0 </td><td> 0 </td><td> 1 </td><td> 0 </td><td> 0 </td><td> 1 </td><td> 0 </td></tr>\n",
       "</tbody>\n",
       "</table>\n"
      ],
      "text/latex": [
       "\\begin{tabular}{lllllllllllllllllllllll}\n",
       "\t NA  &  0  &  0  &  1  &  1  &  0  &  1  &  1  &  1  &  1  & ... &  1  &  2  &  1  &  0  &  0  &  1  &  1  &  1  &  1  &  0 \\\\\n",
       "\t  3  &  0  &  4  &  2  &  2  &  0  &  4  &  2  &  3  &  1  & ... &  2  &  2  & 28  &  0  &  2  &  4  &  2  &  5  &  6  &  0 \\\\\n",
       "\t  1  & NA  &  3  &  1  &  2  &  0  &  0  &  0  &  0  &  0  & ... &  1  &  1  &  0  &  0  &  3  &  0  & 11  &  5  &  0  &  0 \\\\\n",
       "\t  0  &  0  & NA  &  0  &  2  &  0  &  5  &  0  &  0  &  0  & ... &  9  &  0  &  0  &  0  &  2  &  1  &  1  &  1  &  1  &  0 \\\\\n",
       "\t  1  &  0  &  0  &  1  &  0  &  0  &  1  &  1  &  1  &  0  & ... &  1  &  2  &  0  &  0  &  0  &  1  &  0  &  1  &  1  &  0 \\\\\n",
       "\t  1  &  0  &  7  & NA  &  3  &  0  &  0  &  0  &  0  &  0  & ... &  8  &  1  &  0  &  0  &  3  &  6  &  2  &  2  &  1  &  0 \\\\\n",
       "\t  0  &  0  &  1  &  1  & NA  &  0  &  5  &  0  &  0  &  0  & ... &  0  &  0  &  0  &  0  &  1  &  1  &  0  &  0  &  1  &  0 \\\\\n",
       "\t  1  &  0  &  1  &  1  &  1  & NA  &  0  &  0  &  0  &  1  & ... &  0  &  1  &  0  &  0  &  1  &  0  & 11  &  0  &  0  &  0 \\\\\n",
       "\t  0  &  0  &  0  &  1  &  1  &  0  & NA  &  0  &  0  &  1  & ... &  1  &  2  &  1  &  0  &  0  &  6  &  0  &  1  &  1  &  0 \\\\\n",
       "\t  3  &  1  &  1  &  4  &  1  &  1  &  2  & NA  &  2  &  2  & ... &  0  &  1  &  2  &  0  &  1  &  2  &  9  &  0  &  1  &  0 \\\\\n",
       "\t  0  &  1  &  1  &  1  &  1  &  1  &  0  &  0  &  0  &  2  & ... &  1  &  1  &  1  &  0  &  1  &  6  &  1  &  7  &  1  &  0 \\\\\n",
       "\t  3  &  0  &  5  &  4  &  4  &  0  &  5  &  0  & NA  &  1  & ... &  7  &  0  & 30  &  0  &  5  &  2  &  2  &  2  &  1  &  0 \\\\\n",
       "\t  3  & 45  &  3  &  3  &  8  & 45  &  3  & 25  &  3  & NA  & ... &  2  &  2  &  6  &  0  &  3  &  3  &  8  &  5  &  3  &  0 \\\\\n",
       "\t  4  &  1  &  0  &  2  &  9  &  1  &  3  &  0  &  5  &  1  & ... &  0  &  0  &  1  &  0  &  0  &  3  &  0  &  0  &  3  &  0 \\\\\n",
       "\t  1  &  0  &  0  &  1  &  0  &  0  &  1  &  1  &  1  &  0  & ... &  1  &  2  &  0  &  0  &  0  &  1  &  0  &  1  &  1  &  0 \\\\\n",
       "\t  1  &  1  &  1  &  1  &  1  &  1  &  0  & 29  &  0  & 40  & ... &  0  &  0  &  2  &  0  &  1  &  0  & 11  &  0  &  0  &  0 \\\\\n",
       "\t  5  &  1  &  1  &  1  &  1  &  1  &  1  &  2  &  1  &  1  & ... &  1  &  2  &  2  &  0  &  1  &  1  &  1  &  6  &  5  &  0 \\\\\n",
       "\t  1  &  0  &  0  &  1  &  1  &  0  &  0  &  0  &  0  &  0  & ... &  0  &  0  &  0  &  0  &  6  &  0  &  0  &  0  &  0  &  0 \\\\\n",
       "\t  2  &  1  &  0  &  5  &  1  &  1  &  1  &  1  &  1  &  2  & ... &  0  &  1  &  2  &  0  &  5  &  1  &  0  &  0  &  0  &  0 \\\\\n",
       "\t  0  &  0  &  1  &  0  &  1  &  0  &  0  &  0  &  0  &  1  & ... &  0  &  0  &  1  &  0  &  1  &  0  &  0  &  0  &  0  &  0 \\\\\n",
       "\t  0  &  0  &  0  &  0  &  0  &  0  &  0  &  0  &  0  &  1  & ... &  0  &  0  &  0  &  0  &  0  &  0  &  0  &  0  &  0  &  0 \\\\\n",
       "\t  2  &  0  &  6  &  2  &  2  &  0  &  0  &  0  &  0  &  0  & ... & NA  &  0  &  0  &  0  &  6  &  0  &  0  &  1  &  0  &  0 \\\\\n",
       "\t  2  &  0  &  6  &  3  &  4  &  0  &  0  &  0  &  0  &  1  & ... &  0  & NA  &  0  &  0  &  2  &  6  &  0  &  0  &  1  &  0 \\\\\n",
       "\t  2  &  0  &  6  &  5  &  3  &  0  &  1  &  1  &  1  &  0  & ... &  8  &  1  & NA  &  0  &  3  &  1  &  2  &  1  &  6  &  0 \\\\\n",
       "\t  1  &  1  &  0  &  1  &  8  &  1  &  1  &  2  &  1  &  1  & ... &  0  & 45  &  1  &  0  &  0  &  4  &  0  &  0  &  5  &  0 \\\\\n",
       "\t  0  &  0  &  0  &  0  &  0  &  0  &  0  &  0  &  0  &  1  & ... &  0  &  0  &  1  &  0  &  0  &  0  &  0  &  0  &  0  &  0 \\\\\n",
       "\t  2  &  0  &  6  &  4  &  3  &  0  &  2  &  0  &  5  &  3  & ... &  8  &  1  & 27  &  0  &  3  &  2  &  1  &  0  &  1  &  0 \\\\\n",
       "\t  0  &  2  &  0  &  0  &  0  &  2  &  1  &  1  &  5  &  2  & ... &  1  & 46  &  2  &  0  &  0  &  1  &  0  &  1  &  1  &  0 \\\\\n",
       "\t  2  &  0  &  0  &  2  &  9  &  0  &  4  &  0  &  1  &  0  & ... &  1  &  1  &  0  &  0  &  5  &  2  &  1  &  1  &  2  &  0 \\\\\n",
       "\t  1  & 47  &  2  &  1  &  2  &  2  &  0  &  1  &  0  & 39  & ... &  1  &  1  &  3  &  0  &  6  &  0  &  1  &  5  &  0  &  0 \\\\\n",
       "\t  0  &  0  &  0  &  1  &  1  &  0  &  0  &  0  &  0  &  0  & ... &  0  &  1  &  0  &  0  &  0  &  0  &  0  &  0  &  0  &  0 \\\\\n",
       "\t  1  &  0  &  1  &  1  &  2  &  0  &  0  &  0  &  0  &  0  & ... &  8  &  0  &  0  & NA  &  6  &  0  &  1  &  1  &  0  &  0 \\\\\n",
       "\t  0  &  0  &  0  &  1  &  1  &  0  &  0  &  1  &  0  &  0  & ... &  1  &  2  &  0  &  0  & NA  &  0  &  0  &  1  &  0  &  0 \\\\\n",
       "\t  0  &  0  &  0  &  1  &  1  &  0  &  0  &  1  &  0  &  0  & ... &  0  &  1  &  0  &  0  &  0  & NA  &  0  &  0  &  0  &  0 \\\\\n",
       "\t  5  &  1  &  1  &  1  &  1  &  1  &  2  & 31  &  2  &  1  & ... &  1  &  2  &  1  &  0  &  1  &  2  &  1  &  6  &  2  &  0 \\\\\n",
       "\t  0  &  0  &  0  &  0  &  0  &  0  &  1  &  0  &  5  &  0  & ... &  0  &  0  &  0  &  0  &  0  &  1  & NA  &  0  &  1  &  0 \\\\\n",
       "\t  0  &  1  &  2  &  0  &  1  &  1  &  0  &  1  &  0  &  0  & ... &  1  &  1  &  1  &  0  &  2  &  0  &  1  &  6  &  0  &  0 \\\\\n",
       "\t  0  &  1  &  0  &  0  &  0  &  1  &  1  &  0  &  5  &  1  & ... &  0  &  0  &  1  &  0  &  0  &  1  &  0  & NA  &  1  &  0 \\\\\n",
       "\t  2  &  0  &  1  &  4  &  2  & 47  &  2  &  0  &  5  &  1  & ... &  0  &  0  &  1  &  0  &  1  &  2  &  0  &  0  &  1  &  0 \\\\\n",
       "\t  1  &  0  &  0  &  1  &  1  &  0  &  1  &  1  &  1  &  1  & ... &  1  &  2  &  1  &  0  &  0  &  1  &  1  &  1  &  1  &  0 \\\\\n",
       "\t  0  &  1  &  0  &  0  &  0  &  1  &  0  &  1  &  0  &  1  & ... &  1  &  1  &  1  &  0  &  0  &  0  &  1  &  1  &  6  &  0 \\\\\n",
       "\t  1  &  1  &  1  &  5  &  0  &  1  &  1  &  0  &  1  &  1  & ... &  1  &  0  &  1  &  0  &  1  &  1  &  1  &  7  &  0  &  0 \\\\\n",
       "\t  6  &  2  &  0  &  0  &  0  &  2  &  1  &  1  &  1  &  3  & ... &  0  &  0  &  3  &  0  &  0  &  1  &  0  &  0  &  1  &  0 \\\\\n",
       "\t  1  &  0  &  1  &  2  &  3  &  0  &  5  &  0  &  0  &  1  & ... &  0  &  0  &  1  &  0  &  1  &  1  &  0  &  0  & NA  &  0 \\\\\n",
       "\t  0  &  0  &  0  &  1  &  1  &  0  &  0  &  1  &  0  &  0  & ... &  1  &  3  &  0  &  0  &  0  &  5  &  0  &  1  &  1  & NA \\\\\n",
       "\t  0  &  0  &  0  &  0  &  0  &  0  &  5  &  0  &  0  &  0  & ... &  0  &  0  &  0  &  0  &  0  &  1  &  0  &  0  &  1  &  0 \\\\\n",
       "\\end{tabular}\n"
      ],
      "text/markdown": [
       "\n",
       "| NA  |  0  |  0  |  1  |  1  |  0  |  1  |  1  |  1  |  1  | ... |  1  |  2  |  1  |  0  |  0  |  1  |  1  |  1  |  1  |  0  | \n",
       "|  3  |  0  |  4  |  2  |  2  |  0  |  4  |  2  |  3  |  1  | ... |  2  |  2  | 28  |  0  |  2  |  4  |  2  |  5  |  6  |  0  | \n",
       "|  1  | NA  |  3  |  1  |  2  |  0  |  0  |  0  |  0  |  0  | ... |  1  |  1  |  0  |  0  |  3  |  0  | 11  |  5  |  0  |  0  | \n",
       "|  0  |  0  | NA  |  0  |  2  |  0  |  5  |  0  |  0  |  0  | ... |  9  |  0  |  0  |  0  |  2  |  1  |  1  |  1  |  1  |  0  | \n",
       "|  1  |  0  |  0  |  1  |  0  |  0  |  1  |  1  |  1  |  0  | ... |  1  |  2  |  0  |  0  |  0  |  1  |  0  |  1  |  1  |  0  | \n",
       "|  1  |  0  |  7  | NA  |  3  |  0  |  0  |  0  |  0  |  0  | ... |  8  |  1  |  0  |  0  |  3  |  6  |  2  |  2  |  1  |  0  | \n",
       "|  0  |  0  |  1  |  1  | NA  |  0  |  5  |  0  |  0  |  0  | ... |  0  |  0  |  0  |  0  |  1  |  1  |  0  |  0  |  1  |  0  | \n",
       "|  1  |  0  |  1  |  1  |  1  | NA  |  0  |  0  |  0  |  1  | ... |  0  |  1  |  0  |  0  |  1  |  0  | 11  |  0  |  0  |  0  | \n",
       "|  0  |  0  |  0  |  1  |  1  |  0  | NA  |  0  |  0  |  1  | ... |  1  |  2  |  1  |  0  |  0  |  6  |  0  |  1  |  1  |  0  | \n",
       "|  3  |  1  |  1  |  4  |  1  |  1  |  2  | NA  |  2  |  2  | ... |  0  |  1  |  2  |  0  |  1  |  2  |  9  |  0  |  1  |  0  | \n",
       "|  0  |  1  |  1  |  1  |  1  |  1  |  0  |  0  |  0  |  2  | ... |  1  |  1  |  1  |  0  |  1  |  6  |  1  |  7  |  1  |  0  | \n",
       "|  3  |  0  |  5  |  4  |  4  |  0  |  5  |  0  | NA  |  1  | ... |  7  |  0  | 30  |  0  |  5  |  2  |  2  |  2  |  1  |  0  | \n",
       "|  3  | 45  |  3  |  3  |  8  | 45  |  3  | 25  |  3  | NA  | ... |  2  |  2  |  6  |  0  |  3  |  3  |  8  |  5  |  3  |  0  | \n",
       "|  4  |  1  |  0  |  2  |  9  |  1  |  3  |  0  |  5  |  1  | ... |  0  |  0  |  1  |  0  |  0  |  3  |  0  |  0  |  3  |  0  | \n",
       "|  1  |  0  |  0  |  1  |  0  |  0  |  1  |  1  |  1  |  0  | ... |  1  |  2  |  0  |  0  |  0  |  1  |  0  |  1  |  1  |  0  | \n",
       "|  1  |  1  |  1  |  1  |  1  |  1  |  0  | 29  |  0  | 40  | ... |  0  |  0  |  2  |  0  |  1  |  0  | 11  |  0  |  0  |  0  | \n",
       "|  5  |  1  |  1  |  1  |  1  |  1  |  1  |  2  |  1  |  1  | ... |  1  |  2  |  2  |  0  |  1  |  1  |  1  |  6  |  5  |  0  | \n",
       "|  1  |  0  |  0  |  1  |  1  |  0  |  0  |  0  |  0  |  0  | ... |  0  |  0  |  0  |  0  |  6  |  0  |  0  |  0  |  0  |  0  | \n",
       "|  2  |  1  |  0  |  5  |  1  |  1  |  1  |  1  |  1  |  2  | ... |  0  |  1  |  2  |  0  |  5  |  1  |  0  |  0  |  0  |  0  | \n",
       "|  0  |  0  |  1  |  0  |  1  |  0  |  0  |  0  |  0  |  1  | ... |  0  |  0  |  1  |  0  |  1  |  0  |  0  |  0  |  0  |  0  | \n",
       "|  0  |  0  |  0  |  0  |  0  |  0  |  0  |  0  |  0  |  1  | ... |  0  |  0  |  0  |  0  |  0  |  0  |  0  |  0  |  0  |  0  | \n",
       "|  2  |  0  |  6  |  2  |  2  |  0  |  0  |  0  |  0  |  0  | ... | NA  |  0  |  0  |  0  |  6  |  0  |  0  |  1  |  0  |  0  | \n",
       "|  2  |  0  |  6  |  3  |  4  |  0  |  0  |  0  |  0  |  1  | ... |  0  | NA  |  0  |  0  |  2  |  6  |  0  |  0  |  1  |  0  | \n",
       "|  2  |  0  |  6  |  5  |  3  |  0  |  1  |  1  |  1  |  0  | ... |  8  |  1  | NA  |  0  |  3  |  1  |  2  |  1  |  6  |  0  | \n",
       "|  1  |  1  |  0  |  1  |  8  |  1  |  1  |  2  |  1  |  1  | ... |  0  | 45  |  1  |  0  |  0  |  4  |  0  |  0  |  5  |  0  | \n",
       "|  0  |  0  |  0  |  0  |  0  |  0  |  0  |  0  |  0  |  1  | ... |  0  |  0  |  1  |  0  |  0  |  0  |  0  |  0  |  0  |  0  | \n",
       "|  2  |  0  |  6  |  4  |  3  |  0  |  2  |  0  |  5  |  3  | ... |  8  |  1  | 27  |  0  |  3  |  2  |  1  |  0  |  1  |  0  | \n",
       "|  0  |  2  |  0  |  0  |  0  |  2  |  1  |  1  |  5  |  2  | ... |  1  | 46  |  2  |  0  |  0  |  1  |  0  |  1  |  1  |  0  | \n",
       "|  2  |  0  |  0  |  2  |  9  |  0  |  4  |  0  |  1  |  0  | ... |  1  |  1  |  0  |  0  |  5  |  2  |  1  |  1  |  2  |  0  | \n",
       "|  1  | 47  |  2  |  1  |  2  |  2  |  0  |  1  |  0  | 39  | ... |  1  |  1  |  3  |  0  |  6  |  0  |  1  |  5  |  0  |  0  | \n",
       "|  0  |  0  |  0  |  1  |  1  |  0  |  0  |  0  |  0  |  0  | ... |  0  |  1  |  0  |  0  |  0  |  0  |  0  |  0  |  0  |  0  | \n",
       "|  1  |  0  |  1  |  1  |  2  |  0  |  0  |  0  |  0  |  0  | ... |  8  |  0  |  0  | NA  |  6  |  0  |  1  |  1  |  0  |  0  | \n",
       "|  0  |  0  |  0  |  1  |  1  |  0  |  0  |  1  |  0  |  0  | ... |  1  |  2  |  0  |  0  | NA  |  0  |  0  |  1  |  0  |  0  | \n",
       "|  0  |  0  |  0  |  1  |  1  |  0  |  0  |  1  |  0  |  0  | ... |  0  |  1  |  0  |  0  |  0  | NA  |  0  |  0  |  0  |  0  | \n",
       "|  5  |  1  |  1  |  1  |  1  |  1  |  2  | 31  |  2  |  1  | ... |  1  |  2  |  1  |  0  |  1  |  2  |  1  |  6  |  2  |  0  | \n",
       "|  0  |  0  |  0  |  0  |  0  |  0  |  1  |  0  |  5  |  0  | ... |  0  |  0  |  0  |  0  |  0  |  1  | NA  |  0  |  1  |  0  | \n",
       "|  0  |  1  |  2  |  0  |  1  |  1  |  0  |  1  |  0  |  0  | ... |  1  |  1  |  1  |  0  |  2  |  0  |  1  |  6  |  0  |  0  | \n",
       "|  0  |  1  |  0  |  0  |  0  |  1  |  1  |  0  |  5  |  1  | ... |  0  |  0  |  1  |  0  |  0  |  1  |  0  | NA  |  1  |  0  | \n",
       "|  2  |  0  |  1  |  4  |  2  | 47  |  2  |  0  |  5  |  1  | ... |  0  |  0  |  1  |  0  |  1  |  2  |  0  |  0  |  1  |  0  | \n",
       "|  1  |  0  |  0  |  1  |  1  |  0  |  1  |  1  |  1  |  1  | ... |  1  |  2  |  1  |  0  |  0  |  1  |  1  |  1  |  1  |  0  | \n",
       "|  0  |  1  |  0  |  0  |  0  |  1  |  0  |  1  |  0  |  1  | ... |  1  |  1  |  1  |  0  |  0  |  0  |  1  |  1  |  6  |  0  | \n",
       "|  1  |  1  |  1  |  5  |  0  |  1  |  1  |  0  |  1  |  1  | ... |  1  |  0  |  1  |  0  |  1  |  1  |  1  |  7  |  0  |  0  | \n",
       "|  6  |  2  |  0  |  0  |  0  |  2  |  1  |  1  |  1  |  3  | ... |  0  |  0  |  3  |  0  |  0  |  1  |  0  |  0  |  1  |  0  | \n",
       "|  1  |  0  |  1  |  2  |  3  |  0  |  5  |  0  |  0  |  1  | ... |  0  |  0  |  1  |  0  |  1  |  1  |  0  |  0  | NA  |  0  | \n",
       "|  0  |  0  |  0  |  1  |  1  |  0  |  0  |  1  |  0  |  0  | ... |  1  |  3  |  0  |  0  |  0  |  5  |  0  |  1  |  1  | NA  | \n",
       "|  0  |  0  |  0  |  0  |  0  |  0  |  5  |  0  |  0  |  0  | ... |  0  |  0  |  0  |  0  |  0  |  1  |  0  |  0  |  1  |  0  | \n",
       "\n",
       "\n"
      ],
      "text/plain": [
       "      [,1] [,2] [,3] [,4] [,5] [,6] [,7] [,8] [,9] [,10] [,11] [,12] [,13]\n",
       " [1,] NA    0    0    1    1    0    1    1    1    1    ...    1     2   \n",
       " [2,]  3    0    4    2    2    0    4    2    3    1    ...    2     2   \n",
       " [3,]  1   NA    3    1    2    0    0    0    0    0    ...    1     1   \n",
       " [4,]  0    0   NA    0    2    0    5    0    0    0    ...    9     0   \n",
       " [5,]  1    0    0    1    0    0    1    1    1    0    ...    1     2   \n",
       " [6,]  1    0    7   NA    3    0    0    0    0    0    ...    8     1   \n",
       " [7,]  0    0    1    1   NA    0    5    0    0    0    ...    0     0   \n",
       " [8,]  1    0    1    1    1   NA    0    0    0    1    ...    0     1   \n",
       " [9,]  0    0    0    1    1    0   NA    0    0    1    ...    1     2   \n",
       "[10,]  3    1    1    4    1    1    2   NA    2    2    ...    0     1   \n",
       "[11,]  0    1    1    1    1    1    0    0    0    2    ...    1     1   \n",
       "[12,]  3    0    5    4    4    0    5    0   NA    1    ...    7     0   \n",
       "[13,]  3   45    3    3    8   45    3   25    3   NA    ...    2     2   \n",
       "[14,]  4    1    0    2    9    1    3    0    5    1    ...    0     0   \n",
       "[15,]  1    0    0    1    0    0    1    1    1    0    ...    1     2   \n",
       "[16,]  1    1    1    1    1    1    0   29    0   40    ...    0     0   \n",
       "[17,]  5    1    1    1    1    1    1    2    1    1    ...    1     2   \n",
       "[18,]  1    0    0    1    1    0    0    0    0    0    ...    0     0   \n",
       "[19,]  2    1    0    5    1    1    1    1    1    2    ...    0     1   \n",
       "[20,]  0    0    1    0    1    0    0    0    0    1    ...    0     0   \n",
       "[21,]  0    0    0    0    0    0    0    0    0    1    ...    0     0   \n",
       "[22,]  2    0    6    2    2    0    0    0    0    0    ...   NA     0   \n",
       "[23,]  2    0    6    3    4    0    0    0    0    1    ...    0    NA   \n",
       "[24,]  2    0    6    5    3    0    1    1    1    0    ...    8     1   \n",
       "[25,]  1    1    0    1    8    1    1    2    1    1    ...    0    45   \n",
       "[26,]  0    0    0    0    0    0    0    0    0    1    ...    0     0   \n",
       "[27,]  2    0    6    4    3    0    2    0    5    3    ...    8     1   \n",
       "[28,]  0    2    0    0    0    2    1    1    5    2    ...    1    46   \n",
       "[29,]  2    0    0    2    9    0    4    0    1    0    ...    1     1   \n",
       "[30,]  1   47    2    1    2    2    0    1    0   39    ...    1     1   \n",
       "[31,]  0    0    0    1    1    0    0    0    0    0    ...    0     1   \n",
       "[32,]  1    0    1    1    2    0    0    0    0    0    ...    8     0   \n",
       "[33,]  0    0    0    1    1    0    0    1    0    0    ...    1     2   \n",
       "[34,]  0    0    0    1    1    0    0    1    0    0    ...    0     1   \n",
       "[35,]  5    1    1    1    1    1    2   31    2    1    ...    1     2   \n",
       "[36,]  0    0    0    0    0    0    1    0    5    0    ...    0     0   \n",
       "[37,]  0    1    2    0    1    1    0    1    0    0    ...    1     1   \n",
       "[38,]  0    1    0    0    0    1    1    0    5    1    ...    0     0   \n",
       "[39,]  2    0    1    4    2   47    2    0    5    1    ...    0     0   \n",
       "[40,]  1    0    0    1    1    0    1    1    1    1    ...    1     2   \n",
       "[41,]  0    1    0    0    0    1    0    1    0    1    ...    1     1   \n",
       "[42,]  1    1    1    5    0    1    1    0    1    1    ...    1     0   \n",
       "[43,]  6    2    0    0    0    2    1    1    1    3    ...    0     0   \n",
       "[44,]  1    0    1    2    3    0    5    0    0    1    ...    0     0   \n",
       "[45,]  0    0    0    1    1    0    0    1    0    0    ...    1     3   \n",
       "[46,]  0    0    0    0    0    0    5    0    0    0    ...    0     0   \n",
       "      [,14] [,15] [,16] [,17] [,18] [,19] [,20] [,21]\n",
       " [1,]  1     0     0     1     1     1     1     0   \n",
       " [2,] 28     0     2     4     2     5     6     0   \n",
       " [3,]  0     0     3     0    11     5     0     0   \n",
       " [4,]  0     0     2     1     1     1     1     0   \n",
       " [5,]  0     0     0     1     0     1     1     0   \n",
       " [6,]  0     0     3     6     2     2     1     0   \n",
       " [7,]  0     0     1     1     0     0     1     0   \n",
       " [8,]  0     0     1     0    11     0     0     0   \n",
       " [9,]  1     0     0     6     0     1     1     0   \n",
       "[10,]  2     0     1     2     9     0     1     0   \n",
       "[11,]  1     0     1     6     1     7     1     0   \n",
       "[12,] 30     0     5     2     2     2     1     0   \n",
       "[13,]  6     0     3     3     8     5     3     0   \n",
       "[14,]  1     0     0     3     0     0     3     0   \n",
       "[15,]  0     0     0     1     0     1     1     0   \n",
       "[16,]  2     0     1     0    11     0     0     0   \n",
       "[17,]  2     0     1     1     1     6     5     0   \n",
       "[18,]  0     0     6     0     0     0     0     0   \n",
       "[19,]  2     0     5     1     0     0     0     0   \n",
       "[20,]  1     0     1     0     0     0     0     0   \n",
       "[21,]  0     0     0     0     0     0     0     0   \n",
       "[22,]  0     0     6     0     0     1     0     0   \n",
       "[23,]  0     0     2     6     0     0     1     0   \n",
       "[24,] NA     0     3     1     2     1     6     0   \n",
       "[25,]  1     0     0     4     0     0     5     0   \n",
       "[26,]  1     0     0     0     0     0     0     0   \n",
       "[27,] 27     0     3     2     1     0     1     0   \n",
       "[28,]  2     0     0     1     0     1     1     0   \n",
       "[29,]  0     0     5     2     1     1     2     0   \n",
       "[30,]  3     0     6     0     1     5     0     0   \n",
       "[31,]  0     0     0     0     0     0     0     0   \n",
       "[32,]  0    NA     6     0     1     1     0     0   \n",
       "[33,]  0     0    NA     0     0     1     0     0   \n",
       "[34,]  0     0     0    NA     0     0     0     0   \n",
       "[35,]  1     0     1     2     1     6     2     0   \n",
       "[36,]  0     0     0     1    NA     0     1     0   \n",
       "[37,]  1     0     2     0     1     6     0     0   \n",
       "[38,]  1     0     0     1     0    NA     1     0   \n",
       "[39,]  1     0     1     2     0     0     1     0   \n",
       "[40,]  1     0     0     1     1     1     1     0   \n",
       "[41,]  1     0     0     0     1     1     6     0   \n",
       "[42,]  1     0     1     1     1     7     0     0   \n",
       "[43,]  3     0     0     1     0     0     1     0   \n",
       "[44,]  1     0     1     1     0     0    NA     0   \n",
       "[45,]  0     0     0     5     0     1     1    NA   \n",
       "[46,]  0     0     0     1     0     0     1     0   "
      ]
     },
     "metadata": {},
     "output_type": "display_data"
    }
   ],
   "source": [
    "abs(rank.N[,article.rank<=50]-rank.T[,article.rank<=50])"
   ]
  },
  {
   "cell_type": "code",
   "execution_count": 214,
   "metadata": {},
   "outputs": [
    {
     "data": {
      "text/html": [
       "<ol class=list-inline>\n",
       "\t<li>0.727272727272727</li>\n",
       "\t<li>3.26086956521739</li>\n",
       "\t<li>1.54545454545455</li>\n",
       "\t<li>1.04545454545455</li>\n",
       "\t<li>0.478260869565217</li>\n",
       "\t<li>1.59090909090909</li>\n",
       "\t<li>0.454545454545455</li>\n",
       "\t<li>0.954545454545455</li>\n",
       "\t<li>0.772727272727273</li>\n",
       "\t<li>1.72727272727273</li>\n",
       "\t<li>1.34782608695652</li>\n",
       "\t<li>3.36363636363636</li>\n",
       "\t<li>8.45454545454546</li>\n",
       "\t<li>1.52173913043478</li>\n",
       "\t<li>0.478260869565217</li>\n",
       "\t<li>4.17391304347826</li>\n",
       "\t<li>1.63636363636364</li>\n",
       "\t<li>0.409090909090909</li>\n",
       "\t<li>1.21739130434783</li>\n",
       "\t<li>0.636363636363636</li>\n",
       "\t<li>0.130434782608696</li>\n",
       "\t<li>0.863636363636364</li>\n",
       "\t<li>1.22727272727273</li>\n",
       "\t<li>1.90909090909091</li>\n",
       "\t<li>3.21739130434783</li>\n",
       "\t<li>14.5652173913043</li>\n",
       "\t<li>3.43478260869565</li>\n",
       "\t<li>3</li>\n",
       "\t<li>1.34782608695652</li>\n",
       "\t<li>5.39130434782609</li>\n",
       "\t<li>0.130434782608696</li>\n",
       "\t<li>1</li>\n",
       "\t<li>0.318181818181818</li>\n",
       "\t<li>0.181818181818182</li>\n",
       "\t<li>2.82608695652174</li>\n",
       "\t<li>0.363636363636364</li>\n",
       "\t<li>1.08695652173913</li>\n",
       "\t<li>0.636363636363636</li>\n",
       "\t<li>3.34782608695652</li>\n",
       "\t<li>0.739130434782609</li>\n",
       "\t<li>0.739130434782609</li>\n",
       "\t<li>1.17391304347826</li>\n",
       "\t<li>1.17391304347826</li>\n",
       "\t<li>0.818181818181818</li>\n",
       "\t<li>0.636363636363636</li>\n",
       "\t<li>0.304347826086957</li>\n",
       "</ol>\n"
      ],
      "text/latex": [
       "\\begin{enumerate*}\n",
       "\\item 0.727272727272727\n",
       "\\item 3.26086956521739\n",
       "\\item 1.54545454545455\n",
       "\\item 1.04545454545455\n",
       "\\item 0.478260869565217\n",
       "\\item 1.59090909090909\n",
       "\\item 0.454545454545455\n",
       "\\item 0.954545454545455\n",
       "\\item 0.772727272727273\n",
       "\\item 1.72727272727273\n",
       "\\item 1.34782608695652\n",
       "\\item 3.36363636363636\n",
       "\\item 8.45454545454546\n",
       "\\item 1.52173913043478\n",
       "\\item 0.478260869565217\n",
       "\\item 4.17391304347826\n",
       "\\item 1.63636363636364\n",
       "\\item 0.409090909090909\n",
       "\\item 1.21739130434783\n",
       "\\item 0.636363636363636\n",
       "\\item 0.130434782608696\n",
       "\\item 0.863636363636364\n",
       "\\item 1.22727272727273\n",
       "\\item 1.90909090909091\n",
       "\\item 3.21739130434783\n",
       "\\item 14.5652173913043\n",
       "\\item 3.43478260869565\n",
       "\\item 3\n",
       "\\item 1.34782608695652\n",
       "\\item 5.39130434782609\n",
       "\\item 0.130434782608696\n",
       "\\item 1\n",
       "\\item 0.318181818181818\n",
       "\\item 0.181818181818182\n",
       "\\item 2.82608695652174\n",
       "\\item 0.363636363636364\n",
       "\\item 1.08695652173913\n",
       "\\item 0.636363636363636\n",
       "\\item 3.34782608695652\n",
       "\\item 0.739130434782609\n",
       "\\item 0.739130434782609\n",
       "\\item 1.17391304347826\n",
       "\\item 1.17391304347826\n",
       "\\item 0.818181818181818\n",
       "\\item 0.636363636363636\n",
       "\\item 0.304347826086957\n",
       "\\end{enumerate*}\n"
      ],
      "text/markdown": [
       "1. 0.727272727272727\n",
       "2. 3.26086956521739\n",
       "3. 1.54545454545455\n",
       "4. 1.04545454545455\n",
       "5. 0.478260869565217\n",
       "6. 1.59090909090909\n",
       "7. 0.454545454545455\n",
       "8. 0.954545454545455\n",
       "9. 0.772727272727273\n",
       "10. 1.72727272727273\n",
       "11. 1.34782608695652\n",
       "12. 3.36363636363636\n",
       "13. 8.45454545454546\n",
       "14. 1.52173913043478\n",
       "15. 0.478260869565217\n",
       "16. 4.17391304347826\n",
       "17. 1.63636363636364\n",
       "18. 0.409090909090909\n",
       "19. 1.21739130434783\n",
       "20. 0.636363636363636\n",
       "21. 0.130434782608696\n",
       "22. 0.863636363636364\n",
       "23. 1.22727272727273\n",
       "24. 1.90909090909091\n",
       "25. 3.21739130434783\n",
       "26. 14.5652173913043\n",
       "27. 3.43478260869565\n",
       "28. 3\n",
       "29. 1.34782608695652\n",
       "30. 5.39130434782609\n",
       "31. 0.130434782608696\n",
       "32. 1\n",
       "33. 0.318181818181818\n",
       "34. 0.181818181818182\n",
       "35. 2.82608695652174\n",
       "36. 0.363636363636364\n",
       "37. 1.08695652173913\n",
       "38. 0.636363636363636\n",
       "39. 3.34782608695652\n",
       "40. 0.739130434782609\n",
       "41. 0.739130434782609\n",
       "42. 1.17391304347826\n",
       "43. 1.17391304347826\n",
       "44. 0.818181818181818\n",
       "45. 0.636363636363636\n",
       "46. 0.304347826086957\n",
       "\n",
       "\n"
      ],
      "text/plain": [
       " [1]  0.7272727  3.2608696  1.5454545  1.0454545  0.4782609  1.5909091\n",
       " [7]  0.4545455  0.9545455  0.7727273  1.7272727  1.3478261  3.3636364\n",
       "[13]  8.4545455  1.5217391  0.4782609  4.1739130  1.6363636  0.4090909\n",
       "[19]  1.2173913  0.6363636  0.1304348  0.8636364  1.2272727  1.9090909\n",
       "[25]  3.2173913 14.5652174  3.4347826  3.0000000  1.3478261  5.3913043\n",
       "[31]  0.1304348  1.0000000  0.3181818  0.1818182  2.8260870  0.3636364\n",
       "[37]  1.0869565  0.6363636  3.3478261  0.7391304  0.7391304  1.1739130\n",
       "[43]  1.1739130  0.8181818  0.6363636  0.3043478"
      ]
     },
     "metadata": {},
     "output_type": "display_data"
    }
   ],
   "source": [
    "rowMeans(abs(rank.N[,article.rank<=50]-rank.T[,article.rank<=50]),na.rm=T)"
   ]
  },
  {
   "cell_type": "code",
   "execution_count": 215,
   "metadata": {},
   "outputs": [
    {
     "data": {
      "text/html": [
       "1.87738443031449"
      ],
      "text/latex": [
       "1.87738443031449"
      ],
      "text/markdown": [
       "1.87738443031449"
      ],
      "text/plain": [
       "[1] 1.877384"
      ]
     },
     "metadata": {},
     "output_type": "display_data"
    }
   ],
   "source": [
    "mean(rowMeans(abs(rank.N[,article.rank<=50]-rank.T[,article.rank<=50]),na.rm=T))"
   ]
  },
  {
   "cell_type": "markdown",
   "metadata": {},
   "source": [
    "On voit que la moyenne de changment du rang est presque diminuer de moitie en gardant uniquement les recommandations qui pourrait etre considere pertinante.\n",
    "\n",
    "Donc, pour les recommandatinos pertinantes, le rang change tres peu en moyenne ce qui est bon signe car la methode des cosinus nous permet encore de trouver de bonnes recommandations."
   ]
  },
  {
   "cell_type": "code",
   "execution_count": null,
   "metadata": {},
   "outputs": [],
   "source": []
  }
 ],
 "metadata": {
  "kernelspec": {
   "display_name": "R",
   "language": "R",
   "name": "ir"
  },
  "language_info": {
   "codemirror_mode": "r",
   "file_extension": ".r",
   "mimetype": "text/x-r-source",
   "name": "R",
   "pygments_lexer": "r",
   "version": "3.5.1"
  }
 },
 "nbformat": 4,
 "nbformat_minor": 2
}
