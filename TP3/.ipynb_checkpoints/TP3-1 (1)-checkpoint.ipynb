{
 "cells": [
  {
   "cell_type": "markdown",
   "metadata": {},
   "source": [
    "# TP 3 Dong Qiao yang 1679714 Olivier Provost 1689636 "
   ]
  },
  {
   "cell_type": "code",
   "execution_count": 15,
   "metadata": {},
   "outputs": [],
   "source": [
    "# Lecture des datasets et des fonctions \n",
    "library(Matrix)\n",
    "u.data <- read.csv(file = 'data.csv', sep='|', header=T)\n",
    "u.user <- read.csv(file = 'user.csv', sep='|', header=T)\n",
    "u.item <- read.csv(file = 'item.csv', sep='|', header=T)\n",
    "\n",
    "mae <- function(m1, m2) mean(abs(m1 - m2), na.rm=T)\n",
    "matrix.cos <- function(m) {\n",
    "(m %*% t(m)) / ( t(matrix(sqrt(rowSums(m^2)),nrow(m),nrow(m)))*(sqrt(rowSums(m^2))))\n",
    "}\n",
    "mae.rmse <- function(m, m.hat) {\n",
    "    return(list(mae=mean(abs((m - m.hat)[!is.na(m)]),na.rm=T), rmse=sqrt(mean((m - m.hat)^2, na.rm=T))))\n",
    "}\n",
    "colMeans.sparse <- function(m) {colSums(m)/colSums(m>0)}\n",
    "rowMeans.sparse <- function(m) {rowSums(m)/rowSums(m>0)}\n",
    "means.sparse <- function(v) {sum(v)/sum(v>0)}\n",
    "\n",
    "\n",
    "# Trouve les indexes des premieres 'n' valeurs maximales d'une matrice\n",
    "max.nindex <- function(m, n=5) {\n",
    "    i <- order(m, decreasing=TRUE)\n",
    "    return(i[1:n])\n",
    "}\n",
    "# Trouve les indexes des premieres 'n' valeurs minimales d'une matrice\n",
    "min.nindex <- function(m, n=5) {\n",
    "    i <- order(m)\n",
    "    return(i[1:n])\n",
    "}\n",
    "cosinus.vm <- function(v,m) { \n",
    "    n <- sqrt(colSums(m^2)); \n",
    "    (v %*% m)/(n * sqrt(sum(v^2)))\n",
    "}"
   ]
  },
  {
   "cell_type": "code",
   "execution_count": 16,
   "metadata": {},
   "outputs": [],
   "source": [
    "# Lecture de la matrice\n",
    "m <- sparseMatrix(u.data[,1],u.data[,2],x=u.data[,3])\n",
    "rownames(m) <- paste('u', 1:nrow(m), sep='')\n",
    "colnames(m) <- paste('i', 1:ncol(m), sep='')\n",
    "m <- as.matrix(m)\n",
    "m.na <- m\n",
    "m.full <- m\n",
    "m.na[m==0] <- NA"
   ]
  },
  {
   "cell_type": "code",
   "execution_count": 17,
   "metadata": {},
   "outputs": [
    {
     "data": {
      "text/html": [
       "<table>\n",
       "<thead><tr><th scope=col>[1677,]</th><th scope=col>[1678,]</th><th scope=col>[1679,]</th><th scope=col>[1680,]</th><th scope=col>[1681,]</th><th scope=col>[1682,]</th></tr></thead>\n",
       "<tbody>\n",
       "\t<tr><td>3.305147</td><td>2.305147</td><td>3.305147</td><td>2.805147</td><td>3.305147</td><td>3.305147</td></tr>\n",
       "\t<tr><td>3.354839</td><td>2.354839</td><td>3.354839</td><td>2.854839</td><td>3.354839</td><td>3.354839</td></tr>\n",
       "\t<tr><td>2.898148</td><td>1.898148</td><td>2.898148</td><td>2.398148</td><td>2.898148</td><td>2.898148</td></tr>\n",
       "\t<tr><td>3.666667</td><td>2.666667</td><td>3.666667</td><td>3.166667</td><td>3.666667</td><td>3.666667</td></tr>\n",
       "\t<tr><td>2.937143</td><td>1.937143</td><td>2.937143</td><td>2.437143</td><td>2.937143</td><td>2.937143</td></tr>\n",
       "\t<tr><td>3.317536</td><td>2.317536</td><td>3.317536</td><td>2.817536</td><td>3.317536</td><td>3.317536</td></tr>\n",
       "</tbody>\n",
       "</table>\n"
      ],
      "text/latex": [
       "\\begin{tabular}{llllll}\n",
       " {[}1677,{]} & {[}1678,{]} & {[}1679,{]} & {[}1680,{]} & {[}1681,{]} & {[}1682,{]}\\\\\n",
       "\\hline\n",
       "\t 3.305147 & 2.305147 & 3.305147 & 2.805147 & 3.305147 & 3.305147\\\\\n",
       "\t 3.354839 & 2.354839 & 3.354839 & 2.854839 & 3.354839 & 3.354839\\\\\n",
       "\t 2.898148 & 1.898148 & 2.898148 & 2.398148 & 2.898148 & 2.898148\\\\\n",
       "\t 3.666667 & 2.666667 & 3.666667 & 3.166667 & 3.666667 & 3.666667\\\\\n",
       "\t 2.937143 & 1.937143 & 2.937143 & 2.437143 & 2.937143 & 2.937143\\\\\n",
       "\t 3.317536 & 2.317536 & 3.317536 & 2.817536 & 3.317536 & 3.317536\\\\\n",
       "\\end{tabular}\n"
      ],
      "text/markdown": [
       "\n",
       "[1677,] | [1678,] | [1679,] | [1680,] | [1681,] | [1682,] | \n",
       "|---|---|---|---|---|---|\n",
       "| 3.305147 | 2.305147 | 3.305147 | 2.805147 | 3.305147 | 3.305147 | \n",
       "| 3.354839 | 2.354839 | 3.354839 | 2.854839 | 3.354839 | 3.354839 | \n",
       "| 2.898148 | 1.898148 | 2.898148 | 2.398148 | 2.898148 | 2.898148 | \n",
       "| 3.666667 | 2.666667 | 3.666667 | 3.166667 | 3.666667 | 3.666667 | \n",
       "| 2.937143 | 1.937143 | 2.937143 | 2.437143 | 2.937143 | 2.937143 | \n",
       "| 3.317536 | 2.317536 | 3.317536 | 2.817536 | 3.317536 | 3.317536 | \n",
       "\n",
       "\n"
      ],
      "text/plain": [
       "     [1677,]  [1678,]  [1679,]  [1680,]  [1681,]  [1682,] \n",
       "[1,] 3.305147 2.305147 3.305147 2.805147 3.305147 3.305147\n",
       "[2,] 3.354839 2.354839 3.354839 2.854839 3.354839 3.354839\n",
       "[3,] 2.898148 1.898148 2.898148 2.398148 2.898148 2.898148\n",
       "[4,] 3.666667 2.666667 3.666667 3.166667 3.666667 3.666667\n",
       "[5,] 2.937143 1.937143 2.937143 2.437143 2.937143 2.937143\n",
       "[6,] 3.317536 2.317536 3.317536 2.817536 3.317536 3.317536"
      ]
     },
     "metadata": {},
     "output_type": "display_data"
    }
   ],
   "source": [
    "u.mean <- matrix(rowMeans(m.na, na.rm=T), nrow(m), ncol(m))\n",
    "item.mean <- matrix(colMeans(m.na, na.rm=T), nrow(m), ncol(m), byrow=T)\n",
    "m.expect <- ((u.mean + item.mean)/2)\n",
    "corner <- function(m, ...) head(t(tail(t(m), ...)), ...)\n",
    "corner(m.expect)"
   ]
  },
  {
   "cell_type": "markdown",
   "metadata": {},
   "source": [
    "1) On établit performance minimal: moyenne des lignes et colonnes \n",
    "\n",
    "On se trompe en moyenne de 0.78 par préduction avec ce baseline.\n",
    "Ce dernier représente le pire résultat qu'on peut espérer. \n",
    "Le mae de du svd est espéré à un résultat meilleur que 0.78"
   ]
  },
  {
   "cell_type": "code",
   "execution_count": 18,
   "metadata": {},
   "outputs": [
    {
     "data": {
      "text/html": [
       "0.78258306017685"
      ],
      "text/latex": [
       "0.78258306017685"
      ],
      "text/markdown": [
       "0.78258306017685"
      ],
      "text/plain": [
       "[1] 0.7825831"
      ]
     },
     "metadata": {},
     "output_type": "display_data"
    }
   ],
   "source": [
    "mae(m.expect, m.na)"
   ]
  },
  {
   "cell_type": "markdown",
   "metadata": {},
   "source": [
    "On remplie la matrice avec la moyenne des lignes et colonnes\n",
    "on normalise la colone en divisant par 5 (la note maximale)"
   ]
  },
  {
   "cell_type": "code",
   "execution_count": 19,
   "metadata": {},
   "outputs": [],
   "source": [
    "m.full[m==0] <- m.expect[m==0]\n",
    "# Normaliser la matrice en enlevant la moyenne des lignes de la matrice\n",
    "rowM <- rowMeans(m.full)\n",
    "m.full <- m.full - rowM\n",
    "m.svd <- svd(m.full)"
   ]
  },
  {
   "cell_type": "markdown",
   "metadata": {},
   "source": [
    "3) 4) Effectuez l'estimation des votes sur la base de SVD avec 10 dimensions et calculez l'erreur absolue moyenne et l'erreur quadratique moyenne."
   ]
  },
  {
   "cell_type": "code",
   "execution_count": 20,
   "metadata": {},
   "outputs": [
    {
     "data": {
      "text/html": [
       "<dl>\n",
       "\t<dt>$mae</dt>\n",
       "\t\t<dd>0.687755782551384</dd>\n",
       "\t<dt>$rmse</dt>\n",
       "\t\t<dd>0.868991122855088</dd>\n",
       "</dl>\n"
      ],
      "text/latex": [
       "\\begin{description}\n",
       "\\item[\\$mae] 0.687755782551384\n",
       "\\item[\\$rmse] 0.868991122855088\n",
       "\\end{description}\n"
      ],
      "text/markdown": [
       "$mae\n",
       ":   0.687755782551384\n",
       "$rmse\n",
       ":   0.868991122855088\n",
       "\n",
       "\n"
      ],
      "text/plain": [
       "$mae\n",
       "[1] 0.6877558\n",
       "\n",
       "$rmse\n",
       "[1] 0.8689911\n"
      ]
     },
     "metadata": {},
     "output_type": "display_data"
    }
   ],
   "source": [
    "new.m.mae.rmse <- function(dimRedu){\n",
    "# matrice diagonale pour réduire les matrices originales\n",
    "m.d2 <- diag(c(m.svd$d[1:dimRedu],rep(0,length(m.svd$d)-dimRedu)))\n",
    "    \n",
    "# nouvelle matrice basée sur les n premières dimensions uniquement\n",
    "m.svd2 <- m.svd$u %*% m.d2 %*% t(m.svd$v)\n",
    "mae.rmse(m.svd2 + rowM, m.na)\n",
    "    }\n",
    "new.m.mae.rmse(10)"
   ]
  },
  {
   "cell_type": "markdown",
   "metadata": {},
   "source": [
    "On remarque ici qu'en réduisant la dimension à 10, on obteint un mae de 0.687, qui est meilleur que la performance minimale. Cette erreur est petite car il n'y a pa de validation croisee."
   ]
  },
  {
   "cell_type": "markdown",
   "metadata": {},
   "source": [
    "5) Déterminez le nombre de dimensions optimal (sans appliquer de validation croisée). Un graphique doit indiquer la performance par nombre de dimension (semblable au rapport Sarwar et al.)"
   ]
  },
  {
   "cell_type": "code",
   "execution_count": 21,
   "metadata": {},
   "outputs": [],
   "source": [
    "# Calcul du mae en itération pour trouver la valeur minimale \n",
    "new.m <- function(dimRedu){\n",
    "# matrice diagonale pour réduire les matrices originales\n",
    "m.d2 <- diag(c(m.svd$d[1:dimRedu],rep(0,length(m.svd$d)-dimRedu)))\n",
    "# nouvelle matrice basée sur les deux premières dimensions uniquement\n",
    "m.svd2 <- m.svd$u %*% m.d2 %*% t(m.svd$v)\n",
    "mae(m.svd2 + rowM, m.na)\n",
    "    }\n",
    "to.plot.1 <- lapply(seq(2,152,5), new.m)\n"
   ]
  },
  {
   "cell_type": "code",
   "execution_count": 22,
   "metadata": {},
   "outputs": [
    {
     "data": {
      "image/png": "[encoded data removed]",
      "text/plain": [
       "plot without title"
      ]
     },
     "metadata": {},
     "output_type": "display_data"
    }
   ],
   "source": [
    "plot(seq(2,152,5),unlist(to.plot.1))"
   ]
  },
  {
   "cell_type": "code",
   "execution_count": 23,
   "metadata": {},
   "outputs": [
    {
     "data": {
      "text/html": [
       "3.40218520022972e-15"
      ],
      "text/latex": [
       "3.40218520022972e-15"
      ],
      "text/markdown": [
       "3.40218520022972e-15"
      ],
      "text/plain": [
       "[1] 3.402185e-15"
      ]
     },
     "metadata": {},
     "output_type": "display_data"
    }
   ],
   "source": [
    "new.m(943)"
   ]
  },
  {
   "cell_type": "markdown",
   "metadata": {},
   "source": [
    "En observant le graphique, 943 est le nombre de dimension optimal puisque son mae est minimal \n",
    "\n",
    "Selon ce graphique, plus que le nombre de dimension est grand, plus que le mae est petit. \n",
    "\n",
    "Ici le résultat est biaisé puisque nous ne faisons pas de validation croisée. Plus on gardera de dimension, plus le résultat sera prêt de la matrice initial.\n",
    "\n",
    "En plus, plus que le nombre de dimension se rappeoche du nombre maximale de dimension, le mae par le svd se rapproche 0 puisqu'on reconstrure la matrice originale. Or pour nombre de dimension de svd = nombre de dimension de la matrice originale, on recontruit la matrice originale. \n",
    "\n",
    "On observe aussi que le mae n'est pas égal à 0 pour le nombre de dimension = 943, erreur d'arrondi. "
   ]
  },
  {
   "cell_type": "markdown",
   "metadata": {},
   "source": [
    "6) Déterminez le nombre optimal de dimensions, mais en utilisant cette fois une validation croisée."
   ]
  },
  {
   "cell_type": "code",
   "execution_count": 24,
   "metadata": {},
   "outputs": [],
   "source": [
    "new.m.cv <- function(dimRedu){\n",
    "# matrice diagonale pour réduire les matrices originales\n",
    "m.d2 <- diag(c(m.svd$d[1:dimRedu],rep(0,length(m.svd$d)-dimRedu)))\n",
    "# nouvelle matrice basée sur les deux premières dimensions uniquement\n",
    "m.svd2 <- m.svd$u %*% m.d2 %*% t(m.svd$v)+r.means\n",
    "mae(m.svd2[i.test.b], m.na[i.test.b])\n",
    "    }"
   ]
  },
  {
   "cell_type": "code",
   "execution_count": 25,
   "metadata": {},
   "outputs": [],
   "source": [
    "set.seed(1)\n",
    "to.plot <- c()\n",
    "mae.svd <- list()\n",
    "i.observed <- which(m > 0)\n",
    "i.hasard <- sample(i.observed, length(i.observed))\n",
    "fold.size <- round(length(i.hasard) / 5)\n",
    "i.false <- rep(FALSE, length(m))\n",
    "for (i in seq_len(5)){\n",
    "fold.number <- i\n",
    "\n",
    "## Index booléen pour les cellules de test et d'entraînement\n",
    "i.test.b <- i.false\n",
    "## Les cellules indexées du replis correspondant sont fixées à TRUE pour le test...\n",
    "i.test.b[ i.hasard[((fold.number-1) * fold.size):((fold.number) * fold.size)] ] <- TRUE\n",
    "## ...et à FALSE pour l'entraînement\n",
    "i.train.b <-  !i.test.b\n",
    "m.train <- m\n",
    "m.train[i.test.b] <- 0                # on enlève les données de test pour l'entraînement\n",
    "m.train.na <- m.train\n",
    "m.train.na[m.train==0]<-NA\n",
    "    \n",
    "u.mean <- matrix(rowMeans(m.train.na, na.rm=T), nrow(m), ncol(m))\n",
    "item.mean <- matrix(colMeans(m.train.na, na.rm=T), nrow(m), ncol(m), byrow=T)\n",
    "m.expect <- ((u.mean + item.mean)/2)\n",
    "m.train.na[m.train==0] <-m.expect[m.train==0]\n",
    "\n",
    "r.means <- rowMeans(m.train.na,na.rm=T)\n",
    "m.train.na[!is.finite(m.train.na)]<- r.means\n",
    "r.means <- rowMeans(m.train)\n",
    "m.train.na <- m.train.na-r.means\n",
    "m.svd <- svd(m.train.na)\n",
    "to.plot<-rbind(to.plot,unlist(lapply(seq(50), new.m.cv)))\n",
    "    }"
   ]
  },
  {
   "cell_type": "code",
   "execution_count": 26,
   "metadata": {},
   "outputs": [
    {
     "data": {
      "text/html": [
       "<ol class=list-inline>\n",
       "\t<li>0.00288567898567876</li>\n",
       "\t<li>0.00310371153490126</li>\n",
       "\t<li>0.00339595809586884</li>\n",
       "\t<li>0.00317467103855336</li>\n",
       "\t<li>0.00349359087271119</li>\n",
       "\t<li>0.00304817820220297</li>\n",
       "\t<li>0.00296296056671947</li>\n",
       "\t<li>0.00288337782288628</li>\n",
       "\t<li>0.00256420024843031</li>\n",
       "\t<li>0.00235400309444681</li>\n",
       "\t<li>0.0022490127127695</li>\n",
       "\t<li>0.00274246274726847</li>\n",
       "\t<li>0.0027911969934207</li>\n",
       "\t<li>0.00318186552555679</li>\n",
       "\t<li>0.0033015379039698</li>\n",
       "\t<li>0.00324112842815547</li>\n",
       "\t<li>0.00328272608291006</li>\n",
       "\t<li>0.00316608323322683</li>\n",
       "\t<li>0.00339285880691743</li>\n",
       "\t<li>0.00328191097292954</li>\n",
       "\t<li>0.00340519333561927</li>\n",
       "\t<li>0.00338446713522487</li>\n",
       "\t<li>0.00352702597634119</li>\n",
       "\t<li>0.0036605276342187</li>\n",
       "\t<li>0.00363950878149909</li>\n",
       "\t<li>0.00373016918884792</li>\n",
       "\t<li>0.00371492915681983</li>\n",
       "\t<li>0.00376087434635149</li>\n",
       "\t<li>0.00375905484549526</li>\n",
       "\t<li>0.0037478985957183</li>\n",
       "\t<li>0.00362323942163602</li>\n",
       "\t<li>0.00384291898549445</li>\n",
       "\t<li>0.00367345382482835</li>\n",
       "\t<li>0.00335562514354842</li>\n",
       "\t<li>0.00321143238154585</li>\n",
       "\t<li>0.00318012977749227</li>\n",
       "\t<li>0.00309105920124447</li>\n",
       "\t<li>0.00301660584414706</li>\n",
       "\t<li>0.00284390565434681</li>\n",
       "\t<li>0.00294442472902041</li>\n",
       "\t<li>0.00325067106761731</li>\n",
       "\t<li>0.00337386899810504</li>\n",
       "\t<li>0.00325066734427314</li>\n",
       "\t<li>0.00344610874485783</li>\n",
       "\t<li>0.0034693013073372</li>\n",
       "\t<li>0.00355067378139039</li>\n",
       "\t<li>0.00335670968773962</li>\n",
       "\t<li>0.00334463658324638</li>\n",
       "\t<li>0.00350636754086854</li>\n",
       "\t<li>0.00335609599276137</li>\n",
       "</ol>\n"
      ],
      "text/latex": [
       "\\begin{enumerate*}\n",
       "\\item 0.00288567898567876\n",
       "\\item 0.00310371153490126\n",
       "\\item 0.00339595809586884\n",
       "\\item 0.00317467103855336\n",
       "\\item 0.00349359087271119\n",
       "\\item 0.00304817820220297\n",
       "\\item 0.00296296056671947\n",
       "\\item 0.00288337782288628\n",
       "\\item 0.00256420024843031\n",
       "\\item 0.00235400309444681\n",
       "\\item 0.0022490127127695\n",
       "\\item 0.00274246274726847\n",
       "\\item 0.0027911969934207\n",
       "\\item 0.00318186552555679\n",
       "\\item 0.0033015379039698\n",
       "\\item 0.00324112842815547\n",
       "\\item 0.00328272608291006\n",
       "\\item 0.00316608323322683\n",
       "\\item 0.00339285880691743\n",
       "\\item 0.00328191097292954\n",
       "\\item 0.00340519333561927\n",
       "\\item 0.00338446713522487\n",
       "\\item 0.00352702597634119\n",
       "\\item 0.0036605276342187\n",
       "\\item 0.00363950878149909\n",
       "\\item 0.00373016918884792\n",
       "\\item 0.00371492915681983\n",
       "\\item 0.00376087434635149\n",
       "\\item 0.00375905484549526\n",
       "\\item 0.0037478985957183\n",
       "\\item 0.00362323942163602\n",
       "\\item 0.00384291898549445\n",
       "\\item 0.00367345382482835\n",
       "\\item 0.00335562514354842\n",
       "\\item 0.00321143238154585\n",
       "\\item 0.00318012977749227\n",
       "\\item 0.00309105920124447\n",
       "\\item 0.00301660584414706\n",
       "\\item 0.00284390565434681\n",
       "\\item 0.00294442472902041\n",
       "\\item 0.00325067106761731\n",
       "\\item 0.00337386899810504\n",
       "\\item 0.00325066734427314\n",
       "\\item 0.00344610874485783\n",
       "\\item 0.0034693013073372\n",
       "\\item 0.00355067378139039\n",
       "\\item 0.00335670968773962\n",
       "\\item 0.00334463658324638\n",
       "\\item 0.00350636754086854\n",
       "\\item 0.00335609599276137\n",
       "\\end{enumerate*}\n"
      ],
      "text/markdown": [
       "1. 0.00288567898567876\n",
       "2. 0.00310371153490126\n",
       "3. 0.00339595809586884\n",
       "4. 0.00317467103855336\n",
       "5. 0.00349359087271119\n",
       "6. 0.00304817820220297\n",
       "7. 0.00296296056671947\n",
       "8. 0.00288337782288628\n",
       "9. 0.00256420024843031\n",
       "10. 0.00235400309444681\n",
       "11. 0.0022490127127695\n",
       "12. 0.00274246274726847\n",
       "13. 0.0027911969934207\n",
       "14. 0.00318186552555679\n",
       "15. 0.0033015379039698\n",
       "16. 0.00324112842815547\n",
       "17. 0.00328272608291006\n",
       "18. 0.00316608323322683\n",
       "19. 0.00339285880691743\n",
       "20. 0.00328191097292954\n",
       "21. 0.00340519333561927\n",
       "22. 0.00338446713522487\n",
       "23. 0.00352702597634119\n",
       "24. 0.0036605276342187\n",
       "25. 0.00363950878149909\n",
       "26. 0.00373016918884792\n",
       "27. 0.00371492915681983\n",
       "28. 0.00376087434635149\n",
       "29. 0.00375905484549526\n",
       "30. 0.0037478985957183\n",
       "31. 0.00362323942163602\n",
       "32. 0.00384291898549445\n",
       "33. 0.00367345382482835\n",
       "34. 0.00335562514354842\n",
       "35. 0.00321143238154585\n",
       "36. 0.00318012977749227\n",
       "37. 0.00309105920124447\n",
       "38. 0.00301660584414706\n",
       "39. 0.00284390565434681\n",
       "40. 0.00294442472902041\n",
       "41. 0.00325067106761731\n",
       "42. 0.00337386899810504\n",
       "43. 0.00325066734427314\n",
       "44. 0.00344610874485783\n",
       "45. 0.0034693013073372\n",
       "46. 0.00355067378139039\n",
       "47. 0.00335670968773962\n",
       "48. 0.00334463658324638\n",
       "49. 0.00350636754086854\n",
       "50. 0.00335609599276137\n",
       "\n",
       "\n"
      ],
      "text/plain": [
       " [1] 0.002885679 0.003103712 0.003395958 0.003174671 0.003493591 0.003048178\n",
       " [7] 0.002962961 0.002883378 0.002564200 0.002354003 0.002249013 0.002742463\n",
       "[13] 0.002791197 0.003181866 0.003301538 0.003241128 0.003282726 0.003166083\n",
       "[19] 0.003392859 0.003281911 0.003405193 0.003384467 0.003527026 0.003660528\n",
       "[25] 0.003639509 0.003730169 0.003714929 0.003760874 0.003759055 0.003747899\n",
       "[31] 0.003623239 0.003842919 0.003673454 0.003355625 0.003211432 0.003180130\n",
       "[37] 0.003091059 0.003016606 0.002843906 0.002944425 0.003250671 0.003373869\n",
       "[43] 0.003250667 0.003446109 0.003469301 0.003550674 0.003356710 0.003344637\n",
       "[49] 0.003506368 0.003356096"
      ]
     },
     "metadata": {},
     "output_type": "display_data"
    },
    {
     "data": {
      "image/png": "[encoded data removed]",
      "text/plain": [
       "Plot with title \"Scatter plot with std.dev error bars\""
      ]
     },
     "metadata": {},
     "output_type": "display_data"
    }
   ],
   "source": [
    "to.plot<-apply(to.plot,2,unlist)\n",
    "sdev <- apply(to.plot,2,sd) \n",
    "sdev\n",
    "avg <- colMeans(to.plot)\n",
    "x <- 1:length(avg)\n",
    "plot(x,colMeans(to.plot),ylim=range(c(avg-sdev, avg+sdev)),pch=19, xlab=\"Measurements\", ylab=\"Mean +/- SD\",\n",
    "    main=\"Scatter plot with std.dev error bars\"\n",
    ")\n",
    "# hack: we draw arrows but with very special \"arrowheads\"\n",
    "arrows(x, avg-sdev, x, avg+sdev, length=0.05, angle=90, code=3)"
   ]
  },
  {
   "cell_type": "markdown",
   "metadata": {},
   "source": [
    "En observant le grpahique, 12 est le nombre de dimension optimal puisque son mae est minimal \n",
    "\n",
    "Avec la validation croisée, on utilise les données d'entrainement pour calcul la nouvelle matrice avec réduction de dimension et nous calculons le mae des données de test afin de détrminer le hyperparamètre K(nombre de dimension). \n",
    "\n",
    "Ceci nous permet d'avoir une meilleure estimation de la valeur optimale de réduction de dimension. \n",
    "\n",
    "On voit que le mae diminue avec l'augmentation de dimension jusqu'à 20 et le mae augmente après ce dernier. \n",
    "\n",
    "Il n'est dont pas vrai que augmenter le nombre de dimensions à réduire amène nécesairement un meilleur mae. "
   ]
  },
  {
   "cell_type": "markdown",
   "metadata": {},
   "source": [
    "7) Comparez la performance de cette approche avec celle d'une approche collaborative de votre choix (avec l'erreur quadratique et erreur absolue moyennes). Utilisez une validation croisée."
   ]
  },
  {
   "cell_type": "code",
   "execution_count": 32,
   "metadata": {},
   "outputs": [],
   "source": [
    "i.observed <- which(m > 0)\n",
    "set.seed(1)\n",
    "i.hasard <- sample(i.observed, length(i.observed))\n",
    "fold.size <- round(length(i.hasard) / 5)\n",
    "i.false <- rep(FALSE, length(m))\n",
    "mae.svd <- c()\n",
    "mae.itemitem <- c()\n",
    "\n",
    "for (i in seq_len(5)){\n",
    "fold.number <- i\n",
    "## Index booléen pour les cellules de test et d'entraînement\n",
    "i.test.b <- i.false\n",
    "\n",
    "## Les cellules indexées du replis correspondant sont fixées à TRUE pour le test...\n",
    "i.test.b[ i.hasard[((fold.number-1) * fold.size):((fold.number) * fold.size)] ] <- TRUE\n",
    "## ...et à FALSE pour l'entraînement\n",
    "i.train.b <-  !i.test.b\n",
    "m.train <- m\n",
    "m.train[i.test.b] <- 0                # on enlève les données de test pour l'entraînement\n",
    "m.train.na <- m.train\n",
    "m.train.na[m.train==0]<-NA\n",
    "    \n",
    "u.mean <- matrix(rowMeans(m.train.na, na.rm=T), nrow(m), ncol(m))\n",
    "item.mean <- matrix(colMeans(m.train.na, na.rm=T), nrow(m), ncol(m), byrow=T)\n",
    "m.expect <- ((u.mean + item.mean)/2)\n",
    "m.train.na[m.train==0] <-m.expect[m.train==0]\n",
    "\n",
    "r.means <- rowMeans(m.train.na,na.rm=T)\n",
    "r.means.t <- rep(r.means,1682)\n",
    "m.train.na[!is.finite(m.train.na)]<- r.means\n",
    "r.means <- rowMeans(m.train)\n",
    "m.train.na <- m.train.na-r.means\n",
    "m.svd <- svd(m.train.na)\n",
    "\n",
    "dimRedu <- 11\n",
    "m.d2 <- diag(c(m.svd$d[1:dimRedu],rep(0,length(m.svd$d)-dimRedu)))\n",
    "# nouvelle matrice basée sur les deux premières dimensions uniquement\n",
    "m.svd2 <- m.svd$u %*% m.d2 %*% t(m.svd$v)+r.means\n",
    "\n",
    "    \n",
    "# Question 7 - Validation croisée pour question 3\n",
    "# Ici nous essayons de prédire les valeurs des votes du film Star trek 5 à l'aide d'une approche item-item\n",
    "m.sparse <- m\n",
    "m.sparse[i.test.b]<-0\n",
    "m.sparse.t <- t(m.sparse)\n",
    "try <- function(x,y,w) {x.0 <- x>0 ; x.temp <- (x-y)*x.0; num <-  w %*%x.temp;denum <- sum(abs(t(w))*x.0);num/denum} \n",
    "\n",
    "film_pred <- function(film_id){\n",
    "# Pour l'exercise, on choisit de prendre seulement les utilisateurs pour l'item Star Trek V: The Final Frontier\n",
    "v.item <- m.sparse.t[film_id,]\n",
    "# Le set est divisé en train set (80%) et test set (20%)\n",
    "new.m.sparse <- m.sparse\n",
    "\n",
    "voisins <- 21\n",
    "# on centre la matrice m selon les utilisateurs\n",
    "# on calcule la moyenne et centré pour enlever les biais des utilisateurs comme pour la question 4\n",
    "u.mean <-rowMeans.sparse(new.m.sparse)\n",
    "m.center <- as.matrix((new.m.sparse-u.mean)*(new.m.sparse>0))\n",
    "# on remplace les 0 par NA\n",
    "m.center[m.center==0] <- NA\n",
    "\n",
    "# on calcule la distance eucledienne entre les films\n",
    "distance.na.450.center <- sqrt(colSums((m.center[,film_id] - m.center)^2, na.rm=T)) # ignore les valeurs manquantes\n",
    "# on calcule le nombre de votes communs des films avec star trek V\n",
    "votes.communs <- (colSums((new.m.sparse[,film_id] * new.m.sparse) > 0))\n",
    "# on assigne la valeur au film qui ont moins de 40 votes communs avec star trek V\n",
    "distance.na.450.center[votes.communs<5] <- Inf\n",
    "\n",
    "closest.euc <- min.nindex(distance.na.450.center, voisins)[-1]\n",
    "\n",
    "wcos.st <- cosinus.vm(new.m.sparse[,film_id], new.m.sparse[,closest.euc])\n",
    "\n",
    "# les 20 films les plus communs\n",
    "idx<- closest.euc\n",
    "# on transpose m\n",
    "m.sparse.t <- t(new.m.sparse)\n",
    "# la range de l item de star trek V\n",
    "v.item <- m.sparse.t[film_id,]\n",
    "# la moyenne de l item de star trek V\n",
    "v_1 <-means.sparse(v.item);\n",
    "# retourne la moyenne pour chacun des 20 films voisisns\n",
    "v_i <- apply(m.sparse.t[idx,], 1, FUN=means.sparse)\n",
    "\n",
    "x<- as.matrix((m.sparse.t[idx,]))\n",
    "new_x <-lapply(seq_len(ncol(x)), function(i) x[,i]) # Retourne une liste de longeur 943 \n",
    "new_y <-as.vector(lapply(seq_len(ncol(x)), function(i) v_i)) \n",
    "new_w <-as.vector(lapply(seq_len(ncol(x)), function(i) as.matrix(wcos.st)))\n",
    "\n",
    "    \n",
    "c_prod <- mapply(try ,new_x, new_y, new_w)\n",
    "# Ajoute la moyenne de l'item \n",
    "v_1+c_prod\n",
    "}\n",
    "film_prection_list <-lapply(seq_len(1682), film_pred) # Retourne une liste de longeur 943 \n",
    "new.matrix <- do.call(cbind, film_prection_list)\n",
    "mae.temp <- mae(new.matrix[i.test.b[!is.na(new.matrix)]], m.na[i.test.b[!is.na(new.matrix)]])\n",
    "mae.itemitem <- c(mae.itemitem,mae.temp)\n",
    "mae(m.svd2[i.test.b], m.na[i.test.b])\n",
    "    \n",
    "mae.temp<-mae(m.svd2[i.test.b[!is.na(new.matrix)]] , m.na[i.test.b[!is.na(new.matrix)]])\n",
    "mae.svd <- c(mae.svd,mae.temp)\n",
    "}"
   ]
  },
  {
   "cell_type": "code",
   "execution_count": 33,
   "metadata": {},
   "outputs": [
    {
     "data": {
      "text/html": [
       "<ol class=list-inline>\n",
       "\t<li>0.697550122308388</li>\n",
       "\t<li>0.697856369005332</li>\n",
       "\t<li>0.681496366628277</li>\n",
       "\t<li>0.701732326125773</li>\n",
       "\t<li>0.694699834520873</li>\n",
       "</ol>\n"
      ],
      "text/latex": [
       "\\begin{enumerate*}\n",
       "\\item 0.697550122308388\n",
       "\\item 0.697856369005332\n",
       "\\item 0.681496366628277\n",
       "\\item 0.701732326125773\n",
       "\\item 0.694699834520873\n",
       "\\end{enumerate*}\n"
      ],
      "text/markdown": [
       "1. 0.697550122308388\n",
       "2. 0.697856369005332\n",
       "3. 0.681496366628277\n",
       "4. 0.701732326125773\n",
       "5. 0.694699834520873\n",
       "\n",
       "\n"
      ],
      "text/plain": [
       "[1] 0.6975501 0.6978564 0.6814964 0.7017323 0.6946998"
      ]
     },
     "metadata": {},
     "output_type": "display_data"
    }
   ],
   "source": [
    "mae.svd"
   ]
  },
  {
   "cell_type": "code",
   "execution_count": 34,
   "metadata": {},
   "outputs": [
    {
     "data": {
      "text/html": [
       "<ol class=list-inline>\n",
       "\t<li>0.614065028778691</li>\n",
       "\t<li>0.603851187778125</li>\n",
       "\t<li>0.580957771832819</li>\n",
       "\t<li>0.609293523577507</li>\n",
       "\t<li>0.590108828377141</li>\n",
       "</ol>\n"
      ],
      "text/latex": [
       "\\begin{enumerate*}\n",
       "\\item 0.614065028778691\n",
       "\\item 0.603851187778125\n",
       "\\item 0.580957771832819\n",
       "\\item 0.609293523577507\n",
       "\\item 0.590108828377141\n",
       "\\end{enumerate*}\n"
      ],
      "text/markdown": [
       "1. 0.614065028778691\n",
       "2. 0.603851187778125\n",
       "3. 0.580957771832819\n",
       "4. 0.609293523577507\n",
       "5. 0.590108828377141\n",
       "\n",
       "\n"
      ],
      "text/plain": [
       "[1] 0.6140650 0.6038512 0.5809578 0.6092935 0.5901088"
      ]
     },
     "metadata": {},
     "output_type": "display_data"
    }
   ],
   "source": [
    "mae.itemitem"
   ]
  },
  {
   "cell_type": "code",
   "execution_count": 35,
   "metadata": {},
   "outputs": [
    {
     "data": {
      "text/html": [
       "0.694667003717729"
      ],
      "text/latex": [
       "0.694667003717729"
      ],
      "text/markdown": [
       "0.694667003717729"
      ],
      "text/plain": [
       "[1] 0.694667"
      ]
     },
     "metadata": {},
     "output_type": "display_data"
    }
   ],
   "source": [
    "mean(mae.svd)"
   ]
  },
  {
   "cell_type": "code",
   "execution_count": 36,
   "metadata": {},
   "outputs": [
    {
     "data": {
      "text/html": [
       "0.599655268068857"
      ],
      "text/latex": [
       "0.599655268068857"
      ],
      "text/markdown": [
       "0.599655268068857"
      ],
      "text/plain": [
       "[1] 0.5996553"
      ]
     },
     "metadata": {},
     "output_type": "display_data"
    }
   ],
   "source": [
    "mean(mae.itemitem)"
   ]
  },
  {
   "cell_type": "markdown",
   "metadata": {
    "collapsed": true
   },
   "source": [
    "En utilisant la validaion croisée, le mae de l'approche svd avec réduction de dimension min est meilleure que le mae de l'approche item-item. "
   ]
  }
 ],
 "metadata": {
  "kernelspec": {
   "display_name": "R",
   "language": "R",
   "name": "ir"
  },
  "language_info": {
   "codemirror_mode": "r",
   "file_extension": ".r",
   "mimetype": "text/x-r-source",
   "name": "R",
   "pygments_lexer": "r",
   "version": "3.5.1"
  }
 },
 "nbformat": 4,
 "nbformat_minor": 2
}
