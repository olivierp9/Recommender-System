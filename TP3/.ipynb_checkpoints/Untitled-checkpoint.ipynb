{
 "cells": [
  {
   "cell_type": "code",
   "execution_count": 1,
   "metadata": {},
   "outputs": [],
   "source": [
    "library(Matrix)\n",
    "u.data <- read.csv(file = 'data.csv', sep='|', header=T)\n",
    "u.user <- read.csv(file = 'user.csv', sep='|', header=T)\n",
    "u.item <- read.csv(file = 'item.csv', sep='|', header=T)\n",
    "\n",
    "mae <- function(m1, m2) mean(abs(m1 - m2), na.rm=T)\n",
    "matrix.cos <- function(m) {\n",
    "(m %*% t(m)) / ( t(matrix(sqrt(rowSums(m^2)),nrow(m),nrow(m)))*(sqrt(rowSums(m^2))))\n",
    "}\n",
    "mae.rmse <- function(m, m.hat) {\n",
    "    return(list(mae=mean(abs((m - m.hat)[!is.na(m)]),na.rm=T), rmse=sqrt(mean((m - m.hat)^2, na.rm=T))))\n",
    "}\n",
    "colMeans.sparse <- function(m) {colSums(m)/colSums(m>0)}\n",
    "rowMeans.sparse <- function(m) {rowSums(m)/rowSums(m>0)}\n",
    "means.sparse <- function(v) {sum(v)/sum(v>0)}\n",
    "\n",
    "\n",
    "# Trouve les indexes des premieres 'n' valeurs maximales d'une matrice\n",
    "max.nindex <- function(m, n=5) {\n",
    "    i <- order(m, decreasing=TRUE)\n",
    "    return(i[1:n])\n",
    "}\n",
    "# Trouve les indexes des premieres 'n' valeurs minimales d'une matrice\n",
    "min.nindex <- function(m, n=5) {\n",
    "    i <- order(m)\n",
    "    return(i[1:n])\n",
    "}\n",
    "cosinus.vm <- function(v,m) { \n",
    "    n <- sqrt(colSums(m^2)); \n",
    "    (v %*% m)/(n * sqrt(sum(v^2)))\n",
    "}"
   ]
  },
  {
   "cell_type": "code",
   "execution_count": 19,
   "metadata": {},
   "outputs": [],
   "source": [
    "library(parallel)"
   ]
  },
  {
   "cell_type": "code",
   "execution_count": 2,
   "metadata": {},
   "outputs": [],
   "source": [
    "m <- sparseMatrix(u.data[,1],u.data[,2],x=u.data[,3])\n",
    "rownames(m) <- paste('u', 1:nrow(m), sep='')\n",
    "colnames(m) <- paste('i', 1:ncol(m), sep='')\n",
    "m <- as.matrix(m)\n",
    "m.na <- m\n",
    "m.full <- m\n",
    "m.na[m==0] <- NA"
   ]
  },
  {
   "cell_type": "code",
   "execution_count": 3,
   "metadata": {},
   "outputs": [
    {
     "data": {
      "text/html": [
       "<table>\n",
       "<thead><tr><th scope=col>[1677,]</th><th scope=col>[1678,]</th><th scope=col>[1679,]</th><th scope=col>[1680,]</th><th scope=col>[1681,]</th><th scope=col>[1682,]</th></tr></thead>\n",
       "<tbody>\n",
       "\t<tr><td>3.305147</td><td>2.305147</td><td>3.305147</td><td>2.805147</td><td>3.305147</td><td>3.305147</td></tr>\n",
       "\t<tr><td>3.354839</td><td>2.354839</td><td>3.354839</td><td>2.854839</td><td>3.354839</td><td>3.354839</td></tr>\n",
       "\t<tr><td>2.898148</td><td>1.898148</td><td>2.898148</td><td>2.398148</td><td>2.898148</td><td>2.898148</td></tr>\n",
       "\t<tr><td>3.666667</td><td>2.666667</td><td>3.666667</td><td>3.166667</td><td>3.666667</td><td>3.666667</td></tr>\n",
       "\t<tr><td>2.937143</td><td>1.937143</td><td>2.937143</td><td>2.437143</td><td>2.937143</td><td>2.937143</td></tr>\n",
       "\t<tr><td>3.317536</td><td>2.317536</td><td>3.317536</td><td>2.817536</td><td>3.317536</td><td>3.317536</td></tr>\n",
       "</tbody>\n",
       "</table>\n"
      ],
      "text/latex": [
       "\\begin{tabular}{llllll}\n",
       " {[}1677,{]} & {[}1678,{]} & {[}1679,{]} & {[}1680,{]} & {[}1681,{]} & {[}1682,{]}\\\\\n",
       "\\hline\n",
       "\t 3.305147 & 2.305147 & 3.305147 & 2.805147 & 3.305147 & 3.305147\\\\\n",
       "\t 3.354839 & 2.354839 & 3.354839 & 2.854839 & 3.354839 & 3.354839\\\\\n",
       "\t 2.898148 & 1.898148 & 2.898148 & 2.398148 & 2.898148 & 2.898148\\\\\n",
       "\t 3.666667 & 2.666667 & 3.666667 & 3.166667 & 3.666667 & 3.666667\\\\\n",
       "\t 2.937143 & 1.937143 & 2.937143 & 2.437143 & 2.937143 & 2.937143\\\\\n",
       "\t 3.317536 & 2.317536 & 3.317536 & 2.817536 & 3.317536 & 3.317536\\\\\n",
       "\\end{tabular}\n"
      ],
      "text/markdown": [
       "\n",
       "[1677,] | [1678,] | [1679,] | [1680,] | [1681,] | [1682,] | \n",
       "|---|---|---|---|---|---|\n",
       "| 3.305147 | 2.305147 | 3.305147 | 2.805147 | 3.305147 | 3.305147 | \n",
       "| 3.354839 | 2.354839 | 3.354839 | 2.854839 | 3.354839 | 3.354839 | \n",
       "| 2.898148 | 1.898148 | 2.898148 | 2.398148 | 2.898148 | 2.898148 | \n",
       "| 3.666667 | 2.666667 | 3.666667 | 3.166667 | 3.666667 | 3.666667 | \n",
       "| 2.937143 | 1.937143 | 2.937143 | 2.437143 | 2.937143 | 2.937143 | \n",
       "| 3.317536 | 2.317536 | 3.317536 | 2.817536 | 3.317536 | 3.317536 | \n",
       "\n",
       "\n"
      ],
      "text/plain": [
       "     [1677,]  [1678,]  [1679,]  [1680,]  [1681,]  [1682,] \n",
       "[1,] 3.305147 2.305147 3.305147 2.805147 3.305147 3.305147\n",
       "[2,] 3.354839 2.354839 3.354839 2.854839 3.354839 3.354839\n",
       "[3,] 2.898148 1.898148 2.898148 2.398148 2.898148 2.898148\n",
       "[4,] 3.666667 2.666667 3.666667 3.166667 3.666667 3.666667\n",
       "[5,] 2.937143 1.937143 2.937143 2.437143 2.937143 2.937143\n",
       "[6,] 3.317536 2.317536 3.317536 2.817536 3.317536 3.317536"
      ]
     },
     "metadata": {},
     "output_type": "display_data"
    }
   ],
   "source": [
    "u.mean <- matrix(rowMeans(m.na, na.rm=T), nrow(m), ncol(m))\n",
    "item.mean <- matrix(colMeans(m.na, na.rm=T), nrow(m), ncol(m), byrow=T)\n",
    "m.expect <- ((u.mean + item.mean)/2)\n",
    "corner <- function(m, ...) head(t(tail(t(m), ...)), ...)\n",
    "corner(m.expect)\n",
    "\n"
   ]
  },
  {
   "cell_type": "markdown",
   "metadata": {},
   "source": [
    "performance minimal: moyenne des lignes et colonnes"
   ]
  },
  {
   "cell_type": "code",
   "execution_count": 4,
   "metadata": {},
   "outputs": [
    {
     "data": {
      "text/html": [
       "0.78258306017685"
      ],
      "text/latex": [
       "0.78258306017685"
      ],
      "text/markdown": [
       "0.78258306017685"
      ],
      "text/plain": [
       "[1] 0.7825831"
      ]
     },
     "metadata": {},
     "output_type": "display_data"
    }
   ],
   "source": [
    "mae(m.expect, m.na)"
   ]
  },
  {
   "cell_type": "markdown",
   "metadata": {},
   "source": [
    "on remplie la matrice avec la moyenne des lignes et colonnes\n",
    "on normalise la colone en divisant par 5 (la note maximale)"
   ]
  },
  {
   "cell_type": "code",
   "execution_count": 5,
   "metadata": {},
   "outputs": [],
   "source": [
    "m.full[m==0] <- m.expect[m==0]\n",
    "m.full.5 <- m.full/5\n",
    "m.svd <- svd(m.full.5)"
   ]
  },
  {
   "cell_type": "code",
   "execution_count": 6,
   "metadata": {},
   "outputs": [
    {
     "data": {
      "text/html": [
       "<dl>\n",
       "\t<dt>$mae</dt>\n",
       "\t\t<dd>0.6902685</dd>\n",
       "\t<dt>$rmse</dt>\n",
       "\t\t<dd>0.872069248970516</dd>\n",
       "</dl>\n"
      ],
      "text/latex": [
       "\\begin{description}\n",
       "\\item[\\$mae] 0.6902685\n",
       "\\item[\\$rmse] 0.872069248970516\n",
       "\\end{description}\n"
      ],
      "text/markdown": [
       "$mae\n",
       ":   0.6902685\n",
       "$rmse\n",
       ":   0.872069248970516\n",
       "\n",
       "\n"
      ],
      "text/plain": [
       "$mae\n",
       "[1] 0.6902685\n",
       "\n",
       "$rmse\n",
       "[1] 0.8720692\n"
      ]
     },
     "metadata": {},
     "output_type": "display_data"
    }
   ],
   "source": [
    "new.m.mae.rmse <- function(dimRedu){\n",
    "# matrice diagonale pour réduire les matrices originales\n",
    "m.d2 <- diag(c(m.svd$d[1:dimRedu],rep(0,length(m.svd$d)-dimRedu)))\n",
    "# nouvelle matrice basée sur les deux premières dimensions uniquement\n",
    "m.svd2 <- round((m.svd$u %*% m.d2 %*% t(m.svd$v)),2)\n",
    "mae.rmse(m.svd2*5, m.na)\n",
    "    }\n",
    "new.m.mae.rmse(10)"
   ]
  },
  {
   "cell_type": "code",
   "execution_count": null,
   "metadata": {},
   "outputs": [],
   "source": [
    "new.m <- function(dimRedu){\n",
    "# matrice diagonale pour réduire les matrices originales\n",
    "m.d2 <- diag(c(m.svd$d[1:dimRedu],rep(0,length(m.svd$d)-dimRedu)))\n",
    "# nouvelle matrice basée sur les deux premières dimensions uniquement\n",
    "m.svd2 <- round((m.svd$u %*% m.d2 %*% t(m.svd$v)),2)\n",
    "mae(m.svd2*5, m.na)\n",
    "    }\n",
    "to.plot.1 <- lapply(seq(1,943,30), new.m)\n"
   ]
  },
  {
   "cell_type": "code",
   "execution_count": null,
   "metadata": {},
   "outputs": [],
   "source": [
    "plot(seq(1,943,30),unlist(to.plot.1))"
   ]
  },
  {
   "cell_type": "code",
   "execution_count": 8,
   "metadata": {},
   "outputs": [
    {
     "data": {
      "text/html": [
       "100000"
      ],
      "text/latex": [
       "100000"
      ],
      "text/markdown": [
       "100000"
      ],
      "text/plain": [
       "[1] 100000"
      ]
     },
     "metadata": {},
     "output_type": "display_data"
    },
    {
     "data": {
      "image/png": "[encoded data removed]",
      "text/plain": [
       "plot without title"
      ]
     },
     "metadata": {},
     "output_type": "display_data"
    }
   ],
   "source": [
    "i.observed <- which(m > 0)\n",
    "i.hasard <- sample(i.observed, length(i.observed))\n",
    "length(i.hasard)\n",
    "fold.size <- round(length(i.hasard) / 10)\n",
    "i.false <- rep(FALSE, length(m))\n",
    "fold.number <- 1\n",
    "## Index booléen pour les cellules de test et d'entraînement\n",
    "i.test.b <- i.false\n",
    "## Les cellules indexées du replis correspondant sont fixées à TRUE pour le test...\n",
    "i.test.b[ i.hasard[((fold.number-1) * fold.size):((fold.number) * fold.size)] ] <- TRUE\n",
    "## ...et à FALSE pour l'entraînement\n",
    "i.train.b <-  !i.test.b\n",
    "m.train <- m\n",
    "m.train[m==0] <- m.expect[m==0]\n",
    "m.train[i.test.b] <- m.expect[i.test.b]                # on enlève les données de test pour l'entraînement\n",
    "m.train <- m.train/5\n",
    "m.svd <- svd(m.train)\n",
    "\n",
    "new.m.cv <- function(dimRedu){\n",
    "# matrice diagonale pour réduire les matrices originales\n",
    "m.d2 <- diag(c(m.svd$d[1:dimRedu],rep(0,length(m.svd$d)-dimRedu)))\n",
    "# nouvelle matrice basée sur les deux premières dimensions uniquement\n",
    "m.svd2 <- round((m.svd$u %*% m.d2 %*% t(m.svd$v)),2)\n",
    "mae(m.svd2[i.test.b]*5, m.na[i.test.b])\n",
    "    }\n",
    "to.plot.2 <- lapply(seq(2,102,5), new.m.cv)\n",
    "plot(seq(2,102,5),unlist(to.plot.2))"
   ]
  },
  {
   "cell_type": "code",
   "execution_count": null,
   "metadata": {},
   "outputs": [],
   "source": [
    "# Question 7 - Validation croisée pour question 3\n",
    "# Ici nous essayons de prédire les valeurs des votes du film Star trek 5 à l'aide d'une approche item-item\n",
    "\n",
    "try <- function(x,y,w) {x.0 <- x>0 ; x.temp <- (x-y)*x.0; num <-  w %*%x.temp;denum <- sum(abs(t(w))*x.0);num/denum} \n",
    "m.sparse <- sparseMatrix(u.data[,1],u.data[,2],x=u.data[,3])\n",
    "m.sparse.t <- t(m.sparse)\n",
    "\n",
    "\n",
    "film_pred <- function(film_id){\n",
    "# Pour l'exercise, on choisit de prendre seulement les utilisateurs pour l'item Star Trek V: The Final Frontier\n",
    "v.item <- m.sparse.t[film_id,]\n",
    "# Le set est divisé en train set (80%) et test set (20%)\n",
    "i <- u.user$id[v.item > 0]\n",
    "i.test <- i\n",
    "i.train <- ! i.test\n",
    "i.test[sample(length(i),0.8*length(i))] <- FALSE\n",
    "test <- i.test[i.test >0]\n",
    "train <- i[! i.test >0]\n",
    "new.m.sparse <- m.sparse\n",
    "new.m.sparse[test,film_id] = 0\n",
    "\n",
    "voisins <- 21\n",
    "# on centre la matrice m selon les utilisateurs\n",
    "# on calcule la moyenne et centré pour enlever les biais des utilisateurs comme pour la question 4\n",
    "u.mean <-rowMeans.sparse(new.m.sparse)\n",
    "m.center <- as.matrix((new.m.sparse-u.mean)*(new.m.sparse>0))\n",
    "# on remplace les 0 par NA\n",
    "m.center[m.center ==0] <- NA\n",
    "\n",
    "# on calcule la distance eucledienne entre les films\n",
    "distance.na.450.center <- sqrt(colSums((m.center[,film_id] - m.center)^2, na.rm=T)) # ignore les valeurs manquantes\n",
    "# on calcule le nombre de votes communs des films avec star trek V\n",
    "votes.communs <- (colSums((new.m.sparse[,film_id] * new.m.sparse) > 0))\n",
    "# on assigne la valeur au film qui ont moins de 40 votes communs avec star trek V\n",
    "distance.na.450.center[votes.communs<10] <- Inf\n",
    "\n",
    "closest.euc <- min.nindex(distance.na.450.center, voisins)[-1]\n",
    "\n",
    "wcos.st <- cosinus.vm(new.m.sparse[,film_id], new.m.sparse[,closest.euc])\n",
    "\n",
    "# les 20 films les plus communs\n",
    "idx<- closest.euc\n",
    "# on transpose m\n",
    "m.sparse.t <- t(new.m.sparse)\n",
    "# la range de l item de star trek V\n",
    "v.item <- m.sparse.t[film_id,]\n",
    "# la moyenne de l item de star trek V\n",
    "v_1 <-means.sparse(v.item);\n",
    "# retourne la moyenne pour chacun des 20 films voisisns\n",
    "v_i <- apply(m.sparse.t[idx,], 1, FUN=means.sparse)\n",
    "\n",
    "x<- as.matrix((m.sparse.t[idx,]))\n",
    "new_x <-lapply(seq_len(ncol(x)), function(i) x[,i]) # Retourne une liste de longeur 943 \n",
    "new_y <-as.vector(lapply(seq_len(ncol(x)), function(i) v_i)) \n",
    "new_w <-as.vector(lapply(seq_len(ncol(x)), function(i) as.matrix(wcos.st)))\n",
    "\n",
    "    \n",
    "c_prod <- mapply(try ,new_x, new_y, new_w)\n",
    "# Ajoute la moyenne de l'item \n",
    "v_1+c_prod\n",
    "}\n",
    "film_prection_list <-lapply(seq_len(1682), film_pred) # Retourne une liste de longeur 943 \n",
    "\n"
   ]
  },
  {
   "cell_type": "code",
   "execution_count": null,
   "metadata": {},
   "outputs": [],
   "source": []
  },
  {
   "cell_type": "code",
   "execution_count": 20,
   "metadata": {},
   "outputs": [],
   "source": [
    "# Question 7 - Validation croisée pour question 3\n",
    "# Ici nous essayons de prédire les valeurs des votes du film Star trek 5 à l'aide d'une approche item-item\n",
    "m.sparse <- m.train*5\n",
    "m.sparse.t <- t(m.sparse)\n",
    "try <- function(x,y,w) {x.0 <- x>0 ; x.temp <- (x-y)*x.0; num <-  w %*%x.temp;denum <- sum(abs(t(w))*x.0);num/denum} \n",
    "\n",
    "film_pred <- function(film_id){\n",
    "# Pour l'exercise, on choisit de prendre seulement les utilisateurs pour l'item Star Trek V: The Final Frontier\n",
    "v.item <- m.sparse.t[film_id,]\n",
    "# Le set est divisé en train set (80%) et test set (20%)\n",
    "new.m.sparse <- m.sparse\n",
    "\n",
    "voisins <- 21\n",
    "# on centre la matrice m selon les utilisateurs\n",
    "# on calcule la moyenne et centré pour enlever les biais des utilisateurs comme pour la question 4\n",
    "u.mean <-rowMeans.sparse(new.m.sparse)\n",
    "m.center <- as.matrix((new.m.sparse-u.mean)*(new.m.sparse>0))\n",
    "# on remplace les 0 par NA\n",
    "m.center[m.center ==0] <- NA\n",
    "\n",
    "# on calcule la distance eucledienne entre les films\n",
    "distance.na.450.center <- sqrt(colSums((m.center[,film_id] - m.center)^2, na.rm=T)) # ignore les valeurs manquantes\n",
    "# on calcule le nombre de votes communs des films avec star trek V\n",
    "votes.communs <- (colSums((new.m.sparse[,film_id] * new.m.sparse) > 0))\n",
    "# on assigne la valeur au film qui ont moins de 40 votes communs avec star trek V\n",
    "distance.na.450.center[votes.communs<5] <- Inf\n",
    "\n",
    "closest.euc <- min.nindex(distance.na.450.center, voisins)[-1]\n",
    "\n",
    "wcos.st <- cosinus.vm(new.m.sparse[,film_id], new.m.sparse[,closest.euc])\n",
    "\n",
    "# les 20 films les plus communs\n",
    "idx<- closest.euc\n",
    "# on transpose m\n",
    "m.sparse.t <- t(new.m.sparse)\n",
    "# la range de l item de star trek V\n",
    "v.item <- m.sparse.t[film_id,]\n",
    "# la moyenne de l item de star trek V\n",
    "v_1 <-means.sparse(v.item);\n",
    "# retourne la moyenne pour chacun des 20 films voisisns\n",
    "v_i <- apply(m.sparse.t[idx,], 1, FUN=means.sparse)\n",
    "\n",
    "x<- as.matrix((m.sparse.t[idx,]))\n",
    "new_x <-lapply(seq_len(ncol(x)), function(i) x[,i]) # Retourne une liste de longeur 943 \n",
    "new_y <-as.vector(lapply(seq_len(ncol(x)), function(i) v_i)) \n",
    "new_w <-as.vector(lapply(seq_len(ncol(x)), function(i) as.matrix(wcos.st)))\n",
    "\n",
    "    \n",
    "c_prod <- mapply(try ,new_x, new_y, new_w)\n",
    "# Ajoute la moyenne de l'item \n",
    "v_1+c_prod\n",
    "}\n",
    "film_prection_list <-mclapply(seq_len(1682), film_pred) # Retourne une liste de longeur 943 \n",
    "\n"
   ]
  },
  {
   "cell_type": "code",
   "execution_count": 25,
   "metadata": {},
   "outputs": [],
   "source": [
    "new.matrix <- do.call(cbind, film_prection_list)"
   ]
  },
  {
   "cell_type": "code",
   "execution_count": 26,
   "metadata": {},
   "outputs": [
    {
     "data": {
      "text/html": [
       "0.775679457817839"
      ],
      "text/latex": [
       "0.775679457817839"
      ],
      "text/markdown": [
       "0.775679457817839"
      ],
      "text/plain": [
       "[1] 0.7756795"
      ]
     },
     "metadata": {},
     "output_type": "display_data"
    }
   ],
   "source": [
    "mae(new.matrix[i.test.b], m.na[i.test.b])"
   ]
  },
  {
   "cell_type": "code",
   "execution_count": 27,
   "metadata": {},
   "outputs": [],
   "source": [
    "dimRedu <- 14\n",
    "# matrice diagonale pour réduire les matrices originales\n",
    "m.d2 <- diag(c(m.svd$d[1:dimRedu],rep(0,length(m.svd$d)-dimRedu)))\n",
    "# nouvelle matrice basée sur les deux premières dimensions uniquement\n",
    "m.svd2 <- round((m.svd$u %*% m.d2 %*% t(m.svd$v)),2)"
   ]
  },
  {
   "cell_type": "code",
   "execution_count": 28,
   "metadata": {},
   "outputs": [
    {
     "data": {
      "text/html": [
       "0.745035"
      ],
      "text/latex": [
       "0.745035"
      ],
      "text/markdown": [
       "0.745035"
      ],
      "text/plain": [
       "[1] 0.745035"
      ]
     },
     "metadata": {},
     "output_type": "display_data"
    }
   ],
   "source": [
    "tmp <- m.svd2*5\n",
    "tmp[is.na(t(new.matrix))] <- NA\n",
    "mae(tmp[i.test.b], m.na[i.test.b])"
   ]
  },
  {
   "cell_type": "code",
   "execution_count": null,
   "metadata": {},
   "outputs": [],
   "source": []
  }
 ],
 "metadata": {
  "kernelspec": {
   "display_name": "R",
   "language": "R",
   "name": "ir"
  },
  "language_info": {
   "codemirror_mode": "r",
   "file_extension": ".r",
   "mimetype": "text/x-r-source",
   "name": "R",
   "pygments_lexer": "r",
   "version": "3.5.1"
  }
 },
 "nbformat": 4,
 "nbformat_minor": 2
}
