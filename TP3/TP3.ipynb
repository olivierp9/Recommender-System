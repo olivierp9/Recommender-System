{
 "cells": [
  {
   "cell_type": "markdown",
   "metadata": {},
   "source": [
    "# TP 3 Dong Qiao yang 1679714 Olivier Provost 1689636 "
   ]
  },
  {
   "cell_type": "code",
   "execution_count": 26,
   "metadata": {},
   "outputs": [],
   "source": [
    "# Lecture des datasets et des fonctions \n",
    "library(Matrix)\n",
    "u.data <- read.csv(file = 'data.csv', sep='|', header=T)\n",
    "u.user <- read.csv(file = 'user.csv', sep='|', header=T)\n",
    "u.item <- read.csv(file = 'item.csv', sep='|', header=T)\n",
    "\n",
    "mae <- function(m1, m2) mean(abs(m1 - m2), na.rm=T)\n",
    "rmse <- function(m1, m2) sqrt(mean((m1 - m2)^2, na.rm=T))\n",
    "matrix.cos <- function(m) {\n",
    "(m %*% t(m)) / ( t(matrix(sqrt(rowSums(m^2)),nrow(m),nrow(m)))*(sqrt(rowSums(m^2))))\n",
    "}\n",
    "mae.rmse <- function(m, m.hat) {\n",
    "    return(list(mae=mean(abs((m - m.hat)[!is.na(m)]),na.rm=T), rmse=sqrt(mean((m - m.hat)^2, na.rm=T))))\n",
    "}\n",
    "colMeans.sparse <- function(m) {colSums(m)/colSums(m>0)}\n",
    "rowMeans.sparse <- function(m) {rowSums(m)/rowSums(m>0)}\n",
    "means.sparse <- function(v) {sum(v)/sum(v>0)}\n",
    "\n",
    "\n",
    "# Trouve les indexes des premieres 'n' valeurs maximales d'une matrice\n",
    "max.nindex <- function(m, n=5) {\n",
    "    i <- order(m, decreasing=TRUE)\n",
    "    return(i[1:n])\n",
    "}\n",
    "# Trouve les indexes des premieres 'n' valeurs minimales d'une matrice\n",
    "min.nindex <- function(m, n=5) {\n",
    "    i <- order(m)\n",
    "    return(i[1:n])\n",
    "}\n",
    "cosinus.vm <- function(v,m) { \n",
    "    n <- sqrt(colSums(m^2)); \n",
    "    (v %*% m)/(n * sqrt(sum(v^2)))\n",
    "}"
   ]
  },
  {
   "cell_type": "code",
   "execution_count": 8,
   "metadata": {},
   "outputs": [],
   "source": [
    "# Lecture de la matrice\n",
    "m <- sparseMatrix(u.data[,1],u.data[,2],x=u.data[,3])\n",
    "rownames(m) <- paste('u', 1:nrow(m), sep='')\n",
    "colnames(m) <- paste('i', 1:ncol(m), sep='')\n",
    "m <- as.matrix(m)\n",
    "m.na <- m\n",
    "m.full <- m\n",
    "m.na[m==0] <- NA"
   ]
  },
  {
   "cell_type": "code",
   "execution_count": 9,
   "metadata": {},
   "outputs": [
    {
     "data": {
      "text/html": [
       "<table>\n",
       "<thead><tr><th scope=col>[1677,]</th><th scope=col>[1678,]</th><th scope=col>[1679,]</th><th scope=col>[1680,]</th><th scope=col>[1681,]</th><th scope=col>[1682,]</th></tr></thead>\n",
       "<tbody>\n",
       "\t<tr><td>3.305147</td><td>2.305147</td><td>3.305147</td><td>2.805147</td><td>3.305147</td><td>3.305147</td></tr>\n",
       "\t<tr><td>3.354839</td><td>2.354839</td><td>3.354839</td><td>2.854839</td><td>3.354839</td><td>3.354839</td></tr>\n",
       "\t<tr><td>2.898148</td><td>1.898148</td><td>2.898148</td><td>2.398148</td><td>2.898148</td><td>2.898148</td></tr>\n",
       "\t<tr><td>3.666667</td><td>2.666667</td><td>3.666667</td><td>3.166667</td><td>3.666667</td><td>3.666667</td></tr>\n",
       "\t<tr><td>2.937143</td><td>1.937143</td><td>2.937143</td><td>2.437143</td><td>2.937143</td><td>2.937143</td></tr>\n",
       "\t<tr><td>3.317536</td><td>2.317536</td><td>3.317536</td><td>2.817536</td><td>3.317536</td><td>3.317536</td></tr>\n",
       "</tbody>\n",
       "</table>\n"
      ],
      "text/latex": [
       "\\begin{tabular}{llllll}\n",
       " {[}1677,{]} & {[}1678,{]} & {[}1679,{]} & {[}1680,{]} & {[}1681,{]} & {[}1682,{]}\\\\\n",
       "\\hline\n",
       "\t 3.305147 & 2.305147 & 3.305147 & 2.805147 & 3.305147 & 3.305147\\\\\n",
       "\t 3.354839 & 2.354839 & 3.354839 & 2.854839 & 3.354839 & 3.354839\\\\\n",
       "\t 2.898148 & 1.898148 & 2.898148 & 2.398148 & 2.898148 & 2.898148\\\\\n",
       "\t 3.666667 & 2.666667 & 3.666667 & 3.166667 & 3.666667 & 3.666667\\\\\n",
       "\t 2.937143 & 1.937143 & 2.937143 & 2.437143 & 2.937143 & 2.937143\\\\\n",
       "\t 3.317536 & 2.317536 & 3.317536 & 2.817536 & 3.317536 & 3.317536\\\\\n",
       "\\end{tabular}\n"
      ],
      "text/markdown": [
       "\n",
       "[1677,] | [1678,] | [1679,] | [1680,] | [1681,] | [1682,] | \n",
       "|---|---|---|---|---|---|\n",
       "| 3.305147 | 2.305147 | 3.305147 | 2.805147 | 3.305147 | 3.305147 | \n",
       "| 3.354839 | 2.354839 | 3.354839 | 2.854839 | 3.354839 | 3.354839 | \n",
       "| 2.898148 | 1.898148 | 2.898148 | 2.398148 | 2.898148 | 2.898148 | \n",
       "| 3.666667 | 2.666667 | 3.666667 | 3.166667 | 3.666667 | 3.666667 | \n",
       "| 2.937143 | 1.937143 | 2.937143 | 2.437143 | 2.937143 | 2.937143 | \n",
       "| 3.317536 | 2.317536 | 3.317536 | 2.817536 | 3.317536 | 3.317536 | \n",
       "\n",
       "\n"
      ],
      "text/plain": [
       "     [1677,]  [1678,]  [1679,]  [1680,]  [1681,]  [1682,] \n",
       "[1,] 3.305147 2.305147 3.305147 2.805147 3.305147 3.305147\n",
       "[2,] 3.354839 2.354839 3.354839 2.854839 3.354839 3.354839\n",
       "[3,] 2.898148 1.898148 2.898148 2.398148 2.898148 2.898148\n",
       "[4,] 3.666667 2.666667 3.666667 3.166667 3.666667 3.666667\n",
       "[5,] 2.937143 1.937143 2.937143 2.437143 2.937143 2.937143\n",
       "[6,] 3.317536 2.317536 3.317536 2.817536 3.317536 3.317536"
      ]
     },
     "metadata": {},
     "output_type": "display_data"
    }
   ],
   "source": [
    "u.mean <- matrix(rowMeans(m.na, na.rm=T), nrow(m), ncol(m))\n",
    "item.mean <- matrix(colMeans(m.na, na.rm=T), nrow(m), ncol(m), byrow=T)\n",
    "m.expect <- ((u.mean + item.mean)/2)\n",
    "corner <- function(m, ...) head(t(tail(t(m), ...)), ...)\n",
    "corner(m.expect)"
   ]
  },
  {
   "cell_type": "markdown",
   "metadata": {},
   "source": [
    "1) On établit performance minimal: moyenne des lignes et colonnes \n",
    "\n",
    "On se trompe en moyenne de 0.78 par prédiction avec ce baseline.\n",
    "Le mae du svd est espéré à un résultat meilleur que 0.78 sinon la méthode n'en vaut pas la chandelle."
   ]
  },
  {
   "cell_type": "code",
   "execution_count": 10,
   "metadata": {},
   "outputs": [
    {
     "data": {
      "text/html": [
       "0.78258306017685"
      ],
      "text/latex": [
       "0.78258306017685"
      ],
      "text/markdown": [
       "0.78258306017685"
      ],
      "text/plain": [
       "[1] 0.7825831"
      ]
     },
     "metadata": {},
     "output_type": "display_data"
    }
   ],
   "source": [
    "mae(m.expect, m.na)"
   ]
  },
  {
   "cell_type": "markdown",
   "metadata": {},
   "source": [
    "On remplie la matrice avec la moyenne des lignes et colonnes."
   ]
  },
  {
   "cell_type": "code",
   "execution_count": 11,
   "metadata": {},
   "outputs": [],
   "source": [
    "m.full[m==0] <- m.expect[m==0]\n",
    "# Normaliser la matrice en enlevant la moyenne des lignes de la matrice\n",
    "rowM <- rowMeans(m.full)\n",
    "m.full <- m.full - rowM\n",
    "m.svd <- svd(m.full)"
   ]
  },
  {
   "cell_type": "markdown",
   "metadata": {},
   "source": [
    "3) 4) Effectuez l'estimation des votes sur la base de SVD avec 10 dimensions et calculez l'erreur absolue moyenne et l'erreur quadratique moyenne."
   ]
  },
  {
   "cell_type": "code",
   "execution_count": 12,
   "metadata": {},
   "outputs": [
    {
     "data": {
      "text/html": [
       "<dl>\n",
       "\t<dt>$mae</dt>\n",
       "\t\t<dd>0.687755782551384</dd>\n",
       "\t<dt>$rmse</dt>\n",
       "\t\t<dd>0.868991122855088</dd>\n",
       "</dl>\n"
      ],
      "text/latex": [
       "\\begin{description}\n",
       "\\item[\\$mae] 0.687755782551384\n",
       "\\item[\\$rmse] 0.868991122855088\n",
       "\\end{description}\n"
      ],
      "text/markdown": [
       "$mae\n",
       ":   0.687755782551384\n",
       "$rmse\n",
       ":   0.868991122855088\n",
       "\n",
       "\n"
      ],
      "text/plain": [
       "$mae\n",
       "[1] 0.6877558\n",
       "\n",
       "$rmse\n",
       "[1] 0.8689911\n"
      ]
     },
     "metadata": {},
     "output_type": "display_data"
    }
   ],
   "source": [
    "# Fonction qui applique SVD pour un nombre de dimensions et retournes le MAE et le RMSE\n",
    "new.m.mae.rmse <- function(dimRedu){\n",
    "# matrice diagonale pour réduire les matrices originales\n",
    "m.d2 <- diag(c(m.svd$d[1:dimRedu],rep(0,length(m.svd$d)-dimRedu)))\n",
    "    \n",
    "# nouvelle matrice basée sur les n premières dimensions uniquement\n",
    "m.svd2 <- m.svd$u %*% m.d2 %*% t(m.svd$v)\n",
    "mae.rmse(m.svd2 + rowM, m.na)\n",
    "    }\n",
    "new.m.mae.rmse(10)"
   ]
  },
  {
   "cell_type": "markdown",
   "metadata": {},
   "source": [
    "On remarque ici qu'en réduisant la dimension à 10, on obteint un mae de 0.687, qui est meilleur que la performance minimale. Cette erreur est petite car il n'y a pas de validation croisee."
   ]
  },
  {
   "cell_type": "markdown",
   "metadata": {},
   "source": [
    "5) Déterminez le nombre de dimensions optimal (sans appliquer de validation croisée). Un graphique doit indiquer la performance par nombre de dimension (semblable au rapport Sarwar et al.)"
   ]
  },
  {
   "cell_type": "code",
   "execution_count": 13,
   "metadata": {},
   "outputs": [],
   "source": [
    "# Calcul du mae en itération pour trouver la valeur minimale \n",
    "new.m <- function(dimRedu){\n",
    "# matrice diagonale pour réduire les matrices originales\n",
    "m.d2 <- diag(c(m.svd$d[1:dimRedu],rep(0,length(m.svd$d)-dimRedu)))\n",
    "# nouvelle matrice basée sur les deux premières dimensions uniquement\n",
    "m.svd2 <- m.svd$u %*% m.d2 %*% t(m.svd$v)\n",
    "mae(m.svd2 + rowM, m.na)\n",
    "    }\n",
    "to.plot.1 <- lapply(seq(1,943,20), new.m)\n"
   ]
  },
  {
   "cell_type": "code",
   "execution_count": 14,
   "metadata": {},
   "outputs": [
    {
     "data": {
      "image/png": "[encoded data removed]",
      "text/plain": [
       "plot without title"
      ]
     },
     "metadata": {},
     "output_type": "display_data"
    }
   ],
   "source": [
    "plot(seq(1,943,20),unlist(to.plot.1),ylab = 'MAE',xlab = 'Nombre de dimensions')"
   ]
  },
  {
   "cell_type": "code",
   "execution_count": 15,
   "metadata": {},
   "outputs": [
    {
     "data": {
      "text/html": [
       "3.40218520022972e-15"
      ],
      "text/latex": [
       "3.40218520022972e-15"
      ],
      "text/markdown": [
       "3.40218520022972e-15"
      ],
      "text/plain": [
       "[1] 3.402185e-15"
      ]
     },
     "metadata": {},
     "output_type": "display_data"
    }
   ],
   "source": [
    "new.m(943)"
   ]
  },
  {
   "cell_type": "markdown",
   "metadata": {},
   "source": [
    "En observant le graphique, 943 est le nombre de dimension optimal puisque son mae est minimal \n",
    "\n",
    "Selon ce graphique, plus que le nombre de dimension est grand, plus que le mae est petit. \n",
    "\n",
    "Ici le résultat est biaisé puisque nous ne faisons pas de validation croisée. Plus on gardera de dimension, plus le résultat sera prêt de la matrice initial.\n",
    "\n",
    "En plus, plus le nombre de dimension se rapproche du nombre maximale de dimension, le mae par le svd se rapproche 0 puisqu'on reconstrure la matrice originale. Or pour nombre de dimension de svd = nombre de dimension de la matrice originale, on reconstruit la matrice originale. \n",
    "\n",
    "On observe aussi que le mae n'est pas égal à 0 pour le nombre de dimension = 943, erreur d'arrondi. "
   ]
  },
  {
   "cell_type": "markdown",
   "metadata": {},
   "source": [
    "6) Déterminez le nombre optimal de dimensions, mais en utilisant cette fois une validation croisée."
   ]
  },
  {
   "cell_type": "code",
   "execution_count": 16,
   "metadata": {},
   "outputs": [],
   "source": [
    "new.m.cv <- function(dimRedu){\n",
    "# matrice diagonale pour réduire les matrices originales\n",
    "m.d2 <- diag(c(m.svd$d[1:dimRedu],rep(0,length(m.svd$d)-dimRedu)))\n",
    "# nouvelle matrice basée sur les deux premières dimensions uniquement\n",
    "m.svd2 <- m.svd$u %*% m.d2 %*% t(m.svd$v)+r.means\n",
    "mae(m.svd2[i.test.b], m.na[i.test.b])\n",
    "    }"
   ]
  },
  {
   "cell_type": "code",
   "execution_count": 17,
   "metadata": {},
   "outputs": [],
   "source": [
    "set.seed(1)\n",
    "to.plot <- c()\n",
    "mae.svd <- list()\n",
    "i.observed <- which(m > 0)\n",
    "i.hasard <- sample(i.observed, length(i.observed))\n",
    "fold.size <- round(length(i.hasard) / 5)\n",
    "i.false <- rep(FALSE, length(m))\n",
    "for (i in seq_len(5)){\n",
    "fold.number <- i\n",
    "\n",
    "## Index booléen pour les cellules de test et d'entraînement\n",
    "i.test.b <- i.false\n",
    "## Les cellules indexées du replis correspondant sont fixées à TRUE pour le test...\n",
    "i.test.b[ i.hasard[((fold.number-1) * fold.size):((fold.number) * fold.size)] ] <- TRUE\n",
    "## ...et à FALSE pour l'entraînement\n",
    "i.train.b <-  !i.test.b\n",
    "m.train <- m\n",
    "m.train[i.test.b] <- 0                # on enlève les données de test pour l'entraînement\n",
    "m.train.na <- m.train\n",
    "m.train.na[m.train==0]<-NA\n",
    "    \n",
    "u.mean <- matrix(rowMeans(m.train.na, na.rm=T), nrow(m), ncol(m))\n",
    "item.mean <- matrix(colMeans(m.train.na, na.rm=T), nrow(m), ncol(m), byrow=T)\n",
    "m.expect <- ((u.mean + item.mean)/2)\n",
    "m.train.na[m.train==0] <-m.expect[m.train==0]\n",
    "\n",
    "r.means <- rowMeans(m.train.na,na.rm=T)\n",
    "m.train.na[!is.finite(m.train.na)]<- r.means\n",
    "r.means <- rowMeans(m.train)\n",
    "m.train.na <- m.train.na-r.means\n",
    "m.svd <- svd(m.train.na)\n",
    "to.plot<-rbind(to.plot,unlist(lapply(seq(50), new.m.cv)))\n",
    "    }"
   ]
  },
  {
   "cell_type": "code",
   "execution_count": 18,
   "metadata": {},
   "outputs": [
    {
     "data": {
      "text/html": [
       "<ol class=list-inline>\n",
       "\t<li>0.787583939881957</li>\n",
       "\t<li>0.774932011911415</li>\n",
       "\t<li>0.764343436064164</li>\n",
       "\t<li>0.763851475993426</li>\n",
       "\t<li>0.762375048071225</li>\n",
       "\t<li>0.760651302849601</li>\n",
       "\t<li>0.759065996677555</li>\n",
       "\t<li>0.757041098439035</li>\n",
       "\t<li>0.756419427052088</li>\n",
       "\t<li>0.756343512581509</li>\n",
       "\t<li>0.755885569627425</li>\n",
       "\t<li>0.756026447234123</li>\n",
       "\t<li>0.756226206926007</li>\n",
       "\t<li>0.756424691658529</li>\n",
       "\t<li>0.756361387313546</li>\n",
       "\t<li>0.756666525934603</li>\n",
       "\t<li>0.756962288338321</li>\n",
       "\t<li>0.756777889929</li>\n",
       "\t<li>0.756601955820494</li>\n",
       "\t<li>0.756941093368629</li>\n",
       "\t<li>0.757188093957926</li>\n",
       "\t<li>0.75750488167749</li>\n",
       "\t<li>0.757806266103211</li>\n",
       "\t<li>0.758122752148765</li>\n",
       "\t<li>0.758326833829452</li>\n",
       "\t<li>0.758509086549868</li>\n",
       "\t<li>0.758996523579278</li>\n",
       "\t<li>0.759304634338934</li>\n",
       "\t<li>0.759268165175352</li>\n",
       "\t<li>0.75965509010081</li>\n",
       "\t<li>0.759944335834366</li>\n",
       "\t<li>0.760310289376247</li>\n",
       "\t<li>0.760553296244977</li>\n",
       "\t<li>0.760929695332605</li>\n",
       "\t<li>0.761343747783832</li>\n",
       "\t<li>0.761881311216231</li>\n",
       "\t<li>0.76206771473892</li>\n",
       "\t<li>0.762415655343145</li>\n",
       "\t<li>0.762689981570375</li>\n",
       "\t<li>0.762951540962465</li>\n",
       "\t<li>0.763424469588159</li>\n",
       "\t<li>0.763816742801078</li>\n",
       "\t<li>0.764111075802237</li>\n",
       "\t<li>0.76434363115755</li>\n",
       "\t<li>0.764659619459341</li>\n",
       "\t<li>0.765018493635213</li>\n",
       "\t<li>0.76532807874032</li>\n",
       "\t<li>0.765493538577587</li>\n",
       "\t<li>0.765860544076953</li>\n",
       "\t<li>0.766019733900664</li>\n",
       "</ol>\n"
      ],
      "text/latex": [
       "\\begin{enumerate*}\n",
       "\\item 0.787583939881957\n",
       "\\item 0.774932011911415\n",
       "\\item 0.764343436064164\n",
       "\\item 0.763851475993426\n",
       "\\item 0.762375048071225\n",
       "\\item 0.760651302849601\n",
       "\\item 0.759065996677555\n",
       "\\item 0.757041098439035\n",
       "\\item 0.756419427052088\n",
       "\\item 0.756343512581509\n",
       "\\item 0.755885569627425\n",
       "\\item 0.756026447234123\n",
       "\\item 0.756226206926007\n",
       "\\item 0.756424691658529\n",
       "\\item 0.756361387313546\n",
       "\\item 0.756666525934603\n",
       "\\item 0.756962288338321\n",
       "\\item 0.756777889929\n",
       "\\item 0.756601955820494\n",
       "\\item 0.756941093368629\n",
       "\\item 0.757188093957926\n",
       "\\item 0.75750488167749\n",
       "\\item 0.757806266103211\n",
       "\\item 0.758122752148765\n",
       "\\item 0.758326833829452\n",
       "\\item 0.758509086549868\n",
       "\\item 0.758996523579278\n",
       "\\item 0.759304634338934\n",
       "\\item 0.759268165175352\n",
       "\\item 0.75965509010081\n",
       "\\item 0.759944335834366\n",
       "\\item 0.760310289376247\n",
       "\\item 0.760553296244977\n",
       "\\item 0.760929695332605\n",
       "\\item 0.761343747783832\n",
       "\\item 0.761881311216231\n",
       "\\item 0.76206771473892\n",
       "\\item 0.762415655343145\n",
       "\\item 0.762689981570375\n",
       "\\item 0.762951540962465\n",
       "\\item 0.763424469588159\n",
       "\\item 0.763816742801078\n",
       "\\item 0.764111075802237\n",
       "\\item 0.76434363115755\n",
       "\\item 0.764659619459341\n",
       "\\item 0.765018493635213\n",
       "\\item 0.76532807874032\n",
       "\\item 0.765493538577587\n",
       "\\item 0.765860544076953\n",
       "\\item 0.766019733900664\n",
       "\\end{enumerate*}\n"
      ],
      "text/markdown": [
       "1. 0.787583939881957\n",
       "2. 0.774932011911415\n",
       "3. 0.764343436064164\n",
       "4. 0.763851475993426\n",
       "5. 0.762375048071225\n",
       "6. 0.760651302849601\n",
       "7. 0.759065996677555\n",
       "8. 0.757041098439035\n",
       "9. 0.756419427052088\n",
       "10. 0.756343512581509\n",
       "11. 0.755885569627425\n",
       "12. 0.756026447234123\n",
       "13. 0.756226206926007\n",
       "14. 0.756424691658529\n",
       "15. 0.756361387313546\n",
       "16. 0.756666525934603\n",
       "17. 0.756962288338321\n",
       "18. 0.756777889929\n",
       "19. 0.756601955820494\n",
       "20. 0.756941093368629\n",
       "21. 0.757188093957926\n",
       "22. 0.75750488167749\n",
       "23. 0.757806266103211\n",
       "24. 0.758122752148765\n",
       "25. 0.758326833829452\n",
       "26. 0.758509086549868\n",
       "27. 0.758996523579278\n",
       "28. 0.759304634338934\n",
       "29. 0.759268165175352\n",
       "30. 0.75965509010081\n",
       "31. 0.759944335834366\n",
       "32. 0.760310289376247\n",
       "33. 0.760553296244977\n",
       "34. 0.760929695332605\n",
       "35. 0.761343747783832\n",
       "36. 0.761881311216231\n",
       "37. 0.76206771473892\n",
       "38. 0.762415655343145\n",
       "39. 0.762689981570375\n",
       "40. 0.762951540962465\n",
       "41. 0.763424469588159\n",
       "42. 0.763816742801078\n",
       "43. 0.764111075802237\n",
       "44. 0.76434363115755\n",
       "45. 0.764659619459341\n",
       "46. 0.765018493635213\n",
       "47. 0.76532807874032\n",
       "48. 0.765493538577587\n",
       "49. 0.765860544076953\n",
       "50. 0.766019733900664\n",
       "\n",
       "\n"
      ],
      "text/plain": [
       " [1] 0.7875839 0.7749320 0.7643434 0.7638515 0.7623750 0.7606513 0.7590660\n",
       " [8] 0.7570411 0.7564194 0.7563435 0.7558856 0.7560264 0.7562262 0.7564247\n",
       "[15] 0.7563614 0.7566665 0.7569623 0.7567779 0.7566020 0.7569411 0.7571881\n",
       "[22] 0.7575049 0.7578063 0.7581228 0.7583268 0.7585091 0.7589965 0.7593046\n",
       "[29] 0.7592682 0.7596551 0.7599443 0.7603103 0.7605533 0.7609297 0.7613437\n",
       "[36] 0.7618813 0.7620677 0.7624157 0.7626900 0.7629515 0.7634245 0.7638167\n",
       "[43] 0.7641111 0.7643436 0.7646596 0.7650185 0.7653281 0.7654935 0.7658605\n",
       "[50] 0.7660197"
      ]
     },
     "metadata": {},
     "output_type": "display_data"
    },
    {
     "data": {
      "image/png": "[encoded data removed]",
      "text/plain": [
       "Plot with title \"Scatter plot with std.dev error bars\""
      ]
     },
     "metadata": {},
     "output_type": "display_data"
    }
   ],
   "source": [
    "to.plot<-apply(to.plot,2,unlist)\n",
    "sdev <- apply(to.plot,2,sd) \n",
    "avg <- colMeans(to.plot)\n",
    "avg\n",
    "x <- 1:length(avg)\n",
    "plot(x,colMeans(to.plot),ylim=range(c(avg-sdev, avg+sdev)),pch=19, xlab=\"Measurements\", ylab=\"Mean +/- SD\",\n",
    "    main=\"Scatter plot with std.dev error bars\"\n",
    ")\n",
    "# hack: we draw arrows but with very special \"arrowheads\"\n",
    "arrows(x, avg-sdev, x, avg+sdev, length=0.05, angle=90, code=3)"
   ]
  },
  {
   "cell_type": "markdown",
   "metadata": {},
   "source": [
    "En observant le graphique, 11 est le nombre de dimension optimal puisque son mae est minimal.\n",
    "\n",
    "Avec la validation croisée, on utilise les données d'entrainement pour calcul la nouvelle matrice avec réduction de dimension et nous calculons le mae des données de test afin de déterminer l'hyperparamètre K(nombre de dimension). \n",
    "\n",
    "Ceci nous permet d'avoir une meilleure estimation de la valeur optimale de réduction de dimension. \n",
    "\n",
    "On voit que le mae diminue avec l'augmentation de dimension jusqu'à 11 et le mae augmente après ce dernier. \n",
    "\n",
    "Il n'est dont pas vrai que augmenter le nombre de dimensions à réduire amène nécesairement un meilleur mae avec validation croisée. "
   ]
  },
  {
   "cell_type": "markdown",
   "metadata": {},
   "source": [
    "7) Comparez la performance de cette approche avec celle d'une approche collaborative de votre choix (avec l'erreur quadratique et erreur absolue moyennes). Utilisez une validation croisée."
   ]
  },
  {
   "cell_type": "code",
   "execution_count": 27,
   "metadata": {},
   "outputs": [],
   "source": [
    "i.observed <- which(m > 0)\n",
    "set.seed(1)\n",
    "i.hasard <- sample(i.observed, length(i.observed))\n",
    "fold.size <- round(length(i.hasard) / 5)\n",
    "i.false <- rep(FALSE, length(m))\n",
    "mae.svd <- c()\n",
    "mae.itemitem <- c()\n",
    "rmse.svd <- c()\n",
    "rmse.itemitem <- c()\n",
    "for (i in seq_len(5)){\n",
    "fold.number <- i\n",
    "## Index booléen pour les cellules de test et d'entraînement\n",
    "i.test.b <- i.false\n",
    "\n",
    "## Les cellules indexées du replis correspondant sont fixées à TRUE pour le test...\n",
    "i.test.b[ i.hasard[((fold.number-1) * fold.size):((fold.number) * fold.size)] ] <- TRUE\n",
    "## ...et à FALSE pour l'entraînement\n",
    "i.train.b <-  !i.test.b\n",
    "m.train <- m\n",
    "m.train[i.test.b] <- 0                # on enlève les données de test pour l'entraînement\n",
    "m.train.na <- m.train\n",
    "m.train.na[m.train==0]<-NA\n",
    "    \n",
    "u.mean <- matrix(rowMeans(m.train.na, na.rm=T), nrow(m), ncol(m))\n",
    "item.mean <- matrix(colMeans(m.train.na, na.rm=T), nrow(m), ncol(m), byrow=T)\n",
    "m.expect <- ((u.mean + item.mean)/2)\n",
    "m.train.na[m.train==0] <-m.expect[m.train==0]\n",
    "\n",
    "r.means <- rowMeans(m.train.na,na.rm=T)\n",
    "r.means.t <- rep(r.means,1682)\n",
    "m.train.na[!is.finite(m.train.na)]<- r.means\n",
    "r.means <- rowMeans(m.train)\n",
    "m.train.na <- m.train.na-r.means\n",
    "m.svd <- svd(m.train.na)\n",
    "\n",
    "dimRedu <- 11\n",
    "m.d2 <- diag(c(m.svd$d[1:dimRedu],rep(0,length(m.svd$d)-dimRedu)))\n",
    "# nouvelle matrice basée sur les deux premières dimensions uniquement\n",
    "m.svd2 <- m.svd$u %*% m.d2 %*% t(m.svd$v)+r.means\n",
    "\n",
    "    \n",
    "# Question 7 - Validation croisée pour question 3\n",
    "# Ici nous essayons de prédire les valeurs des votes du film Star trek 5 à l'aide d'une approche item-item\n",
    "m.sparse <- m\n",
    "m.sparse[i.test.b]<-0\n",
    "m.sparse.t <- t(m.sparse)\n",
    "try <- function(x,y,w) {x.0 <- x>0 ; x.temp <- (x-y)*x.0; num <-  w %*%x.temp;denum <- sum(abs(t(w))*x.0);num/denum} \n",
    "\n",
    "film_pred <- function(film_id){\n",
    "# Pour l'exercise, on choisit de prendre seulement les utilisateurs pour l'item Star Trek V: The Final Frontier\n",
    "v.item <- m.sparse.t[film_id,]\n",
    "# Le set est divisé en train set (80%) et test set (20%)\n",
    "new.m.sparse <- m.sparse\n",
    "\n",
    "voisins <- 21\n",
    "# on centre la matrice m selon les utilisateurs\n",
    "# on calcule la moyenne et centré pour enlever les biais des utilisateurs comme pour la question 4\n",
    "u.mean <-rowMeans.sparse(new.m.sparse)\n",
    "m.center <- as.matrix((new.m.sparse-u.mean)*(new.m.sparse>0))\n",
    "# on remplace les 0 par NA\n",
    "m.center[m.center==0] <- NA\n",
    "\n",
    "# on calcule la distance eucledienne entre les films\n",
    "distance.na.450.center <- sqrt(colSums((m.center[,film_id] - m.center)^2, na.rm=T)) # ignore les valeurs manquantes\n",
    "# on calcule le nombre de votes communs des films avec star trek V\n",
    "votes.communs <- (colSums((new.m.sparse[,film_id] * new.m.sparse) > 0))\n",
    "# on assigne la valeur au film qui ont moins de 40 votes communs avec star trek V\n",
    "distance.na.450.center[votes.communs<5] <- Inf\n",
    "\n",
    "closest.euc <- min.nindex(distance.na.450.center, voisins)[-1]\n",
    "\n",
    "wcos.st <- cosinus.vm(new.m.sparse[,film_id], new.m.sparse[,closest.euc])\n",
    "\n",
    "# les 20 films les plus communs\n",
    "idx<- closest.euc\n",
    "# on transpose m\n",
    "m.sparse.t <- t(new.m.sparse)\n",
    "# la range de l item de star trek V\n",
    "v.item <- m.sparse.t[film_id,]\n",
    "# la moyenne de l item de star trek V\n",
    "v_1 <-means.sparse(v.item);\n",
    "# retourne la moyenne pour chacun des 20 films voisisns\n",
    "v_i <- apply(m.sparse.t[idx,], 1, FUN=means.sparse)\n",
    "\n",
    "x<- as.matrix((m.sparse.t[idx,]))\n",
    "new_x <-lapply(seq_len(ncol(x)), function(i) x[,i]) # Retourne une liste de longeur 943 \n",
    "new_y <-as.vector(lapply(seq_len(ncol(x)), function(i) v_i)) \n",
    "new_w <-as.vector(lapply(seq_len(ncol(x)), function(i) as.matrix(wcos.st)))\n",
    "\n",
    "    \n",
    "c_prod <- mapply(try ,new_x, new_y, new_w)\n",
    "# Ajoute la moyenne de l'item \n",
    "v_1+c_prod\n",
    "}\n",
    "film_prection_list <-lapply(seq_len(1682), film_pred) # Retourne une liste de longeur 943 \n",
    "new.matrix <- do.call(cbind, film_prection_list)\n",
    "mae.temp <- mae(new.matrix[i.test.b&!is.na(new.matrix)], m.na[i.test.b&!is.na(new.matrix)])\n",
    "rmse.temp <- rmse(new.matrix[i.test.b&!is.na(new.matrix)], m.na[i.test.b&!is.na(new.matrix)])\n",
    "mae.itemitem <- c(mae.itemitem,mae.temp)\n",
    "rmse.itemitem <- c(rmse.itemitem,rmse.temp)\n",
    "\n",
    "    \n",
    "mae.temp<-mae(m.svd2[i.test.b&!is.na(new.matrix)] , m.na[i.test.b&!is.na(new.matrix)])\n",
    "rmse.temp<- rmse(m.svd2[i.test.b&!is.na(new.matrix)], m.na[i.test.b&!is.na(new.matrix)])\n",
    "mae.svd <- c(mae.svd,mae.temp)\n",
    "rmse.svd <- c(rmse.svd,rmse.temp)\n",
    "}"
   ]
  },
  {
   "cell_type": "code",
   "execution_count": 28,
   "metadata": {},
   "outputs": [
    {
     "data": {
      "text/html": [
       "<ol class=list-inline>\n",
       "\t<li>0.754508445091766</li>\n",
       "\t<li>0.764181138421037</li>\n",
       "\t<li>0.756773968436794</li>\n",
       "\t<li>0.763409112059659</li>\n",
       "\t<li>0.760846530350953</li>\n",
       "</ol>\n"
      ],
      "text/latex": [
       "\\begin{enumerate*}\n",
       "\\item 0.754508445091766\n",
       "\\item 0.764181138421037\n",
       "\\item 0.756773968436794\n",
       "\\item 0.763409112059659\n",
       "\\item 0.760846530350953\n",
       "\\end{enumerate*}\n"
      ],
      "text/markdown": [
       "1. 0.754508445091766\n",
       "2. 0.764181138421037\n",
       "3. 0.756773968436794\n",
       "4. 0.763409112059659\n",
       "5. 0.760846530350953\n",
       "\n",
       "\n"
      ],
      "text/plain": [
       "[1] 0.7545084 0.7641811 0.7567740 0.7634091 0.7608465"
      ]
     },
     "metadata": {},
     "output_type": "display_data"
    }
   ],
   "source": [
    "mae.svd"
   ]
  },
  {
   "cell_type": "code",
   "execution_count": 29,
   "metadata": {},
   "outputs": [
    {
     "data": {
      "text/html": [
       "<ol class=list-inline>\n",
       "\t<li>0.903356525741931</li>\n",
       "\t<li>0.912904220733389</li>\n",
       "\t<li>0.905029495197663</li>\n",
       "\t<li>0.904335359596578</li>\n",
       "\t<li>0.90590813933704</li>\n",
       "</ol>\n"
      ],
      "text/latex": [
       "\\begin{enumerate*}\n",
       "\\item 0.903356525741931\n",
       "\\item 0.912904220733389\n",
       "\\item 0.905029495197663\n",
       "\\item 0.904335359596578\n",
       "\\item 0.90590813933704\n",
       "\\end{enumerate*}\n"
      ],
      "text/markdown": [
       "1. 0.903356525741931\n",
       "2. 0.912904220733389\n",
       "3. 0.905029495197663\n",
       "4. 0.904335359596578\n",
       "5. 0.90590813933704\n",
       "\n",
       "\n"
      ],
      "text/plain": [
       "[1] 0.9033565 0.9129042 0.9050295 0.9043354 0.9059081"
      ]
     },
     "metadata": {},
     "output_type": "display_data"
    }
   ],
   "source": [
    "mae.itemitem"
   ]
  },
  {
   "cell_type": "code",
   "execution_count": 30,
   "metadata": {},
   "outputs": [
    {
     "data": {
      "text/html": [
       "0.759943838872042"
      ],
      "text/latex": [
       "0.759943838872042"
      ],
      "text/markdown": [
       "0.759943838872042"
      ],
      "text/plain": [
       "[1] 0.7599438"
      ]
     },
     "metadata": {},
     "output_type": "display_data"
    }
   ],
   "source": [
    "mean(mae.svd)"
   ]
  },
  {
   "cell_type": "code",
   "execution_count": 33,
   "metadata": {},
   "outputs": [
    {
     "data": {
      "text/html": [
       "0.951982176473833"
      ],
      "text/latex": [
       "0.951982176473833"
      ],
      "text/markdown": [
       "0.951982176473833"
      ],
      "text/plain": [
       "[1] 0.9519822"
      ]
     },
     "metadata": {},
     "output_type": "display_data"
    }
   ],
   "source": [
    "mean(rmse.svd)"
   ]
  },
  {
   "cell_type": "code",
   "execution_count": 31,
   "metadata": {},
   "outputs": [
    {
     "data": {
      "text/html": [
       "0.90630674812132"
      ],
      "text/latex": [
       "0.90630674812132"
      ],
      "text/markdown": [
       "0.90630674812132"
      ],
      "text/plain": [
       "[1] 0.9063067"
      ]
     },
     "metadata": {},
     "output_type": "display_data"
    }
   ],
   "source": [
    "mean(mae.itemitem)"
   ]
  },
  {
   "cell_type": "code",
   "execution_count": 32,
   "metadata": {},
   "outputs": [
    {
     "data": {
      "text/html": [
       "1.16503591376056"
      ],
      "text/latex": [
       "1.16503591376056"
      ],
      "text/markdown": [
       "1.16503591376056"
      ],
      "text/plain": [
       "[1] 1.165036"
      ]
     },
     "metadata": {},
     "output_type": "display_data"
    }
   ],
   "source": [
    "mean(rmse.itemitem)"
   ]
  },
  {
   "cell_type": "markdown",
   "metadata": {
    "collapsed": true
   },
   "source": [
    "En utilisant la validaion croisée, le mae de l'approche SVD est meilleure que le mae de l'approche item-item. En plus d'avoir un meilleur MAE et RMSE, SVD fait une prediction pour toute la matrice alors que item-item non. "
   ]
  },
  {
   "cell_type": "code",
   "execution_count": null,
   "metadata": {},
   "outputs": [],
   "source": []
  }
 ],
 "metadata": {
  "kernelspec": {
   "display_name": "R",
   "language": "R",
   "name": "ir"
  },
  "language_info": {
   "codemirror_mode": "r",
   "file_extension": ".r",
   "mimetype": "text/x-r-source",
   "name": "R",
   "pygments_lexer": "r",
   "version": "3.5.1"
  }
 },
 "nbformat": 4,
 "nbformat_minor": 2
}
