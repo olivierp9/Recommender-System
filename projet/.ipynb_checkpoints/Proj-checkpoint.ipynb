{
 "cells": [
  {
   "cell_type": "code",
   "execution_count": 3,
   "metadata": {},
   "outputs": [],
   "source": [
    "u.user <- read.csv(file = 'u.user.csv', sep='|', header=T)\n",
    "u.item <- read.csv(file = 'u.item.csv', sep='|', header=T)\n",
    "u.data <- read.csv(file = 'u.data.csv', sep='|', header=T)\n",
    "colMeans.sparse <- function(m) {colSums(m)/colSums(m>0)}\n",
    "rowMeans.sparse <- function(m) {rowSums(m)/rowSums(m>0)}\n",
    "means.sparse <- function(v) {sum(v)/sum(v>0)}\n",
    "library(Matrix)\n",
    "\n",
    "m.sparse <- sparseMatrix(u.data[,1],u.data[,2],x=u.data[,3])\n",
    "m <- as.matrix(m.sparse)\n",
    "m.na <- m\n",
    "m.na[m.na==0] <- NA"
   ]
  },
  {
   "cell_type": "code",
   "execution_count": 4,
   "metadata": {},
   "outputs": [],
   "source": [
    "# Lecture de la fonction pour déterminer la matrice de Cosinus de m \n",
    "matrix.cos <- function(m) {\n",
    "    (m %*% t(m)) / ( t(matrix(sqrt(rowSums(m^2)),nrow(m),nrow(m)))\n",
    "                   * (sqrt(rowSums(m^2))) )\n",
    "}"
   ]
  },
  {
   "cell_type": "code",
   "execution_count": 5,
   "metadata": {},
   "outputs": [],
   "source": [
    "m.cos <- matrix.cos(t(m))"
   ]
  },
  {
   "cell_type": "code",
   "execution_count": null,
   "metadata": {},
   "outputs": [],
   "source": []
  },
  {
   "cell_type": "code",
   "execution_count": 8,
   "metadata": {},
   "outputs": [
    {
     "ename": "ERROR",
     "evalue": "Error in rowMedians(m.na[1:2, ], na.rm = TRUE): could not find function \"rowMedians\"\n",
     "output_type": "error",
     "traceback": [
      "Error in rowMedians(m.na[1:2, ], na.rm = TRUE): could not find function \"rowMedians\"\nTraceback:\n"
     ]
    }
   ],
   "source": [
    "rowMedians(m.na[1:2,],na.rm=TRUE)\n",
    "colMedians(m.na[,1:2],na.rm=TRUE)\n",
    "\n",
    "rowMeans(m.na[1:2,],na.rm=TRUE)\n",
    "colMeans(m.na[,1:2],na.rm=TRUE)\n",
    "\n",
    "Mode <- function(x) {\n",
    "  ux <- unique(x[x>0])\n",
    "  ux[which.max(tabulate(match(x[x>0], ux)))]\n",
    "}\n",
    "\n",
    "Mode(m.sparse[,1])\n",
    "Mode(m.sparse[,2])\n",
    "Mode(m.sparse[1,])\n",
    "Mode(m.sparse[2,])"
   ]
  },
  {
   "cell_type": "code",
   "execution_count": 31,
   "metadata": {},
   "outputs": [
    {
     "name": "stderr",
     "output_type": "stream",
     "text": [
      "Installing package into ‘/usagers3/olproc/R/x86_64-redhat-linux-gnu-library/3.5’\n",
      "(as ‘lib’ is unspecified)\n",
      "Warning message in install.packages(\"DescTools\"):\n",
      "“installation of package ‘DescTools’ had non-zero exit status”"
     ]
    }
   ],
   "source": [
    "install.packages('DescTools')"
   ]
  },
  {
   "cell_type": "code",
   "execution_count": 33,
   "metadata": {},
   "outputs": [],
   "source": [
    "u.mean <- matrix(rowMeans(m.na, na.rm=T), nrow(m), ncol(m))\n",
    "item.mean <- matrix(colMeans(m.na, na.rm=T), nrow(m), ncol(m), byrow=T)\n",
    "m.expect.mean <- ((u.mean + item.mean)/2)"
   ]
  },
  {
   "cell_type": "code",
   "execution_count": 34,
   "metadata": {},
   "outputs": [],
   "source": [
    "u.median <- matrix(rowMedians(m.na, na.rm=T), nrow(m), ncol(m))\n",
    "item.median <- matrix(colMedians(m.na, na.rm=T), nrow(m), ncol(m), byrow=T)\n",
    "m.expect.medians <- ((u.median + item.median)/2)"
   ]
  },
  {
   "cell_type": "code",
   "execution_count": 53,
   "metadata": {},
   "outputs": [],
   "source": [
    "u.mode <- rep(943,0)\n",
    "for(i in seq_len(943)){\n",
    "    u.mode[i] <- Mode(m.sparse[i,])\n",
    "}\n",
    "item.mode <- rep(1682,0)\n",
    "for(i in seq_len(1682)){\n",
    "    item.mode[i] <- Mode(m.sparse[,i])\n",
    "}\n",
    "m.expect.mode <- outer( u.mode,item.mode, FUN=\"+\")/2"
   ]
  },
  {
   "cell_type": "code",
   "execution_count": 35,
   "metadata": {},
   "outputs": [],
   "source": [
    "mae <- function(m1, m2) mean(abs(m1 - m2), na.rm=T)\n"
   ]
  },
  {
   "cell_type": "code",
   "execution_count": 36,
   "metadata": {},
   "outputs": [
    {
     "data": {
      "text/html": [
       "0.78258306017685"
      ],
      "text/latex": [
       "0.78258306017685"
      ],
      "text/markdown": [
       "0.78258306017685"
      ],
      "text/plain": [
       "[1] 0.7825831"
      ]
     },
     "metadata": {},
     "output_type": "display_data"
    }
   ],
   "source": [
    "mae(m.expect.mean, m.na)"
   ]
  },
  {
   "cell_type": "code",
   "execution_count": 37,
   "metadata": {},
   "outputs": [
    {
     "data": {
      "text/html": [
       "0.75413"
      ],
      "text/latex": [
       "0.75413"
      ],
      "text/markdown": [
       "0.75413"
      ],
      "text/plain": [
       "[1] 0.75413"
      ]
     },
     "metadata": {},
     "output_type": "display_data"
    }
   ],
   "source": [
    "mae(m.expect.medians, m.na)"
   ]
  },
  {
   "cell_type": "code",
   "execution_count": 54,
   "metadata": {},
   "outputs": [
    {
     "data": {
      "text/html": [
       "0.761475"
      ],
      "text/latex": [
       "0.761475"
      ],
      "text/markdown": [
       "0.761475"
      ],
      "text/plain": [
       "[1] 0.761475"
      ]
     },
     "metadata": {},
     "output_type": "display_data"
    }
   ],
   "source": [
    "mae(m.expect.mode, m.na)"
   ]
  },
  {
   "cell_type": "code",
   "execution_count": null,
   "metadata": {},
   "outputs": [],
   "source": []
  },
  {
   "cell_type": "code",
   "execution_count": null,
   "metadata": {},
   "outputs": [],
   "source": []
  }
 ],
 "metadata": {
  "kernelspec": {
   "display_name": "R",
   "language": "R",
   "name": "ir"
  },
  "language_info": {
   "codemirror_mode": "r",
   "file_extension": ".r",
   "mimetype": "text/x-r-source",
   "name": "R",
   "pygments_lexer": "r",
   "version": "3.5.1"
  }
 },
 "nbformat": 4,
 "nbformat_minor": 2
}
