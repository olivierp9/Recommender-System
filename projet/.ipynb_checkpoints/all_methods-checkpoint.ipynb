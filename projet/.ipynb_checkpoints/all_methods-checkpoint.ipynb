{
 "cells": [
  {
   "cell_type": "markdown",
   "metadata": {},
   "source": [
    "Dans ce fichier on comparera les différentes méthodes d'imputation des données et leur effet sur SVD."
   ]
  },
  {
   "cell_type": "code",
   "execution_count": 69,
   "metadata": {
    "collapsed": true
   },
   "outputs": [],
   "source": [
    "files <- (Sys.glob(\"out/total/*.csv\"))"
   ]
  },
  {
   "cell_type": "code",
   "execution_count": 70,
   "metadata": {},
   "outputs": [
    {
     "data": {
      "text/html": [
       "<ol class=list-inline>\n",
       "\t<li>'out/total/CF.csv'</li>\n",
       "\t<li>'out/total/RF.csv'</li>\n",
       "\t<li>'out/total/bayes.csv'</li>\n",
       "\t<li>'out/total/cluster.csv'</li>\n",
       "\t<li>'out/total/embed.csv'</li>\n",
       "\t<li>'out/total/mean.csv'</li>\n",
       "\t<li>'out/total/median.csv'</li>\n",
       "\t<li>'out/total/mode.csv'</li>\n",
       "</ol>\n"
      ],
      "text/latex": [
       "\\begin{enumerate*}\n",
       "\\item 'out/total/CF.csv'\n",
       "\\item 'out/total/RF.csv'\n",
       "\\item 'out/total/bayes.csv'\n",
       "\\item 'out/total/cluster.csv'\n",
       "\\item 'out/total/embed.csv'\n",
       "\\item 'out/total/mean.csv'\n",
       "\\item 'out/total/median.csv'\n",
       "\\item 'out/total/mode.csv'\n",
       "\\end{enumerate*}\n"
      ],
      "text/markdown": [
       "1. 'out/total/CF.csv'\n",
       "2. 'out/total/RF.csv'\n",
       "3. 'out/total/bayes.csv'\n",
       "4. 'out/total/cluster.csv'\n",
       "5. 'out/total/embed.csv'\n",
       "6. 'out/total/mean.csv'\n",
       "7. 'out/total/median.csv'\n",
       "8. 'out/total/mode.csv'\n",
       "\n",
       "\n"
      ],
      "text/plain": [
       "[1] \"out/total/CF.csv\"      \"out/total/RF.csv\"      \"out/total/bayes.csv\"  \n",
       "[4] \"out/total/cluster.csv\" \"out/total/embed.csv\"   \"out/total/mean.csv\"   \n",
       "[7] \"out/total/median.csv\"  \"out/total/mode.csv\"   "
      ]
     },
     "metadata": {},
     "output_type": "display_data"
    }
   ],
   "source": [
    "files"
   ]
  },
  {
   "cell_type": "code",
   "execution_count": 71,
   "metadata": {
    "collapsed": true
   },
   "outputs": [],
   "source": [
    "listOfFiles <- lapply(files, function(x) read.csv(x,sep=\"\")) "
   ]
  },
  {
   "cell_type": "code",
   "execution_count": null,
   "metadata": {
    "collapsed": true
   },
   "outputs": [],
   "source": []
  },
  {
   "cell_type": "code",
   "execution_count": 72,
   "metadata": {
    "collapsed": true
   },
   "outputs": [],
   "source": [
    "library(ggplot2)"
   ]
  },
  {
   "cell_type": "code",
   "execution_count": null,
   "metadata": {
    "collapsed": true
   },
   "outputs": [],
   "source": []
  },
  {
   "cell_type": "code",
   "execution_count": 73,
   "metadata": {
    "collapsed": true
   },
   "outputs": [],
   "source": [
    "df <- data.frame(matrix(unlist(listOfFiles), nrow=22, byrow=T))"
   ]
  },
  {
   "cell_type": "code",
   "execution_count": 74,
   "metadata": {
    "collapsed": true
   },
   "outputs": [],
   "source": [
    "x<-1:22"
   ]
  },
  {
   "cell_type": "code",
   "execution_count": 79,
   "metadata": {},
   "outputs": [
    {
     "data": {
      "image/png": "[encoded data removed]",
      "text/plain": [
       "Plot with title \"Comparaison des différentes méthodes\""
      ]
     },
     "metadata": {},
     "output_type": "display_data"
    }
   ],
   "source": [
    "plot(x,as.vector(unlist(listOfFiles[1])),type=\"l\",col=1,ylim = c(0.715,1.2),xlim = c(1,21),xlab = \"Dimensions\",ylab=\"MAE\",main=\"Comparaison des différentes méthodes\")\n",
    "for (i in seq(2,8)){\n",
    "    lines(x,as.vector(unlist(listOfFiles[i])),col=i)\n",
    "}\n",
    "\n",
    "legend(\"topright\",legend = c(\"CF\",\"RF\",\"Bayes\",\"Cluster\",\"Embedding\",\"Mean\",\"Median\",\"Mode\"),col = c(1:8),pch=15)"
   ]
  },
  {
   "cell_type": "code",
   "execution_count": 80,
   "metadata": {
    "collapsed": true
   },
   "outputs": [],
   "source": [
    "files <- files[-3]"
   ]
  },
  {
   "cell_type": "code",
   "execution_count": 82,
   "metadata": {},
   "outputs": [
    {
     "data": {
      "text/html": [
       "<ol class=list-inline>\n",
       "\t<li>'out/total/CF.csv'</li>\n",
       "\t<li>'out/total/RF.csv'</li>\n",
       "\t<li>'out/total/cluster.csv'</li>\n",
       "\t<li>'out/total/embed.csv'</li>\n",
       "\t<li>'out/total/mean.csv'</li>\n",
       "\t<li>'out/total/median.csv'</li>\n",
       "\t<li>'out/total/mode.csv'</li>\n",
       "</ol>\n"
      ],
      "text/latex": [
       "\\begin{enumerate*}\n",
       "\\item 'out/total/CF.csv'\n",
       "\\item 'out/total/RF.csv'\n",
       "\\item 'out/total/cluster.csv'\n",
       "\\item 'out/total/embed.csv'\n",
       "\\item 'out/total/mean.csv'\n",
       "\\item 'out/total/median.csv'\n",
       "\\item 'out/total/mode.csv'\n",
       "\\end{enumerate*}\n"
      ],
      "text/markdown": [
       "1. 'out/total/CF.csv'\n",
       "2. 'out/total/RF.csv'\n",
       "3. 'out/total/cluster.csv'\n",
       "4. 'out/total/embed.csv'\n",
       "5. 'out/total/mean.csv'\n",
       "6. 'out/total/median.csv'\n",
       "7. 'out/total/mode.csv'\n",
       "\n",
       "\n"
      ],
      "text/plain": [
       "[1] \"out/total/CF.csv\"      \"out/total/RF.csv\"      \"out/total/cluster.csv\"\n",
       "[4] \"out/total/embed.csv\"   \"out/total/mean.csv\"    \"out/total/median.csv\" \n",
       "[7] \"out/total/mode.csv\"   "
      ]
     },
     "metadata": {},
     "output_type": "display_data"
    }
   ],
   "source": [
    "files"
   ]
  },
  {
   "cell_type": "code",
   "execution_count": 90,
   "metadata": {},
   "outputs": [
    {
     "data": {
      "image/png": "[encoded data removed]",
      "text/plain": [
       "Plot with title \"Comparaison des différentes méthodes\""
      ]
     },
     "metadata": {},
     "output_type": "display_data"
    }
   ],
   "source": [
    "listOfFiles <- lapply(files, function(x) read.csv(x,sep=\"\")) \n",
    "x<-1:22\n",
    "df <- data.frame(matrix(unlist(listOfFiles), nrow=22, byrow=T))\n",
    "plot(x,as.vector(unlist(listOfFiles[1])),type=\"l\",col=1,ylim = c(0.715,0.88),lwd = 3,xlim = c(1,21),xlab = \"Dimensions\",ylab=\"MAE\",main=\"Comparaison des différentes méthodes\")\n",
    "for (i in seq(2,6)){\n",
    "    lines(x,as.vector(unlist(listOfFiles[i])),lwd = 3,col=i)\n",
    "}\n",
    "lines(x,as.vector(unlist(listOfFiles[7])),lwd = 3,col=8)\n",
    "\n",
    "legend(\"topright\",legend = c(\"CF\",\"RF\",\"Cluster\",\"Embedding\",\"Mean\",\"Median\",\"Mode\"),col = c(1:6,8),pch=15)"
   ]
  },
  {
   "cell_type": "code",
   "execution_count": null,
   "metadata": {
    "collapsed": true
   },
   "outputs": [],
   "source": []
  }
 ],
 "metadata": {
  "kernelspec": {
   "display_name": "R",
   "language": "R",
   "name": "ir"
  },
  "language_info": {
   "codemirror_mode": "r",
   "file_extension": ".r",
   "mimetype": "text/x-r-source",
   "name": "R",
   "pygments_lexer": "r",
   "version": "3.5.1"
  }
 },
 "nbformat": 4,
 "nbformat_minor": 2
}
