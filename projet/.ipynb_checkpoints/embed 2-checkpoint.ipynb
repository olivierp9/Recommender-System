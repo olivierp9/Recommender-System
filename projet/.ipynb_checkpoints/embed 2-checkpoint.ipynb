{
 "cells": [
  {
   "cell_type": "code",
   "execution_count": 1,
   "metadata": {},
   "outputs": [],
   "source": [
    "import pandas as pd\n",
    "import numpy as np\n",
    "import matplotlib.pyplot as plt\n",
    "import warnings\n",
    "warnings.filterwarnings('ignore')\n",
    "\n",
    "%matplotlib inline"
   ]
  },
  {
   "cell_type": "code",
   "execution_count": 2,
   "metadata": {},
   "outputs": [],
   "source": [
    "dataset = pd.read_csv(\"u.data.csv\",sep='|',names=\"user_id,item_id,rating,timestamp\".split(\",\"))\n"
   ]
  },
  {
   "cell_type": "code",
   "execution_count": 3,
   "metadata": {},
   "outputs": [
    {
     "data": {
      "text/html": [
       "<div>\n",
       "<style scoped>\n",
       "    .dataframe tbody tr th:only-of-type {\n",
       "        vertical-align: middle;\n",
       "    }\n",
       "\n",
       "    .dataframe tbody tr th {\n",
       "        vertical-align: top;\n",
       "    }\n",
       "\n",
       "    .dataframe thead th {\n",
       "        text-align: right;\n",
       "    }\n",
       "</style>\n",
       "<table border=\"1\" class=\"dataframe\">\n",
       "  <thead>\n",
       "    <tr style=\"text-align: right;\">\n",
       "      <th></th>\n",
       "      <th>user_id</th>\n",
       "      <th>item_id</th>\n",
       "      <th>rating</th>\n",
       "      <th>timestamp</th>\n",
       "    </tr>\n",
       "  </thead>\n",
       "  <tbody>\n",
       "    <tr>\n",
       "      <th>0</th>\n",
       "      <td>user.id</td>\n",
       "      <td>item.id</td>\n",
       "      <td>rating</td>\n",
       "      <td>timestamp</td>\n",
       "    </tr>\n",
       "    <tr>\n",
       "      <th>1</th>\n",
       "      <td>196</td>\n",
       "      <td>242</td>\n",
       "      <td>3</td>\n",
       "      <td>881250949</td>\n",
       "    </tr>\n",
       "    <tr>\n",
       "      <th>2</th>\n",
       "      <td>186</td>\n",
       "      <td>302</td>\n",
       "      <td>3</td>\n",
       "      <td>891717742</td>\n",
       "    </tr>\n",
       "    <tr>\n",
       "      <th>3</th>\n",
       "      <td>22</td>\n",
       "      <td>377</td>\n",
       "      <td>1</td>\n",
       "      <td>878887116</td>\n",
       "    </tr>\n",
       "    <tr>\n",
       "      <th>4</th>\n",
       "      <td>244</td>\n",
       "      <td>51</td>\n",
       "      <td>2</td>\n",
       "      <td>880606923</td>\n",
       "    </tr>\n",
       "  </tbody>\n",
       "</table>\n",
       "</div>"
      ],
      "text/plain": [
       "   user_id  item_id  rating  timestamp\n",
       "0  user.id  item.id  rating  timestamp\n",
       "1      196      242       3  881250949\n",
       "2      186      302       3  891717742\n",
       "3       22      377       1  878887116\n",
       "4      244       51       2  880606923"
      ]
     },
     "execution_count": 3,
     "metadata": {},
     "output_type": "execute_result"
    }
   ],
   "source": [
    "dataset.head()"
   ]
  },
  {
   "cell_type": "code",
   "execution_count": 4,
   "metadata": {},
   "outputs": [
    {
     "data": {
      "text/plain": [
       "(944, 1683)"
      ]
     },
     "execution_count": 4,
     "metadata": {},
     "output_type": "execute_result"
    }
   ],
   "source": [
    "len(dataset.user_id.unique()), len(dataset.item_id.unique())\n"
   ]
  },
  {
   "cell_type": "code",
   "execution_count": 5,
   "metadata": {},
   "outputs": [],
   "source": [
    "dataset.user_id = dataset.user_id.astype('category').cat.codes.values\n",
    "dataset.item_id = dataset.item_id.astype('category').cat.codes.values"
   ]
  },
  {
   "cell_type": "code",
   "execution_count": 7,
   "metadata": {},
   "outputs": [],
   "source": [
    "dataset = dataset.iloc[1:]"
   ]
  },
  {
   "cell_type": "code",
   "execution_count": 8,
   "metadata": {},
   "outputs": [
    {
     "data": {
      "text/html": [
       "<div>\n",
       "<style scoped>\n",
       "    .dataframe tbody tr th:only-of-type {\n",
       "        vertical-align: middle;\n",
       "    }\n",
       "\n",
       "    .dataframe tbody tr th {\n",
       "        vertical-align: top;\n",
       "    }\n",
       "\n",
       "    .dataframe thead th {\n",
       "        text-align: right;\n",
       "    }\n",
       "</style>\n",
       "<table border=\"1\" class=\"dataframe\">\n",
       "  <thead>\n",
       "    <tr style=\"text-align: right;\">\n",
       "      <th></th>\n",
       "      <th>user_id</th>\n",
       "      <th>item_id</th>\n",
       "      <th>rating</th>\n",
       "      <th>timestamp</th>\n",
       "    </tr>\n",
       "  </thead>\n",
       "  <tbody>\n",
       "    <tr>\n",
       "      <th>1</th>\n",
       "      <td>107</td>\n",
       "      <td>842</td>\n",
       "      <td>3</td>\n",
       "      <td>881250949</td>\n",
       "    </tr>\n",
       "    <tr>\n",
       "      <th>2</th>\n",
       "      <td>96</td>\n",
       "      <td>909</td>\n",
       "      <td>3</td>\n",
       "      <td>891717742</td>\n",
       "    </tr>\n",
       "    <tr>\n",
       "      <th>3</th>\n",
       "      <td>134</td>\n",
       "      <td>991</td>\n",
       "      <td>1</td>\n",
       "      <td>878887116</td>\n",
       "    </tr>\n",
       "    <tr>\n",
       "      <th>4</th>\n",
       "      <td>161</td>\n",
       "      <td>1139</td>\n",
       "      <td>2</td>\n",
       "      <td>880606923</td>\n",
       "    </tr>\n",
       "    <tr>\n",
       "      <th>5</th>\n",
       "      <td>74</td>\n",
       "      <td>957</td>\n",
       "      <td>1</td>\n",
       "      <td>886397596</td>\n",
       "    </tr>\n",
       "  </tbody>\n",
       "</table>\n",
       "</div>"
      ],
      "text/plain": [
       "   user_id  item_id rating  timestamp\n",
       "1      107      842      3  881250949\n",
       "2       96      909      3  891717742\n",
       "3      134      991      1  878887116\n",
       "4      161     1139      2  880606923\n",
       "5       74      957      1  886397596"
      ]
     },
     "execution_count": 8,
     "metadata": {},
     "output_type": "execute_result"
    }
   ],
   "source": [
    "dataset.drop(['B', 'C'], axis=1)"
   ]
  },
  {
   "cell_type": "code",
   "execution_count": 9,
   "metadata": {},
   "outputs": [],
   "source": [
    "from sklearn.model_selection import train_test_split\n",
    "train, test = train_test_split(dataset, test_size=0.2)"
   ]
  },
  {
   "cell_type": "code",
   "execution_count": 10,
   "metadata": {},
   "outputs": [
    {
     "name": "stderr",
     "output_type": "stream",
     "text": [
      "Using TensorFlow backend.\n"
     ]
    }
   ],
   "source": [
    "import keras\n",
    "from IPython.display import SVG\n",
    "from keras.optimizers import Adam\n",
    "from keras.utils.vis_utils import model_to_dot\n",
    "n_users, n_movies = len(dataset.user_id.unique()), len(dataset.item_id.unique())\n",
    "n_latent_factors = 3"
   ]
  },
  {
   "cell_type": "code",
   "execution_count": 11,
   "metadata": {},
   "outputs": [
    {
     "name": "stdout",
     "output_type": "stream",
     "text": [
      "WARNING:tensorflow:From C:\\Users\\happy\\Anaconda2\\envs\\py36\\lib\\site-packages\\keras\\backend\\tensorflow_backend.py:1264: calling reduce_prod (from tensorflow.python.ops.math_ops) with keep_dims is deprecated and will be removed in a future version.\n",
      "Instructions for updating:\n",
      "keep_dims is deprecated, use keepdims instead\n",
      "WARNING:tensorflow:From C:\\Users\\happy\\Anaconda2\\envs\\py36\\lib\\site-packages\\keras\\backend\\tensorflow_backend.py:1349: calling reduce_mean (from tensorflow.python.ops.math_ops) with keep_dims is deprecated and will be removed in a future version.\n",
      "Instructions for updating:\n",
      "keep_dims is deprecated, use keepdims instead\n"
     ]
    }
   ],
   "source": [
    "movie_input = keras.layers.Input(shape=[1],name='Item')\n",
    "movie_embedding = keras.layers.Embedding(n_movies + 1, n_latent_factors, name='Movie-Embedding')(movie_input)\n",
    "movie_vec = keras.layers.Flatten(name='FlattenMovies')(movie_embedding)\n",
    "\n",
    "user_input = keras.layers.Input(shape=[1],name='User')\n",
    "user_vec = keras.layers.Flatten(name='FlattenUsers')(keras.layers.Embedding(n_users + 1, n_latent_factors,name='User-Embedding')(user_input))\n",
    "\n",
    "prod = keras.layers.merge([movie_vec, user_vec], mode='dot',name='DotProduct')\n",
    "model = keras.Model([user_input, movie_input], prod)\n",
    "model.compile('adam', 'mean_squared_error')"
   ]
  },
  {
   "cell_type": "code",
   "execution_count": 12,
   "metadata": {},
   "outputs": [
    {
     "name": "stdout",
     "output_type": "stream",
     "text": [
      "Epoch 1/100\n",
      "80000/80000 [==============================] - 16s 194us/step - loss: 12.0000\n",
      "Epoch 2/100\n",
      "80000/80000 [==============================] - 10s 120us/step - loss: 4.5355\n",
      "Epoch 3/100\n",
      "80000/80000 [==============================] - 10s 120us/step - loss: 1.9302\n",
      "Epoch 4/100\n",
      "80000/80000 [==============================] - 10s 120us/step - loss: 1.3104\n",
      "Epoch 5/100\n",
      "80000/80000 [==============================] - 10s 123us/step - loss: 1.0797\n",
      "Epoch 6/100\n",
      "80000/80000 [==============================] - 10s 123us/step - loss: 0.9806\n",
      "Epoch 7/100\n",
      "80000/80000 [==============================] - 10s 127us/step - loss: 0.9332\n",
      "Epoch 8/100\n",
      "80000/80000 [==============================] - 10s 127us/step - loss: 0.9082\n",
      "Epoch 9/100\n",
      "80000/80000 [==============================] - 10s 127us/step - loss: 0.8946\n",
      "Epoch 10/100\n",
      "80000/80000 [==============================] - 10s 123us/step - loss: 0.8853\n",
      "Epoch 11/100\n",
      "80000/80000 [==============================] - 10s 124us/step - loss: 0.8788\n",
      "Epoch 12/100\n",
      "80000/80000 [==============================] - 10s 126us/step - loss: 0.8748\n",
      "Epoch 13/100\n",
      "80000/80000 [==============================] - 10s 127us/step - loss: 0.8707\n",
      "Epoch 14/100\n",
      "80000/80000 [==============================] - 10s 129us/step - loss: 0.8680\n",
      "Epoch 15/100\n",
      "80000/80000 [==============================] - 11s 138us/step - loss: 0.8655\n",
      "Epoch 16/100\n",
      "80000/80000 [==============================] - 11s 132us/step - loss: 0.8630\n",
      "Epoch 17/100\n",
      "80000/80000 [==============================] - 10s 126us/step - loss: 0.8606\n",
      "Epoch 18/100\n",
      "80000/80000 [==============================] - 11s 135us/step - loss: 0.8583\n",
      "Epoch 19/100\n",
      "80000/80000 [==============================] - 10s 126us/step - loss: 0.8558\n",
      "Epoch 20/100\n",
      "80000/80000 [==============================] - 10s 126us/step - loss: 0.8526\n",
      "Epoch 21/100\n",
      "80000/80000 [==============================] - 11s 131us/step - loss: 0.8497\n",
      "Epoch 22/100\n",
      "80000/80000 [==============================] - 10s 125us/step - loss: 0.8458\n",
      "Epoch 23/100\n",
      "80000/80000 [==============================] - 10s 126us/step - loss: 0.8419\n",
      "Epoch 24/100\n",
      "80000/80000 [==============================] - 10s 128us/step - loss: 0.8377\n",
      "Epoch 25/100\n",
      "80000/80000 [==============================] - 10s 126us/step - loss: 0.8323\n",
      "Epoch 26/100\n",
      "80000/80000 [==============================] - 10s 126us/step - loss: 0.8272\n",
      "Epoch 27/100\n",
      "80000/80000 [==============================] - 10s 127us/step - loss: 0.8218\n",
      "Epoch 28/100\n",
      "80000/80000 [==============================] - 10s 124us/step - loss: 0.8159\n",
      "Epoch 29/100\n",
      "80000/80000 [==============================] - 10s 129us/step - loss: 0.8107\n",
      "Epoch 30/100\n",
      "80000/80000 [==============================] - 10s 124us/step - loss: 0.8056\n",
      "Epoch 31/100\n",
      "80000/80000 [==============================] - 10s 123us/step - loss: 0.8005\n",
      "Epoch 32/100\n",
      "80000/80000 [==============================] - 10s 124us/step - loss: 0.7962\n",
      "Epoch 33/100\n",
      "80000/80000 [==============================] - 10s 123us/step - loss: 0.7919\n",
      "Epoch 34/100\n",
      "80000/80000 [==============================] - 10s 125us/step - loss: 0.7880\n",
      "Epoch 35/100\n",
      "80000/80000 [==============================] - 10s 127us/step - loss: 0.7849\n",
      "Epoch 36/100\n",
      "80000/80000 [==============================] - 10s 121us/step - loss: 0.7814\n",
      "Epoch 37/100\n",
      "80000/80000 [==============================] - 10s 122us/step - loss: 0.7781\n",
      "Epoch 38/100\n",
      "80000/80000 [==============================] - 10s 120us/step - loss: 0.7748\n",
      "Epoch 39/100\n",
      "80000/80000 [==============================] - 10s 123us/step - loss: 0.7720\n",
      "Epoch 40/100\n",
      "80000/80000 [==============================] - 10s 122us/step - loss: 0.7693\n",
      "Epoch 41/100\n",
      "80000/80000 [==============================] - 10s 123us/step - loss: 0.7665\n",
      "Epoch 42/100\n",
      "80000/80000 [==============================] - 10s 123us/step - loss: 0.7639\n",
      "Epoch 43/100\n",
      "80000/80000 [==============================] - 10s 123us/step - loss: 0.7614\n",
      "Epoch 44/100\n",
      "80000/80000 [==============================] - 10s 122us/step - loss: 0.7588\n",
      "Epoch 45/100\n",
      "80000/80000 [==============================] - 10s 119us/step - loss: 0.7565\n",
      "Epoch 46/100\n",
      "80000/80000 [==============================] - 9s 119us/step - loss: 0.7542\n",
      "Epoch 47/100\n",
      "80000/80000 [==============================] - 10s 124us/step - loss: 0.7520\n",
      "Epoch 48/100\n",
      "80000/80000 [==============================] - 10s 125us/step - loss: 0.7500\n",
      "Epoch 49/100\n",
      "80000/80000 [==============================] - 10s 125us/step - loss: 0.7478\n",
      "Epoch 50/100\n",
      "80000/80000 [==============================] - 10s 121us/step - loss: 0.7463\n",
      "Epoch 51/100\n",
      "80000/80000 [==============================] - 9s 115us/step - loss: 0.7445\n",
      "Epoch 52/100\n",
      "80000/80000 [==============================] - 10s 122us/step - loss: 0.7429\n",
      "Epoch 53/100\n",
      "80000/80000 [==============================] - 10s 121us/step - loss: 0.7410\n",
      "Epoch 54/100\n",
      "80000/80000 [==============================] - 10s 123us/step - loss: 0.7399\n",
      "Epoch 55/100\n",
      "80000/80000 [==============================] - 10s 121us/step - loss: 0.7387\n",
      "Epoch 56/100\n",
      "80000/80000 [==============================] - 10s 124us/step - loss: 0.7372\n",
      "Epoch 57/100\n",
      "80000/80000 [==============================] - 10s 123us/step - loss: 0.7364\n",
      "Epoch 58/100\n",
      "80000/80000 [==============================] - 9s 118us/step - loss: 0.7353\n",
      "Epoch 59/100\n",
      "80000/80000 [==============================] - 9s 114us/step - loss: 0.7342\n",
      "Epoch 60/100\n",
      "80000/80000 [==============================] - 9s 117us/step - loss: 0.7329\n",
      "Epoch 61/100\n",
      "80000/80000 [==============================] - 10s 120us/step - loss: 0.7322\n",
      "Epoch 62/100\n",
      "80000/80000 [==============================] - 10s 121us/step - loss: 0.7311\n",
      "Epoch 63/100\n",
      "80000/80000 [==============================] - 10s 125us/step - loss: 0.7306\n",
      "Epoch 64/100\n",
      "80000/80000 [==============================] - 10s 123us/step - loss: 0.7298\n",
      "Epoch 65/100\n",
      "80000/80000 [==============================] - 10s 121us/step - loss: 0.7291\n",
      "Epoch 66/100\n",
      "80000/80000 [==============================] - 9s 115us/step - loss: 0.7285\n",
      "Epoch 67/100\n",
      "80000/80000 [==============================] - 10s 120us/step - loss: 0.7275\n",
      "Epoch 68/100\n",
      "80000/80000 [==============================] - 9s 116us/step - loss: 0.7268\n",
      "Epoch 69/100\n",
      "80000/80000 [==============================] - 9s 117us/step - loss: 0.7262\n",
      "Epoch 70/100\n",
      "80000/80000 [==============================] - 9s 116us/step - loss: 0.7260\n",
      "Epoch 71/100\n",
      "80000/80000 [==============================] - 9s 116us/step - loss: 0.7253\n",
      "Epoch 72/100\n",
      "80000/80000 [==============================] - 10s 121us/step - loss: 0.7246\n",
      "Epoch 73/100\n",
      "80000/80000 [==============================] - 9s 117us/step - loss: 0.7244\n",
      "Epoch 74/100\n",
      "80000/80000 [==============================] - 9s 112us/step - loss: 0.7237\n",
      "Epoch 75/100\n",
      "80000/80000 [==============================] - 9s 117us/step - loss: 0.7234\n",
      "Epoch 76/100\n",
      "80000/80000 [==============================] - 9s 115us/step - loss: 0.7229\n",
      "Epoch 77/100\n",
      "80000/80000 [==============================] - 9s 118us/step - loss: 0.7225\n",
      "Epoch 78/100\n",
      "80000/80000 [==============================] - 9s 118us/step - loss: 0.7217\n",
      "Epoch 79/100\n",
      "80000/80000 [==============================] - 9s 113us/step - loss: 0.7214\n",
      "Epoch 80/100\n",
      "80000/80000 [==============================] - 9s 116us/step - loss: 0.7211\n",
      "Epoch 81/100\n",
      "80000/80000 [==============================] - 9s 118us/step - loss: 0.7205\n",
      "Epoch 82/100\n",
      "80000/80000 [==============================] - 9s 117us/step - loss: 0.7202\n",
      "Epoch 83/100\n",
      "80000/80000 [==============================] - 9s 114us/step - loss: 0.7197\n",
      "Epoch 84/100\n",
      "80000/80000 [==============================] - 9s 115us/step - loss: 0.7198\n",
      "Epoch 85/100\n",
      "80000/80000 [==============================] - 10s 119us/step - loss: 0.7193\n",
      "Epoch 86/100\n",
      "80000/80000 [==============================] - 9s 116us/step - loss: 0.7190\n",
      "Epoch 87/100\n",
      "80000/80000 [==============================] - 9s 115us/step - loss: 0.7188\n",
      "Epoch 88/100\n",
      "80000/80000 [==============================] - 9s 114us/step - loss: 0.7185\n",
      "Epoch 89/100\n",
      "80000/80000 [==============================] - 9s 118us/step - loss: 0.7181\n",
      "Epoch 90/100\n",
      "80000/80000 [==============================] - 9s 116us/step - loss: 0.7176\n",
      "Epoch 91/100\n",
      "80000/80000 [==============================] - 10s 119us/step - loss: 0.7177\n",
      "Epoch 92/100\n",
      "80000/80000 [==============================] - 9s 114us/step - loss: 0.7172\n",
      "Epoch 93/100\n",
      "80000/80000 [==============================] - 9s 112us/step - loss: 0.7171\n",
      "Epoch 94/100\n",
      "80000/80000 [==============================] - 9s 114us/step - loss: 0.7168\n",
      "Epoch 95/100\n",
      "80000/80000 [==============================] - 9s 114us/step - loss: 0.7168\n",
      "Epoch 96/100\n",
      "80000/80000 [==============================] - 9s 114us/step - loss: 0.7162\n",
      "Epoch 97/100\n",
      "80000/80000 [==============================] - 8s 106us/step - loss: 0.7161\n",
      "Epoch 98/100\n",
      "80000/80000 [==============================] - 10s 120us/step - loss: 0.7160\n",
      "Epoch 99/100\n",
      "80000/80000 [==============================] - 10s 119us/step - loss: 0.7157\n",
      "Epoch 100/100\n",
      "80000/80000 [==============================] - 10s 120us/step - loss: 0.7155\n"
     ]
    }
   ],
   "source": [
    "history = model.fit([train.user_id, train.item_id], train.rating, epochs=100)"
   ]
  },
  {
   "cell_type": "code",
   "execution_count": 18,
   "metadata": {},
   "outputs": [],
   "source": [
    "y_hat = np.round(model.predict([test.user_id, test.item_id]),0)\n",
    "y_true = test.rating"
   ]
  },
  {
   "cell_type": "code",
   "execution_count": 19,
   "metadata": {},
   "outputs": [
    {
     "data": {
      "text/plain": [
       "0.6981"
      ]
     },
     "execution_count": 19,
     "metadata": {},
     "output_type": "execute_result"
    }
   ],
   "source": [
    "from sklearn.metrics import mean_absolute_error\n",
    "mean_absolute_error(y_true, y_hat)"
   ]
  },
  {
   "cell_type": "code",
   "execution_count": null,
   "metadata": {},
   "outputs": [],
   "source": []
  }
 ],
 "metadata": {
  "kernelspec": {
   "display_name": "Python 3",
   "language": "python",
   "name": "python3"
  },
  "language_info": {
   "codemirror_mode": {
    "name": "ipython",
    "version": 3
   },
   "file_extension": ".py",
   "mimetype": "text/x-python",
   "name": "python",
   "nbconvert_exporter": "python",
   "pygments_lexer": "ipython3",
   "version": "3.6.5"
  }
 },
 "nbformat": 4,
 "nbformat_minor": 2
}
