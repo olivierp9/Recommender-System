{
 "cells": [
  {
   "cell_type": "code",
   "execution_count": 1,
   "metadata": {},
   "outputs": [],
   "source": [
    "import pandas as pd\n",
    "import numpy as np\n",
    "import matplotlib.pyplot as plt\n",
    "import warnings\n",
    "warnings.filterwarnings('ignore')\n",
    "\n",
    "%matplotlib inline"
   ]
  },
  {
   "cell_type": "code",
   "execution_count": 2,
   "metadata": {},
   "outputs": [],
   "source": [
    "dataset = pd.read_csv(\"u.data.csv\",sep='|',names=\"user_id,item_id,rating,timestamp\".split(\",\"))\n",
    "dataset=dataset.drop('timestamp',axis=1)\n",
    "\n",
    "dataset = dataset.iloc[1:,:]\n"
   ]
  },
  {
   "cell_type": "code",
   "execution_count": 3,
   "metadata": {},
   "outputs": [
    {
     "data": {
      "text/html": [
       "<div>\n",
       "<style scoped>\n",
       "    .dataframe tbody tr th:only-of-type {\n",
       "        vertical-align: middle;\n",
       "    }\n",
       "\n",
       "    .dataframe tbody tr th {\n",
       "        vertical-align: top;\n",
       "    }\n",
       "\n",
       "    .dataframe thead th {\n",
       "        text-align: right;\n",
       "    }\n",
       "</style>\n",
       "<table border=\"1\" class=\"dataframe\">\n",
       "  <thead>\n",
       "    <tr style=\"text-align: right;\">\n",
       "      <th></th>\n",
       "      <th>user_id</th>\n",
       "      <th>item_id</th>\n",
       "      <th>rating</th>\n",
       "    </tr>\n",
       "  </thead>\n",
       "  <tbody>\n",
       "    <tr>\n",
       "      <th>1</th>\n",
       "      <td>196</td>\n",
       "      <td>242</td>\n",
       "      <td>3</td>\n",
       "    </tr>\n",
       "    <tr>\n",
       "      <th>2</th>\n",
       "      <td>186</td>\n",
       "      <td>302</td>\n",
       "      <td>3</td>\n",
       "    </tr>\n",
       "    <tr>\n",
       "      <th>3</th>\n",
       "      <td>22</td>\n",
       "      <td>377</td>\n",
       "      <td>1</td>\n",
       "    </tr>\n",
       "    <tr>\n",
       "      <th>4</th>\n",
       "      <td>244</td>\n",
       "      <td>51</td>\n",
       "      <td>2</td>\n",
       "    </tr>\n",
       "    <tr>\n",
       "      <th>5</th>\n",
       "      <td>166</td>\n",
       "      <td>346</td>\n",
       "      <td>1</td>\n",
       "    </tr>\n",
       "  </tbody>\n",
       "</table>\n",
       "</div>"
      ],
      "text/plain": [
       "  user_id item_id rating\n",
       "1     196     242      3\n",
       "2     186     302      3\n",
       "3      22     377      1\n",
       "4     244      51      2\n",
       "5     166     346      1"
      ]
     },
     "execution_count": 3,
     "metadata": {},
     "output_type": "execute_result"
    }
   ],
   "source": [
    "dataset.head()"
   ]
  },
  {
   "cell_type": "code",
   "execution_count": null,
   "metadata": {},
   "outputs": [],
   "source": []
  },
  {
   "cell_type": "code",
   "execution_count": 4,
   "metadata": {},
   "outputs": [],
   "source": [
    "m = np.zeros((943,1682),dtype=np.int8)\n",
    "for i in range(len(dataset)):\n",
    "    m[int(dataset.iloc[i,0])-1,int(dataset.iloc[i,1])-1]=int(dataset.iloc[i,2])"
   ]
  },
  {
   "cell_type": "code",
   "execution_count": 5,
   "metadata": {},
   "outputs": [],
   "source": [
    "dataset.user_id = dataset.user_id.astype('category').cat.codes.values\n",
    "dataset.item_id = dataset.item_id.astype('category').cat.codes.values"
   ]
  },
  {
   "cell_type": "code",
   "execution_count": 6,
   "metadata": {},
   "outputs": [
    {
     "data": {
      "text/html": [
       "<div>\n",
       "<style scoped>\n",
       "    .dataframe tbody tr th:only-of-type {\n",
       "        vertical-align: middle;\n",
       "    }\n",
       "\n",
       "    .dataframe tbody tr th {\n",
       "        vertical-align: top;\n",
       "    }\n",
       "\n",
       "    .dataframe thead th {\n",
       "        text-align: right;\n",
       "    }\n",
       "</style>\n",
       "<table border=\"1\" class=\"dataframe\">\n",
       "  <thead>\n",
       "    <tr style=\"text-align: right;\">\n",
       "      <th></th>\n",
       "      <th>user_id</th>\n",
       "      <th>item_id</th>\n",
       "      <th>rating</th>\n",
       "    </tr>\n",
       "  </thead>\n",
       "  <tbody>\n",
       "    <tr>\n",
       "      <th>1</th>\n",
       "      <td>107</td>\n",
       "      <td>842</td>\n",
       "      <td>3</td>\n",
       "    </tr>\n",
       "    <tr>\n",
       "      <th>2</th>\n",
       "      <td>96</td>\n",
       "      <td>909</td>\n",
       "      <td>3</td>\n",
       "    </tr>\n",
       "    <tr>\n",
       "      <th>3</th>\n",
       "      <td>134</td>\n",
       "      <td>991</td>\n",
       "      <td>1</td>\n",
       "    </tr>\n",
       "    <tr>\n",
       "      <th>4</th>\n",
       "      <td>161</td>\n",
       "      <td>1139</td>\n",
       "      <td>2</td>\n",
       "    </tr>\n",
       "    <tr>\n",
       "      <th>5</th>\n",
       "      <td>74</td>\n",
       "      <td>957</td>\n",
       "      <td>1</td>\n",
       "    </tr>\n",
       "  </tbody>\n",
       "</table>\n",
       "</div>"
      ],
      "text/plain": [
       "   user_id  item_id rating\n",
       "1      107      842      3\n",
       "2       96      909      3\n",
       "3      134      991      1\n",
       "4      161     1139      2\n",
       "5       74      957      1"
      ]
     },
     "execution_count": 6,
     "metadata": {},
     "output_type": "execute_result"
    }
   ],
   "source": [
    "dataset.head()"
   ]
  },
  {
   "cell_type": "code",
   "execution_count": 7,
   "metadata": {},
   "outputs": [
    {
     "data": {
      "text/plain": [
       "(943, 1682)"
      ]
     },
     "execution_count": 7,
     "metadata": {},
     "output_type": "execute_result"
    }
   ],
   "source": [
    "len(dataset.user_id.unique()), len(dataset.item_id.unique())\n"
   ]
  },
  {
   "cell_type": "code",
   "execution_count": 8,
   "metadata": {},
   "outputs": [],
   "source": [
    "dataset = dataset.dropna(axis=0, how='any', thresh=None, subset=None, inplace=False)"
   ]
  },
  {
   "cell_type": "code",
   "execution_count": null,
   "metadata": {},
   "outputs": [],
   "source": []
  },
  {
   "cell_type": "code",
   "execution_count": 9,
   "metadata": {},
   "outputs": [
    {
     "data": {
      "text/plain": [
       "user_id    False\n",
       "item_id    False\n",
       "rating     False\n",
       "dtype: bool"
      ]
     },
     "execution_count": 9,
     "metadata": {},
     "output_type": "execute_result"
    }
   ],
   "source": [
    "dataset.isnull().any()"
   ]
  },
  {
   "cell_type": "code",
   "execution_count": 10,
   "metadata": {},
   "outputs": [],
   "source": [
    "from sklearn.model_selection import train_test_split\n",
    "train, test = train_test_split(dataset, test_size=0.2)"
   ]
  },
  {
   "cell_type": "code",
   "execution_count": 11,
   "metadata": {},
   "outputs": [
    {
     "data": {
      "text/plain": [
       "80000"
      ]
     },
     "execution_count": 11,
     "metadata": {},
     "output_type": "execute_result"
    }
   ],
   "source": [
    "len(train)"
   ]
  },
  {
   "cell_type": "code",
   "execution_count": 10,
   "metadata": {},
   "outputs": [
    {
     "name": "stderr",
     "output_type": "stream",
     "text": [
      "Using TensorFlow backend.\n"
     ]
    }
   ],
   "source": [
    "import keras\n",
    "from IPython.display import SVG\n",
    "from keras.optimizers import Adam\n",
    "from keras.utils.vis_utils import model_to_dot\n",
    "from keras import regularizers\n",
    "\n",
    "n_users, n_movies = len(dataset.user_id.unique()), len(dataset.item_id.unique())\n",
    "n_latent_factors = 3"
   ]
  },
  {
   "cell_type": "code",
   "execution_count": 34,
   "metadata": {},
   "outputs": [
    {
     "data": {
      "text/plain": [
       "943"
      ]
     },
     "execution_count": 34,
     "metadata": {},
     "output_type": "execute_result"
    }
   ],
   "source": [
    "n_users"
   ]
  },
  {
   "cell_type": "code",
   "execution_count": 41,
   "metadata": {},
   "outputs": [
    {
     "name": "stdout",
     "output_type": "stream",
     "text": [
      "Tensor(\"lambda_23/strided_slice:0\", shape=(?,), dtype=float32)\n",
      "Tensor(\"Movie-Embedding_12/GatherV2:0\", shape=(?, 3), dtype=float32)\n"
     ]
    }
   ],
   "source": [
    "total_input = keras.layers.Input(shape=[2,],name='both')\n",
    "\n",
    "out1 = keras.layers.Lambda(lambda x: x[:, 0])(total_input)\n",
    "out2 = keras.layers.Lambda(lambda x: x[:, 1])(total_input)\n",
    "\n",
    "print(out1)\n",
    "movie_vec = keras.layers.Embedding(n_movies + 1, 3, name='Movie-Embedding')(out2)\n",
    "print(movie_embedding)\n",
    "\n",
    "user_vec = keras.layers.Embedding(n_users + 1, 3,name='User-Embedding')(out1)\n",
    "\n",
    "\n",
    "result = keras.layers.merge([movie_vec, user_vec], mode='dot',name='dot')\n",
    "\n",
    "\n",
    "model = keras.Model(total_input, result)\n",
    "\n",
    "model.compile(optimizer='adam',loss= 'mean_squared_error',epochs=epochs,batch_size=batch_size)"
   ]
  },
  {
   "cell_type": "code",
   "execution_count": 42,
   "metadata": {},
   "outputs": [],
   "source": [
    "import graphviz"
   ]
  },
  {
   "cell_type": "code",
   "execution_count": null,
   "metadata": {},
   "outputs": [],
   "source": []
  },
  {
   "cell_type": "code",
   "execution_count": 43,
   "metadata": {},
   "outputs": [
    {
     "data": {
      "image/svg+xml": [
       "<svg height=\"304pt\" viewBox=\"0.00 0.00 651.50 304.00\" width=\"652pt\" xmlns=\"http://www.w3.org/2000/svg\" xmlns:xlink=\"http://www.w3.org/1999/xlink\">\n",
       "<g class=\"graph\" id=\"graph0\" transform=\"scale(1 1) rotate(0) translate(4 300)\">\n",
       "<title>G</title>\n",
       "<polygon fill=\"white\" points=\"-4,4 -4,-300 647.5,-300 647.5,4 -4,4\" stroke=\"none\"/>\n",
       "<!-- 2603575128864 -->\n",
       "<g class=\"node\" id=\"node1\"><title>2603575128864</title>\n",
       "<polygon fill=\"none\" points=\"205.5,-249.5 205.5,-295.5 441.5,-295.5 441.5,-249.5 205.5,-249.5\" stroke=\"black\"/>\n",
       "<text font-family=\"Times New Roman,serif\" font-size=\"14.00\" text-anchor=\"middle\" x=\"260.5\" y=\"-268.8\">both: InputLayer</text>\n",
       "<polyline fill=\"none\" points=\"315.5,-249.5 315.5,-295.5 \" stroke=\"black\"/>\n",
       "<text font-family=\"Times New Roman,serif\" font-size=\"14.00\" text-anchor=\"middle\" x=\"343.5\" y=\"-280.3\">input:</text>\n",
       "<polyline fill=\"none\" points=\"315.5,-272.5 371.5,-272.5 \" stroke=\"black\"/>\n",
       "<text font-family=\"Times New Roman,serif\" font-size=\"14.00\" text-anchor=\"middle\" x=\"343.5\" y=\"-257.3\">output:</text>\n",
       "<polyline fill=\"none\" points=\"371.5,-249.5 371.5,-295.5 \" stroke=\"black\"/>\n",
       "<text font-family=\"Times New Roman,serif\" font-size=\"14.00\" text-anchor=\"middle\" x=\"406.5\" y=\"-280.3\">(None, 2)</text>\n",
       "<polyline fill=\"none\" points=\"371.5,-272.5 441.5,-272.5 \" stroke=\"black\"/>\n",
       "<text font-family=\"Times New Roman,serif\" font-size=\"14.00\" text-anchor=\"middle\" x=\"406.5\" y=\"-257.3\">(None, 2)</text>\n",
       "</g>\n",
       "<!-- 2603575129480 -->\n",
       "<g class=\"node\" id=\"node2\"><title>2603575129480</title>\n",
       "<polygon fill=\"none\" points=\"44,-166.5 44,-212.5 301,-212.5 301,-166.5 44,-166.5\" stroke=\"black\"/>\n",
       "<text font-family=\"Times New Roman,serif\" font-size=\"14.00\" text-anchor=\"middle\" x=\"109.5\" y=\"-185.8\">lambda_24: Lambda</text>\n",
       "<polyline fill=\"none\" points=\"175,-166.5 175,-212.5 \" stroke=\"black\"/>\n",
       "<text font-family=\"Times New Roman,serif\" font-size=\"14.00\" text-anchor=\"middle\" x=\"203\" y=\"-197.3\">input:</text>\n",
       "<polyline fill=\"none\" points=\"175,-189.5 231,-189.5 \" stroke=\"black\"/>\n",
       "<text font-family=\"Times New Roman,serif\" font-size=\"14.00\" text-anchor=\"middle\" x=\"203\" y=\"-174.3\">output:</text>\n",
       "<polyline fill=\"none\" points=\"231,-166.5 231,-212.5 \" stroke=\"black\"/>\n",
       "<text font-family=\"Times New Roman,serif\" font-size=\"14.00\" text-anchor=\"middle\" x=\"266\" y=\"-197.3\">(None, 2)</text>\n",
       "<polyline fill=\"none\" points=\"231,-189.5 301,-189.5 \" stroke=\"black\"/>\n",
       "<text font-family=\"Times New Roman,serif\" font-size=\"14.00\" text-anchor=\"middle\" x=\"266\" y=\"-174.3\">(None,)</text>\n",
       "</g>\n",
       "<!-- 2603575128864&#45;&gt;2603575129480 -->\n",
       "<g class=\"edge\" id=\"edge1\"><title>2603575128864-&gt;2603575129480</title>\n",
       "<path d=\"M282.239,-249.366C263.845,-239.5 242.012,-227.788 222.683,-217.419\" fill=\"none\" stroke=\"black\"/>\n",
       "<polygon fill=\"black\" points=\"224.178,-214.25 213.712,-212.607 220.869,-220.418 224.178,-214.25\" stroke=\"black\"/>\n",
       "</g>\n",
       "<!-- 2603575128976 -->\n",
       "<g class=\"node\" id=\"node3\"><title>2603575128976</title>\n",
       "<polygon fill=\"none\" points=\"347,-166.5 347,-212.5 604,-212.5 604,-166.5 347,-166.5\" stroke=\"black\"/>\n",
       "<text font-family=\"Times New Roman,serif\" font-size=\"14.00\" text-anchor=\"middle\" x=\"412.5\" y=\"-185.8\">lambda_23: Lambda</text>\n",
       "<polyline fill=\"none\" points=\"478,-166.5 478,-212.5 \" stroke=\"black\"/>\n",
       "<text font-family=\"Times New Roman,serif\" font-size=\"14.00\" text-anchor=\"middle\" x=\"506\" y=\"-197.3\">input:</text>\n",
       "<polyline fill=\"none\" points=\"478,-189.5 534,-189.5 \" stroke=\"black\"/>\n",
       "<text font-family=\"Times New Roman,serif\" font-size=\"14.00\" text-anchor=\"middle\" x=\"506\" y=\"-174.3\">output:</text>\n",
       "<polyline fill=\"none\" points=\"534,-166.5 534,-212.5 \" stroke=\"black\"/>\n",
       "<text font-family=\"Times New Roman,serif\" font-size=\"14.00\" text-anchor=\"middle\" x=\"569\" y=\"-197.3\">(None, 2)</text>\n",
       "<polyline fill=\"none\" points=\"534,-189.5 604,-189.5 \" stroke=\"black\"/>\n",
       "<text font-family=\"Times New Roman,serif\" font-size=\"14.00\" text-anchor=\"middle\" x=\"569\" y=\"-174.3\">(None,)</text>\n",
       "</g>\n",
       "<!-- 2603575128864&#45;&gt;2603575128976 -->\n",
       "<g class=\"edge\" id=\"edge2\"><title>2603575128864-&gt;2603575128976</title>\n",
       "<path d=\"M365.035,-249.366C383.55,-239.5 405.527,-227.788 424.985,-217.419\" fill=\"none\" stroke=\"black\"/>\n",
       "<polygon fill=\"black\" points=\"426.836,-220.399 434.016,-212.607 423.544,-214.221 426.836,-220.399\" stroke=\"black\"/>\n",
       "</g>\n",
       "<!-- 2603575129760 -->\n",
       "<g class=\"node\" id=\"node4\"><title>2603575129760</title>\n",
       "<polygon fill=\"none\" points=\"0,-83.5 0,-129.5 317,-129.5 317,-83.5 0,-83.5\" stroke=\"black\"/>\n",
       "<text font-family=\"Times New Roman,serif\" font-size=\"14.00\" text-anchor=\"middle\" x=\"95.5\" y=\"-102.8\">Movie-Embedding: Embedding</text>\n",
       "<polyline fill=\"none\" points=\"191,-83.5 191,-129.5 \" stroke=\"black\"/>\n",
       "<text font-family=\"Times New Roman,serif\" font-size=\"14.00\" text-anchor=\"middle\" x=\"219\" y=\"-114.3\">input:</text>\n",
       "<polyline fill=\"none\" points=\"191,-106.5 247,-106.5 \" stroke=\"black\"/>\n",
       "<text font-family=\"Times New Roman,serif\" font-size=\"14.00\" text-anchor=\"middle\" x=\"219\" y=\"-91.3\">output:</text>\n",
       "<polyline fill=\"none\" points=\"247,-83.5 247,-129.5 \" stroke=\"black\"/>\n",
       "<text font-family=\"Times New Roman,serif\" font-size=\"14.00\" text-anchor=\"middle\" x=\"282\" y=\"-114.3\">(None,)</text>\n",
       "<polyline fill=\"none\" points=\"247,-106.5 317,-106.5 \" stroke=\"black\"/>\n",
       "<text font-family=\"Times New Roman,serif\" font-size=\"14.00\" text-anchor=\"middle\" x=\"282\" y=\"-91.3\">(None, 3)</text>\n",
       "</g>\n",
       "<!-- 2603575129480&#45;&gt;2603575129760 -->\n",
       "<g class=\"edge\" id=\"edge3\"><title>2603575129480-&gt;2603575129760</title>\n",
       "<path d=\"M168.674,-166.366C167.255,-158.152 165.614,-148.658 164.07,-139.725\" fill=\"none\" stroke=\"black\"/>\n",
       "<polygon fill=\"black\" points=\"167.473,-138.865 162.321,-129.607 160.575,-140.057 167.473,-138.865\" stroke=\"black\"/>\n",
       "</g>\n",
       "<!-- 2603573766912 -->\n",
       "<g class=\"node\" id=\"node5\"><title>2603573766912</title>\n",
       "<polygon fill=\"none\" points=\"335.5,-83.5 335.5,-129.5 643.5,-129.5 643.5,-83.5 335.5,-83.5\" stroke=\"black\"/>\n",
       "<text font-family=\"Times New Roman,serif\" font-size=\"14.00\" text-anchor=\"middle\" x=\"426.5\" y=\"-102.8\">User-Embedding: Embedding</text>\n",
       "<polyline fill=\"none\" points=\"517.5,-83.5 517.5,-129.5 \" stroke=\"black\"/>\n",
       "<text font-family=\"Times New Roman,serif\" font-size=\"14.00\" text-anchor=\"middle\" x=\"545.5\" y=\"-114.3\">input:</text>\n",
       "<polyline fill=\"none\" points=\"517.5,-106.5 573.5,-106.5 \" stroke=\"black\"/>\n",
       "<text font-family=\"Times New Roman,serif\" font-size=\"14.00\" text-anchor=\"middle\" x=\"545.5\" y=\"-91.3\">output:</text>\n",
       "<polyline fill=\"none\" points=\"573.5,-83.5 573.5,-129.5 \" stroke=\"black\"/>\n",
       "<text font-family=\"Times New Roman,serif\" font-size=\"14.00\" text-anchor=\"middle\" x=\"608.5\" y=\"-114.3\">(None,)</text>\n",
       "<polyline fill=\"none\" points=\"573.5,-106.5 643.5,-106.5 \" stroke=\"black\"/>\n",
       "<text font-family=\"Times New Roman,serif\" font-size=\"14.00\" text-anchor=\"middle\" x=\"608.5\" y=\"-91.3\">(None, 3)</text>\n",
       "</g>\n",
       "<!-- 2603575128976&#45;&gt;2603573766912 -->\n",
       "<g class=\"edge\" id=\"edge4\"><title>2603575128976-&gt;2603573766912</title>\n",
       "<path d=\"M479.326,-166.366C480.745,-158.152 482.386,-148.658 483.93,-139.725\" fill=\"none\" stroke=\"black\"/>\n",
       "<polygon fill=\"black\" points=\"487.425,-140.057 485.679,-129.607 480.527,-138.865 487.425,-140.057\" stroke=\"black\"/>\n",
       "</g>\n",
       "<!-- 2603575131720 -->\n",
       "<g class=\"node\" id=\"node6\"><title>2603575131720</title>\n",
       "<polygon fill=\"none\" points=\"187,-0.5 187,-46.5 460,-46.5 460,-0.5 187,-0.5\" stroke=\"black\"/>\n",
       "<text font-family=\"Times New Roman,serif\" font-size=\"14.00\" text-anchor=\"middle\" x=\"225.5\" y=\"-19.8\">dot: Merge</text>\n",
       "<polyline fill=\"none\" points=\"264,-0.5 264,-46.5 \" stroke=\"black\"/>\n",
       "<text font-family=\"Times New Roman,serif\" font-size=\"14.00\" text-anchor=\"middle\" x=\"292\" y=\"-31.3\">input:</text>\n",
       "<polyline fill=\"none\" points=\"264,-23.5 320,-23.5 \" stroke=\"black\"/>\n",
       "<text font-family=\"Times New Roman,serif\" font-size=\"14.00\" text-anchor=\"middle\" x=\"292\" y=\"-8.3\">output:</text>\n",
       "<polyline fill=\"none\" points=\"320,-0.5 320,-46.5 \" stroke=\"black\"/>\n",
       "<text font-family=\"Times New Roman,serif\" font-size=\"14.00\" text-anchor=\"middle\" x=\"390\" y=\"-31.3\">[(None, 3), (None, 3)]</text>\n",
       "<polyline fill=\"none\" points=\"320,-23.5 460,-23.5 \" stroke=\"black\"/>\n",
       "<text font-family=\"Times New Roman,serif\" font-size=\"14.00\" text-anchor=\"middle\" x=\"390\" y=\"-8.3\">(None, 1)</text>\n",
       "</g>\n",
       "<!-- 2603575129760&#45;&gt;2603575131720 -->\n",
       "<g class=\"edge\" id=\"edge5\"><title>2603575129760-&gt;2603575131720</title>\n",
       "<path d=\"M203.587,-83.3664C223.868,-73.4105 247.975,-61.5759 269.237,-51.1382\" fill=\"none\" stroke=\"black\"/>\n",
       "<polygon fill=\"black\" points=\"271.033,-54.1555 278.468,-46.6068 267.948,-47.8718 271.033,-54.1555\" stroke=\"black\"/>\n",
       "</g>\n",
       "<!-- 2603573766912&#45;&gt;2603575131720 -->\n",
       "<g class=\"edge\" id=\"edge6\"><title>2603573766912-&gt;2603575131720</title>\n",
       "<path d=\"M444.14,-83.3664C423.645,-73.3658 399.265,-61.4698 377.804,-50.9979\" fill=\"none\" stroke=\"black\"/>\n",
       "<polygon fill=\"black\" points=\"379.327,-47.8467 368.805,-46.6068 376.258,-54.1377 379.327,-47.8467\" stroke=\"black\"/>\n",
       "</g>\n",
       "</g>\n",
       "</svg>"
      ],
      "text/plain": [
       "<IPython.core.display.SVG object>"
      ]
     },
     "execution_count": 43,
     "metadata": {},
     "output_type": "execute_result"
    }
   ],
   "source": [
    "from keras.utils.vis_utils import plot_model\n",
    "from IPython.display import SVG\n",
    "SVG(model_to_dot(model,  show_shapes=True, show_layer_names=True, rankdir='HB').create(prog='dot', format='svg'))"
   ]
  },
  {
   "cell_type": "code",
   "execution_count": 44,
   "metadata": {},
   "outputs": [],
   "source": [
    "from sklearn.model_selection import GridSearchCV\n",
    "from sklearn import metrics\n",
    "\n",
    "batch_size = [16,32,64,128]\n",
    "epochs = [25,50,75]\n",
    "optimizers = [Adam, Nadam, SGD]\n",
    "n_latents = [3,6,9,12]\n",
    "param_grid = dict(batch_size=batch_size, epochs=epochs)\n",
    "sco = metrics.make_scorer(metrics.mean_absolute_error)"
   ]
  },
  {
   "cell_type": "code",
   "execution_count": null,
   "metadata": {},
   "outputs": [],
   "source": []
  },
  {
   "cell_type": "code",
   "execution_count": 50,
   "metadata": {},
   "outputs": [],
   "source": [
    "#Parameter tuning\n",
    "from keras.wrappers.scikit_learn import KerasRegressor\n",
    "def build_classifier(optimizer,n_latents):\n",
    "    total_input = keras.layers.Input(shape=[2,],name='both')\n",
    "\n",
    "    out1 = keras.layers.Lambda(lambda x: x[:, 0])(total_input)\n",
    "    out2 = keras.layers.Lambda(lambda x: x[:, 1])(total_input)\n",
    "\n",
    "    print(out1)\n",
    "    movie_vec = keras.layers.Embedding(n_movies + 1, n_latents, name='Movie-Embedding')(out2)\n",
    "    print(movie_embedding)\n",
    "\n",
    "    user_vec = keras.layers.Embedding(n_users + 1, n_latents,name='User-Embedding')(out1)\n",
    "\n",
    "\n",
    "    result = keras.layers.merge([movie_vec, user_vec], mode='dot',name='dot')\n",
    "\n",
    "\n",
    "    model = keras.Model(total_input, result)\n",
    "\n",
    "    model.compile(optimizer='adam',loss= 'mean_squared_error')\n",
    "    return model\n",
    "\n",
    "classifier = KerasRegressor(build_fn=build_classifier)"
   ]
  },
  {
   "cell_type": "code",
   "execution_count": 51,
   "metadata": {},
   "outputs": [
    {
     "name": "stdout",
     "output_type": "stream",
     "text": [
      "Fitting 5 folds for each of 1 candidates, totalling 5 fits\n",
      "[CV] batch_size=10, epochs=10 ........................................\n",
      "Tensor(\"lambda_31/strided_slice:0\", shape=(?,), dtype=float32)\n",
      "Tensor(\"Movie-Embedding_12/GatherV2:0\", shape=(?, 3), dtype=float32)\n",
      "Epoch 1/10\n",
      "80000/80000 [==============================] - 25s 317us/step - loss: 9.7135\n",
      "Epoch 2/10\n",
      "80000/80000 [==============================] - 24s 302us/step - loss: 2.2937\n",
      "Epoch 3/10\n",
      "80000/80000 [==============================] - 24s 298us/step - loss: 1.2418\n",
      "Epoch 4/10\n",
      "80000/80000 [==============================] - 25s 311us/step - loss: 1.0218\n",
      "Epoch 5/10\n",
      "80000/80000 [==============================] - 25s 317us/step - loss: 0.9505\n",
      "Epoch 6/10\n",
      "80000/80000 [==============================] - 24s 303us/step - loss: 0.9203\n",
      "Epoch 7/10\n",
      "80000/80000 [==============================] - 25s 311us/step - loss: 0.9047\n",
      "Epoch 8/10\n",
      "80000/80000 [==============================] - 24s 301us/step - loss: 0.8952\n",
      "Epoch 9/10\n",
      "80000/80000 [==============================] - 25s 315us/step - loss: 0.8885\n",
      "Epoch 10/10\n",
      "80000/80000 [==============================] - 25s 314us/step - loss: 0.8844\n",
      "[CV]  batch_size=10, epochs=10, score=0.7613490902951453, total= 4.2min\n",
      "[CV] batch_size=10, epochs=10 ........................................\n",
      "Tensor(\"lambda_33/strided_slice:0\", shape=(?,), dtype=float32)\n",
      "Tensor(\"Movie-Embedding_12/GatherV2:0\", shape=(?, 3), dtype=float32)\n"
     ]
    },
    {
     "name": "stderr",
     "output_type": "stream",
     "text": [
      "[Parallel(n_jobs=1)]: Done   1 out of   1 | elapsed:  4.2min remaining:    0.0s\n"
     ]
    },
    {
     "name": "stdout",
     "output_type": "stream",
     "text": [
      "Epoch 1/10\n",
      "80000/80000 [==============================] - 27s 339us/step - loss: 9.5764\n",
      "Epoch 2/10\n",
      "80000/80000 [==============================] - 26s 328us/step - loss: 2.2477\n",
      "Epoch 3/10\n",
      "80000/80000 [==============================] - 26s 323us/step - loss: 1.2296\n",
      "Epoch 4/10\n",
      "80000/80000 [==============================] - 27s 334us/step - loss: 1.0170\n",
      "Epoch 5/10\n",
      "80000/80000 [==============================] - 27s 334us/step - loss: 0.9499\n",
      "Epoch 6/10\n",
      "80000/80000 [==============================] - 26s 319us/step - loss: 0.9221\n",
      "Epoch 7/10\n",
      "80000/80000 [==============================] - 27s 338us/step - loss: 0.9079\n",
      "Epoch 8/10\n",
      "80000/80000 [==============================] - 26s 326us/step - loss: 0.8996\n",
      "Epoch 9/10\n",
      "80000/80000 [==============================] - 26s 320us/step - loss: 0.8929\n",
      "Epoch 10/10\n",
      "80000/80000 [==============================] - 26s 330us/step - loss: 0.8894\n",
      "[CV]  batch_size=10, epochs=10, score=0.7550349940735963, total= 4.4min\n",
      "[CV] batch_size=10, epochs=10 ........................................\n",
      "Tensor(\"lambda_35/strided_slice:0\", shape=(?,), dtype=float32)\n",
      "Tensor(\"Movie-Embedding_12/GatherV2:0\", shape=(?, 3), dtype=float32)\n"
     ]
    },
    {
     "name": "stderr",
     "output_type": "stream",
     "text": [
      "[Parallel(n_jobs=1)]: Done   2 out of   2 | elapsed:  8.8min remaining:    0.0s\n"
     ]
    },
    {
     "name": "stdout",
     "output_type": "stream",
     "text": [
      "Epoch 1/10\n",
      "80000/80000 [==============================] - 28s 344us/step - loss: 10.4675\n",
      "Epoch 2/10\n",
      "80000/80000 [==============================] - 26s 320us/step - loss: 2.5676\n",
      "Epoch 3/10\n",
      "80000/80000 [==============================] - 26s 327us/step - loss: 1.2896\n",
      "Epoch 4/10\n",
      "80000/80000 [==============================] - 27s 333us/step - loss: 1.0328\n",
      "Epoch 5/10\n",
      "80000/80000 [==============================] - 26s 329us/step - loss: 0.9549\n",
      "Epoch 6/10\n",
      "80000/80000 [==============================] - 26s 322us/step - loss: 0.9233\n",
      "Epoch 7/10\n",
      "80000/80000 [==============================] - 26s 331us/step - loss: 0.9077\n",
      "Epoch 8/10\n",
      "80000/80000 [==============================] - 26s 326us/step - loss: 0.8983\n",
      "Epoch 9/10\n",
      "80000/80000 [==============================] - 26s 319us/step - loss: 0.8913\n",
      "Epoch 10/10\n",
      "80000/80000 [==============================] - 27s 334us/step - loss: 0.8853\n",
      "[CV]  batch_size=10, epochs=10, score=0.7535353025101125, total= 4.4min\n",
      "[CV] batch_size=10, epochs=10 ........................................\n",
      "Tensor(\"lambda_37/strided_slice:0\", shape=(?,), dtype=float32)\n",
      "Tensor(\"Movie-Embedding_12/GatherV2:0\", shape=(?, 3), dtype=float32)\n"
     ]
    },
    {
     "name": "stderr",
     "output_type": "stream",
     "text": [
      "[Parallel(n_jobs=1)]: Done   3 out of   3 | elapsed: 13.2min remaining:    0.0s\n"
     ]
    },
    {
     "name": "stdout",
     "output_type": "stream",
     "text": [
      "Epoch 1/10\n",
      "80000/80000 [==============================] - 28s 348us/step - loss: 9.5716\n",
      "Epoch 2/10\n",
      "80000/80000 [==============================] - 27s 336us/step - loss: 2.2373\n",
      "Epoch 3/10\n",
      "80000/80000 [==============================] - 26s 330us/step - loss: 1.2332\n",
      "Epoch 4/10\n",
      "80000/80000 [==============================] - 25s 314us/step - loss: 1.0218\n",
      "Epoch 5/10\n",
      "80000/80000 [==============================] - 27s 335us/step - loss: 0.9534\n",
      "Epoch 6/10\n",
      "80000/80000 [==============================] - 27s 336us/step - loss: 0.9242\n",
      "Epoch 7/10\n",
      "80000/80000 [==============================] - 27s 332us/step - loss: 0.9099\n",
      "Epoch 8/10\n",
      "80000/80000 [==============================] - 26s 328us/step - loss: 0.9006\n",
      "Epoch 9/10\n",
      "80000/80000 [==============================] - 26s 326us/step - loss: 0.8948\n",
      "Epoch 10/10\n",
      "80000/80000 [==============================] - 25s 315us/step - loss: 0.8910\n",
      "[CV]  batch_size=10, epochs=10, score=0.7528355229911394, total= 4.4min\n",
      "[CV] batch_size=10, epochs=10 ........................................\n",
      "Tensor(\"lambda_39/strided_slice:0\", shape=(?,), dtype=float32)\n",
      "Tensor(\"Movie-Embedding_12/GatherV2:0\", shape=(?, 3), dtype=float32)\n"
     ]
    },
    {
     "name": "stderr",
     "output_type": "stream",
     "text": [
      "[Parallel(n_jobs=1)]: Done   4 out of   4 | elapsed: 17.8min remaining:    0.0s\n"
     ]
    },
    {
     "name": "stdout",
     "output_type": "stream",
     "text": [
      "Epoch 1/10\n",
      "80000/80000 [==============================] - 26s 326us/step - loss: 9.9016\n",
      "Epoch 2/10\n",
      "80000/80000 [==============================] - 25s 314us/step - loss: 2.3534\n",
      "Epoch 3/10\n",
      "80000/80000 [==============================] - 25s 312us/step - loss: 1.2558\n",
      "Epoch 4/10\n",
      "80000/80000 [==============================] - 26s 324us/step - loss: 1.0261\n",
      "Epoch 5/10\n",
      "80000/80000 [==============================] - 25s 318us/step - loss: 0.9545\n",
      "Epoch 6/10\n",
      "80000/80000 [==============================] - 26s 320us/step - loss: 0.9251\n",
      "Epoch 7/10\n",
      "80000/80000 [==============================] - 26s 331us/step - loss: 0.9100\n",
      "Epoch 8/10\n",
      "80000/80000 [==============================] - 25s 313us/step - loss: 0.9005\n",
      "Epoch 9/10\n",
      "80000/80000 [==============================] - 25s 316us/step - loss: 0.8940\n",
      "Epoch 10/10\n",
      "80000/80000 [==============================] - 25s 311us/step - loss: 0.8895\n",
      "[CV]  batch_size=10, epochs=10, score=0.7579018024816644, total= 4.3min\n",
      "Tensor(\"lambda_41/strided_slice:0\", shape=(?,), dtype=float32)\n",
      "Tensor(\"Movie-Embedding_12/GatherV2:0\", shape=(?, 3), dtype=float32)\n"
     ]
    },
    {
     "name": "stderr",
     "output_type": "stream",
     "text": [
      "[Parallel(n_jobs=1)]: Done   5 out of   5 | elapsed: 22.1min remaining:    0.0s\n",
      "[Parallel(n_jobs=1)]: Done   5 out of   5 | elapsed: 22.1min finished\n"
     ]
    },
    {
     "name": "stdout",
     "output_type": "stream",
     "text": [
      "Epoch 1/10\n",
      "100000/100000 [==============================] - 34s 343us/step - loss: 8.5557\n",
      "Epoch 2/10\n",
      "100000/100000 [==============================] - 32s 318us/step - loss: 1.7249\n",
      "Epoch 3/10\n",
      "100000/100000 [==============================] - 31s 314us/step - loss: 1.0817\n",
      "Epoch 4/10\n",
      "100000/100000 [==============================] - 32s 318us/step - loss: 0.9615\n",
      "Epoch 5/10\n",
      "100000/100000 [==============================] - 32s 317us/step - loss: 0.9251\n",
      "Epoch 6/10\n",
      "100000/100000 [==============================] - 31s 311us/step - loss: 0.9094\n",
      "Epoch 7/10\n",
      "100000/100000 [==============================] - 32s 319us/step - loss: 0.9008\n",
      "Epoch 8/10\n",
      "100000/100000 [==============================] - 31s 311us/step - loss: 0.8943\n",
      "Epoch 9/10\n",
      "100000/100000 [==============================] - 32s 317us/step - loss: 0.8904\n",
      "Epoch 10/10\n",
      "100000/100000 [==============================] - 31s 306us/step - loss: 0.8870\n"
     ]
    }
   ],
   "source": [
    "grid = GridSearchCV(cv=5,estimator=classifier, param_grid=param_grid, scoring=sco,verbose=10)\n",
    "grid_result = grid.fit(dataset.iloc[:,0:2], dataset.rating)"
   ]
  },
  {
   "cell_type": "code",
   "execution_count": 53,
   "metadata": {},
   "outputs": [],
   "source": [
    "best_parameters = grid_result.best_params_\n",
    "best_accuracy = grid_result.best_score_"
   ]
  },
  {
   "cell_type": "code",
   "execution_count": 55,
   "metadata": {},
   "outputs": [
    {
     "data": {
      "text/plain": [
       "{'batch_size': 10, 'epochs': 10}"
      ]
     },
     "execution_count": 55,
     "metadata": {},
     "output_type": "execute_result"
    }
   ],
   "source": [
    "best_accuracy\n",
    "best_parameters"
   ]
  },
  {
   "cell_type": "code",
   "execution_count": 21,
   "metadata": {},
   "outputs": [
    {
     "data": {
      "text/html": [
       "<div>\n",
       "<style scoped>\n",
       "    .dataframe tbody tr th:only-of-type {\n",
       "        vertical-align: middle;\n",
       "    }\n",
       "\n",
       "    .dataframe tbody tr th {\n",
       "        vertical-align: top;\n",
       "    }\n",
       "\n",
       "    .dataframe thead th {\n",
       "        text-align: right;\n",
       "    }\n",
       "</style>\n",
       "<table border=\"1\" class=\"dataframe\">\n",
       "  <thead>\n",
       "    <tr style=\"text-align: right;\">\n",
       "      <th></th>\n",
       "      <th>user_id</th>\n",
       "    </tr>\n",
       "  </thead>\n",
       "  <tbody>\n",
       "    <tr>\n",
       "      <th>1</th>\n",
       "      <td>107</td>\n",
       "    </tr>\n",
       "    <tr>\n",
       "      <th>2</th>\n",
       "      <td>96</td>\n",
       "    </tr>\n",
       "    <tr>\n",
       "      <th>3</th>\n",
       "      <td>134</td>\n",
       "    </tr>\n",
       "    <tr>\n",
       "      <th>4</th>\n",
       "      <td>161</td>\n",
       "    </tr>\n",
       "    <tr>\n",
       "      <th>5</th>\n",
       "      <td>74</td>\n",
       "    </tr>\n",
       "    <tr>\n",
       "      <th>6</th>\n",
       "      <td>220</td>\n",
       "    </tr>\n",
       "    <tr>\n",
       "      <th>7</th>\n",
       "      <td>18</td>\n",
       "    </tr>\n",
       "    <tr>\n",
       "      <th>8</th>\n",
       "      <td>171</td>\n",
       "    </tr>\n",
       "    <tr>\n",
       "      <th>9</th>\n",
       "      <td>229</td>\n",
       "    </tr>\n",
       "    <tr>\n",
       "      <th>10</th>\n",
       "      <td>555</td>\n",
       "    </tr>\n",
       "    <tr>\n",
       "      <th>11</th>\n",
       "      <td>578</td>\n",
       "    </tr>\n",
       "    <tr>\n",
       "      <th>12</th>\n",
       "      <td>207</td>\n",
       "    </tr>\n",
       "    <tr>\n",
       "      <th>13</th>\n",
       "      <td>113</td>\n",
       "    </tr>\n",
       "    <tr>\n",
       "      <th>14</th>\n",
       "      <td>124</td>\n",
       "    </tr>\n",
       "    <tr>\n",
       "      <th>15</th>\n",
       "      <td>139</td>\n",
       "    </tr>\n",
       "    <tr>\n",
       "      <th>16</th>\n",
       "      <td>227</td>\n",
       "    </tr>\n",
       "    <tr>\n",
       "      <th>17</th>\n",
       "      <td>26</td>\n",
       "    </tr>\n",
       "    <tr>\n",
       "      <th>18</th>\n",
       "      <td>105</td>\n",
       "    </tr>\n",
       "    <tr>\n",
       "      <th>19</th>\n",
       "      <td>213</td>\n",
       "    </tr>\n",
       "    <tr>\n",
       "      <th>20</th>\n",
       "      <td>150</td>\n",
       "    </tr>\n",
       "    <tr>\n",
       "      <th>21</th>\n",
       "      <td>22</td>\n",
       "    </tr>\n",
       "    <tr>\n",
       "      <th>22</th>\n",
       "      <td>75</td>\n",
       "    </tr>\n",
       "    <tr>\n",
       "      <th>23</th>\n",
       "      <td>221</td>\n",
       "    </tr>\n",
       "    <tr>\n",
       "      <th>24</th>\n",
       "      <td>213</td>\n",
       "    </tr>\n",
       "    <tr>\n",
       "      <th>25</th>\n",
       "      <td>232</td>\n",
       "    </tr>\n",
       "    <tr>\n",
       "      <th>26</th>\n",
       "      <td>938</td>\n",
       "    </tr>\n",
       "    <tr>\n",
       "      <th>27</th>\n",
       "      <td>311</td>\n",
       "    </tr>\n",
       "    <tr>\n",
       "      <th>28</th>\n",
       "      <td>4</td>\n",
       "    </tr>\n",
       "    <tr>\n",
       "      <th>29</th>\n",
       "      <td>589</td>\n",
       "    </tr>\n",
       "    <tr>\n",
       "      <th>30</th>\n",
       "      <td>68</td>\n",
       "    </tr>\n",
       "    <tr>\n",
       "      <th>...</th>\n",
       "      <td>...</td>\n",
       "    </tr>\n",
       "    <tr>\n",
       "      <th>99971</th>\n",
       "      <td>388</td>\n",
       "    </tr>\n",
       "    <tr>\n",
       "      <th>99972</th>\n",
       "      <td>624</td>\n",
       "    </tr>\n",
       "    <tr>\n",
       "      <th>99973</th>\n",
       "      <td>691</td>\n",
       "    </tr>\n",
       "    <tr>\n",
       "      <th>99974</th>\n",
       "      <td>802</td>\n",
       "    </tr>\n",
       "    <tr>\n",
       "      <th>99975</th>\n",
       "      <td>738</td>\n",
       "    </tr>\n",
       "    <tr>\n",
       "      <th>99976</th>\n",
       "      <td>486</td>\n",
       "    </tr>\n",
       "    <tr>\n",
       "      <th>99977</th>\n",
       "      <td>576</td>\n",
       "    </tr>\n",
       "    <tr>\n",
       "      <th>99978</th>\n",
       "      <td>430</td>\n",
       "    </tr>\n",
       "    <tr>\n",
       "      <th>99979</th>\n",
       "      <td>16</td>\n",
       "    </tr>\n",
       "    <tr>\n",
       "      <th>99980</th>\n",
       "      <td>937</td>\n",
       "    </tr>\n",
       "    <tr>\n",
       "      <th>99981</th>\n",
       "      <td>849</td>\n",
       "    </tr>\n",
       "    <tr>\n",
       "      <th>99982</th>\n",
       "      <td>723</td>\n",
       "    </tr>\n",
       "    <tr>\n",
       "      <th>99983</th>\n",
       "      <td>199</td>\n",
       "    </tr>\n",
       "    <tr>\n",
       "      <th>99984</th>\n",
       "      <td>607</td>\n",
       "    </tr>\n",
       "    <tr>\n",
       "      <th>99985</th>\n",
       "      <td>616</td>\n",
       "    </tr>\n",
       "    <tr>\n",
       "      <th>99986</th>\n",
       "      <td>575</td>\n",
       "    </tr>\n",
       "    <tr>\n",
       "      <th>99987</th>\n",
       "      <td>904</td>\n",
       "    </tr>\n",
       "    <tr>\n",
       "      <th>99988</th>\n",
       "      <td>623</td>\n",
       "    </tr>\n",
       "    <tr>\n",
       "      <th>99989</th>\n",
       "      <td>358</td>\n",
       "    </tr>\n",
       "    <tr>\n",
       "      <th>99990</th>\n",
       "      <td>439</td>\n",
       "    </tr>\n",
       "    <tr>\n",
       "      <th>99991</th>\n",
       "      <td>785</td>\n",
       "    </tr>\n",
       "    <tr>\n",
       "      <th>99992</th>\n",
       "      <td>640</td>\n",
       "    </tr>\n",
       "    <tr>\n",
       "      <th>99993</th>\n",
       "      <td>691</td>\n",
       "    </tr>\n",
       "    <tr>\n",
       "      <th>99994</th>\n",
       "      <td>904</td>\n",
       "    </tr>\n",
       "    <tr>\n",
       "      <th>99995</th>\n",
       "      <td>309</td>\n",
       "    </tr>\n",
       "    <tr>\n",
       "      <th>99996</th>\n",
       "      <td>867</td>\n",
       "    </tr>\n",
       "    <tr>\n",
       "      <th>99997</th>\n",
       "      <td>685</td>\n",
       "    </tr>\n",
       "    <tr>\n",
       "      <th>99998</th>\n",
       "      <td>196</td>\n",
       "    </tr>\n",
       "    <tr>\n",
       "      <th>99999</th>\n",
       "      <td>34</td>\n",
       "    </tr>\n",
       "    <tr>\n",
       "      <th>100000</th>\n",
       "      <td>23</td>\n",
       "    </tr>\n",
       "  </tbody>\n",
       "</table>\n",
       "<p>100000 rows × 1 columns</p>\n",
       "</div>"
      ],
      "text/plain": [
       "        user_id\n",
       "1           107\n",
       "2            96\n",
       "3           134\n",
       "4           161\n",
       "5            74\n",
       "6           220\n",
       "7            18\n",
       "8           171\n",
       "9           229\n",
       "10          555\n",
       "11          578\n",
       "12          207\n",
       "13          113\n",
       "14          124\n",
       "15          139\n",
       "16          227\n",
       "17           26\n",
       "18          105\n",
       "19          213\n",
       "20          150\n",
       "21           22\n",
       "22           75\n",
       "23          221\n",
       "24          213\n",
       "25          232\n",
       "26          938\n",
       "27          311\n",
       "28            4\n",
       "29          589\n",
       "30           68\n",
       "...         ...\n",
       "99971       388\n",
       "99972       624\n",
       "99973       691\n",
       "99974       802\n",
       "99975       738\n",
       "99976       486\n",
       "99977       576\n",
       "99978       430\n",
       "99979        16\n",
       "99980       937\n",
       "99981       849\n",
       "99982       723\n",
       "99983       199\n",
       "99984       607\n",
       "99985       616\n",
       "99986       575\n",
       "99987       904\n",
       "99988       623\n",
       "99989       358\n",
       "99990       439\n",
       "99991       785\n",
       "99992       640\n",
       "99993       691\n",
       "99994       904\n",
       "99995       309\n",
       "99996       867\n",
       "99997       685\n",
       "99998       196\n",
       "99999        34\n",
       "100000       23\n",
       "\n",
       "[100000 rows x 1 columns]"
      ]
     },
     "execution_count": 21,
     "metadata": {},
     "output_type": "execute_result"
    }
   ],
   "source": [
    "dataset.iloc[:,0:1]"
   ]
  },
  {
   "cell_type": "code",
   "execution_count": 18,
   "metadata": {},
   "outputs": [],
   "source": [
    "y_hat = model.predict([test.user_id, test.item_id])\n",
    "y_true = test.rating"
   ]
  },
  {
   "cell_type": "code",
   "execution_count": 20,
   "metadata": {},
   "outputs": [
    {
     "data": {
      "text/plain": [
       "0.6889090177133655"
      ]
     },
     "execution_count": 20,
     "metadata": {},
     "output_type": "execute_result"
    }
   ],
   "source": [
    "from sklearn.metrics import mean_absolute_error\n",
    "mean_absolute_error(y_true, np.round(y_hat))"
   ]
  },
  {
   "cell_type": "code",
   "execution_count": null,
   "metadata": {},
   "outputs": [],
   "source": [
    "model.get_config"
   ]
  }
 ],
 "metadata": {
  "kernelspec": {
   "display_name": "Python 3",
   "language": "python",
   "name": "python3"
  },
  "language_info": {
   "codemirror_mode": {
    "name": "ipython",
    "version": 3
   },
   "file_extension": ".py",
   "mimetype": "text/x-python",
   "name": "python",
   "nbconvert_exporter": "python",
   "pygments_lexer": "ipython3",
   "version": "3.6.5"
  }
 },
 "nbformat": 4,
 "nbformat_minor": 2
}
