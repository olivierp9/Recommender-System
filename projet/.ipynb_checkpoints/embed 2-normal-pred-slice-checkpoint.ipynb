{
 "cells": [
  {
   "cell_type": "code",
   "execution_count": 186,
   "metadata": {},
   "outputs": [],
   "source": [
    "import pandas as pd\n",
    "import numpy as np\n",
    "import matplotlib.pyplot as plt\n",
    "import warnings\n",
    "warnings.filterwarnings('ignore')\n",
    "\n",
    "%matplotlib inline"
   ]
  },
  {
   "cell_type": "code",
   "execution_count": 187,
   "metadata": {},
   "outputs": [],
   "source": [
    "dataset = pd.read_csv(\"u.data.csv\",sep='|',names=\"user_id,item_id,rating,timestamp\".split(\",\"))\n",
    "dataset=dataset.drop('timestamp',axis=1)\n",
    "dataset = dataset.iloc[1:,:]\n",
    "\n",
    "datauser = pd.read_csv(\"u.user.csv\",sep='|')\n",
    "datauser = datauser.rename(columns={'id ': 'user_id',' age ':'age',' gender ':'gender',' job ':'job'})\n",
    "\n",
    "df_item = pd.read_csv('u.item.csv', sep='|')\n",
    "df_item  = df_item.drop([' video release date ',' movie title ', ' release date ',' IMDb URL '], axis=1)\n",
    "df_item = df_item.rename(columns={'movie id ': 'item_id'})\n"
   ]
  },
  {
   "cell_type": "code",
   "execution_count": 190,
   "metadata": {},
   "outputs": [],
   "source": [
    "m = np.zeros((943,1682))\n",
    "for i in range(len(dataset)):\n",
    "    m[int(dataset.iloc[i,0])-1,int(dataset.iloc[i,1])-1]=int(dataset.iloc[i,2])"
   ]
  },
  {
   "cell_type": "code",
   "execution_count": 191,
   "metadata": {},
   "outputs": [],
   "source": [
    "dataset.item_id = dataset.item_id.astype('int16')\n",
    "dataset.user_id = dataset.user_id.astype('int16')\n",
    "dataset.item_id = dataset.item_id.astype('category')\n",
    "dataset.user_id = dataset.user_id.astype('category')"
   ]
  },
  {
   "cell_type": "code",
   "execution_count": 192,
   "metadata": {},
   "outputs": [],
   "source": [
    "datauser.user_id = datauser.user_id.astype('int16')\n",
    "datauser.user_id = datauser.user_id.astype('category')\n",
    "df_item.item_id = df_item.item_id.astype('int16')\n",
    "df_item.item_id = df_item.item_id.astype('category')"
   ]
  },
  {
   "cell_type": "code",
   "execution_count": 193,
   "metadata": {},
   "outputs": [
    {
     "data": {
      "text/html": [
       "<div>\n",
       "<style scoped>\n",
       "    .dataframe tbody tr th:only-of-type {\n",
       "        vertical-align: middle;\n",
       "    }\n",
       "\n",
       "    .dataframe tbody tr th {\n",
       "        vertical-align: top;\n",
       "    }\n",
       "\n",
       "    .dataframe thead th {\n",
       "        text-align: right;\n",
       "    }\n",
       "</style>\n",
       "<table border=\"1\" class=\"dataframe\">\n",
       "  <thead>\n",
       "    <tr style=\"text-align: right;\">\n",
       "      <th></th>\n",
       "      <th>user_id</th>\n",
       "      <th>item_id</th>\n",
       "      <th>rating</th>\n",
       "    </tr>\n",
       "  </thead>\n",
       "  <tbody>\n",
       "    <tr>\n",
       "      <th>1</th>\n",
       "      <td>196</td>\n",
       "      <td>242</td>\n",
       "      <td>3</td>\n",
       "    </tr>\n",
       "    <tr>\n",
       "      <th>2</th>\n",
       "      <td>186</td>\n",
       "      <td>302</td>\n",
       "      <td>3</td>\n",
       "    </tr>\n",
       "    <tr>\n",
       "      <th>3</th>\n",
       "      <td>22</td>\n",
       "      <td>377</td>\n",
       "      <td>1</td>\n",
       "    </tr>\n",
       "    <tr>\n",
       "      <th>4</th>\n",
       "      <td>244</td>\n",
       "      <td>51</td>\n",
       "      <td>2</td>\n",
       "    </tr>\n",
       "    <tr>\n",
       "      <th>5</th>\n",
       "      <td>166</td>\n",
       "      <td>346</td>\n",
       "      <td>1</td>\n",
       "    </tr>\n",
       "  </tbody>\n",
       "</table>\n",
       "</div>"
      ],
      "text/plain": [
       "  user_id item_id rating\n",
       "1     196     242      3\n",
       "2     186     302      3\n",
       "3      22     377      1\n",
       "4     244      51      2\n",
       "5     166     346      1"
      ]
     },
     "execution_count": 193,
     "metadata": {},
     "output_type": "execute_result"
    }
   ],
   "source": [
    "dataset.head()"
   ]
  },
  {
   "cell_type": "code",
   "execution_count": 194,
   "metadata": {},
   "outputs": [
    {
     "data": {
      "text/plain": [
       "user_id    False\n",
       "item_id    False\n",
       "rating     False\n",
       "dtype: bool"
      ]
     },
     "execution_count": 194,
     "metadata": {},
     "output_type": "execute_result"
    }
   ],
   "source": [
    "dataset.isnull().any()"
   ]
  },
  {
   "cell_type": "code",
   "execution_count": 195,
   "metadata": {},
   "outputs": [],
   "source": [
    "from sklearn.model_selection import train_test_split"
   ]
  },
  {
   "cell_type": "code",
   "execution_count": 196,
   "metadata": {},
   "outputs": [],
   "source": [
    "import keras\n",
    "from IPython.display import SVG\n",
    "from keras.optimizers import Adam\n",
    "from keras.utils.vis_utils import model_to_dot\n",
    "from keras import regularizers\n",
    "\n",
    "n_users, n_movies = len(dataset.user_id.unique()), len(dataset.item_id.unique())\n",
    "n_latent_factors = 9\n",
    "def extract_weights(name, model):\n",
    "    \"\"\"Extract weights from a neural network model\"\"\"\n",
    "    \n",
    "    # Extract weights\n",
    "    weight_layer = model.get_layer(name)\n",
    "    weights = weight_layer.get_weights()[0]\n",
    "    return weights\n",
    "\n",
    "from sklearn.metrics import mean_absolute_error"
   ]
  },
  {
   "cell_type": "code",
   "execution_count": 197,
   "metadata": {
    "scrolled": true
   },
   "outputs": [
    {
     "name": "stdout",
     "output_type": "stream",
     "text": [
      "0.6299189840044294\n",
      "1.3023208141326905\n",
      "0.7718314432328747\n",
      "0.551983770870027\n",
      "0.8689877033233643\n",
      "0.6168343871831894\n",
      "0.4638632226873327\n",
      "0.6781960248947143\n",
      "1.0551040172576904\n",
      "0.5831163371050799\n",
      "0.6319037222526442\n",
      "0.687795877456665\n",
      "0.8114548683166504\n",
      "0.6700954232897077\n",
      "0.9668052593866984\n",
      "0.877037763595581\n",
      "0.9031744798024496\n",
      "0.8344522714614868\n",
      "0.7252536920400766\n",
      "1.0747566006400369\n",
      "0.8987705508867899\n",
      "0.7616925239562988\n",
      "0.6817248044190584\n",
      "1.1303269522530692\n",
      "0.5512738625208536\n",
      "0.9700011253356934\n",
      "0.8064211532473564\n",
      "0.6578972339630127\n",
      "0.6753005027770996\n",
      "0.6091581106185913\n",
      "1.0830700794855754\n",
      "0.7628698062896728\n",
      "0.6728868051008745\n",
      "0.8899155213282659\n",
      "0.7761681040128072\n",
      "0.5381610070244741\n",
      "0.7813098090035575\n",
      "0.5190095901489258\n",
      "0.7670532862345377\n",
      "1.351900339126587\n",
      "0.950107991695404\n",
      "0.6261378186089652\n",
      "0.7259295747635213\n",
      "0.6881854280512384\n",
      "0.9219549554481841\n",
      "0.777643175125122\n",
      "0.6443827697208949\n",
      "0.6162920309149701\n",
      "0.7483986891233004\n",
      "0.5779831068856376\n",
      "0.7262083530426026\n",
      "0.836409330368042\n",
      "1.1212906403975054\n",
      "0.9738707277509902\n",
      "0.6940281436993525\n",
      "0.6811869036067616\n",
      "0.5482249941144671\n",
      "1.0747359991073608\n",
      "0.5705912590026856\n",
      "0.6280950307846069\n",
      "0.6554720997810364\n",
      "0.46176292679526587\n",
      "0.6254706696460122\n",
      "0.6839056809743246\n",
      "0.7400892697847806\n",
      "0.4688069522380829\n",
      "0.7786834372414483\n",
      "0.4935714540810421\n",
      "0.8487839698791504\n",
      "0.830733060836792\n",
      "1.1932541847229003\n",
      "1.2224454402923584\n",
      "1.7213141918182373\n",
      "0.8614001750946045\n",
      "0.6154752283385305\n",
      "0.5040956020355225\n",
      "0.6271693706512451\n",
      "0.8029100182983611\n",
      "0.7618802842639741\n",
      "0.6797739664713541\n",
      "0.8389289379119873\n",
      "0.7512051343917847\n",
      "1.2166668772697449\n",
      "1.0393309195836384\n",
      "0.9528941512107849\n",
      "0.8464696864629614\n",
      "0.7096926299008456\n",
      "0.695904608928796\n",
      "1.072131906236921\n",
      "0.9829944627625602\n",
      "0.9240244229634603\n",
      "0.7557130807066617\n",
      "0.6582173347473145\n",
      "0.7250245332717895\n",
      "0.8747686386108399\n",
      "0.551931889851888\n",
      "0.5436903953552246\n",
      "0.9482365088029341\n",
      "1.001841425895691\n",
      "0.47621243794759116\n"
     ]
    }
   ],
   "source": [
    "rand_list = np.sort(np.random.choice(items,100))\n",
    "mae_list = []\n",
    "for i in rand_list:\n",
    "    movie_input = keras.layers.Input(shape=[1],name='Item')\n",
    "    movie_embedding = keras.layers.Embedding(n_movies+1, n_latent_factors, name='Movie-Embedding')(movie_input)\n",
    "    movie_vec = keras.layers.Flatten(name='FlattenMovies')(movie_embedding)\n",
    "\n",
    "    user_input = keras.layers.Input(shape=[1],name='User')\n",
    "    user_vec = keras.layers.Flatten(name='FlattenUsers')(keras.layers.Embedding(n_users+1, n_latent_factors,name='User-Embedding')(user_input))\n",
    "\n",
    "\n",
    "    result = keras.layers.merge([movie_vec, user_vec], mode='dot',name='dot')\n",
    "\n",
    "\n",
    "    model = keras.Model([user_input, movie_input], result)\n",
    "\n",
    "    model.compile(optimizer='adam',loss= 'mean_squared_error')\n",
    "    dataset = dataset.apply(pd.Series.replace, to_replace=i, value=944)\n",
    "    model.fit([dataset.user_id,dataset.item_id],dataset.rating,epochs=25,batch_size=32,verbose=0)\n",
    "    movie_weights_class = extract_weights('Movie-Embedding', model)\n",
    "    user_weights_class = extract_weights('User-Embedding', model)\n",
    "\n",
    "    movie_input = keras.layers.Input(shape=[1],name='Item')\n",
    "    movie_embedding = keras.layers.Embedding(n_movies+1, n_latent_factors, name='Movie-Embedding', weights=[movie_weights_class],trainable=False)(movie_input)\n",
    "    movie_vec = keras.layers.Flatten(name='FlattenMovies')(movie_embedding)\n",
    "\n",
    "    user_input = keras.layers.Input(shape=[1],name='User')\n",
    "    user_vec = keras.layers.Flatten(name='FlattenUsers')(keras.layers.Embedding(n_users+1, n_latent_factors,name='User-Embedding')(user_input))\n",
    "\n",
    "\n",
    "    result = keras.layers.merge([movie_vec, user_vec], mode='dot',name='dot')\n",
    "\n",
    "\n",
    "    model = keras.Model([user_input, movie_input], result)\n",
    "\n",
    "    model.compile(optimizer='adam',loss= 'mean_squared_error')\n",
    "    dataset = dataset.apply(pd.Series.replace, to_replace=944, value=i)\n",
    "    idx = dataset.user_id==i\n",
    "    idx = np.where(idx)[0]\n",
    "    X_train, X_test, y_train, y_test = train_test_split(dataset.iloc[idx,0:2],dataset.iloc[idx,-1], test_size=0.2, random_state=42)\n",
    "    model.fit([X_train.user_id,X_train.item_id],y_train,epochs=1000,verbose=0)\n",
    "    y_hat = model.predict([X_test.user_id, X_test.item_id])\n",
    "    mae_list.append(mean_absolute_error(y_test, y_hat))\n",
    "    print(mean_absolute_error(y_test, y_hat))"
   ]
  },
  {
   "cell_type": "code",
   "execution_count": 198,
   "metadata": {},
   "outputs": [
    {
     "data": {
      "text/plain": [
       "0.7886433271893655"
      ]
     },
     "execution_count": 198,
     "metadata": {},
     "output_type": "execute_result"
    }
   ],
   "source": [
    "np.mean(mae_list)"
   ]
  },
  {
   "cell_type": "code",
   "execution_count": null,
   "metadata": {},
   "outputs": [],
   "source": []
  },
  {
   "cell_type": "code",
   "execution_count": null,
   "metadata": {},
   "outputs": [],
   "source": []
  },
  {
   "cell_type": "code",
   "execution_count": null,
   "metadata": {},
   "outputs": [],
   "source": []
  }
 ],
 "metadata": {
  "kernelspec": {
   "display_name": "Python 3",
   "language": "python",
   "name": "python3"
  },
  "language_info": {
   "codemirror_mode": {
    "name": "ipython",
    "version": 3
   },
   "file_extension": ".py",
   "mimetype": "text/x-python",
   "name": "python",
   "nbconvert_exporter": "python",
   "pygments_lexer": "ipython3",
   "version": "3.6.5"
  }
 },
 "nbformat": 4,
 "nbformat_minor": 2
}
