{
 "cells": [
  {
   "cell_type": "code",
   "execution_count": 1,
   "metadata": {},
   "outputs": [],
   "source": [
    "import pandas as pd\n",
    "import numpy as np\n",
    "import matplotlib.pyplot as plt\n",
    "import warnings\n",
    "warnings.filterwarnings('ignore')\n",
    "\n",
    "%matplotlib inline"
   ]
  },
  {
   "cell_type": "code",
   "execution_count": 2,
   "metadata": {},
   "outputs": [],
   "source": [
    "dataset = pd.read_csv(\"u.data.csv\",sep='|',names=\"user_id,item_id,rating,timestamp\".split(\",\"))\n",
    "dataset=dataset.drop('timestamp',axis=1)\n",
    "dataset = dataset.iloc[1:,:]\n",
    "\n",
    "datauser = pd.read_csv(\"u.user.csv\",sep='|')\n",
    "datauser = datauser.rename(columns={'id ': 'user_id',' age ':'age',' gender ':'gender',' job ':'job'})\n",
    "\n",
    "df_item = pd.read_csv('u.item.csv', sep='|')\n",
    "df_item  = df_item.drop([' video release date ',' movie title ', ' release date ',' IMDb URL '], axis=1)\n",
    "df_item = df_item.rename(columns={'movie id ': 'item_id'})\n"
   ]
  },
  {
   "cell_type": "code",
   "execution_count": 3,
   "metadata": {},
   "outputs": [
    {
     "data": {
      "text/plain": [
       "user_id    object\n",
       "item_id    object\n",
       "rating     object\n",
       "dtype: object"
      ]
     },
     "execution_count": 3,
     "metadata": {},
     "output_type": "execute_result"
    }
   ],
   "source": [
    "dataset.dtypes"
   ]
  },
  {
   "cell_type": "code",
   "execution_count": 4,
   "metadata": {},
   "outputs": [
    {
     "data": {
      "text/plain": [
       "user_id      1\n",
       "item_id    160\n",
       "rating       4\n",
       "Name: 335, dtype: object"
      ]
     },
     "execution_count": 4,
     "metadata": {},
     "output_type": "execute_result"
    }
   ],
   "source": [
    "dataset.iloc[334,:]"
   ]
  },
  {
   "cell_type": "code",
   "execution_count": 5,
   "metadata": {},
   "outputs": [],
   "source": [
    "m = np.zeros((943,1682))\n",
    "for i in range(len(dataset)):\n",
    "    m[int(dataset.iloc[i,0])-1,int(dataset.iloc[i,1])-1]=int(dataset.iloc[i,2])"
   ]
  },
  {
   "cell_type": "code",
   "execution_count": 6,
   "metadata": {},
   "outputs": [],
   "source": [
    "dataset.item_id = dataset.item_id.astype('int16')\n",
    "dataset.user_id = dataset.user_id.astype('int16')\n",
    "dataset.item_id = dataset.item_id.astype('category')\n",
    "dataset.user_id = dataset.user_id.astype('category')"
   ]
  },
  {
   "cell_type": "code",
   "execution_count": 7,
   "metadata": {},
   "outputs": [],
   "source": [
    "datauser.user_id = datauser.user_id.astype('int16')\n",
    "datauser.user_id = datauser.user_id.astype('category')\n",
    "df_item.item_id = df_item.item_id.astype('int16')\n",
    "df_item.item_id = df_item.item_id.astype('category')"
   ]
  },
  {
   "cell_type": "code",
   "execution_count": null,
   "metadata": {},
   "outputs": [],
   "source": []
  },
  {
   "cell_type": "code",
   "execution_count": null,
   "metadata": {},
   "outputs": [],
   "source": []
  },
  {
   "cell_type": "code",
   "execution_count": null,
   "metadata": {},
   "outputs": [],
   "source": []
  },
  {
   "cell_type": "code",
   "execution_count": null,
   "metadata": {},
   "outputs": [],
   "source": []
  },
  {
   "cell_type": "code",
   "execution_count": 8,
   "metadata": {},
   "outputs": [
    {
     "data": {
      "text/html": [
       "<div>\n",
       "<style scoped>\n",
       "    .dataframe tbody tr th:only-of-type {\n",
       "        vertical-align: middle;\n",
       "    }\n",
       "\n",
       "    .dataframe tbody tr th {\n",
       "        vertical-align: top;\n",
       "    }\n",
       "\n",
       "    .dataframe thead th {\n",
       "        text-align: right;\n",
       "    }\n",
       "</style>\n",
       "<table border=\"1\" class=\"dataframe\">\n",
       "  <thead>\n",
       "    <tr style=\"text-align: right;\">\n",
       "      <th></th>\n",
       "      <th>user_id</th>\n",
       "      <th>item_id</th>\n",
       "      <th>rating</th>\n",
       "    </tr>\n",
       "  </thead>\n",
       "  <tbody>\n",
       "    <tr>\n",
       "      <th>1</th>\n",
       "      <td>196</td>\n",
       "      <td>242</td>\n",
       "      <td>3</td>\n",
       "    </tr>\n",
       "    <tr>\n",
       "      <th>2</th>\n",
       "      <td>186</td>\n",
       "      <td>302</td>\n",
       "      <td>3</td>\n",
       "    </tr>\n",
       "    <tr>\n",
       "      <th>3</th>\n",
       "      <td>22</td>\n",
       "      <td>377</td>\n",
       "      <td>1</td>\n",
       "    </tr>\n",
       "    <tr>\n",
       "      <th>4</th>\n",
       "      <td>244</td>\n",
       "      <td>51</td>\n",
       "      <td>2</td>\n",
       "    </tr>\n",
       "    <tr>\n",
       "      <th>5</th>\n",
       "      <td>166</td>\n",
       "      <td>346</td>\n",
       "      <td>1</td>\n",
       "    </tr>\n",
       "  </tbody>\n",
       "</table>\n",
       "</div>"
      ],
      "text/plain": [
       "  user_id item_id rating\n",
       "1     196     242      3\n",
       "2     186     302      3\n",
       "3      22     377      1\n",
       "4     244      51      2\n",
       "5     166     346      1"
      ]
     },
     "execution_count": 8,
     "metadata": {},
     "output_type": "execute_result"
    }
   ],
   "source": [
    "dataset.head()"
   ]
  },
  {
   "cell_type": "code",
   "execution_count": null,
   "metadata": {},
   "outputs": [],
   "source": []
  },
  {
   "cell_type": "code",
   "execution_count": null,
   "metadata": {},
   "outputs": [],
   "source": []
  },
  {
   "cell_type": "code",
   "execution_count": null,
   "metadata": {},
   "outputs": [],
   "source": []
  },
  {
   "cell_type": "code",
   "execution_count": null,
   "metadata": {},
   "outputs": [],
   "source": []
  },
  {
   "cell_type": "code",
   "execution_count": 9,
   "metadata": {},
   "outputs": [
    {
     "data": {
      "text/plain": [
       "user_id    False\n",
       "item_id    False\n",
       "rating     False\n",
       "dtype: bool"
      ]
     },
     "execution_count": 9,
     "metadata": {},
     "output_type": "execute_result"
    }
   ],
   "source": [
    "dataset.isnull().any()"
   ]
  },
  {
   "cell_type": "code",
   "execution_count": 10,
   "metadata": {},
   "outputs": [],
   "source": [
    "from sklearn.model_selection import train_test_split\n",
    "from sklearn.model_selection import KFold\n"
   ]
  },
  {
   "cell_type": "code",
   "execution_count": null,
   "metadata": {},
   "outputs": [],
   "source": []
  },
  {
   "cell_type": "code",
   "execution_count": null,
   "metadata": {},
   "outputs": [],
   "source": []
  },
  {
   "cell_type": "code",
   "execution_count": 21,
   "metadata": {},
   "outputs": [],
   "source": [
    "import keras\n",
    "from IPython.display import SVG\n",
    "from keras.optimizers import Adam\n",
    "from keras.utils.vis_utils import model_to_dot\n",
    "from keras import regularizers\n",
    "\n",
    "n_users, n_movies = len(dataset.user_id.unique()), len(dataset.item_id.unique())\n",
    "n_latent_factors = 2"
   ]
  },
  {
   "cell_type": "code",
   "execution_count": 22,
   "metadata": {},
   "outputs": [],
   "source": [
    "movie_input = keras.layers.Input(shape=[1],name='Item')\n",
    "movie_embedding = keras.layers.Embedding(n_movies, n_latent_factors, name='Movie-Embedding')(movie_input)\n",
    "movie_vec = keras.layers.Flatten(name='FlattenMovies')(movie_embedding)\n",
    "\n",
    "user_input = keras.layers.Input(shape=[1],name='User')\n",
    "user_vec = keras.layers.Flatten(name='FlattenUsers')(keras.layers.Embedding(n_users, n_latent_factors,name='User-Embedding')(user_input))\n",
    "\n",
    "\n",
    "result = keras.layers.merge([movie_vec, user_vec], mode='dot',name='dot')\n",
    "\n",
    "\n",
    "model = keras.Model([user_input, movie_input], result)\n",
    "\n",
    "model.compile(optimizer='adam',loss= 'mean_squared_error')"
   ]
  },
  {
   "cell_type": "code",
   "execution_count": 23,
   "metadata": {},
   "outputs": [],
   "source": [
    "import graphviz"
   ]
  },
  {
   "cell_type": "code",
   "execution_count": null,
   "metadata": {},
   "outputs": [],
   "source": []
  },
  {
   "cell_type": "code",
   "execution_count": 24,
   "metadata": {},
   "outputs": [
    {
     "data": {
      "image/svg+xml": [
       "<svg height=\"304pt\" viewBox=\"0.00 0.00 679.50 304.00\" width=\"680pt\" xmlns=\"http://www.w3.org/2000/svg\" xmlns:xlink=\"http://www.w3.org/1999/xlink\">\n",
       "<g class=\"graph\" id=\"graph0\" transform=\"scale(1 1) rotate(0) translate(4 300)\">\n",
       "<title>G</title>\n",
       "<polygon fill=\"white\" points=\"-4,4 -4,-300 675.5,-300 675.5,4 -4,4\" stroke=\"none\"/>\n",
       "<!-- 2142814465384 -->\n",
       "<g class=\"node\" id=\"node1\"><title>2142814465384</title>\n",
       "<polygon fill=\"none\" points=\"48,-249.5 48,-295.5 283,-295.5 283,-249.5 48,-249.5\" stroke=\"black\"/>\n",
       "<text font-family=\"Times New Roman,serif\" font-size=\"14.00\" text-anchor=\"middle\" x=\"102.5\" y=\"-268.8\">Item: InputLayer</text>\n",
       "<polyline fill=\"none\" points=\"157,-249.5 157,-295.5 \" stroke=\"black\"/>\n",
       "<text font-family=\"Times New Roman,serif\" font-size=\"14.00\" text-anchor=\"middle\" x=\"185\" y=\"-280.3\">input:</text>\n",
       "<polyline fill=\"none\" points=\"157,-272.5 213,-272.5 \" stroke=\"black\"/>\n",
       "<text font-family=\"Times New Roman,serif\" font-size=\"14.00\" text-anchor=\"middle\" x=\"185\" y=\"-257.3\">output:</text>\n",
       "<polyline fill=\"none\" points=\"213,-249.5 213,-295.5 \" stroke=\"black\"/>\n",
       "<text font-family=\"Times New Roman,serif\" font-size=\"14.00\" text-anchor=\"middle\" x=\"248\" y=\"-280.3\">(None, 1)</text>\n",
       "<polyline fill=\"none\" points=\"213,-272.5 283,-272.5 \" stroke=\"black\"/>\n",
       "<text font-family=\"Times New Roman,serif\" font-size=\"14.00\" text-anchor=\"middle\" x=\"248\" y=\"-257.3\">(None, 1)</text>\n",
       "</g>\n",
       "<!-- 2142814465944 -->\n",
       "<g class=\"node\" id=\"node3\"><title>2142814465944</title>\n",
       "<polygon fill=\"none\" points=\"0,-166.5 0,-212.5 331,-212.5 331,-166.5 0,-166.5\" stroke=\"black\"/>\n",
       "<text font-family=\"Times New Roman,serif\" font-size=\"14.00\" text-anchor=\"middle\" x=\"95.5\" y=\"-185.8\">Movie-Embedding: Embedding</text>\n",
       "<polyline fill=\"none\" points=\"191,-166.5 191,-212.5 \" stroke=\"black\"/>\n",
       "<text font-family=\"Times New Roman,serif\" font-size=\"14.00\" text-anchor=\"middle\" x=\"219\" y=\"-197.3\">input:</text>\n",
       "<polyline fill=\"none\" points=\"191,-189.5 247,-189.5 \" stroke=\"black\"/>\n",
       "<text font-family=\"Times New Roman,serif\" font-size=\"14.00\" text-anchor=\"middle\" x=\"219\" y=\"-174.3\">output:</text>\n",
       "<polyline fill=\"none\" points=\"247,-166.5 247,-212.5 \" stroke=\"black\"/>\n",
       "<text font-family=\"Times New Roman,serif\" font-size=\"14.00\" text-anchor=\"middle\" x=\"289\" y=\"-197.3\">(None, 1)</text>\n",
       "<polyline fill=\"none\" points=\"247,-189.5 331,-189.5 \" stroke=\"black\"/>\n",
       "<text font-family=\"Times New Roman,serif\" font-size=\"14.00\" text-anchor=\"middle\" x=\"289\" y=\"-174.3\">(None, 1, 2)</text>\n",
       "</g>\n",
       "<!-- 2142814465384&#45;&gt;2142814465944 -->\n",
       "<g class=\"edge\" id=\"edge1\"><title>2142814465384-&gt;2142814465944</title>\n",
       "<path d=\"M165.5,-249.366C165.5,-241.152 165.5,-231.658 165.5,-222.725\" fill=\"none\" stroke=\"black\"/>\n",
       "<polygon fill=\"black\" points=\"169,-222.607 165.5,-212.607 162,-222.607 169,-222.607\" stroke=\"black\"/>\n",
       "</g>\n",
       "<!-- 2142814465888 -->\n",
       "<g class=\"node\" id=\"node2\"><title>2142814465888</title>\n",
       "<polygon fill=\"none\" points=\"392.5,-249.5 392.5,-295.5 628.5,-295.5 628.5,-249.5 392.5,-249.5\" stroke=\"black\"/>\n",
       "<text font-family=\"Times New Roman,serif\" font-size=\"14.00\" text-anchor=\"middle\" x=\"447.5\" y=\"-268.8\">User: InputLayer</text>\n",
       "<polyline fill=\"none\" points=\"502.5,-249.5 502.5,-295.5 \" stroke=\"black\"/>\n",
       "<text font-family=\"Times New Roman,serif\" font-size=\"14.00\" text-anchor=\"middle\" x=\"530.5\" y=\"-280.3\">input:</text>\n",
       "<polyline fill=\"none\" points=\"502.5,-272.5 558.5,-272.5 \" stroke=\"black\"/>\n",
       "<text font-family=\"Times New Roman,serif\" font-size=\"14.00\" text-anchor=\"middle\" x=\"530.5\" y=\"-257.3\">output:</text>\n",
       "<polyline fill=\"none\" points=\"558.5,-249.5 558.5,-295.5 \" stroke=\"black\"/>\n",
       "<text font-family=\"Times New Roman,serif\" font-size=\"14.00\" text-anchor=\"middle\" x=\"593.5\" y=\"-280.3\">(None, 1)</text>\n",
       "<polyline fill=\"none\" points=\"558.5,-272.5 628.5,-272.5 \" stroke=\"black\"/>\n",
       "<text font-family=\"Times New Roman,serif\" font-size=\"14.00\" text-anchor=\"middle\" x=\"593.5\" y=\"-257.3\">(None, 1)</text>\n",
       "</g>\n",
       "<!-- 2141096279568 -->\n",
       "<g class=\"node\" id=\"node4\"><title>2141096279568</title>\n",
       "<polygon fill=\"none\" points=\"349.5,-166.5 349.5,-212.5 671.5,-212.5 671.5,-166.5 349.5,-166.5\" stroke=\"black\"/>\n",
       "<text font-family=\"Times New Roman,serif\" font-size=\"14.00\" text-anchor=\"middle\" x=\"440.5\" y=\"-185.8\">User-Embedding: Embedding</text>\n",
       "<polyline fill=\"none\" points=\"531.5,-166.5 531.5,-212.5 \" stroke=\"black\"/>\n",
       "<text font-family=\"Times New Roman,serif\" font-size=\"14.00\" text-anchor=\"middle\" x=\"559.5\" y=\"-197.3\">input:</text>\n",
       "<polyline fill=\"none\" points=\"531.5,-189.5 587.5,-189.5 \" stroke=\"black\"/>\n",
       "<text font-family=\"Times New Roman,serif\" font-size=\"14.00\" text-anchor=\"middle\" x=\"559.5\" y=\"-174.3\">output:</text>\n",
       "<polyline fill=\"none\" points=\"587.5,-166.5 587.5,-212.5 \" stroke=\"black\"/>\n",
       "<text font-family=\"Times New Roman,serif\" font-size=\"14.00\" text-anchor=\"middle\" x=\"629.5\" y=\"-197.3\">(None, 1)</text>\n",
       "<polyline fill=\"none\" points=\"587.5,-189.5 671.5,-189.5 \" stroke=\"black\"/>\n",
       "<text font-family=\"Times New Roman,serif\" font-size=\"14.00\" text-anchor=\"middle\" x=\"629.5\" y=\"-174.3\">(None, 1, 2)</text>\n",
       "</g>\n",
       "<!-- 2142814465888&#45;&gt;2141096279568 -->\n",
       "<g class=\"edge\" id=\"edge2\"><title>2142814465888-&gt;2141096279568</title>\n",
       "<path d=\"M510.5,-249.366C510.5,-241.152 510.5,-231.658 510.5,-222.725\" fill=\"none\" stroke=\"black\"/>\n",
       "<polygon fill=\"black\" points=\"514,-222.607 510.5,-212.607 507,-222.607 514,-222.607\" stroke=\"black\"/>\n",
       "</g>\n",
       "<!-- 2142814465720 -->\n",
       "<g class=\"node\" id=\"node5\"><title>2142814465720</title>\n",
       "<polygon fill=\"none\" points=\"50.5,-83.5 50.5,-129.5 330.5,-129.5 330.5,-83.5 50.5,-83.5\" stroke=\"black\"/>\n",
       "<text font-family=\"Times New Roman,serif\" font-size=\"14.00\" text-anchor=\"middle\" x=\"120.5\" y=\"-102.8\">FlattenMovies: Flatten</text>\n",
       "<polyline fill=\"none\" points=\"190.5,-83.5 190.5,-129.5 \" stroke=\"black\"/>\n",
       "<text font-family=\"Times New Roman,serif\" font-size=\"14.00\" text-anchor=\"middle\" x=\"218.5\" y=\"-114.3\">input:</text>\n",
       "<polyline fill=\"none\" points=\"190.5,-106.5 246.5,-106.5 \" stroke=\"black\"/>\n",
       "<text font-family=\"Times New Roman,serif\" font-size=\"14.00\" text-anchor=\"middle\" x=\"218.5\" y=\"-91.3\">output:</text>\n",
       "<polyline fill=\"none\" points=\"246.5,-83.5 246.5,-129.5 \" stroke=\"black\"/>\n",
       "<text font-family=\"Times New Roman,serif\" font-size=\"14.00\" text-anchor=\"middle\" x=\"288.5\" y=\"-114.3\">(None, 1, 2)</text>\n",
       "<polyline fill=\"none\" points=\"246.5,-106.5 330.5,-106.5 \" stroke=\"black\"/>\n",
       "<text font-family=\"Times New Roman,serif\" font-size=\"14.00\" text-anchor=\"middle\" x=\"288.5\" y=\"-91.3\">(None, 2)</text>\n",
       "</g>\n",
       "<!-- 2142814465944&#45;&gt;2142814465720 -->\n",
       "<g class=\"edge\" id=\"edge3\"><title>2142814465944-&gt;2142814465720</title>\n",
       "<path d=\"M172.331,-166.366C174.894,-158.062 177.861,-148.451 180.644,-139.434\" fill=\"none\" stroke=\"black\"/>\n",
       "<polygon fill=\"black\" points=\"184.072,-140.194 183.677,-129.607 177.383,-138.13 184.072,-140.194\" stroke=\"black\"/>\n",
       "</g>\n",
       "<!-- 2142814465776 -->\n",
       "<g class=\"node\" id=\"node6\"><title>2142814465776</title>\n",
       "<polygon fill=\"none\" points=\"362,-83.5 362,-129.5 633,-129.5 633,-83.5 362,-83.5\" stroke=\"black\"/>\n",
       "<text font-family=\"Times New Roman,serif\" font-size=\"14.00\" text-anchor=\"middle\" x=\"427.5\" y=\"-102.8\">FlattenUsers: Flatten</text>\n",
       "<polyline fill=\"none\" points=\"493,-83.5 493,-129.5 \" stroke=\"black\"/>\n",
       "<text font-family=\"Times New Roman,serif\" font-size=\"14.00\" text-anchor=\"middle\" x=\"521\" y=\"-114.3\">input:</text>\n",
       "<polyline fill=\"none\" points=\"493,-106.5 549,-106.5 \" stroke=\"black\"/>\n",
       "<text font-family=\"Times New Roman,serif\" font-size=\"14.00\" text-anchor=\"middle\" x=\"521\" y=\"-91.3\">output:</text>\n",
       "<polyline fill=\"none\" points=\"549,-83.5 549,-129.5 \" stroke=\"black\"/>\n",
       "<text font-family=\"Times New Roman,serif\" font-size=\"14.00\" text-anchor=\"middle\" x=\"591\" y=\"-114.3\">(None, 1, 2)</text>\n",
       "<polyline fill=\"none\" points=\"549,-106.5 633,-106.5 \" stroke=\"black\"/>\n",
       "<text font-family=\"Times New Roman,serif\" font-size=\"14.00\" text-anchor=\"middle\" x=\"591\" y=\"-91.3\">(None, 2)</text>\n",
       "</g>\n",
       "<!-- 2141096279568&#45;&gt;2142814465776 -->\n",
       "<g class=\"edge\" id=\"edge4\"><title>2141096279568-&gt;2142814465776</title>\n",
       "<path d=\"M506.948,-166.366C505.629,-158.152 504.106,-148.658 502.672,-139.725\" fill=\"none\" stroke=\"black\"/>\n",
       "<polygon fill=\"black\" points=\"506.089,-138.926 501.048,-129.607 499.177,-140.035 506.089,-138.926\" stroke=\"black\"/>\n",
       "</g>\n",
       "<!-- 2141096278672 -->\n",
       "<g class=\"node\" id=\"node7\"><title>2141096278672</title>\n",
       "<polygon fill=\"none\" points=\"207,-0.5 207,-46.5 480,-46.5 480,-0.5 207,-0.5\" stroke=\"black\"/>\n",
       "<text font-family=\"Times New Roman,serif\" font-size=\"14.00\" text-anchor=\"middle\" x=\"245.5\" y=\"-19.8\">dot: Merge</text>\n",
       "<polyline fill=\"none\" points=\"284,-0.5 284,-46.5 \" stroke=\"black\"/>\n",
       "<text font-family=\"Times New Roman,serif\" font-size=\"14.00\" text-anchor=\"middle\" x=\"312\" y=\"-31.3\">input:</text>\n",
       "<polyline fill=\"none\" points=\"284,-23.5 340,-23.5 \" stroke=\"black\"/>\n",
       "<text font-family=\"Times New Roman,serif\" font-size=\"14.00\" text-anchor=\"middle\" x=\"312\" y=\"-8.3\">output:</text>\n",
       "<polyline fill=\"none\" points=\"340,-0.5 340,-46.5 \" stroke=\"black\"/>\n",
       "<text font-family=\"Times New Roman,serif\" font-size=\"14.00\" text-anchor=\"middle\" x=\"410\" y=\"-31.3\">[(None, 2), (None, 2)]</text>\n",
       "<polyline fill=\"none\" points=\"340,-23.5 480,-23.5 \" stroke=\"black\"/>\n",
       "<text font-family=\"Times New Roman,serif\" font-size=\"14.00\" text-anchor=\"middle\" x=\"410\" y=\"-8.3\">(None, 1)</text>\n",
       "</g>\n",
       "<!-- 2142814465720&#45;&gt;2141096278672 -->\n",
       "<g class=\"edge\" id=\"edge5\"><title>2142814465720-&gt;2141096278672</title>\n",
       "<path d=\"M232.308,-83.3664C250.945,-73.4998 273.067,-61.7881 292.652,-51.4194\" fill=\"none\" stroke=\"black\"/>\n",
       "<polygon fill=\"black\" points=\"294.542,-54.379 301.743,-46.6068 291.267,-48.1925 294.542,-54.379\" stroke=\"black\"/>\n",
       "</g>\n",
       "<!-- 2142814465776&#45;&gt;2141096278672 -->\n",
       "<g class=\"edge\" id=\"edge6\"><title>2142814465776-&gt;2141096278672</title>\n",
       "<path d=\"M455.419,-83.3664C436.575,-73.4551 414.192,-61.682 394.413,-51.2787\" fill=\"none\" stroke=\"black\"/>\n",
       "<polygon fill=\"black\" points=\"396.01,-48.1643 385.53,-46.6068 392.751,-54.3596 396.01,-48.1643\" stroke=\"black\"/>\n",
       "</g>\n",
       "</g>\n",
       "</svg>"
      ],
      "text/plain": [
       "<IPython.core.display.SVG object>"
      ]
     },
     "execution_count": 24,
     "metadata": {},
     "output_type": "execute_result"
    }
   ],
   "source": [
    "from keras.utils.vis_utils import plot_model\n",
    "from IPython.display import SVG\n",
    "SVG(model_to_dot(model,  show_shapes=True, show_layer_names=True, rankdir='HB').create(prog='dot', format='svg'))"
   ]
  },
  {
   "cell_type": "code",
   "execution_count": null,
   "metadata": {},
   "outputs": [
    {
     "name": "stdout",
     "output_type": "stream",
     "text": [
      "Epoch 1/25\n",
      "100000/100000 [==============================] - 16s 162us/step - loss: 11.7054\n",
      "Epoch 2/25\n",
      "100000/100000 [==============================] - 13s 132us/step - loss: 4.3318\n",
      "Epoch 3/25\n",
      "100000/100000 [==============================] - 17s 169us/step - loss: 1.8986\n",
      "Epoch 4/25\n",
      "100000/100000 [==============================] - 16s 160us/step - loss: 1.3063- ETA: 0\n",
      "Epoch 5/25\n",
      "100000/100000 [==============================] - 14s 139us/step - loss: 1.0889\n",
      "Epoch 6/25\n",
      "100000/100000 [==============================] - 16s 163us/step - loss: 0.9966\n",
      "Epoch 7/25\n",
      "100000/100000 [==============================] - 14s 143us/step - loss: 0.95250s - lo\n",
      "Epoch 8/25\n",
      "100000/100000 [==============================] - 13s 130us/step - loss: 0.9294\n",
      "Epoch 9/25\n",
      "100000/100000 [==============================] - 15s 145us/step - loss: 0.9157\n",
      "Epoch 10/25\n",
      "100000/100000 [==============================] - 14s 140us/step - loss: 0.9077\n",
      "Epoch 11/25\n",
      "100000/100000 [==============================] - 13s 134us/step - loss: 0.9017\n",
      "Epoch 12/25\n",
      "100000/100000 [==============================] - 11s 114us/step - loss: 0.8974\n",
      "Epoch 13/25\n",
      "100000/100000 [==============================] - 12s 124us/step - loss: 0.8948\n",
      "Epoch 14/25\n",
      "100000/100000 [==============================] - 14s 135us/step - loss: 0.8917\n",
      "Epoch 15/25\n",
      "100000/100000 [==============================] - 14s 135us/step - loss: 0.8899\n",
      "Epoch 16/25\n",
      "100000/100000 [==============================] - 13s 128us/step - loss: 0.8882\n",
      "Epoch 17/25\n",
      "100000/100000 [==============================] - 11s 112us/step - loss: 0.8865\n",
      "Epoch 18/25\n",
      "100000/100000 [==============================] - 12s 118us/step - loss: 0.8857\n",
      "Epoch 19/25\n",
      "100000/100000 [==============================] - 12s 124us/step - loss: 0.8848\n",
      "Epoch 20/25\n",
      "100000/100000 [==============================] - 11s 114us/step - loss: 0.8840\n",
      "Epoch 21/25\n",
      "100000/100000 [==============================] - 12s 117us/step - loss: 0.8831\n",
      "Epoch 22/25\n",
      "100000/100000 [==============================] - 12s 123us/step - loss: 0.8822\n",
      "Epoch 23/25\n",
      "100000/100000 [==============================] - 13s 126us/step - loss: 0.8812\n",
      "Epoch 24/25\n",
      " 38336/100000 [==========>...................] - ETA: 7s - loss: 0.8745"
     ]
    }
   ],
   "source": [
    "model.fit([dataset.user_id, dataset.item_id], dataset.rating, epochs=25,batch_size=32)"
   ]
  },
  {
   "cell_type": "code",
   "execution_count": 17,
   "metadata": {},
   "outputs": [
    {
     "data": {
      "text/html": [
       "<div>\n",
       "<style scoped>\n",
       "    .dataframe tbody tr th:only-of-type {\n",
       "        vertical-align: middle;\n",
       "    }\n",
       "\n",
       "    .dataframe tbody tr th {\n",
       "        vertical-align: top;\n",
       "    }\n",
       "\n",
       "    .dataframe thead th {\n",
       "        text-align: right;\n",
       "    }\n",
       "</style>\n",
       "<table border=\"1\" class=\"dataframe\">\n",
       "  <thead>\n",
       "    <tr style=\"text-align: right;\">\n",
       "      <th></th>\n",
       "      <th>item_id</th>\n",
       "      <th>unknown</th>\n",
       "      <th>Action</th>\n",
       "      <th>Adventure</th>\n",
       "      <th>Animation</th>\n",
       "      <th>Children's</th>\n",
       "      <th>Comedy</th>\n",
       "      <th>Crime</th>\n",
       "      <th>Documentary</th>\n",
       "      <th>Drama</th>\n",
       "      <th>Fantasy</th>\n",
       "      <th>Film-Noir</th>\n",
       "      <th>Horror</th>\n",
       "      <th>Musical</th>\n",
       "      <th>Mystery</th>\n",
       "      <th>Romance</th>\n",
       "      <th>Sci-Fi</th>\n",
       "      <th>Thriller</th>\n",
       "      <th>War</th>\n",
       "      <th>Western</th>\n",
       "    </tr>\n",
       "  </thead>\n",
       "  <tbody>\n",
       "    <tr>\n",
       "      <th>0</th>\n",
       "      <td>1</td>\n",
       "      <td>0</td>\n",
       "      <td>0</td>\n",
       "      <td>0</td>\n",
       "      <td>1</td>\n",
       "      <td>1</td>\n",
       "      <td>1</td>\n",
       "      <td>0</td>\n",
       "      <td>0</td>\n",
       "      <td>0</td>\n",
       "      <td>0</td>\n",
       "      <td>0</td>\n",
       "      <td>0</td>\n",
       "      <td>0</td>\n",
       "      <td>0</td>\n",
       "      <td>0</td>\n",
       "      <td>0</td>\n",
       "      <td>0</td>\n",
       "      <td>0</td>\n",
       "      <td>0</td>\n",
       "    </tr>\n",
       "    <tr>\n",
       "      <th>1</th>\n",
       "      <td>2</td>\n",
       "      <td>0</td>\n",
       "      <td>1</td>\n",
       "      <td>1</td>\n",
       "      <td>0</td>\n",
       "      <td>0</td>\n",
       "      <td>0</td>\n",
       "      <td>0</td>\n",
       "      <td>0</td>\n",
       "      <td>0</td>\n",
       "      <td>0</td>\n",
       "      <td>0</td>\n",
       "      <td>0</td>\n",
       "      <td>0</td>\n",
       "      <td>0</td>\n",
       "      <td>0</td>\n",
       "      <td>0</td>\n",
       "      <td>1</td>\n",
       "      <td>0</td>\n",
       "      <td>0</td>\n",
       "    </tr>\n",
       "    <tr>\n",
       "      <th>2</th>\n",
       "      <td>3</td>\n",
       "      <td>0</td>\n",
       "      <td>0</td>\n",
       "      <td>0</td>\n",
       "      <td>0</td>\n",
       "      <td>0</td>\n",
       "      <td>0</td>\n",
       "      <td>0</td>\n",
       "      <td>0</td>\n",
       "      <td>0</td>\n",
       "      <td>0</td>\n",
       "      <td>0</td>\n",
       "      <td>0</td>\n",
       "      <td>0</td>\n",
       "      <td>0</td>\n",
       "      <td>0</td>\n",
       "      <td>0</td>\n",
       "      <td>1</td>\n",
       "      <td>0</td>\n",
       "      <td>0</td>\n",
       "    </tr>\n",
       "    <tr>\n",
       "      <th>3</th>\n",
       "      <td>4</td>\n",
       "      <td>0</td>\n",
       "      <td>1</td>\n",
       "      <td>0</td>\n",
       "      <td>0</td>\n",
       "      <td>0</td>\n",
       "      <td>1</td>\n",
       "      <td>0</td>\n",
       "      <td>0</td>\n",
       "      <td>1</td>\n",
       "      <td>0</td>\n",
       "      <td>0</td>\n",
       "      <td>0</td>\n",
       "      <td>0</td>\n",
       "      <td>0</td>\n",
       "      <td>0</td>\n",
       "      <td>0</td>\n",
       "      <td>0</td>\n",
       "      <td>0</td>\n",
       "      <td>0</td>\n",
       "    </tr>\n",
       "    <tr>\n",
       "      <th>4</th>\n",
       "      <td>5</td>\n",
       "      <td>0</td>\n",
       "      <td>0</td>\n",
       "      <td>0</td>\n",
       "      <td>0</td>\n",
       "      <td>0</td>\n",
       "      <td>0</td>\n",
       "      <td>1</td>\n",
       "      <td>0</td>\n",
       "      <td>1</td>\n",
       "      <td>0</td>\n",
       "      <td>0</td>\n",
       "      <td>0</td>\n",
       "      <td>0</td>\n",
       "      <td>0</td>\n",
       "      <td>0</td>\n",
       "      <td>0</td>\n",
       "      <td>1</td>\n",
       "      <td>0</td>\n",
       "      <td>0</td>\n",
       "    </tr>\n",
       "  </tbody>\n",
       "</table>\n",
       "</div>"
      ],
      "text/plain": [
       "  item_id   unknown    Action    Adventure    Animation    Children's   \\\n",
       "0       1          0         0            0            1             1   \n",
       "1       2          0         1            1            0             0   \n",
       "2       3          0         0            0            0             0   \n",
       "3       4          0         1            0            0             0   \n",
       "4       5          0         0            0            0             0   \n",
       "\n",
       "    Comedy    Crime    Documentary    Drama    Fantasy    Film-Noir   \\\n",
       "0         1        0              0        0          0            0   \n",
       "1         0        0              0        0          0            0   \n",
       "2         0        0              0        0          0            0   \n",
       "3         1        0              0        1          0            0   \n",
       "4         0        1              0        1          0            0   \n",
       "\n",
       "    Horror    Musical    Mystery    Romance    Sci-Fi    Thriller    War   \\\n",
       "0         0          0          0          0         0           0      0   \n",
       "1         0          0          0          0         0           1      0   \n",
       "2         0          0          0          0         0           1      0   \n",
       "3         0          0          0          0         0           0      0   \n",
       "4         0          0          0          0         0           1      0   \n",
       "\n",
       "    Western  \n",
       "0         0  \n",
       "1         0  \n",
       "2         0  \n",
       "3         0  \n",
       "4         0  "
      ]
     },
     "execution_count": 17,
     "metadata": {},
     "output_type": "execute_result"
    }
   ],
   "source": [
    "df_item.head()"
   ]
  },
  {
   "cell_type": "code",
   "execution_count": 301,
   "metadata": {},
   "outputs": [],
   "source": [
    "datauser = pd.read_csv(\"u.user.csv\",sep='|')\n",
    "datauser = datauser.rename(columns={'id ': 'user_id',' age ':'age',' gender ':'gender',' job ':'job'})"
   ]
  },
  {
   "cell_type": "code",
   "execution_count": 302,
   "metadata": {},
   "outputs": [
    {
     "data": {
      "text/html": [
       "<div>\n",
       "<style scoped>\n",
       "    .dataframe tbody tr th:only-of-type {\n",
       "        vertical-align: middle;\n",
       "    }\n",
       "\n",
       "    .dataframe tbody tr th {\n",
       "        vertical-align: top;\n",
       "    }\n",
       "\n",
       "    .dataframe thead th {\n",
       "        text-align: right;\n",
       "    }\n",
       "</style>\n",
       "<table border=\"1\" class=\"dataframe\">\n",
       "  <thead>\n",
       "    <tr style=\"text-align: right;\">\n",
       "      <th></th>\n",
       "      <th>user_id</th>\n",
       "      <th>age</th>\n",
       "      <th>gender</th>\n",
       "      <th>job</th>\n",
       "      <th>zip</th>\n",
       "    </tr>\n",
       "  </thead>\n",
       "  <tbody>\n",
       "    <tr>\n",
       "      <th>0</th>\n",
       "      <td>1</td>\n",
       "      <td>24</td>\n",
       "      <td>1</td>\n",
       "      <td>19</td>\n",
       "      <td>85711</td>\n",
       "    </tr>\n",
       "    <tr>\n",
       "      <th>1</th>\n",
       "      <td>2</td>\n",
       "      <td>53</td>\n",
       "      <td>0</td>\n",
       "      <td>13</td>\n",
       "      <td>94043</td>\n",
       "    </tr>\n",
       "    <tr>\n",
       "      <th>2</th>\n",
       "      <td>3</td>\n",
       "      <td>23</td>\n",
       "      <td>1</td>\n",
       "      <td>20</td>\n",
       "      <td>32067</td>\n",
       "    </tr>\n",
       "    <tr>\n",
       "      <th>3</th>\n",
       "      <td>4</td>\n",
       "      <td>24</td>\n",
       "      <td>1</td>\n",
       "      <td>19</td>\n",
       "      <td>43537</td>\n",
       "    </tr>\n",
       "    <tr>\n",
       "      <th>4</th>\n",
       "      <td>5</td>\n",
       "      <td>33</td>\n",
       "      <td>0</td>\n",
       "      <td>13</td>\n",
       "      <td>15213</td>\n",
       "    </tr>\n",
       "  </tbody>\n",
       "</table>\n",
       "</div>"
      ],
      "text/plain": [
       "   user_id  age  gender  job    zip\n",
       "0        1   24       1   19  85711\n",
       "1        2   53       0   13  94043\n",
       "2        3   23       1   20  32067\n",
       "3        4   24       1   19  43537\n",
       "4        5   33       0   13  15213"
      ]
     },
     "execution_count": 302,
     "metadata": {},
     "output_type": "execute_result"
    }
   ],
   "source": [
    "datauser.job = datauser.job.astype('category').cat.codes.values\n",
    "datauser.gender = datauser.gender.astype('category').cat.codes.values\n",
    "datauser.head()"
   ]
  },
  {
   "cell_type": "code",
   "execution_count": 303,
   "metadata": {},
   "outputs": [
    {
     "data": {
      "text/html": [
       "<div>\n",
       "<style scoped>\n",
       "    .dataframe tbody tr th:only-of-type {\n",
       "        vertical-align: middle;\n",
       "    }\n",
       "\n",
       "    .dataframe tbody tr th {\n",
       "        vertical-align: top;\n",
       "    }\n",
       "\n",
       "    .dataframe thead th {\n",
       "        text-align: right;\n",
       "    }\n",
       "</style>\n",
       "<table border=\"1\" class=\"dataframe\">\n",
       "  <thead>\n",
       "    <tr style=\"text-align: right;\">\n",
       "      <th></th>\n",
       "      <th>item_id</th>\n",
       "      <th>unknown</th>\n",
       "      <th>Action</th>\n",
       "      <th>Adventure</th>\n",
       "      <th>Animation</th>\n",
       "      <th>Children's</th>\n",
       "      <th>Comedy</th>\n",
       "      <th>Crime</th>\n",
       "      <th>Documentary</th>\n",
       "      <th>Drama</th>\n",
       "      <th>Fantasy</th>\n",
       "      <th>Film-Noir</th>\n",
       "      <th>Horror</th>\n",
       "      <th>Musical</th>\n",
       "      <th>Mystery</th>\n",
       "      <th>Romance</th>\n",
       "      <th>Sci-Fi</th>\n",
       "      <th>Thriller</th>\n",
       "      <th>War</th>\n",
       "      <th>Western</th>\n",
       "    </tr>\n",
       "  </thead>\n",
       "  <tbody>\n",
       "    <tr>\n",
       "      <th>0</th>\n",
       "      <td>1</td>\n",
       "      <td>0</td>\n",
       "      <td>0</td>\n",
       "      <td>0</td>\n",
       "      <td>1</td>\n",
       "      <td>1</td>\n",
       "      <td>1</td>\n",
       "      <td>0</td>\n",
       "      <td>0</td>\n",
       "      <td>0</td>\n",
       "      <td>0</td>\n",
       "      <td>0</td>\n",
       "      <td>0</td>\n",
       "      <td>0</td>\n",
       "      <td>0</td>\n",
       "      <td>0</td>\n",
       "      <td>0</td>\n",
       "      <td>0</td>\n",
       "      <td>0</td>\n",
       "      <td>0</td>\n",
       "    </tr>\n",
       "    <tr>\n",
       "      <th>1</th>\n",
       "      <td>2</td>\n",
       "      <td>0</td>\n",
       "      <td>1</td>\n",
       "      <td>1</td>\n",
       "      <td>0</td>\n",
       "      <td>0</td>\n",
       "      <td>0</td>\n",
       "      <td>0</td>\n",
       "      <td>0</td>\n",
       "      <td>0</td>\n",
       "      <td>0</td>\n",
       "      <td>0</td>\n",
       "      <td>0</td>\n",
       "      <td>0</td>\n",
       "      <td>0</td>\n",
       "      <td>0</td>\n",
       "      <td>0</td>\n",
       "      <td>1</td>\n",
       "      <td>0</td>\n",
       "      <td>0</td>\n",
       "    </tr>\n",
       "    <tr>\n",
       "      <th>2</th>\n",
       "      <td>3</td>\n",
       "      <td>0</td>\n",
       "      <td>0</td>\n",
       "      <td>0</td>\n",
       "      <td>0</td>\n",
       "      <td>0</td>\n",
       "      <td>0</td>\n",
       "      <td>0</td>\n",
       "      <td>0</td>\n",
       "      <td>0</td>\n",
       "      <td>0</td>\n",
       "      <td>0</td>\n",
       "      <td>0</td>\n",
       "      <td>0</td>\n",
       "      <td>0</td>\n",
       "      <td>0</td>\n",
       "      <td>0</td>\n",
       "      <td>1</td>\n",
       "      <td>0</td>\n",
       "      <td>0</td>\n",
       "    </tr>\n",
       "    <tr>\n",
       "      <th>3</th>\n",
       "      <td>4</td>\n",
       "      <td>0</td>\n",
       "      <td>1</td>\n",
       "      <td>0</td>\n",
       "      <td>0</td>\n",
       "      <td>0</td>\n",
       "      <td>1</td>\n",
       "      <td>0</td>\n",
       "      <td>0</td>\n",
       "      <td>1</td>\n",
       "      <td>0</td>\n",
       "      <td>0</td>\n",
       "      <td>0</td>\n",
       "      <td>0</td>\n",
       "      <td>0</td>\n",
       "      <td>0</td>\n",
       "      <td>0</td>\n",
       "      <td>0</td>\n",
       "      <td>0</td>\n",
       "      <td>0</td>\n",
       "    </tr>\n",
       "    <tr>\n",
       "      <th>4</th>\n",
       "      <td>5</td>\n",
       "      <td>0</td>\n",
       "      <td>0</td>\n",
       "      <td>0</td>\n",
       "      <td>0</td>\n",
       "      <td>0</td>\n",
       "      <td>0</td>\n",
       "      <td>1</td>\n",
       "      <td>0</td>\n",
       "      <td>1</td>\n",
       "      <td>0</td>\n",
       "      <td>0</td>\n",
       "      <td>0</td>\n",
       "      <td>0</td>\n",
       "      <td>0</td>\n",
       "      <td>0</td>\n",
       "      <td>0</td>\n",
       "      <td>1</td>\n",
       "      <td>0</td>\n",
       "      <td>0</td>\n",
       "    </tr>\n",
       "  </tbody>\n",
       "</table>\n",
       "</div>"
      ],
      "text/plain": [
       "  item_id   unknown    Action    Adventure    Animation    Children's   \\\n",
       "0       1          0         0            0            1             1   \n",
       "1       2          0         1            1            0             0   \n",
       "2       3          0         0            0            0             0   \n",
       "3       4          0         1            0            0             0   \n",
       "4       5          0         0            0            0             0   \n",
       "\n",
       "    Comedy    Crime    Documentary    Drama    Fantasy    Film-Noir   \\\n",
       "0         1        0              0        0          0            0   \n",
       "1         0        0              0        0          0            0   \n",
       "2         0        0              0        0          0            0   \n",
       "3         1        0              0        1          0            0   \n",
       "4         0        1              0        1          0            0   \n",
       "\n",
       "    Horror    Musical    Mystery    Romance    Sci-Fi    Thriller    War   \\\n",
       "0         0          0          0          0         0           0      0   \n",
       "1         0          0          0          0         0           1      0   \n",
       "2         0          0          0          0         0           1      0   \n",
       "3         0          0          0          0         0           0      0   \n",
       "4         0          0          0          0         0           1      0   \n",
       "\n",
       "    Western  \n",
       "0         0  \n",
       "1         0  \n",
       "2         0  \n",
       "3         0  \n",
       "4         0  "
      ]
     },
     "execution_count": 303,
     "metadata": {},
     "output_type": "execute_result"
    }
   ],
   "source": [
    "dataset.user_id = dataset.user_id.astype('category')\n",
    "dataset.item_id = dataset.item_id.astype('category')\n",
    "df_item = pd.read_csv('u.item.csv', sep='|')\n",
    "df_item  = df_item.drop([' video release date ',' movie title ', ' release date ',' IMDb URL '], axis=1)\n",
    "df_item = df_item.rename(columns={'movie id ': 'item_id'})\n",
    "df_item.item_id = df_item.item_id.astype('category')\n",
    "df_item.head()"
   ]
  },
  {
   "cell_type": "code",
   "execution_count": 304,
   "metadata": {},
   "outputs": [
    {
     "data": {
      "text/plain": [
       " unknown           2\n",
       " Action          251\n",
       " Adventure       135\n",
       " Animation        42\n",
       " Children's      122\n",
       " Comedy          505\n",
       " Crime           109\n",
       " Documentary      50\n",
       " Drama           725\n",
       " Fantasy          22\n",
       " Film-Noir        24\n",
       " Horror           92\n",
       " Musical          56\n",
       " Mystery          61\n",
       " Romance         247\n",
       " Sci-Fi          101\n",
       " Thriller        251\n",
       " War              71\n",
       " Western          27\n",
       "dtype: int64"
      ]
     },
     "execution_count": 304,
     "metadata": {},
     "output_type": "execute_result"
    }
   ],
   "source": [
    "np.sum(df_item.iloc[:,1:])"
   ]
  },
  {
   "cell_type": "code",
   "execution_count": 305,
   "metadata": {},
   "outputs": [
    {
     "name": "stdout",
     "output_type": "stream",
     "text": [
      "__________________________________________________________________________________________________\n",
      "Layer (type)                    Output Shape         Param #     Connected to                     \n",
      "==================================================================================================\n",
      "Item (InputLayer)               (None, 1)            0                                            \n",
      "__________________________________________________________________________________________________\n",
      "User (InputLayer)               (None, 1)            0                                            \n",
      "__________________________________________________________________________________________________\n",
      "Movie-Embedding (Embedding)     (None, 1, 3)         5046        Item[0][0]                       \n",
      "__________________________________________________________________________________________________\n",
      "User-Embedding (Embedding)      (None, 1, 3)         2829        User[0][0]                       \n",
      "__________________________________________________________________________________________________\n",
      "FlattenMovies (Flatten)         (None, 3)            0           Movie-Embedding[0][0]            \n",
      "__________________________________________________________________________________________________\n",
      "FlattenUsers (Flatten)          (None, 3)            0           User-Embedding[0][0]             \n",
      "__________________________________________________________________________________________________\n",
      "dot (Merge)                     (None, 1)            0           FlattenMovies[0][0]              \n",
      "                                                                 FlattenUsers[0][0]               \n",
      "==================================================================================================\n",
      "Total params: 7,875\n",
      "Trainable params: 7,875\n",
      "Non-trainable params: 0\n",
      "__________________________________________________________________________________________________\n"
     ]
    }
   ],
   "source": [
    "model.summary()"
   ]
  },
  {
   "cell_type": "code",
   "execution_count": 306,
   "metadata": {},
   "outputs": [],
   "source": [
    "def extract_weights(name, model):\n",
    "    \"\"\"Extract weights from a neural network model\"\"\"\n",
    "    \n",
    "    # Extract weights\n",
    "    weight_layer = model.get_layer(name)\n",
    "    weights = weight_layer.get_weights()[0]\n",
    "    return weights"
   ]
  },
  {
   "cell_type": "code",
   "execution_count": 312,
   "metadata": {},
   "outputs": [
    {
     "data": {
      "text/plain": [
       "(1682, 3)"
      ]
     },
     "execution_count": 312,
     "metadata": {},
     "output_type": "execute_result"
    }
   ],
   "source": [
    "movie_weights_class = extract_weights('Movie-Embedding', model)\n",
    "movie_weights_class.shape"
   ]
  },
  {
   "cell_type": "code",
   "execution_count": 313,
   "metadata": {},
   "outputs": [],
   "source": [
    "from numpy import inf\n",
    "movie_weights_class[book_weights_class == -inf] = 0.00000001\n",
    "movie_weights_class[book_weights_class == inf] = 0.00000001"
   ]
  },
  {
   "cell_type": "code",
   "execution_count": 314,
   "metadata": {},
   "outputs": [
    {
     "data": {
      "text/plain": [
       "array([[-0.04642217, -0.02398821, -0.02743158],\n",
       "       [-1.0905325 ,  1.0866733 , -1.2740554 ],\n",
       "       [-0.8156723 ,  1.0321218 , -0.979427  ],\n",
       "       ...,\n",
       "       [-0.6990569 ,  0.66672176, -0.6830967 ],\n",
       "       [-0.5789149 ,  0.6634145 , -0.5749717 ],\n",
       "       [-0.67053294,  0.70951927, -0.71032554]], dtype=float32)"
      ]
     },
     "execution_count": 314,
     "metadata": {},
     "output_type": "execute_result"
    }
   ],
   "source": [
    "movie_weights_class"
   ]
  },
  {
   "cell_type": "code",
   "execution_count": null,
   "metadata": {},
   "outputs": [],
   "source": [
    "col = ['r','b']\n",
    "5,8\n",
    "idx_doc = []\n",
    "idx_chd = []\n",
    "c = []\n",
    "for i in range(movie_weights_class.shape[0]):\n",
    "    if df_item.iloc[i,8]=1:\n",
    "        idx_doc.append(i)\n",
    "        c.append(col[0])\n",
    "    elif df_item.iloc[i,8]=1:\n",
    "        idx_chd.append(i)\n",
    "        c.append(col[1])\n",
    "\n"
   ]
  },
  {
   "cell_type": "code",
   "execution_count": 315,
   "metadata": {},
   "outputs": [
    {
     "ename": "TypeError",
     "evalue": "list indices must be integers or slices, not Series",
     "output_type": "error",
     "traceback": [
      "\u001b[1;31m---------------------------------------------------------------------------\u001b[0m",
      "\u001b[1;31mTypeError\u001b[0m                                 Traceback (most recent call last)",
      "\u001b[1;32m<ipython-input-315-b27ac237955d>\u001b[0m in \u001b[0;36m<module>\u001b[1;34m()\u001b[0m\n\u001b[0;32m      8\u001b[0m \u001b[0max\u001b[0m \u001b[1;33m=\u001b[0m \u001b[0mfig\u001b[0m\u001b[1;33m.\u001b[0m\u001b[0madd_subplot\u001b[0m\u001b[1;33m(\u001b[0m\u001b[1;36m111\u001b[0m\u001b[1;33m,\u001b[0m \u001b[0mprojection\u001b[0m\u001b[1;33m=\u001b[0m\u001b[1;34m'3d'\u001b[0m\u001b[1;33m)\u001b[0m\u001b[1;33m\u001b[0m\u001b[0m\n\u001b[0;32m      9\u001b[0m \u001b[1;32mfor\u001b[0m \u001b[0mi\u001b[0m \u001b[1;32min\u001b[0m \u001b[0mrange\u001b[0m\u001b[1;33m(\u001b[0m\u001b[0mbook_weights_class\u001b[0m\u001b[1;33m.\u001b[0m\u001b[0mshape\u001b[0m\u001b[1;33m[\u001b[0m\u001b[1;36m0\u001b[0m\u001b[1;33m]\u001b[0m\u001b[1;33m-\u001b[0m\u001b[1;36m1\u001b[0m\u001b[1;33m)\u001b[0m\u001b[1;33m:\u001b[0m\u001b[1;33m\u001b[0m\u001b[0m\n\u001b[1;32m---> 10\u001b[1;33m     \u001b[0max\u001b[0m\u001b[1;33m.\u001b[0m\u001b[0mscatter\u001b[0m\u001b[1;33m(\u001b[0m\u001b[0mbook_weights_class\u001b[0m\u001b[1;33m[\u001b[0m\u001b[0mi\u001b[0m\u001b[1;33m,\u001b[0m\u001b[1;36m0\u001b[0m\u001b[1;33m]\u001b[0m\u001b[1;33m,\u001b[0m\u001b[0mbook_weights_class\u001b[0m\u001b[1;33m[\u001b[0m\u001b[0mi\u001b[0m\u001b[1;33m,\u001b[0m\u001b[1;36m1\u001b[0m\u001b[1;33m]\u001b[0m\u001b[1;33m,\u001b[0m\u001b[0mbook_weights_class\u001b[0m\u001b[1;33m[\u001b[0m\u001b[0mi\u001b[0m\u001b[1;33m+\u001b[0m\u001b[1;36m1\u001b[0m\u001b[1;33m,\u001b[0m\u001b[1;36m2\u001b[0m\u001b[1;33m]\u001b[0m\u001b[1;33m,\u001b[0m\u001b[0mc\u001b[0m\u001b[1;33m=\u001b[0m\u001b[0mc\u001b[0m\u001b[1;33m[\u001b[0m\u001b[0mdatauser\u001b[0m\u001b[1;33m.\u001b[0m\u001b[0miloc\u001b[0m\u001b[1;33m[\u001b[0m\u001b[0mi\u001b[0m\u001b[1;33m,\u001b[0m\u001b[1;33m]\u001b[0m\u001b[1;33m]\u001b[0m\u001b[1;33m)\u001b[0m\u001b[1;33m\u001b[0m\u001b[0m\n\u001b[0m",
      "\u001b[1;31mTypeError\u001b[0m: list indices must be integers or slices, not Series"
     ]
    },
    {
     "data": {
      "image/png": "[encoded data removed]",
      "text/plain": [
       "<Figure size 432x288 with 1 Axes>"
      ]
     },
     "metadata": {},
     "output_type": "display_data"
    }
   ],
   "source": [
    "import matplotlib.pyplot as plt\n",
    "import numpy as np"
   ]
  },
  {
   "cell_type": "code",
   "execution_count": null,
   "metadata": {},
   "outputs": [],
   "source": [
    "c = ['r','b']"
   ]
  },
  {
   "cell_type": "code",
   "execution_count": 320,
   "metadata": {},
   "outputs": [],
   "source": [
    "plt.show()\n",
    "color = np.zeros(1682,dtype=np.str)\n",
    "s = np.zeros(1682)\n",
    "\n",
    "for i in range(len(color)):\n",
    "    color[i]=c[df_item.iloc[i,9]]\n",
    "    if df_item.iloc[i,9] == 0:\n",
    "        s[i]=1\n",
    "    else:\n",
    "        s[i]=1"
   ]
  },
  {
   "cell_type": "code",
   "execution_count": 321,
   "metadata": {},
   "outputs": [
    {
     "data": {
      "text/plain": [
       "<matplotlib.collections.PathCollection at 0x1dc663d84e0>"
      ]
     },
     "execution_count": 321,
     "metadata": {},
     "output_type": "execute_result"
    },
    {
     "data": {
      "image/png": "[encoded data removed]",
      "text/plain": [
       "<Figure size 432x288 with 1 Axes>"
      ]
     },
     "metadata": {},
     "output_type": "display_data"
    }
   ],
   "source": [
    "# Plot embedding\n",
    "plt.scatter(book_weights_class[:, 0], book_weights_class[:, 1],c=c,s=s)"
   ]
  },
  {
   "cell_type": "code",
   "execution_count": 322,
   "metadata": {},
   "outputs": [
    {
     "data": {
      "text/plain": [
       "<matplotlib.collections.PathCollection at 0x1dc6643c710>"
      ]
     },
     "execution_count": 322,
     "metadata": {},
     "output_type": "execute_result"
    },
    {
     "data": {
      "image/png": "[encoded data removed]",
      "text/plain": [
       "<Figure size 432x288 with 1 Axes>"
      ]
     },
     "metadata": {},
     "output_type": "display_data"
    }
   ],
   "source": [
    "# Plot embedding\n",
    "plt.scatter(book_weights_class[:, 1], book_weights_class[:, 2],c=color,s=s)"
   ]
  },
  {
   "cell_type": "code",
   "execution_count": 323,
   "metadata": {},
   "outputs": [
    {
     "data": {
      "text/plain": [
       "<matplotlib.collections.PathCollection at 0x1dc664a3c88>"
      ]
     },
     "execution_count": 323,
     "metadata": {},
     "output_type": "execute_result"
    },
    {
     "data": {
      "image/png": "[encoded data removed]",
      "text/plain": [
       "<Figure size 432x288 with 1 Axes>"
      ]
     },
     "metadata": {},
     "output_type": "display_data"
    }
   ],
   "source": [
    "# Plot embedding\n",
    "plt.scatter(book_weights_class[:, 0], book_weights_class[:, 2],c=color,s=s)"
   ]
  },
  {
   "cell_type": "code",
   "execution_count": null,
   "metadata": {},
   "outputs": [],
   "source": []
  },
  {
   "cell_type": "code",
   "execution_count": null,
   "metadata": {},
   "outputs": [],
   "source": []
  },
  {
   "cell_type": "code",
   "execution_count": null,
   "metadata": {},
   "outputs": [],
   "source": []
  }
 ],
 "metadata": {
  "kernelspec": {
   "display_name": "Python 3",
   "language": "python",
   "name": "python3"
  },
  "language_info": {
   "codemirror_mode": {
    "name": "ipython",
    "version": 3
   },
   "file_extension": ".py",
   "mimetype": "text/x-python",
   "name": "python",
   "nbconvert_exporter": "python",
   "pygments_lexer": "ipython3",
   "version": "3.6.5"
  }
 },
 "nbformat": 4,
 "nbformat_minor": 2
}
