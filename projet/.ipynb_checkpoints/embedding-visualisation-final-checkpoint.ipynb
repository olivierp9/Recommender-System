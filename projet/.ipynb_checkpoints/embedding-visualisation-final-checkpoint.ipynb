{
 "cells": [
  {
   "cell_type": "markdown",
   "metadata": {},
   "source": [
    "### Embedding\n",
    "Dans ce jupyter, on lira les donnees cree par notre predicteur et nous visualiserons ces donnees"
   ]
  },
  {
   "cell_type": "code",
   "execution_count": 1,
   "metadata": {
    "collapsed": true
   },
   "outputs": [],
   "source": [
    "### Si données locales\n",
    "library(Matrix)\n",
    "u.user <- read.csv(file='u.user.csv', sep='|', header=T)\n",
    "u.item <- read.csv(file='u.item.csv', sep='|', header=T)\n",
    "u.data <- read.csv(file='u.data.csv', sep='|', header=T)\n",
    "\n",
    "m.sparse <- sparseMatrix(u.data[,1],u.data[,2],x=u.data[,3])\n",
    "rownames(m.sparse) <- paste('u', 1:nrow(m.sparse), sep='')\n",
    "colnames(m.sparse) <- paste('i', 1:ncol(m.sparse), sep='')\n",
    "\n",
    "m <- as.matrix(m.sparse)                # transforme en matrice ordinaire\n",
    "m.na <- m\n",
    "m.na[m.na==0] <- NA\n",
    "\n",
    "# Cosinus normal des lignes d'une matrice\n",
    "matrix.cos <- function(m) {\n",
    "     (m %*% t(m)) / ( t(matrix(sqrt(rowSums(m^2)),nrow(m),nrow(m)))\n",
    "                    * (sqrt(rowSums(m^2))) )\n",
    "}\n",
    "# on normalise les ages\n",
    "u.user.norm <- u.user\n",
    "u.user.norm$age = (u.user.norm$age - min(u.user.norm$age)) / (max(u.user.norm$age) - min(u.user.norm$age))\n",
    "\n",
    "# on normalise les votes\n",
    "u.data.norm <- u.data\n",
    "u.data.norm$rating = (u.data.norm$rating - min(u.data.norm$rating)) / (max(u.data.norm$rating) - min(u.data.norm$rating))\n",
    "\n",
    "m.na.norm <- m.na/5\n",
    "m.norm <- m/5\n",
    "\n"
   ]
  },
  {
   "cell_type": "code",
   "execution_count": 2,
   "metadata": {
    "collapsed": true
   },
   "outputs": [],
   "source": [
    "mae <- function(m1, m2) mean(abs(m1 - m2), na.rm=T)"
   ]
  },
  {
   "cell_type": "code",
   "execution_count": 3,
   "metadata": {
    "collapsed": true
   },
   "outputs": [],
   "source": [
    "new.m.cv <- function(dimRedu){\n",
    "# matrice diagonale pour réduire les matrices originales\n",
    "m.d2 <- diag(c(m.svd$d[1:dimRedu],rep(0,length(m.svd$d)-dimRedu)))\n",
    "# nouvelle matrice basée sur les deux premières dimensions uniquement\n",
    "m.svd2 <- round((m.svd$u %*% m.d2 %*% t(m.svd$v)),2)\n",
    "mae(m.svd2[i.test.c], m.na[i.test.c])\n",
    "    }\n"
   ]
  },
  {
   "cell_type": "code",
   "execution_count": 4,
   "metadata": {},
   "outputs": [],
   "source": [
    "to.plot <- c()\n",
    "cv.c <- c()\n",
    "for (i in seq_len(5)){\n",
    "m1 <- read.csv(file=paste(\"out/embed/m\",toString(i),\".csv\", sep = \"\"), sep = \",\",header = F) # drops the rownames\n",
    "\n",
    "test1 <- read.csv(file=paste(\"out/embed/test\",toString(i),\".csv\", sep = \"\"), sep = \",\",header = F) # drops the rownames\n",
    "test1 <- unlist(test1)\n",
    "i.test.c <- rep(FALSE,943*1682)\n",
    "for (j in seq_len(length(test1))){\n",
    "    i.test.c[943*(u.data[test1[j]+1,2]-1)+u.data[test1[j]+1,1]]<-TRUE\n",
    "}\n",
    "    m1[m1==0]<-NA\n",
    "    m1[is.na(m1)]<-rep(rowMeans(m1,na.rm=T),1682)[is.na(m1)]\n",
    "    m1[is.na(m1)]<-rep(colMeans(m1,na.rm=T),943)[is.na(m1)]\n",
    "m.train <- m1\n",
    "cv.c <- c(cv.c ,mae(as.matrix(m1)[i.test.c],m.na[i.test.c]))\n",
    "m.svd <- svd(m.train)\n",
    "to.plot<-rbind(to.plot,unlist(lapply(seq(22), new.m.cv)))\n",
    "\n",
    "}\n",
    "to.plot<-apply(to.plot,2,unlist)\n",
    "sdev <- apply(to.plot,2,sd) \n",
    "avg <- colMeans(to.plot)\n",
    "x <- 1:length(avg)"
   ]
  },
  {
   "cell_type": "code",
   "execution_count": 5,
   "metadata": {},
   "outputs": [
    {
     "data": {
      "image/png": "[encoded data removed]",
      "text/plain": [
       "Plot with title \"Embedding\""
      ]
     },
     "metadata": {},
     "output_type": "display_data"
    }
   ],
   "source": [
    "plot(x,colMeans(to.plot),ylim=range(c(avg-sdev, avg+sdev)),pch=19, xlab=\"Dimensions\", ylab=\"MAE +/- SD\",\n",
    "    main=\"Embedding\"\n",
    ")\n",
    "# hack: we draw arrows but with very special \"arrowheads\"\n",
    "arrows(x, avg-sdev, x, avg+sdev, length=0.05, angle=90, code=3)"
   ]
  },
  {
   "cell_type": "code",
   "execution_count": 6,
   "metadata": {},
   "outputs": [
    {
     "data": {
      "text/html": [
       "0.729708167096138"
      ],
      "text/latex": [
       "0.729708167096138"
      ],
      "text/markdown": [
       "0.729708167096138"
      ],
      "text/plain": [
       "[1] 0.7297082"
      ]
     },
     "metadata": {},
     "output_type": "display_data"
    }
   ],
   "source": [
    "mean(cv.c)"
   ]
  },
  {
   "cell_type": "code",
   "execution_count": null,
   "metadata": {
    "collapsed": true
   },
   "outputs": [],
   "source": [
    "avg"
   ]
  },
  {
   "cell_type": "code",
   "execution_count": 7,
   "metadata": {
    "collapsed": true
   },
   "outputs": [],
   "source": [
    "write.table(avg, file=\"out/total/embed.csv\")"
   ]
  },
  {
   "cell_type": "code",
   "execution_count": null,
   "metadata": {
    "collapsed": true
   },
   "outputs": [],
   "source": []
  }
 ],
 "metadata": {
  "kernelspec": {
   "display_name": "R",
   "language": "R",
   "name": "ir"
  },
  "language_info": {
   "codemirror_mode": "r",
   "file_extension": ".r",
   "mimetype": "text/x-r-source",
   "name": "R",
   "pygments_lexer": "r",
   "version": "3.5.1"
  }
 },
 "nbformat": 4,
 "nbformat_minor": 2
}
