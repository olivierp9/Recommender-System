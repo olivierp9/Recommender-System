{
 "cells": [
  {
   "cell_type": "markdown",
   "metadata": {},
   "source": [
    "### Moyenne\n",
    "Dans ce jupyter notebook on fera une validation croisée(5-fold) pour la technique de la moyenne de la moyenne de chaque ligne et colonne.\n",
    "Par la suite, on imputera toute la matrice et SVD sera appliquée. On fera un validation croisée(5-fold) de ce résultat aussi pour chaque dimension."
   ]
  },
  {
   "cell_type": "code",
   "execution_count": 10,
   "metadata": {
    "collapsed": true
   },
   "outputs": [],
   "source": [
    "### Lectures des donnees et fonctions\n",
    "u.user <- read.csv(file='u.user.csv', sep='|', header=T)\n",
    "u.item <- read.csv(file='u.item.csv', sep='|', header=T)\n",
    "u.data <- read.csv(file='u.data.csv', sep='|', header=T)\n",
    "library(Matrix)\n",
    "m.sparse <- sparseMatrix(u.data[,1],u.data[,2],x=u.data[,3])\n",
    "rownames(m.sparse) <- paste('u', 1:nrow(m.sparse), sep='')\n",
    "colnames(m.sparse) <- paste('i', 1:ncol(m.sparse), sep='')\n",
    "mae <- function(m1, m2) mean(abs(m1 - m2), na.rm=T)\n",
    "\n",
    "m <- as.matrix(m.sparse)                # transforme en matrice ordinaire\n",
    "m.na <- m\n",
    "m.na[m.na==0] <- NA\n",
    "mae.rmse <- function(m, m.hat) {\n",
    "    return(list(mae=mean(abs(m - m.hat), na.rm=T), rmse=sqrt(mean((m - m.hat)^2, na.rm=T))))\n",
    "}\n",
    "new.m.mae.rmse <- function(dimRedu){\n",
    "# matrice diagonale pour réduire les matrices originales\n",
    "m.d2 <- diag(c(m.svd$d[1:dimRedu],rep(0,length(m.svd$d)-dimRedu)))\n",
    "# nouvelle matrice basée sur les deux premières dimensions uniquement\n",
    "m.svd2 <- round((m.svd$u %*% m.d2 %*% t(m.svd$v)),2)\n",
    "mae.rmse(m.svd2, m)\n",
    "    }"
   ]
  },
  {
   "cell_type": "code",
   "execution_count": 11,
   "metadata": {
    "collapsed": true
   },
   "outputs": [],
   "source": [
    "# fonction de reduction de dimensions et calcul de MAE\n",
    "new.m.cv <- function(dimRedu){\n",
    "# matrice diagonale pour réduire les matrices originales\n",
    "m.d2 <- diag(c(m.svd$d[1:dimRedu],rep(0,length(m.svd$d)-dimRedu)))\n",
    "# nouvelle matrice basée sur les deux premières dimensions uniquement\n",
    "m.svd2 <- round((m.svd$u %*% m.d2 %*% t(m.svd$v)),2)+r.means\n",
    "mae(m.svd2[i.test.b], m.na[i.test.b])\n",
    "    }\n"
   ]
  },
  {
   "cell_type": "code",
   "execution_count": null,
   "metadata": {
    "collapsed": true
   },
   "outputs": [],
   "source": []
  },
  {
   "cell_type": "code",
   "execution_count": 12,
   "metadata": {},
   "outputs": [
    {
     "data": {
      "text/plain": [
       "   user  system elapsed \n",
       " 24.798   0.226  25.040 "
      ]
     },
     "metadata": {},
     "output_type": "display_data"
    }
   ],
   "source": [
    "# creation du 5-fold\n",
    "i.observed <- which(m > 0)\n",
    "i.hasard <- sample(i.observed, length(i.observed))\n",
    "fold.size <- round(length(i.hasard) / 5)\n",
    "i.false <- rep(FALSE, length(m))\n",
    "to.plot <- c()\n",
    "set.seed(1)\n",
    "cv.b <- c()\n",
    "ptm <- proc.time()\n",
    "# iteration pour les 5fold\n",
    "for (i in seq_len(5)){\n",
    "    fold.number <- i\n",
    "\n",
    "    ## Index booléen pour les cellules de test et d'entraînement\n",
    "    i.test.b <- i.false\n",
    "    ## Les cellules indexées du replis correspondant sont fixées à TRUE pour le test...\n",
    "    i.test.b[ i.hasard[((fold.number-1) * fold.size):((fold.number) * fold.size)] ] <- TRUE\n",
    "    ## ...et à FALSE pour l'entraînement\n",
    "    i.train.b <-  !i.test.b\n",
    "    m.train <- m\n",
    "    m.train[i.test.b] <- 0                # on enlève les données de test pour l'entraînement\n",
    "    m.train.na <- m.train\n",
    "    m.train.na[m.train==0]<-NA\n",
    "    # moyenne des lignes et colonnes\n",
    "    u.mean <- matrix(rowMeans(m.train.na, na.rm=T), nrow(m), ncol(m))\n",
    "    item.mean <- matrix(colMeans(m.train.na, na.rm=T), nrow(m), ncol(m), byrow=T)\n",
    "    # imputation\n",
    "    m.expect <- ((u.mean + item.mean)/2)\n",
    "\n",
    "    m.train.na[m.train==0] <-m.expect[m.train==0]\n",
    "    r.means <- rowMeans(m.train.na,na.rm=T)\n",
    "    # remplissage des colonnes vides\n",
    "    m.train.na[!is.finite(m.train.na)]<- r.means\n",
    "    r.means <- rowMeans(m.train.na,na.rm=T)\n",
    "    cv.b <- c(cv.b,mae(m.train.na[i.test.b], m.na[i.test.b]))\n",
    "    m.train.na <- m.train.na-r.means\n",
    "    m.svd <- svd(m.train.na)\n",
    "    # sauvegarde les donnees du fold\n",
    "    to.plot<-rbind(to.plot,unlist(lapply(seq(22), new.m.cv)))\n",
    "    }\n",
    "# calcule du temps par fold\n",
    "(proc.time()-ptm)/5\n"
   ]
  },
  {
   "cell_type": "code",
   "execution_count": 13,
   "metadata": {
    "collapsed": true
   },
   "outputs": [],
   "source": [
    "to.plot<-apply(to.plot,2,unlist)"
   ]
  },
  {
   "cell_type": "code",
   "execution_count": 14,
   "metadata": {},
   "outputs": [],
   "source": [
    "sdev <- apply(to.plot,2,sd) \n",
    "avg <- colMeans(to.plot)\n",
    "x <- 1:length(avg)"
   ]
  },
  {
   "cell_type": "code",
   "execution_count": 15,
   "metadata": {},
   "outputs": [
    {
     "data": {
      "image/png": "[encoded data removed]",
      "text/plain": [
       "Plot with title \"Moyenne des lignes et colonnes\""
      ]
     },
     "metadata": {},
     "output_type": "display_data"
    }
   ],
   "source": [
    "plot(x,avg,ylim = c(0.745, 0.79),pch=19, xlab=\"Dimensions\", ylab=\"MAE +/- SD\",\n",
    "    main=\"Moyenne des lignes et colonnes\"\n",
    ")\n",
    "# hack: we draw arrows but with very special \"arrowheads\"\n",
    "arrows(x, avg-sdev, x, avg+sdev, length=0.05, angle=90, code=3)"
   ]
  },
  {
   "cell_type": "markdown",
   "metadata": {},
   "source": [
    "Moyenne du MAE pour les 5fold"
   ]
  },
  {
   "cell_type": "code",
   "execution_count": 16,
   "metadata": {},
   "outputs": [
    {
     "data": {
      "text/html": [
       "0.794992125518558"
      ],
      "text/latex": [
       "0.794992125518558"
      ],
      "text/markdown": [
       "0.794992125518558"
      ],
      "text/plain": [
       "[1] 0.7949921"
      ]
     },
     "metadata": {},
     "output_type": "display_data"
    }
   ],
   "source": [
    "mean(cv.b)"
   ]
  },
  {
   "cell_type": "markdown",
   "metadata": {},
   "source": [
    "Moyenne du MAE par dimension pour les 5fold"
   ]
  },
  {
   "cell_type": "code",
   "execution_count": 8,
   "metadata": {},
   "outputs": [
    {
     "data": {
      "text/html": [
       "<ol class=list-inline>\n",
       "\t<li>0.780074037464412</li>\n",
       "\t<li>0.768820121717284</li>\n",
       "\t<li>0.763938579943907</li>\n",
       "\t<li>0.762787987970608</li>\n",
       "\t<li>0.761007202736564</li>\n",
       "\t<li>0.759194191033631</li>\n",
       "\t<li>0.7570446945019</li>\n",
       "\t<li>0.756361894478355</li>\n",
       "\t<li>0.755586440691806</li>\n",
       "\t<li>0.755105356771697</li>\n",
       "\t<li>0.755253474331357</li>\n",
       "\t<li>0.75495645761418</li>\n",
       "\t<li>0.755089322717529</li>\n",
       "\t<li>0.755142831374574</li>\n",
       "\t<li>0.755397600801894</li>\n",
       "\t<li>0.755725935448557</li>\n",
       "\t<li>0.755970802350013</li>\n",
       "\t<li>0.75613404637839</li>\n",
       "\t<li>0.756384772443467</li>\n",
       "\t<li>0.756941345900813</li>\n",
       "\t<li>0.75701246374557</li>\n",
       "\t<li>0.756846630156335</li>\n",
       "</ol>\n"
      ],
      "text/latex": [
       "\\begin{enumerate*}\n",
       "\\item 0.780074037464412\n",
       "\\item 0.768820121717284\n",
       "\\item 0.763938579943907\n",
       "\\item 0.762787987970608\n",
       "\\item 0.761007202736564\n",
       "\\item 0.759194191033631\n",
       "\\item 0.7570446945019\n",
       "\\item 0.756361894478355\n",
       "\\item 0.755586440691806\n",
       "\\item 0.755105356771697\n",
       "\\item 0.755253474331357\n",
       "\\item 0.75495645761418\n",
       "\\item 0.755089322717529\n",
       "\\item 0.755142831374574\n",
       "\\item 0.755397600801894\n",
       "\\item 0.755725935448557\n",
       "\\item 0.755970802350013\n",
       "\\item 0.75613404637839\n",
       "\\item 0.756384772443467\n",
       "\\item 0.756941345900813\n",
       "\\item 0.75701246374557\n",
       "\\item 0.756846630156335\n",
       "\\end{enumerate*}\n"
      ],
      "text/markdown": [
       "1. 0.780074037464412\n",
       "2. 0.768820121717284\n",
       "3. 0.763938579943907\n",
       "4. 0.762787987970608\n",
       "5. 0.761007202736564\n",
       "6. 0.759194191033631\n",
       "7. 0.7570446945019\n",
       "8. 0.756361894478355\n",
       "9. 0.755586440691806\n",
       "10. 0.755105356771697\n",
       "11. 0.755253474331357\n",
       "12. 0.75495645761418\n",
       "13. 0.755089322717529\n",
       "14. 0.755142831374574\n",
       "15. 0.755397600801894\n",
       "16. 0.755725935448557\n",
       "17. 0.755970802350013\n",
       "18. 0.75613404637839\n",
       "19. 0.756384772443467\n",
       "20. 0.756941345900813\n",
       "21. 0.75701246374557\n",
       "22. 0.756846630156335\n",
       "\n",
       "\n"
      ],
      "text/plain": [
       " [1] 0.7800740 0.7688201 0.7639386 0.7627880 0.7610072 0.7591942 0.7570447\n",
       " [8] 0.7563619 0.7555864 0.7551054 0.7552535 0.7549565 0.7550893 0.7551428\n",
       "[15] 0.7553976 0.7557259 0.7559708 0.7561340 0.7563848 0.7569413 0.7570125\n",
       "[22] 0.7568466"
      ]
     },
     "metadata": {},
     "output_type": "display_data"
    }
   ],
   "source": [
    "avg"
   ]
  },
  {
   "cell_type": "markdown",
   "metadata": {},
   "source": [
    "On ecrit la valeur dans un fichier pour utilisation future"
   ]
  },
  {
   "cell_type": "code",
   "execution_count": 9,
   "metadata": {
    "collapsed": true
   },
   "outputs": [],
   "source": [
    "write.table(avg, file=\"out/total/mean.csv\",sep=\"\")"
   ]
  },
  {
   "cell_type": "code",
   "execution_count": null,
   "metadata": {
    "collapsed": true
   },
   "outputs": [],
   "source": []
  }
 ],
 "metadata": {
  "kernelspec": {
   "display_name": "R",
   "language": "R",
   "name": "ir"
  },
  "language_info": {
   "codemirror_mode": "r",
   "file_extension": ".r",
   "mimetype": "text/x-r-source",
   "name": "R",
   "pygments_lexer": "r",
   "version": "3.5.1"
  }
 },
 "nbformat": 4,
 "nbformat_minor": 2
}
