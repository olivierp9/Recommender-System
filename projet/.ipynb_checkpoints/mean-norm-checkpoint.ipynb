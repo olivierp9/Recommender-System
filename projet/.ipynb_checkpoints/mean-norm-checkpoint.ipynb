{
 "cells": [
  {
   "cell_type": "code",
   "execution_count": 17,
   "metadata": {},
   "outputs": [],
   "source": [
    "### Si données locales\n",
    "u.user <- read.csv(file='u.user.csv', sep='|', header=T)\n",
    "u.item <- read.csv(file='u.item.csv', sep='|', header=T)\n",
    "u.data <- read.csv(file='u.data.csv', sep='|', header=T)\n",
    "library(Matrix)\n",
    "m.sparse <- sparseMatrix(u.data[,1],u.data[,2],x=u.data[,3])\n",
    "rownames(m.sparse) <- paste('u', 1:nrow(m.sparse), sep='')\n",
    "colnames(m.sparse) <- paste('i', 1:ncol(m.sparse), sep='')\n",
    "mae <- function(m1, m2) mean(abs(m1 - m2), na.rm=T)\n",
    "\n",
    "m <- as.matrix(m.sparse)                # transforme en matrice ordinaire\n",
    "m.na <- m\n",
    "m.na[m.na==0] <- NA\n",
    "mae.rmse <- function(m, m.hat) {\n",
    "    return(list(mae=mean(abs(m - m.hat), na.rm=T), rmse=sqrt(mean((m - m.hat)^2, na.rm=T))))\n",
    "}\n",
    "new.m.mae.rmse <- function(dimRedu){\n",
    "# matrice diagonale pour réduire les matrices originales\n",
    "m.d2 <- diag(c(m.svd$d[1:dimRedu],rep(0,length(m.svd$d)-dimRedu)))\n",
    "# nouvelle matrice basée sur les deux premières dimensions uniquement\n",
    "m.svd2 <- round((m.svd$u %*% m.d2 %*% t(m.svd$v)),2)\n",
    "mae.rmse(m.svd2, m)\n",
    "    }"
   ]
  },
  {
   "cell_type": "code",
   "execution_count": 18,
   "metadata": {},
   "outputs": [],
   "source": [
    "new.m.cv <- function(dimRedu){\n",
    "# matrice diagonale pour réduire les matrices originales\n",
    "m.d2 <- diag(c(m.svd$d[1:dimRedu],rep(0,length(m.svd$d)-dimRedu)))\n",
    "# nouvelle matrice basée sur les deux premières dimensions uniquement\n",
    "m.svd2 <- round((m.svd$u %*% m.d2 %*% t(m.svd$v)),2)+r.means\n",
    "mae(m.svd2[i.test.b], m.na[i.test.b])\n",
    "    }\n",
    "to.plot <- c()"
   ]
  },
  {
   "cell_type": "code",
   "execution_count": 19,
   "metadata": {},
   "outputs": [
    {
     "data": {
      "text/html": [
       "100000"
      ],
      "text/latex": [
       "100000"
      ],
      "text/markdown": [
       "100000"
      ],
      "text/plain": [
       "[1] 100000"
      ]
     },
     "metadata": {},
     "output_type": "display_data"
    }
   ],
   "source": [
    "i.observed <- which(m > 0)\n",
    "i.hasard <- sample(i.observed, length(i.observed))\n",
    "length(i.hasard)\n",
    "fold.size <- round(length(i.hasard) / 5)\n",
    "i.false <- rep(FALSE, length(m))\n",
    "for (i in seq_len(5)){\n",
    "fold.number <- i\n",
    "\n",
    "## Index booléen pour les cellules de test et d'entraînement\n",
    "i.test.b <- i.false\n",
    "## Les cellules indexées du replis correspondant sont fixées à TRUE pour le test...\n",
    "i.test.b[ i.hasard[((fold.number-1) * fold.size):((fold.number) * fold.size)] ] <- TRUE\n",
    "## ...et à FALSE pour l'entraînement\n",
    "i.train.b <-  !i.test.b\n",
    "m.train <- m\n",
    "m.train[i.test.b] <- 0                # on enlève les données de test pour l'entraînement\n",
    "m.train.na <- m.train\n",
    "m.train.na[m.train==0]<-NA\n",
    "    \n",
    "u.mean <- matrix(rowMeans(m.train.na, na.rm=T), nrow(m), ncol(m))\n",
    "item.mean <- matrix(colMeans(m.train.na, na.rm=T), nrow(m), ncol(m), byrow=T)\n",
    "m.expect <- ((u.mean + item.mean)/2)\n",
    "m.train.na[m.train==0] <-m.expect[m.train==0]\n",
    "\n",
    "r.means <- rowMeans(m.train.na,na.rm=T)\n",
    "m.train.na[!is.finite(m.train.na)]<- r.means\n",
    "r.means <- rowMeans(m.train)\n",
    "m.train.na <- m.train.na-r.means\n",
    "m.svd <- svd(m.train.na)\n",
    "to.plot<-rbind(to.plot,unlist(lapply(seq(22), new.m.cv)))\n",
    "    }\n"
   ]
  },
  {
   "cell_type": "code",
   "execution_count": 20,
   "metadata": {},
   "outputs": [],
   "source": [
    "to.plot<-apply(to.plot,2,unlist)"
   ]
  },
  {
   "cell_type": "code",
   "execution_count": 21,
   "metadata": {},
   "outputs": [
    {
     "data": {
      "text/html": [
       "<table>\n",
       "<tbody>\n",
       "\t<tr><td>0.7938305</td><td>0.7809129</td><td>0.7702485</td><td>0.7697677</td><td>0.7682084</td><td>0.7667910</td><td>0.7649372</td><td>0.7624395</td><td>0.7622065</td><td>0.7621956</td><td>...      </td><td>0.7618032</td><td>0.7615540</td><td>0.7616217</td><td>0.7619948</td><td>0.7616167</td><td>0.7620427</td><td>0.7627484</td><td>0.7631566</td><td>0.7634426</td><td>0.7635823</td></tr>\n",
       "\t<tr><td>0.7811111</td><td>0.7691168</td><td>0.7583593</td><td>0.7575203</td><td>0.7560638</td><td>0.7536579</td><td>0.7524214</td><td>0.7507551</td><td>0.7495783</td><td>0.7497157</td><td>...      </td><td>0.7488202</td><td>0.7491831</td><td>0.7496781</td><td>0.7501992</td><td>0.7503646</td><td>0.7506135</td><td>0.7507817</td><td>0.7509078</td><td>0.7512706</td><td>0.7515787</td></tr>\n",
       "\t<tr><td>0.7841845</td><td>0.7714208</td><td>0.7610685</td><td>0.7601273</td><td>0.7586190</td><td>0.7572082</td><td>0.7563405</td><td>0.7540099</td><td>0.7540492</td><td>0.7529288</td><td>...      </td><td>0.7524912</td><td>0.7526152</td><td>0.7523348</td><td>0.7520519</td><td>0.7519991</td><td>0.7516941</td><td>0.7521316</td><td>0.7529773</td><td>0.7534390</td><td>0.7537545</td></tr>\n",
       "\t<tr><td>0.7899995</td><td>0.7774186</td><td>0.7671482</td><td>0.7667243</td><td>0.7653445</td><td>0.7643181</td><td>0.7624857</td><td>0.7608556</td><td>0.7606122</td><td>0.7605239</td><td>...      </td><td>0.7590821</td><td>0.7590372</td><td>0.7592958</td><td>0.7597011</td><td>0.7598978</td><td>0.7601649</td><td>0.7604986</td><td>0.7606383</td><td>0.7608919</td><td>0.7614380</td></tr>\n",
       "\t<tr><td>0.7887170</td><td>0.7767653</td><td>0.7658048</td><td>0.7653016</td><td>0.7643486</td><td>0.7624723</td><td>0.7615542</td><td>0.7594078</td><td>0.7583279</td><td>0.7581774</td><td>...      </td><td>0.7580315</td><td>0.7587516</td><td>0.7590714</td><td>0.7588240</td><td>0.7592737</td><td>0.7596008</td><td>0.7595454</td><td>0.7594052</td><td>0.7594408</td><td>0.7593937</td></tr>\n",
       "</tbody>\n",
       "</table>\n"
      ],
      "text/latex": [
       "\\begin{tabular}{llllllllllllllllllllll}\n",
       "\t 0.7938305 & 0.7809129 & 0.7702485 & 0.7697677 & 0.7682084 & 0.7667910 & 0.7649372 & 0.7624395 & 0.7622065 & 0.7621956 & ...       & 0.7618032 & 0.7615540 & 0.7616217 & 0.7619948 & 0.7616167 & 0.7620427 & 0.7627484 & 0.7631566 & 0.7634426 & 0.7635823\\\\\n",
       "\t 0.7811111 & 0.7691168 & 0.7583593 & 0.7575203 & 0.7560638 & 0.7536579 & 0.7524214 & 0.7507551 & 0.7495783 & 0.7497157 & ...       & 0.7488202 & 0.7491831 & 0.7496781 & 0.7501992 & 0.7503646 & 0.7506135 & 0.7507817 & 0.7509078 & 0.7512706 & 0.7515787\\\\\n",
       "\t 0.7841845 & 0.7714208 & 0.7610685 & 0.7601273 & 0.7586190 & 0.7572082 & 0.7563405 & 0.7540099 & 0.7540492 & 0.7529288 & ...       & 0.7524912 & 0.7526152 & 0.7523348 & 0.7520519 & 0.7519991 & 0.7516941 & 0.7521316 & 0.7529773 & 0.7534390 & 0.7537545\\\\\n",
       "\t 0.7899995 & 0.7774186 & 0.7671482 & 0.7667243 & 0.7653445 & 0.7643181 & 0.7624857 & 0.7608556 & 0.7606122 & 0.7605239 & ...       & 0.7590821 & 0.7590372 & 0.7592958 & 0.7597011 & 0.7598978 & 0.7601649 & 0.7604986 & 0.7606383 & 0.7608919 & 0.7614380\\\\\n",
       "\t 0.7887170 & 0.7767653 & 0.7658048 & 0.7653016 & 0.7643486 & 0.7624723 & 0.7615542 & 0.7594078 & 0.7583279 & 0.7581774 & ...       & 0.7580315 & 0.7587516 & 0.7590714 & 0.7588240 & 0.7592737 & 0.7596008 & 0.7595454 & 0.7594052 & 0.7594408 & 0.7593937\\\\\n",
       "\\end{tabular}\n"
      ],
      "text/markdown": [
       "\n",
       "| 0.7938305 | 0.7809129 | 0.7702485 | 0.7697677 | 0.7682084 | 0.7667910 | 0.7649372 | 0.7624395 | 0.7622065 | 0.7621956 | ...       | 0.7618032 | 0.7615540 | 0.7616217 | 0.7619948 | 0.7616167 | 0.7620427 | 0.7627484 | 0.7631566 | 0.7634426 | 0.7635823 | \n",
       "| 0.7811111 | 0.7691168 | 0.7583593 | 0.7575203 | 0.7560638 | 0.7536579 | 0.7524214 | 0.7507551 | 0.7495783 | 0.7497157 | ...       | 0.7488202 | 0.7491831 | 0.7496781 | 0.7501992 | 0.7503646 | 0.7506135 | 0.7507817 | 0.7509078 | 0.7512706 | 0.7515787 | \n",
       "| 0.7841845 | 0.7714208 | 0.7610685 | 0.7601273 | 0.7586190 | 0.7572082 | 0.7563405 | 0.7540099 | 0.7540492 | 0.7529288 | ...       | 0.7524912 | 0.7526152 | 0.7523348 | 0.7520519 | 0.7519991 | 0.7516941 | 0.7521316 | 0.7529773 | 0.7534390 | 0.7537545 | \n",
       "| 0.7899995 | 0.7774186 | 0.7671482 | 0.7667243 | 0.7653445 | 0.7643181 | 0.7624857 | 0.7608556 | 0.7606122 | 0.7605239 | ...       | 0.7590821 | 0.7590372 | 0.7592958 | 0.7597011 | 0.7598978 | 0.7601649 | 0.7604986 | 0.7606383 | 0.7608919 | 0.7614380 | \n",
       "| 0.7887170 | 0.7767653 | 0.7658048 | 0.7653016 | 0.7643486 | 0.7624723 | 0.7615542 | 0.7594078 | 0.7583279 | 0.7581774 | ...       | 0.7580315 | 0.7587516 | 0.7590714 | 0.7588240 | 0.7592737 | 0.7596008 | 0.7595454 | 0.7594052 | 0.7594408 | 0.7593937 | \n",
       "\n",
       "\n"
      ],
      "text/plain": [
       "     [,1]      [,2]      [,3]      [,4]      [,5]      [,6]      [,7]     \n",
       "[1,] 0.7938305 0.7809129 0.7702485 0.7697677 0.7682084 0.7667910 0.7649372\n",
       "[2,] 0.7811111 0.7691168 0.7583593 0.7575203 0.7560638 0.7536579 0.7524214\n",
       "[3,] 0.7841845 0.7714208 0.7610685 0.7601273 0.7586190 0.7572082 0.7563405\n",
       "[4,] 0.7899995 0.7774186 0.7671482 0.7667243 0.7653445 0.7643181 0.7624857\n",
       "[5,] 0.7887170 0.7767653 0.7658048 0.7653016 0.7643486 0.7624723 0.7615542\n",
       "     [,8]      [,9]      [,10]     [,11] [,12]     [,13]     [,14]    \n",
       "[1,] 0.7624395 0.7622065 0.7621956 ...   0.7618032 0.7615540 0.7616217\n",
       "[2,] 0.7507551 0.7495783 0.7497157 ...   0.7488202 0.7491831 0.7496781\n",
       "[3,] 0.7540099 0.7540492 0.7529288 ...   0.7524912 0.7526152 0.7523348\n",
       "[4,] 0.7608556 0.7606122 0.7605239 ...   0.7590821 0.7590372 0.7592958\n",
       "[5,] 0.7594078 0.7583279 0.7581774 ...   0.7580315 0.7587516 0.7590714\n",
       "     [,15]     [,16]     [,17]     [,18]     [,19]     [,20]     [,21]    \n",
       "[1,] 0.7619948 0.7616167 0.7620427 0.7627484 0.7631566 0.7634426 0.7635823\n",
       "[2,] 0.7501992 0.7503646 0.7506135 0.7507817 0.7509078 0.7512706 0.7515787\n",
       "[3,] 0.7520519 0.7519991 0.7516941 0.7521316 0.7529773 0.7534390 0.7537545\n",
       "[4,] 0.7597011 0.7598978 0.7601649 0.7604986 0.7606383 0.7608919 0.7614380\n",
       "[5,] 0.7588240 0.7592737 0.7596008 0.7595454 0.7594052 0.7594408 0.7593937"
      ]
     },
     "metadata": {},
     "output_type": "display_data"
    }
   ],
   "source": [
    "to.plot"
   ]
  },
  {
   "cell_type": "code",
   "execution_count": 22,
   "metadata": {},
   "outputs": [
    {
     "data": {
      "text/html": [
       "<ol class=list-inline>\n",
       "\t<li>0.00498974994797327</li>\n",
       "\t<li>0.00477678357949172</li>\n",
       "\t<li>0.00477601896897327</li>\n",
       "\t<li>0.00498256729645135</li>\n",
       "\t<li>0.00501446698285783</li>\n",
       "\t<li>0.0053604091303477</li>\n",
       "\t<li>0.00506888560749369</li>\n",
       "\t<li>0.0049237100538654</li>\n",
       "\t<li>0.00514046670650321</li>\n",
       "\t<li>0.00524426176368912</li>\n",
       "\t<li>0.00519578562637541</li>\n",
       "\t<li>0.00530738606682587</li>\n",
       "\t<li>0.00527147030600749</li>\n",
       "\t<li>0.00513099835829951</li>\n",
       "\t<li>0.0051112186540311</li>\n",
       "\t<li>0.00513109003023872</li>\n",
       "\t<li>0.00508026039247397</li>\n",
       "\t<li>0.00526767626911218</li>\n",
       "\t<li>0.00533931292242131</li>\n",
       "\t<li>0.00522861104667371</li>\n",
       "\t<li>0.00514027130643806</li>\n",
       "\t<li>0.00510315430170625</li>\n",
       "</ol>\n"
      ],
      "text/latex": [
       "\\begin{enumerate*}\n",
       "\\item 0.00498974994797327\n",
       "\\item 0.00477678357949172\n",
       "\\item 0.00477601896897327\n",
       "\\item 0.00498256729645135\n",
       "\\item 0.00501446698285783\n",
       "\\item 0.0053604091303477\n",
       "\\item 0.00506888560749369\n",
       "\\item 0.0049237100538654\n",
       "\\item 0.00514046670650321\n",
       "\\item 0.00524426176368912\n",
       "\\item 0.00519578562637541\n",
       "\\item 0.00530738606682587\n",
       "\\item 0.00527147030600749\n",
       "\\item 0.00513099835829951\n",
       "\\item 0.0051112186540311\n",
       "\\item 0.00513109003023872\n",
       "\\item 0.00508026039247397\n",
       "\\item 0.00526767626911218\n",
       "\\item 0.00533931292242131\n",
       "\\item 0.00522861104667371\n",
       "\\item 0.00514027130643806\n",
       "\\item 0.00510315430170625\n",
       "\\end{enumerate*}\n"
      ],
      "text/markdown": [
       "1. 0.00498974994797327\n",
       "2. 0.00477678357949172\n",
       "3. 0.00477601896897327\n",
       "4. 0.00498256729645135\n",
       "5. 0.00501446698285783\n",
       "6. 0.0053604091303477\n",
       "7. 0.00506888560749369\n",
       "8. 0.0049237100538654\n",
       "9. 0.00514046670650321\n",
       "10. 0.00524426176368912\n",
       "11. 0.00519578562637541\n",
       "12. 0.00530738606682587\n",
       "13. 0.00527147030600749\n",
       "14. 0.00513099835829951\n",
       "15. 0.0051112186540311\n",
       "16. 0.00513109003023872\n",
       "17. 0.00508026039247397\n",
       "18. 0.00526767626911218\n",
       "19. 0.00533931292242131\n",
       "20. 0.00522861104667371\n",
       "21. 0.00514027130643806\n",
       "22. 0.00510315430170625\n",
       "\n",
       "\n"
      ],
      "text/plain": [
       " [1] 0.004989750 0.004776784 0.004776019 0.004982567 0.005014467 0.005360409\n",
       " [7] 0.005068886 0.004923710 0.005140467 0.005244262 0.005195786 0.005307386\n",
       "[13] 0.005271470 0.005130998 0.005111219 0.005131090 0.005080260 0.005267676\n",
       "[19] 0.005339313 0.005228611 0.005140271 0.005103154"
      ]
     },
     "metadata": {},
     "output_type": "display_data"
    }
   ],
   "source": [
    "sdev <- apply(to.plot,2,sd) \n",
    "sdev\n",
    "avg <- colMeans(to.plot)\n",
    "x <- 1:length(avg)"
   ]
  },
  {
   "cell_type": "code",
   "execution_count": 23,
   "metadata": {},
   "outputs": [
    {
     "data": {
      "image/png": "[encoded data removed]",
      "text/plain": [
       "Plot with title \"Scatter plot with std.dev error bars\""
      ]
     },
     "metadata": {},
     "output_type": "display_data"
    }
   ],
   "source": [
    "plot(x,colMeans(to.plot),ylim=range(c(avg-sdev, avg+sdev)),pch=19, xlab=\"Measurements\", ylab=\"Mean +/- SD\",\n",
    "    main=\"Scatter plot with std.dev error bars\"\n",
    ")\n",
    "# hack: we draw arrows but with very special \"arrowheads\"\n",
    "arrows(x, avg-sdev, x, avg+sdev, length=0.05, angle=90, code=3)"
   ]
  },
  {
   "cell_type": "code",
   "execution_count": null,
   "metadata": {},
   "outputs": [],
   "source": []
  }
 ],
 "metadata": {
  "kernelspec": {
   "display_name": "R",
   "language": "R",
   "name": "ir"
  },
  "language_info": {
   "codemirror_mode": "r",
   "file_extension": ".r",
   "mimetype": "text/x-r-source",
   "name": "R",
   "pygments_lexer": "r",
   "version": "3.5.1"
  }
 },
 "nbformat": 4,
 "nbformat_minor": 2
}
