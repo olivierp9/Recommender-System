{
 "cells": [
  {
   "cell_type": "code",
   "execution_count": 1,
   "metadata": {},
   "outputs": [
    {
     "name": "stderr",
     "output_type": "stream",
     "text": [
      "\n",
      "Attaching package: 'bnlearn'\n",
      "\n",
      "The following object is masked from 'package:stats':\n",
      "\n",
      "    sigma\n",
      "\n"
     ]
    }
   ],
   "source": [
    "library(bnlearn)"
   ]
  },
  {
   "cell_type": "code",
   "execution_count": 2,
   "metadata": {},
   "outputs": [],
   "source": [
    "### Si données locales\n",
    "u.user <- read.csv(file='u.user.csv', sep='|', header=T)\n",
    "u.item <- read.csv(file='u.item.csv', sep='|', header=T)\n",
    "u.data <- read.csv(file='u.data.csv', sep='|', header=T)\n",
    "library(Matrix)\n",
    "m.sparse <- sparseMatrix(u.data[,1],u.data[,2],x=u.data[,3])\n",
    "rownames(m.sparse) <- paste('u', 1:nrow(m.sparse), sep='')\n",
    "colnames(m.sparse) <- paste('i', 1:ncol(m.sparse), sep='')\n",
    "mae <- function(m1, m2) mean(abs(m1 - m2), na.rm=T)\n",
    "\n",
    "m <- as.matrix(m.sparse)                # transforme en matrice ordinaire\n",
    "m.na <- m\n",
    "m.na[m.na==0] <- NA\n",
    "mae.rmse <- function(m, m.hat) {\n",
    "    return(list(mae=mean(abs(m - m.hat), na.rm=T), rmse=sqrt(mean((m - m.hat)^2, na.rm=T))))\n",
    "}\n",
    "new.m.mae.rmse <- function(dimRedu){\n",
    "# matrice diagonale pour réduire les matrices originales\n",
    "m.d2 <- diag(c(m.svd$d[1:dimRedu],rep(0,length(m.svd$d)-dimRedu)))\n",
    "# nouvelle matrice basée sur les deux premières dimensions uniquement\n",
    "m.svd2 <- round((m.svd$u %*% m.d2 %*% t(m.svd$v)),2)\n",
    "mae.rmse(m.svd2, m)\n",
    "    }"
   ]
  },
  {
   "cell_type": "code",
   "execution_count": 3,
   "metadata": {},
   "outputs": [
    {
     "data": {
      "text/html": [
       "<table>\n",
       "<thead><tr><th scope=col>user.id</th><th scope=col>age</th><th scope=col>gender</th><th scope=col>job</th></tr></thead>\n",
       "<tbody>\n",
       "\t<tr><td>1         </td><td>1         </td><td>M         </td><td>technician</td></tr>\n",
       "\t<tr><td>2         </td><td>2         </td><td>F         </td><td>other     </td></tr>\n",
       "\t<tr><td>3         </td><td>1         </td><td>M         </td><td>writer    </td></tr>\n",
       "\t<tr><td>4         </td><td>1         </td><td>M         </td><td>technician</td></tr>\n",
       "\t<tr><td>5         </td><td>1         </td><td>F         </td><td>other     </td></tr>\n",
       "\t<tr><td>6         </td><td>2         </td><td>M         </td><td>executive </td></tr>\n",
       "</tbody>\n",
       "</table>\n"
      ],
      "text/latex": [
       "\\begin{tabular}{r|llll}\n",
       " user.id & age & gender & job\\\\\n",
       "\\hline\n",
       "\t 1          & 1          & M          & technician\\\\\n",
       "\t 2          & 2          & F          & other     \\\\\n",
       "\t 3          & 1          & M          & writer    \\\\\n",
       "\t 4          & 1          & M          & technician\\\\\n",
       "\t 5          & 1          & F          & other     \\\\\n",
       "\t 6          & 2          & M          & executive \\\\\n",
       "\\end{tabular}\n"
      ],
      "text/markdown": [
       "\n",
       "user.id | age | gender | job | \n",
       "|---|---|---|---|---|---|\n",
       "| 1          | 1          | M          | technician | \n",
       "| 2          | 2          | F          | other      | \n",
       "| 3          | 1          | M          | writer     | \n",
       "| 4          | 1          | M          | technician | \n",
       "| 5          | 1          | F          | other      | \n",
       "| 6          | 2          | M          | executive  | \n",
       "\n",
       "\n"
      ],
      "text/plain": [
       "  user.id age gender job       \n",
       "1 1       1   M      technician\n",
       "2 2       2   F      other     \n",
       "3 3       1   M      writer    \n",
       "4 4       1   M      technician\n",
       "5 5       1   F      other     \n",
       "6 6       2   M      executive "
      ]
     },
     "metadata": {},
     "output_type": "display_data"
    },
    {
     "data": {
      "text/html": [
       "<table>\n",
       "<thead><tr><th scope=col>user.id</th><th scope=col>movie.id</th><th scope=col>rating</th></tr></thead>\n",
       "<tbody>\n",
       "\t<tr><td>196</td><td>242</td><td>3  </td></tr>\n",
       "\t<tr><td>186</td><td>302</td><td>3  </td></tr>\n",
       "\t<tr><td> 22</td><td>377</td><td>1  </td></tr>\n",
       "\t<tr><td>244</td><td> 51</td><td>2  </td></tr>\n",
       "\t<tr><td>166</td><td>346</td><td>1  </td></tr>\n",
       "\t<tr><td>298</td><td>474</td><td>4  </td></tr>\n",
       "</tbody>\n",
       "</table>\n"
      ],
      "text/latex": [
       "\\begin{tabular}{r|lll}\n",
       " user.id & movie.id & rating\\\\\n",
       "\\hline\n",
       "\t 196 & 242 & 3  \\\\\n",
       "\t 186 & 302 & 3  \\\\\n",
       "\t  22 & 377 & 1  \\\\\n",
       "\t 244 &  51 & 2  \\\\\n",
       "\t 166 & 346 & 1  \\\\\n",
       "\t 298 & 474 & 4  \\\\\n",
       "\\end{tabular}\n"
      ],
      "text/markdown": [
       "\n",
       "user.id | movie.id | rating | \n",
       "|---|---|---|---|---|---|\n",
       "| 196 | 242 | 3   | \n",
       "| 186 | 302 | 3   | \n",
       "|  22 | 377 | 1   | \n",
       "| 244 |  51 | 2   | \n",
       "| 166 | 346 | 1   | \n",
       "| 298 | 474 | 4   | \n",
       "\n",
       "\n"
      ],
      "text/plain": [
       "  user.id movie.id rating\n",
       "1 196     242      3     \n",
       "2 186     302      3     \n",
       "3  22     377      1     \n",
       "4 244      51      2     \n",
       "5 166     346      1     \n",
       "6 298     474      4     "
      ]
     },
     "metadata": {},
     "output_type": "display_data"
    },
    {
     "data": {
      "text/html": [
       "<table>\n",
       "<thead><tr><th scope=col>movie.id</th><th scope=col>unknown</th><th scope=col>Action</th><th scope=col>Adventure</th><th scope=col>Animation</th><th scope=col>Children.s</th><th scope=col>Comedy</th><th scope=col>Crime</th><th scope=col>Documentary</th><th scope=col>Drama</th><th scope=col>Fantasy</th><th scope=col>Film.Noir</th><th scope=col>Horror</th><th scope=col>Musical</th><th scope=col>Mystery</th><th scope=col>Romance</th><th scope=col>Sci.Fi</th><th scope=col>Thriller</th><th scope=col>War</th><th scope=col>Western</th></tr></thead>\n",
       "<tbody>\n",
       "\t<tr><td>1</td><td>0</td><td>0</td><td>0</td><td>1</td><td>1</td><td>1</td><td>0</td><td>0</td><td>0</td><td>0</td><td>0</td><td>0</td><td>0</td><td>0</td><td>0</td><td>0</td><td>0</td><td>0</td><td>0</td></tr>\n",
       "\t<tr><td>2</td><td>0</td><td>1</td><td>1</td><td>0</td><td>0</td><td>0</td><td>0</td><td>0</td><td>0</td><td>0</td><td>0</td><td>0</td><td>0</td><td>0</td><td>0</td><td>0</td><td>1</td><td>0</td><td>0</td></tr>\n",
       "\t<tr><td>3</td><td>0</td><td>0</td><td>0</td><td>0</td><td>0</td><td>0</td><td>0</td><td>0</td><td>0</td><td>0</td><td>0</td><td>0</td><td>0</td><td>0</td><td>0</td><td>0</td><td>1</td><td>0</td><td>0</td></tr>\n",
       "\t<tr><td>4</td><td>0</td><td>1</td><td>0</td><td>0</td><td>0</td><td>1</td><td>0</td><td>0</td><td>1</td><td>0</td><td>0</td><td>0</td><td>0</td><td>0</td><td>0</td><td>0</td><td>0</td><td>0</td><td>0</td></tr>\n",
       "\t<tr><td>5</td><td>0</td><td>0</td><td>0</td><td>0</td><td>0</td><td>0</td><td>1</td><td>0</td><td>1</td><td>0</td><td>0</td><td>0</td><td>0</td><td>0</td><td>0</td><td>0</td><td>1</td><td>0</td><td>0</td></tr>\n",
       "\t<tr><td>6</td><td>0</td><td>0</td><td>0</td><td>0</td><td>0</td><td>0</td><td>0</td><td>0</td><td>1</td><td>0</td><td>0</td><td>0</td><td>0</td><td>0</td><td>0</td><td>0</td><td>0</td><td>0</td><td>0</td></tr>\n",
       "</tbody>\n",
       "</table>\n"
      ],
      "text/latex": [
       "\\begin{tabular}{r|llllllllllllllllllll}\n",
       " movie.id & unknown & Action & Adventure & Animation & Children.s & Comedy & Crime & Documentary & Drama & Fantasy & Film.Noir & Horror & Musical & Mystery & Romance & Sci.Fi & Thriller & War & Western\\\\\n",
       "\\hline\n",
       "\t 1 & 0 & 0 & 0 & 1 & 1 & 1 & 0 & 0 & 0 & 0 & 0 & 0 & 0 & 0 & 0 & 0 & 0 & 0 & 0\\\\\n",
       "\t 2 & 0 & 1 & 1 & 0 & 0 & 0 & 0 & 0 & 0 & 0 & 0 & 0 & 0 & 0 & 0 & 0 & 1 & 0 & 0\\\\\n",
       "\t 3 & 0 & 0 & 0 & 0 & 0 & 0 & 0 & 0 & 0 & 0 & 0 & 0 & 0 & 0 & 0 & 0 & 1 & 0 & 0\\\\\n",
       "\t 4 & 0 & 1 & 0 & 0 & 0 & 1 & 0 & 0 & 1 & 0 & 0 & 0 & 0 & 0 & 0 & 0 & 0 & 0 & 0\\\\\n",
       "\t 5 & 0 & 0 & 0 & 0 & 0 & 0 & 1 & 0 & 1 & 0 & 0 & 0 & 0 & 0 & 0 & 0 & 1 & 0 & 0\\\\\n",
       "\t 6 & 0 & 0 & 0 & 0 & 0 & 0 & 0 & 0 & 1 & 0 & 0 & 0 & 0 & 0 & 0 & 0 & 0 & 0 & 0\\\\\n",
       "\\end{tabular}\n"
      ],
      "text/markdown": [
       "\n",
       "movie.id | unknown | Action | Adventure | Animation | Children.s | Comedy | Crime | Documentary | Drama | Fantasy | Film.Noir | Horror | Musical | Mystery | Romance | Sci.Fi | Thriller | War | Western | \n",
       "|---|---|---|---|---|---|\n",
       "| 1 | 0 | 0 | 0 | 1 | 1 | 1 | 0 | 0 | 0 | 0 | 0 | 0 | 0 | 0 | 0 | 0 | 0 | 0 | 0 | \n",
       "| 2 | 0 | 1 | 1 | 0 | 0 | 0 | 0 | 0 | 0 | 0 | 0 | 0 | 0 | 0 | 0 | 0 | 1 | 0 | 0 | \n",
       "| 3 | 0 | 0 | 0 | 0 | 0 | 0 | 0 | 0 | 0 | 0 | 0 | 0 | 0 | 0 | 0 | 0 | 1 | 0 | 0 | \n",
       "| 4 | 0 | 1 | 0 | 0 | 0 | 1 | 0 | 0 | 1 | 0 | 0 | 0 | 0 | 0 | 0 | 0 | 0 | 0 | 0 | \n",
       "| 5 | 0 | 0 | 0 | 0 | 0 | 0 | 1 | 0 | 1 | 0 | 0 | 0 | 0 | 0 | 0 | 0 | 1 | 0 | 0 | \n",
       "| 6 | 0 | 0 | 0 | 0 | 0 | 0 | 0 | 0 | 1 | 0 | 0 | 0 | 0 | 0 | 0 | 0 | 0 | 0 | 0 | \n",
       "\n",
       "\n"
      ],
      "text/plain": [
       "  movie.id unknown Action Adventure Animation Children.s Comedy Crime\n",
       "1 1        0       0      0         1         1          1      0    \n",
       "2 2        0       1      1         0         0          0      0    \n",
       "3 3        0       0      0         0         0          0      0    \n",
       "4 4        0       1      0         0         0          1      0    \n",
       "5 5        0       0      0         0         0          0      1    \n",
       "6 6        0       0      0         0         0          0      0    \n",
       "  Documentary Drama Fantasy Film.Noir Horror Musical Mystery Romance Sci.Fi\n",
       "1 0           0     0       0         0      0       0       0       0     \n",
       "2 0           0     0       0         0      0       0       0       0     \n",
       "3 0           0     0       0         0      0       0       0       0     \n",
       "4 0           1     0       0         0      0       0       0       0     \n",
       "5 0           1     0       0         0      0       0       0       0     \n",
       "6 0           1     0       0         0      0       0       0       0     \n",
       "  Thriller War Western\n",
       "1 0        0   0      \n",
       "2 1        0   0      \n",
       "3 1        0   0      \n",
       "4 0        0   0      \n",
       "5 1        0   0      \n",
       "6 0        0   0      "
      ]
     },
     "metadata": {},
     "output_type": "display_data"
    },
    {
     "data": {
      "text/html": [
       "<table>\n",
       "<thead><tr><th scope=col>movie.id</th><th scope=col>user.id</th><th scope=col>age</th><th scope=col>gender</th><th scope=col>job</th><th scope=col>rating</th><th scope=col>unknown</th><th scope=col>Action</th><th scope=col>Adventure</th><th scope=col>Animation</th><th scope=col>...</th><th scope=col>Fantasy</th><th scope=col>Film.Noir</th><th scope=col>Horror</th><th scope=col>Musical</th><th scope=col>Mystery</th><th scope=col>Romance</th><th scope=col>Sci.Fi</th><th scope=col>Thriller</th><th scope=col>War</th><th scope=col>Western</th></tr></thead>\n",
       "<tbody>\n",
       "\t<tr><td>1        </td><td>918      </td><td>2        </td><td>M        </td><td>scientist</td><td>3        </td><td>0        </td><td>0        </td><td>0        </td><td>1        </td><td>...      </td><td>0        </td><td>0        </td><td>0        </td><td>0        </td><td>0        </td><td>0        </td><td>0        </td><td>0        </td><td>0        </td><td>0        </td></tr>\n",
       "\t<tr><td>1        </td><td>684      </td><td>1        </td><td>M        </td><td>student  </td><td>4        </td><td>0        </td><td>0        </td><td>0        </td><td>1        </td><td>...      </td><td>0        </td><td>0        </td><td>0        </td><td>0        </td><td>0        </td><td>0        </td><td>0        </td><td>0        </td><td>0        </td><td>0        </td></tr>\n",
       "\t<tr><td>1        </td><td>660      </td><td>1        </td><td>M        </td><td>student  </td><td>3        </td><td>0        </td><td>0        </td><td>0        </td><td>1        </td><td>...      </td><td>0        </td><td>0        </td><td>0        </td><td>0        </td><td>0        </td><td>0        </td><td>0        </td><td>0        </td><td>0        </td><td>0        </td></tr>\n",
       "\t<tr><td>1        </td><td>339      </td><td>1        </td><td>M        </td><td>lawyer   </td><td>5        </td><td>0        </td><td>0        </td><td>0        </td><td>1        </td><td>...      </td><td>0        </td><td>0        </td><td>0        </td><td>0        </td><td>0        </td><td>0        </td><td>0        </td><td>0        </td><td>0        </td><td>0        </td></tr>\n",
       "\t<tr><td>1        </td><td>699      </td><td>2        </td><td>M        </td><td>other    </td><td>3        </td><td>0        </td><td>0        </td><td>0        </td><td>1        </td><td>...      </td><td>0        </td><td>0        </td><td>0        </td><td>0        </td><td>0        </td><td>0        </td><td>0        </td><td>0        </td><td>0        </td><td>0        </td></tr>\n",
       "\t<tr><td>1        </td><td> 94      </td><td>1        </td><td>M        </td><td>student  </td><td>4        </td><td>0        </td><td>0        </td><td>0        </td><td>1        </td><td>...      </td><td>0        </td><td>0        </td><td>0        </td><td>0        </td><td>0        </td><td>0        </td><td>0        </td><td>0        </td><td>0        </td><td>0        </td></tr>\n",
       "</tbody>\n",
       "</table>\n"
      ],
      "text/latex": [
       "\\begin{tabular}{r|lllllllllllllllllllllllll}\n",
       " movie.id & user.id & age & gender & job & rating & unknown & Action & Adventure & Animation & ... & Fantasy & Film.Noir & Horror & Musical & Mystery & Romance & Sci.Fi & Thriller & War & Western\\\\\n",
       "\\hline\n",
       "\t 1         & 918       & 2         & M         & scientist & 3         & 0         & 0         & 0         & 1         & ...       & 0         & 0         & 0         & 0         & 0         & 0         & 0         & 0         & 0         & 0        \\\\\n",
       "\t 1         & 684       & 1         & M         & student   & 4         & 0         & 0         & 0         & 1         & ...       & 0         & 0         & 0         & 0         & 0         & 0         & 0         & 0         & 0         & 0        \\\\\n",
       "\t 1         & 660       & 1         & M         & student   & 3         & 0         & 0         & 0         & 1         & ...       & 0         & 0         & 0         & 0         & 0         & 0         & 0         & 0         & 0         & 0        \\\\\n",
       "\t 1         & 339       & 1         & M         & lawyer    & 5         & 0         & 0         & 0         & 1         & ...       & 0         & 0         & 0         & 0         & 0         & 0         & 0         & 0         & 0         & 0        \\\\\n",
       "\t 1         & 699       & 2         & M         & other     & 3         & 0         & 0         & 0         & 1         & ...       & 0         & 0         & 0         & 0         & 0         & 0         & 0         & 0         & 0         & 0        \\\\\n",
       "\t 1         &  94       & 1         & M         & student   & 4         & 0         & 0         & 0         & 1         & ...       & 0         & 0         & 0         & 0         & 0         & 0         & 0         & 0         & 0         & 0        \\\\\n",
       "\\end{tabular}\n"
      ],
      "text/markdown": [
       "\n",
       "movie.id | user.id | age | gender | job | rating | unknown | Action | Adventure | Animation | ... | Fantasy | Film.Noir | Horror | Musical | Mystery | Romance | Sci.Fi | Thriller | War | Western | \n",
       "|---|---|---|---|---|---|\n",
       "| 1         | 918       | 2         | M         | scientist | 3         | 0         | 0         | 0         | 1         | ...       | 0         | 0         | 0         | 0         | 0         | 0         | 0         | 0         | 0         | 0         | \n",
       "| 1         | 684       | 1         | M         | student   | 4         | 0         | 0         | 0         | 1         | ...       | 0         | 0         | 0         | 0         | 0         | 0         | 0         | 0         | 0         | 0         | \n",
       "| 1         | 660       | 1         | M         | student   | 3         | 0         | 0         | 0         | 1         | ...       | 0         | 0         | 0         | 0         | 0         | 0         | 0         | 0         | 0         | 0         | \n",
       "| 1         | 339       | 1         | M         | lawyer    | 5         | 0         | 0         | 0         | 1         | ...       | 0         | 0         | 0         | 0         | 0         | 0         | 0         | 0         | 0         | 0         | \n",
       "| 1         | 699       | 2         | M         | other     | 3         | 0         | 0         | 0         | 1         | ...       | 0         | 0         | 0         | 0         | 0         | 0         | 0         | 0         | 0         | 0         | \n",
       "| 1         |  94       | 1         | M         | student   | 4         | 0         | 0         | 0         | 1         | ...       | 0         | 0         | 0         | 0         | 0         | 0         | 0         | 0         | 0         | 0         | \n",
       "\n",
       "\n"
      ],
      "text/plain": [
       "  movie.id user.id age gender job       rating unknown Action Adventure\n",
       "1 1        918     2   M      scientist 3      0       0      0        \n",
       "2 1        684     1   M      student   4      0       0      0        \n",
       "3 1        660     1   M      student   3      0       0      0        \n",
       "4 1        339     1   M      lawyer    5      0       0      0        \n",
       "5 1        699     2   M      other     3      0       0      0        \n",
       "6 1         94     1   M      student   4      0       0      0        \n",
       "  Animation ... Fantasy Film.Noir Horror Musical Mystery Romance Sci.Fi\n",
       "1 1         ... 0       0         0      0       0       0       0     \n",
       "2 1         ... 0       0         0      0       0       0       0     \n",
       "3 1         ... 0       0         0      0       0       0       0     \n",
       "4 1         ... 0       0         0      0       0       0       0     \n",
       "5 1         ... 0       0         0      0       0       0       0     \n",
       "6 1         ... 0       0         0      0       0       0       0     \n",
       "  Thriller War Western\n",
       "1 0        0   0      \n",
       "2 0        0   0      \n",
       "3 0        0   0      \n",
       "4 0        0   0      \n",
       "5 0        0   0      \n",
       "6 0        0   0      "
      ]
     },
     "metadata": {},
     "output_type": "display_data"
    }
   ],
   "source": [
    "# merge users and ratings\n",
    "names(u.user)<- c('user.id','age','gender','job')\n",
    "u.user <- u.user[,c(-5)]\n",
    "cat.age <- function(x) floor(x/20)\n",
    "u.user[, 2] <- sapply(u.user[, 2], cat.age)\n",
    "for (i in 2:4){\n",
    "u.user[, i] <- sapply(u.user[, i], as.factor)\n",
    "}\n",
    "head(u.user)\n",
    "names(u.data)<- c('user.id','movie.id','rating')\n",
    "u.data <- u.data[,c(-4)]\n",
    "u.data[, 3] <- sapply(u.data[, 3], as.factor)\n",
    "head(u.data)\n",
    "u.item <- u.item[,c(-2,-3,-4,-5)]\n",
    "for (i in 2:20){\n",
    "u.item[, i] <- sapply(u.item[, i], as.factor)\n",
    "}\n",
    "head(u.item)\n",
    "u.r <- merge(u.user, u.data, by = \"user.id\")\n",
    "# merge userRating with movie to have actual movie titles instead of ids\n",
    "u.r.v <- merge(u.r, u.item, by = \"movie.id\")\n",
    "head(u.r.v)"
   ]
  },
  {
   "cell_type": "code",
   "execution_count": null,
   "metadata": {},
   "outputs": [],
   "source": []
  },
  {
   "cell_type": "code",
   "execution_count": 9,
   "metadata": {},
   "outputs": [],
   "source": [
    "new.m.cv <- function(dimRedu){\n",
    "# matrice diagonale pour réduire les matrices originales\n",
    "m.d2 <- diag(c(m.svd$d[1:dimRedu],rep(0,length(m.svd$d)-dimRedu)))\n",
    "# nouvelle matrice basée sur les deux premières dimensions uniquement\n",
    "m.svd2 <- round((m.svd$u %*% m.d2 %*% t(m.svd$v)),2)\n",
    "mae(m.svd2[i.test.c]*5, m.na[i.test.c])\n",
    "    }\n",
    "to.plot <- c()"
   ]
  },
  {
   "cell_type": "code",
   "execution_count": null,
   "metadata": {},
   "outputs": [],
   "source": [
    "set.seed(5)\n",
    "i.observed <- dim(u.r.v)[1]\n",
    "i.hasard <- sample(seq(1,i.observed,1), i.observed)\n",
    "fold.size <- round(length(i.hasard) / 5)\n",
    "i.false <- rep(FALSE, dim(u.r.v)[1])\n",
    "for (i in seq_len(5)){\n",
    "fold.number <- i\n",
    "\n",
    "## Index booléen pour les cellules de test et d'entraînement\n",
    "i.test.b <- i.false\n",
    "## Les cellules indexées du replis correspondant sont fixées à TRUE pour le test...\n",
    "i.test.b[ i.hasard[((fold.number-1) * fold.size):((fold.number) * fold.size)] ] <- TRUE\n",
    "a<-as.data.frame(u.data[1,3])\n",
    "colnames(a)<-'rating'   \n",
    "\n",
    "## ...et à FALSE pour l'entraînement\n",
    "i.train.b <-  !i.test.b\n",
    "i.test.c <- rep(FALSE,943*1682)\n",
    "u.r.v.train <- u.r.v[i.train.b,]\n",
    "u.r.v.test <- u.r.v[i.test.b,]\n",
    "nb <- naive.bayes(u.r.v.train[,3:25],'rating')\n",
    "fitted <- bn.fit(nb,u.r.v.train[,3:25] )\n",
    "new.m <- m\n",
    "i.test.c <- rep(FALSE,943*1682)\n",
    "for (j in seq_len(fold.size)){\n",
    "    new.m[u.r.v.test[j,2],u.r.v.test[j,1]]<-0\n",
    "    i.test.c[943*(u.r.v.test[j,1]-1)+u.r.v.test[j,2]]<-TRUE\n",
    "}\n",
    "for (k in seq_len(943)){\n",
    "    for (l in seq_len(1682)){\n",
    "        if (new.m[k,l]==0){\n",
    "            allo <-data.frame(cbind(u.item[l,-1],a,u.user[k,-1]))\n",
    "            new.m[k,l]<-as.numeric(predict(fitted, allo))\n",
    "        }\n",
    "    }\n",
    "}\n",
    "write.table(new.m,file=paste(\"naiveBayes1_\", toString(i), \".csv\", sep = \"\")) # drops the rownames\n",
    "write.table(i.test.c,file=paste(\"naiveBayesTestc1_\", toString(i), \".csv\", sep = \"\")) # drops the rownames\n",
    "write.table(i.test.b,file=paste(\"naiveBayesTestb1_\", toString(i), \".csv\", sep = \"\")) # drops the rownames\n",
    "\n",
    "m.train <- new.m\n",
    "m.train <- m.train/5\n",
    "m.svd <- svd(m.train)\n",
    "to.plot<-rbind(to.plot,unlist(lapply(seq(75), new.m.cv)))\n",
    "    }\n"
   ]
  },
  {
   "cell_type": "code",
   "execution_count": null,
   "metadata": {},
   "outputs": [],
   "source": [
    "to.plot<-apply(to.plot,2,unlist)"
   ]
  },
  {
   "cell_type": "code",
   "execution_count": null,
   "metadata": {},
   "outputs": [],
   "source": [
    "sdev <- apply(to.plot,2,sd) \n",
    "sdev\n",
    "avg <- colMeans(to.plot)\n",
    "x <- 1:length(avg)\n",
    "avg"
   ]
  },
  {
   "cell_type": "code",
   "execution_count": null,
   "metadata": {},
   "outputs": [],
   "source": [
    "plot(x,colMeans(to.plot),ylim=range(c(avg-sdev, avg+sdev)),pch=19, xlab=\"Measurements\", ylab=\"Mean +/- SD\",\n",
    "    main=\"Scatter plot with std.dev error bars\"\n",
    ")\n",
    "# hack: we draw arrows but with very special \"arrowheads\"\n",
    "arrows(x, avg-sdev, x, avg+sdev, length=0.05, angle=90, code=3)"
   ]
  },
  {
   "cell_type": "code",
   "execution_count": null,
   "metadata": {},
   "outputs": [],
   "source": [
    "i.observed <- dim(u.r.v)[1]\n",
    "i.hasard <- sample(seq(1,i.observed,1), i.observed)\n",
    "fold.size <- round(length(i.hasard) / 5)\n",
    "i.false <- rep(FALSE, dim(u.r.v)[1])\n",
    "fold.number <- 1\n",
    "a<-as.data.frame(u.data[1,3])\n",
    "colnames(a)<-'rating'\n",
    "## Index booléen pour les cellules de test et d'entraînement\n",
    "i.test.b <- i.false\n",
    "## Les cellules indexées du replis correspondant sont fixées à TRUE pour le test...\n",
    "i.test.b[ i.hasard[((fold.number-1) * fold.size):((fold.number) * fold.size)] ] <- TRUE\n",
    "    \n",
    "\n",
    "## ...et à FALSE pour l'entraînement\n",
    "i.train.b <-  !i.test.b\n",
    "u.r.v.train <- u.r.v[i.train.b,]\n",
    "u.r.v.test <- u.r.v[i.test.b,]\n",
    "nb <- naive.bayes(u.r.v.train[,3:25],'rating')\n",
    "fitted <- bn.fit(nb,u.r.v.train[,3:25] )\n",
    "new.m <- m\n",
    "for (j in seq_len(fold.size)){\n",
    "    new.m[u.r.v.test[j,2],u.r.v.test[j,1]]<-0\n",
    "}\n",
    "for (k in seq_len(943)){\n",
    "    for (l in seq_len(1682)){\n",
    "        if (new.m[k,l]==0){\n",
    "            allo <-data.frame(cbind(u.item[l,-1],a,u.user[k,-1]))\n",
    "            new.m[k,l]<-as.numeric(predict(fitted, allo))\n",
    "        }\n",
    "    }\n",
    "}\n",
    "write.table(new.m,file=paste(\"naiveBayes1_\", toString(i), \".csv\", sep = \"\")) # drops the rownames\n",
    "m.train <- new.m\n",
    "m.train <- m.train/5\n",
    "m.svd <- svd(m.train)\n",
    "to.plot<-rbind(to.plot,unlist(lapply(seq(22), new.m.cv)))\n",
    "    \n"
   ]
  },
  {
   "cell_type": "code",
   "execution_count": 25,
   "metadata": {},
   "outputs": [],
   "source": [
    "asdf<-read.table(\"naiveBayes1_5.csv\", sep = \"\") # drops the rownames"
   ]
  },
  {
   "cell_type": "code",
   "execution_count": 26,
   "metadata": {},
   "outputs": [
    {
     "data": {
      "text/html": [
       "<ol class=list-inline>\n",
       "\t<li>943</li>\n",
       "\t<li>1682</li>\n",
       "</ol>\n"
      ],
      "text/latex": [
       "\\begin{enumerate*}\n",
       "\\item 943\n",
       "\\item 1682\n",
       "\\end{enumerate*}\n"
      ],
      "text/markdown": [
       "1. 943\n",
       "2. 1682\n",
       "\n",
       "\n"
      ],
      "text/plain": [
       "[1]  943 1682"
      ]
     },
     "metadata": {},
     "output_type": "display_data"
    }
   ],
   "source": [
    "dim(asdf)"
   ]
  },
  {
   "cell_type": "code",
   "execution_count": 27,
   "metadata": {},
   "outputs": [
    {
     "name": "stderr",
     "output_type": "stream",
     "text": [
      "Warning message in mean.default(abs(m1 - m2), na.rm = T):\n",
      "\"argument is not numeric or logical: returning NA\""
     ]
    },
    {
     "data": {
      "text/html": [
       "&lt;NA&gt;"
      ],
      "text/latex": [
       "<NA>"
      ],
      "text/markdown": [
       "&lt;NA&gt;"
      ],
      "text/plain": [
       "[1] NA"
      ]
     },
     "metadata": {},
     "output_type": "display_data"
    }
   ],
   "source": [
    "mae(asdf,m.na)"
   ]
  },
  {
   "cell_type": "code",
   "execution_count": 28,
   "metadata": {},
   "outputs": [
    {
     "name": "stderr",
     "output_type": "stream",
     "text": [
      "Warning message in mean.default(abs(asdf - m.na), na.rm = T):\n",
      "\"argument is not numeric or logical: returning NA\""
     ]
    },
    {
     "data": {
      "text/html": [
       "&lt;NA&gt;"
      ],
      "text/latex": [
       "<NA>"
      ],
      "text/markdown": [
       "&lt;NA&gt;"
      ],
      "text/plain": [
       "[1] NA"
      ]
     },
     "metadata": {},
     "output_type": "display_data"
    }
   ],
   "source": [
    "mean(abs(asdf-m.na),na.rm=T)"
   ]
  },
  {
   "cell_type": "code",
   "execution_count": 31,
   "metadata": {},
   "outputs": [
    {
     "ename": "ERROR",
     "evalue": "Error in `[.data.frame`(asdf, i.test.b): undefined columns selected\n",
     "output_type": "error",
     "traceback": [
      "Error in `[.data.frame`(asdf, i.test.b): undefined columns selected\nTraceback:\n",
      "1. mean(as.matrix(abs(asdf[i.test.b] - m.na[i.test.b])), na.rm = T)",
      "2. as.matrix(abs(asdf[i.test.b] - m.na[i.test.b]))",
      "3. asdf[i.test.b]",
      "4. `[.data.frame`(asdf, i.test.b)",
      "5. stop(\"undefined columns selected\")"
     ]
    }
   ],
   "source": [
    "mean((abs(asdf[i.test.b]-m.na[i.test.b])),na.rm=T)"
   ]
  },
  {
   "cell_type": "code",
   "execution_count": null,
   "metadata": {},
   "outputs": [],
   "source": [
    "m.train <- m.train/5\n",
    "m.svd <- svd(m.train)\n",
    "to.plot<-rbind(to.plot,unlist(lapply(seq(22), new.m.cv)))"
   ]
  },
  {
   "cell_type": "code",
   "execution_count": 32,
   "metadata": {},
   "outputs": [
    {
     "ename": "ERROR",
     "evalue": "Error in `[.data.frame`(asdf, i.test.b): undefined columns selected\n",
     "output_type": "error",
     "traceback": [
      "Error in `[.data.frame`(asdf, i.test.b): undefined columns selected\nTraceback:\n",
      "1. asdf[i.test.b]",
      "2. `[.data.frame`(asdf, i.test.b)",
      "3. stop(\"undefined columns selected\")"
     ]
    }
   ],
   "source": [
    "(abs(asdf[i.test.b]-m.na[i.test.b]))"
   ]
  },
  {
   "cell_type": "code",
   "execution_count": null,
   "metadata": {},
   "outputs": [],
   "source": []
  },
  {
   "cell_type": "code",
   "execution_count": null,
   "metadata": {},
   "outputs": [],
   "source": []
  }
 ],
 "metadata": {
  "kernelspec": {
   "display_name": "R",
   "language": "R",
   "name": "ir"
  },
  "language_info": {
   "codemirror_mode": "r",
   "file_extension": ".r",
   "mimetype": "text/x-r-source",
   "name": "R",
   "pygments_lexer": "r",
   "version": "3.5.1"
  }
 },
 "nbformat": 4,
 "nbformat_minor": 2
}
