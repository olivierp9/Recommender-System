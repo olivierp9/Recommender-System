{
 "cells": [
  {
   "cell_type": "code",
   "execution_count": 2,
   "metadata": {},
   "outputs": [],
   "source": [
    "### Si données locales\n",
    "library(Matrix)\n",
    "u.user <- read.csv(file='u.user.csv', sep='|', header=T)\n",
    "u.item <- read.csv(file='u.item.csv', sep='|', header=T)\n",
    "u.data <- read.csv(file='u.data.csv', sep='|', header=T)\n",
    "\n",
    "m.sparse <- sparseMatrix(u.data[,1],u.data[,2],x=u.data[,3])\n",
    "rownames(m.sparse) <- paste('u', 1:nrow(m.sparse), sep='')\n",
    "colnames(m.sparse) <- paste('i', 1:ncol(m.sparse), sep='')\n",
    "\n",
    "m <- as.matrix(m.sparse)                # transforme en matrice ordinaire\n",
    "m.na <- m\n",
    "m.na[m.na==0] <- NA\n",
    "\n",
    "# Cosinus normal des lignes d'une matrice\n",
    "matrix.cos <- function(m) {\n",
    "     (m %*% t(m)) / ( t(matrix(sqrt(rowSums(m^2)),nrow(m),nrow(m)))\n",
    "                    * (sqrt(rowSums(m^2))) )\n",
    "}\n",
    "\n"
   ]
  },
  {
   "cell_type": "code",
   "execution_count": 3,
   "metadata": {},
   "outputs": [],
   "source": [
    "# on normalise les ages\n",
    "u.user.norm <- u.user\n",
    "u.user.norm$age = (u.user.norm$age - min(u.user.norm$age)) / (max(u.user.norm$age) - min(u.user.norm$age))\n",
    "\n",
    "# on normalise les votes\n",
    "u.data.norm <- u.data\n",
    "u.data.norm$rating = (u.data.norm$rating - min(u.data.norm$rating)) / (max(u.data.norm$rating) - min(u.data.norm$rating))\n",
    "\n",
    "m.na.norm <- m.na/5\n",
    "m.norm <- m/5"
   ]
  },
  {
   "cell_type": "code",
   "execution_count": 19,
   "metadata": {},
   "outputs": [
    {
     "data": {
      "text/html": [
       "<table>\n",
       "<thead><tr><th scope=col>movie.id</th><th scope=col>user.id</th><th scope=col>age</th><th scope=col>gender</th><th scope=col>job</th><th scope=col>rating</th><th scope=col>unknown</th><th scope=col>Action</th><th scope=col>Adventure</th><th scope=col>Animation</th><th scope=col>...</th><th scope=col>Fantasy</th><th scope=col>Film.Noir</th><th scope=col>Horror</th><th scope=col>Musical</th><th scope=col>Mystery</th><th scope=col>Romance</th><th scope=col>Sci.Fi</th><th scope=col>Thriller</th><th scope=col>War</th><th scope=col>Western</th></tr></thead>\n",
       "<tbody>\n",
       "\t<tr><td>1        </td><td>918      </td><td>40       </td><td>M        </td><td>scientist</td><td>3        </td><td>0        </td><td>0        </td><td>0        </td><td>1        </td><td>...      </td><td>0        </td><td>0        </td><td>0        </td><td>0        </td><td>0        </td><td>0        </td><td>0        </td><td>0        </td><td>0        </td><td>0        </td></tr>\n",
       "\t<tr><td>1        </td><td>684      </td><td>28       </td><td>M        </td><td>student  </td><td>4        </td><td>0        </td><td>0        </td><td>0        </td><td>1        </td><td>...      </td><td>0        </td><td>0        </td><td>0        </td><td>0        </td><td>0        </td><td>0        </td><td>0        </td><td>0        </td><td>0        </td><td>0        </td></tr>\n",
       "\t<tr><td>1        </td><td>660      </td><td>26       </td><td>M        </td><td>student  </td><td>3        </td><td>0        </td><td>0        </td><td>0        </td><td>1        </td><td>...      </td><td>0        </td><td>0        </td><td>0        </td><td>0        </td><td>0        </td><td>0        </td><td>0        </td><td>0        </td><td>0        </td><td>0        </td></tr>\n",
       "\t<tr><td>1        </td><td>339      </td><td>35       </td><td>M        </td><td>lawyer   </td><td>5        </td><td>0        </td><td>0        </td><td>0        </td><td>1        </td><td>...      </td><td>0        </td><td>0        </td><td>0        </td><td>0        </td><td>0        </td><td>0        </td><td>0        </td><td>0        </td><td>0        </td><td>0        </td></tr>\n",
       "\t<tr><td>1        </td><td>699      </td><td>44       </td><td>M        </td><td>other    </td><td>3        </td><td>0        </td><td>0        </td><td>0        </td><td>1        </td><td>...      </td><td>0        </td><td>0        </td><td>0        </td><td>0        </td><td>0        </td><td>0        </td><td>0        </td><td>0        </td><td>0        </td><td>0        </td></tr>\n",
       "\t<tr><td>1        </td><td> 94      </td><td>26       </td><td>M        </td><td>student  </td><td>4        </td><td>0        </td><td>0        </td><td>0        </td><td>1        </td><td>...      </td><td>0        </td><td>0        </td><td>0        </td><td>0        </td><td>0        </td><td>0        </td><td>0        </td><td>0        </td><td>0        </td><td>0        </td></tr>\n",
       "</tbody>\n",
       "</table>\n"
      ],
      "text/latex": [
       "\\begin{tabular}{r|lllllllllllllllllllllllll}\n",
       " movie.id & user.id & age & gender & job & rating & unknown & Action & Adventure & Animation & ... & Fantasy & Film.Noir & Horror & Musical & Mystery & Romance & Sci.Fi & Thriller & War & Western\\\\\n",
       "\\hline\n",
       "\t 1         & 918       & 40        & M         & scientist & 3         & 0         & 0         & 0         & 1         & ...       & 0         & 0         & 0         & 0         & 0         & 0         & 0         & 0         & 0         & 0        \\\\\n",
       "\t 1         & 684       & 28        & M         & student   & 4         & 0         & 0         & 0         & 1         & ...       & 0         & 0         & 0         & 0         & 0         & 0         & 0         & 0         & 0         & 0        \\\\\n",
       "\t 1         & 660       & 26        & M         & student   & 3         & 0         & 0         & 0         & 1         & ...       & 0         & 0         & 0         & 0         & 0         & 0         & 0         & 0         & 0         & 0        \\\\\n",
       "\t 1         & 339       & 35        & M         & lawyer    & 5         & 0         & 0         & 0         & 1         & ...       & 0         & 0         & 0         & 0         & 0         & 0         & 0         & 0         & 0         & 0        \\\\\n",
       "\t 1         & 699       & 44        & M         & other     & 3         & 0         & 0         & 0         & 1         & ...       & 0         & 0         & 0         & 0         & 0         & 0         & 0         & 0         & 0         & 0        \\\\\n",
       "\t 1         &  94       & 26        & M         & student   & 4         & 0         & 0         & 0         & 1         & ...       & 0         & 0         & 0         & 0         & 0         & 0         & 0         & 0         & 0         & 0        \\\\\n",
       "\\end{tabular}\n"
      ],
      "text/markdown": [
       "\n",
       "movie.id | user.id | age | gender | job | rating | unknown | Action | Adventure | Animation | ... | Fantasy | Film.Noir | Horror | Musical | Mystery | Romance | Sci.Fi | Thriller | War | Western | \n",
       "|---|---|---|---|---|---|\n",
       "| 1         | 918       | 40        | M         | scientist | 3         | 0         | 0         | 0         | 1         | ...       | 0         | 0         | 0         | 0         | 0         | 0         | 0         | 0         | 0         | 0         | \n",
       "| 1         | 684       | 28        | M         | student   | 4         | 0         | 0         | 0         | 1         | ...       | 0         | 0         | 0         | 0         | 0         | 0         | 0         | 0         | 0         | 0         | \n",
       "| 1         | 660       | 26        | M         | student   | 3         | 0         | 0         | 0         | 1         | ...       | 0         | 0         | 0         | 0         | 0         | 0         | 0         | 0         | 0         | 0         | \n",
       "| 1         | 339       | 35        | M         | lawyer    | 5         | 0         | 0         | 0         | 1         | ...       | 0         | 0         | 0         | 0         | 0         | 0         | 0         | 0         | 0         | 0         | \n",
       "| 1         | 699       | 44        | M         | other     | 3         | 0         | 0         | 0         | 1         | ...       | 0         | 0         | 0         | 0         | 0         | 0         | 0         | 0         | 0         | 0         | \n",
       "| 1         |  94       | 26        | M         | student   | 4         | 0         | 0         | 0         | 1         | ...       | 0         | 0         | 0         | 0         | 0         | 0         | 0         | 0         | 0         | 0         | \n",
       "\n",
       "\n"
      ],
      "text/plain": [
       "  movie.id user.id age gender job       rating unknown Action Adventure\n",
       "1 1        918     40  M      scientist 3      0       0      0        \n",
       "2 1        684     28  M      student   4      0       0      0        \n",
       "3 1        660     26  M      student   3      0       0      0        \n",
       "4 1        339     35  M      lawyer    5      0       0      0        \n",
       "5 1        699     44  M      other     3      0       0      0        \n",
       "6 1         94     26  M      student   4      0       0      0        \n",
       "  Animation ... Fantasy Film.Noir Horror Musical Mystery Romance Sci.Fi\n",
       "1 1         ... 0       0         0      0       0       0       0     \n",
       "2 1         ... 0       0         0      0       0       0       0     \n",
       "3 1         ... 0       0         0      0       0       0       0     \n",
       "4 1         ... 0       0         0      0       0       0       0     \n",
       "5 1         ... 0       0         0      0       0       0       0     \n",
       "6 1         ... 0       0         0      0       0       0       0     \n",
       "  Thriller War Western\n",
       "1 0        0   0      \n",
       "2 0        0   0      \n",
       "3 0        0   0      \n",
       "4 0        0   0      \n",
       "5 0        0   0      \n",
       "6 0        0   0      "
      ]
     },
     "metadata": {},
     "output_type": "display_data"
    }
   ],
   "source": [
    "# merge users and ratings\n",
    "names(u.user)<- c('user.id','age','gender','job','zip')\n",
    "names(u.data)<- c('user.id','movie.id','rating','ts')\n",
    "\n",
    "u.r <- merge(u.user, u.data, by = \"user.id\")\n",
    "# merge userRating with movie to have actual movie titles instead of ids\n",
    "u.r.v <- merge(u.r, u.item, by = \"movie.id\")\n",
    "u.r.v<-u.r.v[,c(-6,-8,-9,-10,-11,-12)]\n",
    "head(u.r.v)\n",
    "rest <- u.r.v[1,-6]"
   ]
  },
  {
   "cell_type": "code",
   "execution_count": 20,
   "metadata": {},
   "outputs": [
    {
     "data": {
      "text/html": [
       "<table>\n",
       "<thead><tr><th scope=col>movie.id</th><th scope=col>unknown</th><th scope=col>Action</th><th scope=col>Adventure</th><th scope=col>Animation</th><th scope=col>Children.s</th><th scope=col>Comedy</th><th scope=col>Crime</th><th scope=col>Documentary</th><th scope=col>Drama</th><th scope=col>Fantasy</th><th scope=col>Film.Noir</th><th scope=col>Horror</th><th scope=col>Musical</th><th scope=col>Mystery</th><th scope=col>Romance</th><th scope=col>Sci.Fi</th><th scope=col>Thriller</th><th scope=col>War</th><th scope=col>Western</th></tr></thead>\n",
       "<tbody>\n",
       "\t<tr><td>1</td><td>0</td><td>0</td><td>0</td><td>1</td><td>1</td><td>1</td><td>0</td><td>0</td><td>0</td><td>0</td><td>0</td><td>0</td><td>0</td><td>0</td><td>0</td><td>0</td><td>0</td><td>0</td><td>0</td></tr>\n",
       "\t<tr><td>2</td><td>0</td><td>1</td><td>1</td><td>0</td><td>0</td><td>0</td><td>0</td><td>0</td><td>0</td><td>0</td><td>0</td><td>0</td><td>0</td><td>0</td><td>0</td><td>0</td><td>1</td><td>0</td><td>0</td></tr>\n",
       "\t<tr><td>3</td><td>0</td><td>0</td><td>0</td><td>0</td><td>0</td><td>0</td><td>0</td><td>0</td><td>0</td><td>0</td><td>0</td><td>0</td><td>0</td><td>0</td><td>0</td><td>0</td><td>1</td><td>0</td><td>0</td></tr>\n",
       "\t<tr><td>4</td><td>0</td><td>1</td><td>0</td><td>0</td><td>0</td><td>1</td><td>0</td><td>0</td><td>1</td><td>0</td><td>0</td><td>0</td><td>0</td><td>0</td><td>0</td><td>0</td><td>0</td><td>0</td><td>0</td></tr>\n",
       "\t<tr><td>5</td><td>0</td><td>0</td><td>0</td><td>0</td><td>0</td><td>0</td><td>1</td><td>0</td><td>1</td><td>0</td><td>0</td><td>0</td><td>0</td><td>0</td><td>0</td><td>0</td><td>1</td><td>0</td><td>0</td></tr>\n",
       "\t<tr><td>6</td><td>0</td><td>0</td><td>0</td><td>0</td><td>0</td><td>0</td><td>0</td><td>0</td><td>1</td><td>0</td><td>0</td><td>0</td><td>0</td><td>0</td><td>0</td><td>0</td><td>0</td><td>0</td><td>0</td></tr>\n",
       "</tbody>\n",
       "</table>\n"
      ],
      "text/latex": [
       "\\begin{tabular}{r|llllllllllllllllllll}\n",
       " movie.id & unknown & Action & Adventure & Animation & Children.s & Comedy & Crime & Documentary & Drama & Fantasy & Film.Noir & Horror & Musical & Mystery & Romance & Sci.Fi & Thriller & War & Western\\\\\n",
       "\\hline\n",
       "\t 1 & 0 & 0 & 0 & 1 & 1 & 1 & 0 & 0 & 0 & 0 & 0 & 0 & 0 & 0 & 0 & 0 & 0 & 0 & 0\\\\\n",
       "\t 2 & 0 & 1 & 1 & 0 & 0 & 0 & 0 & 0 & 0 & 0 & 0 & 0 & 0 & 0 & 0 & 0 & 1 & 0 & 0\\\\\n",
       "\t 3 & 0 & 0 & 0 & 0 & 0 & 0 & 0 & 0 & 0 & 0 & 0 & 0 & 0 & 0 & 0 & 0 & 1 & 0 & 0\\\\\n",
       "\t 4 & 0 & 1 & 0 & 0 & 0 & 1 & 0 & 0 & 1 & 0 & 0 & 0 & 0 & 0 & 0 & 0 & 0 & 0 & 0\\\\\n",
       "\t 5 & 0 & 0 & 0 & 0 & 0 & 0 & 1 & 0 & 1 & 0 & 0 & 0 & 0 & 0 & 0 & 0 & 1 & 0 & 0\\\\\n",
       "\t 6 & 0 & 0 & 0 & 0 & 0 & 0 & 0 & 0 & 1 & 0 & 0 & 0 & 0 & 0 & 0 & 0 & 0 & 0 & 0\\\\\n",
       "\\end{tabular}\n"
      ],
      "text/markdown": [
       "\n",
       "movie.id | unknown | Action | Adventure | Animation | Children.s | Comedy | Crime | Documentary | Drama | Fantasy | Film.Noir | Horror | Musical | Mystery | Romance | Sci.Fi | Thriller | War | Western | \n",
       "|---|---|---|---|---|---|\n",
       "| 1 | 0 | 0 | 0 | 1 | 1 | 1 | 0 | 0 | 0 | 0 | 0 | 0 | 0 | 0 | 0 | 0 | 0 | 0 | 0 | \n",
       "| 2 | 0 | 1 | 1 | 0 | 0 | 0 | 0 | 0 | 0 | 0 | 0 | 0 | 0 | 0 | 0 | 0 | 1 | 0 | 0 | \n",
       "| 3 | 0 | 0 | 0 | 0 | 0 | 0 | 0 | 0 | 0 | 0 | 0 | 0 | 0 | 0 | 0 | 0 | 1 | 0 | 0 | \n",
       "| 4 | 0 | 1 | 0 | 0 | 0 | 1 | 0 | 0 | 1 | 0 | 0 | 0 | 0 | 0 | 0 | 0 | 0 | 0 | 0 | \n",
       "| 5 | 0 | 0 | 0 | 0 | 0 | 0 | 1 | 0 | 1 | 0 | 0 | 0 | 0 | 0 | 0 | 0 | 1 | 0 | 0 | \n",
       "| 6 | 0 | 0 | 0 | 0 | 0 | 0 | 0 | 0 | 1 | 0 | 0 | 0 | 0 | 0 | 0 | 0 | 0 | 0 | 0 | \n",
       "\n",
       "\n"
      ],
      "text/plain": [
       "  movie.id unknown Action Adventure Animation Children.s Comedy Crime\n",
       "1 1        0       0      0         1         1          1      0    \n",
       "2 2        0       1      1         0         0          0      0    \n",
       "3 3        0       0      0         0         0          0      0    \n",
       "4 4        0       1      0         0         0          1      0    \n",
       "5 5        0       0      0         0         0          0      1    \n",
       "6 6        0       0      0         0         0          0      0    \n",
       "  Documentary Drama Fantasy Film.Noir Horror Musical Mystery Romance Sci.Fi\n",
       "1 0           0     0       0         0      0       0       0       0     \n",
       "2 0           0     0       0         0      0       0       0       0     \n",
       "3 0           0     0       0         0      0       0       0       0     \n",
       "4 0           1     0       0         0      0       0       0       0     \n",
       "5 0           1     0       0         0      0       0       0       0     \n",
       "6 0           1     0       0         0      0       0       0       0     \n",
       "  Thriller War Western\n",
       "1 0        0   0      \n",
       "2 1        0   0      \n",
       "3 1        0   0      \n",
       "4 0        0   0      \n",
       "5 1        0   0      \n",
       "6 0        0   0      "
      ]
     },
     "metadata": {},
     "output_type": "display_data"
    },
    {
     "data": {
      "text/html": [
       "<table>\n",
       "<thead><tr><th scope=col>user.id</th><th scope=col>age</th><th scope=col>gender</th><th scope=col>job</th></tr></thead>\n",
       "<tbody>\n",
       "\t<tr><td>1         </td><td>24        </td><td>M         </td><td>technician</td></tr>\n",
       "\t<tr><td>2         </td><td>53        </td><td>F         </td><td>other     </td></tr>\n",
       "\t<tr><td>3         </td><td>23        </td><td>M         </td><td>writer    </td></tr>\n",
       "\t<tr><td>4         </td><td>24        </td><td>M         </td><td>technician</td></tr>\n",
       "\t<tr><td>5         </td><td>33        </td><td>F         </td><td>other     </td></tr>\n",
       "\t<tr><td>6         </td><td>42        </td><td>M         </td><td>executive </td></tr>\n",
       "</tbody>\n",
       "</table>\n"
      ],
      "text/latex": [
       "\\begin{tabular}{r|llll}\n",
       " user.id & age & gender & job\\\\\n",
       "\\hline\n",
       "\t 1          & 24         & M          & technician\\\\\n",
       "\t 2          & 53         & F          & other     \\\\\n",
       "\t 3          & 23         & M          & writer    \\\\\n",
       "\t 4          & 24         & M          & technician\\\\\n",
       "\t 5          & 33         & F          & other     \\\\\n",
       "\t 6          & 42         & M          & executive \\\\\n",
       "\\end{tabular}\n"
      ],
      "text/markdown": [
       "\n",
       "user.id | age | gender | job | \n",
       "|---|---|---|---|---|---|\n",
       "| 1          | 24         | M          | technician | \n",
       "| 2          | 53         | F          | other      | \n",
       "| 3          | 23         | M          | writer     | \n",
       "| 4          | 24         | M          | technician | \n",
       "| 5          | 33         | F          | other      | \n",
       "| 6          | 42         | M          | executive  | \n",
       "\n",
       "\n"
      ],
      "text/plain": [
       "  user.id age gender job       \n",
       "1 1       24  M      technician\n",
       "2 2       53  F      other     \n",
       "3 3       23  M      writer    \n",
       "4 4       24  M      technician\n",
       "5 5       33  F      other     \n",
       "6 6       42  M      executive "
      ]
     },
     "metadata": {},
     "output_type": "display_data"
    }
   ],
   "source": [
    "n.item <- u.item[,c(-2,-3,-4,-5)]\n",
    "n.user <- u.user[,-5]\n",
    "\n",
    "head(n.item)\n",
    "head(n.user)"
   ]
  },
  {
   "cell_type": "code",
   "execution_count": 21,
   "metadata": {},
   "outputs": [
    {
     "data": {
      "text/html": [
       "<table>\n",
       "<thead><tr><th scope=col>movie.id</th><th scope=col>user.id</th><th scope=col>age</th><th scope=col>gender</th><th scope=col>job</th><th scope=col>unknown</th><th scope=col>Action</th><th scope=col>Adventure</th><th scope=col>Animation</th><th scope=col>Children.s</th><th scope=col>...</th><th scope=col>Fantasy</th><th scope=col>Film.Noir</th><th scope=col>Horror</th><th scope=col>Musical</th><th scope=col>Mystery</th><th scope=col>Romance</th><th scope=col>Sci.Fi</th><th scope=col>Thriller</th><th scope=col>War</th><th scope=col>Western</th></tr></thead>\n",
       "<tbody>\n",
       "\t<tr><td>1        </td><td>918      </td><td>40       </td><td>M        </td><td>scientist</td><td>0        </td><td>0        </td><td>0        </td><td>1        </td><td>1        </td><td>...      </td><td>0        </td><td>0        </td><td>0        </td><td>0        </td><td>0        </td><td>0        </td><td>0        </td><td>0        </td><td>0        </td><td>0        </td></tr>\n",
       "</tbody>\n",
       "</table>\n"
      ],
      "text/latex": [
       "\\begin{tabular}{r|llllllllllllllllllllllll}\n",
       " movie.id & user.id & age & gender & job & unknown & Action & Adventure & Animation & Children.s & ... & Fantasy & Film.Noir & Horror & Musical & Mystery & Romance & Sci.Fi & Thriller & War & Western\\\\\n",
       "\\hline\n",
       "\t 1         & 918       & 40        & M         & scientist & 0         & 0         & 0         & 1         & 1         & ...       & 0         & 0         & 0         & 0         & 0         & 0         & 0         & 0         & 0         & 0        \\\\\n",
       "\\end{tabular}\n"
      ],
      "text/markdown": [
       "\n",
       "movie.id | user.id | age | gender | job | unknown | Action | Adventure | Animation | Children.s | ... | Fantasy | Film.Noir | Horror | Musical | Mystery | Romance | Sci.Fi | Thriller | War | Western | \n",
       "|---|\n",
       "| 1         | 918       | 40        | M         | scientist | 0         | 0         | 0         | 1         | 1         | ...       | 0         | 0         | 0         | 0         | 0         | 0         | 0         | 0         | 0         | 0         | \n",
       "\n",
       "\n"
      ],
      "text/plain": [
       "  movie.id user.id age gender job       unknown Action Adventure Animation\n",
       "1 1        918     40  M      scientist 0       0      0         1        \n",
       "  Children.s ... Fantasy Film.Noir Horror Musical Mystery Romance Sci.Fi\n",
       "1 1          ... 0       0         0      0       0       0       0     \n",
       "  Thriller War Western\n",
       "1 0        0   0      "
      ]
     },
     "metadata": {},
     "output_type": "display_data"
    }
   ],
   "source": [
    "rest"
   ]
  },
  {
   "cell_type": "code",
   "execution_count": null,
   "metadata": {},
   "outputs": [],
   "source": [
    "for (i in seq_len(943)){\n",
    "    for (j in seq_len(1682)){\n",
    "        if (m[i,j]==0){\n",
    "            rest<-rbind(rest,c(n.user[i,],n.item[j,]))\n",
    "        }\n",
    "    }\n",
    "}"
   ]
  },
  {
   "cell_type": "code",
   "execution_count": null,
   "metadata": {},
   "outputs": [],
   "source": []
  },
  {
   "cell_type": "code",
   "execution_count": null,
   "metadata": {},
   "outputs": [],
   "source": [
    "write.csv(rest[-1,],'rest.csv')"
   ]
  }
 ],
 "metadata": {
  "kernelspec": {
   "display_name": "R",
   "language": "R",
   "name": "ir"
  },
  "language_info": {
   "codemirror_mode": "r",
   "file_extension": ".r",
   "mimetype": "text/x-r-source",
   "name": "R",
   "pygments_lexer": "r",
   "version": "3.5.1"
  }
 },
 "nbformat": 4,
 "nbformat_minor": 2
}
