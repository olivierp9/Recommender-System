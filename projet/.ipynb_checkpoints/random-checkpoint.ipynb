{
 "cells": [
  {
   "cell_type": "code",
   "execution_count": 60,
   "metadata": {},
   "outputs": [],
   "source": [
    "### Si données locales\n",
    "u.user <- read.csv(file='u.user.csv', sep='|', header=T)\n",
    "u.item <- read.csv(file='u.item.csv', sep='|', header=T)\n",
    "u.data <- read.csv(file='u.data.csv', sep='|', header=T)\n",
    "library(Matrix)\n",
    "m.sparse <- sparseMatrix(u.data[,1],u.data[,2],x=u.data[,3])\n",
    "rownames(m.sparse) <- paste('u', 1:nrow(m.sparse), sep='')\n",
    "colnames(m.sparse) <- paste('i', 1:ncol(m.sparse), sep='')\n",
    "\n",
    "m <- as.matrix(m.sparse)                # transforme en matrice ordinaire\n",
    "\n",
    "mae.rmse <- function(m, m.hat) {\n",
    "    return(list(mae=mean(abs(m - m.hat), na.rm=T), rmse=sqrt(mean((m - m.hat)^2, na.rm=T))))\n",
    "}\n",
    "new.m.mae.rmse <- function(dimRedu){\n",
    "# matrice diagonale pour réduire les matrices originales\n",
    "m.d2 <- diag(c(m.svd$d[1:dimRedu],rep(0,length(m.svd$d)-dimRedu)))\n",
    "# nouvelle matrice basée sur les deux premières dimensions uniquement\n",
    "m.svd2 <- round((m.svd$u %*% m.d2 %*% t(m.svd$v)),2)\n",
    "mae.rmse(m.svd2, m)\n",
    "    }"
   ]
  },
  {
   "cell_type": "code",
   "execution_count": 61,
   "metadata": {},
   "outputs": [
    {
     "data": {
      "image/png": "[encoded data removed]",
      "text/plain": [
       "Plot with title \"Histogram of u.data$rating\""
      ]
     },
     "metadata": {},
     "output_type": "display_data"
    }
   ],
   "source": [
    "hist.values <- hist(u.data$rating)"
   ]
  },
  {
   "cell_type": "code",
   "execution_count": 75,
   "metadata": {},
   "outputs": [
    {
     "data": {
      "text/plain": [
       "$breaks\n",
       " [1] 1.0 1.2 1.4 1.6 1.8 2.0 2.2 2.4 2.6 2.8 3.0 3.2 3.4 3.6 3.8 4.0 4.2 4.4 4.6\n",
       "[20] 4.8 5.0\n",
       "\n",
       "$counts\n",
       " [1]  6110     0     0     0 11370     0     0     0     0 27145     0     0\n",
       "[13]     0     0 34174     0     0     0     0 21201\n",
       "\n",
       "$density\n",
       " [1] 0.30550 0.00000 0.00000 0.00000 0.56850 0.00000 0.00000 0.00000 0.00000\n",
       "[10] 1.35725 0.00000 0.00000 0.00000 0.00000 1.70870 0.00000 0.00000 0.00000\n",
       "[19] 0.00000 1.06005\n",
       "\n",
       "$mids\n",
       " [1] 1.1 1.3 1.5 1.7 1.9 2.1 2.3 2.5 2.7 2.9 3.1 3.3 3.5 3.7 3.9 4.1 4.3 4.5 4.7\n",
       "[20] 4.9\n",
       "\n",
       "$xname\n",
       "[1] \"u.data$rating\"\n",
       "\n",
       "$equidist\n",
       "[1] TRUE\n",
       "\n",
       "attr(,\"class\")\n",
       "[1] \"histogram\""
      ]
     },
     "metadata": {},
     "output_type": "display_data"
    },
    {
     "data": {
      "image/png": "[encoded data removed]",
      "text/plain": [
       "Plot with title \"Histogram of u.data$rating\""
      ]
     },
     "metadata": {},
     "output_type": "display_data"
    }
   ],
   "source": [
    "hist.values\n",
    "hist.values$density = hist.values$counts/sum(hist.values$counts)*100\n",
    "plot(hist.values,freq=FALSE)"
   ]
  },
  {
   "cell_type": "code",
   "execution_count": 63,
   "metadata": {},
   "outputs": [],
   "source": [
    "hist.prob <- round(100*hist.values$counts/sum(hist.values$counts))"
   ]
  },
  {
   "cell_type": "code",
   "execution_count": 64,
   "metadata": {},
   "outputs": [
    {
     "data": {
      "text/html": [
       "<ol class=list-inline>\n",
       "\t<li>6</li>\n",
       "\t<li>0</li>\n",
       "\t<li>0</li>\n",
       "\t<li>0</li>\n",
       "\t<li>11</li>\n",
       "\t<li>0</li>\n",
       "\t<li>0</li>\n",
       "\t<li>0</li>\n",
       "\t<li>0</li>\n",
       "\t<li>27</li>\n",
       "\t<li>0</li>\n",
       "\t<li>0</li>\n",
       "\t<li>0</li>\n",
       "\t<li>0</li>\n",
       "\t<li>34</li>\n",
       "\t<li>0</li>\n",
       "\t<li>0</li>\n",
       "\t<li>0</li>\n",
       "\t<li>0</li>\n",
       "\t<li>21</li>\n",
       "</ol>\n"
      ],
      "text/latex": [
       "\\begin{enumerate*}\n",
       "\\item 6\n",
       "\\item 0\n",
       "\\item 0\n",
       "\\item 0\n",
       "\\item 11\n",
       "\\item 0\n",
       "\\item 0\n",
       "\\item 0\n",
       "\\item 0\n",
       "\\item 27\n",
       "\\item 0\n",
       "\\item 0\n",
       "\\item 0\n",
       "\\item 0\n",
       "\\item 34\n",
       "\\item 0\n",
       "\\item 0\n",
       "\\item 0\n",
       "\\item 0\n",
       "\\item 21\n",
       "\\end{enumerate*}\n"
      ],
      "text/markdown": [
       "1. 6\n",
       "2. 0\n",
       "3. 0\n",
       "4. 0\n",
       "5. 11\n",
       "6. 0\n",
       "7. 0\n",
       "8. 0\n",
       "9. 0\n",
       "10. 27\n",
       "11. 0\n",
       "12. 0\n",
       "13. 0\n",
       "14. 0\n",
       "15. 34\n",
       "16. 0\n",
       "17. 0\n",
       "18. 0\n",
       "19. 0\n",
       "20. 21\n",
       "\n",
       "\n"
      ],
      "text/plain": [
       " [1]  6  0  0  0 11  0  0  0  0 27  0  0  0  0 34  0  0  0  0 21"
      ]
     },
     "metadata": {},
     "output_type": "display_data"
    }
   ],
   "source": [
    "hist.prob"
   ]
  },
  {
   "cell_type": "code",
   "execution_count": 65,
   "metadata": {},
   "outputs": [],
   "source": [
    "rand.dist <- rep(1,6*16000)"
   ]
  },
  {
   "cell_type": "code",
   "execution_count": 66,
   "metadata": {},
   "outputs": [
    {
     "data": {
      "text/html": [
       "1486126"
      ],
      "text/latex": [
       "1486126"
      ],
      "text/markdown": [
       "1486126"
      ],
      "text/plain": [
       "[1] 1486126"
      ]
     },
     "metadata": {},
     "output_type": "display_data"
    }
   ],
   "source": [
    "sum(m==0)"
   ]
  },
  {
   "cell_type": "code",
   "execution_count": 67,
   "metadata": {},
   "outputs": [],
   "source": [
    "rand.dist <- c(rand.dist, rep(2,11*16000))\n",
    "rand.dist <- c(rand.dist, rep(3,27*16000))\n",
    "rand.dist <- c(rand.dist, rep(4,34*16000))\n",
    "rand.dist <- c(rand.dist, rep(5,21*16000))"
   ]
  },
  {
   "cell_type": "code",
   "execution_count": null,
   "metadata": {},
   "outputs": [],
   "source": []
  },
  {
   "cell_type": "code",
   "execution_count": 68,
   "metadata": {},
   "outputs": [
    {
     "data": {
      "text/html": [
       "2"
      ],
      "text/latex": [
       "2"
      ],
      "text/markdown": [
       "2"
      ],
      "text/plain": [
       "[1] 2"
      ]
     },
     "metadata": {},
     "output_type": "display_data"
    }
   ],
   "source": [
    "sample(rand.dist,1)"
   ]
  },
  {
   "cell_type": "code",
   "execution_count": 69,
   "metadata": {},
   "outputs": [],
   "source": [
    "m[m==0]<-sample(rand.dist,sum(m==0))"
   ]
  },
  {
   "cell_type": "code",
   "execution_count": 70,
   "metadata": {},
   "outputs": [
    {
     "data": {
      "text/html": [
       "<table>\n",
       "<thead><tr><th></th><th scope=col>i1</th><th scope=col>i2</th><th scope=col>i3</th><th scope=col>i4</th><th scope=col>i5</th><th scope=col>i6</th><th scope=col>i7</th><th scope=col>i8</th><th scope=col>i9</th><th scope=col>i10</th><th scope=col>...</th><th scope=col>i1673</th><th scope=col>i1674</th><th scope=col>i1675</th><th scope=col>i1676</th><th scope=col>i1677</th><th scope=col>i1678</th><th scope=col>i1679</th><th scope=col>i1680</th><th scope=col>i1681</th><th scope=col>i1682</th></tr></thead>\n",
       "<tbody>\n",
       "\t<tr><th scope=row>u1</th><td>5  </td><td>3  </td><td>4  </td><td>3  </td><td>3  </td><td>5  </td><td>4  </td><td>1  </td><td>5  </td><td>3  </td><td>...</td><td>4  </td><td>4  </td><td>4  </td><td>4  </td><td>4  </td><td>3  </td><td>2  </td><td>5  </td><td>4  </td><td>3  </td></tr>\n",
       "\t<tr><th scope=row>u2</th><td>4  </td><td>4  </td><td>3  </td><td>3  </td><td>3  </td><td>2  </td><td>4  </td><td>4  </td><td>5  </td><td>2  </td><td>...</td><td>2  </td><td>4  </td><td>3  </td><td>4  </td><td>3  </td><td>3  </td><td>5  </td><td>5  </td><td>3  </td><td>5  </td></tr>\n",
       "\t<tr><th scope=row>u3</th><td>4  </td><td>4  </td><td>4  </td><td>5  </td><td>2  </td><td>4  </td><td>4  </td><td>2  </td><td>5  </td><td>3  </td><td>...</td><td>3  </td><td>4  </td><td>4  </td><td>4  </td><td>4  </td><td>3  </td><td>2  </td><td>5  </td><td>5  </td><td>4  </td></tr>\n",
       "\t<tr><th scope=row>u4</th><td>5  </td><td>4  </td><td>5  </td><td>3  </td><td>3  </td><td>5  </td><td>4  </td><td>4  </td><td>2  </td><td>1  </td><td>...</td><td>5  </td><td>4  </td><td>4  </td><td>4  </td><td>3  </td><td>4  </td><td>3  </td><td>5  </td><td>4  </td><td>3  </td></tr>\n",
       "\t<tr><th scope=row>u5</th><td>4  </td><td>3  </td><td>4  </td><td>3  </td><td>4  </td><td>1  </td><td>4  </td><td>4  </td><td>3  </td><td>3  </td><td>...</td><td>3  </td><td>5  </td><td>3  </td><td>4  </td><td>2  </td><td>3  </td><td>3  </td><td>4  </td><td>4  </td><td>4  </td></tr>\n",
       "\t<tr><th scope=row>u6</th><td>4  </td><td>4  </td><td>2  </td><td>4  </td><td>5  </td><td>2  </td><td>2  </td><td>4  </td><td>4  </td><td>5  </td><td>...</td><td>3  </td><td>5  </td><td>3  </td><td>5  </td><td>4  </td><td>4  </td><td>4  </td><td>5  </td><td>5  </td><td>3  </td></tr>\n",
       "\t<tr><th scope=row>u7</th><td>4  </td><td>3  </td><td>1  </td><td>5  </td><td>3  </td><td>3  </td><td>5  </td><td>5  </td><td>5  </td><td>4  </td><td>...</td><td>4  </td><td>1  </td><td>4  </td><td>3  </td><td>2  </td><td>4  </td><td>2  </td><td>2  </td><td>3  </td><td>5  </td></tr>\n",
       "\t<tr><th scope=row>u8</th><td>5  </td><td>4  </td><td>4  </td><td>4  </td><td>5  </td><td>2  </td><td>3  </td><td>2  </td><td>5  </td><td>4  </td><td>...</td><td>3  </td><td>5  </td><td>4  </td><td>5  </td><td>4  </td><td>4  </td><td>3  </td><td>3  </td><td>4  </td><td>4  </td></tr>\n",
       "\t<tr><th scope=row>u9</th><td>3  </td><td>2  </td><td>4  </td><td>5  </td><td>4  </td><td>5  </td><td>4  </td><td>3  </td><td>4  </td><td>4  </td><td>...</td><td>4  </td><td>3  </td><td>4  </td><td>4  </td><td>4  </td><td>2  </td><td>3  </td><td>4  </td><td>2  </td><td>5  </td></tr>\n",
       "\t<tr><th scope=row>u10</th><td>4  </td><td>3  </td><td>2  </td><td>4  </td><td>5  </td><td>3  </td><td>4  </td><td>5  </td><td>4  </td><td>5  </td><td>...</td><td>2  </td><td>3  </td><td>4  </td><td>4  </td><td>5  </td><td>2  </td><td>2  </td><td>5  </td><td>3  </td><td>4  </td></tr>\n",
       "\t<tr><th scope=row>u11</th><td>2  </td><td>4  </td><td>3  </td><td>5  </td><td>4  </td><td>4  </td><td>4  </td><td>4  </td><td>5  </td><td>4  </td><td>...</td><td>5  </td><td>4  </td><td>3  </td><td>4  </td><td>4  </td><td>1  </td><td>3  </td><td>4  </td><td>5  </td><td>5  </td></tr>\n",
       "\t<tr><th scope=row>u12</th><td>3  </td><td>3  </td><td>3  </td><td>5  </td><td>3  </td><td>5  </td><td>4  </td><td>4  </td><td>3  </td><td>4  </td><td>...</td><td>2  </td><td>2  </td><td>4  </td><td>2  </td><td>5  </td><td>4  </td><td>4  </td><td>4  </td><td>3  </td><td>4  </td></tr>\n",
       "\t<tr><th scope=row>u13</th><td>3  </td><td>3  </td><td>4  </td><td>5  </td><td>1  </td><td>4  </td><td>2  </td><td>4  </td><td>3  </td><td>4  </td><td>...</td><td>5  </td><td>2  </td><td>5  </td><td>3  </td><td>5  </td><td>4  </td><td>3  </td><td>5  </td><td>2  </td><td>3  </td></tr>\n",
       "\t<tr><th scope=row>u14</th><td>4  </td><td>4  </td><td>3  </td><td>3  </td><td>5  </td><td>4  </td><td>5  </td><td>4  </td><td>4  </td><td>4  </td><td>...</td><td>3  </td><td>4  </td><td>4  </td><td>4  </td><td>5  </td><td>4  </td><td>5  </td><td>4  </td><td>5  </td><td>4  </td></tr>\n",
       "\t<tr><th scope=row>u15</th><td>1  </td><td>3  </td><td>3  </td><td>5  </td><td>5  </td><td>2  </td><td>1  </td><td>4  </td><td>4  </td><td>5  </td><td>...</td><td>3  </td><td>4  </td><td>5  </td><td>4  </td><td>3  </td><td>4  </td><td>2  </td><td>1  </td><td>2  </td><td>3  </td></tr>\n",
       "\t<tr><th scope=row>u16</th><td>5  </td><td>4  </td><td>3  </td><td>5  </td><td>3  </td><td>4  </td><td>5  </td><td>5  </td><td>5  </td><td>1  </td><td>...</td><td>4  </td><td>4  </td><td>2  </td><td>3  </td><td>2  </td><td>4  </td><td>5  </td><td>5  </td><td>4  </td><td>4  </td></tr>\n",
       "\t<tr><th scope=row>u17</th><td>4  </td><td>4  </td><td>5  </td><td>5  </td><td>4  </td><td>5  </td><td>4  </td><td>3  </td><td>3  </td><td>4  </td><td>...</td><td>4  </td><td>2  </td><td>3  </td><td>2  </td><td>2  </td><td>3  </td><td>4  </td><td>1  </td><td>3  </td><td>3  </td></tr>\n",
       "\t<tr><th scope=row>u18</th><td>5  </td><td>3  </td><td>4  </td><td>3  </td><td>1  </td><td>5  </td><td>3  </td><td>5  </td><td>5  </td><td>1  </td><td>...</td><td>3  </td><td>2  </td><td>3  </td><td>4  </td><td>4  </td><td>3  </td><td>5  </td><td>1  </td><td>4  </td><td>3  </td></tr>\n",
       "\t<tr><th scope=row>u19</th><td>4  </td><td>3  </td><td>2  </td><td>4  </td><td>4  </td><td>2  </td><td>4  </td><td>5  </td><td>4  </td><td>5  </td><td>...</td><td>4  </td><td>3  </td><td>4  </td><td>4  </td><td>3  </td><td>3  </td><td>4  </td><td>4  </td><td>3  </td><td>3  </td></tr>\n",
       "\t<tr><th scope=row>u20</th><td>3  </td><td>4  </td><td>3  </td><td>5  </td><td>4  </td><td>5  </td><td>1  </td><td>2  </td><td>3  </td><td>3  </td><td>...</td><td>3  </td><td>3  </td><td>4  </td><td>3  </td><td>2  </td><td>3  </td><td>4  </td><td>4  </td><td>2  </td><td>4  </td></tr>\n",
       "\t<tr><th scope=row>u21</th><td>5  </td><td>1  </td><td>3  </td><td>3  </td><td>2  </td><td>5  </td><td>5  </td><td>4  </td><td>5  </td><td>3  </td><td>...</td><td>1  </td><td>3  </td><td>2  </td><td>2  </td><td>2  </td><td>1  </td><td>4  </td><td>1  </td><td>5  </td><td>3  </td></tr>\n",
       "\t<tr><th scope=row>u22</th><td>1  </td><td>2  </td><td>3  </td><td>5  </td><td>2  </td><td>4  </td><td>5  </td><td>4  </td><td>5  </td><td>4  </td><td>...</td><td>2  </td><td>3  </td><td>5  </td><td>3  </td><td>4  </td><td>5  </td><td>5  </td><td>2  </td><td>4  </td><td>3  </td></tr>\n",
       "\t<tr><th scope=row>u23</th><td>5  </td><td>4  </td><td>4  </td><td>4  </td><td>5  </td><td>2  </td><td>4  </td><td>4  </td><td>4  </td><td>4  </td><td>...</td><td>2  </td><td>4  </td><td>3  </td><td>3  </td><td>5  </td><td>4  </td><td>3  </td><td>4  </td><td>4  </td><td>4  </td></tr>\n",
       "\t<tr><th scope=row>u24</th><td>1  </td><td>2  </td><td>4  </td><td>3  </td><td>4  </td><td>5  </td><td>4  </td><td>5  </td><td>5  </td><td>4  </td><td>...</td><td>5  </td><td>2  </td><td>5  </td><td>4  </td><td>5  </td><td>3  </td><td>4  </td><td>1  </td><td>3  </td><td>2  </td></tr>\n",
       "\t<tr><th scope=row>u25</th><td>5  </td><td>4  </td><td>3  </td><td>4  </td><td>2  </td><td>2  </td><td>4  </td><td>4  </td><td>1  </td><td>2  </td><td>...</td><td>5  </td><td>3  </td><td>1  </td><td>5  </td><td>4  </td><td>4  </td><td>5  </td><td>1  </td><td>4  </td><td>1  </td></tr>\n",
       "\t<tr><th scope=row>u26</th><td>3  </td><td>4  </td><td>4  </td><td>4  </td><td>4  </td><td>4  </td><td>3  </td><td>4  </td><td>4  </td><td>4  </td><td>...</td><td>2  </td><td>4  </td><td>3  </td><td>4  </td><td>3  </td><td>3  </td><td>4  </td><td>3  </td><td>2  </td><td>3  </td></tr>\n",
       "\t<tr><th scope=row>u27</th><td>4  </td><td>5  </td><td>2  </td><td>4  </td><td>5  </td><td>5  </td><td>4  </td><td>4  </td><td>4  </td><td>4  </td><td>...</td><td>5  </td><td>5  </td><td>4  </td><td>5  </td><td>1  </td><td>3  </td><td>3  </td><td>3  </td><td>4  </td><td>4  </td></tr>\n",
       "\t<tr><th scope=row>u28</th><td>4  </td><td>3  </td><td>5  </td><td>2  </td><td>3  </td><td>4  </td><td>5  </td><td>3  </td><td>4  </td><td>4  </td><td>...</td><td>3  </td><td>2  </td><td>3  </td><td>5  </td><td>3  </td><td>3  </td><td>4  </td><td>4  </td><td>1  </td><td>4  </td></tr>\n",
       "\t<tr><th scope=row>u29</th><td>1  </td><td>2  </td><td>5  </td><td>4  </td><td>5  </td><td>2  </td><td>4  </td><td>4  </td><td>1  </td><td>4  </td><td>...</td><td>3  </td><td>4  </td><td>3  </td><td>3  </td><td>4  </td><td>5  </td><td>4  </td><td>5  </td><td>2  </td><td>1  </td></tr>\n",
       "\t<tr><th scope=row>u30</th><td>3  </td><td>3  </td><td>3  </td><td>4  </td><td>3  </td><td>4  </td><td>4  </td><td>3  </td><td>3  </td><td>5  </td><td>...</td><td>2  </td><td>5  </td><td>5  </td><td>5  </td><td>5  </td><td>5  </td><td>5  </td><td>3  </td><td>3  </td><td>5  </td></tr>\n",
       "\t<tr><th scope=row>...</th><td>...</td><td>...</td><td>...</td><td>...</td><td>...</td><td>...</td><td>...</td><td>...</td><td>...</td><td>...</td><td>   </td><td>...</td><td>...</td><td>...</td><td>...</td><td>...</td><td>...</td><td>...</td><td>...</td><td>...</td><td>...</td></tr>\n",
       "\t<tr><th scope=row>u914</th><td>3  </td><td>3  </td><td>2  </td><td>4  </td><td>4  </td><td>4  </td><td>4  </td><td>1  </td><td>4  </td><td>4  </td><td>...</td><td>5  </td><td>4  </td><td>2  </td><td>3  </td><td>4  </td><td>3  </td><td>3  </td><td>4  </td><td>5  </td><td>5  </td></tr>\n",
       "\t<tr><th scope=row>u915</th><td>4  </td><td>5  </td><td>5  </td><td>3  </td><td>3  </td><td>4  </td><td>2  </td><td>5  </td><td>3  </td><td>2  </td><td>...</td><td>4  </td><td>5  </td><td>2  </td><td>3  </td><td>3  </td><td>4  </td><td>5  </td><td>1  </td><td>3  </td><td>4  </td></tr>\n",
       "\t<tr><th scope=row>u916</th><td>4  </td><td>3  </td><td>3  </td><td>4  </td><td>3  </td><td>3  </td><td>4  </td><td>3  </td><td>5  </td><td>3  </td><td>...</td><td>3  </td><td>2  </td><td>3  </td><td>5  </td><td>4  </td><td>2  </td><td>1  </td><td>3  </td><td>4  </td><td>3  </td></tr>\n",
       "\t<tr><th scope=row>u917</th><td>3  </td><td>3  </td><td>1  </td><td>3  </td><td>5  </td><td>4  </td><td>4  </td><td>5  </td><td>5  </td><td>4  </td><td>...</td><td>4  </td><td>5  </td><td>3  </td><td>3  </td><td>4  </td><td>4  </td><td>5  </td><td>5  </td><td>4  </td><td>5  </td></tr>\n",
       "\t<tr><th scope=row>u918</th><td>3  </td><td>2  </td><td>5  </td><td>1  </td><td>2  </td><td>3  </td><td>3  </td><td>2  </td><td>4  </td><td>5  </td><td>...</td><td>2  </td><td>5  </td><td>3  </td><td>5  </td><td>2  </td><td>3  </td><td>5  </td><td>4  </td><td>3  </td><td>5  </td></tr>\n",
       "\t<tr><th scope=row>u919</th><td>4  </td><td>4  </td><td>2  </td><td>1  </td><td>4  </td><td>5  </td><td>3  </td><td>3  </td><td>5  </td><td>3  </td><td>...</td><td>4  </td><td>4  </td><td>4  </td><td>4  </td><td>4  </td><td>1  </td><td>3  </td><td>1  </td><td>2  </td><td>2  </td></tr>\n",
       "\t<tr><th scope=row>u920</th><td>5  </td><td>4  </td><td>2  </td><td>1  </td><td>5  </td><td>5  </td><td>3  </td><td>5  </td><td>4  </td><td>3  </td><td>...</td><td>3  </td><td>5  </td><td>3  </td><td>4  </td><td>3  </td><td>3  </td><td>5  </td><td>5  </td><td>5  </td><td>2  </td></tr>\n",
       "\t<tr><th scope=row>u921</th><td>3  </td><td>4  </td><td>1  </td><td>2  </td><td>4  </td><td>3  </td><td>4  </td><td>3  </td><td>5  </td><td>4  </td><td>...</td><td>3  </td><td>5  </td><td>4  </td><td>4  </td><td>1  </td><td>4  </td><td>4  </td><td>5  </td><td>3  </td><td>3  </td></tr>\n",
       "\t<tr><th scope=row>u922</th><td>5  </td><td>4  </td><td>3  </td><td>5  </td><td>3  </td><td>3  </td><td>3  </td><td>3  </td><td>4  </td><td>4  </td><td>...</td><td>2  </td><td>4  </td><td>4  </td><td>3  </td><td>3  </td><td>4  </td><td>5  </td><td>2  </td><td>3  </td><td>4  </td></tr>\n",
       "\t<tr><th scope=row>u923</th><td>3  </td><td>5  </td><td>4  </td><td>5  </td><td>5  </td><td>4  </td><td>4  </td><td>5  </td><td>4  </td><td>4  </td><td>...</td><td>4  </td><td>3  </td><td>3  </td><td>5  </td><td>4  </td><td>4  </td><td>5  </td><td>4  </td><td>4  </td><td>4  </td></tr>\n",
       "\t<tr><th scope=row>u924</th><td>5  </td><td>3  </td><td>5  </td><td>5  </td><td>4  </td><td>4  </td><td>4  </td><td>2  </td><td>4  </td><td>5  </td><td>...</td><td>4  </td><td>3  </td><td>4  </td><td>4  </td><td>3  </td><td>4  </td><td>4  </td><td>5  </td><td>3  </td><td>3  </td></tr>\n",
       "\t<tr><th scope=row>u925</th><td>4  </td><td>2  </td><td>2  </td><td>3  </td><td>4  </td><td>2  </td><td>4  </td><td>4  </td><td>3  </td><td>2  </td><td>...</td><td>1  </td><td>3  </td><td>5  </td><td>5  </td><td>3  </td><td>4  </td><td>2  </td><td>4  </td><td>3  </td><td>5  </td></tr>\n",
       "\t<tr><th scope=row>u926</th><td>3  </td><td>2  </td><td>3  </td><td>4  </td><td>5  </td><td>4  </td><td>4  </td><td>4  </td><td>3  </td><td>5  </td><td>...</td><td>3  </td><td>4  </td><td>5  </td><td>4  </td><td>4  </td><td>4  </td><td>5  </td><td>3  </td><td>5  </td><td>4  </td></tr>\n",
       "\t<tr><th scope=row>u927</th><td>5  </td><td>3  </td><td>4  </td><td>5  </td><td>3  </td><td>5  </td><td>3  </td><td>4  </td><td>2  </td><td>4  </td><td>...</td><td>4  </td><td>4  </td><td>3  </td><td>4  </td><td>4  </td><td>4  </td><td>3  </td><td>3  </td><td>4  </td><td>5  </td></tr>\n",
       "\t<tr><th scope=row>u928</th><td>2  </td><td>1  </td><td>2  </td><td>5  </td><td>4  </td><td>4  </td><td>3  </td><td>5  </td><td>5  </td><td>3  </td><td>...</td><td>4  </td><td>4  </td><td>5  </td><td>2  </td><td>1  </td><td>5  </td><td>3  </td><td>3  </td><td>3  </td><td>3  </td></tr>\n",
       "\t<tr><th scope=row>u929</th><td>3  </td><td>4  </td><td>5  </td><td>5  </td><td>4  </td><td>4  </td><td>4  </td><td>3  </td><td>2  </td><td>4  </td><td>...</td><td>4  </td><td>3  </td><td>3  </td><td>5  </td><td>4  </td><td>2  </td><td>5  </td><td>4  </td><td>3  </td><td>5  </td></tr>\n",
       "\t<tr><th scope=row>u930</th><td>3  </td><td>4  </td><td>3  </td><td>4  </td><td>2  </td><td>3  </td><td>5  </td><td>3  </td><td>2  </td><td>3  </td><td>...</td><td>3  </td><td>5  </td><td>4  </td><td>3  </td><td>4  </td><td>3  </td><td>3  </td><td>3  </td><td>4  </td><td>3  </td></tr>\n",
       "\t<tr><th scope=row>u931</th><td>4  </td><td>3  </td><td>3  </td><td>5  </td><td>3  </td><td>3  </td><td>5  </td><td>4  </td><td>4  </td><td>3  </td><td>...</td><td>3  </td><td>3  </td><td>3  </td><td>4  </td><td>4  </td><td>3  </td><td>3  </td><td>4  </td><td>4  </td><td>3  </td></tr>\n",
       "\t<tr><th scope=row>u932</th><td>4  </td><td>4  </td><td>5  </td><td>4  </td><td>3  </td><td>4  </td><td>4  </td><td>3  </td><td>5  </td><td>5  </td><td>...</td><td>4  </td><td>3  </td><td>5  </td><td>3  </td><td>1  </td><td>2  </td><td>5  </td><td>3  </td><td>2  </td><td>5  </td></tr>\n",
       "\t<tr><th scope=row>u933</th><td>3  </td><td>4  </td><td>5  </td><td>3  </td><td>2  </td><td>4  </td><td>4  </td><td>4  </td><td>3  </td><td>5  </td><td>...</td><td>4  </td><td>5  </td><td>2  </td><td>4  </td><td>3  </td><td>4  </td><td>4  </td><td>2  </td><td>4  </td><td>3  </td></tr>\n",
       "\t<tr><th scope=row>u934</th><td>2  </td><td>4  </td><td>3  </td><td>5  </td><td>2  </td><td>4  </td><td>4  </td><td>1  </td><td>3  </td><td>3  </td><td>...</td><td>3  </td><td>3  </td><td>4  </td><td>3  </td><td>3  </td><td>1  </td><td>2  </td><td>4  </td><td>2  </td><td>4  </td></tr>\n",
       "\t<tr><th scope=row>u935</th><td>3  </td><td>4  </td><td>4  </td><td>5  </td><td>5  </td><td>1  </td><td>5  </td><td>3  </td><td>1  </td><td>4  </td><td>...</td><td>1  </td><td>4  </td><td>3  </td><td>4  </td><td>2  </td><td>3  </td><td>3  </td><td>5  </td><td>4  </td><td>4  </td></tr>\n",
       "\t<tr><th scope=row>u936</th><td>4  </td><td>4  </td><td>4  </td><td>4  </td><td>3  </td><td>5  </td><td>4  </td><td>4  </td><td>4  </td><td>4  </td><td>...</td><td>3  </td><td>4  </td><td>5  </td><td>4  </td><td>1  </td><td>5  </td><td>3  </td><td>5  </td><td>4  </td><td>3  </td></tr>\n",
       "\t<tr><th scope=row>u937</th><td>3  </td><td>3  </td><td>3  </td><td>4  </td><td>1  </td><td>4  </td><td>3  </td><td>4  </td><td>5  </td><td>5  </td><td>...</td><td>4  </td><td>4  </td><td>1  </td><td>4  </td><td>4  </td><td>3  </td><td>3  </td><td>4  </td><td>5  </td><td>1  </td></tr>\n",
       "\t<tr><th scope=row>u938</th><td>4  </td><td>1  </td><td>5  </td><td>5  </td><td>4  </td><td>4  </td><td>4  </td><td>3  </td><td>3  </td><td>3  </td><td>...</td><td>2  </td><td>4  </td><td>5  </td><td>5  </td><td>1  </td><td>3  </td><td>5  </td><td>3  </td><td>5  </td><td>1  </td></tr>\n",
       "\t<tr><th scope=row>u939</th><td>4  </td><td>3  </td><td>5  </td><td>4  </td><td>3  </td><td>1  </td><td>5  </td><td>3  </td><td>5  </td><td>4  </td><td>...</td><td>3  </td><td>3  </td><td>3  </td><td>2  </td><td>1  </td><td>4  </td><td>4  </td><td>5  </td><td>3  </td><td>5  </td></tr>\n",
       "\t<tr><th scope=row>u940</th><td>4  </td><td>3  </td><td>4  </td><td>2  </td><td>5  </td><td>3  </td><td>4  </td><td>5  </td><td>3  </td><td>3  </td><td>...</td><td>3  </td><td>3  </td><td>3  </td><td>4  </td><td>5  </td><td>1  </td><td>4  </td><td>5  </td><td>5  </td><td>4  </td></tr>\n",
       "\t<tr><th scope=row>u941</th><td>5  </td><td>4  </td><td>5  </td><td>2  </td><td>4  </td><td>2  </td><td>4  </td><td>5  </td><td>3  </td><td>3  </td><td>...</td><td>5  </td><td>5  </td><td>3  </td><td>5  </td><td>5  </td><td>3  </td><td>3  </td><td>4  </td><td>5  </td><td>4  </td></tr>\n",
       "\t<tr><th scope=row>u942</th><td>1  </td><td>2  </td><td>3  </td><td>5  </td><td>4  </td><td>4  </td><td>2  </td><td>3  </td><td>4  </td><td>5  </td><td>...</td><td>5  </td><td>4  </td><td>4  </td><td>2  </td><td>2  </td><td>4  </td><td>4  </td><td>5  </td><td>2  </td><td>4  </td></tr>\n",
       "\t<tr><th scope=row>u943</th><td>1  </td><td>5  </td><td>4  </td><td>2  </td><td>5  </td><td>5  </td><td>1  </td><td>5  </td><td>3  </td><td>5  </td><td>...</td><td>3  </td><td>2  </td><td>3  </td><td>3  </td><td>5  </td><td>5  </td><td>1  </td><td>4  </td><td>5  </td><td>4  </td></tr>\n",
       "</tbody>\n",
       "</table>\n"
      ],
      "text/latex": [
       "\\begin{tabular}{r|llllllllllllllllllllllllllllllllllllllllllllllllllllllllllllllllllllllllllllllllllllllllllllllllllllllllllllllllllllllllllllllllllllllllllllllllllllllllllllllllllllllllllllllllllllllllllllllllllllllllllllllllllllllllllllllllllllllllllllllllllllllllllllllllllllllllllllllllllllllllllllllllllllllllllllllllllllllllllllllllllllllllllllllllllllllllllllllllllllllllllllllllllllllllllllllllllllllllllllllllllllllllllllllllllllllllllllllllllllllllllllllllllllllllllllllllllllllllllllllllllllllllllllllllllllllllllllllllllllllllllllllllllllllllllllllllllllllllllllllllllllllllllllllllllllllllllllllllllllllllllllllllllllllllllllllllllllllllllllllllllllllllllllllllllllllllllllllllllllllllllllllllllllllllllllllllllllllllllllllllllllllllllllllllllllllllllllllllllllllllllllllllllllllllllllllllllllllllllllllllllllllllllllllllllllllllllllllllllllllllllllllllllllllllllllllllllllllllllllllllllllllllllllllllllllllllllllllllllllllllllllllllllllllllllllllllllllllllllllllllllllllllllllllllllllllllllllllllllllllllllllllllllllllllllllllllllllllllllllllllllllllllllllllllllllllllllllllllllllllllllllllllllllllllllllllllllllllllllllllllllllllllllllllllllllllllllllllllllllllllllllllllllllllllllllllllllllllllllllllllllllllllllllllllllllllllllllllllllllllllllllllllllllllllllllllllllllllllllllllllllllllllllllllllllllllllllllllllllllllllllllllllllllllllllllllllllllllllllllllllllllllllllllllllllllllllllllllllllllllllllllllllllllllllllllllllllllllllllllllllllllllllllllllllllllllllllllllllllllllllllllllllllllllllllllllllllllllllllllllllllllllllllllllllllllllllllllllllllllllllllllllllllllllllllllllllllllllllllllllllllllllllllllllllllllllllllllllllllllllllllllllllllllllllllllllllllllllllllllllllll}\n",
       "  & i1 & i2 & i3 & i4 & i5 & i6 & i7 & i8 & i9 & i10 & ... & i1673 & i1674 & i1675 & i1676 & i1677 & i1678 & i1679 & i1680 & i1681 & i1682\\\\\n",
       "\\hline\n",
       "\tu1 & 5   & 3   & 4   & 3   & 3   & 5   & 4   & 1   & 5   & 3   & ... & 4   & 4   & 4   & 4   & 4   & 3   & 2   & 5   & 4   & 3  \\\\\n",
       "\tu2 & 4   & 4   & 3   & 3   & 3   & 2   & 4   & 4   & 5   & 2   & ... & 2   & 4   & 3   & 4   & 3   & 3   & 5   & 5   & 3   & 5  \\\\\n",
       "\tu3 & 4   & 4   & 4   & 5   & 2   & 4   & 4   & 2   & 5   & 3   & ... & 3   & 4   & 4   & 4   & 4   & 3   & 2   & 5   & 5   & 4  \\\\\n",
       "\tu4 & 5   & 4   & 5   & 3   & 3   & 5   & 4   & 4   & 2   & 1   & ... & 5   & 4   & 4   & 4   & 3   & 4   & 3   & 5   & 4   & 3  \\\\\n",
       "\tu5 & 4   & 3   & 4   & 3   & 4   & 1   & 4   & 4   & 3   & 3   & ... & 3   & 5   & 3   & 4   & 2   & 3   & 3   & 4   & 4   & 4  \\\\\n",
       "\tu6 & 4   & 4   & 2   & 4   & 5   & 2   & 2   & 4   & 4   & 5   & ... & 3   & 5   & 3   & 5   & 4   & 4   & 4   & 5   & 5   & 3  \\\\\n",
       "\tu7 & 4   & 3   & 1   & 5   & 3   & 3   & 5   & 5   & 5   & 4   & ... & 4   & 1   & 4   & 3   & 2   & 4   & 2   & 2   & 3   & 5  \\\\\n",
       "\tu8 & 5   & 4   & 4   & 4   & 5   & 2   & 3   & 2   & 5   & 4   & ... & 3   & 5   & 4   & 5   & 4   & 4   & 3   & 3   & 4   & 4  \\\\\n",
       "\tu9 & 3   & 2   & 4   & 5   & 4   & 5   & 4   & 3   & 4   & 4   & ... & 4   & 3   & 4   & 4   & 4   & 2   & 3   & 4   & 2   & 5  \\\\\n",
       "\tu10 & 4   & 3   & 2   & 4   & 5   & 3   & 4   & 5   & 4   & 5   & ... & 2   & 3   & 4   & 4   & 5   & 2   & 2   & 5   & 3   & 4  \\\\\n",
       "\tu11 & 2   & 4   & 3   & 5   & 4   & 4   & 4   & 4   & 5   & 4   & ... & 5   & 4   & 3   & 4   & 4   & 1   & 3   & 4   & 5   & 5  \\\\\n",
       "\tu12 & 3   & 3   & 3   & 5   & 3   & 5   & 4   & 4   & 3   & 4   & ... & 2   & 2   & 4   & 2   & 5   & 4   & 4   & 4   & 3   & 4  \\\\\n",
       "\tu13 & 3   & 3   & 4   & 5   & 1   & 4   & 2   & 4   & 3   & 4   & ... & 5   & 2   & 5   & 3   & 5   & 4   & 3   & 5   & 2   & 3  \\\\\n",
       "\tu14 & 4   & 4   & 3   & 3   & 5   & 4   & 5   & 4   & 4   & 4   & ... & 3   & 4   & 4   & 4   & 5   & 4   & 5   & 4   & 5   & 4  \\\\\n",
       "\tu15 & 1   & 3   & 3   & 5   & 5   & 2   & 1   & 4   & 4   & 5   & ... & 3   & 4   & 5   & 4   & 3   & 4   & 2   & 1   & 2   & 3  \\\\\n",
       "\tu16 & 5   & 4   & 3   & 5   & 3   & 4   & 5   & 5   & 5   & 1   & ... & 4   & 4   & 2   & 3   & 2   & 4   & 5   & 5   & 4   & 4  \\\\\n",
       "\tu17 & 4   & 4   & 5   & 5   & 4   & 5   & 4   & 3   & 3   & 4   & ... & 4   & 2   & 3   & 2   & 2   & 3   & 4   & 1   & 3   & 3  \\\\\n",
       "\tu18 & 5   & 3   & 4   & 3   & 1   & 5   & 3   & 5   & 5   & 1   & ... & 3   & 2   & 3   & 4   & 4   & 3   & 5   & 1   & 4   & 3  \\\\\n",
       "\tu19 & 4   & 3   & 2   & 4   & 4   & 2   & 4   & 5   & 4   & 5   & ... & 4   & 3   & 4   & 4   & 3   & 3   & 4   & 4   & 3   & 3  \\\\\n",
       "\tu20 & 3   & 4   & 3   & 5   & 4   & 5   & 1   & 2   & 3   & 3   & ... & 3   & 3   & 4   & 3   & 2   & 3   & 4   & 4   & 2   & 4  \\\\\n",
       "\tu21 & 5   & 1   & 3   & 3   & 2   & 5   & 5   & 4   & 5   & 3   & ... & 1   & 3   & 2   & 2   & 2   & 1   & 4   & 1   & 5   & 3  \\\\\n",
       "\tu22 & 1   & 2   & 3   & 5   & 2   & 4   & 5   & 4   & 5   & 4   & ... & 2   & 3   & 5   & 3   & 4   & 5   & 5   & 2   & 4   & 3  \\\\\n",
       "\tu23 & 5   & 4   & 4   & 4   & 5   & 2   & 4   & 4   & 4   & 4   & ... & 2   & 4   & 3   & 3   & 5   & 4   & 3   & 4   & 4   & 4  \\\\\n",
       "\tu24 & 1   & 2   & 4   & 3   & 4   & 5   & 4   & 5   & 5   & 4   & ... & 5   & 2   & 5   & 4   & 5   & 3   & 4   & 1   & 3   & 2  \\\\\n",
       "\tu25 & 5   & 4   & 3   & 4   & 2   & 2   & 4   & 4   & 1   & 2   & ... & 5   & 3   & 1   & 5   & 4   & 4   & 5   & 1   & 4   & 1  \\\\\n",
       "\tu26 & 3   & 4   & 4   & 4   & 4   & 4   & 3   & 4   & 4   & 4   & ... & 2   & 4   & 3   & 4   & 3   & 3   & 4   & 3   & 2   & 3  \\\\\n",
       "\tu27 & 4   & 5   & 2   & 4   & 5   & 5   & 4   & 4   & 4   & 4   & ... & 5   & 5   & 4   & 5   & 1   & 3   & 3   & 3   & 4   & 4  \\\\\n",
       "\tu28 & 4   & 3   & 5   & 2   & 3   & 4   & 5   & 3   & 4   & 4   & ... & 3   & 2   & 3   & 5   & 3   & 3   & 4   & 4   & 1   & 4  \\\\\n",
       "\tu29 & 1   & 2   & 5   & 4   & 5   & 2   & 4   & 4   & 1   & 4   & ... & 3   & 4   & 3   & 3   & 4   & 5   & 4   & 5   & 2   & 1  \\\\\n",
       "\tu30 & 3   & 3   & 3   & 4   & 3   & 4   & 4   & 3   & 3   & 5   & ... & 2   & 5   & 5   & 5   & 5   & 5   & 5   & 3   & 3   & 5  \\\\\n",
       "\t... & ... & ... & ... & ... & ... & ... & ... & ... & ... & ... &     & ... & ... & ... & ... & ... & ... & ... & ... & ... & ...\\\\\n",
       "\tu914 & 3   & 3   & 2   & 4   & 4   & 4   & 4   & 1   & 4   & 4   & ... & 5   & 4   & 2   & 3   & 4   & 3   & 3   & 4   & 5   & 5  \\\\\n",
       "\tu915 & 4   & 5   & 5   & 3   & 3   & 4   & 2   & 5   & 3   & 2   & ... & 4   & 5   & 2   & 3   & 3   & 4   & 5   & 1   & 3   & 4  \\\\\n",
       "\tu916 & 4   & 3   & 3   & 4   & 3   & 3   & 4   & 3   & 5   & 3   & ... & 3   & 2   & 3   & 5   & 4   & 2   & 1   & 3   & 4   & 3  \\\\\n",
       "\tu917 & 3   & 3   & 1   & 3   & 5   & 4   & 4   & 5   & 5   & 4   & ... & 4   & 5   & 3   & 3   & 4   & 4   & 5   & 5   & 4   & 5  \\\\\n",
       "\tu918 & 3   & 2   & 5   & 1   & 2   & 3   & 3   & 2   & 4   & 5   & ... & 2   & 5   & 3   & 5   & 2   & 3   & 5   & 4   & 3   & 5  \\\\\n",
       "\tu919 & 4   & 4   & 2   & 1   & 4   & 5   & 3   & 3   & 5   & 3   & ... & 4   & 4   & 4   & 4   & 4   & 1   & 3   & 1   & 2   & 2  \\\\\n",
       "\tu920 & 5   & 4   & 2   & 1   & 5   & 5   & 3   & 5   & 4   & 3   & ... & 3   & 5   & 3   & 4   & 3   & 3   & 5   & 5   & 5   & 2  \\\\\n",
       "\tu921 & 3   & 4   & 1   & 2   & 4   & 3   & 4   & 3   & 5   & 4   & ... & 3   & 5   & 4   & 4   & 1   & 4   & 4   & 5   & 3   & 3  \\\\\n",
       "\tu922 & 5   & 4   & 3   & 5   & 3   & 3   & 3   & 3   & 4   & 4   & ... & 2   & 4   & 4   & 3   & 3   & 4   & 5   & 2   & 3   & 4  \\\\\n",
       "\tu923 & 3   & 5   & 4   & 5   & 5   & 4   & 4   & 5   & 4   & 4   & ... & 4   & 3   & 3   & 5   & 4   & 4   & 5   & 4   & 4   & 4  \\\\\n",
       "\tu924 & 5   & 3   & 5   & 5   & 4   & 4   & 4   & 2   & 4   & 5   & ... & 4   & 3   & 4   & 4   & 3   & 4   & 4   & 5   & 3   & 3  \\\\\n",
       "\tu925 & 4   & 2   & 2   & 3   & 4   & 2   & 4   & 4   & 3   & 2   & ... & 1   & 3   & 5   & 5   & 3   & 4   & 2   & 4   & 3   & 5  \\\\\n",
       "\tu926 & 3   & 2   & 3   & 4   & 5   & 4   & 4   & 4   & 3   & 5   & ... & 3   & 4   & 5   & 4   & 4   & 4   & 5   & 3   & 5   & 4  \\\\\n",
       "\tu927 & 5   & 3   & 4   & 5   & 3   & 5   & 3   & 4   & 2   & 4   & ... & 4   & 4   & 3   & 4   & 4   & 4   & 3   & 3   & 4   & 5  \\\\\n",
       "\tu928 & 2   & 1   & 2   & 5   & 4   & 4   & 3   & 5   & 5   & 3   & ... & 4   & 4   & 5   & 2   & 1   & 5   & 3   & 3   & 3   & 3  \\\\\n",
       "\tu929 & 3   & 4   & 5   & 5   & 4   & 4   & 4   & 3   & 2   & 4   & ... & 4   & 3   & 3   & 5   & 4   & 2   & 5   & 4   & 3   & 5  \\\\\n",
       "\tu930 & 3   & 4   & 3   & 4   & 2   & 3   & 5   & 3   & 2   & 3   & ... & 3   & 5   & 4   & 3   & 4   & 3   & 3   & 3   & 4   & 3  \\\\\n",
       "\tu931 & 4   & 3   & 3   & 5   & 3   & 3   & 5   & 4   & 4   & 3   & ... & 3   & 3   & 3   & 4   & 4   & 3   & 3   & 4   & 4   & 3  \\\\\n",
       "\tu932 & 4   & 4   & 5   & 4   & 3   & 4   & 4   & 3   & 5   & 5   & ... & 4   & 3   & 5   & 3   & 1   & 2   & 5   & 3   & 2   & 5  \\\\\n",
       "\tu933 & 3   & 4   & 5   & 3   & 2   & 4   & 4   & 4   & 3   & 5   & ... & 4   & 5   & 2   & 4   & 3   & 4   & 4   & 2   & 4   & 3  \\\\\n",
       "\tu934 & 2   & 4   & 3   & 5   & 2   & 4   & 4   & 1   & 3   & 3   & ... & 3   & 3   & 4   & 3   & 3   & 1   & 2   & 4   & 2   & 4  \\\\\n",
       "\tu935 & 3   & 4   & 4   & 5   & 5   & 1   & 5   & 3   & 1   & 4   & ... & 1   & 4   & 3   & 4   & 2   & 3   & 3   & 5   & 4   & 4  \\\\\n",
       "\tu936 & 4   & 4   & 4   & 4   & 3   & 5   & 4   & 4   & 4   & 4   & ... & 3   & 4   & 5   & 4   & 1   & 5   & 3   & 5   & 4   & 3  \\\\\n",
       "\tu937 & 3   & 3   & 3   & 4   & 1   & 4   & 3   & 4   & 5   & 5   & ... & 4   & 4   & 1   & 4   & 4   & 3   & 3   & 4   & 5   & 1  \\\\\n",
       "\tu938 & 4   & 1   & 5   & 5   & 4   & 4   & 4   & 3   & 3   & 3   & ... & 2   & 4   & 5   & 5   & 1   & 3   & 5   & 3   & 5   & 1  \\\\\n",
       "\tu939 & 4   & 3   & 5   & 4   & 3   & 1   & 5   & 3   & 5   & 4   & ... & 3   & 3   & 3   & 2   & 1   & 4   & 4   & 5   & 3   & 5  \\\\\n",
       "\tu940 & 4   & 3   & 4   & 2   & 5   & 3   & 4   & 5   & 3   & 3   & ... & 3   & 3   & 3   & 4   & 5   & 1   & 4   & 5   & 5   & 4  \\\\\n",
       "\tu941 & 5   & 4   & 5   & 2   & 4   & 2   & 4   & 5   & 3   & 3   & ... & 5   & 5   & 3   & 5   & 5   & 3   & 3   & 4   & 5   & 4  \\\\\n",
       "\tu942 & 1   & 2   & 3   & 5   & 4   & 4   & 2   & 3   & 4   & 5   & ... & 5   & 4   & 4   & 2   & 2   & 4   & 4   & 5   & 2   & 4  \\\\\n",
       "\tu943 & 1   & 5   & 4   & 2   & 5   & 5   & 1   & 5   & 3   & 5   & ... & 3   & 2   & 3   & 3   & 5   & 5   & 1   & 4   & 5   & 4  \\\\\n",
       "\\end{tabular}\n"
      ],
      "text/markdown": [
       "\n",
       "| <!--/--> | i1 | i2 | i3 | i4 | i5 | i6 | i7 | i8 | i9 | i10 | ... | i1673 | i1674 | i1675 | i1676 | i1677 | i1678 | i1679 | i1680 | i1681 | i1682 | \n",
       "|---|---|---|---|---|---|---|---|---|---|---|---|---|---|---|---|---|---|---|---|---|---|---|---|---|---|---|---|---|---|---|---|---|---|---|---|---|---|---|---|---|---|---|---|---|---|---|---|---|---|---|---|---|---|---|---|---|---|---|---|---|\n",
       "| u1 | 5   | 3   | 4   | 3   | 3   | 5   | 4   | 1   | 5   | 3   | ... | 4   | 4   | 4   | 4   | 4   | 3   | 2   | 5   | 4   | 3   | \n",
       "| u2 | 4   | 4   | 3   | 3   | 3   | 2   | 4   | 4   | 5   | 2   | ... | 2   | 4   | 3   | 4   | 3   | 3   | 5   | 5   | 3   | 5   | \n",
       "| u3 | 4   | 4   | 4   | 5   | 2   | 4   | 4   | 2   | 5   | 3   | ... | 3   | 4   | 4   | 4   | 4   | 3   | 2   | 5   | 5   | 4   | \n",
       "| u4 | 5   | 4   | 5   | 3   | 3   | 5   | 4   | 4   | 2   | 1   | ... | 5   | 4   | 4   | 4   | 3   | 4   | 3   | 5   | 4   | 3   | \n",
       "| u5 | 4   | 3   | 4   | 3   | 4   | 1   | 4   | 4   | 3   | 3   | ... | 3   | 5   | 3   | 4   | 2   | 3   | 3   | 4   | 4   | 4   | \n",
       "| u6 | 4   | 4   | 2   | 4   | 5   | 2   | 2   | 4   | 4   | 5   | ... | 3   | 5   | 3   | 5   | 4   | 4   | 4   | 5   | 5   | 3   | \n",
       "| u7 | 4   | 3   | 1   | 5   | 3   | 3   | 5   | 5   | 5   | 4   | ... | 4   | 1   | 4   | 3   | 2   | 4   | 2   | 2   | 3   | 5   | \n",
       "| u8 | 5   | 4   | 4   | 4   | 5   | 2   | 3   | 2   | 5   | 4   | ... | 3   | 5   | 4   | 5   | 4   | 4   | 3   | 3   | 4   | 4   | \n",
       "| u9 | 3   | 2   | 4   | 5   | 4   | 5   | 4   | 3   | 4   | 4   | ... | 4   | 3   | 4   | 4   | 4   | 2   | 3   | 4   | 2   | 5   | \n",
       "| u10 | 4   | 3   | 2   | 4   | 5   | 3   | 4   | 5   | 4   | 5   | ... | 2   | 3   | 4   | 4   | 5   | 2   | 2   | 5   | 3   | 4   | \n",
       "| u11 | 2   | 4   | 3   | 5   | 4   | 4   | 4   | 4   | 5   | 4   | ... | 5   | 4   | 3   | 4   | 4   | 1   | 3   | 4   | 5   | 5   | \n",
       "| u12 | 3   | 3   | 3   | 5   | 3   | 5   | 4   | 4   | 3   | 4   | ... | 2   | 2   | 4   | 2   | 5   | 4   | 4   | 4   | 3   | 4   | \n",
       "| u13 | 3   | 3   | 4   | 5   | 1   | 4   | 2   | 4   | 3   | 4   | ... | 5   | 2   | 5   | 3   | 5   | 4   | 3   | 5   | 2   | 3   | \n",
       "| u14 | 4   | 4   | 3   | 3   | 5   | 4   | 5   | 4   | 4   | 4   | ... | 3   | 4   | 4   | 4   | 5   | 4   | 5   | 4   | 5   | 4   | \n",
       "| u15 | 1   | 3   | 3   | 5   | 5   | 2   | 1   | 4   | 4   | 5   | ... | 3   | 4   | 5   | 4   | 3   | 4   | 2   | 1   | 2   | 3   | \n",
       "| u16 | 5   | 4   | 3   | 5   | 3   | 4   | 5   | 5   | 5   | 1   | ... | 4   | 4   | 2   | 3   | 2   | 4   | 5   | 5   | 4   | 4   | \n",
       "| u17 | 4   | 4   | 5   | 5   | 4   | 5   | 4   | 3   | 3   | 4   | ... | 4   | 2   | 3   | 2   | 2   | 3   | 4   | 1   | 3   | 3   | \n",
       "| u18 | 5   | 3   | 4   | 3   | 1   | 5   | 3   | 5   | 5   | 1   | ... | 3   | 2   | 3   | 4   | 4   | 3   | 5   | 1   | 4   | 3   | \n",
       "| u19 | 4   | 3   | 2   | 4   | 4   | 2   | 4   | 5   | 4   | 5   | ... | 4   | 3   | 4   | 4   | 3   | 3   | 4   | 4   | 3   | 3   | \n",
       "| u20 | 3   | 4   | 3   | 5   | 4   | 5   | 1   | 2   | 3   | 3   | ... | 3   | 3   | 4   | 3   | 2   | 3   | 4   | 4   | 2   | 4   | \n",
       "| u21 | 5   | 1   | 3   | 3   | 2   | 5   | 5   | 4   | 5   | 3   | ... | 1   | 3   | 2   | 2   | 2   | 1   | 4   | 1   | 5   | 3   | \n",
       "| u22 | 1   | 2   | 3   | 5   | 2   | 4   | 5   | 4   | 5   | 4   | ... | 2   | 3   | 5   | 3   | 4   | 5   | 5   | 2   | 4   | 3   | \n",
       "| u23 | 5   | 4   | 4   | 4   | 5   | 2   | 4   | 4   | 4   | 4   | ... | 2   | 4   | 3   | 3   | 5   | 4   | 3   | 4   | 4   | 4   | \n",
       "| u24 | 1   | 2   | 4   | 3   | 4   | 5   | 4   | 5   | 5   | 4   | ... | 5   | 2   | 5   | 4   | 5   | 3   | 4   | 1   | 3   | 2   | \n",
       "| u25 | 5   | 4   | 3   | 4   | 2   | 2   | 4   | 4   | 1   | 2   | ... | 5   | 3   | 1   | 5   | 4   | 4   | 5   | 1   | 4   | 1   | \n",
       "| u26 | 3   | 4   | 4   | 4   | 4   | 4   | 3   | 4   | 4   | 4   | ... | 2   | 4   | 3   | 4   | 3   | 3   | 4   | 3   | 2   | 3   | \n",
       "| u27 | 4   | 5   | 2   | 4   | 5   | 5   | 4   | 4   | 4   | 4   | ... | 5   | 5   | 4   | 5   | 1   | 3   | 3   | 3   | 4   | 4   | \n",
       "| u28 | 4   | 3   | 5   | 2   | 3   | 4   | 5   | 3   | 4   | 4   | ... | 3   | 2   | 3   | 5   | 3   | 3   | 4   | 4   | 1   | 4   | \n",
       "| u29 | 1   | 2   | 5   | 4   | 5   | 2   | 4   | 4   | 1   | 4   | ... | 3   | 4   | 3   | 3   | 4   | 5   | 4   | 5   | 2   | 1   | \n",
       "| u30 | 3   | 3   | 3   | 4   | 3   | 4   | 4   | 3   | 3   | 5   | ... | 2   | 5   | 5   | 5   | 5   | 5   | 5   | 3   | 3   | 5   | \n",
       "| ... | ... | ... | ... | ... | ... | ... | ... | ... | ... | ... |     | ... | ... | ... | ... | ... | ... | ... | ... | ... | ... | \n",
       "| u914 | 3   | 3   | 2   | 4   | 4   | 4   | 4   | 1   | 4   | 4   | ... | 5   | 4   | 2   | 3   | 4   | 3   | 3   | 4   | 5   | 5   | \n",
       "| u915 | 4   | 5   | 5   | 3   | 3   | 4   | 2   | 5   | 3   | 2   | ... | 4   | 5   | 2   | 3   | 3   | 4   | 5   | 1   | 3   | 4   | \n",
       "| u916 | 4   | 3   | 3   | 4   | 3   | 3   | 4   | 3   | 5   | 3   | ... | 3   | 2   | 3   | 5   | 4   | 2   | 1   | 3   | 4   | 3   | \n",
       "| u917 | 3   | 3   | 1   | 3   | 5   | 4   | 4   | 5   | 5   | 4   | ... | 4   | 5   | 3   | 3   | 4   | 4   | 5   | 5   | 4   | 5   | \n",
       "| u918 | 3   | 2   | 5   | 1   | 2   | 3   | 3   | 2   | 4   | 5   | ... | 2   | 5   | 3   | 5   | 2   | 3   | 5   | 4   | 3   | 5   | \n",
       "| u919 | 4   | 4   | 2   | 1   | 4   | 5   | 3   | 3   | 5   | 3   | ... | 4   | 4   | 4   | 4   | 4   | 1   | 3   | 1   | 2   | 2   | \n",
       "| u920 | 5   | 4   | 2   | 1   | 5   | 5   | 3   | 5   | 4   | 3   | ... | 3   | 5   | 3   | 4   | 3   | 3   | 5   | 5   | 5   | 2   | \n",
       "| u921 | 3   | 4   | 1   | 2   | 4   | 3   | 4   | 3   | 5   | 4   | ... | 3   | 5   | 4   | 4   | 1   | 4   | 4   | 5   | 3   | 3   | \n",
       "| u922 | 5   | 4   | 3   | 5   | 3   | 3   | 3   | 3   | 4   | 4   | ... | 2   | 4   | 4   | 3   | 3   | 4   | 5   | 2   | 3   | 4   | \n",
       "| u923 | 3   | 5   | 4   | 5   | 5   | 4   | 4   | 5   | 4   | 4   | ... | 4   | 3   | 3   | 5   | 4   | 4   | 5   | 4   | 4   | 4   | \n",
       "| u924 | 5   | 3   | 5   | 5   | 4   | 4   | 4   | 2   | 4   | 5   | ... | 4   | 3   | 4   | 4   | 3   | 4   | 4   | 5   | 3   | 3   | \n",
       "| u925 | 4   | 2   | 2   | 3   | 4   | 2   | 4   | 4   | 3   | 2   | ... | 1   | 3   | 5   | 5   | 3   | 4   | 2   | 4   | 3   | 5   | \n",
       "| u926 | 3   | 2   | 3   | 4   | 5   | 4   | 4   | 4   | 3   | 5   | ... | 3   | 4   | 5   | 4   | 4   | 4   | 5   | 3   | 5   | 4   | \n",
       "| u927 | 5   | 3   | 4   | 5   | 3   | 5   | 3   | 4   | 2   | 4   | ... | 4   | 4   | 3   | 4   | 4   | 4   | 3   | 3   | 4   | 5   | \n",
       "| u928 | 2   | 1   | 2   | 5   | 4   | 4   | 3   | 5   | 5   | 3   | ... | 4   | 4   | 5   | 2   | 1   | 5   | 3   | 3   | 3   | 3   | \n",
       "| u929 | 3   | 4   | 5   | 5   | 4   | 4   | 4   | 3   | 2   | 4   | ... | 4   | 3   | 3   | 5   | 4   | 2   | 5   | 4   | 3   | 5   | \n",
       "| u930 | 3   | 4   | 3   | 4   | 2   | 3   | 5   | 3   | 2   | 3   | ... | 3   | 5   | 4   | 3   | 4   | 3   | 3   | 3   | 4   | 3   | \n",
       "| u931 | 4   | 3   | 3   | 5   | 3   | 3   | 5   | 4   | 4   | 3   | ... | 3   | 3   | 3   | 4   | 4   | 3   | 3   | 4   | 4   | 3   | \n",
       "| u932 | 4   | 4   | 5   | 4   | 3   | 4   | 4   | 3   | 5   | 5   | ... | 4   | 3   | 5   | 3   | 1   | 2   | 5   | 3   | 2   | 5   | \n",
       "| u933 | 3   | 4   | 5   | 3   | 2   | 4   | 4   | 4   | 3   | 5   | ... | 4   | 5   | 2   | 4   | 3   | 4   | 4   | 2   | 4   | 3   | \n",
       "| u934 | 2   | 4   | 3   | 5   | 2   | 4   | 4   | 1   | 3   | 3   | ... | 3   | 3   | 4   | 3   | 3   | 1   | 2   | 4   | 2   | 4   | \n",
       "| u935 | 3   | 4   | 4   | 5   | 5   | 1   | 5   | 3   | 1   | 4   | ... | 1   | 4   | 3   | 4   | 2   | 3   | 3   | 5   | 4   | 4   | \n",
       "| u936 | 4   | 4   | 4   | 4   | 3   | 5   | 4   | 4   | 4   | 4   | ... | 3   | 4   | 5   | 4   | 1   | 5   | 3   | 5   | 4   | 3   | \n",
       "| u937 | 3   | 3   | 3   | 4   | 1   | 4   | 3   | 4   | 5   | 5   | ... | 4   | 4   | 1   | 4   | 4   | 3   | 3   | 4   | 5   | 1   | \n",
       "| u938 | 4   | 1   | 5   | 5   | 4   | 4   | 4   | 3   | 3   | 3   | ... | 2   | 4   | 5   | 5   | 1   | 3   | 5   | 3   | 5   | 1   | \n",
       "| u939 | 4   | 3   | 5   | 4   | 3   | 1   | 5   | 3   | 5   | 4   | ... | 3   | 3   | 3   | 2   | 1   | 4   | 4   | 5   | 3   | 5   | \n",
       "| u940 | 4   | 3   | 4   | 2   | 5   | 3   | 4   | 5   | 3   | 3   | ... | 3   | 3   | 3   | 4   | 5   | 1   | 4   | 5   | 5   | 4   | \n",
       "| u941 | 5   | 4   | 5   | 2   | 4   | 2   | 4   | 5   | 3   | 3   | ... | 5   | 5   | 3   | 5   | 5   | 3   | 3   | 4   | 5   | 4   | \n",
       "| u942 | 1   | 2   | 3   | 5   | 4   | 4   | 2   | 3   | 4   | 5   | ... | 5   | 4   | 4   | 2   | 2   | 4   | 4   | 5   | 2   | 4   | \n",
       "| u943 | 1   | 5   | 4   | 2   | 5   | 5   | 1   | 5   | 3   | 5   | ... | 3   | 2   | 3   | 3   | 5   | 5   | 1   | 4   | 5   | 4   | \n",
       "\n",
       "\n"
      ],
      "text/plain": [
       "     i1  i2  i3  i4  i5  i6  i7  i8  i9  i10 ... i1673 i1674 i1675 i1676 i1677\n",
       "u1   5   3   4   3   3   5   4   1   5   3   ... 4     4     4     4     4    \n",
       "u2   4   4   3   3   3   2   4   4   5   2   ... 2     4     3     4     3    \n",
       "u3   4   4   4   5   2   4   4   2   5   3   ... 3     4     4     4     4    \n",
       "u4   5   4   5   3   3   5   4   4   2   1   ... 5     4     4     4     3    \n",
       "u5   4   3   4   3   4   1   4   4   3   3   ... 3     5     3     4     2    \n",
       "u6   4   4   2   4   5   2   2   4   4   5   ... 3     5     3     5     4    \n",
       "u7   4   3   1   5   3   3   5   5   5   4   ... 4     1     4     3     2    \n",
       "u8   5   4   4   4   5   2   3   2   5   4   ... 3     5     4     5     4    \n",
       "u9   3   2   4   5   4   5   4   3   4   4   ... 4     3     4     4     4    \n",
       "u10  4   3   2   4   5   3   4   5   4   5   ... 2     3     4     4     5    \n",
       "u11  2   4   3   5   4   4   4   4   5   4   ... 5     4     3     4     4    \n",
       "u12  3   3   3   5   3   5   4   4   3   4   ... 2     2     4     2     5    \n",
       "u13  3   3   4   5   1   4   2   4   3   4   ... 5     2     5     3     5    \n",
       "u14  4   4   3   3   5   4   5   4   4   4   ... 3     4     4     4     5    \n",
       "u15  1   3   3   5   5   2   1   4   4   5   ... 3     4     5     4     3    \n",
       "u16  5   4   3   5   3   4   5   5   5   1   ... 4     4     2     3     2    \n",
       "u17  4   4   5   5   4   5   4   3   3   4   ... 4     2     3     2     2    \n",
       "u18  5   3   4   3   1   5   3   5   5   1   ... 3     2     3     4     4    \n",
       "u19  4   3   2   4   4   2   4   5   4   5   ... 4     3     4     4     3    \n",
       "u20  3   4   3   5   4   5   1   2   3   3   ... 3     3     4     3     2    \n",
       "u21  5   1   3   3   2   5   5   4   5   3   ... 1     3     2     2     2    \n",
       "u22  1   2   3   5   2   4   5   4   5   4   ... 2     3     5     3     4    \n",
       "u23  5   4   4   4   5   2   4   4   4   4   ... 2     4     3     3     5    \n",
       "u24  1   2   4   3   4   5   4   5   5   4   ... 5     2     5     4     5    \n",
       "u25  5   4   3   4   2   2   4   4   1   2   ... 5     3     1     5     4    \n",
       "u26  3   4   4   4   4   4   3   4   4   4   ... 2     4     3     4     3    \n",
       "u27  4   5   2   4   5   5   4   4   4   4   ... 5     5     4     5     1    \n",
       "u28  4   3   5   2   3   4   5   3   4   4   ... 3     2     3     5     3    \n",
       "u29  1   2   5   4   5   2   4   4   1   4   ... 3     4     3     3     4    \n",
       "u30  3   3   3   4   3   4   4   3   3   5   ... 2     5     5     5     5    \n",
       "...  ... ... ... ... ... ... ... ... ... ...     ...   ...   ...   ...   ...  \n",
       "u914 3   3   2   4   4   4   4   1   4   4   ... 5     4     2     3     4    \n",
       "u915 4   5   5   3   3   4   2   5   3   2   ... 4     5     2     3     3    \n",
       "u916 4   3   3   4   3   3   4   3   5   3   ... 3     2     3     5     4    \n",
       "u917 3   3   1   3   5   4   4   5   5   4   ... 4     5     3     3     4    \n",
       "u918 3   2   5   1   2   3   3   2   4   5   ... 2     5     3     5     2    \n",
       "u919 4   4   2   1   4   5   3   3   5   3   ... 4     4     4     4     4    \n",
       "u920 5   4   2   1   5   5   3   5   4   3   ... 3     5     3     4     3    \n",
       "u921 3   4   1   2   4   3   4   3   5   4   ... 3     5     4     4     1    \n",
       "u922 5   4   3   5   3   3   3   3   4   4   ... 2     4     4     3     3    \n",
       "u923 3   5   4   5   5   4   4   5   4   4   ... 4     3     3     5     4    \n",
       "u924 5   3   5   5   4   4   4   2   4   5   ... 4     3     4     4     3    \n",
       "u925 4   2   2   3   4   2   4   4   3   2   ... 1     3     5     5     3    \n",
       "u926 3   2   3   4   5   4   4   4   3   5   ... 3     4     5     4     4    \n",
       "u927 5   3   4   5   3   5   3   4   2   4   ... 4     4     3     4     4    \n",
       "u928 2   1   2   5   4   4   3   5   5   3   ... 4     4     5     2     1    \n",
       "u929 3   4   5   5   4   4   4   3   2   4   ... 4     3     3     5     4    \n",
       "u930 3   4   3   4   2   3   5   3   2   3   ... 3     5     4     3     4    \n",
       "u931 4   3   3   5   3   3   5   4   4   3   ... 3     3     3     4     4    \n",
       "u932 4   4   5   4   3   4   4   3   5   5   ... 4     3     5     3     1    \n",
       "u933 3   4   5   3   2   4   4   4   3   5   ... 4     5     2     4     3    \n",
       "u934 2   4   3   5   2   4   4   1   3   3   ... 3     3     4     3     3    \n",
       "u935 3   4   4   5   5   1   5   3   1   4   ... 1     4     3     4     2    \n",
       "u936 4   4   4   4   3   5   4   4   4   4   ... 3     4     5     4     1    \n",
       "u937 3   3   3   4   1   4   3   4   5   5   ... 4     4     1     4     4    \n",
       "u938 4   1   5   5   4   4   4   3   3   3   ... 2     4     5     5     1    \n",
       "u939 4   3   5   4   3   1   5   3   5   4   ... 3     3     3     2     1    \n",
       "u940 4   3   4   2   5   3   4   5   3   3   ... 3     3     3     4     5    \n",
       "u941 5   4   5   2   4   2   4   5   3   3   ... 5     5     3     5     5    \n",
       "u942 1   2   3   5   4   4   2   3   4   5   ... 5     4     4     2     2    \n",
       "u943 1   5   4   2   5   5   1   5   3   5   ... 3     2     3     3     5    \n",
       "     i1678 i1679 i1680 i1681 i1682\n",
       "u1   3     2     5     4     3    \n",
       "u2   3     5     5     3     5    \n",
       "u3   3     2     5     5     4    \n",
       "u4   4     3     5     4     3    \n",
       "u5   3     3     4     4     4    \n",
       "u6   4     4     5     5     3    \n",
       "u7   4     2     2     3     5    \n",
       "u8   4     3     3     4     4    \n",
       "u9   2     3     4     2     5    \n",
       "u10  2     2     5     3     4    \n",
       "u11  1     3     4     5     5    \n",
       "u12  4     4     4     3     4    \n",
       "u13  4     3     5     2     3    \n",
       "u14  4     5     4     5     4    \n",
       "u15  4     2     1     2     3    \n",
       "u16  4     5     5     4     4    \n",
       "u17  3     4     1     3     3    \n",
       "u18  3     5     1     4     3    \n",
       "u19  3     4     4     3     3    \n",
       "u20  3     4     4     2     4    \n",
       "u21  1     4     1     5     3    \n",
       "u22  5     5     2     4     3    \n",
       "u23  4     3     4     4     4    \n",
       "u24  3     4     1     3     2    \n",
       "u25  4     5     1     4     1    \n",
       "u26  3     4     3     2     3    \n",
       "u27  3     3     3     4     4    \n",
       "u28  3     4     4     1     4    \n",
       "u29  5     4     5     2     1    \n",
       "u30  5     5     3     3     5    \n",
       "...  ...   ...   ...   ...   ...  \n",
       "u914 3     3     4     5     5    \n",
       "u915 4     5     1     3     4    \n",
       "u916 2     1     3     4     3    \n",
       "u917 4     5     5     4     5    \n",
       "u918 3     5     4     3     5    \n",
       "u919 1     3     1     2     2    \n",
       "u920 3     5     5     5     2    \n",
       "u921 4     4     5     3     3    \n",
       "u922 4     5     2     3     4    \n",
       "u923 4     5     4     4     4    \n",
       "u924 4     4     5     3     3    \n",
       "u925 4     2     4     3     5    \n",
       "u926 4     5     3     5     4    \n",
       "u927 4     3     3     4     5    \n",
       "u928 5     3     3     3     3    \n",
       "u929 2     5     4     3     5    \n",
       "u930 3     3     3     4     3    \n",
       "u931 3     3     4     4     3    \n",
       "u932 2     5     3     2     5    \n",
       "u933 4     4     2     4     3    \n",
       "u934 1     2     4     2     4    \n",
       "u935 3     3     5     4     4    \n",
       "u936 5     3     5     4     3    \n",
       "u937 3     3     4     5     1    \n",
       "u938 3     5     3     5     1    \n",
       "u939 4     4     5     3     5    \n",
       "u940 1     4     5     5     4    \n",
       "u941 3     3     4     5     4    \n",
       "u942 4     4     5     2     4    \n",
       "u943 5     1     4     5     4    "
      ]
     },
     "metadata": {},
     "output_type": "display_data"
    }
   ],
   "source": [
    "m"
   ]
  },
  {
   "cell_type": "code",
   "execution_count": 71,
   "metadata": {},
   "outputs": [],
   "source": [
    "m.svd <- svd(m)\n",
    "\n"
   ]
  },
  {
   "cell_type": "code",
   "execution_count": 72,
   "metadata": {},
   "outputs": [
    {
     "data": {
      "text/html": [
       "<dl>\n",
       "\t<dt>$mae</dt>\n",
       "\t\t<dd>0.910811473993869</dd>\n",
       "\t<dt>$rmse</dt>\n",
       "\t\t<dd>1.10274525841596</dd>\n",
       "</dl>\n"
      ],
      "text/latex": [
       "\\begin{description}\n",
       "\\item[\\$mae] 0.910811473993869\n",
       "\\item[\\$rmse] 1.10274525841596\n",
       "\\end{description}\n"
      ],
      "text/markdown": [
       "$mae\n",
       ":   0.910811473993869\n",
       "$rmse\n",
       ":   1.10274525841596\n",
       "\n",
       "\n"
      ],
      "text/plain": [
       "$mae\n",
       "[1] 0.9108115\n",
       "\n",
       "$rmse\n",
       "[1] 1.102745\n"
      ]
     },
     "metadata": {},
     "output_type": "display_data"
    }
   ],
   "source": [
    "new.m.mae.rmse(10)"
   ]
  },
  {
   "cell_type": "code",
   "execution_count": 79,
   "metadata": {},
   "outputs": [
    {
     "data": {
      "image/png": "[encoded data removed]",
      "text/plain": [
       "Plot with title \"Histogram of m\""
      ]
     },
     "metadata": {},
     "output_type": "display_data"
    }
   ],
   "source": [
    "hist.values2 <- hist(m)\n",
    "hist.values2$density = hist.values2$counts/sum(hist.values2$counts)*100\n"
   ]
  },
  {
   "cell_type": "code",
   "execution_count": 80,
   "metadata": {},
   "outputs": [
    {
     "data": {
      "image/png": "[encoded data removed]",
      "text/plain": [
       "Plot with title \"Histogram of u.data$rating\""
      ]
     },
     "metadata": {},
     "output_type": "display_data"
    },
    {
     "data": {
      "image/png": "[encoded data removed]",
      "text/plain": [
       "Plot with title \"Histogram of m\""
      ]
     },
     "metadata": {},
     "output_type": "display_data"
    }
   ],
   "source": [
    "plot(hist.values,freq=FALSE)\n",
    "plot(hist.values2,freq=FALSE)"
   ]
  },
  {
   "cell_type": "code",
   "execution_count": null,
   "metadata": {},
   "outputs": [],
   "source": []
  }
 ],
 "metadata": {
  "kernelspec": {
   "display_name": "R",
   "language": "R",
   "name": "ir"
  },
  "language_info": {
   "codemirror_mode": "r",
   "file_extension": ".r",
   "mimetype": "text/x-r-source",
   "name": "R",
   "pygments_lexer": "r",
   "version": "3.5.1"
  }
 },
 "nbformat": 4,
 "nbformat_minor": 2
}
