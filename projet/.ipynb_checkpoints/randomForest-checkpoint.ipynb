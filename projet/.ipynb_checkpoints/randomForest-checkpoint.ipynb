{
 "cells": [
  {
   "cell_type": "code",
   "execution_count": 1,
   "metadata": {},
   "outputs": [],
   "source": [
    "### Si données locales\n",
    "library(Matrix)\n",
    "u.user <- read.csv(file='u.user.csv', sep='|', header=T)\n",
    "u.item <- read.csv(file='u.item.csv', sep='|', header=T)\n",
    "u.data <- read.csv(file='u.data.csv', sep='|', header=T)\n",
    "\n",
    "m.sparse <- sparseMatrix(u.data[,1],u.data[,2],x=u.data[,3])\n",
    "rownames(m.sparse) <- paste('u', 1:nrow(m.sparse), sep='')\n",
    "colnames(m.sparse) <- paste('i', 1:ncol(m.sparse), sep='')\n",
    "\n",
    "m <- as.matrix(m.sparse)                # transforme en matrice ordinaire\n",
    "m.na <- m\n",
    "m.na[m.na==0] <- NA\n",
    "\n",
    "# Cosinus normal des lignes d'une matrice\n",
    "matrix.cos <- function(m) {\n",
    "     (m %*% t(m)) / ( t(matrix(sqrt(rowSums(m^2)),nrow(m),nrow(m)))\n",
    "                    * (sqrt(rowSums(m^2))) )\n",
    "}\n",
    "# on normalise les ages\n",
    "u.user.norm <- u.user\n",
    "u.user.norm$age = (u.user.norm$age - min(u.user.norm$age)) / (max(u.user.norm$age) - min(u.user.norm$age))\n",
    "\n",
    "# on normalise les votes\n",
    "u.data.norm <- u.data\n",
    "u.data.norm$rating = (u.data.norm$rating - min(u.data.norm$rating)) / (max(u.data.norm$rating) - min(u.data.norm$rating))\n",
    "\n",
    "m.na.norm <- m.na/5\n",
    "m.norm <- m/5\n",
    "\n"
   ]
  },
  {
   "cell_type": "code",
   "execution_count": 2,
   "metadata": {},
   "outputs": [
    {
     "data": {
      "text/html": [
       "<table>\n",
       "<thead><tr><th scope=col>user.id</th><th scope=col>age</th><th scope=col>gender</th><th scope=col>job</th><th scope=col>zip</th></tr></thead>\n",
       "<tbody>\n",
       "\t<tr><td>1         </td><td>24        </td><td>M         </td><td>technician</td><td>85711     </td></tr>\n",
       "\t<tr><td>2         </td><td>53        </td><td>F         </td><td>other     </td><td>94043     </td></tr>\n",
       "\t<tr><td>3         </td><td>23        </td><td>M         </td><td>writer    </td><td>32067     </td></tr>\n",
       "\t<tr><td>4         </td><td>24        </td><td>M         </td><td>technician</td><td>43537     </td></tr>\n",
       "\t<tr><td>5         </td><td>33        </td><td>F         </td><td>other     </td><td>15213     </td></tr>\n",
       "\t<tr><td>6         </td><td>42        </td><td>M         </td><td>executive </td><td>98101     </td></tr>\n",
       "</tbody>\n",
       "</table>\n"
      ],
      "text/latex": [
       "\\begin{tabular}{r|lllll}\n",
       " user.id & age & gender & job & zip\\\\\n",
       "\\hline\n",
       "\t 1          & 24         & M          & technician & 85711     \\\\\n",
       "\t 2          & 53         & F          & other      & 94043     \\\\\n",
       "\t 3          & 23         & M          & writer     & 32067     \\\\\n",
       "\t 4          & 24         & M          & technician & 43537     \\\\\n",
       "\t 5          & 33         & F          & other      & 15213     \\\\\n",
       "\t 6          & 42         & M          & executive  & 98101     \\\\\n",
       "\\end{tabular}\n"
      ],
      "text/markdown": [
       "\n",
       "user.id | age | gender | job | zip | \n",
       "|---|---|---|---|---|---|\n",
       "| 1          | 24         | M          | technician | 85711      | \n",
       "| 2          | 53         | F          | other      | 94043      | \n",
       "| 3          | 23         | M          | writer     | 32067      | \n",
       "| 4          | 24         | M          | technician | 43537      | \n",
       "| 5          | 33         | F          | other      | 15213      | \n",
       "| 6          | 42         | M          | executive  | 98101      | \n",
       "\n",
       "\n"
      ],
      "text/plain": [
       "  user.id age gender job        zip  \n",
       "1 1       24  M      technician 85711\n",
       "2 2       53  F      other      94043\n",
       "3 3       23  M      writer     32067\n",
       "4 4       24  M      technician 43537\n",
       "5 5       33  F      other      15213\n",
       "6 6       42  M      executive  98101"
      ]
     },
     "metadata": {},
     "output_type": "display_data"
    },
    {
     "data": {
      "text/html": [
       "<table>\n",
       "<thead><tr><th scope=col>user.id</th><th scope=col>movie.id</th><th scope=col>rating</th><th scope=col>ts</th></tr></thead>\n",
       "<tbody>\n",
       "\t<tr><td>196      </td><td>242      </td><td>3        </td><td>881250949</td></tr>\n",
       "\t<tr><td>186      </td><td>302      </td><td>3        </td><td>891717742</td></tr>\n",
       "\t<tr><td> 22      </td><td>377      </td><td>1        </td><td>878887116</td></tr>\n",
       "\t<tr><td>244      </td><td> 51      </td><td>2        </td><td>880606923</td></tr>\n",
       "\t<tr><td>166      </td><td>346      </td><td>1        </td><td>886397596</td></tr>\n",
       "\t<tr><td>298      </td><td>474      </td><td>4        </td><td>884182806</td></tr>\n",
       "</tbody>\n",
       "</table>\n"
      ],
      "text/latex": [
       "\\begin{tabular}{r|llll}\n",
       " user.id & movie.id & rating & ts\\\\\n",
       "\\hline\n",
       "\t 196       & 242       & 3         & 881250949\\\\\n",
       "\t 186       & 302       & 3         & 891717742\\\\\n",
       "\t  22       & 377       & 1         & 878887116\\\\\n",
       "\t 244       &  51       & 2         & 880606923\\\\\n",
       "\t 166       & 346       & 1         & 886397596\\\\\n",
       "\t 298       & 474       & 4         & 884182806\\\\\n",
       "\\end{tabular}\n"
      ],
      "text/markdown": [
       "\n",
       "user.id | movie.id | rating | ts | \n",
       "|---|---|---|---|---|---|\n",
       "| 196       | 242       | 3         | 881250949 | \n",
       "| 186       | 302       | 3         | 891717742 | \n",
       "|  22       | 377       | 1         | 878887116 | \n",
       "| 244       |  51       | 2         | 880606923 | \n",
       "| 166       | 346       | 1         | 886397596 | \n",
       "| 298       | 474       | 4         | 884182806 | \n",
       "\n",
       "\n"
      ],
      "text/plain": [
       "  user.id movie.id rating ts       \n",
       "1 196     242      3      881250949\n",
       "2 186     302      3      891717742\n",
       "3  22     377      1      878887116\n",
       "4 244      51      2      880606923\n",
       "5 166     346      1      886397596\n",
       "6 298     474      4      884182806"
      ]
     },
     "metadata": {},
     "output_type": "display_data"
    },
    {
     "data": {
      "text/html": [
       "<table>\n",
       "<thead><tr><th scope=col>user.id</th><th scope=col>age</th><th scope=col>gender</th><th scope=col>job</th><th scope=col>zip</th><th scope=col>movie.id</th><th scope=col>rating</th><th scope=col>ts</th></tr></thead>\n",
       "<tbody>\n",
       "\t<tr><td>1         </td><td>24        </td><td>M         </td><td>technician</td><td>85711     </td><td>259       </td><td>1         </td><td>875692979 </td></tr>\n",
       "\t<tr><td>1         </td><td>24        </td><td>M         </td><td>technician</td><td>85711     </td><td>264       </td><td>2         </td><td>875071713 </td></tr>\n",
       "\t<tr><td>1         </td><td>24        </td><td>M         </td><td>technician</td><td>85711     </td><td>194       </td><td>4         </td><td>876892743 </td></tr>\n",
       "\t<tr><td>1         </td><td>24        </td><td>M         </td><td>technician</td><td>85711     </td><td>183       </td><td>5         </td><td>875072262 </td></tr>\n",
       "\t<tr><td>1         </td><td>24        </td><td>M         </td><td>technician</td><td>85711     </td><td> 40       </td><td>3         </td><td>876893230 </td></tr>\n",
       "\t<tr><td>1         </td><td>24        </td><td>M         </td><td>technician</td><td>85711     </td><td>226       </td><td>3         </td><td>878543176 </td></tr>\n",
       "</tbody>\n",
       "</table>\n"
      ],
      "text/latex": [
       "\\begin{tabular}{r|llllllll}\n",
       " user.id & age & gender & job & zip & movie.id & rating & ts\\\\\n",
       "\\hline\n",
       "\t 1          & 24         & M          & technician & 85711      & 259        & 1          & 875692979 \\\\\n",
       "\t 1          & 24         & M          & technician & 85711      & 264        & 2          & 875071713 \\\\\n",
       "\t 1          & 24         & M          & technician & 85711      & 194        & 4          & 876892743 \\\\\n",
       "\t 1          & 24         & M          & technician & 85711      & 183        & 5          & 875072262 \\\\\n",
       "\t 1          & 24         & M          & technician & 85711      &  40        & 3          & 876893230 \\\\\n",
       "\t 1          & 24         & M          & technician & 85711      & 226        & 3          & 878543176 \\\\\n",
       "\\end{tabular}\n"
      ],
      "text/markdown": [
       "\n",
       "user.id | age | gender | job | zip | movie.id | rating | ts | \n",
       "|---|---|---|---|---|---|\n",
       "| 1          | 24         | M          | technician | 85711      | 259        | 1          | 875692979  | \n",
       "| 1          | 24         | M          | technician | 85711      | 264        | 2          | 875071713  | \n",
       "| 1          | 24         | M          | technician | 85711      | 194        | 4          | 876892743  | \n",
       "| 1          | 24         | M          | technician | 85711      | 183        | 5          | 875072262  | \n",
       "| 1          | 24         | M          | technician | 85711      |  40        | 3          | 876893230  | \n",
       "| 1          | 24         | M          | technician | 85711      | 226        | 3          | 878543176  | \n",
       "\n",
       "\n"
      ],
      "text/plain": [
       "  user.id age gender job        zip   movie.id rating ts       \n",
       "1 1       24  M      technician 85711 259      1      875692979\n",
       "2 1       24  M      technician 85711 264      2      875071713\n",
       "3 1       24  M      technician 85711 194      4      876892743\n",
       "4 1       24  M      technician 85711 183      5      875072262\n",
       "5 1       24  M      technician 85711  40      3      876893230\n",
       "6 1       24  M      technician 85711 226      3      878543176"
      ]
     },
     "metadata": {},
     "output_type": "display_data"
    },
    {
     "data": {
      "text/html": [
       "<table>\n",
       "<thead><tr><th scope=col>movie.id</th><th scope=col>user.id</th><th scope=col>age</th><th scope=col>gender</th><th scope=col>job</th><th scope=col>zip</th><th scope=col>rating</th><th scope=col>ts</th><th scope=col>movie.title</th><th scope=col>release.date</th><th scope=col>...</th><th scope=col>Fantasy</th><th scope=col>Film.Noir</th><th scope=col>Horror</th><th scope=col>Musical</th><th scope=col>Mystery</th><th scope=col>Romance</th><th scope=col>Sci.Fi</th><th scope=col>Thriller</th><th scope=col>War</th><th scope=col>Western</th></tr></thead>\n",
       "<tbody>\n",
       "\t<tr><td>1               </td><td>918             </td><td>40              </td><td>M               </td><td>scientist       </td><td>70116           </td><td>3               </td><td>891987059       </td><td>Toy Story (1995)</td><td>01-Jan-1995     </td><td>...             </td><td>0               </td><td>0               </td><td>0               </td><td>0               </td><td>0               </td><td>0               </td><td>0               </td><td>0               </td><td>0               </td><td>0               </td></tr>\n",
       "\t<tr><td>1               </td><td>684             </td><td>28              </td><td>M               </td><td>student         </td><td>55414           </td><td>4               </td><td>875810928       </td><td>Toy Story (1995)</td><td>01-Jan-1995     </td><td>...             </td><td>0               </td><td>0               </td><td>0               </td><td>0               </td><td>0               </td><td>0               </td><td>0               </td><td>0               </td><td>0               </td><td>0               </td></tr>\n",
       "\t<tr><td>1               </td><td>660             </td><td>26              </td><td>M               </td><td>student         </td><td>77380           </td><td>3               </td><td>891406276       </td><td>Toy Story (1995)</td><td>01-Jan-1995     </td><td>...             </td><td>0               </td><td>0               </td><td>0               </td><td>0               </td><td>0               </td><td>0               </td><td>0               </td><td>0               </td><td>0               </td><td>0               </td></tr>\n",
       "\t<tr><td>1               </td><td>339             </td><td>35              </td><td>M               </td><td>lawyer          </td><td>37901           </td><td>5               </td><td>891032349       </td><td>Toy Story (1995)</td><td>01-Jan-1995     </td><td>...             </td><td>0               </td><td>0               </td><td>0               </td><td>0               </td><td>0               </td><td>0               </td><td>0               </td><td>0               </td><td>0               </td><td>0               </td></tr>\n",
       "\t<tr><td>1               </td><td>699             </td><td>44              </td><td>M               </td><td>other           </td><td>96754           </td><td>3               </td><td>878882272       </td><td>Toy Story (1995)</td><td>01-Jan-1995     </td><td>...             </td><td>0               </td><td>0               </td><td>0               </td><td>0               </td><td>0               </td><td>0               </td><td>0               </td><td>0               </td><td>0               </td><td>0               </td></tr>\n",
       "\t<tr><td>1               </td><td> 94             </td><td>26              </td><td>M               </td><td>student         </td><td>71457           </td><td>4               </td><td>885870323       </td><td>Toy Story (1995)</td><td>01-Jan-1995     </td><td>...             </td><td>0               </td><td>0               </td><td>0               </td><td>0               </td><td>0               </td><td>0               </td><td>0               </td><td>0               </td><td>0               </td><td>0               </td></tr>\n",
       "</tbody>\n",
       "</table>\n"
      ],
      "text/latex": [
       "\\begin{tabular}{r|lllllllllllllllllllllllllllllll}\n",
       " movie.id & user.id & age & gender & job & zip & rating & ts & movie.title & release.date & ... & Fantasy & Film.Noir & Horror & Musical & Mystery & Romance & Sci.Fi & Thriller & War & Western\\\\\n",
       "\\hline\n",
       "\t 1                & 918              & 40               & M                & scientist        & 70116            & 3                & 891987059        & Toy Story (1995) & 01-Jan-1995      & ...              & 0                & 0                & 0                & 0                & 0                & 0                & 0                & 0                & 0                & 0               \\\\\n",
       "\t 1                & 684              & 28               & M                & student          & 55414            & 4                & 875810928        & Toy Story (1995) & 01-Jan-1995      & ...              & 0                & 0                & 0                & 0                & 0                & 0                & 0                & 0                & 0                & 0               \\\\\n",
       "\t 1                & 660              & 26               & M                & student          & 77380            & 3                & 891406276        & Toy Story (1995) & 01-Jan-1995      & ...              & 0                & 0                & 0                & 0                & 0                & 0                & 0                & 0                & 0                & 0               \\\\\n",
       "\t 1                & 339              & 35               & M                & lawyer           & 37901            & 5                & 891032349        & Toy Story (1995) & 01-Jan-1995      & ...              & 0                & 0                & 0                & 0                & 0                & 0                & 0                & 0                & 0                & 0               \\\\\n",
       "\t 1                & 699              & 44               & M                & other            & 96754            & 3                & 878882272        & Toy Story (1995) & 01-Jan-1995      & ...              & 0                & 0                & 0                & 0                & 0                & 0                & 0                & 0                & 0                & 0               \\\\\n",
       "\t 1                &  94              & 26               & M                & student          & 71457            & 4                & 885870323        & Toy Story (1995) & 01-Jan-1995      & ...              & 0                & 0                & 0                & 0                & 0                & 0                & 0                & 0                & 0                & 0               \\\\\n",
       "\\end{tabular}\n"
      ],
      "text/markdown": [
       "\n",
       "movie.id | user.id | age | gender | job | zip | rating | ts | movie.title | release.date | ... | Fantasy | Film.Noir | Horror | Musical | Mystery | Romance | Sci.Fi | Thriller | War | Western | \n",
       "|---|---|---|---|---|---|\n",
       "| 1                | 918              | 40               | M                | scientist        | 70116            | 3                | 891987059        | Toy Story (1995) | 01-Jan-1995      | ...              | 0                | 0                | 0                | 0                | 0                | 0                | 0                | 0                | 0                | 0                | \n",
       "| 1                | 684              | 28               | M                | student          | 55414            | 4                | 875810928        | Toy Story (1995) | 01-Jan-1995      | ...              | 0                | 0                | 0                | 0                | 0                | 0                | 0                | 0                | 0                | 0                | \n",
       "| 1                | 660              | 26               | M                | student          | 77380            | 3                | 891406276        | Toy Story (1995) | 01-Jan-1995      | ...              | 0                | 0                | 0                | 0                | 0                | 0                | 0                | 0                | 0                | 0                | \n",
       "| 1                | 339              | 35               | M                | lawyer           | 37901            | 5                | 891032349        | Toy Story (1995) | 01-Jan-1995      | ...              | 0                | 0                | 0                | 0                | 0                | 0                | 0                | 0                | 0                | 0                | \n",
       "| 1                | 699              | 44               | M                | other            | 96754            | 3                | 878882272        | Toy Story (1995) | 01-Jan-1995      | ...              | 0                | 0                | 0                | 0                | 0                | 0                | 0                | 0                | 0                | 0                | \n",
       "| 1                |  94              | 26               | M                | student          | 71457            | 4                | 885870323        | Toy Story (1995) | 01-Jan-1995      | ...              | 0                | 0                | 0                | 0                | 0                | 0                | 0                | 0                | 0                | 0                | \n",
       "\n",
       "\n"
      ],
      "text/plain": [
       "  movie.id user.id age gender job       zip   rating ts        movie.title     \n",
       "1 1        918     40  M      scientist 70116 3      891987059 Toy Story (1995)\n",
       "2 1        684     28  M      student   55414 4      875810928 Toy Story (1995)\n",
       "3 1        660     26  M      student   77380 3      891406276 Toy Story (1995)\n",
       "4 1        339     35  M      lawyer    37901 5      891032349 Toy Story (1995)\n",
       "5 1        699     44  M      other     96754 3      878882272 Toy Story (1995)\n",
       "6 1         94     26  M      student   71457 4      885870323 Toy Story (1995)\n",
       "  release.date ... Fantasy Film.Noir Horror Musical Mystery Romance Sci.Fi\n",
       "1 01-Jan-1995  ... 0       0         0      0       0       0       0     \n",
       "2 01-Jan-1995  ... 0       0         0      0       0       0       0     \n",
       "3 01-Jan-1995  ... 0       0         0      0       0       0       0     \n",
       "4 01-Jan-1995  ... 0       0         0      0       0       0       0     \n",
       "5 01-Jan-1995  ... 0       0         0      0       0       0       0     \n",
       "6 01-Jan-1995  ... 0       0         0      0       0       0       0     \n",
       "  Thriller War Western\n",
       "1 0        0   0      \n",
       "2 0        0   0      \n",
       "3 0        0   0      \n",
       "4 0        0   0      \n",
       "5 0        0   0      \n",
       "6 0        0   0      "
      ]
     },
     "metadata": {},
     "output_type": "display_data"
    }
   ],
   "source": [
    "# merge users and ratings\n",
    "names(u.user)<- c('user.id','age','gender','job','zip')\n",
    "head(u.user)\n",
    "names(u.data)<- c('user.id','movie.id','rating','ts')\n",
    "head(u.data)\n",
    "\n",
    "u.r <- merge(u.user, u.data, by = \"user.id\")\n",
    "head(u.r)\n",
    "# merge userRating with movie to have actual movie titles instead of ids\n",
    "u.r.v <- merge(u.r, u.item, by = \"movie.id\")\n",
    "head(u.r.v)"
   ]
  },
  {
   "cell_type": "code",
   "execution_count": 3,
   "metadata": {},
   "outputs": [
    {
     "name": "stderr",
     "output_type": "stream",
     "text": [
      "randomForest 4.6-14\n",
      "Type rfNews() to see new features/changes/bug fixes.\n"
     ]
    }
   ],
   "source": [
    "library(randomForest)"
   ]
  },
  {
   "cell_type": "code",
   "execution_count": 4,
   "metadata": {},
   "outputs": [],
   "source": [
    "u.r.v<-u.r.v[,c(-6,-8,-9,-10,-11,-12)]"
   ]
  },
  {
   "cell_type": "code",
   "execution_count": 5,
   "metadata": {},
   "outputs": [
    {
     "data": {
      "text/html": [
       "<table>\n",
       "<thead><tr><th scope=col>movie.id</th><th scope=col>user.id</th><th scope=col>age</th><th scope=col>gender</th><th scope=col>job</th><th scope=col>rating</th><th scope=col>unknown</th><th scope=col>Action</th><th scope=col>Adventure</th><th scope=col>Animation</th><th scope=col>...</th><th scope=col>Fantasy</th><th scope=col>Film.Noir</th><th scope=col>Horror</th><th scope=col>Musical</th><th scope=col>Mystery</th><th scope=col>Romance</th><th scope=col>Sci.Fi</th><th scope=col>Thriller</th><th scope=col>War</th><th scope=col>Western</th></tr></thead>\n",
       "<tbody>\n",
       "\t<tr><td>1        </td><td>918      </td><td>40       </td><td>M        </td><td>scientist</td><td>3        </td><td>0        </td><td>0        </td><td>0        </td><td>1        </td><td>...      </td><td>0        </td><td>0        </td><td>0        </td><td>0        </td><td>0        </td><td>0        </td><td>0        </td><td>0        </td><td>0        </td><td>0        </td></tr>\n",
       "\t<tr><td>1        </td><td>684      </td><td>28       </td><td>M        </td><td>student  </td><td>4        </td><td>0        </td><td>0        </td><td>0        </td><td>1        </td><td>...      </td><td>0        </td><td>0        </td><td>0        </td><td>0        </td><td>0        </td><td>0        </td><td>0        </td><td>0        </td><td>0        </td><td>0        </td></tr>\n",
       "\t<tr><td>1        </td><td>660      </td><td>26       </td><td>M        </td><td>student  </td><td>3        </td><td>0        </td><td>0        </td><td>0        </td><td>1        </td><td>...      </td><td>0        </td><td>0        </td><td>0        </td><td>0        </td><td>0        </td><td>0        </td><td>0        </td><td>0        </td><td>0        </td><td>0        </td></tr>\n",
       "\t<tr><td>1        </td><td>339      </td><td>35       </td><td>M        </td><td>lawyer   </td><td>5        </td><td>0        </td><td>0        </td><td>0        </td><td>1        </td><td>...      </td><td>0        </td><td>0        </td><td>0        </td><td>0        </td><td>0        </td><td>0        </td><td>0        </td><td>0        </td><td>0        </td><td>0        </td></tr>\n",
       "\t<tr><td>1        </td><td>699      </td><td>44       </td><td>M        </td><td>other    </td><td>3        </td><td>0        </td><td>0        </td><td>0        </td><td>1        </td><td>...      </td><td>0        </td><td>0        </td><td>0        </td><td>0        </td><td>0        </td><td>0        </td><td>0        </td><td>0        </td><td>0        </td><td>0        </td></tr>\n",
       "\t<tr><td>1        </td><td> 94      </td><td>26       </td><td>M        </td><td>student  </td><td>4        </td><td>0        </td><td>0        </td><td>0        </td><td>1        </td><td>...      </td><td>0        </td><td>0        </td><td>0        </td><td>0        </td><td>0        </td><td>0        </td><td>0        </td><td>0        </td><td>0        </td><td>0        </td></tr>\n",
       "</tbody>\n",
       "</table>\n"
      ],
      "text/latex": [
       "\\begin{tabular}{r|lllllllllllllllllllllllll}\n",
       " movie.id & user.id & age & gender & job & rating & unknown & Action & Adventure & Animation & ... & Fantasy & Film.Noir & Horror & Musical & Mystery & Romance & Sci.Fi & Thriller & War & Western\\\\\n",
       "\\hline\n",
       "\t 1         & 918       & 40        & M         & scientist & 3         & 0         & 0         & 0         & 1         & ...       & 0         & 0         & 0         & 0         & 0         & 0         & 0         & 0         & 0         & 0        \\\\\n",
       "\t 1         & 684       & 28        & M         & student   & 4         & 0         & 0         & 0         & 1         & ...       & 0         & 0         & 0         & 0         & 0         & 0         & 0         & 0         & 0         & 0        \\\\\n",
       "\t 1         & 660       & 26        & M         & student   & 3         & 0         & 0         & 0         & 1         & ...       & 0         & 0         & 0         & 0         & 0         & 0         & 0         & 0         & 0         & 0        \\\\\n",
       "\t 1         & 339       & 35        & M         & lawyer    & 5         & 0         & 0         & 0         & 1         & ...       & 0         & 0         & 0         & 0         & 0         & 0         & 0         & 0         & 0         & 0        \\\\\n",
       "\t 1         & 699       & 44        & M         & other     & 3         & 0         & 0         & 0         & 1         & ...       & 0         & 0         & 0         & 0         & 0         & 0         & 0         & 0         & 0         & 0        \\\\\n",
       "\t 1         &  94       & 26        & M         & student   & 4         & 0         & 0         & 0         & 1         & ...       & 0         & 0         & 0         & 0         & 0         & 0         & 0         & 0         & 0         & 0        \\\\\n",
       "\\end{tabular}\n"
      ],
      "text/markdown": [
       "\n",
       "movie.id | user.id | age | gender | job | rating | unknown | Action | Adventure | Animation | ... | Fantasy | Film.Noir | Horror | Musical | Mystery | Romance | Sci.Fi | Thriller | War | Western | \n",
       "|---|---|---|---|---|---|\n",
       "| 1         | 918       | 40        | M         | scientist | 3         | 0         | 0         | 0         | 1         | ...       | 0         | 0         | 0         | 0         | 0         | 0         | 0         | 0         | 0         | 0         | \n",
       "| 1         | 684       | 28        | M         | student   | 4         | 0         | 0         | 0         | 1         | ...       | 0         | 0         | 0         | 0         | 0         | 0         | 0         | 0         | 0         | 0         | \n",
       "| 1         | 660       | 26        | M         | student   | 3         | 0         | 0         | 0         | 1         | ...       | 0         | 0         | 0         | 0         | 0         | 0         | 0         | 0         | 0         | 0         | \n",
       "| 1         | 339       | 35        | M         | lawyer    | 5         | 0         | 0         | 0         | 1         | ...       | 0         | 0         | 0         | 0         | 0         | 0         | 0         | 0         | 0         | 0         | \n",
       "| 1         | 699       | 44        | M         | other     | 3         | 0         | 0         | 0         | 1         | ...       | 0         | 0         | 0         | 0         | 0         | 0         | 0         | 0         | 0         | 0         | \n",
       "| 1         |  94       | 26        | M         | student   | 4         | 0         | 0         | 0         | 1         | ...       | 0         | 0         | 0         | 0         | 0         | 0         | 0         | 0         | 0         | 0         | \n",
       "\n",
       "\n"
      ],
      "text/plain": [
       "  movie.id user.id age gender job       rating unknown Action Adventure\n",
       "1 1        918     40  M      scientist 3      0       0      0        \n",
       "2 1        684     28  M      student   4      0       0      0        \n",
       "3 1        660     26  M      student   3      0       0      0        \n",
       "4 1        339     35  M      lawyer    5      0       0      0        \n",
       "5 1        699     44  M      other     3      0       0      0        \n",
       "6 1         94     26  M      student   4      0       0      0        \n",
       "  Animation ... Fantasy Film.Noir Horror Musical Mystery Romance Sci.Fi\n",
       "1 1         ... 0       0         0      0       0       0       0     \n",
       "2 1         ... 0       0         0      0       0       0       0     \n",
       "3 1         ... 0       0         0      0       0       0       0     \n",
       "4 1         ... 0       0         0      0       0       0       0     \n",
       "5 1         ... 0       0         0      0       0       0       0     \n",
       "6 1         ... 0       0         0      0       0       0       0     \n",
       "  Thriller War Western\n",
       "1 0        0   0      \n",
       "2 0        0   0      \n",
       "3 0        0   0      \n",
       "4 0        0   0      \n",
       "5 0        0   0      \n",
       "6 0        0   0      "
      ]
     },
     "metadata": {},
     "output_type": "display_data"
    }
   ],
   "source": [
    "head(u.r.v)"
   ]
  },
  {
   "cell_type": "code",
   "execution_count": 6,
   "metadata": {},
   "outputs": [],
   "source": [
    "# splitting data into 80% train set and 20% test set\n",
    "modelData<-u.r.v\n",
    "ind = sample(2, nrow(modelData), replace=TRUE, prob=c(0.8, 0.2))\n",
    "trainData <- modelData[ind==1, ]\n",
    "testData <- modelData[ind==2, ]\n",
    "\n",
    "# use all important data to predict the rating\n",
    "formula <- as.factor(rating) ~ .\n",
    "\n"
   ]
  },
  {
   "cell_type": "code",
   "execution_count": 7,
   "metadata": {},
   "outputs": [
    {
     "data": {
      "text/plain": [
       "as.factor(rating) ~ ."
      ]
     },
     "metadata": {},
     "output_type": "display_data"
    }
   ],
   "source": [
    "head(formula)"
   ]
  },
  {
   "cell_type": "code",
   "execution_count": 8,
   "metadata": {},
   "outputs": [],
   "source": [
    "# build the random forest\n",
    "rf = randomForest(as.factor(rating) ~., data = trainData, ntree = 10)\n",
    "\n",
    "# stores true results for the test data\n",
    "trueResults = as.factor(testData$rating)\n",
    "\n",
    "# stores the predicted ratings by the previously created random forest rf\n",
    "predicted = predict(rf, newdata = testData) "
   ]
  },
  {
   "cell_type": "code",
   "execution_count": 9,
   "metadata": {},
   "outputs": [
    {
     "data": {
      "text/html": [
       "<dl class=dl-horizontal>\n",
       "\t<dt>1</dt>\n",
       "\t\t<dd>4</dd>\n",
       "\t<dt>7</dt>\n",
       "\t\t<dd>4</dd>\n",
       "\t<dt>8</dt>\n",
       "\t\t<dd>4</dd>\n",
       "\t<dt>14</dt>\n",
       "\t\t<dd>4</dd>\n",
       "\t<dt>17</dt>\n",
       "\t\t<dd>4</dd>\n",
       "\t<dt>19</dt>\n",
       "\t\t<dd>4</dd>\n",
       "</dl>\n",
       "\n",
       "<details>\n",
       "\t<summary style=display:list-item;cursor:pointer>\n",
       "\t\t<strong>Levels</strong>:\n",
       "\t</summary>\n",
       "\t<ol class=list-inline>\n",
       "\t\t<li>'1'</li>\n",
       "\t\t<li>'2'</li>\n",
       "\t\t<li>'3'</li>\n",
       "\t\t<li>'4'</li>\n",
       "\t\t<li>'5'</li>\n",
       "\t</ol>\n",
       "</details>"
      ],
      "text/latex": [
       "\\begin{description*}\n",
       "\\item[1] 4\n",
       "\\item[7] 4\n",
       "\\item[8] 4\n",
       "\\item[14] 4\n",
       "\\item[17] 4\n",
       "\\item[19] 4\n",
       "\\end{description*}\n",
       "\n",
       "\\emph{Levels}: \\begin{enumerate*}\n",
       "\\item '1'\n",
       "\\item '2'\n",
       "\\item '3'\n",
       "\\item '4'\n",
       "\\item '5'\n",
       "\\end{enumerate*}\n"
      ],
      "text/markdown": [
       "1\n",
       ":   47\n",
       ":   48\n",
       ":   414\n",
       ":   417\n",
       ":   419\n",
       ":   4\n",
       "\n",
       "\n",
       "**Levels**: 1. '1'\n",
       "2. '2'\n",
       "3. '3'\n",
       "4. '4'\n",
       "5. '5'\n",
       "\n",
       "\n"
      ],
      "text/plain": [
       " 1  7  8 14 17 19 \n",
       " 4  4  4  4  4  4 \n",
       "Levels: 1 2 3 4 5"
      ]
     },
     "metadata": {},
     "output_type": "display_data"
    }
   ],
   "source": [
    "head(predicted)"
   ]
  },
  {
   "cell_type": "code",
   "execution_count": null,
   "metadata": {},
   "outputs": [],
   "source": []
  },
  {
   "cell_type": "code",
   "execution_count": null,
   "metadata": {},
   "outputs": [],
   "source": []
  }
 ],
 "metadata": {
  "kernelspec": {
   "display_name": "R",
   "language": "R",
   "name": "ir"
  },
  "language_info": {
   "codemirror_mode": "r",
   "file_extension": ".r",
   "mimetype": "text/x-r-source",
   "name": "R",
   "pygments_lexer": "r",
   "version": "3.5.1"
  }
 },
 "nbformat": 4,
 "nbformat_minor": 2
}
