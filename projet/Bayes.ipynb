{
 "cells": [
  {
   "cell_type": "code",
   "execution_count": 1,
   "metadata": {},
   "outputs": [],
   "source": [
    "### Si données locales\n",
    "library(Matrix)\n",
    "u.user <- read.csv(file='u.user.csv', sep='|', header=T)\n",
    "u.item <- read.csv(file='u.item.csv', sep='|', header=T)\n",
    "u.data <- read.csv(file='u.data.csv', sep='|', header=T)\n",
    "\n",
    "m.sparse <- sparseMatrix(u.data[,1],u.data[,2],x=u.data[,3])\n",
    "rownames(m.sparse) <- paste('u', 1:nrow(m.sparse), sep='')\n",
    "colnames(m.sparse) <- paste('i', 1:ncol(m.sparse), sep='')\n",
    "\n",
    "m <- as.matrix(m.sparse)                # transforme en matrice ordinaire\n",
    "m.na <- m\n",
    "m.na[m.na==0] <- NA\n",
    "\n",
    "# Cosinus normal des lignes d'une matrice\n",
    "matrix.cos <- function(m) {\n",
    "     (m %*% t(m)) / ( t(matrix(sqrt(rowSums(m^2)),nrow(m),nrow(m)))\n",
    "                    * (sqrt(rowSums(m^2))) )\n",
    "}\n",
    "# on normalise les ages\n",
    "u.user.norm <- u.user\n",
    "u.user.norm$age = (u.user.norm$age - min(u.user.norm$age)) / (max(u.user.norm$age) - min(u.user.norm$age))\n",
    "\n",
    "# on normalise les votes\n",
    "u.data.norm <- u.data\n",
    "u.data.norm$rating = (u.data.norm$rating - min(u.data.norm$rating)) / (max(u.data.norm$rating) - min(u.data.norm$rating))\n",
    "\n",
    "m.na.norm <- m.na/5\n",
    "m.norm <- m/5"
   ]
  },
  {
   "cell_type": "code",
   "execution_count": 2,
   "metadata": {},
   "outputs": [],
   "source": [
    "v.u <- merge(u.data, u.user, by.x='user.id', by.y='id')"
   ]
  },
  {
   "cell_type": "code",
   "execution_count": null,
   "metadata": {},
   "outputs": [],
   "source": [
    "\n"
   ]
  },
  {
   "cell_type": "code",
   "execution_count": null,
   "metadata": {},
   "outputs": [],
   "source": []
  },
  {
   "cell_type": "code",
   "execution_count": null,
   "metadata": {},
   "outputs": [],
   "source": [
    "\n"
   ]
  },
  {
   "cell_type": "code",
   "execution_count": null,
   "metadata": {},
   "outputs": [],
   "source": []
  },
  {
   "cell_type": "code",
   "execution_count": null,
   "metadata": {},
   "outputs": [],
   "source": []
  },
  {
   "cell_type": "code",
   "execution_count": 3,
   "metadata": {},
   "outputs": [],
   "source": [
    "v.ub <- transform(v.u, rating=sapply(v.u$rating, function(x) if(x > 3) 'like' else 'dislike'),\n",
    "                       age=sapply(v.u$age, function(x) if(x>30) 'old' else 'young'))\n",
    "v.ub$age <- factor(v.ub$age)\n",
    "v.ub$rating <- factor(v.ub$rating)\n",
    "u.user <- transform(u.user, age=sapply(u.user$age, function(x) if(x>30) 'old' else 'young'))\n",
    "u.user$age <- factor(u.user$age)\n",
    "v.job <- aggregate(job ~ rating + item.id, v.ub, table)\n",
    "v.age <- aggregate(age ~ rating + item.id, v.ub, table)\n",
    "v.gender <- aggregate(gender ~ rating + item.id, v.ub, table)                       "
   ]
  },
  {
   "cell_type": "code",
   "execution_count": null,
   "metadata": {},
   "outputs": [],
   "source": []
  },
  {
   "cell_type": "code",
   "execution_count": 9,
   "metadata": {},
   "outputs": [
    {
     "data": {
      "text/html": [
       "<strong>technician:</strong> 3.95482345587444"
      ],
      "text/latex": [
       "\\textbf{technician:} 3.95482345587444"
      ],
      "text/markdown": [
       "**technician:** 3.95482345587444"
      ],
      "text/plain": [
       "technician \n",
       "  3.954823 "
      ]
     },
     "metadata": {},
     "output_type": "display_data"
    }
   ],
   "source": [
    "odds.item.g.e <- function(item.id, job, gender, age) {\n",
    "    ## using globals v.job=v.job, v.age=v.age, v.gender=v.gender\n",
    "    ## Odds ratio for job, gender, and age\n",
    "    ## À noter la correction de +1 au nominateur et dénominateur\n",
    "    top <- v.job[v.job$item.id==item.id & v.job$rating=='like',]$job[,job]\n",
    "    if (length(top)==0) {top <- 1}\n",
    "    if (top==0) {top <- 1}       \n",
    "    e.job <- (top)/(sum(v.ub$rating=='like' & v.ub$item.id==item.id)+1)\n",
    "    \n",
    "    \n",
    "    top <- v.job[v.job$item.id==item.id & v.job$rating=='dislike',]$job[,job]\n",
    "    if (length(top)==0) {top <- 1}\n",
    "    if (top==0) {top <- 1}       \n",
    "    en.job <- (top)/(sum(v.ub$rating=='dislike' & v.ub$item.id==item.id)+1)\n",
    "\n",
    "\n",
    "    top <-v.gender[v.gender$item.id==item.id & v.gender$rating=='like',]$gender[,gender]\n",
    "    if (length(top)==0) {top <- 1 }   \n",
    "    if (top==0) {top <- 1}       \n",
    "    e.gender <- (top)/(sum(v.ub$rating=='like' & v.ub$gender==gender)+1)\n",
    "    \n",
    "    \n",
    "    top <-v.gender[v.gender$item.id==item.id & v.gender$rating=='dislike',]$gender[,gender]\n",
    "    if (length(top)==0) {top <- 1} \n",
    "    if (top==0) {top <- 1}       \n",
    "    en.gender <- (top)/(sum(v.ub$rating=='dislike' & v.ub$gender==gender)+1)\n",
    "\n",
    "    top <-v.age[v.age$item.id==item.id & v.age$rating=='like',]$age[,age]\n",
    "    if (length(top)==0) {top <- 1} \n",
    "    if (top==0) {top <- 1}    \n",
    "    e.age <- (top)/(sum(v.ub$rating=='like' & v.ub$age==age)+1)\n",
    "    \n",
    "    top <-v.age[v.age$item.id==item.id & v.age$rating=='dislike',]$age[,age]\n",
    "    if (length(top)==0) {top <- 1} \n",
    "    if (top==0) {top <- 1}      \n",
    "    en.age <- (top)/(sum(v.ub$rating=='dislike' & v.ub$age==age)+1)\n",
    "\n",
    "    OR.h <- (sum(v.ub$rating=='like')+1)/(sum(v.ub$rating=='dislike')+1)\n",
    "    new.val <- 1\n",
    "    o <- 1\n",
    "    o <- OR.h*(e.job/en.job)*(e.gender/en.gender)*(e.age/en.age)\n",
    "    o <- o/(1+o)\n",
    "    if (o <= 0.5) {\n",
    "        new.val <- 1+4*o\n",
    "    } else {\n",
    "        new.val <- 3+4*(o-0.5)\n",
    "    }\n",
    "    return(new.val)\n",
    "}\n",
    "\n",
    "odds.item.g.e(3,'technician','M','young')"
   ]
  },
  {
   "cell_type": "code",
   "execution_count": null,
   "metadata": {},
   "outputs": [],
   "source": []
  },
  {
   "cell_type": "code",
   "execution_count": null,
   "metadata": {},
   "outputs": [],
   "source": []
  },
  {
   "cell_type": "code",
   "execution_count": 10,
   "metadata": {},
   "outputs": [
    {
     "data": {
      "text/html": [
       "<table>\n",
       "<thead><tr><th scope=col>id</th><th scope=col>age</th><th scope=col>gender</th><th scope=col>job</th><th scope=col>zip</th></tr></thead>\n",
       "<tbody>\n",
       "\t<tr><td>1         </td><td>young     </td><td>M         </td><td>technician</td><td>85711     </td></tr>\n",
       "\t<tr><td>2         </td><td>old       </td><td>F         </td><td>other     </td><td>94043     </td></tr>\n",
       "\t<tr><td>3         </td><td>young     </td><td>M         </td><td>writer    </td><td>32067     </td></tr>\n",
       "\t<tr><td>4         </td><td>young     </td><td>M         </td><td>technician</td><td>43537     </td></tr>\n",
       "\t<tr><td>5         </td><td>old       </td><td>F         </td><td>other     </td><td>15213     </td></tr>\n",
       "\t<tr><td>6         </td><td>old       </td><td>M         </td><td>executive </td><td>98101     </td></tr>\n",
       "</tbody>\n",
       "</table>\n"
      ],
      "text/latex": [
       "\\begin{tabular}{r|lllll}\n",
       " id & age & gender & job & zip\\\\\n",
       "\\hline\n",
       "\t 1          & young      & M          & technician & 85711     \\\\\n",
       "\t 2          & old        & F          & other      & 94043     \\\\\n",
       "\t 3          & young      & M          & writer     & 32067     \\\\\n",
       "\t 4          & young      & M          & technician & 43537     \\\\\n",
       "\t 5          & old        & F          & other      & 15213     \\\\\n",
       "\t 6          & old        & M          & executive  & 98101     \\\\\n",
       "\\end{tabular}\n"
      ],
      "text/markdown": [
       "\n",
       "id | age | gender | job | zip | \n",
       "|---|---|---|---|---|---|\n",
       "| 1          | young      | M          | technician | 85711      | \n",
       "| 2          | old        | F          | other      | 94043      | \n",
       "| 3          | young      | M          | writer     | 32067      | \n",
       "| 4          | young      | M          | technician | 43537      | \n",
       "| 5          | old        | F          | other      | 15213      | \n",
       "| 6          | old        | M          | executive  | 98101      | \n",
       "\n",
       "\n"
      ],
      "text/plain": [
       "  id age   gender job        zip  \n",
       "1 1  young M      technician 85711\n",
       "2 2  old   F      other      94043\n",
       "3 3  young M      writer     32067\n",
       "4 4  young M      technician 43537\n",
       "5 5  old   F      other      15213\n",
       "6 6  old   M      executive  98101"
      ]
     },
     "metadata": {},
     "output_type": "display_data"
    }
   ],
   "source": [
    "head(u.user)\n"
   ]
  },
  {
   "cell_type": "code",
   "execution_count": 11,
   "metadata": {},
   "outputs": [
    {
     "data": {
      "text/plain": [
       "   user  system elapsed \n",
       " 102.97   24.82  133.18 "
      ]
     },
     "metadata": {},
     "output_type": "display_data"
    }
   ],
   "source": [
    "new.m <- m\n",
    "ptm <- proc.time()\n",
    "\n",
    "for (i in seq_len(943)){\n",
    "    job <- u.user$job[u.user$id==i]\n",
    "    gender <- u.user$gender[u.user$id==i]\n",
    "    age <- u.user$age[u.user$id==i]\n",
    "    for (j in seq_len(1682)){\n",
    "        new.m[i,j] <- odds.item.g.e(j,job,gender,age)\n",
    "    }\n",
    "}\n",
    "proc.time() - ptm\n"
   ]
  },
  {
   "cell_type": "code",
   "execution_count": 102,
   "metadata": {},
   "outputs": [
    {
     "data": {
      "text/html": [
       "3"
      ],
      "text/latex": [
       "3"
      ],
      "text/markdown": [
       "3"
      ],
      "text/plain": [
       "[1] 3"
      ]
     },
     "metadata": {},
     "output_type": "display_data"
    }
   ],
   "source": [
    "j"
   ]
  },
  {
   "cell_type": "code",
   "execution_count": 101,
   "metadata": {},
   "outputs": [
    {
     "data": {
      "text/html": [
       "technician\n",
       "<details>\n",
       "\t<summary style=display:list-item;cursor:pointer>\n",
       "\t\t<strong>Levels</strong>:\n",
       "\t</summary>\n",
       "\t<ol class=list-inline>\n",
       "\t\t<li>'administrator'</li>\n",
       "\t\t<li>'artist'</li>\n",
       "\t\t<li>'doctor'</li>\n",
       "\t\t<li>'educator'</li>\n",
       "\t\t<li>'engineer'</li>\n",
       "\t\t<li>'entertainment'</li>\n",
       "\t\t<li>'executive'</li>\n",
       "\t\t<li>'healthcare'</li>\n",
       "\t\t<li>'homemaker'</li>\n",
       "\t\t<li>'lawyer'</li>\n",
       "\t\t<li>'librarian'</li>\n",
       "\t\t<li>'marketing'</li>\n",
       "\t\t<li>'none'</li>\n",
       "\t\t<li>'other'</li>\n",
       "\t\t<li>'programmer'</li>\n",
       "\t\t<li>'retired'</li>\n",
       "\t\t<li>'salesman'</li>\n",
       "\t\t<li>'scientist'</li>\n",
       "\t\t<li>'student'</li>\n",
       "\t\t<li>'technician'</li>\n",
       "\t\t<li>'writer'</li>\n",
       "\t</ol>\n",
       "</details>"
      ],
      "text/latex": [
       "technician\n",
       "\\emph{Levels}: \\begin{enumerate*}\n",
       "\\item 'administrator'\n",
       "\\item 'artist'\n",
       "\\item 'doctor'\n",
       "\\item 'educator'\n",
       "\\item 'engineer'\n",
       "\\item 'entertainment'\n",
       "\\item 'executive'\n",
       "\\item 'healthcare'\n",
       "\\item 'homemaker'\n",
       "\\item 'lawyer'\n",
       "\\item 'librarian'\n",
       "\\item 'marketing'\n",
       "\\item 'none'\n",
       "\\item 'other'\n",
       "\\item 'programmer'\n",
       "\\item 'retired'\n",
       "\\item 'salesman'\n",
       "\\item 'scientist'\n",
       "\\item 'student'\n",
       "\\item 'technician'\n",
       "\\item 'writer'\n",
       "\\end{enumerate*}\n"
      ],
      "text/markdown": [
       "technician\n",
       "**Levels**: 1. 'administrator'\n",
       "2. 'artist'\n",
       "3. 'doctor'\n",
       "4. 'educator'\n",
       "5. 'engineer'\n",
       "6. 'entertainment'\n",
       "7. 'executive'\n",
       "8. 'healthcare'\n",
       "9. 'homemaker'\n",
       "10. 'lawyer'\n",
       "11. 'librarian'\n",
       "12. 'marketing'\n",
       "13. 'none'\n",
       "14. 'other'\n",
       "15. 'programmer'\n",
       "16. 'retired'\n",
       "17. 'salesman'\n",
       "18. 'scientist'\n",
       "19. 'student'\n",
       "20. 'technician'\n",
       "21. 'writer'\n",
       "\n",
       "\n"
      ],
      "text/plain": [
       "[1] technician\n",
       "21 Levels: administrator artist doctor educator engineer ... writer"
      ]
     },
     "metadata": {},
     "output_type": "display_data"
    }
   ],
   "source": [
    "i <-1\n",
    "job <- u.user$job[u.user$id==i]\n",
    "gender <- u.user$gender[u.user$id==i]\n",
    "age <- u.user$age[u.user$id==i]\n",
    "job"
   ]
  },
  {
   "cell_type": "code",
   "execution_count": null,
   "metadata": {},
   "outputs": [],
   "source": [
    "odds.item.g.e(i,job,gender,age)"
   ]
  },
  {
   "cell_type": "code",
   "execution_count": 73,
   "metadata": {},
   "outputs": [
    {
     "name": "stdout",
     "output_type": "stream",
     "text": [
      "integer(0)\n"
     ]
    }
   ],
   "source": [
    "print(c(v.job[v.job$item.id==103 & v.job$rating=='like',]$job[,job])+integer(1))"
   ]
  },
  {
   "cell_type": "code",
   "execution_count": 67,
   "metadata": {},
   "outputs": [
    {
     "name": "stdout",
     "output_type": "stream",
     "text": [
      "numeric(0)\n"
     ]
    }
   ],
   "source": [
    "print(numeric(0)+1)"
   ]
  },
  {
   "cell_type": "code",
   "execution_count": 86,
   "metadata": {},
   "outputs": [
    {
     "data": {
      "text/html": [
       "1"
      ],
      "text/latex": [
       "1"
      ],
      "text/markdown": [
       "1"
      ],
      "text/plain": [
       "[1] 1"
      ]
     },
     "metadata": {},
     "output_type": "display_data"
    }
   ],
   "source": [
    "length(123)"
   ]
  },
  {
   "cell_type": "code",
   "execution_count": null,
   "metadata": {},
   "outputs": [],
   "source": []
  }
 ],
 "metadata": {
  "kernelspec": {
   "display_name": "R",
   "language": "R",
   "name": "ir"
  },
  "language_info": {
   "codemirror_mode": "r",
   "file_extension": ".r",
   "mimetype": "text/x-r-source",
   "name": "R",
   "pygments_lexer": "r",
   "version": "3.5.1"
  }
 },
 "nbformat": 4,
 "nbformat_minor": 2
}
