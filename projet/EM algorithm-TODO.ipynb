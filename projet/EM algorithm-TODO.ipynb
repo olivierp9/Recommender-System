{
 "cells": [
  {
   "cell_type": "code",
   "execution_count": 1,
   "metadata": {},
   "outputs": [],
   "source": [
    "u.user <- read.csv(file='u.user.csv', sep='|', header=T)\n",
    "u.item <- read.csv(file='u.item.csv', sep='|', header=T)\n",
    "u.data <- read.csv(file='u.data.csv', sep='|', header=T)\n",
    "library(Matrix)\n",
    "m.sparse <- sparseMatrix(u.data[,1],u.data[,2],x=u.data[,3])\n",
    "rownames(m.sparse) <- paste('u', 1:nrow(m.sparse), sep='')\n",
    "colnames(m.sparse) <- paste('i', 1:ncol(m.sparse), sep='')\n",
    "mae <- function(m1, m2) mean(abs(m1 - m2), na.rm=T)\n",
    "\n",
    "m <- as.matrix(m.sparse)                # transforme en matrice ordinaire\n",
    "m.na <- m\n",
    "m.na[m.na==0] <- NA\n"
   ]
  },
  {
   "cell_type": "code",
   "execution_count": 2,
   "metadata": {},
   "outputs": [],
   "source": [
    "library(bcv)"
   ]
  },
  {
   "cell_type": "code",
   "execution_count": 26,
   "metadata": {},
   "outputs": [],
   "source": [
    "new.m.cv <- function(dimRedu){\n",
    "# matrice diagonale pour réduire les matrices originales\n",
    "m.d2 <- diag(c(m.svd$d[1:dimRedu],rep(0,length(m.svd$d)-dimRedu)))\n",
    "# nouvelle matrice basée sur les deux premières dimensions uniquement\n",
    "m.svd2 <- round((m.svd$u %*% m.d2 %*% t(m.svd$v)),2)\n",
    "mae(m.svd2[i.test.b], m.na[i.test.b])\n",
    "    }\n"
   ]
  },
  {
   "cell_type": "code",
   "execution_count": 44,
   "metadata": {},
   "outputs": [
    {
     "data": {
      "text/html": [
       "100000"
      ],
      "text/latex": [
       "100000"
      ],
      "text/markdown": [
       "100000"
      ],
      "text/plain": [
       "[1] 100000"
      ]
     },
     "metadata": {},
     "output_type": "display_data"
    }
   ],
   "source": [
    "to.plot <- c()\n",
    "i.observed <- which(m > 0)\n",
    "i.hasard <- sample(i.observed, length(i.observed))\n",
    "length(i.hasard)\n",
    "fold.size <- round(length(i.hasard) / 5)\n",
    "i.false <- rep(FALSE, length(m))\n",
    "for (i in seq_len(5)){\n",
    "fold.number <- i\n",
    "\n",
    "## Index booléen pour les cellules de test et d'entraînement\n",
    "i.test.b <- i.false\n",
    "## Les cellules indexées du replis correspondant sont fixées à TRUE pour le test...\n",
    "i.test.b[ i.hasard[((fold.number-1) * fold.size):((fold.number) * fold.size)] ] <- TRUE\n",
    "## ...et à FALSE pour l'entraînement\n",
    "i.train.b <-  !i.test.b\n",
    "m.train <- m\n",
    "m.train[i.test.b] <- 0                # on enlève les données de test pour l'entraînement\n",
    "m.train.na <- m.train\n",
    "m.train.na[m.train.na==0] <-NA\n",
    "m.train[m.train==0] <- impute.svd(m.train.na)$x[m.train==0]\n",
    "m.train <- m.train\n",
    "m.svd <- svd(m.train)\n",
    "to.plot<-rbind(to.plot,unlist(lapply(seq(22), new.m.cv)))\n",
    "    }\n"
   ]
  },
  {
   "cell_type": "code",
   "execution_count": 45,
   "metadata": {},
   "outputs": [
    {
     "data": {
      "text/html": [
       "<ol class=list-inline>\n",
       "\t<li>0.00275056740939087</li>\n",
       "\t<li>0.0022873622071222</li>\n",
       "\t<li>0.00237553597960078</li>\n",
       "\t<li>0.00271702715232876</li>\n",
       "\t<li>0.00300698181457041</li>\n",
       "\t<li>0.00313731081099925</li>\n",
       "\t<li>0.00348090854271763</li>\n",
       "\t<li>0.00331173549876155</li>\n",
       "\t<li>0.00315600191935586</li>\n",
       "\t<li>0.00291850174525403</li>\n",
       "\t<li>0.00283155652287471</li>\n",
       "\t<li>0.0028609030820254</li>\n",
       "\t<li>0.00308549814339867</li>\n",
       "\t<li>0.00302613213735605</li>\n",
       "\t<li>0.00289562838129696</li>\n",
       "\t<li>0.00246486144906089</li>\n",
       "\t<li>0.0024264945681867</li>\n",
       "\t<li>0.00246750713492689</li>\n",
       "\t<li>0.00284165757859686</li>\n",
       "\t<li>0.00284867459987571</li>\n",
       "\t<li>0.0030072953976452</li>\n",
       "\t<li>0.00283843860512215</li>\n",
       "</ol>\n"
      ],
      "text/latex": [
       "\\begin{enumerate*}\n",
       "\\item 0.00275056740939087\n",
       "\\item 0.0022873622071222\n",
       "\\item 0.00237553597960078\n",
       "\\item 0.00271702715232876\n",
       "\\item 0.00300698181457041\n",
       "\\item 0.00313731081099925\n",
       "\\item 0.00348090854271763\n",
       "\\item 0.00331173549876155\n",
       "\\item 0.00315600191935586\n",
       "\\item 0.00291850174525403\n",
       "\\item 0.00283155652287471\n",
       "\\item 0.0028609030820254\n",
       "\\item 0.00308549814339867\n",
       "\\item 0.00302613213735605\n",
       "\\item 0.00289562838129696\n",
       "\\item 0.00246486144906089\n",
       "\\item 0.0024264945681867\n",
       "\\item 0.00246750713492689\n",
       "\\item 0.00284165757859686\n",
       "\\item 0.00284867459987571\n",
       "\\item 0.0030072953976452\n",
       "\\item 0.00283843860512215\n",
       "\\end{enumerate*}\n"
      ],
      "text/markdown": [
       "1. 0.00275056740939087\n",
       "2. 0.0022873622071222\n",
       "3. 0.00237553597960078\n",
       "4. 0.00271702715232876\n",
       "5. 0.00300698181457041\n",
       "6. 0.00313731081099925\n",
       "7. 0.00348090854271763\n",
       "8. 0.00331173549876155\n",
       "9. 0.00315600191935586\n",
       "10. 0.00291850174525403\n",
       "11. 0.00283155652287471\n",
       "12. 0.0028609030820254\n",
       "13. 0.00308549814339867\n",
       "14. 0.00302613213735605\n",
       "15. 0.00289562838129696\n",
       "16. 0.00246486144906089\n",
       "17. 0.0024264945681867\n",
       "18. 0.00246750713492689\n",
       "19. 0.00284165757859686\n",
       "20. 0.00284867459987571\n",
       "21. 0.0030072953976452\n",
       "22. 0.00283843860512215\n",
       "\n",
       "\n"
      ],
      "text/plain": [
       " [1] 0.002750567 0.002287362 0.002375536 0.002717027 0.003006982 0.003137311\n",
       " [7] 0.003480909 0.003311735 0.003156002 0.002918502 0.002831557 0.002860903\n",
       "[13] 0.003085498 0.003026132 0.002895628 0.002464861 0.002426495 0.002467507\n",
       "[19] 0.002841658 0.002848675 0.003007295 0.002838439"
      ]
     },
     "metadata": {},
     "output_type": "display_data"
    }
   ],
   "source": [
    "to.plot<-as.matrix(to.plot)\n",
    "to.plot<-apply(to.plot,2,unlist)\n",
    "sdev <- apply(to.plot,2,sd) \n",
    "sdev\n",
    "avg <- colMeans(to.plot)\n",
    "x <- 1:length(avg)"
   ]
  },
  {
   "cell_type": "code",
   "execution_count": 46,
   "metadata": {},
   "outputs": [
    {
     "data": {
      "image/png": "[encoded data removed]",
      "text/plain": [
       "Plot with title \"Scatter plot with std.dev error bars\""
      ]
     },
     "metadata": {},
     "output_type": "display_data"
    }
   ],
   "source": [
    "plot(x,colMeans(to.plot),ylim=range(c(avg-sdev, avg+sdev)),pch=19, xlab=\"Measurements\", ylab=\"Mean +/- SD\",\n",
    "    main=\"Scatter plot with std.dev error bars\"\n",
    ")\n",
    "# hack: we draw arrows but with very special \"arrowheads\"\n",
    "arrows(x, avg-sdev, x, avg+sdev, length=0.05, angle=90, code=3)"
   ]
  },
  {
   "cell_type": "code",
   "execution_count": null,
   "metadata": {},
   "outputs": [],
   "source": []
  },
  {
   "cell_type": "code",
   "execution_count": null,
   "metadata": {},
   "outputs": [],
   "source": []
  },
  {
   "cell_type": "code",
   "execution_count": null,
   "metadata": {},
   "outputs": [],
   "source": []
  }
 ],
 "metadata": {
  "kernelspec": {
   "display_name": "R",
   "language": "R",
   "name": "ir"
  },
  "language_info": {
   "codemirror_mode": "r",
   "file_extension": ".r",
   "mimetype": "text/x-r-source",
   "name": "R",
   "pygments_lexer": "r",
   "version": "3.5.1"
  }
 },
 "nbformat": 4,
 "nbformat_minor": 2
}
