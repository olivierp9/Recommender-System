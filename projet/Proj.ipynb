{
 "cells": [
  {
   "cell_type": "code",
   "execution_count": 3,
   "metadata": {},
   "outputs": [],
   "source": [
    "u.user <- read.csv(file = 'u.user.csv', sep='|', header=T)\n",
    "u.item <- read.csv(file = 'u.item.csv', sep='|', header=T)\n",
    "u.data <- read.csv(file = 'u.data.csv', sep='|', header=T)\n",
    "colMeans.sparse <- function(m) {colSums(m)/colSums(m>0)}\n",
    "rowMeans.sparse <- function(m) {rowSums(m)/rowSums(m>0)}\n",
    "means.sparse <- function(v) {sum(v)/sum(v>0)}\n",
    "library(Matrix)\n",
    "\n",
    "m.sparse <- sparseMatrix(u.data[,1],u.data[,2],x=u.data[,3])\n",
    "m <- as.matrix(m.sparse)\n",
    "m.na <- m\n",
    "m.na[m.na==0] <- NA"
   ]
  },
  {
   "cell_type": "code",
   "execution_count": 4,
   "metadata": {},
   "outputs": [],
   "source": [
    "# Lecture de la fonction pour déterminer la matrice de Cosinus de m \n",
    "matrix.cos <- function(m) {\n",
    "    (m %*% t(m)) / ( t(matrix(sqrt(rowSums(m^2)),nrow(m),nrow(m)))\n",
    "                   * (sqrt(rowSums(m^2))) )\n",
    "}"
   ]
  },
  {
   "cell_type": "code",
   "execution_count": 5,
   "metadata": {},
   "outputs": [],
   "source": [
    "m.cos <- matrix.cos(t(m))"
   ]
  },
  {
   "cell_type": "code",
   "execution_count": null,
   "metadata": {},
   "outputs": [],
   "source": []
  },
  {
   "cell_type": "code",
   "execution_count": 12,
   "metadata": {},
   "outputs": [],
   "source": [
    "library('matrixStats')\n",
    "library('DescTools')"
   ]
  },
  {
   "cell_type": "code",
   "execution_count": 13,
   "metadata": {},
   "outputs": [
    {
     "data": {
      "text/html": [
       "<ol class=list-inline>\n",
       "\t<li>4</li>\n",
       "\t<li>4</li>\n",
       "</ol>\n"
      ],
      "text/latex": [
       "\\begin{enumerate*}\n",
       "\\item 4\n",
       "\\item 4\n",
       "\\end{enumerate*}\n"
      ],
      "text/markdown": [
       "1. 4\n",
       "2. 4\n",
       "\n",
       "\n"
      ],
      "text/plain": [
       "[1] 4 4"
      ]
     },
     "metadata": {},
     "output_type": "display_data"
    },
    {
     "data": {
      "text/html": [
       "<ol class=list-inline>\n",
       "\t<li>4</li>\n",
       "\t<li>3</li>\n",
       "</ol>\n"
      ],
      "text/latex": [
       "\\begin{enumerate*}\n",
       "\\item 4\n",
       "\\item 3\n",
       "\\end{enumerate*}\n"
      ],
      "text/markdown": [
       "1. 4\n",
       "2. 3\n",
       "\n",
       "\n"
      ],
      "text/plain": [
       "[1] 4 3"
      ]
     },
     "metadata": {},
     "output_type": "display_data"
    },
    {
     "data": {
      "text/html": [
       "<ol class=list-inline>\n",
       "\t<li>3.61029411764706</li>\n",
       "\t<li>3.70967741935484</li>\n",
       "</ol>\n"
      ],
      "text/latex": [
       "\\begin{enumerate*}\n",
       "\\item 3.61029411764706\n",
       "\\item 3.70967741935484\n",
       "\\end{enumerate*}\n"
      ],
      "text/markdown": [
       "1. 3.61029411764706\n",
       "2. 3.70967741935484\n",
       "\n",
       "\n"
      ],
      "text/plain": [
       "[1] 3.610294 3.709677"
      ]
     },
     "metadata": {},
     "output_type": "display_data"
    },
    {
     "data": {
      "text/html": [
       "<ol class=list-inline>\n",
       "\t<li>3.8783185840708</li>\n",
       "\t<li>3.20610687022901</li>\n",
       "</ol>\n"
      ],
      "text/latex": [
       "\\begin{enumerate*}\n",
       "\\item 3.8783185840708\n",
       "\\item 3.20610687022901\n",
       "\\end{enumerate*}\n"
      ],
      "text/markdown": [
       "1. 3.8783185840708\n",
       "2. 3.20610687022901\n",
       "\n",
       "\n"
      ],
      "text/plain": [
       "[1] 3.878319 3.206107"
      ]
     },
     "metadata": {},
     "output_type": "display_data"
    },
    {
     "data": {
      "text/html": [
       "4"
      ],
      "text/latex": [
       "4"
      ],
      "text/markdown": [
       "4"
      ],
      "text/plain": [
       "[1] 4"
      ]
     },
     "metadata": {},
     "output_type": "display_data"
    },
    {
     "data": {
      "text/html": [
       "3"
      ],
      "text/latex": [
       "3"
      ],
      "text/markdown": [
       "3"
      ],
      "text/plain": [
       "[1] 3"
      ]
     },
     "metadata": {},
     "output_type": "display_data"
    },
    {
     "data": {
      "text/html": [
       "4"
      ],
      "text/latex": [
       "4"
      ],
      "text/markdown": [
       "4"
      ],
      "text/plain": [
       "[1] 4"
      ]
     },
     "metadata": {},
     "output_type": "display_data"
    },
    {
     "data": {
      "text/html": [
       "4"
      ],
      "text/latex": [
       "4"
      ],
      "text/markdown": [
       "4"
      ],
      "text/plain": [
       "[1] 4"
      ]
     },
     "metadata": {},
     "output_type": "display_data"
    }
   ],
   "source": [
    "rowMedians(m.na[1:2,],na.rm=TRUE)\n",
    "colMedians(m.na[,1:2],na.rm=TRUE)\n",
    "\n",
    "rowMeans(m.na[1:2,],na.rm=TRUE)\n",
    "colMeans(m.na[,1:2],na.rm=TRUE)\n",
    "\n",
    "Mode <- function(x) {\n",
    "  ux <- unique(x[x>0])\n",
    "  ux[which.max(tabulate(match(x[x>0], ux)))]\n",
    "}"
   ]
  },
  {
   "cell_type": "code",
   "execution_count": null,
   "metadata": {},
   "outputs": [],
   "source": []
  },
  {
   "cell_type": "code",
   "execution_count": 25,
   "metadata": {},
   "outputs": [],
   "source": [
    "u.mean <- matrix(rowMeans(m.na, na.rm=T), nrow(m), ncol(m))\n",
    "item.mean <- matrix(colMeans(m.na, na.rm=T), nrow(m), ncol(m), byrow=T)\n",
    "m.expect.mean <- ((u.mean + item.mean)/2)"
   ]
  },
  {
   "cell_type": "code",
   "execution_count": 26,
   "metadata": {},
   "outputs": [],
   "source": [
    "u.median <- matrix(rowMedians(m.na, na.rm=T), nrow(m), ncol(m))\n",
    "item.median <- matrix(colMedians(m.na, na.rm=T), nrow(m), ncol(m), byrow=T)\n",
    "m.expect.medians <- ((u.median + item.median)/2)"
   ]
  },
  {
   "cell_type": "code",
   "execution_count": 27,
   "metadata": {},
   "outputs": [],
   "source": [
    "u.mode <- apply(m,1,FUN=Mode)\n",
    "item.mode <-apply(m,2,FUN=Mode)\n",
    "m.expect.mode <- outer( u.mode,item.mode, FUN=\"+\")/2"
   ]
  },
  {
   "cell_type": "code",
   "execution_count": null,
   "metadata": {},
   "outputs": [],
   "source": []
  },
  {
   "cell_type": "code",
   "execution_count": 28,
   "metadata": {},
   "outputs": [],
   "source": [
    "mae <- function(m1, m2) mean(abs(m1 - m2), na.rm=T)\n"
   ]
  },
  {
   "cell_type": "code",
   "execution_count": 29,
   "metadata": {},
   "outputs": [
    {
     "data": {
      "text/html": [
       "0.78258306017685"
      ],
      "text/latex": [
       "0.78258306017685"
      ],
      "text/markdown": [
       "0.78258306017685"
      ],
      "text/plain": [
       "[1] 0.7825831"
      ]
     },
     "metadata": {},
     "output_type": "display_data"
    }
   ],
   "source": [
    "mae(m.expect.mean, m.na)"
   ]
  },
  {
   "cell_type": "code",
   "execution_count": 30,
   "metadata": {},
   "outputs": [
    {
     "data": {
      "text/html": [
       "0.75413"
      ],
      "text/latex": [
       "0.75413"
      ],
      "text/markdown": [
       "0.75413"
      ],
      "text/plain": [
       "[1] 0.75413"
      ]
     },
     "metadata": {},
     "output_type": "display_data"
    }
   ],
   "source": [
    "mae(m.expect.medians, m.na)"
   ]
  },
  {
   "cell_type": "code",
   "execution_count": 31,
   "metadata": {},
   "outputs": [
    {
     "data": {
      "text/html": [
       "0.761475"
      ],
      "text/latex": [
       "0.761475"
      ],
      "text/markdown": [
       "0.761475"
      ],
      "text/plain": [
       "[1] 0.761475"
      ]
     },
     "metadata": {},
     "output_type": "display_data"
    }
   ],
   "source": [
    "mae(m.expect.mode, m.na)"
   ]
  },
  {
   "cell_type": "code",
   "execution_count": null,
   "metadata": {},
   "outputs": [],
   "source": []
  },
  {
   "cell_type": "code",
   "execution_count": null,
   "metadata": {},
   "outputs": [],
   "source": []
  }
 ],
 "metadata": {
  "kernelspec": {
   "display_name": "R",
   "language": "R",
   "name": "ir"
  },
  "language_info": {
   "codemirror_mode": "r",
   "file_extension": ".r",
   "mimetype": "text/x-r-source",
   "name": "R",
   "pygments_lexer": "r",
   "version": "3.5.1"
  }
 },
 "nbformat": 4,
 "nbformat_minor": 2
}
