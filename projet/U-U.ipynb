{
 "cells": [
  {
   "cell_type": "code",
   "execution_count": 13,
   "metadata": {},
   "outputs": [],
   "source": [
    "u.user <- read.csv(file='u.user.csv', sep='|', header=T)\n",
    "u.item <- read.csv(file='u.item.csv', sep='|', header=T)\n",
    "u.data <- read.csv(file='u.data.csv', sep='|', header=T)\n",
    "library(Matrix)\n",
    "m.sparse <- sparseMatrix(u.data[,1],u.data[,2],x=u.data[,3])\n",
    "rownames(m.sparse) <- paste('u', 1:nrow(m.sparse), sep='')\n",
    "colnames(m.sparse) <- paste('i', 1:ncol(m.sparse), sep='')\n",
    "mae <- function(m1, m2) mean(abs(m1 - m2), na.rm=T)\n",
    "# Trouve les indexes des premieres 'n' valeurs minimales d'une matrice\n",
    "min.nindex <- function(m, n=5) {\n",
    "    i <- order(m)\n",
    "    return(i[1:n])\n",
    "}\n",
    "cosinus.vm <- function(v,m) { \n",
    "    n <- sqrt(colSums(m^2)); \n",
    "    (v %*% m)/(n * sqrt(sum(v^2)))\n",
    "}\n",
    "\n",
    "colMeans.sparse <- function(m) {colSums(m)/colSums(m>0)}\n",
    "rowMeans.sparse <- function(m) {rowSums(m)/rowSums(m>0)}\n",
    "means.sparse <- function(v) {sum(v)/sum(v>0)}\n",
    "\n",
    "m <- as.matrix(m.sparse)                # transforme en matrice ordinaire\n",
    "m.na <- m\n",
    "m.na[m.na==0] <- NA\n",
    "m.na.t <- t(m.na)\n",
    "m.t <- t(m)\n",
    "m.sparse.t <- t(m.sparse)"
   ]
  },
  {
   "cell_type": "code",
   "execution_count": 14,
   "metadata": {},
   "outputs": [],
   "source": [
    "new.m.cv <- function(dimRedu){\n",
    "# matrice diagonale pour réduire les matrices originales\n",
    "m.d2 <- diag(c(m.svd$d[1:dimRedu],rep(0,length(m.svd$d)-dimRedu)))\n",
    "# nouvelle matrice basée sur les deux premières dimensions uniquement\n",
    "m.svd2 <- round((m.svd$u %*% m.d2 %*% t(m.svd$v)),2)\n",
    "mae(m.svd2[i.test.b], m.na[i.test.b])\n",
    "    }\n",
    "to.plot <- c()\n",
    "cv.b <- c()"
   ]
  },
  {
   "cell_type": "code",
   "execution_count": 15,
   "metadata": {},
   "outputs": [],
   "source": [
    "i.observed <- which(m > 0)\n",
    "set.seed(1)\n",
    "i.hasard <- sample(i.observed, length(i.observed))\n",
    "fold.size <- round(length(i.hasard) / 5)\n",
    "i.false <- rep(FALSE, length(m))\n",
    "cv.b <- c()\n",
    "\n",
    "for (i in seq_len(5)){\n",
    "fold.number <- i\n",
    "## Index booléen pour les cellules de test et d'entraînement\n",
    "i.test.b <- i.false\n",
    "\n",
    "## Les cellules indexées du replis correspondant sont fixées à TRUE pour le test...\n",
    "i.test.b[ i.hasard[((fold.number-1) * fold.size):((fold.number) * fold.size)] ] <- TRUE\n",
    "## ...et à FALSE pour l'entraînement\n",
    "i.train.b <-  !i.test.b\n",
    "m.train <- m\n",
    "m.train[i.test.b] <- 0                # on enlève les données de test pour l'entraînement\n",
    "m.train.na <- m.train\n",
    "m.train.na[m.train==0]<-NA\n",
    "    \n",
    "# Question 7 - Validation croisée pour question 3\n",
    "# Ici nous essayons de prédire les valeurs des votes du film Star trek 5 à l'aide d'une approche item-item\n",
    "m.sparse <- m\n",
    "m.sparse[i.test.b]<-0\n",
    "m.sparse.t <- t(m.sparse)\n",
    "try <- function(x,y,w) {x.0 <- x>0 ; x.temp <- (x-y)*x.0; num <-  w %*%x.temp;denum <- sum(abs(t(w))*x.0);num/denum} \n",
    "\n",
    "film_pred <- function(film_id){\n",
    "# Pour l'exercise, on choisit de prendre seulement les utilisateurs pour l'item Star Trek V: The Final Frontier\n",
    "v.item <- m.sparse.t[film_id,]\n",
    "new.m.sparse <- m.sparse\n",
    "\n",
    "voisins <- 21\n",
    "# on centre la matrice m selon les utilisateurs\n",
    "# on calcule la moyenne et centré pour enlever les biais des utilisateurs comme pour la question 4\n",
    "u.mean <-rowMeans.sparse(new.m.sparse)\n",
    "m.center <- as.matrix((new.m.sparse-u.mean)*(new.m.sparse>0))\n",
    "# on remplace les 0 par NA\n",
    "m.center[m.center==0] <- NA\n",
    "\n",
    "# on calcule la distance eucledienne entre les films\n",
    "distance.na.450.center <- sqrt(colSums((m.center[,film_id] - m.center)^2, na.rm=T)) # ignore les valeurs manquantes\n",
    "# on calcule le nombre de votes communs des films avec star trek V\n",
    "votes.communs <- (colSums((new.m.sparse[,film_id] * new.m.sparse) > 0))\n",
    "# on assigne la valeur au film qui ont moins de 40 votes communs avec star trek V\n",
    "distance.na.450.center[votes.communs<5] <- Inf\n",
    "\n",
    "closest.euc <- min.nindex(distance.na.450.center, voisins)[-1]\n",
    "\n",
    "wcos.st <- cosinus.vm(new.m.sparse[,film_id], new.m.sparse[,closest.euc])\n",
    "\n",
    "# les 20 films les plus communs\n",
    "idx<- closest.euc\n",
    "# on transpose m\n",
    "m.sparse.t <- t(new.m.sparse)\n",
    "# la range de l item de star trek V\n",
    "v.item <- m.sparse.t[film_id,]\n",
    "# la moyenne de l item de star trek V\n",
    "v_1 <-means.sparse(v.item);\n",
    "# retourne la moyenne pour chacun des 20 films voisisns\n",
    "v_i <- apply(m.sparse.t[idx,], 1, FUN=means.sparse)\n",
    "\n",
    "x<- as.matrix((m.sparse.t[idx,]))\n",
    "new_x <-lapply(seq_len(ncol(x)), function(i) x[,i]) # Retourne une liste de longeur 943 \n",
    "new_y <-as.vector(lapply(seq_len(ncol(x)), function(i) v_i)) \n",
    "new_w <-as.vector(lapply(seq_len(ncol(x)), function(i) as.matrix(wcos.st)))\n",
    "\n",
    "    \n",
    "c_prod <- mapply(try ,new_x, new_y, new_w)\n",
    "# Ajoute la moyenne de l'item \n",
    "v_1+c_prod\n",
    "}\n",
    "film_prection_list <-lapply(seq_len(1682), film_pred) # Retourne une liste de longeur 943 \n",
    "new.matrix <- do.call(cbind, film_prection_list)\n",
    "new.matrix[!is.finite(new.matrix)]<- rep(rowMeans(new.matrix,na.rm=T),1682)[!is.finite(new.matrix)]\n",
    "m.train <- new.matrix\n",
    "mae.temp <- mae(new.matrix[i.test.b], m.na[i.test.b])\n",
    "cv.b <- c(cv.b,mae.temp)\n",
    "m.svd <- svd(m.train)\n",
    "to.plot<-rbind(to.plot,unlist(lapply(seq(22), new.m.cv)))\n",
    "}"
   ]
  },
  {
   "cell_type": "code",
   "execution_count": 16,
   "metadata": {},
   "outputs": [
    {
     "data": {
      "image/png": "[encoded data removed]",
      "text/plain": [
       "Plot with title \"SVD par imputation aléatoire suivant la distribution des votes\""
      ]
     },
     "metadata": {},
     "output_type": "display_data"
    }
   ],
   "source": [
    "to.plot<-apply(to.plot,2,unlist)\n",
    "sdev <- apply(to.plot,2,sd) \n",
    "avg <- colMeans(to.plot)\n",
    "avg.cv <- mean(cv.b)\n",
    "x <- 1:length(avg)\n",
    "plot(x,colMeans(to.plot),ylim=range(avg-sdev, avg+sdev),pch=19, xlab=\"Nombre de dimensions\", ylab=\"MAE\",\n",
    "    main=\"SVD par imputation aléatoire suivant la distribution des votes\"\n",
    ")\n",
    "# hack: we draw arrows but with very special \"arrowheads\"\n",
    "arrows(x, avg-sdev, x, avg+sdev, length=0.05, angle=90, code=3)"
   ]
  },
  {
   "cell_type": "code",
   "execution_count": 17,
   "metadata": {},
   "outputs": [
    {
     "data": {
      "text/html": [
       "0.958905075233164"
      ],
      "text/latex": [
       "0.958905075233164"
      ],
      "text/markdown": [
       "0.958905075233164"
      ],
      "text/plain": [
       "[1] 0.9589051"
      ]
     },
     "metadata": {},
     "output_type": "display_data"
    }
   ],
   "source": [
    "avg.cv"
   ]
  },
  {
   "cell_type": "code",
   "execution_count": null,
   "metadata": {},
   "outputs": [],
   "source": []
  }
 ],
 "metadata": {
  "kernelspec": {
   "display_name": "R",
   "language": "R",
   "name": "ir"
  },
  "language_info": {
   "codemirror_mode": "r",
   "file_extension": ".r",
   "mimetype": "text/x-r-source",
   "name": "R",
   "pygments_lexer": "r",
   "version": "3.5.1"
  }
 },
 "nbformat": 4,
 "nbformat_minor": 2
}
