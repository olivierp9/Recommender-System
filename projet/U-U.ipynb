{
 "cells": [
  {
   "cell_type": "code",
   "execution_count": 25,
   "metadata": {},
   "outputs": [],
   "source": [
    "u.user <- read.csv(file='u.user.csv', sep='|', header=T)\n",
    "u.item <- read.csv(file='u.item.csv', sep='|', header=T)\n",
    "u.data <- read.csv(file='u.data.csv', sep='|', header=T)\n",
    "library(Matrix)\n",
    "m.sparse <- sparseMatrix(u.data[,1],u.data[,2],x=u.data[,3])\n",
    "rownames(m.sparse) <- paste('u', 1:nrow(m.sparse), sep='')\n",
    "colnames(m.sparse) <- paste('i', 1:ncol(m.sparse), sep='')\n",
    "mae <- function(m1, m2) mean(abs(m1 - m2), na.rm=T)\n",
    "# Trouve les indexes des premieres 'n' valeurs minimales d'une matrice\n",
    "min.nindex <- function(m, n=5) {\n",
    "    i <- order(m)\n",
    "    return(i[1:n])\n",
    "}\n",
    "cosinus.vm <- function(v,m) { \n",
    "    n <- sqrt(colSums(m^2)); \n",
    "    (v %*% m)/(n * sqrt(sum(v^2)))\n",
    "}\n",
    "\n",
    "colMeans.sparse <- function(m) {colSums(m)/colSums(m>0)}\n",
    "rowMeans.sparse <- function(m) {rowSums(m)/rowSums(m>0)}\n",
    "means.sparse <- function(v) {sum(v)/sum(v>0)}\n",
    "\n",
    "m <- as.matrix(m.sparse)                # transforme en matrice ordinaire\n",
    "m.na <- m\n",
    "m.na[m.na==0] <- NA\n",
    "m.na.t <- t(m.na)\n",
    "m.t <- t(m)\n",
    "m.sparse.t <- t(m.sparse)\n",
    "library(\"recommenderlab\")\n"
   ]
  },
  {
   "cell_type": "code",
   "execution_count": 26,
   "metadata": {},
   "outputs": [],
   "source": [
    "model.type <-c('UBCF','IBCF')\n",
    "model.norm <- c('Z-score','center')\n",
    "model.meth <- c('pearson', 'cosine', 'jaccard', 'euclidean')\n",
    "model.n <- c(10,20,30,40,50)"
   ]
  },
  {
   "cell_type": "code",
   "execution_count": 22,
   "metadata": {},
   "outputs": [
    {
     "data": {
      "text/html": [
       "<table>\n",
       "<thead><tr><th scope=col>Var1</th><th scope=col>Var2</th><th scope=col>Var3</th><th scope=col>Var4</th></tr></thead>\n",
       "<tbody>\n",
       "\t<tr><td>UBCF     </td><td>Z-score  </td><td>pearson  </td><td>10       </td></tr>\n",
       "\t<tr><td>IBCF     </td><td>Z-score  </td><td>pearson  </td><td>10       </td></tr>\n",
       "\t<tr><td>UBCF     </td><td>center   </td><td>pearson  </td><td>10       </td></tr>\n",
       "\t<tr><td>IBCF     </td><td>center   </td><td>pearson  </td><td>10       </td></tr>\n",
       "\t<tr><td>UBCF     </td><td>Z-score  </td><td>cosine   </td><td>10       </td></tr>\n",
       "\t<tr><td>IBCF     </td><td>Z-score  </td><td>cosine   </td><td>10       </td></tr>\n",
       "\t<tr><td>UBCF     </td><td>center   </td><td>cosine   </td><td>10       </td></tr>\n",
       "\t<tr><td>IBCF     </td><td>center   </td><td>cosine   </td><td>10       </td></tr>\n",
       "\t<tr><td>UBCF     </td><td>Z-score  </td><td>jaccard  </td><td>10       </td></tr>\n",
       "\t<tr><td>IBCF     </td><td>Z-score  </td><td>jaccard  </td><td>10       </td></tr>\n",
       "\t<tr><td>UBCF     </td><td>center   </td><td>jaccard  </td><td>10       </td></tr>\n",
       "\t<tr><td>IBCF     </td><td>center   </td><td>jaccard  </td><td>10       </td></tr>\n",
       "\t<tr><td>UBCF     </td><td>Z-score  </td><td>euclidean</td><td>10       </td></tr>\n",
       "\t<tr><td>IBCF     </td><td>Z-score  </td><td>euclidean</td><td>10       </td></tr>\n",
       "\t<tr><td>UBCF     </td><td>center   </td><td>euclidean</td><td>10       </td></tr>\n",
       "\t<tr><td>IBCF     </td><td>center   </td><td>euclidean</td><td>10       </td></tr>\n",
       "\t<tr><td>UBCF     </td><td>Z-score  </td><td>pearson  </td><td>20       </td></tr>\n",
       "\t<tr><td>IBCF     </td><td>Z-score  </td><td>pearson  </td><td>20       </td></tr>\n",
       "\t<tr><td>UBCF     </td><td>center   </td><td>pearson  </td><td>20       </td></tr>\n",
       "\t<tr><td>IBCF     </td><td>center   </td><td>pearson  </td><td>20       </td></tr>\n",
       "\t<tr><td>UBCF     </td><td>Z-score  </td><td>cosine   </td><td>20       </td></tr>\n",
       "\t<tr><td>IBCF     </td><td>Z-score  </td><td>cosine   </td><td>20       </td></tr>\n",
       "\t<tr><td>UBCF     </td><td>center   </td><td>cosine   </td><td>20       </td></tr>\n",
       "\t<tr><td>IBCF     </td><td>center   </td><td>cosine   </td><td>20       </td></tr>\n",
       "\t<tr><td>UBCF     </td><td>Z-score  </td><td>jaccard  </td><td>20       </td></tr>\n",
       "\t<tr><td>IBCF     </td><td>Z-score  </td><td>jaccard  </td><td>20       </td></tr>\n",
       "\t<tr><td>UBCF     </td><td>center   </td><td>jaccard  </td><td>20       </td></tr>\n",
       "\t<tr><td>IBCF     </td><td>center   </td><td>jaccard  </td><td>20       </td></tr>\n",
       "\t<tr><td>UBCF     </td><td>Z-score  </td><td>euclidean</td><td>20       </td></tr>\n",
       "\t<tr><td>IBCF     </td><td>Z-score  </td><td>euclidean</td><td>20       </td></tr>\n",
       "\t<tr><td>...</td><td>...</td><td>...</td><td>...</td></tr>\n",
       "\t<tr><td>UBCF     </td><td>center   </td><td>pearson  </td><td>40       </td></tr>\n",
       "\t<tr><td>IBCF     </td><td>center   </td><td>pearson  </td><td>40       </td></tr>\n",
       "\t<tr><td>UBCF     </td><td>Z-score  </td><td>cosine   </td><td>40       </td></tr>\n",
       "\t<tr><td>IBCF     </td><td>Z-score  </td><td>cosine   </td><td>40       </td></tr>\n",
       "\t<tr><td>UBCF     </td><td>center   </td><td>cosine   </td><td>40       </td></tr>\n",
       "\t<tr><td>IBCF     </td><td>center   </td><td>cosine   </td><td>40       </td></tr>\n",
       "\t<tr><td>UBCF     </td><td>Z-score  </td><td>jaccard  </td><td>40       </td></tr>\n",
       "\t<tr><td>IBCF     </td><td>Z-score  </td><td>jaccard  </td><td>40       </td></tr>\n",
       "\t<tr><td>UBCF     </td><td>center   </td><td>jaccard  </td><td>40       </td></tr>\n",
       "\t<tr><td>IBCF     </td><td>center   </td><td>jaccard  </td><td>40       </td></tr>\n",
       "\t<tr><td>UBCF     </td><td>Z-score  </td><td>euclidean</td><td>40       </td></tr>\n",
       "\t<tr><td>IBCF     </td><td>Z-score  </td><td>euclidean</td><td>40       </td></tr>\n",
       "\t<tr><td>UBCF     </td><td>center   </td><td>euclidean</td><td>40       </td></tr>\n",
       "\t<tr><td>IBCF     </td><td>center   </td><td>euclidean</td><td>40       </td></tr>\n",
       "\t<tr><td>UBCF     </td><td>Z-score  </td><td>pearson  </td><td>50       </td></tr>\n",
       "\t<tr><td>IBCF     </td><td>Z-score  </td><td>pearson  </td><td>50       </td></tr>\n",
       "\t<tr><td>UBCF     </td><td>center   </td><td>pearson  </td><td>50       </td></tr>\n",
       "\t<tr><td>IBCF     </td><td>center   </td><td>pearson  </td><td>50       </td></tr>\n",
       "\t<tr><td>UBCF     </td><td>Z-score  </td><td>cosine   </td><td>50       </td></tr>\n",
       "\t<tr><td>IBCF     </td><td>Z-score  </td><td>cosine   </td><td>50       </td></tr>\n",
       "\t<tr><td>UBCF     </td><td>center   </td><td>cosine   </td><td>50       </td></tr>\n",
       "\t<tr><td>IBCF     </td><td>center   </td><td>cosine   </td><td>50       </td></tr>\n",
       "\t<tr><td>UBCF     </td><td>Z-score  </td><td>jaccard  </td><td>50       </td></tr>\n",
       "\t<tr><td>IBCF     </td><td>Z-score  </td><td>jaccard  </td><td>50       </td></tr>\n",
       "\t<tr><td>UBCF     </td><td>center   </td><td>jaccard  </td><td>50       </td></tr>\n",
       "\t<tr><td>IBCF     </td><td>center   </td><td>jaccard  </td><td>50       </td></tr>\n",
       "\t<tr><td>UBCF     </td><td>Z-score  </td><td>euclidean</td><td>50       </td></tr>\n",
       "\t<tr><td>IBCF     </td><td>Z-score  </td><td>euclidean</td><td>50       </td></tr>\n",
       "\t<tr><td>UBCF     </td><td>center   </td><td>euclidean</td><td>50       </td></tr>\n",
       "\t<tr><td>IBCF     </td><td>center   </td><td>euclidean</td><td>50       </td></tr>\n",
       "</tbody>\n",
       "</table>\n"
      ],
      "text/latex": [
       "\\begin{tabular}{r|llll}\n",
       " Var1 & Var2 & Var3 & Var4\\\\\n",
       "\\hline\n",
       "\t UBCF      & Z-score   & pearson   & 10       \\\\\n",
       "\t IBCF      & Z-score   & pearson   & 10       \\\\\n",
       "\t UBCF      & center    & pearson   & 10       \\\\\n",
       "\t IBCF      & center    & pearson   & 10       \\\\\n",
       "\t UBCF      & Z-score   & cosine    & 10       \\\\\n",
       "\t IBCF      & Z-score   & cosine    & 10       \\\\\n",
       "\t UBCF      & center    & cosine    & 10       \\\\\n",
       "\t IBCF      & center    & cosine    & 10       \\\\\n",
       "\t UBCF      & Z-score   & jaccard   & 10       \\\\\n",
       "\t IBCF      & Z-score   & jaccard   & 10       \\\\\n",
       "\t UBCF      & center    & jaccard   & 10       \\\\\n",
       "\t IBCF      & center    & jaccard   & 10       \\\\\n",
       "\t UBCF      & Z-score   & euclidean & 10       \\\\\n",
       "\t IBCF      & Z-score   & euclidean & 10       \\\\\n",
       "\t UBCF      & center    & euclidean & 10       \\\\\n",
       "\t IBCF      & center    & euclidean & 10       \\\\\n",
       "\t UBCF      & Z-score   & pearson   & 20       \\\\\n",
       "\t IBCF      & Z-score   & pearson   & 20       \\\\\n",
       "\t UBCF      & center    & pearson   & 20       \\\\\n",
       "\t IBCF      & center    & pearson   & 20       \\\\\n",
       "\t UBCF      & Z-score   & cosine    & 20       \\\\\n",
       "\t IBCF      & Z-score   & cosine    & 20       \\\\\n",
       "\t UBCF      & center    & cosine    & 20       \\\\\n",
       "\t IBCF      & center    & cosine    & 20       \\\\\n",
       "\t UBCF      & Z-score   & jaccard   & 20       \\\\\n",
       "\t IBCF      & Z-score   & jaccard   & 20       \\\\\n",
       "\t UBCF      & center    & jaccard   & 20       \\\\\n",
       "\t IBCF      & center    & jaccard   & 20       \\\\\n",
       "\t UBCF      & Z-score   & euclidean & 20       \\\\\n",
       "\t IBCF      & Z-score   & euclidean & 20       \\\\\n",
       "\t ... & ... & ... & ...\\\\\n",
       "\t UBCF      & center    & pearson   & 40       \\\\\n",
       "\t IBCF      & center    & pearson   & 40       \\\\\n",
       "\t UBCF      & Z-score   & cosine    & 40       \\\\\n",
       "\t IBCF      & Z-score   & cosine    & 40       \\\\\n",
       "\t UBCF      & center    & cosine    & 40       \\\\\n",
       "\t IBCF      & center    & cosine    & 40       \\\\\n",
       "\t UBCF      & Z-score   & jaccard   & 40       \\\\\n",
       "\t IBCF      & Z-score   & jaccard   & 40       \\\\\n",
       "\t UBCF      & center    & jaccard   & 40       \\\\\n",
       "\t IBCF      & center    & jaccard   & 40       \\\\\n",
       "\t UBCF      & Z-score   & euclidean & 40       \\\\\n",
       "\t IBCF      & Z-score   & euclidean & 40       \\\\\n",
       "\t UBCF      & center    & euclidean & 40       \\\\\n",
       "\t IBCF      & center    & euclidean & 40       \\\\\n",
       "\t UBCF      & Z-score   & pearson   & 50       \\\\\n",
       "\t IBCF      & Z-score   & pearson   & 50       \\\\\n",
       "\t UBCF      & center    & pearson   & 50       \\\\\n",
       "\t IBCF      & center    & pearson   & 50       \\\\\n",
       "\t UBCF      & Z-score   & cosine    & 50       \\\\\n",
       "\t IBCF      & Z-score   & cosine    & 50       \\\\\n",
       "\t UBCF      & center    & cosine    & 50       \\\\\n",
       "\t IBCF      & center    & cosine    & 50       \\\\\n",
       "\t UBCF      & Z-score   & jaccard   & 50       \\\\\n",
       "\t IBCF      & Z-score   & jaccard   & 50       \\\\\n",
       "\t UBCF      & center    & jaccard   & 50       \\\\\n",
       "\t IBCF      & center    & jaccard   & 50       \\\\\n",
       "\t UBCF      & Z-score   & euclidean & 50       \\\\\n",
       "\t IBCF      & Z-score   & euclidean & 50       \\\\\n",
       "\t UBCF      & center    & euclidean & 50       \\\\\n",
       "\t IBCF      & center    & euclidean & 50       \\\\\n",
       "\\end{tabular}\n"
      ],
      "text/markdown": [
       "\n",
       "Var1 | Var2 | Var3 | Var4 | \n",
       "|---|---|---|---|---|---|---|---|---|---|---|---|---|---|---|---|---|---|---|---|---|---|---|---|---|---|---|---|---|---|---|---|---|---|---|---|---|---|---|---|---|---|---|---|---|---|---|---|---|---|---|---|---|---|---|---|---|---|---|---|---|\n",
       "| UBCF      | Z-score   | pearson   | 10        | \n",
       "| IBCF      | Z-score   | pearson   | 10        | \n",
       "| UBCF      | center    | pearson   | 10        | \n",
       "| IBCF      | center    | pearson   | 10        | \n",
       "| UBCF      | Z-score   | cosine    | 10        | \n",
       "| IBCF      | Z-score   | cosine    | 10        | \n",
       "| UBCF      | center    | cosine    | 10        | \n",
       "| IBCF      | center    | cosine    | 10        | \n",
       "| UBCF      | Z-score   | jaccard   | 10        | \n",
       "| IBCF      | Z-score   | jaccard   | 10        | \n",
       "| UBCF      | center    | jaccard   | 10        | \n",
       "| IBCF      | center    | jaccard   | 10        | \n",
       "| UBCF      | Z-score   | euclidean | 10        | \n",
       "| IBCF      | Z-score   | euclidean | 10        | \n",
       "| UBCF      | center    | euclidean | 10        | \n",
       "| IBCF      | center    | euclidean | 10        | \n",
       "| UBCF      | Z-score   | pearson   | 20        | \n",
       "| IBCF      | Z-score   | pearson   | 20        | \n",
       "| UBCF      | center    | pearson   | 20        | \n",
       "| IBCF      | center    | pearson   | 20        | \n",
       "| UBCF      | Z-score   | cosine    | 20        | \n",
       "| IBCF      | Z-score   | cosine    | 20        | \n",
       "| UBCF      | center    | cosine    | 20        | \n",
       "| IBCF      | center    | cosine    | 20        | \n",
       "| UBCF      | Z-score   | jaccard   | 20        | \n",
       "| IBCF      | Z-score   | jaccard   | 20        | \n",
       "| UBCF      | center    | jaccard   | 20        | \n",
       "| IBCF      | center    | jaccard   | 20        | \n",
       "| UBCF      | Z-score   | euclidean | 20        | \n",
       "| IBCF      | Z-score   | euclidean | 20        | \n",
       "| ... | ... | ... | ... | \n",
       "| UBCF      | center    | pearson   | 40        | \n",
       "| IBCF      | center    | pearson   | 40        | \n",
       "| UBCF      | Z-score   | cosine    | 40        | \n",
       "| IBCF      | Z-score   | cosine    | 40        | \n",
       "| UBCF      | center    | cosine    | 40        | \n",
       "| IBCF      | center    | cosine    | 40        | \n",
       "| UBCF      | Z-score   | jaccard   | 40        | \n",
       "| IBCF      | Z-score   | jaccard   | 40        | \n",
       "| UBCF      | center    | jaccard   | 40        | \n",
       "| IBCF      | center    | jaccard   | 40        | \n",
       "| UBCF      | Z-score   | euclidean | 40        | \n",
       "| IBCF      | Z-score   | euclidean | 40        | \n",
       "| UBCF      | center    | euclidean | 40        | \n",
       "| IBCF      | center    | euclidean | 40        | \n",
       "| UBCF      | Z-score   | pearson   | 50        | \n",
       "| IBCF      | Z-score   | pearson   | 50        | \n",
       "| UBCF      | center    | pearson   | 50        | \n",
       "| IBCF      | center    | pearson   | 50        | \n",
       "| UBCF      | Z-score   | cosine    | 50        | \n",
       "| IBCF      | Z-score   | cosine    | 50        | \n",
       "| UBCF      | center    | cosine    | 50        | \n",
       "| IBCF      | center    | cosine    | 50        | \n",
       "| UBCF      | Z-score   | jaccard   | 50        | \n",
       "| IBCF      | Z-score   | jaccard   | 50        | \n",
       "| UBCF      | center    | jaccard   | 50        | \n",
       "| IBCF      | center    | jaccard   | 50        | \n",
       "| UBCF      | Z-score   | euclidean | 50        | \n",
       "| IBCF      | Z-score   | euclidean | 50        | \n",
       "| UBCF      | center    | euclidean | 50        | \n",
       "| IBCF      | center    | euclidean | 50        | \n",
       "\n",
       "\n"
      ],
      "text/plain": [
       "    Var1 Var2    Var3      Var4\n",
       "1   UBCF Z-score pearson   10  \n",
       "2   IBCF Z-score pearson   10  \n",
       "3   UBCF center  pearson   10  \n",
       "4   IBCF center  pearson   10  \n",
       "5   UBCF Z-score cosine    10  \n",
       "6   IBCF Z-score cosine    10  \n",
       "7   UBCF center  cosine    10  \n",
       "8   IBCF center  cosine    10  \n",
       "9   UBCF Z-score jaccard   10  \n",
       "10  IBCF Z-score jaccard   10  \n",
       "11  UBCF center  jaccard   10  \n",
       "12  IBCF center  jaccard   10  \n",
       "13  UBCF Z-score euclidean 10  \n",
       "14  IBCF Z-score euclidean 10  \n",
       "15  UBCF center  euclidean 10  \n",
       "16  IBCF center  euclidean 10  \n",
       "17  UBCF Z-score pearson   20  \n",
       "18  IBCF Z-score pearson   20  \n",
       "19  UBCF center  pearson   20  \n",
       "20  IBCF center  pearson   20  \n",
       "21  UBCF Z-score cosine    20  \n",
       "22  IBCF Z-score cosine    20  \n",
       "23  UBCF center  cosine    20  \n",
       "24  IBCF center  cosine    20  \n",
       "25  UBCF Z-score jaccard   20  \n",
       "26  IBCF Z-score jaccard   20  \n",
       "27  UBCF center  jaccard   20  \n",
       "28  IBCF center  jaccard   20  \n",
       "29  UBCF Z-score euclidean 20  \n",
       "30  IBCF Z-score euclidean 20  \n",
       "... ...  ...     ...       ... \n",
       "51  UBCF center  pearson   40  \n",
       "52  IBCF center  pearson   40  \n",
       "53  UBCF Z-score cosine    40  \n",
       "54  IBCF Z-score cosine    40  \n",
       "55  UBCF center  cosine    40  \n",
       "56  IBCF center  cosine    40  \n",
       "57  UBCF Z-score jaccard   40  \n",
       "58  IBCF Z-score jaccard   40  \n",
       "59  UBCF center  jaccard   40  \n",
       "60  IBCF center  jaccard   40  \n",
       "61  UBCF Z-score euclidean 40  \n",
       "62  IBCF Z-score euclidean 40  \n",
       "63  UBCF center  euclidean 40  \n",
       "64  IBCF center  euclidean 40  \n",
       "65  UBCF Z-score pearson   50  \n",
       "66  IBCF Z-score pearson   50  \n",
       "67  UBCF center  pearson   50  \n",
       "68  IBCF center  pearson   50  \n",
       "69  UBCF Z-score cosine    50  \n",
       "70  IBCF Z-score cosine    50  \n",
       "71  UBCF center  cosine    50  \n",
       "72  IBCF center  cosine    50  \n",
       "73  UBCF Z-score jaccard   50  \n",
       "74  IBCF Z-score jaccard   50  \n",
       "75  UBCF center  jaccard   50  \n",
       "76  IBCF center  jaccard   50  \n",
       "77  UBCF Z-score euclidean 50  \n",
       "78  IBCF Z-score euclidean 50  \n",
       "79  UBCF center  euclidean 50  \n",
       "80  IBCF center  euclidean 50  "
      ]
     },
     "metadata": {},
     "output_type": "display_data"
    }
   ],
   "source": [
    "posibilities<-expand.grid(model.type,model.norm,model.meth,model.n)\n",
    "posibilities"
   ]
  },
  {
   "cell_type": "code",
   "execution_count": 13,
   "metadata": {},
   "outputs": [],
   "source": [
    "new.m.cv <- function(dimRedu){\n",
    "# matrice diagonale pour réduire les matrices originales\n",
    "m.d2 <- diag(c(m.svd$d[1:dimRedu],rep(0,length(m.svd$d)-dimRedu)))\n",
    "# nouvelle matrice basée sur les deux premières dimensions uniquement\n",
    "m.svd2 <- round((m.svd$u %*% m.d2 %*% t(m.svd$v)),2)\n",
    "mae(m.svd2[i.test.b], m.na[i.test.b])\n",
    "    }\n"
   ]
  },
  {
   "cell_type": "code",
   "execution_count": 14,
   "metadata": {},
   "outputs": [],
   "source": [
    "i.observed <- which(m > 0)\n",
    "set.seed(1)\n",
    "i.hasard <- sample(i.observed, length(i.observed))\n",
    "fold.size <- round(length(i.hasard) / 5)\n",
    "i.false <- rep(FALSE, length(m))\n",
    "total <- c()\n",
    "for (possi in seq_len(dim(posibilities)[1])){\n",
    "cv.b <- c()\n",
    "type <- posibilities[possi,1]\n",
    "norm <- posibilities[possi,2]\n",
    "meth <- posibilities[possi,3]\n",
    "n <- posibilities[possi,4]\n",
    "for (i in seq_len(5)){\n",
    "fold.number <- i\n",
    "## Index booléen pour les cellules de test et d'entraînement\n",
    "i.test.b <- i.false\n",
    "\n",
    "## Les cellules indexées du replis correspondant sont fixées à TRUE pour le test...\n",
    "i.test.b[ i.hasard[((fold.number-1) * fold.size):((fold.number) * fold.size)] ] <- TRUE\n",
    "## ...et à FALSE pour l'entraînement\n",
    "i.train.b <-  !i.test.b\n",
    "m.train <- m\n",
    "m.train[i.test.b] <- 0                # on enlève les données de test pour l'entraînement\n",
    "m.train.na <- m.train\n",
    "m.train.na[m.train==0]<-NA\n",
    "# Loading to pre-computed affinity data\t \n",
    "affinity.data<- as(m.train.na,\"realRatingMatrix\")\n",
    "if (type=='UBCF'){\n",
    "Rec.model=Recommender(affinity.data, method=type,param=list(normalize = norm,method=meth,nn=n))\n",
    "    } else {\n",
    "Rec.model=Recommender(affinity.data, method=type,param=list(normalize = norm,method=meth,k=n))\n",
    "}\n",
    "pred <- predict(Rec.model,  affinity.data,n=1682)\n",
    "# to display them\n",
    "pred <- as(pred, \"matrix\")\n",
    "m.train.na[is.na(m.train.na)]<-pred[is.na(m.train.na)]\n",
    "m.train.na[!is.finite(m.train.na)]<- rep(rowMeans(m.train.na,na.rm=T),1682)[!is.finite(m.train.na)]\n",
    "mae.temp <- mae(m.train.na[i.test.b], m.na[i.test.b])\n",
    "cv.b <- c(cv.b,mae.temp)\n",
    "    }\n",
    "total<- c(total, mean(cv.b))\n",
    "}"
   ]
  },
  {
   "cell_type": "code",
   "execution_count": 17,
   "metadata": {},
   "outputs": [
    {
     "data": {
      "text/html": [
       "27"
      ],
      "text/latex": [
       "27"
      ],
      "text/markdown": [
       "27"
      ],
      "text/plain": [
       "[1] 27"
      ]
     },
     "metadata": {},
     "output_type": "display_data"
    }
   ],
   "source": [
    "which(total==min(total))"
   ]
  },
  {
   "cell_type": "code",
   "execution_count": 18,
   "metadata": {},
   "outputs": [
    {
     "data": {
      "text/html": [
       "<table>\n",
       "<thead><tr><th></th><th scope=col>Var1</th><th scope=col>Var2</th><th scope=col>Var3</th><th scope=col>Var4</th></tr></thead>\n",
       "<tbody>\n",
       "\t<tr><th scope=row>27</th><td>UBCF   </td><td>center </td><td>jaccard</td><td>20     </td></tr>\n",
       "</tbody>\n",
       "</table>\n"
      ],
      "text/latex": [
       "\\begin{tabular}{r|llll}\n",
       "  & Var1 & Var2 & Var3 & Var4\\\\\n",
       "\\hline\n",
       "\t27 & UBCF    & center  & jaccard & 20     \\\\\n",
       "\\end{tabular}\n"
      ],
      "text/markdown": [
       "\n",
       "| <!--/--> | Var1 | Var2 | Var3 | Var4 | \n",
       "|---|\n",
       "| 27 | UBCF    | center  | jaccard | 20      | \n",
       "\n",
       "\n"
      ],
      "text/plain": [
       "   Var1 Var2   Var3    Var4\n",
       "27 UBCF center jaccard 20  "
      ]
     },
     "metadata": {},
     "output_type": "display_data"
    }
   ],
   "source": [
    "posibilities[which(total==min(total)),]"
   ]
  },
  {
   "cell_type": "code",
   "execution_count": 27,
   "metadata": {},
   "outputs": [
    {
     "data": {
      "text/plain": [
       "   user  system elapsed \n",
       "-47.704  -0.930 -48.818 "
      ]
     },
     "metadata": {},
     "output_type": "display_data"
    }
   ],
   "source": [
    "i.observed <- which(m > 0)\n",
    "set.seed(1)\n",
    "i.hasard <- sample(i.observed, length(i.observed))\n",
    "fold.size <- round(length(i.hasard) / 5)\n",
    "i.false <- rep(FALSE, length(m))\n",
    "\n",
    "to.plot <- c()\n",
    "cv.b <- c()\n",
    "ptm <- proc.time()\n",
    "for (i in seq_len(5)){\n",
    "fold.number <- i\n",
    "## Index booléen pour les cellules de test et d'entraînement\n",
    "i.test.b <- i.false\n",
    "\n",
    "## Les cellules indexées du replis correspondant sont fixées à TRUE pour le test...\n",
    "i.test.b[ i.hasard[((fold.number-1) * fold.size):((fold.number) * fold.size)] ] <- TRUE\n",
    "## ...et à FALSE pour l'entraînement\n",
    "i.train.b <-  !i.test.b\n",
    "m.train <- m\n",
    "m.train[i.test.b] <- 0                # on enlève les données de test pour l'entraînement\n",
    "m.train.na <- m.train\n",
    "m.train.na[m.train==0]<-NA\n",
    "# Loading to pre-computed affinity data\t \n",
    "affinity.data<- as(m.train.na,\"realRatingMatrix\")\n",
    "Rec.model=Recommender(affinity.data, method=\"UBCF\",param=list(normalize = \"Center\",method=\"jaccard\",nn=20))\n",
    "pred <- predict(Rec.model,  affinity.data,n=1682)\n",
    "# to display them\n",
    "pred <- as(pred, \"matrix\")\n",
    "m.train.na[is.na(m.train.na)]<-pred[is.na(m.train.na)]\n",
    "m.train.na[!is.finite(m.train.na)]<- rep(rowMeans(m.train.na,na.rm=T),1682)[!is.finite(m.train.na)]\n",
    "mae.temp <- mae(m.train.na[i.test.b], m.na[i.test.b])\n",
    "cv.b <- c(cv.b,mae.temp)\n",
    "m.svd <- svd(m.train.na)\n",
    "to.plot<-rbind(to.plot,unlist(lapply(seq(22), new.m.cv)))\n",
    "    }\n",
    "(proc.time()-ptm)/5"
   ]
  },
  {
   "cell_type": "code",
   "execution_count": 28,
   "metadata": {},
   "outputs": [
    {
     "data": {
      "image/png": "[encoded data removed]",
      "text/plain": [
       "Plot with title \"Collaborative Filtering\""
      ]
     },
     "metadata": {},
     "output_type": "display_data"
    }
   ],
   "source": [
    "to.plot<-apply(to.plot,2,unlist)\n",
    "sdev <- apply(to.plot,2,sd) \n",
    "avg <- colMeans(to.plot)\n",
    "avg.cv <- mean(cv.b)\n",
    "x <- 1:length(avg)\n",
    "plot(x,colMeans(to.plot),ylim=range(avg-sdev, avg+sdev),pch=19, xlab=\"Nombre de dimensions\", ylab=\"MAE +/- SD\",\n",
    "    main=\"Collaborative Filtering\"\n",
    ")\n",
    "# hack: we draw arrows but with very special \"arrowheads\"\n",
    "arrows(x, avg-sdev, x, avg+sdev, length=0.05, angle=90, code=3)"
   ]
  },
  {
   "cell_type": "code",
   "execution_count": 21,
   "metadata": {},
   "outputs": [
    {
     "data": {
      "text/html": [
       "0.812004494737358"
      ],
      "text/latex": [
       "0.812004494737358"
      ],
      "text/markdown": [
       "0.812004494737358"
      ],
      "text/plain": [
       "[1] 0.8120045"
      ]
     },
     "metadata": {},
     "output_type": "display_data"
    }
   ],
   "source": [
    "avg.cv"
   ]
  },
  {
   "cell_type": "code",
   "execution_count": 29,
   "metadata": {},
   "outputs": [],
   "source": [
    "write.table(avg, file=\"out/total/CF.csv\")"
   ]
  },
  {
   "cell_type": "code",
   "execution_count": null,
   "metadata": {},
   "outputs": [],
   "source": []
  },
  {
   "cell_type": "code",
   "execution_count": null,
   "metadata": {},
   "outputs": [],
   "source": []
  }
 ],
 "metadata": {
  "kernelspec": {
   "display_name": "R",
   "language": "R",
   "name": "ir"
  },
  "language_info": {
   "codemirror_mode": "r",
   "file_extension": ".r",
   "mimetype": "text/x-r-source",
   "name": "R",
   "pygments_lexer": "r",
   "version": "3.5.1"
  }
 },
 "nbformat": 4,
 "nbformat_minor": 2
}
