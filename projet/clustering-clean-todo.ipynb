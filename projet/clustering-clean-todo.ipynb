{
 "cells": [
  {
   "cell_type": "code",
   "execution_count": 9,
   "metadata": {},
   "outputs": [],
   "source": [
    "u.user <- read.csv(file='u.user.csv', sep='|', header=T)\n",
    "u.item <- read.csv(file='u.item.csv', sep='|', header=T)\n",
    "u.data <- read.csv(file='u.data.csv', sep='|', header=T)\n",
    "library(Matrix)\n",
    "m.sparse <- sparseMatrix(u.data[,1],u.data[,2],x=u.data[,3])\n",
    "rownames(m.sparse) <- paste('u', 1:nrow(m.sparse), sep='')\n",
    "colnames(m.sparse) <- paste('i', 1:ncol(m.sparse), sep='')\n",
    "mae <- function(m1, m2) mean(abs(m1 - m2), na.rm=T)\n",
    "\n",
    "m <- as.matrix(m.sparse)                # transforme en matrice ordinaire\n",
    "m.na <- m\n",
    "m.na[m.na==0] <- NA\n",
    "\n",
    "# Cosinus normal des lignes d'une matrice\n",
    "matrix.cos <- function(m) {\n",
    "     (m %*% t(m)) / ( t(matrix(sqrt(rowSums(m^2)),nrow(m),nrow(m)))\n",
    "                    * (sqrt(rowSums(m^2))) )\n",
    "}\n",
    " "
   ]
  },
  {
   "cell_type": "code",
   "execution_count": 10,
   "metadata": {},
   "outputs": [],
   "source": [
    "m.cos <- matrix.cos(m)                  # calcul de la distance en cosinus\n",
    "diag(m.cos) <- 0                        # cosinus avec soi-même mis à 0\n",
    "m.dist <- as.dist(m.cos)                # nécessaire pour l'agglomération (clustering)\n",
    "res <- hclust(m.dist)                   # résultat de l'agglomération"
   ]
  },
  {
   "cell_type": "code",
   "execution_count": 11,
   "metadata": {},
   "outputs": [],
   "source": [
    "set.seed(0)\n",
    "dim.error <- c()\n",
    "i.observed <- which(m > 0)\n",
    "i.hasard <- sample(i.observed, length(i.observed))\n",
    "fold.size <- round(length(i.hasard) / 5)\n",
    "i.false <- rep(FALSE, length(m))\n",
    "cv.dim <- c()\n",
    "for (cut.dim in seq_len(20)){\n",
    "cv.erreur <- c()\n",
    "for (i in seq_len(5)){\n",
    "fold.number <- i\n",
    "\n",
    "## Index booléen pour les cellules de test et d'entraînement\n",
    "i.test.b <- i.false\n",
    "## Les cellules indexées du replis correspondant sont fixées à TRUE pour le test...\n",
    "i.test.b[ i.hasard[((fold.number-1) * fold.size):((fold.number) * fold.size)] ] <- TRUE\n",
    "## ...et à FALSE pour l'entraînement\n",
    "i.train.b <-  !i.test.b\n",
    "m.train <- m\n",
    "m.train[i.test.b] <- 0                # on enlève les données de test pour l'entraînement\n",
    "    \n",
    "\n",
    "m.train.na <- m.train\n",
    "m.train.na[m.train.na==0]<-0\n",
    "m.cos <- matrix.cos(m.train)                  # calcul de la distance en cosinus\n",
    "diag(m.cos) <- 0                        # cosinus avec soi-même mis à 0\n",
    "m.dist <- as.dist(m.cos)                # nécessaire pour l'agglomération (clustering)\n",
    "res <- hclust(m.dist)                   # résultat de l'agglomération\n",
    "res2 <- cutree(res, k=cut.dim)               # on fixe à cut.dim le nombre de groupes\n",
    "m.class <- data.frame(m.train,class=res2)     # création d'un data frame pour la fonction aggregate ci-dessous\n",
    "## Aggrégation du vote moyen par classe (groupe) \n",
    "res3 <- aggregate(. ~ class, m.class, function(i) { i[i==0] <- NA; if(all(is.na(i))) NA else mean(i, na.rm=T) } )\n",
    "\n",
    "## Création de la matrice de prédiction.  Les prédictions pour les utilisateurs sont fixées aux prédictions de la classe correspondante\n",
    "mhat.class <- as.matrix(res3[,-1])      # on retire la classe des prédictions\n",
    "## Création de la matrice de prédiction.  Les prédictions pour les utilisateurs sont fixées aux prédictions de la classe correspondante\n",
    "m.hat <- t(sapply(m.class$class, function(class) mhat.class[class,]))\n",
    "\n",
    "m.mean <- rep(rowMeans(m.hat,na.rm=T),1682)\n",
    "m.hat[is.na(m.hat)] <- m.mean[is.na(m.hat)]\n",
    "m.train[m.train==0] <- m.hat[m.train==0]\n",
    "cv.erreur <-c(cv.erreur,mae(m.train[i.test.b],m[i.test.b]))\n",
    "\n",
    "    }\n",
    "cv.dim <- c(cv.dim,mean(cv.erreur))\n",
    "}"
   ]
  },
  {
   "cell_type": "code",
   "execution_count": 12,
   "metadata": {},
   "outputs": [
    {
     "data": {
      "image/png": "[encoded data removed]",
      "text/plain": [
       "Plot with title \"MAE en fonction du nombres de cluster\""
      ]
     },
     "metadata": {},
     "output_type": "display_data"
    }
   ],
   "source": [
    "x <- 1:length(cv.dim)\n",
    "plot(x,cv.dim,pch=19, xlab=\"Nombre de clusters\", ylab=\"MAE\",\n",
    "    main=\"MAE en fonction du nombres de cluster\"\n",
    ")"
   ]
  },
  {
   "cell_type": "code",
   "execution_count": null,
   "metadata": {},
   "outputs": [],
   "source": [
    "m.cos <- matrix.cos(m)                  # calcul de la distance en cosinus\n",
    "diag(m.cos) <- 0                        # cosinus avec soi-même mis à 0\n",
    "m.dist <- as.dist(m.cos)                # nécessaire pour l'agglomération (clustering)\n",
    "res <- hclust(m.dist)                   # résultat de l'agglomération\n",
    "res2 <- cutree(res, k=5)               # on fixe à 10 le nombre de groupes\n",
    "m.class <- data.frame(m,class=res2)     # création d'un data frame pour la fonction aggregate ci-dessous\n",
    "## Aggrégation du vote moyen par classe (groupe) \n",
    "res3 <- aggregate(. ~ class, m.class, function(i) { i[i==0] <- NA; if(all(is.na(i))) NA else mean(i, na.rm=T) } )\n",
    "m.hat <- res3[m.class$class,-1]\n",
    "m.mean <- outer(rowMeans(m.na,na.rm=T),colMeans(m.na,na.rm=T),FUN=\"+\")/2\n",
    "m.hat[is.na(m.hat)] <- m.mean[is.na(m.hat)]"
   ]
  },
  {
   "cell_type": "code",
   "execution_count": 10,
   "metadata": {},
   "outputs": [],
   "source": [
    "new.m.cv <- function(dimRedu){\n",
    "# matrice diagonale pour réduire les matrices originales\n",
    "m.d2 <- diag(c(m.svd$d[1:dimRedu],rep(0,length(m.svd$d)-dimRedu)))\n",
    "# nouvelle matrice basée sur les deux premières dimensions uniquement\n",
    "m.svd2 <- round((m.svd$u %*% m.d2 %*% t(m.svd$v)),2)\n",
    "mae(m.svd2[i.test.b], m.na[i.test.b])\n",
    "    }\n",
    "to.plot <- c()\n",
    "cv.b <- c()"
   ]
  },
  {
   "cell_type": "code",
   "execution_count": 11,
   "metadata": {},
   "outputs": [
    {
     "data": {
      "text/html": [
       "100000"
      ],
      "text/latex": [
       "100000"
      ],
      "text/markdown": [
       "100000"
      ],
      "text/plain": [
       "[1] 100000"
      ]
     },
     "metadata": {},
     "output_type": "display_data"
    }
   ],
   "source": [
    "i.observed <- which(m > 0)\n",
    "i.hasard <- sample(i.observed, length(i.observed))\n",
    "length(i.hasard)\n",
    "fold.size <- round(length(i.hasard) / 5)\n",
    "i.false <- rep(FALSE, length(m))\n",
    "for (i in seq_len(5)){\n",
    "fold.number <- i\n",
    "\n",
    "## Index booléen pour les cellules de test et d'entraînement\n",
    "i.test.b <- i.false\n",
    "## Les cellules indexées du replis correspondant sont fixées à TRUE pour le test...\n",
    "i.test.b[ i.hasard[((fold.number-1) * fold.size):((fold.number) * fold.size)] ] <- TRUE\n",
    "## ...et à FALSE pour l'entraînement\n",
    "i.train.b <-  !i.test.b\n",
    "m.train <- m\n",
    "m.train[i.test.b] <- 0                # on enlève les données de test pour l'entraînement\n",
    "    \n",
    "\n",
    "m.train.na <- m.train\n",
    "m.train.na[m.train.na==0]<-0\n",
    "m.cos <- matrix.cos(m.train)                  # calcul de la distance en cosinus\n",
    "diag(m.cos) <- 0                        # cosinus avec soi-même mis à 0\n",
    "m.dist <- as.dist(m.cos)                # nécessaire pour l'agglomération (clustering)\n",
    "res <- hclust(m.dist)                   # résultat de l'agglomération\n",
    "res2 <- cutree(res, k=10)               # on fixe à 10 le nombre de groupes\n",
    "m.class <- data.frame(m.train,class=res2)     # création d'un data frame pour la fonction aggregate ci-dessous\n",
    "## Aggrégation du vote moyen par classe (groupe) \n",
    "res3 <- aggregate(. ~ class, m.class, function(i) { i[i==0] <- NA; if(all(is.na(i))) NA else mean(i, na.rm=T) } )\n",
    "\n",
    "## Création de la matrice de prédiction.  Les prédictions pour les utilisateurs sont fixées aux prédictions de la classe correspondante\n",
    "mhat.class <- as.matrix(res3[,-1])      # on retire la classe des prédictions\n",
    "## Création de la matrice de prédiction.  Les prédictions pour les utilisateurs sont fixées aux prédictions de la classe correspondante\n",
    "m.hat <- t(sapply(m.class$class, function(class) mhat.class[class,]))\n",
    "\n",
    "m.mean <- outer(rowMeans(m.train.na,na.rm=T),colMeans(m.train.na,na.rm=T),FUN=\"+\")/2\n",
    "m.hat[is.na(m.hat)] <- m.mean[is.na(m.hat)]\n",
    "m.train[m.train==0] <- m.hat[m.train==0]\n",
    "\n",
    "m.svd <- svd(m.train)\n",
    "to.plot<-rbind(to.plot,unlist(lapply(seq(22), new.m.cv)))\n",
    "    }"
   ]
  },
  {
   "cell_type": "code",
   "execution_count": null,
   "metadata": {},
   "outputs": [],
   "source": []
  },
  {
   "cell_type": "code",
   "execution_count": 12,
   "metadata": {},
   "outputs": [],
   "source": [
    "to.plot<-apply(to.plot,2,unlist)"
   ]
  },
  {
   "cell_type": "code",
   "execution_count": 13,
   "metadata": {},
   "outputs": [
    {
     "data": {
      "text/html": [
       "<ol class=list-inline>\n",
       "\t<li>0.00403824643384377</li>\n",
       "\t<li>0.00429592545870239</li>\n",
       "\t<li>0.00573723522492711</li>\n",
       "\t<li>0.00542056530094129</li>\n",
       "\t<li>0.00547584746525962</li>\n",
       "\t<li>0.00644883845168311</li>\n",
       "\t<li>0.00500337330900246</li>\n",
       "\t<li>0.00237800058991639</li>\n",
       "\t<li>0.00140282647053517</li>\n",
       "\t<li>0.00379180407982306</li>\n",
       "\t<li>0.0038600759783339</li>\n",
       "\t<li>0.00349952497310329</li>\n",
       "\t<li>0.00355422434491557</li>\n",
       "\t<li>0.00327407375932145</li>\n",
       "\t<li>0.00325490522437505</li>\n",
       "\t<li>0.00343874152609574</li>\n",
       "\t<li>0.0030914488899245</li>\n",
       "\t<li>0.00357895141091844</li>\n",
       "\t<li>0.00326650213522036</li>\n",
       "\t<li>0.00314254321415279</li>\n",
       "\t<li>0.00362493664720443</li>\n",
       "\t<li>0.00363597108872741</li>\n",
       "</ol>\n"
      ],
      "text/latex": [
       "\\begin{enumerate*}\n",
       "\\item 0.00403824643384377\n",
       "\\item 0.00429592545870239\n",
       "\\item 0.00573723522492711\n",
       "\\item 0.00542056530094129\n",
       "\\item 0.00547584746525962\n",
       "\\item 0.00644883845168311\n",
       "\\item 0.00500337330900246\n",
       "\\item 0.00237800058991639\n",
       "\\item 0.00140282647053517\n",
       "\\item 0.00379180407982306\n",
       "\\item 0.0038600759783339\n",
       "\\item 0.00349952497310329\n",
       "\\item 0.00355422434491557\n",
       "\\item 0.00327407375932145\n",
       "\\item 0.00325490522437505\n",
       "\\item 0.00343874152609574\n",
       "\\item 0.0030914488899245\n",
       "\\item 0.00357895141091844\n",
       "\\item 0.00326650213522036\n",
       "\\item 0.00314254321415279\n",
       "\\item 0.00362493664720443\n",
       "\\item 0.00363597108872741\n",
       "\\end{enumerate*}\n"
      ],
      "text/markdown": [
       "1. 0.00403824643384377\n",
       "2. 0.00429592545870239\n",
       "3. 0.00573723522492711\n",
       "4. 0.00542056530094129\n",
       "5. 0.00547584746525962\n",
       "6. 0.00644883845168311\n",
       "7. 0.00500337330900246\n",
       "8. 0.00237800058991639\n",
       "9. 0.00140282647053517\n",
       "10. 0.00379180407982306\n",
       "11. 0.0038600759783339\n",
       "12. 0.00349952497310329\n",
       "13. 0.00355422434491557\n",
       "14. 0.00327407375932145\n",
       "15. 0.00325490522437505\n",
       "16. 0.00343874152609574\n",
       "17. 0.0030914488899245\n",
       "18. 0.00357895141091844\n",
       "19. 0.00326650213522036\n",
       "20. 0.00314254321415279\n",
       "21. 0.00362493664720443\n",
       "22. 0.00363597108872741\n",
       "\n",
       "\n"
      ],
      "text/plain": [
       " [1] 0.004038246 0.004295925 0.005737235 0.005420565 0.005475847 0.006448838\n",
       " [7] 0.005003373 0.002378001 0.001402826 0.003791804 0.003860076 0.003499525\n",
       "[13] 0.003554224 0.003274074 0.003254905 0.003438742 0.003091449 0.003578951\n",
       "[19] 0.003266502 0.003142543 0.003624937 0.003635971"
      ]
     },
     "metadata": {},
     "output_type": "display_data"
    }
   ],
   "source": [
    "sdev <- apply(to.plot,2,sd) \n",
    "sdev\n",
    "avg <- colMeans(to.plot)\n",
    "x <- 1:length(avg)"
   ]
  },
  {
   "cell_type": "code",
   "execution_count": 14,
   "metadata": {},
   "outputs": [
    {
     "data": {
      "image/png": "[encoded data removed]",
      "text/plain": [
       "Plot with title \"Scatter plot with std.dev error bars\""
      ]
     },
     "metadata": {},
     "output_type": "display_data"
    }
   ],
   "source": [
    "plot(x,colMeans(to.plot),ylim=range(c(avg-sdev, avg+sdev)),pch=19, xlab=\"Measurements\", ylab=\"Mean +/- SD\",\n",
    "    main=\"Scatter plot with std.dev error bars\"\n",
    ")\n",
    "# hack: we draw arrows but with very special \"arrowheads\"\n",
    "arrows(x, avg-sdev, x, avg+sdev, length=0.05, angle=90, code=3)"
   ]
  },
  {
   "cell_type": "code",
   "execution_count": null,
   "metadata": {},
   "outputs": [],
   "source": []
  },
  {
   "cell_type": "code",
   "execution_count": null,
   "metadata": {},
   "outputs": [],
   "source": [
    "dim(mhat)\n",
    "newm <- as.matrix(m.sparse)\n",
    "mhat[is.na(mhat)]<-0\n",
    "newm[newm==0]<-mhat[newm==0]\n",
    "sum(newm>0)\n",
    "sum(newm==0)"
   ]
  }
 ],
 "metadata": {
  "kernelspec": {
   "display_name": "R",
   "language": "R",
   "name": "ir"
  },
  "language_info": {
   "codemirror_mode": "r",
   "file_extension": ".r",
   "mimetype": "text/x-r-source",
   "name": "R",
   "pygments_lexer": "r",
   "version": "3.5.1"
  }
 },
 "nbformat": 4,
 "nbformat_minor": 2
}
