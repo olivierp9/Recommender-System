{
 "cells": [
  {
   "cell_type": "code",
   "execution_count": 13,
   "metadata": {},
   "outputs": [],
   "source": [
    "u.user <- read.csv(file='u.user.csv', sep='|', header=T)\n",
    "u.item <- read.csv(file='u.item.csv', sep='|', header=T)\n",
    "u.data <- read.csv(file='u.data.csv', sep='|', header=T)\n",
    "library(Matrix)\n",
    "m.sparse <- sparseMatrix(u.data[,1],u.data[,2],x=u.data[,3])\n",
    "rownames(m.sparse) <- paste('u', 1:nrow(m.sparse), sep='')\n",
    "colnames(m.sparse) <- paste('i', 1:ncol(m.sparse), sep='')\n",
    "mae <- function(m1, m2) mean(abs(m1 - m2), na.rm=T)\n",
    "\n",
    "m <- as.matrix(m.sparse)                # transforme en matrice ordinaire\n",
    "m.na <- m\n",
    "m.na[m.na==0] <- NA\n",
    "\n",
    "# Cosinus normal des lignes d'une matrice\n",
    "matrix.cos <- function(m) {\n",
    "     (m %*% t(m)) / ( t(matrix(sqrt(rowSums(m^2)),nrow(m),nrow(m)))\n",
    "                    * (sqrt(rowSums(m^2))) )\n",
    "}\n",
    " "
   ]
  },
  {
   "cell_type": "code",
   "execution_count": 14,
   "metadata": {},
   "outputs": [],
   "source": [
    "m.cos <- matrix.cos(m)                  # calcul de la distance en cosinus\n",
    "diag(m.cos) <- 0                        # cosinus avec soi-même mis à 0\n",
    "m.dist <- as.dist(m.cos)                # nécessaire pour l'agglomération (clustering)\n",
    "res <- hclust(m.dist)                   # résultat de l'agglomération"
   ]
  },
  {
   "cell_type": "code",
   "execution_count": 18,
   "metadata": {},
   "outputs": [],
   "source": [
    "set.seed(1)\n",
    "dim.error <- c()\n",
    "i.observed <- which(m > 0)\n",
    "i.hasard <- sample(i.observed, length(i.observed))\n",
    "fold.size <- round(length(i.hasard) / 5)\n",
    "i.false <- rep(FALSE, length(m))\n",
    "cv.dim <- c()\n",
    "for (cut.dim in seq(1,900,10)){\n",
    "cv.erreur <- c()\n",
    "for (i in seq_len(5)){\n",
    "fold.number <- i\n",
    "\n",
    "## Index booléen pour les cellules de test et d'entraînement\n",
    "i.test.b <- i.false\n",
    "## Les cellules indexées du replis correspondant sont fixées à TRUE pour le test...\n",
    "i.test.b[ i.hasard[((fold.number-1) * fold.size):((fold.number) * fold.size)] ] <- TRUE\n",
    "## ...et à FALSE pour l'entraînement\n",
    "i.train.b <-  !i.test.b\n",
    "m.train <- m\n",
    "m.train[i.test.b] <- 0                # on enlève les données de test pour l'entraînement\n",
    "    \n",
    "\n",
    "m.train.na <- m.train\n",
    "m.train.na[m.train.na==0]<-0\n",
    "m.cos <- matrix.cos(m.train)                  # calcul de la distance en cosinus\n",
    "diag(m.cos) <- 0                        # cosinus avec soi-même mis à 0\n",
    "m.dist <- as.dist(m.cos)                # nécessaire pour l'agglomération (clustering)\n",
    "res <- hclust(m.dist)                   # résultat de l'agglomération\n",
    "res2 <- cutree(res, k=cut.dim)               # on fixe à cut.dim le nombre de groupes\n",
    "m.class <- data.frame(m.train,class=res2)     # création d'un data frame pour la fonction aggregate ci-dessous\n",
    "## Aggrégation du vote moyen par classe (groupe) \n",
    "res3 <- aggregate(. ~ class, m.class, function(i) { i[i==0] <- NA; if(all(is.na(i))) NA else mean(i, na.rm=T) } )\n",
    "\n",
    "## Création de la matrice de prédiction.  Les prédictions pour les utilisateurs sont fixées aux prédictions de la classe correspondante\n",
    "mhat.class <- as.matrix(res3[,-1])      # on retire la classe des prédictions\n",
    "## Création de la matrice de prédiction.  Les prédictions pour les utilisateurs sont fixées aux prédictions de la classe correspondante\n",
    "m.hat <- t(sapply(m.class$class, function(class) mhat.class[class,]))\n",
    "u.mean <- matrix(rowMeans(m.hat, na.rm=T), nrow(m), ncol(m))\n",
    "item.mean <- matrix(colMeans(m.hat, na.rm=T), nrow(m), ncol(m), byrow=T)\n",
    "m.expect <- ((u.mean + item.mean)/2)\n",
    "m.hat[is.na(m.hat)] <- m.expect[is.na(m.hat)]\n",
    "\n",
    "m.mean <- rep(rowMeans(m.hat,na.rm=T),1682)\n",
    "m.hat[is.na(m.hat)] <- m.mean[is.na(m.hat)]\n",
    "m.train[m.train==0] <- m.hat[m.train==0]\n",
    "cv.erreur <-c(cv.erreur,mae(m.train[i.test.b],m[i.test.b]))\n",
    "\n",
    "    }\n",
    "cv.dim <- c(cv.dim,mean(cv.erreur))\n",
    "}"
   ]
  },
  {
   "cell_type": "code",
   "execution_count": 20,
   "metadata": {},
   "outputs": [
    {
     "data": {
      "image/png": "[encoded data removed]",
      "text/plain": [
       "Plot with title \"MAE en fonction du nombres de cluster\""
      ]
     },
     "metadata": {},
     "output_type": "display_data"
    }
   ],
   "source": [
    "x <- seq(1,900,10)\n",
    "plot(x,cv.dim,pch=19, xlab=\"Nombre de clusters\", ylab=\"MAE\",\n",
    "    main=\"MAE en fonction du nombres de cluster\"\n",
    ")"
   ]
  },
  {
   "cell_type": "code",
   "execution_count": 3,
   "metadata": {},
   "outputs": [],
   "source": [
    "m.cos <- matrix.cos(m)                  # calcul de la distance en cosinus\n",
    "diag(m.cos) <- 0                        # cosinus avec soi-même mis à 0\n",
    "m.dist <- as.dist(m.cos)                # nécessaire pour l'agglomération (clustering)\n",
    "res <- hclust(m.dist)                   # résultat de l'agglomération\n",
    "res2 <- cutree(res, k=5)               # on fixe à 10 le nombre de groupes\n",
    "m.class <- data.frame(m,class=res2)     # création d'un data frame pour la fonction aggregate ci-dessous\n",
    "## Aggrégation du vote moyen par classe (groupe) \n",
    "res3 <- aggregate(. ~ class, m.class, function(i) { i[i==0] <- NA; if(all(is.na(i))) NA else mean(i, na.rm=T) } )\n",
    "m.hat <- res3[m.class$class,-1]\n",
    "m.mean <- outer(rowMeans(m.na,na.rm=T),colMeans(m.na,na.rm=T),FUN=\"+\")/2\n",
    "m.hat[is.na(m.hat)] <- m.mean[is.na(m.hat)]"
   ]
  },
  {
   "cell_type": "code",
   "execution_count": 4,
   "metadata": {},
   "outputs": [],
   "source": [
    "new.m.cv <- function(dimRedu){\n",
    "# matrice diagonale pour réduire les matrices originales\n",
    "m.d2 <- diag(c(m.svd$d[1:dimRedu],rep(0,length(m.svd$d)-dimRedu)))\n",
    "# nouvelle matrice basée sur les deux premières dimensions uniquement\n",
    "m.svd2 <- round((m.svd$u %*% m.d2 %*% t(m.svd$v)),2)\n",
    "mae(m.svd2[i.test.b], m.na[i.test.b])\n",
    "    }\n",
    "to.plot <- c()\n",
    "cv.b <- c()"
   ]
  },
  {
   "cell_type": "code",
   "execution_count": 5,
   "metadata": {},
   "outputs": [
    {
     "data": {
      "text/html": [
       "100000"
      ],
      "text/latex": [
       "100000"
      ],
      "text/markdown": [
       "100000"
      ],
      "text/plain": [
       "[1] 100000"
      ]
     },
     "metadata": {},
     "output_type": "display_data"
    }
   ],
   "source": [
    "i.observed <- which(m > 0)\n",
    "i.hasard <- sample(i.observed, length(i.observed))\n",
    "length(i.hasard)\n",
    "fold.size <- round(length(i.hasard) / 5)\n",
    "i.false <- rep(FALSE, length(m))\n",
    "for (i in seq_len(5)){\n",
    "fold.number <- i\n",
    "\n",
    "## Index booléen pour les cellules de test et d'entraînement\n",
    "i.test.b <- i.false\n",
    "## Les cellules indexées du replis correspondant sont fixées à TRUE pour le test...\n",
    "i.test.b[ i.hasard[((fold.number-1) * fold.size):((fold.number) * fold.size)] ] <- TRUE\n",
    "## ...et à FALSE pour l'entraînement\n",
    "i.train.b <-  !i.test.b\n",
    "m.train <- m\n",
    "m.train[i.test.b] <- 0                # on enlève les données de test pour l'entraînement\n",
    "    \n",
    "\n",
    "m.train.na <- m.train\n",
    "m.train.na[m.train.na==0]<-0\n",
    "m.cos <- matrix.cos(m.train)                  # calcul de la distance en cosinus\n",
    "diag(m.cos) <- 0                        # cosinus avec soi-même mis à 0\n",
    "m.dist <- as.dist(m.cos)                # nécessaire pour l'agglomération (clustering)\n",
    "res <- hclust(m.dist)                   # résultat de l'agglomération\n",
    "res2 <- cutree(res, k=5)               # on fixe à 10 le nombre de groupes\n",
    "m.class <- data.frame(m.train,class=res2)     # création d'un data frame pour la fonction aggregate ci-dessous\n",
    "## Aggrégation du vote moyen par classe (groupe) \n",
    "res3 <- aggregate(. ~ class, m.class, function(i) { i[i==0] <- NA; if(all(is.na(i))) NA else mean(i, na.rm=T) } )\n",
    "\n",
    "## Création de la matrice de prédiction.  Les prédictions pour les utilisateurs sont fixées aux prédictions de la classe correspondante\n",
    "mhat.class <- as.matrix(res3[,-1])      # on retire la classe des prédictions\n",
    "## Création de la matrice de prédiction.  Les prédictions pour les utilisateurs sont fixées aux prédictions de la classe correspondante\n",
    "m.hat <- t(sapply(m.class$class, function(class) mhat.class[class,]))\n",
    "\n",
    "m.mean <- outer(rowMeans(m.train.na,na.rm=T),colMeans(m.train.na,na.rm=T),FUN=\"+\")/2\n",
    "m.hat[is.na(m.hat)] <- m.mean[is.na(m.hat)]\n",
    "m.train[m.train==0] <- m.hat[m.train==0]\n",
    "\n",
    "m.svd <- svd(m.train)\n",
    "to.plot<-rbind(to.plot,unlist(lapply(seq(22), new.m.cv)))\n",
    "    }"
   ]
  },
  {
   "cell_type": "code",
   "execution_count": null,
   "metadata": {},
   "outputs": [],
   "source": []
  },
  {
   "cell_type": "code",
   "execution_count": 6,
   "metadata": {},
   "outputs": [],
   "source": [
    "to.plot<-apply(to.plot,2,unlist)"
   ]
  },
  {
   "cell_type": "code",
   "execution_count": 7,
   "metadata": {},
   "outputs": [
    {
     "data": {
      "text/html": [
       "<ol class=list-inline>\n",
       "\t<li>0.00548864389405704</li>\n",
       "\t<li>0.00318469980645405</li>\n",
       "\t<li>0.00387468571124785</li>\n",
       "\t<li>0.0035952250323551</li>\n",
       "\t<li>0.0042306782569774</li>\n",
       "\t<li>0.00423019164017346</li>\n",
       "\t<li>0.00403888411424136</li>\n",
       "\t<li>0.00424719124555991</li>\n",
       "\t<li>0.00429483008390961</li>\n",
       "\t<li>0.00438007009936539</li>\n",
       "\t<li>0.00435842120898046</li>\n",
       "\t<li>0.00470287565515285</li>\n",
       "\t<li>0.00454183067947237</li>\n",
       "\t<li>0.00485523096865575</li>\n",
       "\t<li>0.00505384347938713</li>\n",
       "\t<li>0.00463946486646391</li>\n",
       "\t<li>0.00456709073574235</li>\n",
       "\t<li>0.00437435516720721</li>\n",
       "\t<li>0.00451417953020651</li>\n",
       "\t<li>0.00446424961817018</li>\n",
       "\t<li>0.00473163209867482</li>\n",
       "\t<li>0.00434108803002162</li>\n",
       "</ol>\n"
      ],
      "text/latex": [
       "\\begin{enumerate*}\n",
       "\\item 0.00548864389405704\n",
       "\\item 0.00318469980645405\n",
       "\\item 0.00387468571124785\n",
       "\\item 0.0035952250323551\n",
       "\\item 0.0042306782569774\n",
       "\\item 0.00423019164017346\n",
       "\\item 0.00403888411424136\n",
       "\\item 0.00424719124555991\n",
       "\\item 0.00429483008390961\n",
       "\\item 0.00438007009936539\n",
       "\\item 0.00435842120898046\n",
       "\\item 0.00470287565515285\n",
       "\\item 0.00454183067947237\n",
       "\\item 0.00485523096865575\n",
       "\\item 0.00505384347938713\n",
       "\\item 0.00463946486646391\n",
       "\\item 0.00456709073574235\n",
       "\\item 0.00437435516720721\n",
       "\\item 0.00451417953020651\n",
       "\\item 0.00446424961817018\n",
       "\\item 0.00473163209867482\n",
       "\\item 0.00434108803002162\n",
       "\\end{enumerate*}\n"
      ],
      "text/markdown": [
       "1. 0.00548864389405704\n",
       "2. 0.00318469980645405\n",
       "3. 0.00387468571124785\n",
       "4. 0.0035952250323551\n",
       "5. 0.0042306782569774\n",
       "6. 0.00423019164017346\n",
       "7. 0.00403888411424136\n",
       "8. 0.00424719124555991\n",
       "9. 0.00429483008390961\n",
       "10. 0.00438007009936539\n",
       "11. 0.00435842120898046\n",
       "12. 0.00470287565515285\n",
       "13. 0.00454183067947237\n",
       "14. 0.00485523096865575\n",
       "15. 0.00505384347938713\n",
       "16. 0.00463946486646391\n",
       "17. 0.00456709073574235\n",
       "18. 0.00437435516720721\n",
       "19. 0.00451417953020651\n",
       "20. 0.00446424961817018\n",
       "21. 0.00473163209867482\n",
       "22. 0.00434108803002162\n",
       "\n",
       "\n"
      ],
      "text/plain": [
       " [1] 0.005488644 0.003184700 0.003874686 0.003595225 0.004230678 0.004230192\n",
       " [7] 0.004038884 0.004247191 0.004294830 0.004380070 0.004358421 0.004702876\n",
       "[13] 0.004541831 0.004855231 0.005053843 0.004639465 0.004567091 0.004374355\n",
       "[19] 0.004514180 0.004464250 0.004731632 0.004341088"
      ]
     },
     "metadata": {},
     "output_type": "display_data"
    }
   ],
   "source": [
    "sdev <- apply(to.plot,2,sd) \n",
    "sdev\n",
    "avg <- colMeans(to.plot)\n",
    "x <- 1:length(avg)"
   ]
  },
  {
   "cell_type": "code",
   "execution_count": 8,
   "metadata": {},
   "outputs": [
    {
     "data": {
      "image/png": "[encoded data removed]",
      "text/plain": [
       "Plot with title \"Scatter plot with std.dev error bars\""
      ]
     },
     "metadata": {},
     "output_type": "display_data"
    }
   ],
   "source": [
    "plot(x,colMeans(to.plot),ylim=range(c(avg-sdev, avg+sdev)),pch=19, xlab=\"Measurements\", ylab=\"Mean +/- SD\",\n",
    "    main=\"Scatter plot with std.dev error bars\"\n",
    ")\n",
    "# hack: we draw arrows but with very special \"arrowheads\"\n",
    "arrows(x, avg-sdev, x, avg+sdev, length=0.05, angle=90, code=3)"
   ]
  },
  {
   "cell_type": "code",
   "execution_count": null,
   "metadata": {},
   "outputs": [],
   "source": []
  },
  {
   "cell_type": "code",
   "execution_count": null,
   "metadata": {},
   "outputs": [],
   "source": []
  }
 ],
 "metadata": {
  "kernelspec": {
   "display_name": "R",
   "language": "R",
   "name": "ir"
  },
  "language_info": {
   "codemirror_mode": "r",
   "file_extension": ".r",
   "mimetype": "text/x-r-source",
   "name": "R",
   "pygments_lexer": "r",
   "version": "3.5.1"
  }
 },
 "nbformat": 4,
 "nbformat_minor": 2
}
