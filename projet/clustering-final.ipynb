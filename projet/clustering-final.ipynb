{
 "cells": [
  {
   "cell_type": "code",
   "execution_count": 2,
   "metadata": {},
   "outputs": [],
   "source": [
    "### Lectures des donnees et fonctions\n",
    "u.user <- read.csv(file='u.user.csv', sep='|', header=T)\n",
    "u.item <- read.csv(file='u.item.csv', sep='|', header=T)\n",
    "u.data <- read.csv(file='u.data.csv', sep='|', header=T)\n",
    "library(Matrix)\n",
    "m.sparse <- sparseMatrix(u.data[,1],u.data[,2],x=u.data[,3])\n",
    "rownames(m.sparse) <- paste('u', 1:nrow(m.sparse), sep='')\n",
    "colnames(m.sparse) <- paste('i', 1:ncol(m.sparse), sep='')\n",
    "mae <- function(m1, m2) mean(abs(m1 - m2), na.rm=T)\n",
    "\n",
    "m <- as.matrix(m.sparse)                # transforme en matrice ordinaire\n",
    "m.na <- m\n",
    "m.na[m.na==0] <- NA\n",
    "\n",
    "# Cosinus normal des lignes d'une matrice\n",
    "matrix.cos <- function(m) {\n",
    "     (m %*% t(m)) / ( t(matrix(sqrt(rowSums(m^2)),nrow(m),nrow(m)))\n",
    "                    * (sqrt(rowSums(m^2))) )\n",
    "}"
   ]
  },
  {
   "cell_type": "code",
   "execution_count": 3,
   "metadata": {},
   "outputs": [],
   "source": [
    "m.cos <- matrix.cos(m)                  # calcul de la distance en cosinus\n",
    "diag(m.cos) <- 0                        # cosinus avec soi-même mis à 0\n",
    "m.dist <- as.dist(m.cos)                # nécessaire pour l'agglomération (clustering)\n",
    "res <- hclust(m.dist)                   # résultat de l'agglomération"
   ]
  },
  {
   "cell_type": "code",
   "execution_count": 25,
   "metadata": {},
   "outputs": [],
   "source": [
    "set.seed(1)\n",
    "dim.error <- c()\n",
    "i.observed <- which(m > 0)\n",
    "i.hasard <- sample(i.observed, length(i.observed))\n",
    "fold.size <- round(length(i.hasard) / 5)\n",
    "i.false <- rep(FALSE, length(m))\n",
    "cv.dim <- c()\n",
    "for (cut.dim in seq(1,900,10)){\n",
    "cv.erreur <- c()\n",
    "for (i in seq_len(5)){\n",
    "fold.number <- i\n",
    "\n",
    "## Index booléen pour les cellules de test et d'entraînement\n",
    "i.test.b <- i.false\n",
    "## Les cellules indexées du replis correspondant sont fixées à TRUE pour le test...\n",
    "i.test.b[ i.hasard[((fold.number-1) * fold.size):((fold.number) * fold.size)] ] <- TRUE\n",
    "## ...et à FALSE pour l'entraînement\n",
    "i.train.b <-  !i.test.b\n",
    "m.train <- m\n",
    "m.train[i.test.b] <- 0                # on enlève les données de test pour l'entraînement\n",
    "    \n",
    "\n",
    "m.train.na <- m.train\n",
    "m.train.na[m.train.na==0]<-0\n",
    "m.cos <- matrix.cos(m.train)                  # calcul de la distance en cosinus\n",
    "diag(m.cos) <- 0                        # cosinus avec soi-même mis à 0\n",
    "m.dist <- as.dist(m.cos)                # nécessaire pour l'agglomération (clustering)\n",
    "res <- hclust(m.dist)                   # résultat de l'agglomération\n",
    "res2 <- cutree(res, k=cut.dim)               # on fixe à cut.dim le nombre de groupes\n",
    "m.class <- data.frame(m.train,class=res2)     # création d'un data frame pour la fonction aggregate ci-dessous\n",
    "## Aggrégation du vote moyen par classe (groupe) \n",
    "res3 <- aggregate(. ~ class, m.class, function(i) { i[i==0] <- NA; if(all(is.na(i))) NA else mean(i, na.rm=T) } )\n",
    "\n",
    "## Création de la matrice de prédiction.  Les prédictions pour les utilisateurs sont fixées aux prédictions de la classe correspondante\n",
    "mhat.class <- as.matrix(res3[,-1])      # on retire la classe des prédictions\n",
    "## Création de la matrice de prédiction.  Les prédictions pour les utilisateurs sont fixées aux prédictions de la classe correspondante\n",
    "m.hat <- t(sapply(m.class$class, function(class) mhat.class[class,]))\n",
    "\n",
    "# on remplie les valeurs maquantes\n",
    "u.mean <- matrix(rowMeans(m.hat, na.rm=T), nrow(m), ncol(m))\n",
    "item.mean <- matrix(colMeans(m.hat, na.rm=T), nrow(m), ncol(m), byrow=T)\n",
    "m.expect <- ((u.mean + item.mean)/2)\n",
    "m.hat[is.na(m.hat)] <- m.expect[is.na(m.hat)]\n",
    "\n",
    "# on remplie les valeurs maquantes\n",
    "m.mean <- rep(rowMeans(m.hat,na.rm=T),1682)\n",
    "m.hat[is.na(m.hat)] <- m.mean[is.na(m.hat)]\n",
    "m.train[m.train==0] <- m.hat[m.train==0]\n",
    "\n",
    "cv.erreur <-c(cv.erreur,mae(m.train[i.test.b],m[i.test.b]))\n",
    "    }\n",
    "cv.dim <- c(cv.dim,mean(cv.erreur))\n",
    "}"
   ]
  },
  {
   "cell_type": "code",
   "execution_count": 26,
   "metadata": {},
   "outputs": [
    {
     "data": {
      "image/png": "[encoded data removed]",
      "text/plain": [
       "Plot with title \"MAE en fonction du nombres de clusters\""
      ]
     },
     "metadata": {},
     "output_type": "display_data"
    }
   ],
   "source": [
    "x <- seq(1,900,10)\n",
    "plot(x,cv.dim,pch=19, xlab=\"Nombre de clusters\", ylab=\"MAE\",\n",
    "    main=\"MAE en fonction du nombres de clusters\"\n",
    ")"
   ]
  },
  {
   "cell_type": "code",
   "execution_count": 4,
   "metadata": {},
   "outputs": [],
   "source": [
    "m.cos <- matrix.cos(m)                  # calcul de la distance en cosinus\n",
    "diag(m.cos) <- 0                        # cosinus avec soi-même mis à 0\n",
    "m.dist <- as.dist(m.cos)                # nécessaire pour l'agglomération (clustering)\n",
    "res <- hclust(m.dist)                   # résultat de l'agglomération\n",
    "res2 <- cutree(res, k=5)               # on fixe à 10 le nombre de groupes\n",
    "m.class <- data.frame(m,class=res2)     # création d'un data frame pour la fonction aggregate ci-dessous\n",
    "## Aggrégation du vote moyen par classe (groupe) \n",
    "res3 <- aggregate(. ~ class, m.class, function(i) { i[i==0] <- NA; if(all(is.na(i))) NA else mean(i, na.rm=T) } )\n",
    "m.hat <- res3[m.class$class,-1]\n",
    "m.mean <- outer(rowMeans(m.na,na.rm=T),colMeans(m.na,na.rm=T),FUN=\"+\")/2\n",
    "m.hat[is.na(m.hat)] <- m.mean[is.na(m.hat)]"
   ]
  },
  {
   "cell_type": "code",
   "execution_count": 5,
   "metadata": {},
   "outputs": [],
   "source": [
    "new.m.cv <- function(dimRedu){\n",
    "# matrice diagonale pour réduire les matrices originales\n",
    "m.d2 <- diag(c(m.svd$d[1:dimRedu],rep(0,length(m.svd$d)-dimRedu)))\n",
    "# nouvelle matrice basée sur les deux premières dimensions uniquement\n",
    "m.svd2 <- round((m.svd$u %*% m.d2 %*% t(m.svd$v)),2)\n",
    "mae(m.svd2[i.test.b], m.na[i.test.b])\n",
    "    }\n",
    "to.plot <- c()\n",
    "cv.b <- c()"
   ]
  },
  {
   "cell_type": "code",
   "execution_count": 6,
   "metadata": {},
   "outputs": [
    {
     "data": {
      "text/plain": [
       "   user  system elapsed \n",
       " 26.948   0.338  27.366 "
      ]
     },
     "metadata": {},
     "output_type": "display_data"
    }
   ],
   "source": [
    "i.observed <- which(m > 0)\n",
    "i.hasard <- sample(i.observed, length(i.observed))\n",
    "fold.size <- round(length(i.hasard) / 5)\n",
    "i.false <- rep(FALSE, length(m))\n",
    "ptm <- proc.time()\n",
    "for (i in seq_len(5)){\n",
    "fold.number <- i\n",
    "\n",
    "## Index booléen pour les cellules de test et d'entraînement\n",
    "i.test.b <- i.false\n",
    "## Les cellules indexées du replis correspondant sont fixées à TRUE pour le test...\n",
    "i.test.b[ i.hasard[((fold.number-1) * fold.size):((fold.number) * fold.size)] ] <- TRUE\n",
    "## ...et à FALSE pour l'entraînement\n",
    "i.train.b <-  !i.test.b\n",
    "m.train <- m\n",
    "m.train[i.test.b] <- 0                # on enlève les données de test pour l'entraînement\n",
    "    \n",
    "\n",
    "m.train.na <- m.train\n",
    "m.train.na[m.train.na==0]<-0\n",
    "m.cos <- matrix.cos(m.train)                  # calcul de la distance en cosinus\n",
    "diag(m.cos) <- 0                        # cosinus avec soi-même mis à 0\n",
    "m.dist <- as.dist(m.cos)                # nécessaire pour l'agglomération (clustering)\n",
    "res <- hclust(m.dist)                   # résultat de l'agglomération\n",
    "res2 <- cutree(res, k=5)               # on fixe à 10 le nombre de groupes\n",
    "m.class <- data.frame(m.train,class=res2)     # création d'un data frame pour la fonction aggregate ci-dessous\n",
    "## Aggrégation du vote moyen par classe (groupe) \n",
    "res3 <- aggregate(. ~ class, m.class, function(i) { i[i==0] <- NA; if(all(is.na(i))) NA else mean(i, na.rm=T) } )\n",
    "\n",
    "## Création de la matrice de prédiction.  Les prédictions pour les utilisateurs sont fixées aux prédictions de la classe correspondante\n",
    "mhat.class <- as.matrix(res3[,-1])      # on retire la classe des prédictions\n",
    "## Création de la matrice de prédiction.  Les prédictions pour les utilisateurs sont fixées aux prédictions de la classe correspondante\n",
    "m.hat <- t(sapply(m.class$class, function(class) mhat.class[class,]))\n",
    "\n",
    "# on remplie les valeurs maquantes\n",
    "m.mean <- outer(rowMeans(m.train.na,na.rm=T),colMeans(m.train.na,na.rm=T),FUN=\"+\")/2\n",
    "m.hat[is.na(m.hat)] <- m.mean[is.na(m.hat)]\n",
    "m.train[m.train==0] <- m.hat[m.train==0]\n",
    "\n",
    "# on remplie les valeurs maquantes\n",
    "m.mean <- rep(rowMeans(m.hat,na.rm=T),1682)\n",
    "m.hat[is.na(m.hat)] <- m.mean[is.na(m.hat)]\n",
    "m.train[m.train==0] <- m.hat[m.train==0]\n",
    "\n",
    "m.svd <- svd(m.train)\n",
    "to.plot<-rbind(to.plot,unlist(lapply(seq(22), new.m.cv)))\n",
    "cv.b<-c(cv.b,mae(m.train[i.test.b], m.na[i.test.b]))\n",
    "    }\n",
    "(proc.time()-ptm)/5\n"
   ]
  },
  {
   "cell_type": "code",
   "execution_count": null,
   "metadata": {},
   "outputs": [],
   "source": []
  },
  {
   "cell_type": "code",
   "execution_count": 7,
   "metadata": {},
   "outputs": [],
   "source": [
    "to.plot<-apply(to.plot,2,unlist)"
   ]
  },
  {
   "cell_type": "code",
   "execution_count": 8,
   "metadata": {},
   "outputs": [],
   "source": [
    "sdev <- apply(to.plot,2,sd) \n",
    "avg <- colMeans(to.plot)\n",
    "x <- 1:length(avg)"
   ]
  },
  {
   "cell_type": "code",
   "execution_count": 9,
   "metadata": {},
   "outputs": [
    {
     "data": {
      "image/png": "[encoded data removed]",
      "text/plain": [
       "Plot with title \"Clustering\""
      ]
     },
     "metadata": {},
     "output_type": "display_data"
    }
   ],
   "source": [
    "plot(x,colMeans(to.plot),ylim=range(c(avg-sdev, avg+sdev)),pch=19, xlab=\"Dimensions\", ylab=\"MAE +/- SD\",\n",
    "    main=\"Clustering\"\n",
    ")\n",
    "# hack: we draw arrows but with very special \"arrowheads\"\n",
    "arrows(x, avg-sdev, x, avg+sdev, length=0.05, angle=90, code=3)"
   ]
  },
  {
   "cell_type": "markdown",
   "metadata": {},
   "source": [
    "Moyenne du MAE par dimension pour les 5fold"
   ]
  },
  {
   "cell_type": "code",
   "execution_count": 10,
   "metadata": {},
   "outputs": [
    {
     "data": {
      "text/html": [
       "<ol class=list-inline>\n",
       "\t<li>0.822085819434028</li>\n",
       "\t<li>0.824058415439228</li>\n",
       "\t<li>0.83128054820759</li>\n",
       "\t<li>0.838081071066447</li>\n",
       "\t<li>0.845033785745713</li>\n",
       "\t<li>0.833321462811859</li>\n",
       "\t<li>0.832107117939103</li>\n",
       "\t<li>0.827744078611069</li>\n",
       "\t<li>0.825630973846308</li>\n",
       "\t<li>0.822814686460677</li>\n",
       "\t<li>0.821405641942903</li>\n",
       "\t<li>0.820575069281536</li>\n",
       "\t<li>0.819553414869257</li>\n",
       "\t<li>0.819024334783261</li>\n",
       "\t<li>0.819054539173041</li>\n",
       "\t<li>0.818764748667567</li>\n",
       "\t<li>0.818310258722064</li>\n",
       "\t<li>0.818839834473276</li>\n",
       "\t<li>0.819078122853857</li>\n",
       "\t<li>0.819306516534173</li>\n",
       "\t<li>0.81933952020399</li>\n",
       "\t<li>0.819553310074496</li>\n",
       "</ol>\n"
      ],
      "text/latex": [
       "\\begin{enumerate*}\n",
       "\\item 0.822085819434028\n",
       "\\item 0.824058415439228\n",
       "\\item 0.83128054820759\n",
       "\\item 0.838081071066447\n",
       "\\item 0.845033785745713\n",
       "\\item 0.833321462811859\n",
       "\\item 0.832107117939103\n",
       "\\item 0.827744078611069\n",
       "\\item 0.825630973846308\n",
       "\\item 0.822814686460677\n",
       "\\item 0.821405641942903\n",
       "\\item 0.820575069281536\n",
       "\\item 0.819553414869257\n",
       "\\item 0.819024334783261\n",
       "\\item 0.819054539173041\n",
       "\\item 0.818764748667567\n",
       "\\item 0.818310258722064\n",
       "\\item 0.818839834473276\n",
       "\\item 0.819078122853857\n",
       "\\item 0.819306516534173\n",
       "\\item 0.81933952020399\n",
       "\\item 0.819553310074496\n",
       "\\end{enumerate*}\n"
      ],
      "text/markdown": [
       "1. 0.822085819434028\n",
       "2. 0.824058415439228\n",
       "3. 0.83128054820759\n",
       "4. 0.838081071066447\n",
       "5. 0.845033785745713\n",
       "6. 0.833321462811859\n",
       "7. 0.832107117939103\n",
       "8. 0.827744078611069\n",
       "9. 0.825630973846308\n",
       "10. 0.822814686460677\n",
       "11. 0.821405641942903\n",
       "12. 0.820575069281536\n",
       "13. 0.819553414869257\n",
       "14. 0.819024334783261\n",
       "15. 0.819054539173041\n",
       "16. 0.818764748667567\n",
       "17. 0.818310258722064\n",
       "18. 0.818839834473276\n",
       "19. 0.819078122853857\n",
       "20. 0.819306516534173\n",
       "21. 0.81933952020399\n",
       "22. 0.819553310074496\n",
       "\n",
       "\n"
      ],
      "text/plain": [
       " [1] 0.8220858 0.8240584 0.8312805 0.8380811 0.8450338 0.8333215 0.8321071\n",
       " [8] 0.8277441 0.8256310 0.8228147 0.8214056 0.8205751 0.8195534 0.8190243\n",
       "[15] 0.8190545 0.8187647 0.8183103 0.8188398 0.8190781 0.8193065 0.8193395\n",
       "[22] 0.8195533"
      ]
     },
     "metadata": {},
     "output_type": "display_data"
    }
   ],
   "source": [
    "avg"
   ]
  },
  {
   "cell_type": "markdown",
   "metadata": {},
   "source": [
    "Moyenne du MAE pour les 5fold"
   ]
  },
  {
   "cell_type": "code",
   "execution_count": 42,
   "metadata": {},
   "outputs": [
    {
     "data": {
      "text/html": [
       "0.863604049709574"
      ],
      "text/latex": [
       "0.863604049709574"
      ],
      "text/markdown": [
       "0.863604049709574"
      ],
      "text/plain": [
       "[1] 0.863604"
      ]
     },
     "metadata": {},
     "output_type": "display_data"
    }
   ],
   "source": [
    "mean(cv.b)"
   ]
  },
  {
   "cell_type": "markdown",
   "metadata": {},
   "source": [
    "On ecrit la valeur dans un fichier pour utilisation future"
   ]
  },
  {
   "cell_type": "code",
   "execution_count": 41,
   "metadata": {},
   "outputs": [],
   "source": [
    "write.table(avg,file=\"out/total/cluster.csv\")"
   ]
  },
  {
   "cell_type": "code",
   "execution_count": null,
   "metadata": {},
   "outputs": [],
   "source": []
  }
 ],
 "metadata": {
  "kernelspec": {
   "display_name": "R",
   "language": "R",
   "name": "ir"
  },
  "language_info": {
   "codemirror_mode": "r",
   "file_extension": ".r",
   "mimetype": "text/x-r-source",
   "name": "R",
   "pygments_lexer": "r",
   "version": "3.5.1"
  }
 },
 "nbformat": 4,
 "nbformat_minor": 2
}
