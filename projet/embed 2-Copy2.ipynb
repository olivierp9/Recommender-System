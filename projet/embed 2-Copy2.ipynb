{
 "cells": [
  {
   "cell_type": "code",
   "execution_count": 1,
   "metadata": {},
   "outputs": [],
   "source": [
    "import pandas as pd\n",
    "import numpy as np\n",
    "import matplotlib.pyplot as plt\n",
    "import warnings\n",
    "warnings.filterwarnings('ignore')\n",
    "\n",
    "%matplotlib inline"
   ]
  },
  {
   "cell_type": "code",
   "execution_count": 11,
   "metadata": {},
   "outputs": [],
   "source": [
    "dataset = pd.read_csv(\"u.data.csv\",sep='|',names=\"user_id,item_id,rating,timestamp\".split(\",\"))\n",
    "dataset=dataset.drop('timestamp',axis=1)\n",
    "\n",
    "dataset = dataset.iloc[1:,:]\n",
    "\n"
   ]
  },
  {
   "cell_type": "code",
   "execution_count": 12,
   "metadata": {},
   "outputs": [],
   "source": [
    "m = np.zeros((943,1682),dtype=np.int8)\n",
    "for i in range(len(dataset)):\n",
    "    m[int(dataset.iloc[i,0])-1,int(dataset.iloc[i,1])-1]=int(dataset.iloc[i,2])"
   ]
  },
  {
   "cell_type": "code",
   "execution_count": null,
   "metadata": {},
   "outputs": [],
   "source": []
  },
  {
   "cell_type": "code",
   "execution_count": 26,
   "metadata": {},
   "outputs": [],
   "source": [
    "dataset.user_id = dataset.user_id.astype('category').cat.codes.values\n",
    "dataset.item_id = dataset.item_id.astype('category').cat.codes.values\n",
    "df_item = pd.read_csv('u.item.csv', sep='|')\n",
    "df_item  = df_item.drop([' video release date ',' movie title ', ' release date ',' IMDb URL '], axis=1)\n",
    "df_item = df_item.rename(columns={'movie id ': 'item_id'})\n",
    "df_item.item_id = df_item.item_id.astype('category').cat.codes.values"
   ]
  },
  {
   "cell_type": "code",
   "execution_count": 27,
   "metadata": {},
   "outputs": [],
   "source": [
    "dataset = dataset.merge(df_item, left_on='item_id', right_on='item_id', how='outer')\n"
   ]
  },
  {
   "cell_type": "code",
   "execution_count": 28,
   "metadata": {},
   "outputs": [
    {
     "data": {
      "text/html": [
       "<div>\n",
       "<style scoped>\n",
       "    .dataframe tbody tr th:only-of-type {\n",
       "        vertical-align: middle;\n",
       "    }\n",
       "\n",
       "    .dataframe tbody tr th {\n",
       "        vertical-align: top;\n",
       "    }\n",
       "\n",
       "    .dataframe thead th {\n",
       "        text-align: right;\n",
       "    }\n",
       "</style>\n",
       "<table border=\"1\" class=\"dataframe\">\n",
       "  <thead>\n",
       "    <tr style=\"text-align: right;\">\n",
       "      <th></th>\n",
       "      <th>user_id</th>\n",
       "      <th>item_id</th>\n",
       "      <th>rating</th>\n",
       "      <th>unknown</th>\n",
       "      <th>Action</th>\n",
       "      <th>Adventure</th>\n",
       "      <th>Animation</th>\n",
       "      <th>Children's</th>\n",
       "      <th>Comedy</th>\n",
       "      <th>Crime</th>\n",
       "      <th>...</th>\n",
       "      <th>Fantasy</th>\n",
       "      <th>Film-Noir</th>\n",
       "      <th>Horror</th>\n",
       "      <th>Musical</th>\n",
       "      <th>Mystery</th>\n",
       "      <th>Romance</th>\n",
       "      <th>Sci-Fi</th>\n",
       "      <th>Thriller</th>\n",
       "      <th>War</th>\n",
       "      <th>Western</th>\n",
       "    </tr>\n",
       "  </thead>\n",
       "  <tbody>\n",
       "    <tr>\n",
       "      <th>0</th>\n",
       "      <td>107</td>\n",
       "      <td>842</td>\n",
       "      <td>3</td>\n",
       "      <td>0</td>\n",
       "      <td>0</td>\n",
       "      <td>0</td>\n",
       "      <td>0</td>\n",
       "      <td>1</td>\n",
       "      <td>1</td>\n",
       "      <td>0</td>\n",
       "      <td>...</td>\n",
       "      <td>0</td>\n",
       "      <td>0</td>\n",
       "      <td>0</td>\n",
       "      <td>0</td>\n",
       "      <td>0</td>\n",
       "      <td>0</td>\n",
       "      <td>0</td>\n",
       "      <td>0</td>\n",
       "      <td>0</td>\n",
       "      <td>0</td>\n",
       "    </tr>\n",
       "    <tr>\n",
       "      <th>1</th>\n",
       "      <td>589</td>\n",
       "      <td>842</td>\n",
       "      <td>3</td>\n",
       "      <td>0</td>\n",
       "      <td>0</td>\n",
       "      <td>0</td>\n",
       "      <td>0</td>\n",
       "      <td>1</td>\n",
       "      <td>1</td>\n",
       "      <td>0</td>\n",
       "      <td>...</td>\n",
       "      <td>0</td>\n",
       "      <td>0</td>\n",
       "      <td>0</td>\n",
       "      <td>0</td>\n",
       "      <td>0</td>\n",
       "      <td>0</td>\n",
       "      <td>0</td>\n",
       "      <td>0</td>\n",
       "      <td>0</td>\n",
       "      <td>0</td>\n",
       "    </tr>\n",
       "    <tr>\n",
       "      <th>2</th>\n",
       "      <td>141</td>\n",
       "      <td>842</td>\n",
       "      <td>5</td>\n",
       "      <td>0</td>\n",
       "      <td>0</td>\n",
       "      <td>0</td>\n",
       "      <td>0</td>\n",
       "      <td>1</td>\n",
       "      <td>1</td>\n",
       "      <td>0</td>\n",
       "      <td>...</td>\n",
       "      <td>0</td>\n",
       "      <td>0</td>\n",
       "      <td>0</td>\n",
       "      <td>0</td>\n",
       "      <td>0</td>\n",
       "      <td>0</td>\n",
       "      <td>0</td>\n",
       "      <td>0</td>\n",
       "      <td>0</td>\n",
       "      <td>0</td>\n",
       "    </tr>\n",
       "    <tr>\n",
       "      <th>3</th>\n",
       "      <td>61</td>\n",
       "      <td>842</td>\n",
       "      <td>3</td>\n",
       "      <td>0</td>\n",
       "      <td>0</td>\n",
       "      <td>0</td>\n",
       "      <td>0</td>\n",
       "      <td>1</td>\n",
       "      <td>1</td>\n",
       "      <td>0</td>\n",
       "      <td>...</td>\n",
       "      <td>0</td>\n",
       "      <td>0</td>\n",
       "      <td>0</td>\n",
       "      <td>0</td>\n",
       "      <td>0</td>\n",
       "      <td>0</td>\n",
       "      <td>0</td>\n",
       "      <td>0</td>\n",
       "      <td>0</td>\n",
       "      <td>0</td>\n",
       "    </tr>\n",
       "    <tr>\n",
       "      <th>4</th>\n",
       "      <td>230</td>\n",
       "      <td>842</td>\n",
       "      <td>5</td>\n",
       "      <td>0</td>\n",
       "      <td>0</td>\n",
       "      <td>0</td>\n",
       "      <td>0</td>\n",
       "      <td>1</td>\n",
       "      <td>1</td>\n",
       "      <td>0</td>\n",
       "      <td>...</td>\n",
       "      <td>0</td>\n",
       "      <td>0</td>\n",
       "      <td>0</td>\n",
       "      <td>0</td>\n",
       "      <td>0</td>\n",
       "      <td>0</td>\n",
       "      <td>0</td>\n",
       "      <td>0</td>\n",
       "      <td>0</td>\n",
       "      <td>0</td>\n",
       "    </tr>\n",
       "  </tbody>\n",
       "</table>\n",
       "<p>5 rows × 22 columns</p>\n",
       "</div>"
      ],
      "text/plain": [
       "   user_id  item_id rating   unknown    Action    Adventure    Animation   \\\n",
       "0      107      842      3          0         0            0            0   \n",
       "1      589      842      3          0         0            0            0   \n",
       "2      141      842      5          0         0            0            0   \n",
       "3       61      842      3          0         0            0            0   \n",
       "4      230      842      5          0         0            0            0   \n",
       "\n",
       "    Children's    Comedy    Crime     ...      Fantasy    Film-Noir   \\\n",
       "0             1         1        0    ...             0            0   \n",
       "1             1         1        0    ...             0            0   \n",
       "2             1         1        0    ...             0            0   \n",
       "3             1         1        0    ...             0            0   \n",
       "4             1         1        0    ...             0            0   \n",
       "\n",
       "    Horror    Musical    Mystery    Romance    Sci-Fi    Thriller    War   \\\n",
       "0         0          0          0          0         0           0      0   \n",
       "1         0          0          0          0         0           0      0   \n",
       "2         0          0          0          0         0           0      0   \n",
       "3         0          0          0          0         0           0      0   \n",
       "4         0          0          0          0         0           0      0   \n",
       "\n",
       "    Western  \n",
       "0         0  \n",
       "1         0  \n",
       "2         0  \n",
       "3         0  \n",
       "4         0  \n",
       "\n",
       "[5 rows x 22 columns]"
      ]
     },
     "execution_count": 28,
     "metadata": {},
     "output_type": "execute_result"
    }
   ],
   "source": [
    "dataset.head()"
   ]
  },
  {
   "cell_type": "code",
   "execution_count": 29,
   "metadata": {},
   "outputs": [
    {
     "data": {
      "text/plain": [
       "(943, 1682)"
      ]
     },
     "execution_count": 29,
     "metadata": {},
     "output_type": "execute_result"
    }
   ],
   "source": [
    "len(dataset.user_id.unique()), len(dataset.item_id.unique())\n"
   ]
  },
  {
   "cell_type": "code",
   "execution_count": null,
   "metadata": {},
   "outputs": [],
   "source": []
  },
  {
   "cell_type": "code",
   "execution_count": null,
   "metadata": {},
   "outputs": [],
   "source": []
  },
  {
   "cell_type": "code",
   "execution_count": null,
   "metadata": {},
   "outputs": [],
   "source": []
  },
  {
   "cell_type": "code",
   "execution_count": 30,
   "metadata": {},
   "outputs": [],
   "source": [
    "from sklearn.model_selection import train_test_split\n",
    "train, test = train_test_split(dataset, test_size=0.2)"
   ]
  },
  {
   "cell_type": "code",
   "execution_count": null,
   "metadata": {},
   "outputs": [],
   "source": []
  },
  {
   "cell_type": "code",
   "execution_count": 31,
   "metadata": {},
   "outputs": [
    {
     "name": "stderr",
     "output_type": "stream",
     "text": [
      "Using TensorFlow backend.\n"
     ]
    }
   ],
   "source": [
    "import keras\n",
    "from IPython.display import SVG\n",
    "from keras.optimizers import Adam\n",
    "from keras.utils.vis_utils import model_to_dot\n",
    "from keras import regularizers\n",
    "\n",
    "n_users, n_movies = len(dataset.user_id.unique()), len(dataset.item_id.unique())\n",
    "n_latent_factors = 3"
   ]
  },
  {
   "cell_type": "code",
   "execution_count": 32,
   "metadata": {},
   "outputs": [
    {
     "name": "stdout",
     "output_type": "stream",
     "text": [
      "WARNING:tensorflow:From C:\\Users\\happy\\Anaconda2\\envs\\py36\\lib\\site-packages\\keras\\backend\\tensorflow_backend.py:1264: calling reduce_prod (from tensorflow.python.ops.math_ops) with keep_dims is deprecated and will be removed in a future version.\n",
      "Instructions for updating:\n",
      "keep_dims is deprecated, use keepdims instead\n",
      "WARNING:tensorflow:From C:\\Users\\happy\\Anaconda2\\envs\\py36\\lib\\site-packages\\keras\\backend\\tensorflow_backend.py:1349: calling reduce_mean (from tensorflow.python.ops.math_ops) with keep_dims is deprecated and will be removed in a future version.\n",
      "Instructions for updating:\n",
      "keep_dims is deprecated, use keepdims instead\n"
     ]
    }
   ],
   "source": [
    "movie_input = keras.layers.Input(shape=[1],name='Item')\n",
    "movie_embedding = keras.layers.Embedding(n_movies + 1, 3, name='Movie-Embedding')(movie_input)\n",
    "movie_vec = keras.layers.Flatten(name='FlattenMovies')(movie_embedding)\n",
    "\n",
    "user_input = keras.layers.Input(shape=[1],name='User')\n",
    "user_vec = keras.layers.Flatten(name='FlattenUsers')(keras.layers.Embedding(n_users + 1, 3,name='User-Embedding')(user_input))\n",
    "\n",
    "genre_input = keras.layers.Input(shape=[19],name='Genre')\n",
    "genre_vec = keras.layers.Dense(3,input_shape=(19,), activation='relu',name='Genre-Dense')(genre_input)\n",
    "\n",
    "prod1 = keras.layers.merge([movie_vec, user_vec], mode='dot',name='DotProduct1')\n",
    "prod2 = keras.layers.merge([genre_vec, user_vec], mode='dot',name='DotProduct2')\n",
    "concat = keras.layers.merge([prod1, prod2], mode='concat',name='concat')\n",
    "\n",
    "last = keras.layers.Dense(5,input_shape=(2,), activation='relu')(concat)\n",
    "output = keras.layers.Dense(1,input_shape=(5,), activation='relu')(last)\n",
    "\n",
    "\n",
    "model = keras.Model([user_input, movie_input, genre_input], output)\n",
    "\n",
    "model.compile(optimizer='adam',loss= 'mean_squared_error')"
   ]
  },
  {
   "cell_type": "code",
   "execution_count": 33,
   "metadata": {},
   "outputs": [],
   "source": [
    "import graphviz"
   ]
  },
  {
   "cell_type": "code",
   "execution_count": null,
   "metadata": {},
   "outputs": [],
   "source": []
  },
  {
   "cell_type": "code",
   "execution_count": 34,
   "metadata": {},
   "outputs": [
    {
     "data": {
      "image/svg+xml": [
       "<svg height=\"553pt\" viewBox=\"0.00 0.00 949.00 553.00\" width=\"949pt\" xmlns=\"http://www.w3.org/2000/svg\" xmlns:xlink=\"http://www.w3.org/1999/xlink\">\n",
       "<g class=\"graph\" id=\"graph0\" transform=\"scale(1 1) rotate(0) translate(4 549)\">\n",
       "<title>G</title>\n",
       "<polygon fill=\"white\" points=\"-4,4 -4,-549 945,-549 945,4 -4,4\" stroke=\"none\"/>\n",
       "<!-- 1851036417776 -->\n",
       "<g class=\"node\" id=\"node1\"><title>1851036417776</title>\n",
       "<polygon fill=\"none\" points=\"48,-498.5 48,-544.5 283,-544.5 283,-498.5 48,-498.5\" stroke=\"black\"/>\n",
       "<text font-family=\"Times New Roman,serif\" font-size=\"14.00\" text-anchor=\"middle\" x=\"102.5\" y=\"-517.8\">Item: InputLayer</text>\n",
       "<polyline fill=\"none\" points=\"157,-498.5 157,-544.5 \" stroke=\"black\"/>\n",
       "<text font-family=\"Times New Roman,serif\" font-size=\"14.00\" text-anchor=\"middle\" x=\"185\" y=\"-529.3\">input:</text>\n",
       "<polyline fill=\"none\" points=\"157,-521.5 213,-521.5 \" stroke=\"black\"/>\n",
       "<text font-family=\"Times New Roman,serif\" font-size=\"14.00\" text-anchor=\"middle\" x=\"185\" y=\"-506.3\">output:</text>\n",
       "<polyline fill=\"none\" points=\"213,-498.5 213,-544.5 \" stroke=\"black\"/>\n",
       "<text font-family=\"Times New Roman,serif\" font-size=\"14.00\" text-anchor=\"middle\" x=\"248\" y=\"-529.3\">(None, 1)</text>\n",
       "<polyline fill=\"none\" points=\"213,-521.5 283,-521.5 \" stroke=\"black\"/>\n",
       "<text font-family=\"Times New Roman,serif\" font-size=\"14.00\" text-anchor=\"middle\" x=\"248\" y=\"-506.3\">(None, 1)</text>\n",
       "</g>\n",
       "<!-- 1851036417720 -->\n",
       "<g class=\"node\" id=\"node3\"><title>1851036417720</title>\n",
       "<polygon fill=\"none\" points=\"0,-415.5 0,-461.5 331,-461.5 331,-415.5 0,-415.5\" stroke=\"black\"/>\n",
       "<text font-family=\"Times New Roman,serif\" font-size=\"14.00\" text-anchor=\"middle\" x=\"95.5\" y=\"-434.8\">Movie-Embedding: Embedding</text>\n",
       "<polyline fill=\"none\" points=\"191,-415.5 191,-461.5 \" stroke=\"black\"/>\n",
       "<text font-family=\"Times New Roman,serif\" font-size=\"14.00\" text-anchor=\"middle\" x=\"219\" y=\"-446.3\">input:</text>\n",
       "<polyline fill=\"none\" points=\"191,-438.5 247,-438.5 \" stroke=\"black\"/>\n",
       "<text font-family=\"Times New Roman,serif\" font-size=\"14.00\" text-anchor=\"middle\" x=\"219\" y=\"-423.3\">output:</text>\n",
       "<polyline fill=\"none\" points=\"247,-415.5 247,-461.5 \" stroke=\"black\"/>\n",
       "<text font-family=\"Times New Roman,serif\" font-size=\"14.00\" text-anchor=\"middle\" x=\"289\" y=\"-446.3\">(None, 1)</text>\n",
       "<polyline fill=\"none\" points=\"247,-438.5 331,-438.5 \" stroke=\"black\"/>\n",
       "<text font-family=\"Times New Roman,serif\" font-size=\"14.00\" text-anchor=\"middle\" x=\"289\" y=\"-423.3\">(None, 1, 3)</text>\n",
       "</g>\n",
       "<!-- 1851036417776&#45;&gt;1851036417720 -->\n",
       "<g class=\"edge\" id=\"edge1\"><title>1851036417776-&gt;1851036417720</title>\n",
       "<path d=\"M165.5,-498.366C165.5,-490.152 165.5,-480.658 165.5,-471.725\" fill=\"none\" stroke=\"black\"/>\n",
       "<polygon fill=\"black\" points=\"169,-471.607 165.5,-461.607 162,-471.607 169,-471.607\" stroke=\"black\"/>\n",
       "</g>\n",
       "<!-- 1851036417552 -->\n",
       "<g class=\"node\" id=\"node2\"><title>1851036417552</title>\n",
       "<polygon fill=\"none\" points=\"392.5,-498.5 392.5,-544.5 628.5,-544.5 628.5,-498.5 392.5,-498.5\" stroke=\"black\"/>\n",
       "<text font-family=\"Times New Roman,serif\" font-size=\"14.00\" text-anchor=\"middle\" x=\"447.5\" y=\"-517.8\">User: InputLayer</text>\n",
       "<polyline fill=\"none\" points=\"502.5,-498.5 502.5,-544.5 \" stroke=\"black\"/>\n",
       "<text font-family=\"Times New Roman,serif\" font-size=\"14.00\" text-anchor=\"middle\" x=\"530.5\" y=\"-529.3\">input:</text>\n",
       "<polyline fill=\"none\" points=\"502.5,-521.5 558.5,-521.5 \" stroke=\"black\"/>\n",
       "<text font-family=\"Times New Roman,serif\" font-size=\"14.00\" text-anchor=\"middle\" x=\"530.5\" y=\"-506.3\">output:</text>\n",
       "<polyline fill=\"none\" points=\"558.5,-498.5 558.5,-544.5 \" stroke=\"black\"/>\n",
       "<text font-family=\"Times New Roman,serif\" font-size=\"14.00\" text-anchor=\"middle\" x=\"593.5\" y=\"-529.3\">(None, 1)</text>\n",
       "<polyline fill=\"none\" points=\"558.5,-521.5 628.5,-521.5 \" stroke=\"black\"/>\n",
       "<text font-family=\"Times New Roman,serif\" font-size=\"14.00\" text-anchor=\"middle\" x=\"593.5\" y=\"-506.3\">(None, 1)</text>\n",
       "</g>\n",
       "<!-- 1851036459976 -->\n",
       "<g class=\"node\" id=\"node4\"><title>1851036459976</title>\n",
       "<polygon fill=\"none\" points=\"349.5,-415.5 349.5,-461.5 671.5,-461.5 671.5,-415.5 349.5,-415.5\" stroke=\"black\"/>\n",
       "<text font-family=\"Times New Roman,serif\" font-size=\"14.00\" text-anchor=\"middle\" x=\"440.5\" y=\"-434.8\">User-Embedding: Embedding</text>\n",
       "<polyline fill=\"none\" points=\"531.5,-415.5 531.5,-461.5 \" stroke=\"black\"/>\n",
       "<text font-family=\"Times New Roman,serif\" font-size=\"14.00\" text-anchor=\"middle\" x=\"559.5\" y=\"-446.3\">input:</text>\n",
       "<polyline fill=\"none\" points=\"531.5,-438.5 587.5,-438.5 \" stroke=\"black\"/>\n",
       "<text font-family=\"Times New Roman,serif\" font-size=\"14.00\" text-anchor=\"middle\" x=\"559.5\" y=\"-423.3\">output:</text>\n",
       "<polyline fill=\"none\" points=\"587.5,-415.5 587.5,-461.5 \" stroke=\"black\"/>\n",
       "<text font-family=\"Times New Roman,serif\" font-size=\"14.00\" text-anchor=\"middle\" x=\"629.5\" y=\"-446.3\">(None, 1)</text>\n",
       "<polyline fill=\"none\" points=\"587.5,-438.5 671.5,-438.5 \" stroke=\"black\"/>\n",
       "<text font-family=\"Times New Roman,serif\" font-size=\"14.00\" text-anchor=\"middle\" x=\"629.5\" y=\"-423.3\">(None, 1, 3)</text>\n",
       "</g>\n",
       "<!-- 1851036417552&#45;&gt;1851036459976 -->\n",
       "<g class=\"edge\" id=\"edge2\"><title>1851036417552-&gt;1851036459976</title>\n",
       "<path d=\"M510.5,-498.366C510.5,-490.152 510.5,-480.658 510.5,-471.725\" fill=\"none\" stroke=\"black\"/>\n",
       "<polygon fill=\"black\" points=\"514,-471.607 510.5,-461.607 507,-471.607 514,-471.607\" stroke=\"black\"/>\n",
       "</g>\n",
       "<!-- 1851036460200 -->\n",
       "<g class=\"node\" id=\"node6\"><title>1851036460200</title>\n",
       "<polygon fill=\"none\" points=\"50.5,-332.5 50.5,-378.5 330.5,-378.5 330.5,-332.5 50.5,-332.5\" stroke=\"black\"/>\n",
       "<text font-family=\"Times New Roman,serif\" font-size=\"14.00\" text-anchor=\"middle\" x=\"120.5\" y=\"-351.8\">FlattenMovies: Flatten</text>\n",
       "<polyline fill=\"none\" points=\"190.5,-332.5 190.5,-378.5 \" stroke=\"black\"/>\n",
       "<text font-family=\"Times New Roman,serif\" font-size=\"14.00\" text-anchor=\"middle\" x=\"218.5\" y=\"-363.3\">input:</text>\n",
       "<polyline fill=\"none\" points=\"190.5,-355.5 246.5,-355.5 \" stroke=\"black\"/>\n",
       "<text font-family=\"Times New Roman,serif\" font-size=\"14.00\" text-anchor=\"middle\" x=\"218.5\" y=\"-340.3\">output:</text>\n",
       "<polyline fill=\"none\" points=\"246.5,-332.5 246.5,-378.5 \" stroke=\"black\"/>\n",
       "<text font-family=\"Times New Roman,serif\" font-size=\"14.00\" text-anchor=\"middle\" x=\"288.5\" y=\"-363.3\">(None, 1, 3)</text>\n",
       "<polyline fill=\"none\" points=\"246.5,-355.5 330.5,-355.5 \" stroke=\"black\"/>\n",
       "<text font-family=\"Times New Roman,serif\" font-size=\"14.00\" text-anchor=\"middle\" x=\"288.5\" y=\"-340.3\">(None, 3)</text>\n",
       "</g>\n",
       "<!-- 1851036417720&#45;&gt;1851036460200 -->\n",
       "<g class=\"edge\" id=\"edge3\"><title>1851036417720-&gt;1851036460200</title>\n",
       "<path d=\"M172.331,-415.366C174.894,-407.062 177.861,-397.451 180.644,-388.434\" fill=\"none\" stroke=\"black\"/>\n",
       "<polygon fill=\"black\" points=\"184.072,-389.194 183.677,-378.607 177.383,-387.13 184.072,-389.194\" stroke=\"black\"/>\n",
       "</g>\n",
       "<!-- 1851036460704 -->\n",
       "<g class=\"node\" id=\"node7\"><title>1851036460704</title>\n",
       "<polygon fill=\"none\" points=\"375,-332.5 375,-378.5 646,-378.5 646,-332.5 375,-332.5\" stroke=\"black\"/>\n",
       "<text font-family=\"Times New Roman,serif\" font-size=\"14.00\" text-anchor=\"middle\" x=\"440.5\" y=\"-351.8\">FlattenUsers: Flatten</text>\n",
       "<polyline fill=\"none\" points=\"506,-332.5 506,-378.5 \" stroke=\"black\"/>\n",
       "<text font-family=\"Times New Roman,serif\" font-size=\"14.00\" text-anchor=\"middle\" x=\"534\" y=\"-363.3\">input:</text>\n",
       "<polyline fill=\"none\" points=\"506,-355.5 562,-355.5 \" stroke=\"black\"/>\n",
       "<text font-family=\"Times New Roman,serif\" font-size=\"14.00\" text-anchor=\"middle\" x=\"534\" y=\"-340.3\">output:</text>\n",
       "<polyline fill=\"none\" points=\"562,-332.5 562,-378.5 \" stroke=\"black\"/>\n",
       "<text font-family=\"Times New Roman,serif\" font-size=\"14.00\" text-anchor=\"middle\" x=\"604\" y=\"-363.3\">(None, 1, 3)</text>\n",
       "<polyline fill=\"none\" points=\"562,-355.5 646,-355.5 \" stroke=\"black\"/>\n",
       "<text font-family=\"Times New Roman,serif\" font-size=\"14.00\" text-anchor=\"middle\" x=\"604\" y=\"-340.3\">(None, 3)</text>\n",
       "</g>\n",
       "<!-- 1851036459976&#45;&gt;1851036460704 -->\n",
       "<g class=\"edge\" id=\"edge4\"><title>1851036459976-&gt;1851036460704</title>\n",
       "<path d=\"M510.5,-415.366C510.5,-407.152 510.5,-397.658 510.5,-388.725\" fill=\"none\" stroke=\"black\"/>\n",
       "<polygon fill=\"black\" points=\"514,-388.607 510.5,-378.607 507,-388.607 514,-388.607\" stroke=\"black\"/>\n",
       "</g>\n",
       "<!-- 1851036460424 -->\n",
       "<g class=\"node\" id=\"node5\"><title>1851036460424</title>\n",
       "<polygon fill=\"none\" points=\"690,-415.5 690,-461.5 941,-461.5 941,-415.5 690,-415.5\" stroke=\"black\"/>\n",
       "<text font-family=\"Times New Roman,serif\" font-size=\"14.00\" text-anchor=\"middle\" x=\"749\" y=\"-434.8\">Genre: InputLayer</text>\n",
       "<polyline fill=\"none\" points=\"808,-415.5 808,-461.5 \" stroke=\"black\"/>\n",
       "<text font-family=\"Times New Roman,serif\" font-size=\"14.00\" text-anchor=\"middle\" x=\"836\" y=\"-446.3\">input:</text>\n",
       "<polyline fill=\"none\" points=\"808,-438.5 864,-438.5 \" stroke=\"black\"/>\n",
       "<text font-family=\"Times New Roman,serif\" font-size=\"14.00\" text-anchor=\"middle\" x=\"836\" y=\"-423.3\">output:</text>\n",
       "<polyline fill=\"none\" points=\"864,-415.5 864,-461.5 \" stroke=\"black\"/>\n",
       "<text font-family=\"Times New Roman,serif\" font-size=\"14.00\" text-anchor=\"middle\" x=\"902.5\" y=\"-446.3\">(None, 19)</text>\n",
       "<polyline fill=\"none\" points=\"864,-438.5 941,-438.5 \" stroke=\"black\"/>\n",
       "<text font-family=\"Times New Roman,serif\" font-size=\"14.00\" text-anchor=\"middle\" x=\"902.5\" y=\"-423.3\">(None, 19)</text>\n",
       "</g>\n",
       "<!-- 1851036715384 -->\n",
       "<g class=\"node\" id=\"node8\"><title>1851036715384</title>\n",
       "<polygon fill=\"none\" points=\"673.5,-332.5 673.5,-378.5 937.5,-378.5 937.5,-332.5 673.5,-332.5\" stroke=\"black\"/>\n",
       "<text font-family=\"Times New Roman,serif\" font-size=\"14.00\" text-anchor=\"middle\" x=\"739\" y=\"-351.8\">Genre-Dense: Dense</text>\n",
       "<polyline fill=\"none\" points=\"804.5,-332.5 804.5,-378.5 \" stroke=\"black\"/>\n",
       "<text font-family=\"Times New Roman,serif\" font-size=\"14.00\" text-anchor=\"middle\" x=\"832.5\" y=\"-363.3\">input:</text>\n",
       "<polyline fill=\"none\" points=\"804.5,-355.5 860.5,-355.5 \" stroke=\"black\"/>\n",
       "<text font-family=\"Times New Roman,serif\" font-size=\"14.00\" text-anchor=\"middle\" x=\"832.5\" y=\"-340.3\">output:</text>\n",
       "<polyline fill=\"none\" points=\"860.5,-332.5 860.5,-378.5 \" stroke=\"black\"/>\n",
       "<text font-family=\"Times New Roman,serif\" font-size=\"14.00\" text-anchor=\"middle\" x=\"899\" y=\"-363.3\">(None, 19)</text>\n",
       "<polyline fill=\"none\" points=\"860.5,-355.5 937.5,-355.5 \" stroke=\"black\"/>\n",
       "<text font-family=\"Times New Roman,serif\" font-size=\"14.00\" text-anchor=\"middle\" x=\"899\" y=\"-340.3\">(None, 3)</text>\n",
       "</g>\n",
       "<!-- 1851036460424&#45;&gt;1851036715384 -->\n",
       "<g class=\"edge\" id=\"edge5\"><title>1851036460424-&gt;1851036715384</title>\n",
       "<path d=\"M812.767,-415.366C811.753,-407.152 810.581,-397.658 809.478,-388.725\" fill=\"none\" stroke=\"black\"/>\n",
       "<polygon fill=\"black\" points=\"812.928,-388.103 808.229,-378.607 805.981,-388.96 812.928,-388.103\" stroke=\"black\"/>\n",
       "</g>\n",
       "<!-- 1851036715160 -->\n",
       "<g class=\"node\" id=\"node9\"><title>1851036715160</title>\n",
       "<polygon fill=\"none\" points=\"162,-249.5 162,-295.5 489,-295.5 489,-249.5 162,-249.5\" stroke=\"black\"/>\n",
       "<text font-family=\"Times New Roman,serif\" font-size=\"14.00\" text-anchor=\"middle\" x=\"227.5\" y=\"-268.8\">DotProduct1: Merge</text>\n",
       "<polyline fill=\"none\" points=\"293,-249.5 293,-295.5 \" stroke=\"black\"/>\n",
       "<text font-family=\"Times New Roman,serif\" font-size=\"14.00\" text-anchor=\"middle\" x=\"321\" y=\"-280.3\">input:</text>\n",
       "<polyline fill=\"none\" points=\"293,-272.5 349,-272.5 \" stroke=\"black\"/>\n",
       "<text font-family=\"Times New Roman,serif\" font-size=\"14.00\" text-anchor=\"middle\" x=\"321\" y=\"-257.3\">output:</text>\n",
       "<polyline fill=\"none\" points=\"349,-249.5 349,-295.5 \" stroke=\"black\"/>\n",
       "<text font-family=\"Times New Roman,serif\" font-size=\"14.00\" text-anchor=\"middle\" x=\"419\" y=\"-280.3\">[(None, 3), (None, 3)]</text>\n",
       "<polyline fill=\"none\" points=\"349,-272.5 489,-272.5 \" stroke=\"black\"/>\n",
       "<text font-family=\"Times New Roman,serif\" font-size=\"14.00\" text-anchor=\"middle\" x=\"419\" y=\"-257.3\">(None, 1)</text>\n",
       "</g>\n",
       "<!-- 1851036460200&#45;&gt;1851036715160 -->\n",
       "<g class=\"edge\" id=\"edge6\"><title>1851036460200-&gt;1851036715160</title>\n",
       "<path d=\"M227.389,-332.366C243.61,-322.634 262.824,-311.106 279.929,-300.842\" fill=\"none\" stroke=\"black\"/>\n",
       "<polygon fill=\"black\" points=\"281.881,-303.753 288.655,-295.607 278.28,-297.751 281.881,-303.753\" stroke=\"black\"/>\n",
       "</g>\n",
       "<!-- 1851036460704&#45;&gt;1851036715160 -->\n",
       "<g class=\"edge\" id=\"edge7\"><title>1851036460704-&gt;1851036715160</title>\n",
       "<path d=\"M459.948,-332.366C436.903,-322.277 409.452,-310.257 385.38,-299.718\" fill=\"none\" stroke=\"black\"/>\n",
       "<polygon fill=\"black\" points=\"386.555,-296.412 375.991,-295.607 383.748,-302.824 386.555,-296.412\" stroke=\"black\"/>\n",
       "</g>\n",
       "<!-- 1851038003552 -->\n",
       "<g class=\"node\" id=\"node10\"><title>1851038003552</title>\n",
       "<polygon fill=\"none\" points=\"507,-249.5 507,-295.5 834,-295.5 834,-249.5 507,-249.5\" stroke=\"black\"/>\n",
       "<text font-family=\"Times New Roman,serif\" font-size=\"14.00\" text-anchor=\"middle\" x=\"572.5\" y=\"-268.8\">DotProduct2: Merge</text>\n",
       "<polyline fill=\"none\" points=\"638,-249.5 638,-295.5 \" stroke=\"black\"/>\n",
       "<text font-family=\"Times New Roman,serif\" font-size=\"14.00\" text-anchor=\"middle\" x=\"666\" y=\"-280.3\">input:</text>\n",
       "<polyline fill=\"none\" points=\"638,-272.5 694,-272.5 \" stroke=\"black\"/>\n",
       "<text font-family=\"Times New Roman,serif\" font-size=\"14.00\" text-anchor=\"middle\" x=\"666\" y=\"-257.3\">output:</text>\n",
       "<polyline fill=\"none\" points=\"694,-249.5 694,-295.5 \" stroke=\"black\"/>\n",
       "<text font-family=\"Times New Roman,serif\" font-size=\"14.00\" text-anchor=\"middle\" x=\"764\" y=\"-280.3\">[(None, 3), (None, 3)]</text>\n",
       "<polyline fill=\"none\" points=\"694,-272.5 834,-272.5 \" stroke=\"black\"/>\n",
       "<text font-family=\"Times New Roman,serif\" font-size=\"14.00\" text-anchor=\"middle\" x=\"764\" y=\"-257.3\">(None, 1)</text>\n",
       "</g>\n",
       "<!-- 1851036460704&#45;&gt;1851038003552 -->\n",
       "<g class=\"edge\" id=\"edge9\"><title>1851036460704-&gt;1851038003552</title>\n",
       "<path d=\"M554.221,-332.366C573.887,-322.41 597.264,-310.576 617.881,-300.138\" fill=\"none\" stroke=\"black\"/>\n",
       "<polygon fill=\"black\" points=\"619.491,-303.246 626.832,-295.607 616.329,-297.001 619.491,-303.246\" stroke=\"black\"/>\n",
       "</g>\n",
       "<!-- 1851036715384&#45;&gt;1851038003552 -->\n",
       "<g class=\"edge\" id=\"edge8\"><title>1851036715384-&gt;1851038003552</title>\n",
       "<path d=\"M768.611,-332.366C752.39,-322.634 733.176,-311.106 716.071,-300.842\" fill=\"none\" stroke=\"black\"/>\n",
       "<polygon fill=\"black\" points=\"717.72,-297.751 707.345,-295.607 714.119,-303.753 717.72,-297.751\" stroke=\"black\"/>\n",
       "</g>\n",
       "<!-- 1851038004112 -->\n",
       "<g class=\"node\" id=\"node11\"><title>1851038004112</title>\n",
       "<polygon fill=\"none\" points=\"351.5,-166.5 351.5,-212.5 643.5,-212.5 643.5,-166.5 351.5,-166.5\" stroke=\"black\"/>\n",
       "<text font-family=\"Times New Roman,serif\" font-size=\"14.00\" text-anchor=\"middle\" x=\"399.5\" y=\"-185.8\">concat: Merge</text>\n",
       "<polyline fill=\"none\" points=\"447.5,-166.5 447.5,-212.5 \" stroke=\"black\"/>\n",
       "<text font-family=\"Times New Roman,serif\" font-size=\"14.00\" text-anchor=\"middle\" x=\"475.5\" y=\"-197.3\">input:</text>\n",
       "<polyline fill=\"none\" points=\"447.5,-189.5 503.5,-189.5 \" stroke=\"black\"/>\n",
       "<text font-family=\"Times New Roman,serif\" font-size=\"14.00\" text-anchor=\"middle\" x=\"475.5\" y=\"-174.3\">output:</text>\n",
       "<polyline fill=\"none\" points=\"503.5,-166.5 503.5,-212.5 \" stroke=\"black\"/>\n",
       "<text font-family=\"Times New Roman,serif\" font-size=\"14.00\" text-anchor=\"middle\" x=\"573.5\" y=\"-197.3\">[(None, 1), (None, 1)]</text>\n",
       "<polyline fill=\"none\" points=\"503.5,-189.5 643.5,-189.5 \" stroke=\"black\"/>\n",
       "<text font-family=\"Times New Roman,serif\" font-size=\"14.00\" text-anchor=\"middle\" x=\"573.5\" y=\"-174.3\">(None, 2)</text>\n",
       "</g>\n",
       "<!-- 1851036715160&#45;&gt;1851038004112 -->\n",
       "<g class=\"edge\" id=\"edge10\"><title>1851036715160-&gt;1851038004112</title>\n",
       "<path d=\"M372.5,-249.366C393.736,-239.366 418.996,-227.47 441.233,-216.998\" fill=\"none\" stroke=\"black\"/>\n",
       "<polygon fill=\"black\" points=\"443.001,-220.034 450.557,-212.607 440.019,-213.701 443.001,-220.034\" stroke=\"black\"/>\n",
       "</g>\n",
       "<!-- 1851038003552&#45;&gt;1851038004112 -->\n",
       "<g class=\"edge\" id=\"edge11\"><title>1851038003552-&gt;1851038004112</title>\n",
       "<path d=\"M623.227,-249.366C601.772,-239.321 576.233,-227.363 553.795,-216.858\" fill=\"none\" stroke=\"black\"/>\n",
       "<polygon fill=\"black\" points=\"555.256,-213.677 544.716,-212.607 552.288,-220.017 555.256,-213.677\" stroke=\"black\"/>\n",
       "</g>\n",
       "<!-- 1851038092424 -->\n",
       "<g class=\"node\" id=\"node12\"><title>1851038092424</title>\n",
       "<polygon fill=\"none\" points=\"382.5,-83.5 382.5,-129.5 612.5,-129.5 612.5,-83.5 382.5,-83.5\" stroke=\"black\"/>\n",
       "<text font-family=\"Times New Roman,serif\" font-size=\"14.00\" text-anchor=\"middle\" x=\"434.5\" y=\"-102.8\">dense_1: Dense</text>\n",
       "<polyline fill=\"none\" points=\"486.5,-83.5 486.5,-129.5 \" stroke=\"black\"/>\n",
       "<text font-family=\"Times New Roman,serif\" font-size=\"14.00\" text-anchor=\"middle\" x=\"514.5\" y=\"-114.3\">input:</text>\n",
       "<polyline fill=\"none\" points=\"486.5,-106.5 542.5,-106.5 \" stroke=\"black\"/>\n",
       "<text font-family=\"Times New Roman,serif\" font-size=\"14.00\" text-anchor=\"middle\" x=\"514.5\" y=\"-91.3\">output:</text>\n",
       "<polyline fill=\"none\" points=\"542.5,-83.5 542.5,-129.5 \" stroke=\"black\"/>\n",
       "<text font-family=\"Times New Roman,serif\" font-size=\"14.00\" text-anchor=\"middle\" x=\"577.5\" y=\"-114.3\">(None, 2)</text>\n",
       "<polyline fill=\"none\" points=\"542.5,-106.5 612.5,-106.5 \" stroke=\"black\"/>\n",
       "<text font-family=\"Times New Roman,serif\" font-size=\"14.00\" text-anchor=\"middle\" x=\"577.5\" y=\"-91.3\">(None, 5)</text>\n",
       "</g>\n",
       "<!-- 1851038004112&#45;&gt;1851038092424 -->\n",
       "<g class=\"edge\" id=\"edge12\"><title>1851038004112-&gt;1851038092424</title>\n",
       "<path d=\"M497.5,-166.366C497.5,-158.152 497.5,-148.658 497.5,-139.725\" fill=\"none\" stroke=\"black\"/>\n",
       "<polygon fill=\"black\" points=\"501,-139.607 497.5,-129.607 494,-139.607 501,-139.607\" stroke=\"black\"/>\n",
       "</g>\n",
       "<!-- 1851038003888 -->\n",
       "<g class=\"node\" id=\"node13\"><title>1851038003888</title>\n",
       "<polygon fill=\"none\" points=\"382.5,-0.5 382.5,-46.5 612.5,-46.5 612.5,-0.5 382.5,-0.5\" stroke=\"black\"/>\n",
       "<text font-family=\"Times New Roman,serif\" font-size=\"14.00\" text-anchor=\"middle\" x=\"434.5\" y=\"-19.8\">dense_2: Dense</text>\n",
       "<polyline fill=\"none\" points=\"486.5,-0.5 486.5,-46.5 \" stroke=\"black\"/>\n",
       "<text font-family=\"Times New Roman,serif\" font-size=\"14.00\" text-anchor=\"middle\" x=\"514.5\" y=\"-31.3\">input:</text>\n",
       "<polyline fill=\"none\" points=\"486.5,-23.5 542.5,-23.5 \" stroke=\"black\"/>\n",
       "<text font-family=\"Times New Roman,serif\" font-size=\"14.00\" text-anchor=\"middle\" x=\"514.5\" y=\"-8.3\">output:</text>\n",
       "<polyline fill=\"none\" points=\"542.5,-0.5 542.5,-46.5 \" stroke=\"black\"/>\n",
       "<text font-family=\"Times New Roman,serif\" font-size=\"14.00\" text-anchor=\"middle\" x=\"577.5\" y=\"-31.3\">(None, 5)</text>\n",
       "<polyline fill=\"none\" points=\"542.5,-23.5 612.5,-23.5 \" stroke=\"black\"/>\n",
       "<text font-family=\"Times New Roman,serif\" font-size=\"14.00\" text-anchor=\"middle\" x=\"577.5\" y=\"-8.3\">(None, 1)</text>\n",
       "</g>\n",
       "<!-- 1851038092424&#45;&gt;1851038003888 -->\n",
       "<g class=\"edge\" id=\"edge13\"><title>1851038092424-&gt;1851038003888</title>\n",
       "<path d=\"M497.5,-83.3664C497.5,-75.1516 497.5,-65.6579 497.5,-56.7252\" fill=\"none\" stroke=\"black\"/>\n",
       "<polygon fill=\"black\" points=\"501,-56.6068 497.5,-46.6068 494,-56.6069 501,-56.6068\" stroke=\"black\"/>\n",
       "</g>\n",
       "</g>\n",
       "</svg>"
      ],
      "text/plain": [
       "<IPython.core.display.SVG object>"
      ]
     },
     "execution_count": 34,
     "metadata": {},
     "output_type": "execute_result"
    }
   ],
   "source": [
    "from keras.utils.vis_utils import plot_model\n",
    "from IPython.display import SVG\n",
    "SVG(model_to_dot(model,  show_shapes=True, show_layer_names=True, rankdir='HB').create(prog='dot', format='svg'))"
   ]
  },
  {
   "cell_type": "code",
   "execution_count": 35,
   "metadata": {},
   "outputs": [],
   "source": [
    "#import tensorflow as tf\n",
    "#gpu_options = tf.GPUOptions(per_process_gpu_memory_fraction=0.9)\n",
    "\n",
    "#tf.Session(config=tf.ConfigProto(gpu_options=gpu_options,allow_soft_placement=True))"
   ]
  },
  {
   "cell_type": "code",
   "execution_count": 36,
   "metadata": {},
   "outputs": [
    {
     "name": "stdout",
     "output_type": "stream",
     "text": [
      "Epoch 1/25\n",
      "80000/80000 [==============================] - 18s 222us/step - loss: 2.3408\n",
      "Epoch 2/25\n",
      "80000/80000 [==============================] - 15s 184us/step - loss: 0.9246\n",
      "Epoch 3/25\n",
      "80000/80000 [==============================] - 15s 186us/step - loss: 0.8943\n",
      "Epoch 4/25\n",
      "80000/80000 [==============================] - 15s 185us/step - loss: 0.8643\n",
      "Epoch 5/25\n",
      "80000/80000 [==============================] - 15s 185us/step - loss: 0.8355\n",
      "Epoch 6/25\n",
      "80000/80000 [==============================] - 15s 185us/step - loss: 0.8152\n",
      "Epoch 7/25\n",
      "80000/80000 [==============================] - 15s 185us/step - loss: 0.8005\n",
      "Epoch 8/25\n",
      "80000/80000 [==============================] - 15s 184us/step - loss: 0.7892\n",
      "Epoch 9/25\n",
      "80000/80000 [==============================] - 15s 185us/step - loss: 0.7806\n",
      "Epoch 10/25\n",
      "80000/80000 [==============================] - 15s 187us/step - loss: 0.7731\n",
      "Epoch 11/25\n",
      "80000/80000 [==============================] - 15s 188us/step - loss: 0.7672\n",
      "Epoch 12/25\n",
      "80000/80000 [==============================] - 15s 186us/step - loss: 0.7622\n",
      "Epoch 13/25\n",
      "80000/80000 [==============================] - 15s 185us/step - loss: 0.7575\n",
      "Epoch 14/25\n",
      "80000/80000 [==============================] - 15s 185us/step - loss: 0.7539\n",
      "Epoch 15/25\n",
      "80000/80000 [==============================] - 15s 186us/step - loss: 0.7512\n",
      "Epoch 16/25\n",
      "80000/80000 [==============================] - 15s 186us/step - loss: 0.7478\n",
      "Epoch 17/25\n",
      "80000/80000 [==============================] - 15s 187us/step - loss: 0.7459\n",
      "Epoch 18/25\n",
      "80000/80000 [==============================] - 15s 183us/step - loss: 0.7436\n",
      "Epoch 19/25\n",
      "80000/80000 [==============================] - 15s 186us/step - loss: 0.7414\n",
      "Epoch 20/25\n",
      "80000/80000 [==============================] - 15s 186us/step - loss: 0.7398\n",
      "Epoch 21/25\n",
      "80000/80000 [==============================] - 16s 201us/step - loss: 0.7381\n",
      "Epoch 22/25\n",
      "80000/80000 [==============================] - 15s 189us/step - loss: 0.7363\n",
      "Epoch 23/25\n",
      "80000/80000 [==============================] - 15s 184us/step - loss: 0.7350\n",
      "Epoch 24/25\n",
      "80000/80000 [==============================] - 15s 185us/step - loss: 0.7342\n",
      "Epoch 25/25\n",
      "80000/80000 [==============================] - 15s 185us/step - loss: 0.7327\n"
     ]
    }
   ],
   "source": [
    "history = model.fit([train.user_id, train.item_id, train.iloc[:,-19:]], train.rating, epochs=25)"
   ]
  },
  {
   "cell_type": "code",
   "execution_count": null,
   "metadata": {},
   "outputs": [],
   "source": []
  },
  {
   "cell_type": "code",
   "execution_count": 37,
   "metadata": {},
   "outputs": [],
   "source": [
    "y_hat = np.round(model.predict([test.user_id, test.item_id, test.iloc[:,-19:]]),0)\n",
    "y_true = test.rating"
   ]
  },
  {
   "cell_type": "code",
   "execution_count": 38,
   "metadata": {},
   "outputs": [
    {
     "data": {
      "text/plain": [
       "0.7021"
      ]
     },
     "execution_count": 38,
     "metadata": {},
     "output_type": "execute_result"
    }
   ],
   "source": [
    "from sklearn.metrics import mean_absolute_error\n",
    "mean_absolute_error(y_true, y_hat)"
   ]
  },
  {
   "cell_type": "code",
   "execution_count": 75,
   "metadata": {},
   "outputs": [],
   "source": [
    "for i in range(943):\n",
    "    for j in range(1682):\n",
    "        if m[i,j]==0:\n",
    "            m[i,j]=model.predict([pd.DataFrame({'user_id': [i]}),df_item.iloc[j:j+1,0:1],df_item.iloc[j:j+1,-19:]])"
   ]
  },
  {
   "cell_type": "code",
   "execution_count": 74,
   "metadata": {},
   "outputs": [
    {
     "data": {
      "text/plain": [
       "162"
      ]
     },
     "execution_count": 74,
     "metadata": {},
     "output_type": "execute_result"
    }
   ],
   "source": []
  },
  {
   "cell_type": "code",
   "execution_count": 43,
   "metadata": {},
   "outputs": [
    {
     "data": {
      "text/plain": [
       "0"
      ]
     },
     "execution_count": 43,
     "metadata": {},
     "output_type": "execute_result"
    }
   ],
   "source": [
    "sum(y_hat.reshape(1,-1)[0]==y_true)"
   ]
  },
  {
   "cell_type": "code",
   "execution_count": 49,
   "metadata": {},
   "outputs": [
    {
     "data": {
      "text/plain": [
       "array([3., 5., 3., ..., 3., 3., 3.], dtype=float32)"
      ]
     },
     "execution_count": 49,
     "metadata": {},
     "output_type": "execute_result"
    }
   ],
   "source": [
    "np.array(y_true,dtype=np.float32)"
   ]
  },
  {
   "cell_type": "code",
   "execution_count": 52,
   "metadata": {},
   "outputs": [
    {
     "data": {
      "text/plain": [
       "19046"
      ]
     },
     "execution_count": 52,
     "metadata": {},
     "output_type": "execute_result"
    }
   ],
   "source": [
    "sum((np.array(y_true,dtype=np.float32)-y_hat.reshape(1,-1)[0])<2)"
   ]
  },
  {
   "cell_type": "code",
   "execution_count": 62,
   "metadata": {},
   "outputs": [
    {
     "ename": "TypeError",
     "evalue": "Index(...) must be called with a collection of some kind, 'user_id' was passed",
     "output_type": "error",
     "traceback": [
      "\u001b[1;31m---------------------------------------------------------------------------\u001b[0m",
      "\u001b[1;31mTypeError\u001b[0m                                 Traceback (most recent call last)",
      "\u001b[1;32m<ipython-input-62-44b4c14087b8>\u001b[0m in \u001b[0;36m<module>\u001b[1;34m()\u001b[0m\n\u001b[1;32m----> 1\u001b[1;33m \u001b[0mpd\u001b[0m\u001b[1;33m.\u001b[0m\u001b[0mDataFrame\u001b[0m\u001b[1;33m(\u001b[0m\u001b[1;33m[\u001b[0m\u001b[0mi\u001b[0m\u001b[1;33m]\u001b[0m\u001b[1;33m,\u001b[0m\u001b[0mcolumns\u001b[0m\u001b[1;33m=\u001b[0m\u001b[1;34m'user_id'\u001b[0m\u001b[1;33m)\u001b[0m\u001b[1;33m\u001b[0m\u001b[0m\n\u001b[0m",
      "\u001b[1;32m~\\Anaconda2\\envs\\py36\\lib\\site-packages\\pandas\\core\\frame.py\u001b[0m in \u001b[0;36m__init__\u001b[1;34m(self, data, index, columns, dtype, copy)\u001b[0m\n\u001b[0;32m    401\u001b[0m                 \u001b[1;32melse\u001b[0m\u001b[1;33m:\u001b[0m\u001b[1;33m\u001b[0m\u001b[0m\n\u001b[0;32m    402\u001b[0m                     mgr = self._init_ndarray(data, index, columns, dtype=dtype,\n\u001b[1;32m--> 403\u001b[1;33m                                              copy=copy)\n\u001b[0m\u001b[0;32m    404\u001b[0m             \u001b[1;32melse\u001b[0m\u001b[1;33m:\u001b[0m\u001b[1;33m\u001b[0m\u001b[0m\n\u001b[0;32m    405\u001b[0m                 \u001b[0mmgr\u001b[0m \u001b[1;33m=\u001b[0m \u001b[0mself\u001b[0m\u001b[1;33m.\u001b[0m\u001b[0m_init_dict\u001b[0m\u001b[1;33m(\u001b[0m\u001b[1;33m{\u001b[0m\u001b[1;33m}\u001b[0m\u001b[1;33m,\u001b[0m \u001b[0mindex\u001b[0m\u001b[1;33m,\u001b[0m \u001b[0mcolumns\u001b[0m\u001b[1;33m,\u001b[0m \u001b[0mdtype\u001b[0m\u001b[1;33m=\u001b[0m\u001b[0mdtype\u001b[0m\u001b[1;33m)\u001b[0m\u001b[1;33m\u001b[0m\u001b[0m\n",
      "\u001b[1;32m~\\Anaconda2\\envs\\py36\\lib\\site-packages\\pandas\\core\\frame.py\u001b[0m in \u001b[0;36m_init_ndarray\u001b[1;34m(self, values, index, columns, dtype, copy)\u001b[0m\n\u001b[0;32m    525\u001b[0m                     \u001b[0mraise_with_traceback\u001b[0m\u001b[1;33m(\u001b[0m\u001b[0me\u001b[0m\u001b[1;33m)\u001b[0m\u001b[1;33m\u001b[0m\u001b[0m\n\u001b[0;32m    526\u001b[0m \u001b[1;33m\u001b[0m\u001b[0m\n\u001b[1;32m--> 527\u001b[1;33m         \u001b[0mindex\u001b[0m\u001b[1;33m,\u001b[0m \u001b[0mcolumns\u001b[0m \u001b[1;33m=\u001b[0m \u001b[0m_get_axes\u001b[0m\u001b[1;33m(\u001b[0m\u001b[1;33m*\u001b[0m\u001b[0mvalues\u001b[0m\u001b[1;33m.\u001b[0m\u001b[0mshape\u001b[0m\u001b[1;33m)\u001b[0m\u001b[1;33m\u001b[0m\u001b[0m\n\u001b[0m\u001b[0;32m    528\u001b[0m         \u001b[0mvalues\u001b[0m \u001b[1;33m=\u001b[0m \u001b[0mvalues\u001b[0m\u001b[1;33m.\u001b[0m\u001b[0mT\u001b[0m\u001b[1;33m\u001b[0m\u001b[0m\n\u001b[0;32m    529\u001b[0m \u001b[1;33m\u001b[0m\u001b[0m\n",
      "\u001b[1;32m~\\Anaconda2\\envs\\py36\\lib\\site-packages\\pandas\\core\\frame.py\u001b[0m in \u001b[0;36m_get_axes\u001b[1;34m(N, K, index, columns)\u001b[0m\n\u001b[0;32m    487\u001b[0m                 \u001b[0mcolumns\u001b[0m \u001b[1;33m=\u001b[0m \u001b[0mcom\u001b[0m\u001b[1;33m.\u001b[0m\u001b[0m_default_index\u001b[0m\u001b[1;33m(\u001b[0m\u001b[0mK\u001b[0m\u001b[1;33m)\u001b[0m\u001b[1;33m\u001b[0m\u001b[0m\n\u001b[0;32m    488\u001b[0m             \u001b[1;32melse\u001b[0m\u001b[1;33m:\u001b[0m\u001b[1;33m\u001b[0m\u001b[0m\n\u001b[1;32m--> 489\u001b[1;33m                 \u001b[0mcolumns\u001b[0m \u001b[1;33m=\u001b[0m \u001b[0m_ensure_index\u001b[0m\u001b[1;33m(\u001b[0m\u001b[0mcolumns\u001b[0m\u001b[1;33m)\u001b[0m\u001b[1;33m\u001b[0m\u001b[0m\n\u001b[0m\u001b[0;32m    490\u001b[0m             \u001b[1;32mreturn\u001b[0m \u001b[0mindex\u001b[0m\u001b[1;33m,\u001b[0m \u001b[0mcolumns\u001b[0m\u001b[1;33m\u001b[0m\u001b[0m\n\u001b[0;32m    491\u001b[0m \u001b[1;33m\u001b[0m\u001b[0m\n",
      "\u001b[1;32m~\\Anaconda2\\envs\\py36\\lib\\site-packages\\pandas\\core\\indexes\\base.py\u001b[0m in \u001b[0;36m_ensure_index\u001b[1;34m(index_like, copy)\u001b[0m\n\u001b[0;32m   4955\u001b[0m             \u001b[0mindex_like\u001b[0m \u001b[1;33m=\u001b[0m \u001b[0mcopy\u001b[0m\u001b[1;33m(\u001b[0m\u001b[0mindex_like\u001b[0m\u001b[1;33m)\u001b[0m\u001b[1;33m\u001b[0m\u001b[0m\n\u001b[0;32m   4956\u001b[0m \u001b[1;33m\u001b[0m\u001b[0m\n\u001b[1;32m-> 4957\u001b[1;33m     \u001b[1;32mreturn\u001b[0m \u001b[0mIndex\u001b[0m\u001b[1;33m(\u001b[0m\u001b[0mindex_like\u001b[0m\u001b[1;33m)\u001b[0m\u001b[1;33m\u001b[0m\u001b[0m\n\u001b[0m\u001b[0;32m   4958\u001b[0m \u001b[1;33m\u001b[0m\u001b[0m\n\u001b[0;32m   4959\u001b[0m \u001b[1;33m\u001b[0m\u001b[0m\n",
      "\u001b[1;32m~\\Anaconda2\\envs\\py36\\lib\\site-packages\\pandas\\core\\indexes\\base.py\u001b[0m in \u001b[0;36m__new__\u001b[1;34m(cls, data, dtype, copy, name, fastpath, tupleize_cols, **kwargs)\u001b[0m\n\u001b[0;32m    423\u001b[0m                          **kwargs)\n\u001b[0;32m    424\u001b[0m         \u001b[1;32melif\u001b[0m \u001b[0mdata\u001b[0m \u001b[1;32mis\u001b[0m \u001b[1;32mNone\u001b[0m \u001b[1;32mor\u001b[0m \u001b[0mis_scalar\u001b[0m\u001b[1;33m(\u001b[0m\u001b[0mdata\u001b[0m\u001b[1;33m)\u001b[0m\u001b[1;33m:\u001b[0m\u001b[1;33m\u001b[0m\u001b[0m\n\u001b[1;32m--> 425\u001b[1;33m             \u001b[0mcls\u001b[0m\u001b[1;33m.\u001b[0m\u001b[0m_scalar_data_error\u001b[0m\u001b[1;33m(\u001b[0m\u001b[0mdata\u001b[0m\u001b[1;33m)\u001b[0m\u001b[1;33m\u001b[0m\u001b[0m\n\u001b[0m\u001b[0;32m    426\u001b[0m         \u001b[1;32melse\u001b[0m\u001b[1;33m:\u001b[0m\u001b[1;33m\u001b[0m\u001b[0m\n\u001b[0;32m    427\u001b[0m             \u001b[1;32mif\u001b[0m \u001b[0mtupleize_cols\u001b[0m \u001b[1;32mand\u001b[0m \u001b[0mis_list_like\u001b[0m\u001b[1;33m(\u001b[0m\u001b[0mdata\u001b[0m\u001b[1;33m)\u001b[0m \u001b[1;32mand\u001b[0m \u001b[0mdata\u001b[0m\u001b[1;33m:\u001b[0m\u001b[1;33m\u001b[0m\u001b[0m\n",
      "\u001b[1;32m~\\Anaconda2\\envs\\py36\\lib\\site-packages\\pandas\\core\\indexes\\base.py\u001b[0m in \u001b[0;36m_scalar_data_error\u001b[1;34m(cls, data)\u001b[0m\n\u001b[0;32m    881\u001b[0m         raise TypeError('{0}(...) must be called with a collection of some '\n\u001b[0;32m    882\u001b[0m                         'kind, {1} was passed'.format(cls.__name__,\n\u001b[1;32m--> 883\u001b[1;33m                                                       repr(data)))\n\u001b[0m\u001b[0;32m    884\u001b[0m \u001b[1;33m\u001b[0m\u001b[0m\n\u001b[0;32m    885\u001b[0m     \u001b[1;33m@\u001b[0m\u001b[0mclassmethod\u001b[0m\u001b[1;33m\u001b[0m\u001b[0m\n",
      "\u001b[1;31mTypeError\u001b[0m: Index(...) must be called with a collection of some kind, 'user_id' was passed"
     ]
    }
   ],
   "source": [
    "pd.DataFrame([i],columns='user_id')"
   ]
  },
  {
   "cell_type": "code",
   "execution_count": 65,
   "metadata": {},
   "outputs": [
    {
     "data": {
      "text/html": [
       "<div>\n",
       "<style scoped>\n",
       "    .dataframe tbody tr th:only-of-type {\n",
       "        vertical-align: middle;\n",
       "    }\n",
       "\n",
       "    .dataframe tbody tr th {\n",
       "        vertical-align: top;\n",
       "    }\n",
       "\n",
       "    .dataframe thead th {\n",
       "        text-align: right;\n",
       "    }\n",
       "</style>\n",
       "<table border=\"1\" class=\"dataframe\">\n",
       "  <thead>\n",
       "    <tr style=\"text-align: right;\">\n",
       "      <th></th>\n",
       "      <th>item_id</th>\n",
       "      <th>unknown</th>\n",
       "      <th>Action</th>\n",
       "      <th>Adventure</th>\n",
       "      <th>Animation</th>\n",
       "      <th>Children's</th>\n",
       "      <th>Comedy</th>\n",
       "      <th>Crime</th>\n",
       "      <th>Documentary</th>\n",
       "      <th>Drama</th>\n",
       "      <th>Fantasy</th>\n",
       "      <th>Film-Noir</th>\n",
       "      <th>Horror</th>\n",
       "      <th>Musical</th>\n",
       "      <th>Mystery</th>\n",
       "      <th>Romance</th>\n",
       "      <th>Sci-Fi</th>\n",
       "      <th>Thriller</th>\n",
       "      <th>War</th>\n",
       "      <th>Western</th>\n",
       "    </tr>\n",
       "  </thead>\n",
       "  <tbody>\n",
       "    <tr>\n",
       "      <th>272</th>\n",
       "      <td>272</td>\n",
       "      <td>0</td>\n",
       "      <td>1</td>\n",
       "      <td>0</td>\n",
       "      <td>0</td>\n",
       "      <td>0</td>\n",
       "      <td>0</td>\n",
       "      <td>1</td>\n",
       "      <td>0</td>\n",
       "      <td>0</td>\n",
       "      <td>0</td>\n",
       "      <td>0</td>\n",
       "      <td>0</td>\n",
       "      <td>0</td>\n",
       "      <td>0</td>\n",
       "      <td>0</td>\n",
       "      <td>0</td>\n",
       "      <td>1</td>\n",
       "      <td>0</td>\n",
       "      <td>0</td>\n",
       "    </tr>\n",
       "  </tbody>\n",
       "</table>\n",
       "</div>"
      ],
      "text/plain": [
       "     item_id   unknown    Action    Adventure    Animation    Children's   \\\n",
       "272      272          0         1            0            0             0   \n",
       "\n",
       "      Comedy    Crime    Documentary    Drama    Fantasy    Film-Noir   \\\n",
       "272         0        1              0        0          0            0   \n",
       "\n",
       "      Horror    Musical    Mystery    Romance    Sci-Fi    Thriller    War   \\\n",
       "272         0          0          0          0         0           1      0   \n",
       "\n",
       "      Western  \n",
       "272         0  "
      ]
     },
     "execution_count": 65,
     "metadata": {},
     "output_type": "execute_result"
    }
   ],
   "source": [
    "df_item.iloc[272:273,-19:]"
   ]
  },
  {
   "cell_type": "code",
   "execution_count": 44,
   "metadata": {},
   "outputs": [
    {
     "data": {
      "text/plain": [
       "272"
      ]
     },
     "execution_count": 44,
     "metadata": {},
     "output_type": "execute_result"
    }
   ],
   "source": [
    "j"
   ]
  },
  {
   "cell_type": "code",
   "execution_count": 50,
   "metadata": {},
   "outputs": [
    {
     "data": {
      "text/plain": [
       "942"
      ]
     },
     "execution_count": 50,
     "metadata": {},
     "output_type": "execute_result"
    }
   ],
   "source": [
    "max(dataset.user_id)"
   ]
  },
  {
   "cell_type": "code",
   "execution_count": 71,
   "metadata": {},
   "outputs": [],
   "source": [
    "user = pd.DataFrame({'user_id': [i]})"
   ]
  },
  {
   "cell_type": "code",
   "execution_count": null,
   "metadata": {},
   "outputs": [],
   "source": [
    "user.user_id.astype('cat')"
   ]
  }
 ],
 "metadata": {
  "kernelspec": {
   "display_name": "Python 3",
   "language": "python",
   "name": "python3"
  },
  "language_info": {
   "codemirror_mode": {
    "name": "ipython",
    "version": 3
   },
   "file_extension": ".py",
   "mimetype": "text/x-python",
   "name": "python",
   "nbconvert_exporter": "python",
   "pygments_lexer": "ipython3",
   "version": "3.6.5"
  }
 },
 "nbformat": 4,
 "nbformat_minor": 2
}
