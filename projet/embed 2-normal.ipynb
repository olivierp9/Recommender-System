{
 "cells": [
  {
   "cell_type": "code",
   "execution_count": 1,
   "metadata": {},
   "outputs": [],
   "source": [
    "import pandas as pd\n",
    "import numpy as np\n",
    "import matplotlib.pyplot as plt\n",
    "import warnings\n",
    "warnings.filterwarnings('ignore')\n",
    "\n",
    "%matplotlib inline"
   ]
  },
  {
   "cell_type": "code",
   "execution_count": 2,
   "metadata": {},
   "outputs": [],
   "source": [
    "dataset = pd.read_csv(\"u.data.csv\",sep='|',names=\"user_id,item_id,rating,timestamp\".split(\",\"))\n",
    "dataset=dataset.drop('timestamp',axis=1)\n",
    "\n",
    "dataset = dataset.iloc[1:,:]\n"
   ]
  },
  {
   "cell_type": "code",
   "execution_count": 54,
   "metadata": {},
   "outputs": [
    {
     "data": {
      "text/html": [
       "<div>\n",
       "<style scoped>\n",
       "    .dataframe tbody tr th:only-of-type {\n",
       "        vertical-align: middle;\n",
       "    }\n",
       "\n",
       "    .dataframe tbody tr th {\n",
       "        vertical-align: top;\n",
       "    }\n",
       "\n",
       "    .dataframe thead th {\n",
       "        text-align: right;\n",
       "    }\n",
       "</style>\n",
       "<table border=\"1\" class=\"dataframe\">\n",
       "  <thead>\n",
       "    <tr style=\"text-align: right;\">\n",
       "      <th></th>\n",
       "      <th>user_id</th>\n",
       "      <th>item_id</th>\n",
       "      <th>rating</th>\n",
       "    </tr>\n",
       "  </thead>\n",
       "  <tbody>\n",
       "    <tr>\n",
       "      <th>1</th>\n",
       "      <td>196</td>\n",
       "      <td>242</td>\n",
       "      <td>3</td>\n",
       "    </tr>\n",
       "    <tr>\n",
       "      <th>2</th>\n",
       "      <td>186</td>\n",
       "      <td>302</td>\n",
       "      <td>3</td>\n",
       "    </tr>\n",
       "    <tr>\n",
       "      <th>3</th>\n",
       "      <td>22</td>\n",
       "      <td>377</td>\n",
       "      <td>1</td>\n",
       "    </tr>\n",
       "    <tr>\n",
       "      <th>4</th>\n",
       "      <td>244</td>\n",
       "      <td>51</td>\n",
       "      <td>2</td>\n",
       "    </tr>\n",
       "    <tr>\n",
       "      <th>5</th>\n",
       "      <td>166</td>\n",
       "      <td>346</td>\n",
       "      <td>1</td>\n",
       "    </tr>\n",
       "  </tbody>\n",
       "</table>\n",
       "</div>"
      ],
      "text/plain": [
       "  user_id item_id rating\n",
       "1     196     242      3\n",
       "2     186     302      3\n",
       "3      22     377      1\n",
       "4     244      51      2\n",
       "5     166     346      1"
      ]
     },
     "execution_count": 54,
     "metadata": {},
     "output_type": "execute_result"
    }
   ],
   "source": [
    "dataset.head()"
   ]
  },
  {
   "cell_type": "code",
   "execution_count": 4,
   "metadata": {},
   "outputs": [
    {
     "data": {
      "text/plain": [
       "array([452, 131,  90, ...,   1,   1,   1])"
      ]
     },
     "execution_count": 4,
     "metadata": {},
     "output_type": "execute_result"
    }
   ],
   "source": [
    "sum(m>0)"
   ]
  },
  {
   "cell_type": "code",
   "execution_count": 3,
   "metadata": {},
   "outputs": [],
   "source": [
    "m = np.zeros((943,1682),dtype=np.int8)\n",
    "for i in range(len(dataset)):\n",
    "    m[int(dataset.iloc[i,0])-1,int(dataset.iloc[i,1])-1]=int(dataset.iloc[i,2])"
   ]
  },
  {
   "cell_type": "code",
   "execution_count": 57,
   "metadata": {},
   "outputs": [],
   "source": [
    "dataset.user_id = dataset.user_id.astype('category').cat.codes.values\n",
    "dataset.item_id = dataset.item_id.astype('category').cat.codes.values"
   ]
  },
  {
   "cell_type": "code",
   "execution_count": 58,
   "metadata": {},
   "outputs": [
    {
     "data": {
      "text/html": [
       "<div>\n",
       "<style scoped>\n",
       "    .dataframe tbody tr th:only-of-type {\n",
       "        vertical-align: middle;\n",
       "    }\n",
       "\n",
       "    .dataframe tbody tr th {\n",
       "        vertical-align: top;\n",
       "    }\n",
       "\n",
       "    .dataframe thead th {\n",
       "        text-align: right;\n",
       "    }\n",
       "</style>\n",
       "<table border=\"1\" class=\"dataframe\">\n",
       "  <thead>\n",
       "    <tr style=\"text-align: right;\">\n",
       "      <th></th>\n",
       "      <th>user_id</th>\n",
       "      <th>item_id</th>\n",
       "      <th>rating</th>\n",
       "    </tr>\n",
       "  </thead>\n",
       "  <tbody>\n",
       "    <tr>\n",
       "      <th>1</th>\n",
       "      <td>107</td>\n",
       "      <td>842</td>\n",
       "      <td>3</td>\n",
       "    </tr>\n",
       "    <tr>\n",
       "      <th>2</th>\n",
       "      <td>96</td>\n",
       "      <td>909</td>\n",
       "      <td>3</td>\n",
       "    </tr>\n",
       "    <tr>\n",
       "      <th>3</th>\n",
       "      <td>134</td>\n",
       "      <td>991</td>\n",
       "      <td>1</td>\n",
       "    </tr>\n",
       "    <tr>\n",
       "      <th>4</th>\n",
       "      <td>161</td>\n",
       "      <td>1139</td>\n",
       "      <td>2</td>\n",
       "    </tr>\n",
       "    <tr>\n",
       "      <th>5</th>\n",
       "      <td>74</td>\n",
       "      <td>957</td>\n",
       "      <td>1</td>\n",
       "    </tr>\n",
       "  </tbody>\n",
       "</table>\n",
       "</div>"
      ],
      "text/plain": [
       "   user_id  item_id rating\n",
       "1      107      842      3\n",
       "2       96      909      3\n",
       "3      134      991      1\n",
       "4      161     1139      2\n",
       "5       74      957      1"
      ]
     },
     "execution_count": 58,
     "metadata": {},
     "output_type": "execute_result"
    }
   ],
   "source": [
    "dataset.head()"
   ]
  },
  {
   "cell_type": "code",
   "execution_count": 59,
   "metadata": {},
   "outputs": [
    {
     "data": {
      "text/plain": [
       "(943, 1682)"
      ]
     },
     "execution_count": 59,
     "metadata": {},
     "output_type": "execute_result"
    }
   ],
   "source": [
    "len(dataset.user_id.unique()), len(dataset.item_id.unique())\n"
   ]
  },
  {
   "cell_type": "code",
   "execution_count": 60,
   "metadata": {},
   "outputs": [],
   "source": [
    "dataset = dataset.dropna(axis=0, how='any', thresh=None, subset=None, inplace=False)"
   ]
  },
  {
   "cell_type": "code",
   "execution_count": null,
   "metadata": {},
   "outputs": [],
   "source": []
  },
  {
   "cell_type": "code",
   "execution_count": 61,
   "metadata": {},
   "outputs": [
    {
     "data": {
      "text/plain": [
       "user_id    False\n",
       "item_id    False\n",
       "rating     False\n",
       "dtype: bool"
      ]
     },
     "execution_count": 61,
     "metadata": {},
     "output_type": "execute_result"
    }
   ],
   "source": [
    "dataset.isnull().any()"
   ]
  },
  {
   "cell_type": "code",
   "execution_count": 62,
   "metadata": {},
   "outputs": [],
   "source": [
    "from sklearn.model_selection import train_test_split\n",
    "train, test = train_test_split(dataset, test_size=0.2)"
   ]
  },
  {
   "cell_type": "code",
   "execution_count": 63,
   "metadata": {},
   "outputs": [
    {
     "data": {
      "text/plain": [
       "80000"
      ]
     },
     "execution_count": 63,
     "metadata": {},
     "output_type": "execute_result"
    }
   ],
   "source": [
    "len(train)"
   ]
  },
  {
   "cell_type": "code",
   "execution_count": 11,
   "metadata": {},
   "outputs": [
    {
     "name": "stderr",
     "output_type": "stream",
     "text": [
      "Using TensorFlow backend.\n"
     ]
    }
   ],
   "source": [
    "import keras\n",
    "from IPython.display import SVG\n",
    "from keras.optimizers import Adam\n",
    "from keras.utils.vis_utils import model_to_dot\n",
    "from keras import regularizers\n",
    "\n",
    "n_users, n_movies = len(dataset.user_id.unique()), len(dataset.item_id.unique())\n",
    "n_latent_factors = 3"
   ]
  },
  {
   "cell_type": "code",
   "execution_count": 12,
   "metadata": {},
   "outputs": [
    {
     "name": "stdout",
     "output_type": "stream",
     "text": [
      "WARNING:tensorflow:From C:\\Users\\happy\\Anaconda2\\envs\\py36\\lib\\site-packages\\keras\\backend\\tensorflow_backend.py:1264: calling reduce_prod (from tensorflow.python.ops.math_ops) with keep_dims is deprecated and will be removed in a future version.\n",
      "Instructions for updating:\n",
      "keep_dims is deprecated, use keepdims instead\n",
      "WARNING:tensorflow:From C:\\Users\\happy\\Anaconda2\\envs\\py36\\lib\\site-packages\\keras\\backend\\tensorflow_backend.py:1349: calling reduce_mean (from tensorflow.python.ops.math_ops) with keep_dims is deprecated and will be removed in a future version.\n",
      "Instructions for updating:\n",
      "keep_dims is deprecated, use keepdims instead\n"
     ]
    }
   ],
   "source": [
    "movie_input = keras.layers.Input(shape=[1],name='Item')\n",
    "movie_embedding = keras.layers.Embedding(n_movies + 1, 3, name='Movie-Embedding')(movie_input)\n",
    "movie_vec = keras.layers.Flatten(name='FlattenMovies')(movie_embedding)\n",
    "\n",
    "user_input = keras.layers.Input(shape=[1],name='User')\n",
    "user_vec = keras.layers.Flatten(name='FlattenUsers')(keras.layers.Embedding(n_users + 1, 3,name='User-Embedding')(user_input))\n",
    "\n",
    "\n",
    "result = keras.layers.merge([movie_vec, user_vec], mode='dot',name='dot')\n",
    "\n",
    "\n",
    "model = keras.Model([user_input, movie_input], result)\n",
    "\n",
    "model.compile(optimizer='adam',loss= 'mean_squared_error')"
   ]
  },
  {
   "cell_type": "code",
   "execution_count": 13,
   "metadata": {},
   "outputs": [],
   "source": [
    "import graphviz"
   ]
  },
  {
   "cell_type": "code",
   "execution_count": null,
   "metadata": {},
   "outputs": [],
   "source": []
  },
  {
   "cell_type": "code",
   "execution_count": 15,
   "metadata": {},
   "outputs": [
    {
     "data": {
      "image/svg+xml": [
       "<svg height=\"304pt\" viewBox=\"0.00 0.00 679.50 304.00\" width=\"680pt\" xmlns=\"http://www.w3.org/2000/svg\" xmlns:xlink=\"http://www.w3.org/1999/xlink\">\n",
       "<g class=\"graph\" id=\"graph0\" transform=\"scale(1 1) rotate(0) translate(4 300)\">\n",
       "<title>G</title>\n",
       "<polygon fill=\"white\" points=\"-4,4 -4,-300 675.5,-300 675.5,4 -4,4\" stroke=\"none\"/>\n",
       "<!-- 2211237285000 -->\n",
       "<g class=\"node\" id=\"node1\"><title>2211237285000</title>\n",
       "<polygon fill=\"none\" points=\"48,-249.5 48,-295.5 283,-295.5 283,-249.5 48,-249.5\" stroke=\"black\"/>\n",
       "<text font-family=\"Times New Roman,serif\" font-size=\"14.00\" text-anchor=\"middle\" x=\"102.5\" y=\"-268.8\">Item: InputLayer</text>\n",
       "<polyline fill=\"none\" points=\"157,-249.5 157,-295.5 \" stroke=\"black\"/>\n",
       "<text font-family=\"Times New Roman,serif\" font-size=\"14.00\" text-anchor=\"middle\" x=\"185\" y=\"-280.3\">input:</text>\n",
       "<polyline fill=\"none\" points=\"157,-272.5 213,-272.5 \" stroke=\"black\"/>\n",
       "<text font-family=\"Times New Roman,serif\" font-size=\"14.00\" text-anchor=\"middle\" x=\"185\" y=\"-257.3\">output:</text>\n",
       "<polyline fill=\"none\" points=\"213,-249.5 213,-295.5 \" stroke=\"black\"/>\n",
       "<text font-family=\"Times New Roman,serif\" font-size=\"14.00\" text-anchor=\"middle\" x=\"248\" y=\"-280.3\">(None, 1)</text>\n",
       "<polyline fill=\"none\" points=\"213,-272.5 283,-272.5 \" stroke=\"black\"/>\n",
       "<text font-family=\"Times New Roman,serif\" font-size=\"14.00\" text-anchor=\"middle\" x=\"248\" y=\"-257.3\">(None, 1)</text>\n",
       "</g>\n",
       "<!-- 2211237285112 -->\n",
       "<g class=\"node\" id=\"node3\"><title>2211237285112</title>\n",
       "<polygon fill=\"none\" points=\"0,-166.5 0,-212.5 331,-212.5 331,-166.5 0,-166.5\" stroke=\"black\"/>\n",
       "<text font-family=\"Times New Roman,serif\" font-size=\"14.00\" text-anchor=\"middle\" x=\"95.5\" y=\"-185.8\">Movie-Embedding: Embedding</text>\n",
       "<polyline fill=\"none\" points=\"191,-166.5 191,-212.5 \" stroke=\"black\"/>\n",
       "<text font-family=\"Times New Roman,serif\" font-size=\"14.00\" text-anchor=\"middle\" x=\"219\" y=\"-197.3\">input:</text>\n",
       "<polyline fill=\"none\" points=\"191,-189.5 247,-189.5 \" stroke=\"black\"/>\n",
       "<text font-family=\"Times New Roman,serif\" font-size=\"14.00\" text-anchor=\"middle\" x=\"219\" y=\"-174.3\">output:</text>\n",
       "<polyline fill=\"none\" points=\"247,-166.5 247,-212.5 \" stroke=\"black\"/>\n",
       "<text font-family=\"Times New Roman,serif\" font-size=\"14.00\" text-anchor=\"middle\" x=\"289\" y=\"-197.3\">(None, 1)</text>\n",
       "<polyline fill=\"none\" points=\"247,-189.5 331,-189.5 \" stroke=\"black\"/>\n",
       "<text font-family=\"Times New Roman,serif\" font-size=\"14.00\" text-anchor=\"middle\" x=\"289\" y=\"-174.3\">(None, 1, 3)</text>\n",
       "</g>\n",
       "<!-- 2211237285000&#45;&gt;2211237285112 -->\n",
       "<g class=\"edge\" id=\"edge1\"><title>2211237285000-&gt;2211237285112</title>\n",
       "<path d=\"M165.5,-249.366C165.5,-241.152 165.5,-231.658 165.5,-222.725\" fill=\"none\" stroke=\"black\"/>\n",
       "<polygon fill=\"black\" points=\"169,-222.607 165.5,-212.607 162,-222.607 169,-222.607\" stroke=\"black\"/>\n",
       "</g>\n",
       "<!-- 2211237285560 -->\n",
       "<g class=\"node\" id=\"node2\"><title>2211237285560</title>\n",
       "<polygon fill=\"none\" points=\"392.5,-249.5 392.5,-295.5 628.5,-295.5 628.5,-249.5 392.5,-249.5\" stroke=\"black\"/>\n",
       "<text font-family=\"Times New Roman,serif\" font-size=\"14.00\" text-anchor=\"middle\" x=\"447.5\" y=\"-268.8\">User: InputLayer</text>\n",
       "<polyline fill=\"none\" points=\"502.5,-249.5 502.5,-295.5 \" stroke=\"black\"/>\n",
       "<text font-family=\"Times New Roman,serif\" font-size=\"14.00\" text-anchor=\"middle\" x=\"530.5\" y=\"-280.3\">input:</text>\n",
       "<polyline fill=\"none\" points=\"502.5,-272.5 558.5,-272.5 \" stroke=\"black\"/>\n",
       "<text font-family=\"Times New Roman,serif\" font-size=\"14.00\" text-anchor=\"middle\" x=\"530.5\" y=\"-257.3\">output:</text>\n",
       "<polyline fill=\"none\" points=\"558.5,-249.5 558.5,-295.5 \" stroke=\"black\"/>\n",
       "<text font-family=\"Times New Roman,serif\" font-size=\"14.00\" text-anchor=\"middle\" x=\"593.5\" y=\"-280.3\">(None, 1)</text>\n",
       "<polyline fill=\"none\" points=\"558.5,-272.5 628.5,-272.5 \" stroke=\"black\"/>\n",
       "<text font-family=\"Times New Roman,serif\" font-size=\"14.00\" text-anchor=\"middle\" x=\"593.5\" y=\"-257.3\">(None, 1)</text>\n",
       "</g>\n",
       "<!-- 2211237315248 -->\n",
       "<g class=\"node\" id=\"node4\"><title>2211237315248</title>\n",
       "<polygon fill=\"none\" points=\"349.5,-166.5 349.5,-212.5 671.5,-212.5 671.5,-166.5 349.5,-166.5\" stroke=\"black\"/>\n",
       "<text font-family=\"Times New Roman,serif\" font-size=\"14.00\" text-anchor=\"middle\" x=\"440.5\" y=\"-185.8\">User-Embedding: Embedding</text>\n",
       "<polyline fill=\"none\" points=\"531.5,-166.5 531.5,-212.5 \" stroke=\"black\"/>\n",
       "<text font-family=\"Times New Roman,serif\" font-size=\"14.00\" text-anchor=\"middle\" x=\"559.5\" y=\"-197.3\">input:</text>\n",
       "<polyline fill=\"none\" points=\"531.5,-189.5 587.5,-189.5 \" stroke=\"black\"/>\n",
       "<text font-family=\"Times New Roman,serif\" font-size=\"14.00\" text-anchor=\"middle\" x=\"559.5\" y=\"-174.3\">output:</text>\n",
       "<polyline fill=\"none\" points=\"587.5,-166.5 587.5,-212.5 \" stroke=\"black\"/>\n",
       "<text font-family=\"Times New Roman,serif\" font-size=\"14.00\" text-anchor=\"middle\" x=\"629.5\" y=\"-197.3\">(None, 1)</text>\n",
       "<polyline fill=\"none\" points=\"587.5,-189.5 671.5,-189.5 \" stroke=\"black\"/>\n",
       "<text font-family=\"Times New Roman,serif\" font-size=\"14.00\" text-anchor=\"middle\" x=\"629.5\" y=\"-174.3\">(None, 1, 3)</text>\n",
       "</g>\n",
       "<!-- 2211237285560&#45;&gt;2211237315248 -->\n",
       "<g class=\"edge\" id=\"edge2\"><title>2211237285560-&gt;2211237315248</title>\n",
       "<path d=\"M510.5,-249.366C510.5,-241.152 510.5,-231.658 510.5,-222.725\" fill=\"none\" stroke=\"black\"/>\n",
       "<polygon fill=\"black\" points=\"514,-222.607 510.5,-212.607 507,-222.607 514,-222.607\" stroke=\"black\"/>\n",
       "</g>\n",
       "<!-- 2211237285672 -->\n",
       "<g class=\"node\" id=\"node5\"><title>2211237285672</title>\n",
       "<polygon fill=\"none\" points=\"50.5,-83.5 50.5,-129.5 330.5,-129.5 330.5,-83.5 50.5,-83.5\" stroke=\"black\"/>\n",
       "<text font-family=\"Times New Roman,serif\" font-size=\"14.00\" text-anchor=\"middle\" x=\"120.5\" y=\"-102.8\">FlattenMovies: Flatten</text>\n",
       "<polyline fill=\"none\" points=\"190.5,-83.5 190.5,-129.5 \" stroke=\"black\"/>\n",
       "<text font-family=\"Times New Roman,serif\" font-size=\"14.00\" text-anchor=\"middle\" x=\"218.5\" y=\"-114.3\">input:</text>\n",
       "<polyline fill=\"none\" points=\"190.5,-106.5 246.5,-106.5 \" stroke=\"black\"/>\n",
       "<text font-family=\"Times New Roman,serif\" font-size=\"14.00\" text-anchor=\"middle\" x=\"218.5\" y=\"-91.3\">output:</text>\n",
       "<polyline fill=\"none\" points=\"246.5,-83.5 246.5,-129.5 \" stroke=\"black\"/>\n",
       "<text font-family=\"Times New Roman,serif\" font-size=\"14.00\" text-anchor=\"middle\" x=\"288.5\" y=\"-114.3\">(None, 1, 3)</text>\n",
       "<polyline fill=\"none\" points=\"246.5,-106.5 330.5,-106.5 \" stroke=\"black\"/>\n",
       "<text font-family=\"Times New Roman,serif\" font-size=\"14.00\" text-anchor=\"middle\" x=\"288.5\" y=\"-91.3\">(None, 3)</text>\n",
       "</g>\n",
       "<!-- 2211237285112&#45;&gt;2211237285672 -->\n",
       "<g class=\"edge\" id=\"edge3\"><title>2211237285112-&gt;2211237285672</title>\n",
       "<path d=\"M172.331,-166.366C174.894,-158.062 177.861,-148.451 180.644,-139.434\" fill=\"none\" stroke=\"black\"/>\n",
       "<polygon fill=\"black\" points=\"184.072,-140.194 183.677,-129.607 177.383,-138.13 184.072,-140.194\" stroke=\"black\"/>\n",
       "</g>\n",
       "<!-- 2211237285840 -->\n",
       "<g class=\"node\" id=\"node6\"><title>2211237285840</title>\n",
       "<polygon fill=\"none\" points=\"362,-83.5 362,-129.5 633,-129.5 633,-83.5 362,-83.5\" stroke=\"black\"/>\n",
       "<text font-family=\"Times New Roman,serif\" font-size=\"14.00\" text-anchor=\"middle\" x=\"427.5\" y=\"-102.8\">FlattenUsers: Flatten</text>\n",
       "<polyline fill=\"none\" points=\"493,-83.5 493,-129.5 \" stroke=\"black\"/>\n",
       "<text font-family=\"Times New Roman,serif\" font-size=\"14.00\" text-anchor=\"middle\" x=\"521\" y=\"-114.3\">input:</text>\n",
       "<polyline fill=\"none\" points=\"493,-106.5 549,-106.5 \" stroke=\"black\"/>\n",
       "<text font-family=\"Times New Roman,serif\" font-size=\"14.00\" text-anchor=\"middle\" x=\"521\" y=\"-91.3\">output:</text>\n",
       "<polyline fill=\"none\" points=\"549,-83.5 549,-129.5 \" stroke=\"black\"/>\n",
       "<text font-family=\"Times New Roman,serif\" font-size=\"14.00\" text-anchor=\"middle\" x=\"591\" y=\"-114.3\">(None, 1, 3)</text>\n",
       "<polyline fill=\"none\" points=\"549,-106.5 633,-106.5 \" stroke=\"black\"/>\n",
       "<text font-family=\"Times New Roman,serif\" font-size=\"14.00\" text-anchor=\"middle\" x=\"591\" y=\"-91.3\">(None, 3)</text>\n",
       "</g>\n",
       "<!-- 2211237315248&#45;&gt;2211237285840 -->\n",
       "<g class=\"edge\" id=\"edge4\"><title>2211237315248-&gt;2211237285840</title>\n",
       "<path d=\"M506.948,-166.366C505.629,-158.152 504.106,-148.658 502.672,-139.725\" fill=\"none\" stroke=\"black\"/>\n",
       "<polygon fill=\"black\" points=\"506.089,-138.926 501.048,-129.607 499.177,-140.035 506.089,-138.926\" stroke=\"black\"/>\n",
       "</g>\n",
       "<!-- 2211237318552 -->\n",
       "<g class=\"node\" id=\"node7\"><title>2211237318552</title>\n",
       "<polygon fill=\"none\" points=\"207,-0.5 207,-46.5 480,-46.5 480,-0.5 207,-0.5\" stroke=\"black\"/>\n",
       "<text font-family=\"Times New Roman,serif\" font-size=\"14.00\" text-anchor=\"middle\" x=\"245.5\" y=\"-19.8\">dot: Merge</text>\n",
       "<polyline fill=\"none\" points=\"284,-0.5 284,-46.5 \" stroke=\"black\"/>\n",
       "<text font-family=\"Times New Roman,serif\" font-size=\"14.00\" text-anchor=\"middle\" x=\"312\" y=\"-31.3\">input:</text>\n",
       "<polyline fill=\"none\" points=\"284,-23.5 340,-23.5 \" stroke=\"black\"/>\n",
       "<text font-family=\"Times New Roman,serif\" font-size=\"14.00\" text-anchor=\"middle\" x=\"312\" y=\"-8.3\">output:</text>\n",
       "<polyline fill=\"none\" points=\"340,-0.5 340,-46.5 \" stroke=\"black\"/>\n",
       "<text font-family=\"Times New Roman,serif\" font-size=\"14.00\" text-anchor=\"middle\" x=\"410\" y=\"-31.3\">[(None, 3), (None, 3)]</text>\n",
       "<polyline fill=\"none\" points=\"340,-23.5 480,-23.5 \" stroke=\"black\"/>\n",
       "<text font-family=\"Times New Roman,serif\" font-size=\"14.00\" text-anchor=\"middle\" x=\"410\" y=\"-8.3\">(None, 1)</text>\n",
       "</g>\n",
       "<!-- 2211237285672&#45;&gt;2211237318552 -->\n",
       "<g class=\"edge\" id=\"edge5\"><title>2211237285672-&gt;2211237318552</title>\n",
       "<path d=\"M232.308,-83.3664C250.945,-73.4998 273.067,-61.7881 292.652,-51.4194\" fill=\"none\" stroke=\"black\"/>\n",
       "<polygon fill=\"black\" points=\"294.542,-54.379 301.743,-46.6068 291.267,-48.1925 294.542,-54.379\" stroke=\"black\"/>\n",
       "</g>\n",
       "<!-- 2211237285840&#45;&gt;2211237318552 -->\n",
       "<g class=\"edge\" id=\"edge6\"><title>2211237285840-&gt;2211237318552</title>\n",
       "<path d=\"M455.419,-83.3664C436.575,-73.4551 414.192,-61.682 394.413,-51.2787\" fill=\"none\" stroke=\"black\"/>\n",
       "<polygon fill=\"black\" points=\"396.01,-48.1643 385.53,-46.6068 392.751,-54.3596 396.01,-48.1643\" stroke=\"black\"/>\n",
       "</g>\n",
       "</g>\n",
       "</svg>"
      ],
      "text/plain": [
       "<IPython.core.display.SVG object>"
      ]
     },
     "execution_count": 15,
     "metadata": {},
     "output_type": "execute_result"
    }
   ],
   "source": [
    "from keras.utils.vis_utils import plot_model\n",
    "from IPython.display import SVG\n",
    "SVG(model_to_dot(model,  show_shapes=True, show_layer_names=True, rankdir='HB').create(prog='dot', format='svg'))"
   ]
  },
  {
   "cell_type": "code",
   "execution_count": 16,
   "metadata": {},
   "outputs": [],
   "source": [
    "#import tensorflow as tf\n",
    "#gpu_options = tf.GPUOptions(per_process_gpu_memory_fraction=0.9)\n",
    "\n",
    "#tf.Session(config=tf.ConfigProto(gpu_options=gpu_options,allow_soft_placement=True))"
   ]
  },
  {
   "cell_type": "code",
   "execution_count": 17,
   "metadata": {},
   "outputs": [
    {
     "name": "stdout",
     "output_type": "stream",
     "text": [
      "Epoch 1/100\n",
      "79487/79487 [==============================] - 13s 161us/step - loss: 12.1744\n",
      "Epoch 2/100\n",
      "79487/79487 [==============================] - 9s 113us/step - loss: 4.6896\n",
      "Epoch 3/100\n",
      "79487/79487 [==============================] - 9s 113us/step - loss: 1.9704\n",
      "Epoch 4/100\n",
      "79487/79487 [==============================] - 9s 113us/step - loss: 1.3299\n",
      "Epoch 5/100\n",
      "79487/79487 [==============================] - 9s 113us/step - loss: 1.0935\n",
      "Epoch 6/100\n",
      "79487/79487 [==============================] - 9s 113us/step - loss: 0.9913\n",
      "Epoch 7/100\n",
      "79487/79487 [==============================] - 9s 112us/step - loss: 0.9423\n",
      "Epoch 8/100\n",
      "79487/79487 [==============================] - 9s 112us/step - loss: 0.9160\n",
      "Epoch 9/100\n",
      "79487/79487 [==============================] - 9s 112us/step - loss: 0.9015\n",
      "Epoch 10/100\n",
      "79487/79487 [==============================] - 9s 112us/step - loss: 0.8920\n",
      "Epoch 11/100\n",
      "79487/79487 [==============================] - 9s 113us/step - loss: 0.8855\n",
      "Epoch 12/100\n",
      "79487/79487 [==============================] - 9s 111us/step - loss: 0.8808\n",
      "Epoch 13/100\n",
      "79487/79487 [==============================] - 9s 113us/step - loss: 0.8770\n",
      "Epoch 14/100\n",
      "79487/79487 [==============================] - 9s 113us/step - loss: 0.8745\n",
      "Epoch 15/100\n",
      "79487/79487 [==============================] - 9s 111us/step - loss: 0.8723\n",
      "Epoch 16/100\n",
      "79487/79487 [==============================] - 9s 111us/step - loss: 0.8697\n",
      "Epoch 17/100\n",
      "79487/79487 [==============================] - 9s 110us/step - loss: 0.8684\n",
      "Epoch 18/100\n",
      "79487/79487 [==============================] - 9s 110us/step - loss: 0.8664\n",
      "Epoch 19/100\n",
      "79487/79487 [==============================] - 9s 111us/step - loss: 0.8650\n",
      "Epoch 20/100\n",
      "79487/79487 [==============================] - 9s 112us/step - loss: 0.8630\n",
      "Epoch 21/100\n",
      "79487/79487 [==============================] - 9s 111us/step - loss: 0.8612\n",
      "Epoch 22/100\n",
      "79487/79487 [==============================] - 9s 113us/step - loss: 0.8594\n",
      "Epoch 23/100\n",
      "79487/79487 [==============================] - 9s 110us/step - loss: 0.8574\n",
      "Epoch 24/100\n",
      "79487/79487 [==============================] - 9s 110us/step - loss: 0.8546\n",
      "Epoch 25/100\n",
      "79487/79487 [==============================] - 9s 111us/step - loss: 0.8520\n",
      "Epoch 26/100\n",
      "79487/79487 [==============================] - 9s 112us/step - loss: 0.8487\n",
      "Epoch 27/100\n",
      "79487/79487 [==============================] - 9s 112us/step - loss: 0.8450\n",
      "Epoch 28/100\n",
      "79487/79487 [==============================] - 9s 110us/step - loss: 0.8409\n",
      "Epoch 29/100\n",
      "79487/79487 [==============================] - 9s 114us/step - loss: 0.8363\n",
      "Epoch 30/100\n",
      "79487/79487 [==============================] - 9s 110us/step - loss: 0.8311\n",
      "Epoch 31/100\n",
      "79487/79487 [==============================] - 9s 109us/step - loss: 0.8255\n",
      "Epoch 32/100\n",
      "79487/79487 [==============================] - 9s 110us/step - loss: 0.8195\n",
      "Epoch 33/100\n",
      "79487/79487 [==============================] - 9s 110us/step - loss: 0.8138\n",
      "Epoch 34/100\n",
      "79487/79487 [==============================] - 9s 111us/step - loss: 0.8073\n",
      "Epoch 35/100\n",
      "79487/79487 [==============================] - 9s 114us/step - loss: 0.8014\n",
      "Epoch 36/100\n",
      "79487/79487 [==============================] - 9s 115us/step - loss: 0.7959\n",
      "Epoch 37/100\n",
      "79487/79487 [==============================] - 9s 116us/step - loss: 0.7902\n",
      "Epoch 38/100\n",
      "79487/79487 [==============================] - 9s 114us/step - loss: 0.7848\n",
      "Epoch 39/100\n",
      "79487/79487 [==============================] - 9s 114us/step - loss: 0.7805\n",
      "Epoch 40/100\n",
      "79487/79487 [==============================] - 9s 113us/step - loss: 0.7758\n",
      "Epoch 41/100\n",
      "79487/79487 [==============================] - 9s 114us/step - loss: 0.7721\n",
      "Epoch 42/100\n",
      "79487/79487 [==============================] - 9s 115us/step - loss: 0.7681 0s - loss: 0\n",
      "Epoch 43/100\n",
      "79487/79487 [==============================] - 9s 110us/step - loss: 0.7651\n",
      "Epoch 44/100\n",
      "79487/79487 [==============================] - 9s 114us/step - loss: 0.7620\n",
      "Epoch 45/100\n",
      "79487/79487 [==============================] - 9s 113us/step - loss: 0.7589\n",
      "Epoch 46/100\n",
      "79487/79487 [==============================] - 9s 111us/step - loss: 0.7563\n",
      "Epoch 47/100\n",
      "79487/79487 [==============================] - 9s 111us/step - loss: 0.7538\n",
      "Epoch 48/100\n",
      "79487/79487 [==============================] - 9s 112us/step - loss: 0.7517\n",
      "Epoch 49/100\n",
      "79487/79487 [==============================] - 9s 112us/step - loss: 0.7500\n",
      "Epoch 50/100\n",
      "79487/79487 [==============================] - 9s 111us/step - loss: 0.7478\n",
      "Epoch 51/100\n",
      "79487/79487 [==============================] - 9s 113us/step - loss: 0.7463\n",
      "Epoch 52/100\n",
      "79487/79487 [==============================] - 9s 112us/step - loss: 0.7444\n",
      "Epoch 53/100\n",
      "79487/79487 [==============================] - 9s 112us/step - loss: 0.7428\n",
      "Epoch 54/100\n",
      "79487/79487 [==============================] - 9s 112us/step - loss: 0.7414\n",
      "Epoch 55/100\n",
      "79487/79487 [==============================] - 9s 115us/step - loss: 0.7398\n",
      "Epoch 56/100\n",
      "79487/79487 [==============================] - 9s 109us/step - loss: 0.7389\n",
      "Epoch 57/100\n",
      "79487/79487 [==============================] - 9s 110us/step - loss: 0.7373\n",
      "Epoch 58/100\n",
      "79487/79487 [==============================] - 10s 130us/step - loss: 0.7366\n",
      "Epoch 59/100\n",
      "79487/79487 [==============================] - 9s 116us/step - loss: 0.7353\n",
      "Epoch 60/100\n",
      "79487/79487 [==============================] - 9s 116us/step - loss: 0.7342\n",
      "Epoch 61/100\n",
      "79487/79487 [==============================] - 9s 113us/step - loss: 0.7331\n",
      "Epoch 62/100\n",
      "79487/79487 [==============================] - 10s 120us/step - loss: 0.7322\n",
      "Epoch 63/100\n",
      "79487/79487 [==============================] - 10s 128us/step - loss: 0.7312\n",
      "Epoch 64/100\n",
      "79487/79487 [==============================] - 10s 121us/step - loss: 0.7308\n",
      "Epoch 65/100\n",
      "79487/79487 [==============================] - 9s 114us/step - loss: 0.7298\n",
      "Epoch 66/100\n",
      "79487/79487 [==============================] - 9s 112us/step - loss: 0.7291\n",
      "Epoch 67/100\n",
      "79487/79487 [==============================] - 9s 112us/step - loss: 0.7283\n",
      "Epoch 68/100\n",
      "79487/79487 [==============================] - 9s 111us/step - loss: 0.7276\n",
      "Epoch 69/100\n",
      "79487/79487 [==============================] - 9s 114us/step - loss: 0.7269\n",
      "Epoch 70/100\n",
      "79487/79487 [==============================] - 9s 117us/step - loss: 0.7264\n",
      "Epoch 71/100\n",
      "79487/79487 [==============================] - 9s 113us/step - loss: 0.7256\n",
      "Epoch 72/100\n",
      "79487/79487 [==============================] - 9s 108us/step - loss: 0.7251\n",
      "Epoch 73/100\n",
      "79487/79487 [==============================] - 9s 109us/step - loss: 0.7245\n",
      "Epoch 74/100\n",
      "79487/79487 [==============================] - 9s 113us/step - loss: 0.7240\n",
      "Epoch 75/100\n",
      "79487/79487 [==============================] - 9s 116us/step - loss: 0.7233\n",
      "Epoch 76/100\n",
      "79487/79487 [==============================] - 9s 111us/step - loss: 0.7232\n",
      "Epoch 77/100\n",
      "79487/79487 [==============================] - 9s 112us/step - loss: 0.7222\n",
      "Epoch 78/100\n",
      "79487/79487 [==============================] - 9s 112us/step - loss: 0.7219\n",
      "Epoch 79/100\n",
      "79487/79487 [==============================] - 9s 111us/step - loss: 0.7216\n",
      "Epoch 80/100\n",
      "79487/79487 [==============================] - 9s 110us/step - loss: 0.7212\n",
      "Epoch 81/100\n",
      "79487/79487 [==============================] - 9s 113us/step - loss: 0.7208\n",
      "Epoch 82/100\n",
      "79487/79487 [==============================] - 9s 110us/step - loss: 0.7205\n",
      "Epoch 83/100\n",
      "79487/79487 [==============================] - 9s 112us/step - loss: 0.7199\n",
      "Epoch 84/100\n",
      "79487/79487 [==============================] - 9s 112us/step - loss: 0.7198\n",
      "Epoch 85/100\n",
      "79487/79487 [==============================] - 9s 111us/step - loss: 0.7195\n",
      "Epoch 86/100\n",
      "79487/79487 [==============================] - 9s 112us/step - loss: 0.7192\n",
      "Epoch 87/100\n",
      "79487/79487 [==============================] - 9s 111us/step - loss: 0.7185\n",
      "Epoch 88/100\n",
      "79487/79487 [==============================] - 9s 111us/step - loss: 0.7184\n",
      "Epoch 89/100\n",
      "79487/79487 [==============================] - 9s 109us/step - loss: 0.7180\n",
      "Epoch 90/100\n",
      "79487/79487 [==============================] - 9s 112us/step - loss: 0.7179\n",
      "Epoch 91/100\n",
      "79487/79487 [==============================] - 9s 112us/step - loss: 0.7175\n",
      "Epoch 92/100\n",
      "79487/79487 [==============================] - 9s 109us/step - loss: 0.7173\n"
     ]
    },
    {
     "name": "stdout",
     "output_type": "stream",
     "text": [
      "Epoch 93/100\n",
      "79487/79487 [==============================] - 9s 116us/step - loss: 0.7171\n",
      "Epoch 94/100\n",
      "79487/79487 [==============================] - 10s 124us/step - loss: 0.7169\n",
      "Epoch 95/100\n",
      "79487/79487 [==============================] - 10s 120us/step - loss: 0.7164\n",
      "Epoch 96/100\n",
      "79487/79487 [==============================] - 9s 115us/step - loss: 0.7167\n",
      "Epoch 97/100\n",
      "79487/79487 [==============================] - 9s 119us/step - loss: 0.7160\n",
      "Epoch 98/100\n",
      "79487/79487 [==============================] - 9s 114us/step - loss: 0.7158\n",
      "Epoch 99/100\n",
      "79487/79487 [==============================] - 9s 115us/step - loss: 0.7156\n",
      "Epoch 100/100\n",
      "79487/79487 [==============================] - 9s 118us/step - loss: 0.7152\n"
     ]
    }
   ],
   "source": [
    "history = model.fit([train.user_id, train.item_id], train.rating, epochs=100)"
   ]
  },
  {
   "cell_type": "code",
   "execution_count": null,
   "metadata": {},
   "outputs": [],
   "source": []
  },
  {
   "cell_type": "code",
   "execution_count": 18,
   "metadata": {},
   "outputs": [],
   "source": [
    "y_hat = model.predict([test.user_id, test.item_id])\n",
    "y_true = test.rating"
   ]
  },
  {
   "cell_type": "code",
   "execution_count": 20,
   "metadata": {},
   "outputs": [
    {
     "data": {
      "text/plain": [
       "0.6889090177133655"
      ]
     },
     "execution_count": 20,
     "metadata": {},
     "output_type": "execute_result"
    }
   ],
   "source": [
    "from sklearn.metrics import mean_absolute_error\n",
    "mean_absolute_error(y_true, np.round(y_hat))"
   ]
  },
  {
   "cell_type": "code",
   "execution_count": null,
   "metadata": {},
   "outputs": [],
   "source": []
  }
 ],
 "metadata": {
  "kernelspec": {
   "display_name": "Python 3",
   "language": "python",
   "name": "python3"
  },
  "language_info": {
   "codemirror_mode": {
    "name": "ipython",
    "version": 3
   },
   "file_extension": ".py",
   "mimetype": "text/x-python",
   "name": "python",
   "nbconvert_exporter": "python",
   "pygments_lexer": "ipython3",
   "version": "3.6.5"
  }
 },
 "nbformat": 4,
 "nbformat_minor": 2
}
