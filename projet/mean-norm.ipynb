{
 "cells": [
  {
   "cell_type": "code",
   "execution_count": 8,
   "metadata": {},
   "outputs": [],
   "source": [
    "### Si données locales\n",
    "u.user <- read.csv(file='u.user.csv', sep='|', header=T)\n",
    "u.item <- read.csv(file='u.item.csv', sep='|', header=T)\n",
    "u.data <- read.csv(file='u.data.csv', sep='|', header=T)\n",
    "library(Matrix)\n",
    "m.sparse <- sparseMatrix(u.data[,1],u.data[,2],x=u.data[,3])\n",
    "rownames(m.sparse) <- paste('u', 1:nrow(m.sparse), sep='')\n",
    "colnames(m.sparse) <- paste('i', 1:ncol(m.sparse), sep='')\n",
    "mae <- function(m1, m2) mean(abs(m1 - m2), na.rm=T)\n",
    "\n",
    "m <- as.matrix(m.sparse)                # transforme en matrice ordinaire\n",
    "m.na <- m\n",
    "m.na[m.na==0] <- NA\n",
    "mae.rmse <- function(m, m.hat) {\n",
    "    return(list(mae=mean(abs(m - m.hat), na.rm=T), rmse=sqrt(mean((m - m.hat)^2, na.rm=T))))\n",
    "}\n",
    "new.m.mae.rmse <- function(dimRedu){\n",
    "# matrice diagonale pour réduire les matrices originales\n",
    "m.d2 <- diag(c(m.svd$d[1:dimRedu],rep(0,length(m.svd$d)-dimRedu)))\n",
    "# nouvelle matrice basée sur les deux premières dimensions uniquement\n",
    "m.svd2 <- round((m.svd$u %*% m.d2 %*% t(m.svd$v)),2)\n",
    "mae.rmse(m.svd2, m)\n",
    "    }"
   ]
  },
  {
   "cell_type": "code",
   "execution_count": 9,
   "metadata": {},
   "outputs": [],
   "source": [
    "new.m.cv <- function(dimRedu){\n",
    "# matrice diagonale pour réduire les matrices originales\n",
    "m.d2 <- diag(c(m.svd$d[1:dimRedu],rep(0,length(m.svd$d)-dimRedu)))\n",
    "# nouvelle matrice basée sur les deux premières dimensions uniquement\n",
    "m.svd2 <- round((m.svd$u %*% m.d2 %*% t(m.svd$v)),2)+r.means\n",
    "mae(m.svd2[i.test.b], m.na[i.test.b])\n",
    "    }\n"
   ]
  },
  {
   "cell_type": "code",
   "execution_count": 10,
   "metadata": {},
   "outputs": [
    {
     "data": {
      "text/plain": [
       "   user  system elapsed \n",
       "-34.090  -0.432 -34.634 "
      ]
     },
     "metadata": {},
     "output_type": "display_data"
    }
   ],
   "source": [
    "i.observed <- which(m > 0)\n",
    "i.hasard <- sample(i.observed, length(i.observed))\n",
    "fold.size <- round(length(i.hasard) / 5)\n",
    "i.false <- rep(FALSE, length(m))\n",
    "to.plot <- c()\n",
    "set.seed(1)\n",
    "cv.b <- c()\n",
    "ptm <- proc.time()\n",
    "for (i in seq_len(5)){\n",
    "fold.number <- i\n",
    "\n",
    "## Index booléen pour les cellules de test et d'entraînement\n",
    "i.test.b <- i.false\n",
    "## Les cellules indexées du replis correspondant sont fixées à TRUE pour le test...\n",
    "i.test.b[ i.hasard[((fold.number-1) * fold.size):((fold.number) * fold.size)] ] <- TRUE\n",
    "## ...et à FALSE pour l'entraînement\n",
    "i.train.b <-  !i.test.b\n",
    "m.train <- m\n",
    "m.train[i.test.b] <- 0                # on enlève les données de test pour l'entraînement\n",
    "m.train.na <- m.train\n",
    "m.train.na[m.train==0]<-NA\n",
    "    \n",
    "u.mean <- matrix(rowMeans(m.train.na, na.rm=T), nrow(m), ncol(m))\n",
    "item.mean <- matrix(colMeans(m.train.na, na.rm=T), nrow(m), ncol(m), byrow=T)\n",
    "m.expect <- ((u.mean + item.mean)/2)\n",
    "m.train.na[m.train==0] <-m.expect[m.train==0]\n",
    "r.means <- rowMeans(m.train.na,na.rm=T)\n",
    "m.train.na[!is.finite(m.train.na)]<- r.means\n",
    "r.means <- rowMeans(m.train)\n",
    "m.train.na <- m.train.na-r.means\n",
    "m.svd <- svd(m.train.na)\n",
    "cv.b <- c(cv.b,mae(m.train.na[i.test.b], m.na[i.test.b]))\n",
    "\n",
    "to.plot<-rbind(to.plot,unlist(lapply(seq(22), new.m.cv)))\n",
    "    }\n",
    "(proc.time()-ptm)/5\n"
   ]
  },
  {
   "cell_type": "code",
   "execution_count": 11,
   "metadata": {},
   "outputs": [],
   "source": [
    "to.plot<-apply(to.plot,2,unlist)"
   ]
  },
  {
   "cell_type": "code",
   "execution_count": 12,
   "metadata": {},
   "outputs": [
    {
     "data": {
      "text/html": [
       "<ol class=list-inline>\n",
       "\t<li>0.787104176547671</li>\n",
       "\t<li>0.774573542263047</li>\n",
       "\t<li>0.764015167938297</li>\n",
       "\t<li>0.763257987370899</li>\n",
       "\t<li>0.761804079411012</li>\n",
       "\t<li>0.760252195960458</li>\n",
       "\t<li>0.758606938760648</li>\n",
       "\t<li>0.756808782042604</li>\n",
       "\t<li>0.756298889717345</li>\n",
       "\t<li>0.756003919428303</li>\n",
       "\t<li>0.755270881109393</li>\n",
       "\t<li>0.755088614845922</li>\n",
       "\t<li>0.754775980749482</li>\n",
       "\t<li>0.754833941290123</li>\n",
       "\t<li>0.754912611295279</li>\n",
       "\t<li>0.755012375005411</li>\n",
       "\t<li>0.75556376994422</li>\n",
       "\t<li>0.755873196797396</li>\n",
       "\t<li>0.756075311188632</li>\n",
       "\t<li>0.756342726356019</li>\n",
       "\t<li>0.756643740425856</li>\n",
       "\t<li>0.756900013641036</li>\n",
       "</ol>\n"
      ],
      "text/latex": [
       "\\begin{enumerate*}\n",
       "\\item 0.787104176547671\n",
       "\\item 0.774573542263047\n",
       "\\item 0.764015167938297\n",
       "\\item 0.763257987370899\n",
       "\\item 0.761804079411012\n",
       "\\item 0.760252195960458\n",
       "\\item 0.758606938760648\n",
       "\\item 0.756808782042604\n",
       "\\item 0.756298889717345\n",
       "\\item 0.756003919428303\n",
       "\\item 0.755270881109393\n",
       "\\item 0.755088614845922\n",
       "\\item 0.754775980749482\n",
       "\\item 0.754833941290123\n",
       "\\item 0.754912611295279\n",
       "\\item 0.755012375005411\n",
       "\\item 0.75556376994422\n",
       "\\item 0.755873196797396\n",
       "\\item 0.756075311188632\n",
       "\\item 0.756342726356019\n",
       "\\item 0.756643740425856\n",
       "\\item 0.756900013641036\n",
       "\\end{enumerate*}\n"
      ],
      "text/markdown": [
       "1. 0.787104176547671\n",
       "2. 0.774573542263047\n",
       "3. 0.764015167938297\n",
       "4. 0.763257987370899\n",
       "5. 0.761804079411012\n",
       "6. 0.760252195960458\n",
       "7. 0.758606938760648\n",
       "8. 0.756808782042604\n",
       "9. 0.756298889717345\n",
       "10. 0.756003919428303\n",
       "11. 0.755270881109393\n",
       "12. 0.755088614845922\n",
       "13. 0.754775980749482\n",
       "14. 0.754833941290123\n",
       "15. 0.754912611295279\n",
       "16. 0.755012375005411\n",
       "17. 0.75556376994422\n",
       "18. 0.755873196797396\n",
       "19. 0.756075311188632\n",
       "20. 0.756342726356019\n",
       "21. 0.756643740425856\n",
       "22. 0.756900013641036\n",
       "\n",
       "\n"
      ],
      "text/plain": [
       " [1] 0.7871042 0.7745735 0.7640152 0.7632580 0.7618041 0.7602522 0.7586069\n",
       " [8] 0.7568088 0.7562989 0.7560039 0.7552709 0.7550886 0.7547760 0.7548339\n",
       "[15] 0.7549126 0.7550124 0.7555638 0.7558732 0.7560753 0.7563427 0.7566437\n",
       "[22] 0.7569000"
      ]
     },
     "metadata": {},
     "output_type": "display_data"
    }
   ],
   "source": [
    "sdev <- apply(to.plot,2,sd) \n",
    "avg <- colMeans(to.plot)\n",
    "avg\n",
    "x <- 1:length(avg)"
   ]
  },
  {
   "cell_type": "code",
   "execution_count": 13,
   "metadata": {},
   "outputs": [
    {
     "data": {
      "image/png": "[encoded data removed]",
      "text/plain": [
       "Plot with title \"Moyenne des lignes et colonnes\""
      ]
     },
     "metadata": {},
     "output_type": "display_data"
    }
   ],
   "source": [
    "plot(x,avg,ylim=range(c(avg-sdev, avg+sdev)),pch=19, xlab=\"Dimensions\", ylab=\"MAE +/- SD\",\n",
    "    main=\"Moyenne des lignes et colonnes\"\n",
    ")\n",
    "# hack: we draw arrows but with very special \"arrowheads\"\n",
    "arrows(x, avg-sdev, x, avg+sdev, length=0.05, angle=90, code=3)"
   ]
  },
  {
   "cell_type": "code",
   "execution_count": 17,
   "metadata": {},
   "outputs": [
    {
     "data": {
      "text/html": [
       "0.872848824918991"
      ],
      "text/latex": [
       "0.872848824918991"
      ],
      "text/markdown": [
       "0.872848824918991"
      ],
      "text/plain": [
       "[1] 0.8728488"
      ]
     },
     "metadata": {},
     "output_type": "display_data"
    }
   ],
   "source": [
    "mean(cv.b)"
   ]
  },
  {
   "cell_type": "code",
   "execution_count": 35,
   "metadata": {},
   "outputs": [
    {
     "data": {
      "text/html": [
       "<ol class=list-inline>\n",
       "\t<li>0.787343478130136</li>\n",
       "\t<li>0.774823971965296</li>\n",
       "\t<li>0.764428686305875</li>\n",
       "\t<li>0.763762585462939</li>\n",
       "\t<li>0.762138482730923</li>\n",
       "\t<li>0.760776312715732</li>\n",
       "\t<li>0.759176695591237</li>\n",
       "\t<li>0.757072628357512</li>\n",
       "\t<li>0.757021709811442</li>\n",
       "\t<li>0.756490212894551</li>\n",
       "\t<li>0.756145031449034</li>\n",
       "\t<li>0.756307168984583</li>\n",
       "\t<li>0.75625772586187</li>\n",
       "\t<li>0.756107731853122</li>\n",
       "\t<li>0.756533203978963</li>\n",
       "\t<li>0.756738485092862</li>\n",
       "\t<li>0.756871248627164</li>\n",
       "\t<li>0.756993799544196</li>\n",
       "\t<li>0.757271610066447</li>\n",
       "\t<li>0.757228165772199</li>\n",
       "\t<li>0.757553239734387</li>\n",
       "\t<li>0.757811105505266</li>\n",
       "</ol>\n"
      ],
      "text/latex": [
       "\\begin{enumerate*}\n",
       "\\item 0.787343478130136\n",
       "\\item 0.774823971965296\n",
       "\\item 0.764428686305875\n",
       "\\item 0.763762585462939\n",
       "\\item 0.762138482730923\n",
       "\\item 0.760776312715732\n",
       "\\item 0.759176695591237\n",
       "\\item 0.757072628357512\n",
       "\\item 0.757021709811442\n",
       "\\item 0.756490212894551\n",
       "\\item 0.756145031449034\n",
       "\\item 0.756307168984583\n",
       "\\item 0.75625772586187\n",
       "\\item 0.756107731853122\n",
       "\\item 0.756533203978963\n",
       "\\item 0.756738485092862\n",
       "\\item 0.756871248627164\n",
       "\\item 0.756993799544196\n",
       "\\item 0.757271610066447\n",
       "\\item 0.757228165772199\n",
       "\\item 0.757553239734387\n",
       "\\item 0.757811105505266\n",
       "\\end{enumerate*}\n"
      ],
      "text/markdown": [
       "1. 0.787343478130136\n",
       "2. 0.774823971965296\n",
       "3. 0.764428686305875\n",
       "4. 0.763762585462939\n",
       "5. 0.762138482730923\n",
       "6. 0.760776312715732\n",
       "7. 0.759176695591237\n",
       "8. 0.757072628357512\n",
       "9. 0.757021709811442\n",
       "10. 0.756490212894551\n",
       "11. 0.756145031449034\n",
       "12. 0.756307168984583\n",
       "13. 0.75625772586187\n",
       "14. 0.756107731853122\n",
       "15. 0.756533203978963\n",
       "16. 0.756738485092862\n",
       "17. 0.756871248627164\n",
       "18. 0.756993799544196\n",
       "19. 0.757271610066447\n",
       "20. 0.757228165772199\n",
       "21. 0.757553239734387\n",
       "22. 0.757811105505266\n",
       "\n",
       "\n"
      ],
      "text/plain": [
       " [1] 0.7873435 0.7748240 0.7644287 0.7637626 0.7621385 0.7607763 0.7591767\n",
       " [8] 0.7570726 0.7570217 0.7564902 0.7561450 0.7563072 0.7562577 0.7561077\n",
       "[15] 0.7565332 0.7567385 0.7568712 0.7569938 0.7572716 0.7572282 0.7575532\n",
       "[22] 0.7578111"
      ]
     },
     "metadata": {},
     "output_type": "display_data"
    }
   ],
   "source": [
    "avg"
   ]
  },
  {
   "cell_type": "code",
   "execution_count": 36,
   "metadata": {},
   "outputs": [],
   "source": [
    "write.table(avg, file=\"out/total/mean.csv\",sep=\"\")"
   ]
  },
  {
   "cell_type": "code",
   "execution_count": null,
   "metadata": {},
   "outputs": [],
   "source": []
  }
 ],
 "metadata": {
  "kernelspec": {
   "display_name": "R",
   "language": "R",
   "name": "ir"
  },
  "language_info": {
   "codemirror_mode": "r",
   "file_extension": ".r",
   "mimetype": "text/x-r-source",
   "name": "R",
   "pygments_lexer": "r",
   "version": "3.5.1"
  }
 },
 "nbformat": 4,
 "nbformat_minor": 2
}
