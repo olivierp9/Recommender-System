{
 "cells": [
  {
   "cell_type": "code",
   "execution_count": 1,
   "metadata": {},
   "outputs": [],
   "source": [
    "### Si données locales\n",
    "u.user <- read.csv(file='u.user.csv', sep='|', header=T)\n",
    "u.item <- read.csv(file='u.item.csv', sep='|', header=T)\n",
    "u.data <- read.csv(file='u.data.csv', sep='|', header=T)\n",
    "library(Matrix)\n",
    "m.sparse <- sparseMatrix(u.data[,1],u.data[,2],x=u.data[,3])\n",
    "rownames(m.sparse) <- paste('u', 1:nrow(m.sparse), sep='')\n",
    "colnames(m.sparse) <- paste('i', 1:ncol(m.sparse), sep='')\n",
    "mae <- function(m1, m2) mean(abs(m1 - m2), na.rm=T)\n",
    "\n",
    "m <- as.matrix(m.sparse)                # transforme en matrice ordinaire\n",
    "m.na <- m\n",
    "m.na[m.na==0] <- NA\n",
    "mae.rmse <- function(m, m.hat) {\n",
    "    return(list(mae=mean(abs(m - m.hat), na.rm=T), rmse=sqrt(mean((m - m.hat)^2, na.rm=T))))\n",
    "}\n",
    "new.m.mae.rmse <- function(dimRedu){\n",
    "# matrice diagonale pour réduire les matrices originales\n",
    "m.d2 <- diag(c(m.svd$d[1:dimRedu],rep(0,length(m.svd$d)-dimRedu)))\n",
    "# nouvelle matrice basée sur les deux premières dimensions uniquement\n",
    "m.svd2 <- round((m.svd$u %*% m.d2 %*% t(m.svd$v)),2)\n",
    "mae.rmse(m.svd2, m)\n",
    "    }"
   ]
  },
  {
   "cell_type": "code",
   "execution_count": 2,
   "metadata": {},
   "outputs": [],
   "source": [
    "new.m.cv <- function(dimRedu){\n",
    "# matrice diagonale pour réduire les matrices originales\n",
    "m.d2 <- diag(c(m.svd$d[1:dimRedu],rep(0,length(m.svd$d)-dimRedu)))\n",
    "# nouvelle matrice basée sur les deux premières dimensions uniquement\n",
    "m.svd2 <- round((m.svd$u %*% m.d2 %*% t(m.svd$v)),2)+r.means\n",
    "mae(m.svd2[i.test.b], m.na[i.test.b])\n",
    "    }\n"
   ]
  },
  {
   "cell_type": "code",
   "execution_count": 3,
   "metadata": {},
   "outputs": [
    {
     "data": {
      "text/html": [
       "100000"
      ],
      "text/latex": [
       "100000"
      ],
      "text/markdown": [
       "100000"
      ],
      "text/plain": [
       "[1] 100000"
      ]
     },
     "metadata": {},
     "output_type": "display_data"
    }
   ],
   "source": [
    "i.observed <- which(m > 0)\n",
    "i.hasard <- sample(i.observed, length(i.observed))\n",
    "length(i.hasard)\n",
    "fold.size <- round(length(i.hasard) / 5)\n",
    "i.false <- rep(FALSE, length(m))\n",
    "to.plot <- c()\n",
    "set.seed(1)\n",
    "cv.b <- c()\n",
    "for (i in seq_len(5)){\n",
    "fold.number <- i\n",
    "\n",
    "## Index booléen pour les cellules de test et d'entraînement\n",
    "i.test.b <- i.false\n",
    "## Les cellules indexées du replis correspondant sont fixées à TRUE pour le test...\n",
    "i.test.b[ i.hasard[((fold.number-1) * fold.size):((fold.number) * fold.size)] ] <- TRUE\n",
    "## ...et à FALSE pour l'entraînement\n",
    "i.train.b <-  !i.test.b\n",
    "m.train <- m\n",
    "m.train[i.test.b] <- 0                # on enlève les données de test pour l'entraînement\n",
    "m.train.na <- m.train\n",
    "m.train.na[m.train==0]<-NA\n",
    "    \n",
    "u.mean <- matrix(rowMeans(m.train.na, na.rm=T), nrow(m), ncol(m))\n",
    "item.mean <- matrix(colMeans(m.train.na, na.rm=T), nrow(m), ncol(m), byrow=T)\n",
    "m.expect <- ((u.mean + item.mean)/2)\n",
    "m.train.na[m.train==0] <-m.expect[m.train==0]\n",
    "r.means <- rowMeans(m.train.na,na.rm=T)\n",
    "m.train.na[!is.finite(m.train.na)]<- r.means\n",
    "r.means <- rowMeans(m.train)\n",
    "m.train.na <- m.train.na-r.means\n",
    "m.svd <- svd(m.train.na)\n",
    "cv.b <- c(cv.b,mae(m.train.na[i.test.b], m.na[i.test.b]))\n",
    "\n",
    "to.plot<-rbind(to.plot,unlist(lapply(seq(22), new.m.cv)))\n",
    "    }\n"
   ]
  },
  {
   "cell_type": "code",
   "execution_count": 4,
   "metadata": {},
   "outputs": [],
   "source": [
    "to.plot<-apply(to.plot,2,unlist)"
   ]
  },
  {
   "cell_type": "code",
   "execution_count": 5,
   "metadata": {},
   "outputs": [
    {
     "data": {
      "text/html": [
       "<ol class=list-inline>\n",
       "\t<li>0.00431348347292209</li>\n",
       "\t<li>0.00417688948591055</li>\n",
       "\t<li>0.00448822504661424</li>\n",
       "\t<li>0.0045501218610603</li>\n",
       "\t<li>0.00459053609903669</li>\n",
       "\t<li>0.00473752147614704</li>\n",
       "\t<li>0.00469128512620467</li>\n",
       "\t<li>0.00457598268385866</li>\n",
       "\t<li>0.00464314317005125</li>\n",
       "\t<li>0.00437393325741317</li>\n",
       "\t<li>0.00449592848782727</li>\n",
       "\t<li>0.00469548767309749</li>\n",
       "\t<li>0.00435332892288149</li>\n",
       "\t<li>0.00443815312642821</li>\n",
       "\t<li>0.00432652312846751</li>\n",
       "\t<li>0.00444099222058025</li>\n",
       "\t<li>0.00438835650426348</li>\n",
       "\t<li>0.00446452804803407</li>\n",
       "\t<li>0.00448895857151149</li>\n",
       "\t<li>0.00446481455589961</li>\n",
       "\t<li>0.0046614619919467</li>\n",
       "\t<li>0.0047100769042784</li>\n",
       "</ol>\n"
      ],
      "text/latex": [
       "\\begin{enumerate*}\n",
       "\\item 0.00431348347292209\n",
       "\\item 0.00417688948591055\n",
       "\\item 0.00448822504661424\n",
       "\\item 0.0045501218610603\n",
       "\\item 0.00459053609903669\n",
       "\\item 0.00473752147614704\n",
       "\\item 0.00469128512620467\n",
       "\\item 0.00457598268385866\n",
       "\\item 0.00464314317005125\n",
       "\\item 0.00437393325741317\n",
       "\\item 0.00449592848782727\n",
       "\\item 0.00469548767309749\n",
       "\\item 0.00435332892288149\n",
       "\\item 0.00443815312642821\n",
       "\\item 0.00432652312846751\n",
       "\\item 0.00444099222058025\n",
       "\\item 0.00438835650426348\n",
       "\\item 0.00446452804803407\n",
       "\\item 0.00448895857151149\n",
       "\\item 0.00446481455589961\n",
       "\\item 0.0046614619919467\n",
       "\\item 0.0047100769042784\n",
       "\\end{enumerate*}\n"
      ],
      "text/markdown": [
       "1. 0.00431348347292209\n",
       "2. 0.00417688948591055\n",
       "3. 0.00448822504661424\n",
       "4. 0.0045501218610603\n",
       "5. 0.00459053609903669\n",
       "6. 0.00473752147614704\n",
       "7. 0.00469128512620467\n",
       "8. 0.00457598268385866\n",
       "9. 0.00464314317005125\n",
       "10. 0.00437393325741317\n",
       "11. 0.00449592848782727\n",
       "12. 0.00469548767309749\n",
       "13. 0.00435332892288149\n",
       "14. 0.00443815312642821\n",
       "15. 0.00432652312846751\n",
       "16. 0.00444099222058025\n",
       "17. 0.00438835650426348\n",
       "18. 0.00446452804803407\n",
       "19. 0.00448895857151149\n",
       "20. 0.00446481455589961\n",
       "21. 0.0046614619919467\n",
       "22. 0.0047100769042784\n",
       "\n",
       "\n"
      ],
      "text/plain": [
       " [1] 0.004313483 0.004176889 0.004488225 0.004550122 0.004590536 0.004737521\n",
       " [7] 0.004691285 0.004575983 0.004643143 0.004373933 0.004495928 0.004695488\n",
       "[13] 0.004353329 0.004438153 0.004326523 0.004440992 0.004388357 0.004464528\n",
       "[19] 0.004488959 0.004464815 0.004661462 0.004710077"
      ]
     },
     "metadata": {},
     "output_type": "display_data"
    }
   ],
   "source": [
    "sdev <- apply(to.plot,2,sd) \n",
    "sdev\n",
    "avg <- colMeans(to.plot)\n",
    "x <- 1:length(avg)"
   ]
  },
  {
   "cell_type": "code",
   "execution_count": 6,
   "metadata": {},
   "outputs": [
    {
     "data": {
      "image/png": "[encoded data removed]",
      "text/plain": [
       "Plot with title \"Scatter plot with std.dev error bars\""
      ]
     },
     "metadata": {},
     "output_type": "display_data"
    }
   ],
   "source": [
    "plot(x,colMeans(to.plot),ylim=range(c(avg-sdev, avg+sdev)),pch=19, xlab=\"Measurements\", ylab=\"Mean +/- SD\",\n",
    "    main=\"Scatter plot with std.dev error bars\"\n",
    ")\n",
    "# hack: we draw arrows but with very special \"arrowheads\"\n",
    "arrows(x, avg-sdev, x, avg+sdev, length=0.05, angle=90, code=3)"
   ]
  },
  {
   "cell_type": "code",
   "execution_count": 7,
   "metadata": {},
   "outputs": [
    {
     "data": {
      "text/html": [
       "0.872665587425594"
      ],
      "text/latex": [
       "0.872665587425594"
      ],
      "text/markdown": [
       "0.872665587425594"
      ],
      "text/plain": [
       "[1] 0.8726656"
      ]
     },
     "metadata": {},
     "output_type": "display_data"
    }
   ],
   "source": [
    "mean(cv.b)"
   ]
  },
  {
   "cell_type": "code",
   "execution_count": null,
   "metadata": {},
   "outputs": [],
   "source": []
  }
 ],
 "metadata": {
  "kernelspec": {
   "display_name": "R",
   "language": "R",
   "name": "ir"
  },
  "language_info": {
   "codemirror_mode": "r",
   "file_extension": ".r",
   "mimetype": "text/x-r-source",
   "name": "R",
   "pygments_lexer": "r",
   "version": "3.5.1"
  }
 },
 "nbformat": 4,
 "nbformat_minor": 2
}
