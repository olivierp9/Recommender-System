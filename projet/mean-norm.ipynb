{
 "cells": [
  {
   "cell_type": "code",
   "execution_count": 58,
   "metadata": {},
   "outputs": [],
   "source": [
    "### Si données locales\n",
    "u.user <- read.csv(file='u.user.csv', sep='|', header=T)\n",
    "u.item <- read.csv(file='u.item.csv', sep='|', header=T)\n",
    "u.data <- read.csv(file='u.data.csv', sep='|', header=T)\n",
    "library(Matrix)\n",
    "m.sparse <- sparseMatrix(u.data[,1],u.data[,2],x=u.data[,3])\n",
    "rownames(m.sparse) <- paste('u', 1:nrow(m.sparse), sep='')\n",
    "colnames(m.sparse) <- paste('i', 1:ncol(m.sparse), sep='')\n",
    "mae <- function(m1, m2) mean(abs(m1 - m2), na.rm=T)\n",
    "\n",
    "m <- as.matrix(m.sparse)                # transforme en matrice ordinaire\n",
    "m.na <- m\n",
    "m.na[m.na==0] <- NA\n",
    "mae.rmse <- function(m, m.hat) {\n",
    "    return(list(mae=mean(abs(m - m.hat), na.rm=T), rmse=sqrt(mean((m - m.hat)^2, na.rm=T))))\n",
    "}\n",
    "new.m.mae.rmse <- function(dimRedu){\n",
    "# matrice diagonale pour réduire les matrices originales\n",
    "m.d2 <- diag(c(m.svd$d[1:dimRedu],rep(0,length(m.svd$d)-dimRedu)))\n",
    "# nouvelle matrice basée sur les deux premières dimensions uniquement\n",
    "m.svd2 <- round((m.svd$u %*% m.d2 %*% t(m.svd$v)),2)\n",
    "mae.rmse(m.svd2, m)\n",
    "    }"
   ]
  },
  {
   "cell_type": "code",
   "execution_count": 59,
   "metadata": {},
   "outputs": [],
   "source": [
    "new.m.cv <- function(dimRedu){\n",
    "# matrice diagonale pour réduire les matrices originales\n",
    "m.d2 <- diag(c(m.svd$d[1:dimRedu],rep(0,length(m.svd$d)-dimRedu)))\n",
    "# nouvelle matrice basée sur les deux premières dimensions uniquement\n",
    "m.svd2 <- round((m.svd$u %*% m.d2 %*% t(m.svd$v)),2)+r.means\n",
    "mae(m.svd2[i.test.b], m.na[i.test.b])\n",
    "    }\n"
   ]
  },
  {
   "cell_type": "code",
   "execution_count": null,
   "metadata": {},
   "outputs": [],
   "source": []
  },
  {
   "cell_type": "code",
   "execution_count": 60,
   "metadata": {},
   "outputs": [
    {
     "data": {
      "text/plain": [
       "   user  system elapsed \n",
       " 25.594   0.296  25.908 "
      ]
     },
     "metadata": {},
     "output_type": "display_data"
    }
   ],
   "source": [
    "i.observed <- which(m > 0)\n",
    "i.hasard <- sample(i.observed, length(i.observed))\n",
    "fold.size <- round(length(i.hasard) / 5)\n",
    "i.false <- rep(FALSE, length(m))\n",
    "to.plot <- c()\n",
    "set.seed(1)\n",
    "cv.b <- c()\n",
    "ptm <- proc.time()\n",
    "for (i in seq_len(5)){\n",
    "fold.number <- i\n",
    "\n",
    "## Index booléen pour les cellules de test et d'entraînement\n",
    "i.test.b <- i.false\n",
    "## Les cellules indexées du replis correspondant sont fixées à TRUE pour le test...\n",
    "i.test.b[ i.hasard[((fold.number-1) * fold.size):((fold.number) * fold.size)] ] <- TRUE\n",
    "## ...et à FALSE pour l'entraînement\n",
    "i.train.b <-  !i.test.b\n",
    "m.train <- m\n",
    "m.train[i.test.b] <- 0                # on enlève les données de test pour l'entraînement\n",
    "m.train.na <- m.train\n",
    "m.train.na[m.train==0]<-NA\n",
    "    \n",
    "u.mean <- matrix(rowMeans(m.train.na, na.rm=T), nrow(m), ncol(m))\n",
    "item.mean <- matrix(colMeans(m.train.na, na.rm=T), nrow(m), ncol(m), byrow=T)\n",
    "m.expect <- ((u.mean + item.mean)/2)\n",
    "m.train.na[m.train==0] <-m.expect[m.train==0]\n",
    "r.means <- rowMeans(m.train.na,na.rm=T)\n",
    "m.train.na[!is.finite(m.train.na)]<- r.means\n",
    "r.means <- rowMeans(m.train.na,na.rm=T)\n",
    "cv.b <- c(cv.b,mae(m.train.na[i.test.b], m.na[i.test.b]))\n",
    "m.train.na <- m.train.na-r.means\n",
    "m.svd <- svd(m.train.na)\n",
    "\n",
    "to.plot<-rbind(to.plot,unlist(lapply(seq(22), new.m.cv)))\n",
    "    }\n",
    "(proc.time()-ptm)/5\n"
   ]
  },
  {
   "cell_type": "code",
   "execution_count": 61,
   "metadata": {},
   "outputs": [],
   "source": [
    "to.plot<-apply(to.plot,2,unlist)"
   ]
  },
  {
   "cell_type": "code",
   "execution_count": 62,
   "metadata": {},
   "outputs": [
    {
     "data": {
      "text/html": [
       "<ol class=list-inline>\n",
       "\t<li>0.780362774294364</li>\n",
       "\t<li>0.769255619583851</li>\n",
       "\t<li>0.76456152853846</li>\n",
       "\t<li>0.763309566401177</li>\n",
       "\t<li>0.761505015711342</li>\n",
       "\t<li>0.75984207455238</li>\n",
       "\t<li>0.757622197873235</li>\n",
       "\t<li>0.756857142132873</li>\n",
       "\t<li>0.756594751671914</li>\n",
       "\t<li>0.756117129518813</li>\n",
       "\t<li>0.756221631319368</li>\n",
       "\t<li>0.756318280335849</li>\n",
       "\t<li>0.756324159379193</li>\n",
       "\t<li>0.756435400618763</li>\n",
       "\t<li>0.756587760611472</li>\n",
       "\t<li>0.756923784543951</li>\n",
       "\t<li>0.756840974010123</li>\n",
       "\t<li>0.756717141277335</li>\n",
       "\t<li>0.757025912472651</li>\n",
       "\t<li>0.757191223712837</li>\n",
       "\t<li>0.757557322250238</li>\n",
       "\t<li>0.757811000595033</li>\n",
       "</ol>\n"
      ],
      "text/latex": [
       "\\begin{enumerate*}\n",
       "\\item 0.780362774294364\n",
       "\\item 0.769255619583851\n",
       "\\item 0.76456152853846\n",
       "\\item 0.763309566401177\n",
       "\\item 0.761505015711342\n",
       "\\item 0.75984207455238\n",
       "\\item 0.757622197873235\n",
       "\\item 0.756857142132873\n",
       "\\item 0.756594751671914\n",
       "\\item 0.756117129518813\n",
       "\\item 0.756221631319368\n",
       "\\item 0.756318280335849\n",
       "\\item 0.756324159379193\n",
       "\\item 0.756435400618763\n",
       "\\item 0.756587760611472\n",
       "\\item 0.756923784543951\n",
       "\\item 0.756840974010123\n",
       "\\item 0.756717141277335\n",
       "\\item 0.757025912472651\n",
       "\\item 0.757191223712837\n",
       "\\item 0.757557322250238\n",
       "\\item 0.757811000595033\n",
       "\\end{enumerate*}\n"
      ],
      "text/markdown": [
       "1. 0.780362774294364\n",
       "2. 0.769255619583851\n",
       "3. 0.76456152853846\n",
       "4. 0.763309566401177\n",
       "5. 0.761505015711342\n",
       "6. 0.75984207455238\n",
       "7. 0.757622197873235\n",
       "8. 0.756857142132873\n",
       "9. 0.756594751671914\n",
       "10. 0.756117129518813\n",
       "11. 0.756221631319368\n",
       "12. 0.756318280335849\n",
       "13. 0.756324159379193\n",
       "14. 0.756435400618763\n",
       "15. 0.756587760611472\n",
       "16. 0.756923784543951\n",
       "17. 0.756840974010123\n",
       "18. 0.756717141277335\n",
       "19. 0.757025912472651\n",
       "20. 0.757191223712837\n",
       "21. 0.757557322250238\n",
       "22. 0.757811000595033\n",
       "\n",
       "\n"
      ],
      "text/plain": [
       " [1] 0.7803628 0.7692556 0.7645615 0.7633096 0.7615050 0.7598421 0.7576222\n",
       " [8] 0.7568571 0.7565948 0.7561171 0.7562216 0.7563183 0.7563242 0.7564354\n",
       "[15] 0.7565878 0.7569238 0.7568410 0.7567171 0.7570259 0.7571912 0.7575573\n",
       "[22] 0.7578110"
      ]
     },
     "metadata": {},
     "output_type": "display_data"
    }
   ],
   "source": [
    "sdev <- apply(to.plot,2,sd) \n",
    "avg <- colMeans(to.plot)\n",
    "avg\n",
    "x <- 1:length(avg)"
   ]
  },
  {
   "cell_type": "code",
   "execution_count": 63,
   "metadata": {},
   "outputs": [
    {
     "data": {
      "image/png": "[encoded data removed]",
      "text/plain": [
       "Plot with title \"Moyenne des lignes et colonnes\""
      ]
     },
     "metadata": {},
     "output_type": "display_data"
    }
   ],
   "source": [
    "plot(x,avg,ylim=range(c(avg-sdev, avg+sdev)),pch=19, xlab=\"Dimensions\", ylab=\"MAE +/- SD\",\n",
    "    main=\"Moyenne des lignes et colonnes\"\n",
    ")\n",
    "# hack: we draw arrows but with very special \"arrowheads\"\n",
    "arrows(x, avg-sdev, x, avg+sdev, length=0.05, angle=90, code=3)"
   ]
  },
  {
   "cell_type": "code",
   "execution_count": 64,
   "metadata": {},
   "outputs": [
    {
     "data": {
      "text/html": [
       "0.794992125518558"
      ],
      "text/latex": [
       "0.794992125518558"
      ],
      "text/markdown": [
       "0.794992125518558"
      ],
      "text/plain": [
       "[1] 0.7949921"
      ]
     },
     "metadata": {},
     "output_type": "display_data"
    }
   ],
   "source": [
    "mean(cv.b)"
   ]
  },
  {
   "cell_type": "code",
   "execution_count": 65,
   "metadata": {},
   "outputs": [
    {
     "data": {
      "text/html": [
       "<ol class=list-inline>\n",
       "\t<li>0.780362774294364</li>\n",
       "\t<li>0.769255619583851</li>\n",
       "\t<li>0.76456152853846</li>\n",
       "\t<li>0.763309566401177</li>\n",
       "\t<li>0.761505015711342</li>\n",
       "\t<li>0.75984207455238</li>\n",
       "\t<li>0.757622197873235</li>\n",
       "\t<li>0.756857142132873</li>\n",
       "\t<li>0.756594751671914</li>\n",
       "\t<li>0.756117129518813</li>\n",
       "\t<li>0.756221631319368</li>\n",
       "\t<li>0.756318280335849</li>\n",
       "\t<li>0.756324159379193</li>\n",
       "\t<li>0.756435400618763</li>\n",
       "\t<li>0.756587760611472</li>\n",
       "\t<li>0.756923784543951</li>\n",
       "\t<li>0.756840974010123</li>\n",
       "\t<li>0.756717141277335</li>\n",
       "\t<li>0.757025912472651</li>\n",
       "\t<li>0.757191223712837</li>\n",
       "\t<li>0.757557322250238</li>\n",
       "\t<li>0.757811000595033</li>\n",
       "</ol>\n"
      ],
      "text/latex": [
       "\\begin{enumerate*}\n",
       "\\item 0.780362774294364\n",
       "\\item 0.769255619583851\n",
       "\\item 0.76456152853846\n",
       "\\item 0.763309566401177\n",
       "\\item 0.761505015711342\n",
       "\\item 0.75984207455238\n",
       "\\item 0.757622197873235\n",
       "\\item 0.756857142132873\n",
       "\\item 0.756594751671914\n",
       "\\item 0.756117129518813\n",
       "\\item 0.756221631319368\n",
       "\\item 0.756318280335849\n",
       "\\item 0.756324159379193\n",
       "\\item 0.756435400618763\n",
       "\\item 0.756587760611472\n",
       "\\item 0.756923784543951\n",
       "\\item 0.756840974010123\n",
       "\\item 0.756717141277335\n",
       "\\item 0.757025912472651\n",
       "\\item 0.757191223712837\n",
       "\\item 0.757557322250238\n",
       "\\item 0.757811000595033\n",
       "\\end{enumerate*}\n"
      ],
      "text/markdown": [
       "1. 0.780362774294364\n",
       "2. 0.769255619583851\n",
       "3. 0.76456152853846\n",
       "4. 0.763309566401177\n",
       "5. 0.761505015711342\n",
       "6. 0.75984207455238\n",
       "7. 0.757622197873235\n",
       "8. 0.756857142132873\n",
       "9. 0.756594751671914\n",
       "10. 0.756117129518813\n",
       "11. 0.756221631319368\n",
       "12. 0.756318280335849\n",
       "13. 0.756324159379193\n",
       "14. 0.756435400618763\n",
       "15. 0.756587760611472\n",
       "16. 0.756923784543951\n",
       "17. 0.756840974010123\n",
       "18. 0.756717141277335\n",
       "19. 0.757025912472651\n",
       "20. 0.757191223712837\n",
       "21. 0.757557322250238\n",
       "22. 0.757811000595033\n",
       "\n",
       "\n"
      ],
      "text/plain": [
       " [1] 0.7803628 0.7692556 0.7645615 0.7633096 0.7615050 0.7598421 0.7576222\n",
       " [8] 0.7568571 0.7565948 0.7561171 0.7562216 0.7563183 0.7563242 0.7564354\n",
       "[15] 0.7565878 0.7569238 0.7568410 0.7567171 0.7570259 0.7571912 0.7575573\n",
       "[22] 0.7578110"
      ]
     },
     "metadata": {},
     "output_type": "display_data"
    }
   ],
   "source": [
    "avg"
   ]
  },
  {
   "cell_type": "code",
   "execution_count": 57,
   "metadata": {},
   "outputs": [],
   "source": [
    "write.table(avg, file=\"out/total/mean.csv\",sep=\"\")"
   ]
  },
  {
   "cell_type": "code",
   "execution_count": null,
   "metadata": {},
   "outputs": [],
   "source": []
  }
 ],
 "metadata": {
  "kernelspec": {
   "display_name": "R",
   "language": "R",
   "name": "ir"
  },
  "language_info": {
   "codemirror_mode": "r",
   "file_extension": ".r",
   "mimetype": "text/x-r-source",
   "name": "R",
   "pygments_lexer": "r",
   "version": "3.5.1"
  }
 },
 "nbformat": 4,
 "nbformat_minor": 2
}
