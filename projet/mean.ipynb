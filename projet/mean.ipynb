{
 "cells": [
  {
   "cell_type": "code",
   "execution_count": 3,
   "metadata": {},
   "outputs": [],
   "source": [
    "### Si données locales\n",
    "u.user <- read.csv(file='u.user.csv', sep='|', header=T)\n",
    "u.item <- read.csv(file='u.item.csv', sep='|', header=T)\n",
    "u.data <- read.csv(file='u.data.csv', sep='|', header=T)\n",
    "library(Matrix)\n",
    "m.sparse <- sparseMatrix(u.data[,1],u.data[,2],x=u.data[,3])\n",
    "rownames(m.sparse) <- paste('u', 1:nrow(m.sparse), sep='')\n",
    "colnames(m.sparse) <- paste('i', 1:ncol(m.sparse), sep='')\n",
    "mae <- function(m1, m2) mean(abs(m1 - m2), na.rm=T)\n",
    "\n",
    "m <- as.matrix(m.sparse)                # transforme en matrice ordinaire\n",
    "m.na <- m\n",
    "m.na[m.na==0] <- NA\n",
    "mae.rmse <- function(m, m.hat) {\n",
    "    return(list(mae=mean(abs(m - m.hat), na.rm=T), rmse=sqrt(mean((m - m.hat)^2, na.rm=T))))\n",
    "}\n",
    "new.m.mae.rmse <- function(dimRedu){\n",
    "# matrice diagonale pour réduire les matrices originales\n",
    "m.d2 <- diag(c(m.svd$d[1:dimRedu],rep(0,length(m.svd$d)-dimRedu)))\n",
    "# nouvelle matrice basée sur les deux premières dimensions uniquement\n",
    "m.svd2 <- round((m.svd$u %*% m.d2 %*% t(m.svd$v)),2)\n",
    "mae.rmse(m.svd2, m)\n",
    "    }"
   ]
  },
  {
   "cell_type": "code",
   "execution_count": 9,
   "metadata": {},
   "outputs": [],
   "source": [
    "library(bcv)"
   ]
  },
  {
   "cell_type": "code",
   "execution_count": 4,
   "metadata": {},
   "outputs": [],
   "source": [
    "new.m.cv <- function(dimRedu){\n",
    "# matrice diagonale pour réduire les matrices originales\n",
    "m.d2 <- diag(c(m.svd$d[1:dimRedu],rep(0,length(m.svd$d)-dimRedu)))\n",
    "# nouvelle matrice basée sur les deux premières dimensions uniquement\n",
    "m.svd2 <- round((m.svd$u %*% m.d2 %*% t(m.svd$v)),2)\n",
    "mae(m.svd2[i.test.b]*5, m.na[i.test.b])\n",
    "    }\n",
    "to.plot <- c()"
   ]
  },
  {
   "cell_type": "code",
   "execution_count": 17,
   "metadata": {},
   "outputs": [
    {
     "data": {
      "text/html": [
       "100000"
      ],
      "text/latex": [
       "100000"
      ],
      "text/markdown": [
       "100000"
      ],
      "text/plain": [
       "[1] 100000"
      ]
     },
     "metadata": {},
     "output_type": "display_data"
    }
   ],
   "source": [
    "i.observed <- which(m > 0)\n",
    "i.hasard <- sample(i.observed, length(i.observed))\n",
    "length(i.hasard)\n",
    "fold.size <- round(length(i.hasard) / 5)\n",
    "i.false <- rep(FALSE, length(m))\n",
    "for (i in seq_len(5)){\n",
    "fold.number <- i\n",
    "\n",
    "## Index booléen pour les cellules de test et d'entraînement\n",
    "i.test.b <- i.false\n",
    "## Les cellules indexées du replis correspondant sont fixées à TRUE pour le test...\n",
    "i.test.b[ i.hasard[((fold.number-1) * fold.size):((fold.number) * fold.size)] ] <- TRUE\n",
    "## ...et à FALSE pour l'entraînement\n",
    "i.train.b <-  !i.test.b\n",
    "m.train <- m\n",
    "m.train[i.test.b] <- 0                # on enlève les données de test pour l'entraînement\n",
    "m.train.na <- m.train\n",
    "m.train.na[m.train==0]<-NA\n",
    "m.mean <- outer(rowMeans(m.train.na,na.rm=T),colMeans(m.train.na,na.rm=T),FUN=\"+\")/2\n",
    "m.mean[!is.finite(m.mean)]<- rowMeans(m.mean,na.rm=T)\n",
    "m.train[m.train==0] <-m.mean[m.train==0]\n",
    "m.train <- m.train/5\n",
    "m.svd <- svd(m.train)\n",
    "to.plot<-rbind(to.plot,unlist(lapply(seq(22), new.m.cv)))\n",
    "    }\n"
   ]
  },
  {
   "cell_type": "code",
   "execution_count": null,
   "metadata": {},
   "outputs": [],
   "source": []
  },
  {
   "cell_type": "code",
   "execution_count": null,
   "metadata": {},
   "outputs": [],
   "source": []
  },
  {
   "cell_type": "code",
   "execution_count": 19,
   "metadata": {},
   "outputs": [],
   "source": [
    "to.plot<-apply(to.plot,2,unlist)"
   ]
  },
  {
   "cell_type": "code",
   "execution_count": 20,
   "metadata": {},
   "outputs": [
    {
     "data": {
      "text/html": [
       "<ol class=list-inline>\n",
       "\t<li>0.00303499873253715</li>\n",
       "\t<li>0.00341744734680296</li>\n",
       "\t<li>0.0033660790950834</li>\n",
       "\t<li>0.00347406467815456</li>\n",
       "\t<li>0.00390360713345485</li>\n",
       "\t<li>0.00384616971072162</li>\n",
       "\t<li>0.0036818382962098</li>\n",
       "\t<li>0.00365818034103468</li>\n",
       "\t<li>0.00331475509393277</li>\n",
       "\t<li>0.00354229757887338</li>\n",
       "\t<li>0.00341693264411475</li>\n",
       "\t<li>0.00325825259626725</li>\n",
       "\t<li>0.0026444686997385</li>\n",
       "\t<li>0.00302236782437751</li>\n",
       "\t<li>0.00314616691827663</li>\n",
       "\t<li>0.00321193458747678</li>\n",
       "\t<li>0.00339523981346615</li>\n",
       "\t<li>0.00341159092000839</li>\n",
       "\t<li>0.00324286034567696</li>\n",
       "\t<li>0.00316253518264684</li>\n",
       "\t<li>0.0032399790957982</li>\n",
       "\t<li>0.00339686427048635</li>\n",
       "</ol>\n"
      ],
      "text/latex": [
       "\\begin{enumerate*}\n",
       "\\item 0.00303499873253715\n",
       "\\item 0.00341744734680296\n",
       "\\item 0.0033660790950834\n",
       "\\item 0.00347406467815456\n",
       "\\item 0.00390360713345485\n",
       "\\item 0.00384616971072162\n",
       "\\item 0.0036818382962098\n",
       "\\item 0.00365818034103468\n",
       "\\item 0.00331475509393277\n",
       "\\item 0.00354229757887338\n",
       "\\item 0.00341693264411475\n",
       "\\item 0.00325825259626725\n",
       "\\item 0.0026444686997385\n",
       "\\item 0.00302236782437751\n",
       "\\item 0.00314616691827663\n",
       "\\item 0.00321193458747678\n",
       "\\item 0.00339523981346615\n",
       "\\item 0.00341159092000839\n",
       "\\item 0.00324286034567696\n",
       "\\item 0.00316253518264684\n",
       "\\item 0.0032399790957982\n",
       "\\item 0.00339686427048635\n",
       "\\end{enumerate*}\n"
      ],
      "text/markdown": [
       "1. 0.00303499873253715\n",
       "2. 0.00341744734680296\n",
       "3. 0.0033660790950834\n",
       "4. 0.00347406467815456\n",
       "5. 0.00390360713345485\n",
       "6. 0.00384616971072162\n",
       "7. 0.0036818382962098\n",
       "8. 0.00365818034103468\n",
       "9. 0.00331475509393277\n",
       "10. 0.00354229757887338\n",
       "11. 0.00341693264411475\n",
       "12. 0.00325825259626725\n",
       "13. 0.0026444686997385\n",
       "14. 0.00302236782437751\n",
       "15. 0.00314616691827663\n",
       "16. 0.00321193458747678\n",
       "17. 0.00339523981346615\n",
       "18. 0.00341159092000839\n",
       "19. 0.00324286034567696\n",
       "20. 0.00316253518264684\n",
       "21. 0.0032399790957982\n",
       "22. 0.00339686427048635\n",
       "\n",
       "\n"
      ],
      "text/plain": [
       " [1] 0.003034999 0.003417447 0.003366079 0.003474065 0.003903607 0.003846170\n",
       " [7] 0.003681838 0.003658180 0.003314755 0.003542298 0.003416933 0.003258253\n",
       "[13] 0.002644469 0.003022368 0.003146167 0.003211935 0.003395240 0.003411591\n",
       "[19] 0.003242860 0.003162535 0.003239979 0.003396864"
      ]
     },
     "metadata": {},
     "output_type": "display_data"
    }
   ],
   "source": [
    "sdev <- apply(to.plot,2,sd) \n",
    "sdev\n",
    "avg <- colMeans(to.plot)\n",
    "x <- 1:length(avg)"
   ]
  },
  {
   "cell_type": "code",
   "execution_count": 21,
   "metadata": {},
   "outputs": [
    {
     "data": {
      "image/png": "[encoded data removed]",
      "text/plain": [
       "Plot with title \"Scatter plot with std.dev error bars\""
      ]
     },
     "metadata": {},
     "output_type": "display_data"
    }
   ],
   "source": [
    "plot(x,colMeans(to.plot),ylim=range(c(avg-sdev, avg+sdev)),pch=19, xlab=\"Measurements\", ylab=\"Mean +/- SD\",\n",
    "    main=\"Scatter plot with std.dev error bars\"\n",
    ")\n",
    "# hack: we draw arrows but with very special \"arrowheads\"\n",
    "arrows(x, avg-sdev, x, avg+sdev, length=0.05, angle=90, code=3)"
   ]
  }
 ],
 "metadata": {
  "kernelspec": {
   "display_name": "R",
   "language": "R",
   "name": "ir"
  },
  "language_info": {
   "codemirror_mode": "r",
   "file_extension": ".r",
   "mimetype": "text/x-r-source",
   "name": "R",
   "pygments_lexer": "r",
   "version": "3.5.1"
  }
 },
 "nbformat": 4,
 "nbformat_minor": 2
}
