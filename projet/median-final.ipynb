{
 "cells": [
  {
   "cell_type": "code",
   "execution_count": 1,
   "metadata": {},
   "outputs": [],
   "source": [
    "### Lectures des donnees et fonctions\n",
    "u.user <- read.csv(file='u.user.csv', sep='|', header=T)\n",
    "u.item <- read.csv(file='u.item.csv', sep='|', header=T)\n",
    "u.data <- read.csv(file='u.data.csv', sep='|', header=T)\n",
    "library(Matrix)\n",
    "m.sparse <- sparseMatrix(u.data[,1],u.data[,2],x=u.data[,3])\n",
    "rownames(m.sparse) <- paste('u', 1:nrow(m.sparse), sep='')\n",
    "colnames(m.sparse) <- paste('i', 1:ncol(m.sparse), sep='')\n",
    "mae <- function(m1, m2) mean(abs(m1 - m2), na.rm=T)\n",
    "\n",
    "m <- as.matrix(m.sparse)                # transforme en matrice ordinaire\n",
    "m.na <- m\n",
    "m.na[m.na==0] <- NA\n",
    "mae.rmse <- function(m, m.hat) {\n",
    "    return(list(mae=mean(abs(m - m.hat), na.rm=T), rmse=sqrt(mean((m - m.hat)^2, na.rm=T))))\n",
    "}\n",
    "new.m.mae.rmse <- function(dimRedu){\n",
    "# matrice diagonale pour réduire les matrices originales\n",
    "m.d2 <- diag(c(m.svd$d[1:dimRedu],rep(0,length(m.svd$d)-dimRedu)))\n",
    "# nouvelle matrice basée sur les deux premières dimensions uniquement\n",
    "m.svd2 <- round((m.svd$u %*% m.d2 %*% t(m.svd$v)),2)\n",
    "mae.rmse(m.svd2, m)\n",
    "    }"
   ]
  },
  {
   "cell_type": "code",
   "execution_count": 2,
   "metadata": {},
   "outputs": [],
   "source": [
    "# fonction de reduction de dimensions et calcul de MAE\n",
    "new.m.cv <- function(dimRedu){\n",
    "# matrice diagonale pour réduire les matrices originales\n",
    "m.d2 <- diag(c(m.svd$d[1:dimRedu],rep(0,length(m.svd$d)-dimRedu)))\n",
    "# nouvelle matrice basée sur les deux premières dimensions uniquement\n",
    "m.svd2 <- round((m.svd$u %*% m.d2 %*% t(m.svd$v)),2)+r.means\n",
    "mae(m.svd2[i.test.b], m.na[i.test.b])\n",
    "    }\n"
   ]
  },
  {
   "cell_type": "code",
   "execution_count": 3,
   "metadata": {},
   "outputs": [],
   "source": [
    "library('matrixStats')"
   ]
  },
  {
   "cell_type": "code",
   "execution_count": 4,
   "metadata": {},
   "outputs": [
    {
     "data": {
      "text/plain": [
       "   user  system elapsed \n",
       " 28.200   0.256  28.472 "
      ]
     },
     "metadata": {},
     "output_type": "display_data"
    }
   ],
   "source": [
    "# creation du 5-fold\n",
    "i.observed <- which(m > 0)\n",
    "i.hasard <- sample(i.observed, length(i.observed))\n",
    "fold.size <- round(length(i.hasard) / 5)\n",
    "i.false <- rep(FALSE, length(m))\n",
    "to.plot <- c()\n",
    "set.seed(1)\n",
    "cv.b <- c()\n",
    "ptm <- proc.time()\n",
    "\n",
    "# on itere pour les 5fold\n",
    "for (i in seq_len(5)){\n",
    "    fold.number <- i\n",
    "\n",
    "    ## Index booléen pour les cellules de test et d'entraînement\n",
    "    i.test.b <- i.false\n",
    "    ## Les cellules indexées du replis correspondant sont fixées à TRUE pour le test...\n",
    "    i.test.b[ i.hasard[((fold.number-1) * fold.size):((fold.number) * fold.size)] ] <- TRUE\n",
    "    ## ...et à FALSE pour l'entraînement\n",
    "    i.train.b <-  !i.test.b\n",
    "    m.train <- m\n",
    "    m.train[i.test.b] <- 0                # on enlève les données de test pour l'entraînement\n",
    "    m.train.na <- m.train\n",
    "    m.train.na[m.train==0]<-NA\n",
    "\n",
    "    # mediane des usagers\n",
    "    u.median <- matrix(rowMedians(m.train.na, na.rm=T), nrow(m), ncol(m))\n",
    "    # mediane des films\n",
    "    item.median <- matrix(colMedians(m.train.na, na.rm=T), nrow(m), ncol(m), byrow=T)\n",
    "    # moyenne des medianes lignes et colonnes\n",
    "    m.expect.medians <- ((u.median + item.median)/2)\n",
    "    m.train.na[m.train==0] <-m.expect.medians[m.train==0]\n",
    "    r.means <- rowMedians(m.train.na, na.rm=T)\n",
    "    m.train.na[!is.finite(m.train.na)]<- r.means\n",
    "    r.means <- rowMedians(m.train.na, na.rm=T)\n",
    "    cv.b <- c(cv.b,mae(m.train.na[i.test.b], m.na[i.test.b]))\n",
    "    # on normalise\n",
    "    m.train.na <- m.train.na-r.means\n",
    "    m.svd <- svd(m.train.na)\n",
    "    # on sauvegarde les donnees pour le fold\n",
    "    to.plot<-rbind(to.plot,unlist(lapply(seq(22), new.m.cv)))\n",
    "    }\n",
    "(proc.time()-ptm)/5\n"
   ]
  },
  {
   "cell_type": "code",
   "execution_count": 5,
   "metadata": {},
   "outputs": [],
   "source": [
    "to.plot<-apply(to.plot,2,unlist)"
   ]
  },
  {
   "cell_type": "code",
   "execution_count": 6,
   "metadata": {},
   "outputs": [],
   "source": [
    "sdev <- apply(to.plot,2,sd) \n",
    "avg <- colMeans(to.plot)\n",
    "x <- 1:length(avg)"
   ]
  },
  {
   "cell_type": "code",
   "execution_count": 11,
   "metadata": {},
   "outputs": [
    {
     "data": {
      "image/png": "[encoded data removed]",
      "text/plain": [
       "Plot with title \"Médiane des lignes et colonnes\""
      ]
     },
     "metadata": {},
     "output_type": "display_data"
    }
   ],
   "source": [
    "# graphique\n",
    "plot(x,avg,ylim = c(0.745, 0.79),pch=19, xlab=\"Dimensions\", ylab=\"MAE +/- SD\",\n",
    "    main=\"Médiane des lignes et colonnes\"\n",
    ")\n",
    "# hack: we draw arrows but with very special \"arrowheads\"\n",
    "arrows(x, avg-sdev, x, avg+sdev, length=0.05, angle=90, code=3)"
   ]
  },
  {
   "cell_type": "markdown",
   "metadata": {},
   "source": [
    "Moyenne du MAE pour les 5fold"
   ]
  },
  {
   "cell_type": "code",
   "execution_count": 8,
   "metadata": {},
   "outputs": [
    {
     "data": {
      "text/html": [
       "0.771174170166492"
      ],
      "text/latex": [
       "0.771174170166492"
      ],
      "text/markdown": [
       "0.771174170166492"
      ],
      "text/plain": [
       "[1] 0.7711742"
      ]
     },
     "metadata": {},
     "output_type": "display_data"
    }
   ],
   "source": [
    "mean(cv.b)"
   ]
  },
  {
   "cell_type": "markdown",
   "metadata": {},
   "source": [
    "Moyenne du MAE par dimension pour les 5fold"
   ]
  },
  {
   "cell_type": "code",
   "execution_count": 9,
   "metadata": {},
   "outputs": [
    {
     "data": {
      "text/html": [
       "<ol class=list-inline>\n",
       "\t<li>0.769564537438128</li>\n",
       "\t<li>0.761792846842658</li>\n",
       "\t<li>0.757353228433578</li>\n",
       "\t<li>0.756865649532523</li>\n",
       "\t<li>0.75519291740913</li>\n",
       "\t<li>0.753672581210939</li>\n",
       "\t<li>0.752832918524074</li>\n",
       "\t<li>0.751873250122494</li>\n",
       "\t<li>0.751609661761912</li>\n",
       "\t<li>0.751347366271686</li>\n",
       "\t<li>0.751411264841758</li>\n",
       "\t<li>0.751651856362182</li>\n",
       "\t<li>0.751908747117644</li>\n",
       "\t<li>0.752176934103295</li>\n",
       "\t<li>0.752556916254187</li>\n",
       "\t<li>0.753164191310434</li>\n",
       "\t<li>0.753568279771011</li>\n",
       "\t<li>0.754089056172191</li>\n",
       "\t<li>0.754488038253087</li>\n",
       "\t<li>0.754677035568222</li>\n",
       "\t<li>0.7552581160092</li>\n",
       "\t<li>0.755545402114894</li>\n",
       "</ol>\n"
      ],
      "text/latex": [
       "\\begin{enumerate*}\n",
       "\\item 0.769564537438128\n",
       "\\item 0.761792846842658\n",
       "\\item 0.757353228433578\n",
       "\\item 0.756865649532523\n",
       "\\item 0.75519291740913\n",
       "\\item 0.753672581210939\n",
       "\\item 0.752832918524074\n",
       "\\item 0.751873250122494\n",
       "\\item 0.751609661761912\n",
       "\\item 0.751347366271686\n",
       "\\item 0.751411264841758\n",
       "\\item 0.751651856362182\n",
       "\\item 0.751908747117644\n",
       "\\item 0.752176934103295\n",
       "\\item 0.752556916254187\n",
       "\\item 0.753164191310434\n",
       "\\item 0.753568279771011\n",
       "\\item 0.754089056172191\n",
       "\\item 0.754488038253087\n",
       "\\item 0.754677035568222\n",
       "\\item 0.7552581160092\n",
       "\\item 0.755545402114894\n",
       "\\end{enumerate*}\n"
      ],
      "text/markdown": [
       "1. 0.769564537438128\n",
       "2. 0.761792846842658\n",
       "3. 0.757353228433578\n",
       "4. 0.756865649532523\n",
       "5. 0.75519291740913\n",
       "6. 0.753672581210939\n",
       "7. 0.752832918524074\n",
       "8. 0.751873250122494\n",
       "9. 0.751609661761912\n",
       "10. 0.751347366271686\n",
       "11. 0.751411264841758\n",
       "12. 0.751651856362182\n",
       "13. 0.751908747117644\n",
       "14. 0.752176934103295\n",
       "15. 0.752556916254187\n",
       "16. 0.753164191310434\n",
       "17. 0.753568279771011\n",
       "18. 0.754089056172191\n",
       "19. 0.754488038253087\n",
       "20. 0.754677035568222\n",
       "21. 0.7552581160092\n",
       "22. 0.755545402114894\n",
       "\n",
       "\n"
      ],
      "text/plain": [
       " [1] 0.7695645 0.7617928 0.7573532 0.7568656 0.7551929 0.7536726 0.7528329\n",
       " [8] 0.7518733 0.7516097 0.7513474 0.7514113 0.7516519 0.7519087 0.7521769\n",
       "[15] 0.7525569 0.7531642 0.7535683 0.7540891 0.7544880 0.7546770 0.7552581\n",
       "[22] 0.7555454"
      ]
     },
     "metadata": {},
     "output_type": "display_data"
    }
   ],
   "source": [
    "avg"
   ]
  },
  {
   "cell_type": "markdown",
   "metadata": {},
   "source": [
    "On ecrit la valeur dans un fichier pour utilisation future"
   ]
  },
  {
   "cell_type": "code",
   "execution_count": null,
   "metadata": {},
   "outputs": [],
   "source": [
    "write.table(avg, file=\"out/total/median.csv\",sep=\"\")"
   ]
  },
  {
   "cell_type": "code",
   "execution_count": null,
   "metadata": {},
   "outputs": [],
   "source": []
  }
 ],
 "metadata": {
  "kernelspec": {
   "display_name": "R",
   "language": "R",
   "name": "ir"
  },
  "language_info": {
   "codemirror_mode": "r",
   "file_extension": ".r",
   "mimetype": "text/x-r-source",
   "name": "R",
   "pygments_lexer": "r",
   "version": "3.5.1"
  }
 },
 "nbformat": 4,
 "nbformat_minor": 2
}
