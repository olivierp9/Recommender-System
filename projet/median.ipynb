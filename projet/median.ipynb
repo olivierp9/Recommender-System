{
 "cells": [
  {
   "cell_type": "code",
   "execution_count": 35,
   "metadata": {},
   "outputs": [],
   "source": [
    "### Si données locales\n",
    "u.user <- read.csv(file='u.user.csv', sep='|', header=T)\n",
    "u.item <- read.csv(file='u.item.csv', sep='|', header=T)\n",
    "u.data <- read.csv(file='u.data.csv', sep='|', header=T)\n",
    "library(Matrix)\n",
    "m.sparse <- sparseMatrix(u.data[,1],u.data[,2],x=u.data[,3])\n",
    "rownames(m.sparse) <- paste('u', 1:nrow(m.sparse), sep='')\n",
    "colnames(m.sparse) <- paste('i', 1:ncol(m.sparse), sep='')\n",
    "mae <- function(m1, m2) mean(abs(m1 - m2), na.rm=T)\n",
    "\n",
    "m <- as.matrix(m.sparse)                # transforme en matrice ordinaire\n",
    "m.na <- m\n",
    "m.na[m.na==0] <- NA\n",
    "mae.rmse <- function(m, m.hat) {\n",
    "    return(list(mae=mean(abs(m - m.hat), na.rm=T), rmse=sqrt(mean((m - m.hat)^2, na.rm=T))))\n",
    "}\n",
    "new.m.mae.rmse <- function(dimRedu){\n",
    "# matrice diagonale pour réduire les matrices originales\n",
    "m.d2 <- diag(c(m.svd$d[1:dimRedu],rep(0,length(m.svd$d)-dimRedu)))\n",
    "# nouvelle matrice basée sur les deux premières dimensions uniquement\n",
    "m.svd2 <- round((m.svd$u %*% m.d2 %*% t(m.svd$v)),2)\n",
    "mae.rmse(m.svd2, m)\n",
    "    }"
   ]
  },
  {
   "cell_type": "code",
   "execution_count": 36,
   "metadata": {},
   "outputs": [],
   "source": [
    "new.m.cv <- function(dimRedu){\n",
    "# matrice diagonale pour réduire les matrices originales\n",
    "m.d2 <- diag(c(m.svd$d[1:dimRedu],rep(0,length(m.svd$d)-dimRedu)))\n",
    "# nouvelle matrice basée sur les deux premières dimensions uniquement\n",
    "m.svd2 <- round((m.svd$u %*% m.d2 %*% t(m.svd$v)),2)+r.means\n",
    "mae(m.svd2[i.test.b], m.na[i.test.b])\n",
    "    }\n"
   ]
  },
  {
   "cell_type": "code",
   "execution_count": 37,
   "metadata": {},
   "outputs": [],
   "source": [
    "library('matrixStats')"
   ]
  },
  {
   "cell_type": "code",
   "execution_count": 38,
   "metadata": {},
   "outputs": [
    {
     "data": {
      "text/plain": [
       "   user  system elapsed \n",
       " 36.924   0.290  37.220 "
      ]
     },
     "metadata": {},
     "output_type": "display_data"
    }
   ],
   "source": [
    "i.observed <- which(m > 0)\n",
    "i.hasard <- sample(i.observed, length(i.observed))\n",
    "fold.size <- round(length(i.hasard) / 5)\n",
    "i.false <- rep(FALSE, length(m))\n",
    "to.plot <- c()\n",
    "set.seed(1)\n",
    "cv.b <- c()\n",
    "ptm <- proc.time()\n",
    "for (i in seq_len(5)){\n",
    "fold.number <- i\n",
    "\n",
    "## Index booléen pour les cellules de test et d'entraînement\n",
    "i.test.b <- i.false\n",
    "## Les cellules indexées du replis correspondant sont fixées à TRUE pour le test...\n",
    "i.test.b[ i.hasard[((fold.number-1) * fold.size):((fold.number) * fold.size)] ] <- TRUE\n",
    "## ...et à FALSE pour l'entraînement\n",
    "i.train.b <-  !i.test.b\n",
    "m.train <- m\n",
    "m.train[i.test.b] <- 0                # on enlève les données de test pour l'entraînement\n",
    "m.train.na <- m.train\n",
    "m.train.na[m.train==0]<-NA\n",
    "    \n",
    "u.median <- matrix(rowMedians(m.train.na, na.rm=T), nrow(m), ncol(m))\n",
    "item.median <- matrix(colMedians(m.train.na, na.rm=T), nrow(m), ncol(m), byrow=T)\n",
    "m.expect.medians <- ((u.median + item.median)/2)\n",
    "m.train.na[m.train==0] <-m.expect.medians[m.train==0]\n",
    "r.means <- rowMedians(m.train.na, na.rm=T)\n",
    "m.train.na[!is.finite(m.train.na)]<- r.means\n",
    "r.means <- rowMedians(m.train.na, na.rm=T)\n",
    "cv.b <- c(cv.b,mae(m.train.na[i.test.b], m.na[i.test.b]))\n",
    "m.train.na <- m.train.na-r.means\n",
    "m.svd <- svd(m.train.na)\n",
    "\n",
    "to.plot<-rbind(to.plot,unlist(lapply(seq(22), new.m.cv)))\n",
    "    }\n",
    "(proc.time()-ptm)/5\n"
   ]
  },
  {
   "cell_type": "code",
   "execution_count": 39,
   "metadata": {},
   "outputs": [],
   "source": [
    "to.plot<-apply(to.plot,2,unlist)"
   ]
  },
  {
   "cell_type": "code",
   "execution_count": 40,
   "metadata": {},
   "outputs": [
    {
     "data": {
      "text/html": [
       "<ol class=list-inline>\n",
       "\t<li>0.769478084375781</li>\n",
       "\t<li>0.761457103669816</li>\n",
       "\t<li>0.756999181425929</li>\n",
       "\t<li>0.75658659961002</li>\n",
       "\t<li>0.754778470886456</li>\n",
       "\t<li>0.753382923418829</li>\n",
       "\t<li>0.752570460141993</li>\n",
       "\t<li>0.751354008509574</li>\n",
       "\t<li>0.751256719039048</li>\n",
       "\t<li>0.75138821059947</li>\n",
       "\t<li>0.751027621173941</li>\n",
       "\t<li>0.751118017269137</li>\n",
       "\t<li>0.751339102079896</li>\n",
       "\t<li>0.751749787220639</li>\n",
       "\t<li>0.752176663061847</li>\n",
       "\t<li>0.752437547532623</li>\n",
       "\t<li>0.752899130883456</li>\n",
       "\t<li>0.753272609619519</li>\n",
       "\t<li>0.753428702174891</li>\n",
       "\t<li>0.753932079781011</li>\n",
       "\t<li>0.75434396619669</li>\n",
       "\t<li>0.754923544372781</li>\n",
       "</ol>\n"
      ],
      "text/latex": [
       "\\begin{enumerate*}\n",
       "\\item 0.769478084375781\n",
       "\\item 0.761457103669816\n",
       "\\item 0.756999181425929\n",
       "\\item 0.75658659961002\n",
       "\\item 0.754778470886456\n",
       "\\item 0.753382923418829\n",
       "\\item 0.752570460141993\n",
       "\\item 0.751354008509574\n",
       "\\item 0.751256719039048\n",
       "\\item 0.75138821059947\n",
       "\\item 0.751027621173941\n",
       "\\item 0.751118017269137\n",
       "\\item 0.751339102079896\n",
       "\\item 0.751749787220639\n",
       "\\item 0.752176663061847\n",
       "\\item 0.752437547532623\n",
       "\\item 0.752899130883456\n",
       "\\item 0.753272609619519\n",
       "\\item 0.753428702174891\n",
       "\\item 0.753932079781011\n",
       "\\item 0.75434396619669\n",
       "\\item 0.754923544372781\n",
       "\\end{enumerate*}\n"
      ],
      "text/markdown": [
       "1. 0.769478084375781\n",
       "2. 0.761457103669816\n",
       "3. 0.756999181425929\n",
       "4. 0.75658659961002\n",
       "5. 0.754778470886456\n",
       "6. 0.753382923418829\n",
       "7. 0.752570460141993\n",
       "8. 0.751354008509574\n",
       "9. 0.751256719039048\n",
       "10. 0.75138821059947\n",
       "11. 0.751027621173941\n",
       "12. 0.751118017269137\n",
       "13. 0.751339102079896\n",
       "14. 0.751749787220639\n",
       "15. 0.752176663061847\n",
       "16. 0.752437547532623\n",
       "17. 0.752899130883456\n",
       "18. 0.753272609619519\n",
       "19. 0.753428702174891\n",
       "20. 0.753932079781011\n",
       "21. 0.75434396619669\n",
       "22. 0.754923544372781\n",
       "\n",
       "\n"
      ],
      "text/plain": [
       " [1] 0.7694781 0.7614571 0.7569992 0.7565866 0.7547785 0.7533829 0.7525705\n",
       " [8] 0.7513540 0.7512567 0.7513882 0.7510276 0.7511180 0.7513391 0.7517498\n",
       "[15] 0.7521767 0.7524375 0.7528991 0.7532726 0.7534287 0.7539321 0.7543440\n",
       "[22] 0.7549235"
      ]
     },
     "metadata": {},
     "output_type": "display_data"
    }
   ],
   "source": [
    "sdev <- apply(to.plot,2,sd) \n",
    "avg <- colMeans(to.plot)\n",
    "avg\n",
    "x <- 1:length(avg)"
   ]
  },
  {
   "cell_type": "code",
   "execution_count": 41,
   "metadata": {},
   "outputs": [
    {
     "data": {
      "image/png": "[encoded data removed]",
      "text/plain": [
       "Plot with title \"Medianne des lignes et colonnes\""
      ]
     },
     "metadata": {},
     "output_type": "display_data"
    }
   ],
   "source": [
    "plot(x,avg,ylim=range(c(avg-sdev, avg+sdev)),pch=19, xlab=\"Dimensions\", ylab=\"MAE +/- SD\",\n",
    "    main=\"Medianne des lignes et colonnes\"\n",
    ")\n",
    "# hack: we draw arrows but with very special \"arrowheads\"\n",
    "arrows(x, avg-sdev, x, avg+sdev, length=0.05, angle=90, code=3)"
   ]
  },
  {
   "cell_type": "code",
   "execution_count": 42,
   "metadata": {},
   "outputs": [
    {
     "data": {
      "text/html": [
       "0.771219117419129"
      ],
      "text/latex": [
       "0.771219117419129"
      ],
      "text/markdown": [
       "0.771219117419129"
      ],
      "text/plain": [
       "[1] 0.7712191"
      ]
     },
     "metadata": {},
     "output_type": "display_data"
    }
   ],
   "source": [
    "mean(cv.b)"
   ]
  },
  {
   "cell_type": "code",
   "execution_count": 43,
   "metadata": {},
   "outputs": [
    {
     "data": {
      "text/html": [
       "<ol class=list-inline>\n",
       "\t<li>0.769478084375781</li>\n",
       "\t<li>0.761457103669816</li>\n",
       "\t<li>0.756999181425929</li>\n",
       "\t<li>0.75658659961002</li>\n",
       "\t<li>0.754778470886456</li>\n",
       "\t<li>0.753382923418829</li>\n",
       "\t<li>0.752570460141993</li>\n",
       "\t<li>0.751354008509574</li>\n",
       "\t<li>0.751256719039048</li>\n",
       "\t<li>0.75138821059947</li>\n",
       "\t<li>0.751027621173941</li>\n",
       "\t<li>0.751118017269137</li>\n",
       "\t<li>0.751339102079896</li>\n",
       "\t<li>0.751749787220639</li>\n",
       "\t<li>0.752176663061847</li>\n",
       "\t<li>0.752437547532623</li>\n",
       "\t<li>0.752899130883456</li>\n",
       "\t<li>0.753272609619519</li>\n",
       "\t<li>0.753428702174891</li>\n",
       "\t<li>0.753932079781011</li>\n",
       "\t<li>0.75434396619669</li>\n",
       "\t<li>0.754923544372781</li>\n",
       "</ol>\n"
      ],
      "text/latex": [
       "\\begin{enumerate*}\n",
       "\\item 0.769478084375781\n",
       "\\item 0.761457103669816\n",
       "\\item 0.756999181425929\n",
       "\\item 0.75658659961002\n",
       "\\item 0.754778470886456\n",
       "\\item 0.753382923418829\n",
       "\\item 0.752570460141993\n",
       "\\item 0.751354008509574\n",
       "\\item 0.751256719039048\n",
       "\\item 0.75138821059947\n",
       "\\item 0.751027621173941\n",
       "\\item 0.751118017269137\n",
       "\\item 0.751339102079896\n",
       "\\item 0.751749787220639\n",
       "\\item 0.752176663061847\n",
       "\\item 0.752437547532623\n",
       "\\item 0.752899130883456\n",
       "\\item 0.753272609619519\n",
       "\\item 0.753428702174891\n",
       "\\item 0.753932079781011\n",
       "\\item 0.75434396619669\n",
       "\\item 0.754923544372781\n",
       "\\end{enumerate*}\n"
      ],
      "text/markdown": [
       "1. 0.769478084375781\n",
       "2. 0.761457103669816\n",
       "3. 0.756999181425929\n",
       "4. 0.75658659961002\n",
       "5. 0.754778470886456\n",
       "6. 0.753382923418829\n",
       "7. 0.752570460141993\n",
       "8. 0.751354008509574\n",
       "9. 0.751256719039048\n",
       "10. 0.75138821059947\n",
       "11. 0.751027621173941\n",
       "12. 0.751118017269137\n",
       "13. 0.751339102079896\n",
       "14. 0.751749787220639\n",
       "15. 0.752176663061847\n",
       "16. 0.752437547532623\n",
       "17. 0.752899130883456\n",
       "18. 0.753272609619519\n",
       "19. 0.753428702174891\n",
       "20. 0.753932079781011\n",
       "21. 0.75434396619669\n",
       "22. 0.754923544372781\n",
       "\n",
       "\n"
      ],
      "text/plain": [
       " [1] 0.7694781 0.7614571 0.7569992 0.7565866 0.7547785 0.7533829 0.7525705\n",
       " [8] 0.7513540 0.7512567 0.7513882 0.7510276 0.7511180 0.7513391 0.7517498\n",
       "[15] 0.7521767 0.7524375 0.7528991 0.7532726 0.7534287 0.7539321 0.7543440\n",
       "[22] 0.7549235"
      ]
     },
     "metadata": {},
     "output_type": "display_data"
    }
   ],
   "source": [
    "avg"
   ]
  },
  {
   "cell_type": "code",
   "execution_count": 44,
   "metadata": {},
   "outputs": [],
   "source": [
    "write.table(avg, file=\"out/total/median.csv\",sep=\"\")"
   ]
  },
  {
   "cell_type": "code",
   "execution_count": null,
   "metadata": {},
   "outputs": [],
   "source": []
  }
 ],
 "metadata": {
  "kernelspec": {
   "display_name": "R",
   "language": "R",
   "name": "ir"
  },
  "language_info": {
   "codemirror_mode": "r",
   "file_extension": ".r",
   "mimetype": "text/x-r-source",
   "name": "R",
   "pygments_lexer": "r",
   "version": "3.5.1"
  }
 },
 "nbformat": 4,
 "nbformat_minor": 2
}
