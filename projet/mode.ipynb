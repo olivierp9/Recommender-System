{
 "cells": [
  {
   "cell_type": "code",
   "execution_count": 21,
   "metadata": {},
   "outputs": [],
   "source": [
    "### Si données locales\n",
    "u.user <- read.csv(file='u.user.csv', sep='|', header=T)\n",
    "u.item <- read.csv(file='u.item.csv', sep='|', header=T)\n",
    "u.data <- read.csv(file='u.data.csv', sep='|', header=T)\n",
    "library(Matrix)\n",
    "m.sparse <- sparseMatrix(u.data[,1],u.data[,2],x=u.data[,3])\n",
    "rownames(m.sparse) <- paste('u', 1:nrow(m.sparse), sep='')\n",
    "colnames(m.sparse) <- paste('i', 1:ncol(m.sparse), sep='')\n",
    "mae <- function(m1, m2) mean(abs(m1 - m2), na.rm=T)\n",
    "\n",
    "m <- as.matrix(m.sparse)                # transforme en matrice ordinaire\n",
    "m.na <- m\n",
    "m.na[m.na==0] <- NA\n",
    "mae.rmse <- function(m, m.hat) {\n",
    "    return(list(mae=mean(abs(m - m.hat), na.rm=T), rmse=sqrt(mean((m - m.hat)^2, na.rm=T))))\n",
    "}\n",
    "new.m.mae.rmse <- function(dimRedu){\n",
    "# matrice diagonale pour réduire les matrices originales\n",
    "m.d2 <- diag(c(m.svd$d[1:dimRedu],rep(0,length(m.svd$d)-dimRedu)))\n",
    "# nouvelle matrice basée sur les deux premières dimensions uniquement\n",
    "m.svd2 <- round((m.svd$u %*% m.d2 %*% t(m.svd$v)),2)\n",
    "mae.rmse(m.svd2, m)\n",
    "    }"
   ]
  },
  {
   "cell_type": "code",
   "execution_count": 22,
   "metadata": {},
   "outputs": [],
   "source": [
    "new.m.cv <- function(dimRedu){\n",
    "# matrice diagonale pour réduire les matrices originales\n",
    "m.d2 <- diag(c(m.svd$d[1:dimRedu],rep(0,length(m.svd$d)-dimRedu)))\n",
    "# nouvelle matrice basée sur les deux premières dimensions uniquement\n",
    "m.svd2 <- round((m.svd$u %*% m.d2 %*% t(m.svd$v)),2)+r.means\n",
    "mae(m.svd2[i.test.b], m.na[i.test.b])\n",
    "    }\n"
   ]
  },
  {
   "cell_type": "code",
   "execution_count": 23,
   "metadata": {},
   "outputs": [],
   "source": [
    "Mode <- function(x) {\n",
    "  ux <- unique(x[x>0])\n",
    "  ux[which.max(tabulate(match(x[x>0], ux)))]\n",
    "}"
   ]
  },
  {
   "cell_type": "code",
   "execution_count": 24,
   "metadata": {},
   "outputs": [
    {
     "data": {
      "text/plain": [
       "   user  system elapsed \n",
       " 36.474   0.222  36.788 "
      ]
     },
     "metadata": {},
     "output_type": "display_data"
    }
   ],
   "source": [
    "i.observed <- which(m > 0)\n",
    "i.hasard <- sample(i.observed, length(i.observed))\n",
    "fold.size <- round(length(i.hasard) / 5)\n",
    "i.false <- rep(FALSE, length(m))\n",
    "to.plot <- c()\n",
    "set.seed(1)\n",
    "cv.b <- c()\n",
    "ptm <- proc.time()\n",
    "for (i in seq_len(5)){\n",
    "fold.number <- i\n",
    "\n",
    "## Index booléen pour les cellules de test et d'entraînement\n",
    "i.test.b <- i.false\n",
    "## Les cellules indexées du replis correspondant sont fixées à TRUE pour le test...\n",
    "i.test.b[ i.hasard[((fold.number-1) * fold.size):((fold.number) * fold.size)] ] <- TRUE\n",
    "## ...et à FALSE pour l'entraînement\n",
    "i.train.b <-  !i.test.b\n",
    "m.train <- m\n",
    "m.train[i.test.b] <- 0                # on enlève les données de test pour l'entraînement\n",
    "m.train.na <- m.train\n",
    "m.train.na[m.train==0]<-NA\n",
    "    \n",
    "u.mode <- apply(m.train,1,FUN=Mode)\n",
    "item.mode <-apply(m.train,2,FUN=Mode)\n",
    "m.expect.mode <- outer( u.mode,item.mode, FUN=\"+\")/2\n",
    "m.train.na[m.train==0] <-m.expect.mode[m.train==0]\n",
    "r.means <-apply(m.train,1,FUN=Mode)\n",
    "m.train.na[!is.finite(m.train.na)]<- r.means\n",
    "r.means <- apply(m.train,1,FUN=Mode)\n",
    "cv.b <- c(cv.b,mae(m.train.na[i.test.b], m.na[i.test.b]))\n",
    "m.train.na <- m.train.na-r.means\n",
    "m.svd <- svd(m.train.na)\n",
    "to.plot<-rbind(to.plot,unlist(lapply(seq(22), new.m.cv)))\n",
    "    }\n",
    "(proc.time()-ptm)/5\n"
   ]
  },
  {
   "cell_type": "code",
   "execution_count": 25,
   "metadata": {},
   "outputs": [],
   "source": [
    "to.plot<-apply(to.plot,2,unlist)"
   ]
  },
  {
   "cell_type": "code",
   "execution_count": 26,
   "metadata": {},
   "outputs": [
    {
     "data": {
      "text/html": [
       "<ol class=list-inline>\n",
       "\t<li>0.816914573066347</li>\n",
       "\t<li>0.779171633548323</li>\n",
       "\t<li>0.77236080779461</li>\n",
       "\t<li>0.767827087820609</li>\n",
       "\t<li>0.766390147037648</li>\n",
       "\t<li>0.764894114839258</li>\n",
       "\t<li>0.763958745687716</li>\n",
       "\t<li>0.762900493070346</li>\n",
       "\t<li>0.762431607224639</li>\n",
       "\t<li>0.762471309309535</li>\n",
       "\t<li>0.762854096265187</li>\n",
       "\t<li>0.762762388770561</li>\n",
       "\t<li>0.763031078681066</li>\n",
       "\t<li>0.763388962211889</li>\n",
       "\t<li>0.763669954667267</li>\n",
       "\t<li>0.764046240157992</li>\n",
       "\t<li>0.764669615284236</li>\n",
       "\t<li>0.764964307079646</li>\n",
       "\t<li>0.765177997915104</li>\n",
       "\t<li>0.765645477786111</li>\n",
       "\t<li>0.765963862866857</li>\n",
       "\t<li>0.766349944247788</li>\n",
       "</ol>\n"
      ],
      "text/latex": [
       "\\begin{enumerate*}\n",
       "\\item 0.816914573066347\n",
       "\\item 0.779171633548323\n",
       "\\item 0.77236080779461\n",
       "\\item 0.767827087820609\n",
       "\\item 0.766390147037648\n",
       "\\item 0.764894114839258\n",
       "\\item 0.763958745687716\n",
       "\\item 0.762900493070346\n",
       "\\item 0.762431607224639\n",
       "\\item 0.762471309309535\n",
       "\\item 0.762854096265187\n",
       "\\item 0.762762388770561\n",
       "\\item 0.763031078681066\n",
       "\\item 0.763388962211889\n",
       "\\item 0.763669954667267\n",
       "\\item 0.764046240157992\n",
       "\\item 0.764669615284236\n",
       "\\item 0.764964307079646\n",
       "\\item 0.765177997915104\n",
       "\\item 0.765645477786111\n",
       "\\item 0.765963862866857\n",
       "\\item 0.766349944247788\n",
       "\\end{enumerate*}\n"
      ],
      "text/markdown": [
       "1. 0.816914573066347\n",
       "2. 0.779171633548323\n",
       "3. 0.77236080779461\n",
       "4. 0.767827087820609\n",
       "5. 0.766390147037648\n",
       "6. 0.764894114839258\n",
       "7. 0.763958745687716\n",
       "8. 0.762900493070346\n",
       "9. 0.762431607224639\n",
       "10. 0.762471309309535\n",
       "11. 0.762854096265187\n",
       "12. 0.762762388770561\n",
       "13. 0.763031078681066\n",
       "14. 0.763388962211889\n",
       "15. 0.763669954667267\n",
       "16. 0.764046240157992\n",
       "17. 0.764669615284236\n",
       "18. 0.764964307079646\n",
       "19. 0.765177997915104\n",
       "20. 0.765645477786111\n",
       "21. 0.765963862866857\n",
       "22. 0.766349944247788\n",
       "\n",
       "\n"
      ],
      "text/plain": [
       " [1] 0.8169146 0.7791716 0.7723608 0.7678271 0.7663901 0.7648941 0.7639587\n",
       " [8] 0.7629005 0.7624316 0.7624713 0.7628541 0.7627624 0.7630311 0.7633890\n",
       "[15] 0.7636700 0.7640462 0.7646696 0.7649643 0.7651780 0.7656455 0.7659639\n",
       "[22] 0.7663499"
      ]
     },
     "metadata": {},
     "output_type": "display_data"
    }
   ],
   "source": [
    "sdev <- apply(to.plot,2,sd) \n",
    "avg <- colMeans(to.plot)\n",
    "avg\n",
    "x <- 1:length(avg)"
   ]
  },
  {
   "cell_type": "code",
   "execution_count": 27,
   "metadata": {},
   "outputs": [
    {
     "data": {
      "image/png": "[encoded data removed]",
      "text/plain": [
       "Plot with title \"Mode des lignes et colonnes\""
      ]
     },
     "metadata": {},
     "output_type": "display_data"
    }
   ],
   "source": [
    "plot(x,avg,ylim=range(c(avg-sdev, avg+sdev)),pch=19, xlab=\"Dimensions\", ylab=\"MAE +/- SD\",\n",
    "    main=\"Mode des lignes et colonnes\"\n",
    ")\n",
    "# hack: we draw arrows but with very special \"arrowheads\"\n",
    "arrows(x, avg-sdev, x, avg+sdev, length=0.05, angle=90, code=3)"
   ]
  },
  {
   "cell_type": "code",
   "execution_count": 32,
   "metadata": {},
   "outputs": [
    {
     "data": {
      "text/html": [
       "0.784058641567922"
      ],
      "text/latex": [
       "0.784058641567922"
      ],
      "text/markdown": [
       "0.784058641567922"
      ],
      "text/plain": [
       "[1] 0.7840586"
      ]
     },
     "metadata": {},
     "output_type": "display_data"
    }
   ],
   "source": [
    "mean(cv.b)"
   ]
  },
  {
   "cell_type": "code",
   "execution_count": 29,
   "metadata": {},
   "outputs": [
    {
     "data": {
      "text/html": [
       "<ol class=list-inline>\n",
       "\t<li>0.816914573066347</li>\n",
       "\t<li>0.779171633548323</li>\n",
       "\t<li>0.77236080779461</li>\n",
       "\t<li>0.767827087820609</li>\n",
       "\t<li>0.766390147037648</li>\n",
       "\t<li>0.764894114839258</li>\n",
       "\t<li>0.763958745687716</li>\n",
       "\t<li>0.762900493070346</li>\n",
       "\t<li>0.762431607224639</li>\n",
       "\t<li>0.762471309309535</li>\n",
       "\t<li>0.762854096265187</li>\n",
       "\t<li>0.762762388770561</li>\n",
       "\t<li>0.763031078681066</li>\n",
       "\t<li>0.763388962211889</li>\n",
       "\t<li>0.763669954667267</li>\n",
       "\t<li>0.764046240157992</li>\n",
       "\t<li>0.764669615284236</li>\n",
       "\t<li>0.764964307079646</li>\n",
       "\t<li>0.765177997915104</li>\n",
       "\t<li>0.765645477786111</li>\n",
       "\t<li>0.765963862866857</li>\n",
       "\t<li>0.766349944247788</li>\n",
       "</ol>\n"
      ],
      "text/latex": [
       "\\begin{enumerate*}\n",
       "\\item 0.816914573066347\n",
       "\\item 0.779171633548323\n",
       "\\item 0.77236080779461\n",
       "\\item 0.767827087820609\n",
       "\\item 0.766390147037648\n",
       "\\item 0.764894114839258\n",
       "\\item 0.763958745687716\n",
       "\\item 0.762900493070346\n",
       "\\item 0.762431607224639\n",
       "\\item 0.762471309309535\n",
       "\\item 0.762854096265187\n",
       "\\item 0.762762388770561\n",
       "\\item 0.763031078681066\n",
       "\\item 0.763388962211889\n",
       "\\item 0.763669954667267\n",
       "\\item 0.764046240157992\n",
       "\\item 0.764669615284236\n",
       "\\item 0.764964307079646\n",
       "\\item 0.765177997915104\n",
       "\\item 0.765645477786111\n",
       "\\item 0.765963862866857\n",
       "\\item 0.766349944247788\n",
       "\\end{enumerate*}\n"
      ],
      "text/markdown": [
       "1. 0.816914573066347\n",
       "2. 0.779171633548323\n",
       "3. 0.77236080779461\n",
       "4. 0.767827087820609\n",
       "5. 0.766390147037648\n",
       "6. 0.764894114839258\n",
       "7. 0.763958745687716\n",
       "8. 0.762900493070346\n",
       "9. 0.762431607224639\n",
       "10. 0.762471309309535\n",
       "11. 0.762854096265187\n",
       "12. 0.762762388770561\n",
       "13. 0.763031078681066\n",
       "14. 0.763388962211889\n",
       "15. 0.763669954667267\n",
       "16. 0.764046240157992\n",
       "17. 0.764669615284236\n",
       "18. 0.764964307079646\n",
       "19. 0.765177997915104\n",
       "20. 0.765645477786111\n",
       "21. 0.765963862866857\n",
       "22. 0.766349944247788\n",
       "\n",
       "\n"
      ],
      "text/plain": [
       " [1] 0.8169146 0.7791716 0.7723608 0.7678271 0.7663901 0.7648941 0.7639587\n",
       " [8] 0.7629005 0.7624316 0.7624713 0.7628541 0.7627624 0.7630311 0.7633890\n",
       "[15] 0.7636700 0.7640462 0.7646696 0.7649643 0.7651780 0.7656455 0.7659639\n",
       "[22] 0.7663499"
      ]
     },
     "metadata": {},
     "output_type": "display_data"
    }
   ],
   "source": [
    "avg"
   ]
  },
  {
   "cell_type": "code",
   "execution_count": 30,
   "metadata": {},
   "outputs": [],
   "source": [
    "write.table(avg, file=\"out/total/mode.csv\",sep=\"\")"
   ]
  },
  {
   "cell_type": "code",
   "execution_count": null,
   "metadata": {},
   "outputs": [],
   "source": []
  }
 ],
 "metadata": {
  "kernelspec": {
   "display_name": "R",
   "language": "R",
   "name": "ir"
  },
  "language_info": {
   "codemirror_mode": "r",
   "file_extension": ".r",
   "mimetype": "text/x-r-source",
   "name": "R",
   "pygments_lexer": "r",
   "version": "3.5.1"
  }
 },
 "nbformat": 4,
 "nbformat_minor": 2
}
