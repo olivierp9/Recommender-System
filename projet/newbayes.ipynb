{
 "cells": [
  {
   "cell_type": "code",
   "execution_count": 11,
   "metadata": {},
   "outputs": [],
   "source": [
    "library(bnlearn)"
   ]
  },
  {
   "cell_type": "code",
   "execution_count": 12,
   "metadata": {},
   "outputs": [],
   "source": [
    "### Si données locales\n",
    "u.user <- read.csv(file='u.user.csv', sep='|', header=T)\n",
    "u.item <- read.csv(file='u.item.csv', sep='|', header=T)\n",
    "u.data <- read.csv(file='u.data.csv', sep='|', header=T)\n",
    "library(Matrix)\n",
    "m.sparse <- sparseMatrix(u.data[,1],u.data[,2],x=u.data[,3])\n",
    "rownames(m.sparse) <- paste('u', 1:nrow(m.sparse), sep='')\n",
    "colnames(m.sparse) <- paste('i', 1:ncol(m.sparse), sep='')\n",
    "mae <- function(m1, m2) mean(abs(m1 - m2), na.rm=T)\n",
    "\n",
    "m <- as.matrix(m.sparse)                # transforme en matrice ordinaire\n",
    "m.na <- m\n",
    "m.na[m.na==0] <- NA\n",
    "mae.rmse <- function(m, m.hat) {\n",
    "    return(list(mae=mean(abs(m - m.hat), na.rm=T), rmse=sqrt(mean((m - m.hat)^2, na.rm=T))))\n",
    "}\n",
    "new.m.mae.rmse <- function(dimRedu){\n",
    "# matrice diagonale pour réduire les matrices originales\n",
    "m.d2 <- diag(c(m.svd$d[1:dimRedu],rep(0,length(m.svd$d)-dimRedu)))\n",
    "# nouvelle matrice basée sur les deux premières dimensions uniquement\n",
    "m.svd2 <- round((m.svd$u %*% m.d2 %*% t(m.svd$v)),2)\n",
    "mae.rmse(m.svd2, m)\n",
    "    }"
   ]
  },
  {
   "cell_type": "code",
   "execution_count": 13,
   "metadata": {},
   "outputs": [
    {
     "data": {
      "text/html": [
       "<table>\n",
       "<thead><tr><th scope=col>user.id</th><th scope=col>age</th><th scope=col>gender</th><th scope=col>job</th></tr></thead>\n",
       "<tbody>\n",
       "\t<tr><td>1         </td><td>1         </td><td>M         </td><td>technician</td></tr>\n",
       "\t<tr><td>2         </td><td>2         </td><td>F         </td><td>other     </td></tr>\n",
       "\t<tr><td>3         </td><td>1         </td><td>M         </td><td>writer    </td></tr>\n",
       "\t<tr><td>4         </td><td>1         </td><td>M         </td><td>technician</td></tr>\n",
       "\t<tr><td>5         </td><td>1         </td><td>F         </td><td>other     </td></tr>\n",
       "\t<tr><td>6         </td><td>2         </td><td>M         </td><td>executive </td></tr>\n",
       "</tbody>\n",
       "</table>\n"
      ],
      "text/latex": [
       "\\begin{tabular}{r|llll}\n",
       " user.id & age & gender & job\\\\\n",
       "\\hline\n",
       "\t 1          & 1          & M          & technician\\\\\n",
       "\t 2          & 2          & F          & other     \\\\\n",
       "\t 3          & 1          & M          & writer    \\\\\n",
       "\t 4          & 1          & M          & technician\\\\\n",
       "\t 5          & 1          & F          & other     \\\\\n",
       "\t 6          & 2          & M          & executive \\\\\n",
       "\\end{tabular}\n"
      ],
      "text/markdown": [
       "\n",
       "user.id | age | gender | job | \n",
       "|---|---|---|---|---|---|\n",
       "| 1          | 1          | M          | technician | \n",
       "| 2          | 2          | F          | other      | \n",
       "| 3          | 1          | M          | writer     | \n",
       "| 4          | 1          | M          | technician | \n",
       "| 5          | 1          | F          | other      | \n",
       "| 6          | 2          | M          | executive  | \n",
       "\n",
       "\n"
      ],
      "text/plain": [
       "  user.id age gender job       \n",
       "1 1       1   M      technician\n",
       "2 2       2   F      other     \n",
       "3 3       1   M      writer    \n",
       "4 4       1   M      technician\n",
       "5 5       1   F      other     \n",
       "6 6       2   M      executive "
      ]
     },
     "metadata": {},
     "output_type": "display_data"
    },
    {
     "data": {
      "text/html": [
       "<table>\n",
       "<thead><tr><th scope=col>user.id</th><th scope=col>movie.id</th><th scope=col>rating</th></tr></thead>\n",
       "<tbody>\n",
       "\t<tr><td>196</td><td>242</td><td>3  </td></tr>\n",
       "\t<tr><td>186</td><td>302</td><td>3  </td></tr>\n",
       "\t<tr><td> 22</td><td>377</td><td>1  </td></tr>\n",
       "\t<tr><td>244</td><td> 51</td><td>2  </td></tr>\n",
       "\t<tr><td>166</td><td>346</td><td>1  </td></tr>\n",
       "\t<tr><td>298</td><td>474</td><td>4  </td></tr>\n",
       "</tbody>\n",
       "</table>\n"
      ],
      "text/latex": [
       "\\begin{tabular}{r|lll}\n",
       " user.id & movie.id & rating\\\\\n",
       "\\hline\n",
       "\t 196 & 242 & 3  \\\\\n",
       "\t 186 & 302 & 3  \\\\\n",
       "\t  22 & 377 & 1  \\\\\n",
       "\t 244 &  51 & 2  \\\\\n",
       "\t 166 & 346 & 1  \\\\\n",
       "\t 298 & 474 & 4  \\\\\n",
       "\\end{tabular}\n"
      ],
      "text/markdown": [
       "\n",
       "user.id | movie.id | rating | \n",
       "|---|---|---|---|---|---|\n",
       "| 196 | 242 | 3   | \n",
       "| 186 | 302 | 3   | \n",
       "|  22 | 377 | 1   | \n",
       "| 244 |  51 | 2   | \n",
       "| 166 | 346 | 1   | \n",
       "| 298 | 474 | 4   | \n",
       "\n",
       "\n"
      ],
      "text/plain": [
       "  user.id movie.id rating\n",
       "1 196     242      3     \n",
       "2 186     302      3     \n",
       "3  22     377      1     \n",
       "4 244      51      2     \n",
       "5 166     346      1     \n",
       "6 298     474      4     "
      ]
     },
     "metadata": {},
     "output_type": "display_data"
    },
    {
     "data": {
      "text/html": [
       "<table>\n",
       "<thead><tr><th scope=col>movie.id</th><th scope=col>unknown</th><th scope=col>Action</th><th scope=col>Adventure</th><th scope=col>Animation</th><th scope=col>Children.s</th><th scope=col>Comedy</th><th scope=col>Crime</th><th scope=col>Documentary</th><th scope=col>Drama</th><th scope=col>Fantasy</th><th scope=col>Film.Noir</th><th scope=col>Horror</th><th scope=col>Musical</th><th scope=col>Mystery</th><th scope=col>Romance</th><th scope=col>Sci.Fi</th><th scope=col>Thriller</th><th scope=col>War</th><th scope=col>Western</th></tr></thead>\n",
       "<tbody>\n",
       "\t<tr><td>1</td><td>0</td><td>0</td><td>0</td><td>1</td><td>1</td><td>1</td><td>0</td><td>0</td><td>0</td><td>0</td><td>0</td><td>0</td><td>0</td><td>0</td><td>0</td><td>0</td><td>0</td><td>0</td><td>0</td></tr>\n",
       "\t<tr><td>2</td><td>0</td><td>1</td><td>1</td><td>0</td><td>0</td><td>0</td><td>0</td><td>0</td><td>0</td><td>0</td><td>0</td><td>0</td><td>0</td><td>0</td><td>0</td><td>0</td><td>1</td><td>0</td><td>0</td></tr>\n",
       "\t<tr><td>3</td><td>0</td><td>0</td><td>0</td><td>0</td><td>0</td><td>0</td><td>0</td><td>0</td><td>0</td><td>0</td><td>0</td><td>0</td><td>0</td><td>0</td><td>0</td><td>0</td><td>1</td><td>0</td><td>0</td></tr>\n",
       "\t<tr><td>4</td><td>0</td><td>1</td><td>0</td><td>0</td><td>0</td><td>1</td><td>0</td><td>0</td><td>1</td><td>0</td><td>0</td><td>0</td><td>0</td><td>0</td><td>0</td><td>0</td><td>0</td><td>0</td><td>0</td></tr>\n",
       "\t<tr><td>5</td><td>0</td><td>0</td><td>0</td><td>0</td><td>0</td><td>0</td><td>1</td><td>0</td><td>1</td><td>0</td><td>0</td><td>0</td><td>0</td><td>0</td><td>0</td><td>0</td><td>1</td><td>0</td><td>0</td></tr>\n",
       "\t<tr><td>6</td><td>0</td><td>0</td><td>0</td><td>0</td><td>0</td><td>0</td><td>0</td><td>0</td><td>1</td><td>0</td><td>0</td><td>0</td><td>0</td><td>0</td><td>0</td><td>0</td><td>0</td><td>0</td><td>0</td></tr>\n",
       "</tbody>\n",
       "</table>\n"
      ],
      "text/latex": [
       "\\begin{tabular}{r|llllllllllllllllllll}\n",
       " movie.id & unknown & Action & Adventure & Animation & Children.s & Comedy & Crime & Documentary & Drama & Fantasy & Film.Noir & Horror & Musical & Mystery & Romance & Sci.Fi & Thriller & War & Western\\\\\n",
       "\\hline\n",
       "\t 1 & 0 & 0 & 0 & 1 & 1 & 1 & 0 & 0 & 0 & 0 & 0 & 0 & 0 & 0 & 0 & 0 & 0 & 0 & 0\\\\\n",
       "\t 2 & 0 & 1 & 1 & 0 & 0 & 0 & 0 & 0 & 0 & 0 & 0 & 0 & 0 & 0 & 0 & 0 & 1 & 0 & 0\\\\\n",
       "\t 3 & 0 & 0 & 0 & 0 & 0 & 0 & 0 & 0 & 0 & 0 & 0 & 0 & 0 & 0 & 0 & 0 & 1 & 0 & 0\\\\\n",
       "\t 4 & 0 & 1 & 0 & 0 & 0 & 1 & 0 & 0 & 1 & 0 & 0 & 0 & 0 & 0 & 0 & 0 & 0 & 0 & 0\\\\\n",
       "\t 5 & 0 & 0 & 0 & 0 & 0 & 0 & 1 & 0 & 1 & 0 & 0 & 0 & 0 & 0 & 0 & 0 & 1 & 0 & 0\\\\\n",
       "\t 6 & 0 & 0 & 0 & 0 & 0 & 0 & 0 & 0 & 1 & 0 & 0 & 0 & 0 & 0 & 0 & 0 & 0 & 0 & 0\\\\\n",
       "\\end{tabular}\n"
      ],
      "text/markdown": [
       "\n",
       "movie.id | unknown | Action | Adventure | Animation | Children.s | Comedy | Crime | Documentary | Drama | Fantasy | Film.Noir | Horror | Musical | Mystery | Romance | Sci.Fi | Thriller | War | Western | \n",
       "|---|---|---|---|---|---|\n",
       "| 1 | 0 | 0 | 0 | 1 | 1 | 1 | 0 | 0 | 0 | 0 | 0 | 0 | 0 | 0 | 0 | 0 | 0 | 0 | 0 | \n",
       "| 2 | 0 | 1 | 1 | 0 | 0 | 0 | 0 | 0 | 0 | 0 | 0 | 0 | 0 | 0 | 0 | 0 | 1 | 0 | 0 | \n",
       "| 3 | 0 | 0 | 0 | 0 | 0 | 0 | 0 | 0 | 0 | 0 | 0 | 0 | 0 | 0 | 0 | 0 | 1 | 0 | 0 | \n",
       "| 4 | 0 | 1 | 0 | 0 | 0 | 1 | 0 | 0 | 1 | 0 | 0 | 0 | 0 | 0 | 0 | 0 | 0 | 0 | 0 | \n",
       "| 5 | 0 | 0 | 0 | 0 | 0 | 0 | 1 | 0 | 1 | 0 | 0 | 0 | 0 | 0 | 0 | 0 | 1 | 0 | 0 | \n",
       "| 6 | 0 | 0 | 0 | 0 | 0 | 0 | 0 | 0 | 1 | 0 | 0 | 0 | 0 | 0 | 0 | 0 | 0 | 0 | 0 | \n",
       "\n",
       "\n"
      ],
      "text/plain": [
       "  movie.id unknown Action Adventure Animation Children.s Comedy Crime\n",
       "1 1        0       0      0         1         1          1      0    \n",
       "2 2        0       1      1         0         0          0      0    \n",
       "3 3        0       0      0         0         0          0      0    \n",
       "4 4        0       1      0         0         0          1      0    \n",
       "5 5        0       0      0         0         0          0      1    \n",
       "6 6        0       0      0         0         0          0      0    \n",
       "  Documentary Drama Fantasy Film.Noir Horror Musical Mystery Romance Sci.Fi\n",
       "1 0           0     0       0         0      0       0       0       0     \n",
       "2 0           0     0       0         0      0       0       0       0     \n",
       "3 0           0     0       0         0      0       0       0       0     \n",
       "4 0           1     0       0         0      0       0       0       0     \n",
       "5 0           1     0       0         0      0       0       0       0     \n",
       "6 0           1     0       0         0      0       0       0       0     \n",
       "  Thriller War Western\n",
       "1 0        0   0      \n",
       "2 1        0   0      \n",
       "3 1        0   0      \n",
       "4 0        0   0      \n",
       "5 1        0   0      \n",
       "6 0        0   0      "
      ]
     },
     "metadata": {},
     "output_type": "display_data"
    },
    {
     "data": {
      "text/html": [
       "<table>\n",
       "<thead><tr><th scope=col>movie.id</th><th scope=col>user.id</th><th scope=col>age</th><th scope=col>gender</th><th scope=col>job</th><th scope=col>rating</th><th scope=col>unknown</th><th scope=col>Action</th><th scope=col>Adventure</th><th scope=col>Animation</th><th scope=col>...</th><th scope=col>Fantasy</th><th scope=col>Film.Noir</th><th scope=col>Horror</th><th scope=col>Musical</th><th scope=col>Mystery</th><th scope=col>Romance</th><th scope=col>Sci.Fi</th><th scope=col>Thriller</th><th scope=col>War</th><th scope=col>Western</th></tr></thead>\n",
       "<tbody>\n",
       "\t<tr><td>1        </td><td>918      </td><td>2        </td><td>M        </td><td>scientist</td><td>3        </td><td>0        </td><td>0        </td><td>0        </td><td>1        </td><td>...      </td><td>0        </td><td>0        </td><td>0        </td><td>0        </td><td>0        </td><td>0        </td><td>0        </td><td>0        </td><td>0        </td><td>0        </td></tr>\n",
       "\t<tr><td>1        </td><td>684      </td><td>1        </td><td>M        </td><td>student  </td><td>4        </td><td>0        </td><td>0        </td><td>0        </td><td>1        </td><td>...      </td><td>0        </td><td>0        </td><td>0        </td><td>0        </td><td>0        </td><td>0        </td><td>0        </td><td>0        </td><td>0        </td><td>0        </td></tr>\n",
       "\t<tr><td>1        </td><td>660      </td><td>1        </td><td>M        </td><td>student  </td><td>3        </td><td>0        </td><td>0        </td><td>0        </td><td>1        </td><td>...      </td><td>0        </td><td>0        </td><td>0        </td><td>0        </td><td>0        </td><td>0        </td><td>0        </td><td>0        </td><td>0        </td><td>0        </td></tr>\n",
       "\t<tr><td>1        </td><td>339      </td><td>1        </td><td>M        </td><td>lawyer   </td><td>5        </td><td>0        </td><td>0        </td><td>0        </td><td>1        </td><td>...      </td><td>0        </td><td>0        </td><td>0        </td><td>0        </td><td>0        </td><td>0        </td><td>0        </td><td>0        </td><td>0        </td><td>0        </td></tr>\n",
       "\t<tr><td>1        </td><td>699      </td><td>2        </td><td>M        </td><td>other    </td><td>3        </td><td>0        </td><td>0        </td><td>0        </td><td>1        </td><td>...      </td><td>0        </td><td>0        </td><td>0        </td><td>0        </td><td>0        </td><td>0        </td><td>0        </td><td>0        </td><td>0        </td><td>0        </td></tr>\n",
       "\t<tr><td>1        </td><td> 94      </td><td>1        </td><td>M        </td><td>student  </td><td>4        </td><td>0        </td><td>0        </td><td>0        </td><td>1        </td><td>...      </td><td>0        </td><td>0        </td><td>0        </td><td>0        </td><td>0        </td><td>0        </td><td>0        </td><td>0        </td><td>0        </td><td>0        </td></tr>\n",
       "</tbody>\n",
       "</table>\n"
      ],
      "text/latex": [
       "\\begin{tabular}{r|lllllllllllllllllllllllll}\n",
       " movie.id & user.id & age & gender & job & rating & unknown & Action & Adventure & Animation & ... & Fantasy & Film.Noir & Horror & Musical & Mystery & Romance & Sci.Fi & Thriller & War & Western\\\\\n",
       "\\hline\n",
       "\t 1         & 918       & 2         & M         & scientist & 3         & 0         & 0         & 0         & 1         & ...       & 0         & 0         & 0         & 0         & 0         & 0         & 0         & 0         & 0         & 0        \\\\\n",
       "\t 1         & 684       & 1         & M         & student   & 4         & 0         & 0         & 0         & 1         & ...       & 0         & 0         & 0         & 0         & 0         & 0         & 0         & 0         & 0         & 0        \\\\\n",
       "\t 1         & 660       & 1         & M         & student   & 3         & 0         & 0         & 0         & 1         & ...       & 0         & 0         & 0         & 0         & 0         & 0         & 0         & 0         & 0         & 0        \\\\\n",
       "\t 1         & 339       & 1         & M         & lawyer    & 5         & 0         & 0         & 0         & 1         & ...       & 0         & 0         & 0         & 0         & 0         & 0         & 0         & 0         & 0         & 0        \\\\\n",
       "\t 1         & 699       & 2         & M         & other     & 3         & 0         & 0         & 0         & 1         & ...       & 0         & 0         & 0         & 0         & 0         & 0         & 0         & 0         & 0         & 0        \\\\\n",
       "\t 1         &  94       & 1         & M         & student   & 4         & 0         & 0         & 0         & 1         & ...       & 0         & 0         & 0         & 0         & 0         & 0         & 0         & 0         & 0         & 0        \\\\\n",
       "\\end{tabular}\n"
      ],
      "text/markdown": [
       "\n",
       "movie.id | user.id | age | gender | job | rating | unknown | Action | Adventure | Animation | ... | Fantasy | Film.Noir | Horror | Musical | Mystery | Romance | Sci.Fi | Thriller | War | Western | \n",
       "|---|---|---|---|---|---|\n",
       "| 1         | 918       | 2         | M         | scientist | 3         | 0         | 0         | 0         | 1         | ...       | 0         | 0         | 0         | 0         | 0         | 0         | 0         | 0         | 0         | 0         | \n",
       "| 1         | 684       | 1         | M         | student   | 4         | 0         | 0         | 0         | 1         | ...       | 0         | 0         | 0         | 0         | 0         | 0         | 0         | 0         | 0         | 0         | \n",
       "| 1         | 660       | 1         | M         | student   | 3         | 0         | 0         | 0         | 1         | ...       | 0         | 0         | 0         | 0         | 0         | 0         | 0         | 0         | 0         | 0         | \n",
       "| 1         | 339       | 1         | M         | lawyer    | 5         | 0         | 0         | 0         | 1         | ...       | 0         | 0         | 0         | 0         | 0         | 0         | 0         | 0         | 0         | 0         | \n",
       "| 1         | 699       | 2         | M         | other     | 3         | 0         | 0         | 0         | 1         | ...       | 0         | 0         | 0         | 0         | 0         | 0         | 0         | 0         | 0         | 0         | \n",
       "| 1         |  94       | 1         | M         | student   | 4         | 0         | 0         | 0         | 1         | ...       | 0         | 0         | 0         | 0         | 0         | 0         | 0         | 0         | 0         | 0         | \n",
       "\n",
       "\n"
      ],
      "text/plain": [
       "  movie.id user.id age gender job       rating unknown Action Adventure\n",
       "1 1        918     2   M      scientist 3      0       0      0        \n",
       "2 1        684     1   M      student   4      0       0      0        \n",
       "3 1        660     1   M      student   3      0       0      0        \n",
       "4 1        339     1   M      lawyer    5      0       0      0        \n",
       "5 1        699     2   M      other     3      0       0      0        \n",
       "6 1         94     1   M      student   4      0       0      0        \n",
       "  Animation ... Fantasy Film.Noir Horror Musical Mystery Romance Sci.Fi\n",
       "1 1         ... 0       0         0      0       0       0       0     \n",
       "2 1         ... 0       0         0      0       0       0       0     \n",
       "3 1         ... 0       0         0      0       0       0       0     \n",
       "4 1         ... 0       0         0      0       0       0       0     \n",
       "5 1         ... 0       0         0      0       0       0       0     \n",
       "6 1         ... 0       0         0      0       0       0       0     \n",
       "  Thriller War Western\n",
       "1 0        0   0      \n",
       "2 0        0   0      \n",
       "3 0        0   0      \n",
       "4 0        0   0      \n",
       "5 0        0   0      \n",
       "6 0        0   0      "
      ]
     },
     "metadata": {},
     "output_type": "display_data"
    }
   ],
   "source": [
    "# merge users and ratings\n",
    "names(u.user)<- c('user.id','age','gender','job')\n",
    "u.user <- u.user[,c(-5)]\n",
    "cat.age <- function(x) floor(x/20)\n",
    "u.user[, 2] <- sapply(u.user[, 2], cat.age)\n",
    "for (i in 2:4){\n",
    "u.user[, i] <- sapply(u.user[, i], as.factor)\n",
    "}\n",
    "head(u.user)\n",
    "names(u.data)<- c('user.id','movie.id','rating')\n",
    "u.data <- u.data[,c(-4)]\n",
    "u.data[, 3] <- sapply(u.data[, 3], as.factor)\n",
    "head(u.data)\n",
    "u.item <- u.item[,c(-2,-3,-4,-5)]\n",
    "for (i in 2:20){\n",
    "u.item[, i] <- sapply(u.item[, i], as.factor)\n",
    "}\n",
    "head(u.item)\n",
    "u.r <- merge(u.user, u.data, by = \"user.id\")\n",
    "# merge userRating with movie to have actual movie titles instead of ids\n",
    "u.r.v <- merge(u.r, u.item, by = \"movie.id\")\n",
    "head(u.r.v)"
   ]
  },
  {
   "cell_type": "code",
   "execution_count": 22,
   "metadata": {},
   "outputs": [],
   "source": [
    "new.m.cv <- function(dimRedu){\n",
    "# matrice diagonale pour réduire les matrices originales\n",
    "m.d2 <- diag(c(m.svd$d[1:dimRedu],rep(0,length(m.svd$d)-dimRedu)))\n",
    "# nouvelle matrice basée sur les deux premières dimensions uniquement\n",
    "m.svd2 <- round((m.svd$u %*% m.d2 %*% t(m.svd$v)),2)\n",
    "mae(m.svd2[i.test.c], m.na[i.test.c])\n",
    "    }\n",
    "to.plot <- c()\n",
    "cv.b <- c() "
   ]
  },
  {
   "cell_type": "code",
   "execution_count": 23,
   "metadata": {},
   "outputs": [],
   "source": [
    "set.seed(1)\n",
    "i.observed <- dim(u.r.v)[1]\n",
    "i.hasard <- sample(seq(1,i.observed,1), i.observed)\n",
    "fold.size <- round(length(i.hasard) / 5)\n",
    "i.false <- rep(FALSE, dim(u.r.v)[1])\n",
    "for (i in seq_len(5)){\n",
    "fold.number <- i\n",
    "\n",
    "## Index booléen pour les cellules de test et d'entraînement\n",
    "i.test.b <- i.false\n",
    "## Les cellules indexées du replis correspondant sont fixées à TRUE pour le test...\n",
    "i.test.b[ i.hasard[((fold.number-1) * fold.size):((fold.number) * fold.size)] ] <- TRUE\n",
    "a<-as.data.frame(u.data[1,3])\n",
    "colnames(a)<-'rating'   \n",
    "\n",
    "## ...et à FALSE pour l'entraînement\n",
    "i.train.b <-  !i.test.b\n",
    "i.test.c <- rep(FALSE,943*1682)\n",
    "u.r.v.train <- u.r.v[i.train.b,]\n",
    "u.r.v.test <- u.r.v[i.test.b,]\n",
    "nb <- naive.bayes(u.r.v.train[,3:25],'rating')\n",
    "fitted <- bn.fit(nb,u.r.v.train[,3:25] )\n",
    "new.m <- m\n",
    "i.test.c <- rep(FALSE,943*1682)\n",
    "for (j in seq_len(fold.size)){\n",
    "    new.m[u.r.v.test[j,2],u.r.v.test[j,1]]<-0\n",
    "    i.test.c[943*(u.r.v.test[j,1]-1)+u.r.v.test[j,2]]<-TRUE\n",
    "}\n",
    "for (k in seq_len(943)){\n",
    "    for (l in seq_len(1682)){\n",
    "        if (new.m[k,l]==0){\n",
    "            var <-data.frame(cbind(u.user[k,-1],a,u.item[l,-1]))\n",
    "            new.m[k,l]<-as.numeric(predict(fitted, var))\n",
    "        }\n",
    "    }\n",
    "}\n",
    "write.table(new.m,file=paste(\"naiveBayes2_\", toString(i), \".csv\", sep = \"\")) # drops the rownames\n",
    "write.table(i.test.c,file=paste(\"naiveBayesTestc2_\", toString(i), \".csv\", sep = \"\")) # drops the rownames\n",
    "write.table(i.test.b,file=paste(\"naiveBayesTestb2_\", toString(i), \".csv\", sep = \"\")) # drops the rownames\n",
    "\n",
    "m.train <- new.m\n",
    "m.train <- m.train\n",
    "m.svd <- svd(m.train)\n",
    "to.plot<-rbind(to.plot,unlist(lapply(seq(30), new.m.cv)))\n",
    "cv.b <- c(cv.b,mae(m.train[i.test.c], m.na[i.test.c])) \n",
    "    }\n"
   ]
  },
  {
   "cell_type": "code",
   "execution_count": 24,
   "metadata": {},
   "outputs": [],
   "source": [
    "to.plot<-apply(to.plot,2,unlist)"
   ]
  },
  {
   "cell_type": "code",
   "execution_count": 25,
   "metadata": {},
   "outputs": [
    {
     "data": {
      "text/html": [
       "<ol class=list-inline>\n",
       "\t<li>0.0114688220700733</li>\n",
       "\t<li>0.00963362324491667</li>\n",
       "\t<li>0.0103160542238785</li>\n",
       "\t<li>0.00928116200294979</li>\n",
       "\t<li>0.00934571468240923</li>\n",
       "\t<li>0.0113835887981339</li>\n",
       "\t<li>0.0100389781937705</li>\n",
       "\t<li>0.0090493888191413</li>\n",
       "\t<li>0.0130762481364113</li>\n",
       "\t<li>0.00843552969291198</li>\n",
       "\t<li>0.00902551726357</li>\n",
       "\t<li>0.00868709867130562</li>\n",
       "\t<li>0.0091618858552702</li>\n",
       "\t<li>0.0115728794731476</li>\n",
       "\t<li>0.0111928867031701</li>\n",
       "\t<li>0.0124147411994773</li>\n",
       "\t<li>0.011666914917835</li>\n",
       "\t<li>0.0112385479411265</li>\n",
       "\t<li>0.0110191749543693</li>\n",
       "\t<li>0.0103160314959291</li>\n",
       "\t<li>0.00891795321948935</li>\n",
       "\t<li>0.00898487203999034</li>\n",
       "\t<li>0.00873079077890427</li>\n",
       "\t<li>0.00801875343024085</li>\n",
       "\t<li>0.0078745313543093</li>\n",
       "\t<li>0.00749019587861365</li>\n",
       "\t<li>0.00681251752658301</li>\n",
       "\t<li>0.00575814035301334</li>\n",
       "\t<li>0.00542643380361355</li>\n",
       "\t<li>0.00586296557213154</li>\n",
       "</ol>\n"
      ],
      "text/latex": [
       "\\begin{enumerate*}\n",
       "\\item 0.0114688220700733\n",
       "\\item 0.00963362324491667\n",
       "\\item 0.0103160542238785\n",
       "\\item 0.00928116200294979\n",
       "\\item 0.00934571468240923\n",
       "\\item 0.0113835887981339\n",
       "\\item 0.0100389781937705\n",
       "\\item 0.0090493888191413\n",
       "\\item 0.0130762481364113\n",
       "\\item 0.00843552969291198\n",
       "\\item 0.00902551726357\n",
       "\\item 0.00868709867130562\n",
       "\\item 0.0091618858552702\n",
       "\\item 0.0115728794731476\n",
       "\\item 0.0111928867031701\n",
       "\\item 0.0124147411994773\n",
       "\\item 0.011666914917835\n",
       "\\item 0.0112385479411265\n",
       "\\item 0.0110191749543693\n",
       "\\item 0.0103160314959291\n",
       "\\item 0.00891795321948935\n",
       "\\item 0.00898487203999034\n",
       "\\item 0.00873079077890427\n",
       "\\item 0.00801875343024085\n",
       "\\item 0.0078745313543093\n",
       "\\item 0.00749019587861365\n",
       "\\item 0.00681251752658301\n",
       "\\item 0.00575814035301334\n",
       "\\item 0.00542643380361355\n",
       "\\item 0.00586296557213154\n",
       "\\end{enumerate*}\n"
      ],
      "text/markdown": [
       "1. 0.0114688220700733\n",
       "2. 0.00963362324491667\n",
       "3. 0.0103160542238785\n",
       "4. 0.00928116200294979\n",
       "5. 0.00934571468240923\n",
       "6. 0.0113835887981339\n",
       "7. 0.0100389781937705\n",
       "8. 0.0090493888191413\n",
       "9. 0.0130762481364113\n",
       "10. 0.00843552969291198\n",
       "11. 0.00902551726357\n",
       "12. 0.00868709867130562\n",
       "13. 0.0091618858552702\n",
       "14. 0.0115728794731476\n",
       "15. 0.0111928867031701\n",
       "16. 0.0124147411994773\n",
       "17. 0.011666914917835\n",
       "18. 0.0112385479411265\n",
       "19. 0.0110191749543693\n",
       "20. 0.0103160314959291\n",
       "21. 0.00891795321948935\n",
       "22. 0.00898487203999034\n",
       "23. 0.00873079077890427\n",
       "24. 0.00801875343024085\n",
       "25. 0.0078745313543093\n",
       "26. 0.00749019587861365\n",
       "27. 0.00681251752658301\n",
       "28. 0.00575814035301334\n",
       "29. 0.00542643380361355\n",
       "30. 0.00586296557213154\n",
       "\n",
       "\n"
      ],
      "text/plain": [
       " [1] 0.011468822 0.009633623 0.010316054 0.009281162 0.009345715 0.011383589\n",
       " [7] 0.010038978 0.009049389 0.013076248 0.008435530 0.009025517 0.008687099\n",
       "[13] 0.009161886 0.011572879 0.011192887 0.012414741 0.011666915 0.011238548\n",
       "[19] 0.011019175 0.010316031 0.008917953 0.008984872 0.008730791 0.008018753\n",
       "[25] 0.007874531 0.007490196 0.006812518 0.005758140 0.005426434 0.005862966"
      ]
     },
     "metadata": {},
     "output_type": "display_data"
    },
    {
     "data": {
      "text/html": [
       "<ol class=list-inline>\n",
       "\t<li>1.0315606</li>\n",
       "\t<li>1.0791427</li>\n",
       "\t<li>1.089006</li>\n",
       "\t<li>1.089808</li>\n",
       "\t<li>1.0941361</li>\n",
       "\t<li>1.0928214</li>\n",
       "\t<li>1.0895761</li>\n",
       "\t<li>1.0790155</li>\n",
       "\t<li>1.0727898</li>\n",
       "\t<li>1.0633938</li>\n",
       "\t<li>1.062883</li>\n",
       "\t<li>1.0624372</li>\n",
       "\t<li>1.0617324</li>\n",
       "\t<li>1.0592594</li>\n",
       "\t<li>1.057166</li>\n",
       "\t<li>1.0540631</li>\n",
       "\t<li>1.0509182</li>\n",
       "\t<li>1.0491213</li>\n",
       "\t<li>1.0483614</li>\n",
       "\t<li>1.0473563</li>\n",
       "\t<li>1.0461175</li>\n",
       "\t<li>1.0460362</li>\n",
       "\t<li>1.045882</li>\n",
       "\t<li>1.0457862</li>\n",
       "\t<li>1.0455464</li>\n",
       "\t<li>1.0461444</li>\n",
       "\t<li>1.0467234</li>\n",
       "\t<li>1.0481773</li>\n",
       "\t<li>1.0498077</li>\n",
       "\t<li>1.0513304</li>\n",
       "</ol>\n"
      ],
      "text/latex": [
       "\\begin{enumerate*}\n",
       "\\item 1.0315606\n",
       "\\item 1.0791427\n",
       "\\item 1.089006\n",
       "\\item 1.089808\n",
       "\\item 1.0941361\n",
       "\\item 1.0928214\n",
       "\\item 1.0895761\n",
       "\\item 1.0790155\n",
       "\\item 1.0727898\n",
       "\\item 1.0633938\n",
       "\\item 1.062883\n",
       "\\item 1.0624372\n",
       "\\item 1.0617324\n",
       "\\item 1.0592594\n",
       "\\item 1.057166\n",
       "\\item 1.0540631\n",
       "\\item 1.0509182\n",
       "\\item 1.0491213\n",
       "\\item 1.0483614\n",
       "\\item 1.0473563\n",
       "\\item 1.0461175\n",
       "\\item 1.0460362\n",
       "\\item 1.045882\n",
       "\\item 1.0457862\n",
       "\\item 1.0455464\n",
       "\\item 1.0461444\n",
       "\\item 1.0467234\n",
       "\\item 1.0481773\n",
       "\\item 1.0498077\n",
       "\\item 1.0513304\n",
       "\\end{enumerate*}\n"
      ],
      "text/markdown": [
       "1. 1.0315606\n",
       "2. 1.0791427\n",
       "3. 1.089006\n",
       "4. 1.089808\n",
       "5. 1.0941361\n",
       "6. 1.0928214\n",
       "7. 1.0895761\n",
       "8. 1.0790155\n",
       "9. 1.0727898\n",
       "10. 1.0633938\n",
       "11. 1.062883\n",
       "12. 1.0624372\n",
       "13. 1.0617324\n",
       "14. 1.0592594\n",
       "15. 1.057166\n",
       "16. 1.0540631\n",
       "17. 1.0509182\n",
       "18. 1.0491213\n",
       "19. 1.0483614\n",
       "20. 1.0473563\n",
       "21. 1.0461175\n",
       "22. 1.0460362\n",
       "23. 1.045882\n",
       "24. 1.0457862\n",
       "25. 1.0455464\n",
       "26. 1.0461444\n",
       "27. 1.0467234\n",
       "28. 1.0481773\n",
       "29. 1.0498077\n",
       "30. 1.0513304\n",
       "\n",
       "\n"
      ],
      "text/plain": [
       " [1] 1.031561 1.079143 1.089006 1.089808 1.094136 1.092821 1.089576 1.079015\n",
       " [9] 1.072790 1.063394 1.062883 1.062437 1.061732 1.059259 1.057166 1.054063\n",
       "[17] 1.050918 1.049121 1.048361 1.047356 1.046118 1.046036 1.045882 1.045786\n",
       "[25] 1.045546 1.046144 1.046723 1.048177 1.049808 1.051330"
      ]
     },
     "metadata": {},
     "output_type": "display_data"
    }
   ],
   "source": [
    "sdev <- apply(to.plot,2,sd) \n",
    "sdev\n",
    "avg <- colMeans(to.plot)\n",
    "x <- 1:length(avg)\n",
    "avg"
   ]
  },
  {
   "cell_type": "code",
   "execution_count": 26,
   "metadata": {},
   "outputs": [
    {
     "data": {
      "image/png": "[encoded data removed]",
      "text/plain": [
       "Plot with title \"Scatter plot with std.dev error bars\""
      ]
     },
     "metadata": {},
     "output_type": "display_data"
    }
   ],
   "source": [
    "plot(x,colMeans(to.plot),ylim=range(c(avg-sdev, avg+sdev)),pch=19, xlab=\"Measurements\", ylab=\"Mean +/- SD\",\n",
    "    main=\"Scatter plot with std.dev error bars\"\n",
    ")\n",
    "# hack: we draw arrows but with very special \"arrowheads\"\n",
    "arrows(x, avg-sdev, x, avg+sdev, length=0.05, angle=90, code=3)"
   ]
  },
  {
   "cell_type": "code",
   "execution_count": 5,
   "metadata": {},
   "outputs": [],
   "source": [
    "table = list()\n",
    "test = list()"
   ]
  },
  {
   "cell_type": "code",
   "execution_count": 6,
   "metadata": {},
   "outputs": [],
   "source": [
    "table[[1]] <- read.table(file=paste(\"naiveBayes1_1.csv\", sep = \"\")) # drops the rownames\n",
    "table[[2]] <- read.table(file=paste(\"naiveBayes1_2.csv\", sep = \"\")) # drops the rownames\n",
    "table[[3]] <- read.table(file=paste(\"naiveBayes1_3.csv\", sep = \"\")) # drops the rownames\n",
    "table[[4]] <- read.table(file=paste(\"naiveBayes1_4.csv\", sep = \"\")) # drops the rownames\n",
    "table[[5]] <- read.table(file=paste(\"naiveBayes1_5.csv\", sep = \"\")) # drops the rownames\n",
    "\n",
    "test[[1]] <- read.table(file=paste(\"naiveBayesTestc1_1.csv\", sep = \"\")) # drops the rownames\n",
    "test[[2]] <- read.table(file=paste(\"naiveBayesTestc1_2.csv\", sep = \"\")) # drops the rownames\n",
    "test[[3]] <- read.table(file=paste(\"naiveBayesTestc1_3.csv\", sep = \"\")) # drops the rownames\n",
    "test[[4]] <- read.table(file=paste(\"naiveBayesTestc1_4.csv\", sep = \"\")) # drops the rownames\n",
    "test[[5]] <- read.table(file=paste(\"naiveBayesTestc1_5.csv\", sep = \"\")) # drops the rownames"
   ]
  },
  {
   "cell_type": "code",
   "execution_count": 9,
   "metadata": {},
   "outputs": [
    {
     "name": "stdout",
     "output_type": "stream",
     "text": [
      "[1] 1.22005\n",
      "[1] 1.22845\n",
      "[1] 1.2072\n",
      "[1] 1.22515\n",
      "[1] 1.19855\n"
     ]
    }
   ],
   "source": [
    "to.plot <- c()\n",
    "for (i in 1:5){\n",
    "m.train <- data.matrix(table[[i]])\n",
    "i.test.c <- unlist(test[[i]])\n",
    "print(mae(m.train[i.test.c],m.na[i.test.c]))\n",
    "m.svd <- svd(m.train)\n",
    "to.plot<-rbind(to.plot,unlist(lapply(seq(30), new.m.cv)))\n",
    "    }\n",
    "to.plot<-apply(to.plot,2,unlist)"
   ]
  },
  {
   "cell_type": "code",
   "execution_count": 10,
   "metadata": {},
   "outputs": [
    {
     "data": {
      "image/png": "[encoded data removed]",
      "text/plain": [
       "Plot with title \"Scatter plot with std.dev error bars\""
      ]
     },
     "metadata": {},
     "output_type": "display_data"
    }
   ],
   "source": [
    "sdev <- apply(to.plot,2,sd) \n",
    "avg <- colMeans(to.plot)\n",
    "x <- 1:length(avg)\n",
    "plot(x,colMeans(to.plot),ylim=range(c(avg-sdev, avg+sdev)),pch=19, xlab=\"Measurements\", ylab=\"Mean +/- SD\",\n",
    "    main=\"Scatter plot with std.dev error bars\"\n",
    ")\n",
    "# hack: we draw arrows but with very special \"arrowheads\"\n",
    "arrows(x, avg-sdev, x, avg+sdev, length=0.05, angle=90, code=3)"
   ]
  },
  {
   "cell_type": "code",
   "execution_count": null,
   "metadata": {},
   "outputs": [],
   "source": []
  }
 ],
 "metadata": {
  "kernelspec": {
   "display_name": "R",
   "language": "R",
   "name": "ir"
  },
  "language_info": {
   "codemirror_mode": "r",
   "file_extension": ".r",
   "mimetype": "text/x-r-source",
   "name": "R",
   "pygments_lexer": "r",
   "version": "3.5.1"
  }
 },
 "nbformat": 4,
 "nbformat_minor": 2
}
