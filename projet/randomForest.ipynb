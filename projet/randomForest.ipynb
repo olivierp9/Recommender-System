{
 "cells": [
  {
   "cell_type": "code",
   "execution_count": 4,
   "metadata": {},
   "outputs": [],
   "source": [
    "### Si données locales\n",
    "library(Matrix)\n",
    "u.user <- read.csv(file='u.user.csv', sep='|', header=T)\n",
    "u.item <- read.csv(file='u.item.csv', sep='|', header=T)\n",
    "u.data <- read.csv(file='u.data.csv', sep='|', header=T)\n",
    "\n",
    "m.sparse <- sparseMatrix(u.data[,1],u.data[,2],x=u.data[,3])\n",
    "rownames(m.sparse) <- paste('u', 1:nrow(m.sparse), sep='')\n",
    "colnames(m.sparse) <- paste('i', 1:ncol(m.sparse), sep='')\n",
    "\n",
    "m <- as.matrix(m.sparse)                # transforme en matrice ordinaire\n",
    "m.na <- m\n",
    "m.na[m.na==0] <- NA\n",
    "\n",
    "# Cosinus normal des lignes d'une matrice\n",
    "matrix.cos <- function(m) {\n",
    "     (m %*% t(m)) / ( t(matrix(sqrt(rowSums(m^2)),nrow(m),nrow(m)))\n",
    "                    * (sqrt(rowSums(m^2))) )\n",
    "}\n",
    "# on normalise les ages\n",
    "u.user.norm <- u.user\n",
    "u.user.norm$age = (u.user.norm$age - min(u.user.norm$age)) / (max(u.user.norm$age) - min(u.user.norm$age))\n",
    "\n",
    "# on normalise les votes\n",
    "u.data.norm <- u.data\n",
    "u.data.norm$rating = (u.data.norm$rating - min(u.data.norm$rating)) / (max(u.data.norm$rating) - min(u.data.norm$rating))\n",
    "\n",
    "m.na.norm <- m.na/5\n",
    "m.norm <- m/5\n",
    "\n"
   ]
  },
  {
   "cell_type": "code",
   "execution_count": 5,
   "metadata": {},
   "outputs": [],
   "source": [
    "mae <- function(m1, m2) mean(abs(m1 - m2), na.rm=T)"
   ]
  },
  {
   "cell_type": "code",
   "execution_count": 6,
   "metadata": {},
   "outputs": [
    {
     "data": {
      "text/html": [
       "<table>\n",
       "<thead><tr><th scope=col>user.id</th><th scope=col>age</th><th scope=col>gender</th><th scope=col>job</th></tr></thead>\n",
       "<tbody>\n",
       "\t<tr><td>1         </td><td>24        </td><td>M         </td><td>technician</td></tr>\n",
       "\t<tr><td>2         </td><td>53        </td><td>F         </td><td>other     </td></tr>\n",
       "\t<tr><td>3         </td><td>23        </td><td>M         </td><td>writer    </td></tr>\n",
       "\t<tr><td>4         </td><td>24        </td><td>M         </td><td>technician</td></tr>\n",
       "\t<tr><td>5         </td><td>33        </td><td>F         </td><td>other     </td></tr>\n",
       "\t<tr><td>6         </td><td>42        </td><td>M         </td><td>executive </td></tr>\n",
       "</tbody>\n",
       "</table>\n"
      ],
      "text/latex": [
       "\\begin{tabular}{r|llll}\n",
       " user.id & age & gender & job\\\\\n",
       "\\hline\n",
       "\t 1          & 24         & M          & technician\\\\\n",
       "\t 2          & 53         & F          & other     \\\\\n",
       "\t 3          & 23         & M          & writer    \\\\\n",
       "\t 4          & 24         & M          & technician\\\\\n",
       "\t 5          & 33         & F          & other     \\\\\n",
       "\t 6          & 42         & M          & executive \\\\\n",
       "\\end{tabular}\n"
      ],
      "text/markdown": [
       "\n",
       "user.id | age | gender | job | \n",
       "|---|---|---|---|---|---|\n",
       "| 1          | 24         | M          | technician | \n",
       "| 2          | 53         | F          | other      | \n",
       "| 3          | 23         | M          | writer     | \n",
       "| 4          | 24         | M          | technician | \n",
       "| 5          | 33         | F          | other      | \n",
       "| 6          | 42         | M          | executive  | \n",
       "\n",
       "\n"
      ],
      "text/plain": [
       "  user.id age gender job       \n",
       "1 1       24  M      technician\n",
       "2 2       53  F      other     \n",
       "3 3       23  M      writer    \n",
       "4 4       24  M      technician\n",
       "5 5       33  F      other     \n",
       "6 6       42  M      executive "
      ]
     },
     "metadata": {},
     "output_type": "display_data"
    },
    {
     "data": {
      "text/html": [
       "<table>\n",
       "<thead><tr><th scope=col>user.id</th><th scope=col>movie.id</th><th scope=col>rating</th></tr></thead>\n",
       "<tbody>\n",
       "\t<tr><td>196</td><td>242</td><td>3  </td></tr>\n",
       "\t<tr><td>186</td><td>302</td><td>3  </td></tr>\n",
       "\t<tr><td> 22</td><td>377</td><td>1  </td></tr>\n",
       "\t<tr><td>244</td><td> 51</td><td>2  </td></tr>\n",
       "\t<tr><td>166</td><td>346</td><td>1  </td></tr>\n",
       "\t<tr><td>298</td><td>474</td><td>4  </td></tr>\n",
       "</tbody>\n",
       "</table>\n"
      ],
      "text/latex": [
       "\\begin{tabular}{r|lll}\n",
       " user.id & movie.id & rating\\\\\n",
       "\\hline\n",
       "\t 196 & 242 & 3  \\\\\n",
       "\t 186 & 302 & 3  \\\\\n",
       "\t  22 & 377 & 1  \\\\\n",
       "\t 244 &  51 & 2  \\\\\n",
       "\t 166 & 346 & 1  \\\\\n",
       "\t 298 & 474 & 4  \\\\\n",
       "\\end{tabular}\n"
      ],
      "text/markdown": [
       "\n",
       "user.id | movie.id | rating | \n",
       "|---|---|---|---|---|---|\n",
       "| 196 | 242 | 3   | \n",
       "| 186 | 302 | 3   | \n",
       "|  22 | 377 | 1   | \n",
       "| 244 |  51 | 2   | \n",
       "| 166 | 346 | 1   | \n",
       "| 298 | 474 | 4   | \n",
       "\n",
       "\n"
      ],
      "text/plain": [
       "  user.id movie.id rating\n",
       "1 196     242      3     \n",
       "2 186     302      3     \n",
       "3  22     377      1     \n",
       "4 244      51      2     \n",
       "5 166     346      1     \n",
       "6 298     474      4     "
      ]
     },
     "metadata": {},
     "output_type": "display_data"
    },
    {
     "data": {
      "text/html": [
       "<table>\n",
       "<thead><tr><th scope=col>movie.id</th><th scope=col>unknown</th><th scope=col>Action</th><th scope=col>Adventure</th><th scope=col>Animation</th><th scope=col>Children.s</th><th scope=col>Comedy</th><th scope=col>Crime</th><th scope=col>Documentary</th><th scope=col>Drama</th><th scope=col>Fantasy</th><th scope=col>Film.Noir</th><th scope=col>Horror</th><th scope=col>Musical</th><th scope=col>Mystery</th><th scope=col>Romance</th><th scope=col>Sci.Fi</th><th scope=col>Thriller</th><th scope=col>War</th><th scope=col>Western</th></tr></thead>\n",
       "<tbody>\n",
       "\t<tr><td>1</td><td>0</td><td>0</td><td>0</td><td>1</td><td>1</td><td>1</td><td>0</td><td>0</td><td>0</td><td>0</td><td>0</td><td>0</td><td>0</td><td>0</td><td>0</td><td>0</td><td>0</td><td>0</td><td>0</td></tr>\n",
       "\t<tr><td>2</td><td>0</td><td>1</td><td>1</td><td>0</td><td>0</td><td>0</td><td>0</td><td>0</td><td>0</td><td>0</td><td>0</td><td>0</td><td>0</td><td>0</td><td>0</td><td>0</td><td>1</td><td>0</td><td>0</td></tr>\n",
       "\t<tr><td>3</td><td>0</td><td>0</td><td>0</td><td>0</td><td>0</td><td>0</td><td>0</td><td>0</td><td>0</td><td>0</td><td>0</td><td>0</td><td>0</td><td>0</td><td>0</td><td>0</td><td>1</td><td>0</td><td>0</td></tr>\n",
       "\t<tr><td>4</td><td>0</td><td>1</td><td>0</td><td>0</td><td>0</td><td>1</td><td>0</td><td>0</td><td>1</td><td>0</td><td>0</td><td>0</td><td>0</td><td>0</td><td>0</td><td>0</td><td>0</td><td>0</td><td>0</td></tr>\n",
       "\t<tr><td>5</td><td>0</td><td>0</td><td>0</td><td>0</td><td>0</td><td>0</td><td>1</td><td>0</td><td>1</td><td>0</td><td>0</td><td>0</td><td>0</td><td>0</td><td>0</td><td>0</td><td>1</td><td>0</td><td>0</td></tr>\n",
       "\t<tr><td>6</td><td>0</td><td>0</td><td>0</td><td>0</td><td>0</td><td>0</td><td>0</td><td>0</td><td>1</td><td>0</td><td>0</td><td>0</td><td>0</td><td>0</td><td>0</td><td>0</td><td>0</td><td>0</td><td>0</td></tr>\n",
       "</tbody>\n",
       "</table>\n"
      ],
      "text/latex": [
       "\\begin{tabular}{r|llllllllllllllllllll}\n",
       " movie.id & unknown & Action & Adventure & Animation & Children.s & Comedy & Crime & Documentary & Drama & Fantasy & Film.Noir & Horror & Musical & Mystery & Romance & Sci.Fi & Thriller & War & Western\\\\\n",
       "\\hline\n",
       "\t 1 & 0 & 0 & 0 & 1 & 1 & 1 & 0 & 0 & 0 & 0 & 0 & 0 & 0 & 0 & 0 & 0 & 0 & 0 & 0\\\\\n",
       "\t 2 & 0 & 1 & 1 & 0 & 0 & 0 & 0 & 0 & 0 & 0 & 0 & 0 & 0 & 0 & 0 & 0 & 1 & 0 & 0\\\\\n",
       "\t 3 & 0 & 0 & 0 & 0 & 0 & 0 & 0 & 0 & 0 & 0 & 0 & 0 & 0 & 0 & 0 & 0 & 1 & 0 & 0\\\\\n",
       "\t 4 & 0 & 1 & 0 & 0 & 0 & 1 & 0 & 0 & 1 & 0 & 0 & 0 & 0 & 0 & 0 & 0 & 0 & 0 & 0\\\\\n",
       "\t 5 & 0 & 0 & 0 & 0 & 0 & 0 & 1 & 0 & 1 & 0 & 0 & 0 & 0 & 0 & 0 & 0 & 1 & 0 & 0\\\\\n",
       "\t 6 & 0 & 0 & 0 & 0 & 0 & 0 & 0 & 0 & 1 & 0 & 0 & 0 & 0 & 0 & 0 & 0 & 0 & 0 & 0\\\\\n",
       "\\end{tabular}\n"
      ],
      "text/markdown": [
       "\n",
       "movie.id | unknown | Action | Adventure | Animation | Children.s | Comedy | Crime | Documentary | Drama | Fantasy | Film.Noir | Horror | Musical | Mystery | Romance | Sci.Fi | Thriller | War | Western | \n",
       "|---|---|---|---|---|---|\n",
       "| 1 | 0 | 0 | 0 | 1 | 1 | 1 | 0 | 0 | 0 | 0 | 0 | 0 | 0 | 0 | 0 | 0 | 0 | 0 | 0 | \n",
       "| 2 | 0 | 1 | 1 | 0 | 0 | 0 | 0 | 0 | 0 | 0 | 0 | 0 | 0 | 0 | 0 | 0 | 1 | 0 | 0 | \n",
       "| 3 | 0 | 0 | 0 | 0 | 0 | 0 | 0 | 0 | 0 | 0 | 0 | 0 | 0 | 0 | 0 | 0 | 1 | 0 | 0 | \n",
       "| 4 | 0 | 1 | 0 | 0 | 0 | 1 | 0 | 0 | 1 | 0 | 0 | 0 | 0 | 0 | 0 | 0 | 0 | 0 | 0 | \n",
       "| 5 | 0 | 0 | 0 | 0 | 0 | 0 | 1 | 0 | 1 | 0 | 0 | 0 | 0 | 0 | 0 | 0 | 1 | 0 | 0 | \n",
       "| 6 | 0 | 0 | 0 | 0 | 0 | 0 | 0 | 0 | 1 | 0 | 0 | 0 | 0 | 0 | 0 | 0 | 0 | 0 | 0 | \n",
       "\n",
       "\n"
      ],
      "text/plain": [
       "  movie.id unknown Action Adventure Animation Children.s Comedy Crime\n",
       "1 1        0       0      0         1         1          1      0    \n",
       "2 2        0       1      1         0         0          0      0    \n",
       "3 3        0       0      0         0         0          0      0    \n",
       "4 4        0       1      0         0         0          1      0    \n",
       "5 5        0       0      0         0         0          0      1    \n",
       "6 6        0       0      0         0         0          0      0    \n",
       "  Documentary Drama Fantasy Film.Noir Horror Musical Mystery Romance Sci.Fi\n",
       "1 0           0     0       0         0      0       0       0       0     \n",
       "2 0           0     0       0         0      0       0       0       0     \n",
       "3 0           0     0       0         0      0       0       0       0     \n",
       "4 0           1     0       0         0      0       0       0       0     \n",
       "5 0           1     0       0         0      0       0       0       0     \n",
       "6 0           1     0       0         0      0       0       0       0     \n",
       "  Thriller War Western\n",
       "1 0        0   0      \n",
       "2 1        0   0      \n",
       "3 1        0   0      \n",
       "4 0        0   0      \n",
       "5 1        0   0      \n",
       "6 0        0   0      "
      ]
     },
     "metadata": {},
     "output_type": "display_data"
    },
    {
     "data": {
      "text/html": [
       "<table>\n",
       "<thead><tr><th scope=col>user.id</th><th scope=col>age</th><th scope=col>gender</th><th scope=col>job</th><th scope=col>movie.id</th><th scope=col>rating</th></tr></thead>\n",
       "<tbody>\n",
       "\t<tr><td>1         </td><td>24        </td><td>M         </td><td>technician</td><td>259       </td><td>1         </td></tr>\n",
       "\t<tr><td>1         </td><td>24        </td><td>M         </td><td>technician</td><td>264       </td><td>2         </td></tr>\n",
       "\t<tr><td>1         </td><td>24        </td><td>M         </td><td>technician</td><td>194       </td><td>4         </td></tr>\n",
       "\t<tr><td>1         </td><td>24        </td><td>M         </td><td>technician</td><td>183       </td><td>5         </td></tr>\n",
       "\t<tr><td>1         </td><td>24        </td><td>M         </td><td>technician</td><td> 40       </td><td>3         </td></tr>\n",
       "\t<tr><td>1         </td><td>24        </td><td>M         </td><td>technician</td><td>226       </td><td>3         </td></tr>\n",
       "</tbody>\n",
       "</table>\n"
      ],
      "text/latex": [
       "\\begin{tabular}{r|llllll}\n",
       " user.id & age & gender & job & movie.id & rating\\\\\n",
       "\\hline\n",
       "\t 1          & 24         & M          & technician & 259        & 1         \\\\\n",
       "\t 1          & 24         & M          & technician & 264        & 2         \\\\\n",
       "\t 1          & 24         & M          & technician & 194        & 4         \\\\\n",
       "\t 1          & 24         & M          & technician & 183        & 5         \\\\\n",
       "\t 1          & 24         & M          & technician &  40        & 3         \\\\\n",
       "\t 1          & 24         & M          & technician & 226        & 3         \\\\\n",
       "\\end{tabular}\n"
      ],
      "text/markdown": [
       "\n",
       "user.id | age | gender | job | movie.id | rating | \n",
       "|---|---|---|---|---|---|\n",
       "| 1          | 24         | M          | technician | 259        | 1          | \n",
       "| 1          | 24         | M          | technician | 264        | 2          | \n",
       "| 1          | 24         | M          | technician | 194        | 4          | \n",
       "| 1          | 24         | M          | technician | 183        | 5          | \n",
       "| 1          | 24         | M          | technician |  40        | 3          | \n",
       "| 1          | 24         | M          | technician | 226        | 3          | \n",
       "\n",
       "\n"
      ],
      "text/plain": [
       "  user.id age gender job        movie.id rating\n",
       "1 1       24  M      technician 259      1     \n",
       "2 1       24  M      technician 264      2     \n",
       "3 1       24  M      technician 194      4     \n",
       "4 1       24  M      technician 183      5     \n",
       "5 1       24  M      technician  40      3     \n",
       "6 1       24  M      technician 226      3     "
      ]
     },
     "metadata": {},
     "output_type": "display_data"
    },
    {
     "data": {
      "text/html": [
       "<table>\n",
       "<thead><tr><th scope=col>movie.id</th><th scope=col>user.id</th><th scope=col>age</th><th scope=col>gender</th><th scope=col>job</th><th scope=col>rating</th><th scope=col>unknown</th><th scope=col>Action</th><th scope=col>Adventure</th><th scope=col>Animation</th><th scope=col>...</th><th scope=col>Fantasy</th><th scope=col>Film.Noir</th><th scope=col>Horror</th><th scope=col>Musical</th><th scope=col>Mystery</th><th scope=col>Romance</th><th scope=col>Sci.Fi</th><th scope=col>Thriller</th><th scope=col>War</th><th scope=col>Western</th></tr></thead>\n",
       "<tbody>\n",
       "\t<tr><td>1        </td><td>918      </td><td>40       </td><td>M        </td><td>scientist</td><td>3        </td><td>0        </td><td>0        </td><td>0        </td><td>1        </td><td>...      </td><td>0        </td><td>0        </td><td>0        </td><td>0        </td><td>0        </td><td>0        </td><td>0        </td><td>0        </td><td>0        </td><td>0        </td></tr>\n",
       "\t<tr><td>1        </td><td>684      </td><td>28       </td><td>M        </td><td>student  </td><td>4        </td><td>0        </td><td>0        </td><td>0        </td><td>1        </td><td>...      </td><td>0        </td><td>0        </td><td>0        </td><td>0        </td><td>0        </td><td>0        </td><td>0        </td><td>0        </td><td>0        </td><td>0        </td></tr>\n",
       "\t<tr><td>1        </td><td>660      </td><td>26       </td><td>M        </td><td>student  </td><td>3        </td><td>0        </td><td>0        </td><td>0        </td><td>1        </td><td>...      </td><td>0        </td><td>0        </td><td>0        </td><td>0        </td><td>0        </td><td>0        </td><td>0        </td><td>0        </td><td>0        </td><td>0        </td></tr>\n",
       "\t<tr><td>1        </td><td>339      </td><td>35       </td><td>M        </td><td>lawyer   </td><td>5        </td><td>0        </td><td>0        </td><td>0        </td><td>1        </td><td>...      </td><td>0        </td><td>0        </td><td>0        </td><td>0        </td><td>0        </td><td>0        </td><td>0        </td><td>0        </td><td>0        </td><td>0        </td></tr>\n",
       "\t<tr><td>1        </td><td>699      </td><td>44       </td><td>M        </td><td>other    </td><td>3        </td><td>0        </td><td>0        </td><td>0        </td><td>1        </td><td>...      </td><td>0        </td><td>0        </td><td>0        </td><td>0        </td><td>0        </td><td>0        </td><td>0        </td><td>0        </td><td>0        </td><td>0        </td></tr>\n",
       "\t<tr><td>1        </td><td> 94      </td><td>26       </td><td>M        </td><td>student  </td><td>4        </td><td>0        </td><td>0        </td><td>0        </td><td>1        </td><td>...      </td><td>0        </td><td>0        </td><td>0        </td><td>0        </td><td>0        </td><td>0        </td><td>0        </td><td>0        </td><td>0        </td><td>0        </td></tr>\n",
       "</tbody>\n",
       "</table>\n"
      ],
      "text/latex": [
       "\\begin{tabular}{r|lllllllllllllllllllllllll}\n",
       " movie.id & user.id & age & gender & job & rating & unknown & Action & Adventure & Animation & ... & Fantasy & Film.Noir & Horror & Musical & Mystery & Romance & Sci.Fi & Thriller & War & Western\\\\\n",
       "\\hline\n",
       "\t 1         & 918       & 40        & M         & scientist & 3         & 0         & 0         & 0         & 1         & ...       & 0         & 0         & 0         & 0         & 0         & 0         & 0         & 0         & 0         & 0        \\\\\n",
       "\t 1         & 684       & 28        & M         & student   & 4         & 0         & 0         & 0         & 1         & ...       & 0         & 0         & 0         & 0         & 0         & 0         & 0         & 0         & 0         & 0        \\\\\n",
       "\t 1         & 660       & 26        & M         & student   & 3         & 0         & 0         & 0         & 1         & ...       & 0         & 0         & 0         & 0         & 0         & 0         & 0         & 0         & 0         & 0        \\\\\n",
       "\t 1         & 339       & 35        & M         & lawyer    & 5         & 0         & 0         & 0         & 1         & ...       & 0         & 0         & 0         & 0         & 0         & 0         & 0         & 0         & 0         & 0        \\\\\n",
       "\t 1         & 699       & 44        & M         & other     & 3         & 0         & 0         & 0         & 1         & ...       & 0         & 0         & 0         & 0         & 0         & 0         & 0         & 0         & 0         & 0        \\\\\n",
       "\t 1         &  94       & 26        & M         & student   & 4         & 0         & 0         & 0         & 1         & ...       & 0         & 0         & 0         & 0         & 0         & 0         & 0         & 0         & 0         & 0        \\\\\n",
       "\\end{tabular}\n"
      ],
      "text/markdown": [
       "\n",
       "movie.id | user.id | age | gender | job | rating | unknown | Action | Adventure | Animation | ... | Fantasy | Film.Noir | Horror | Musical | Mystery | Romance | Sci.Fi | Thriller | War | Western | \n",
       "|---|---|---|---|---|---|\n",
       "| 1         | 918       | 40        | M         | scientist | 3         | 0         | 0         | 0         | 1         | ...       | 0         | 0         | 0         | 0         | 0         | 0         | 0         | 0         | 0         | 0         | \n",
       "| 1         | 684       | 28        | M         | student   | 4         | 0         | 0         | 0         | 1         | ...       | 0         | 0         | 0         | 0         | 0         | 0         | 0         | 0         | 0         | 0         | \n",
       "| 1         | 660       | 26        | M         | student   | 3         | 0         | 0         | 0         | 1         | ...       | 0         | 0         | 0         | 0         | 0         | 0         | 0         | 0         | 0         | 0         | \n",
       "| 1         | 339       | 35        | M         | lawyer    | 5         | 0         | 0         | 0         | 1         | ...       | 0         | 0         | 0         | 0         | 0         | 0         | 0         | 0         | 0         | 0         | \n",
       "| 1         | 699       | 44        | M         | other     | 3         | 0         | 0         | 0         | 1         | ...       | 0         | 0         | 0         | 0         | 0         | 0         | 0         | 0         | 0         | 0         | \n",
       "| 1         |  94       | 26        | M         | student   | 4         | 0         | 0         | 0         | 1         | ...       | 0         | 0         | 0         | 0         | 0         | 0         | 0         | 0         | 0         | 0         | \n",
       "\n",
       "\n"
      ],
      "text/plain": [
       "  movie.id user.id age gender job       rating unknown Action Adventure\n",
       "1 1        918     40  M      scientist 3      0       0      0        \n",
       "2 1        684     28  M      student   4      0       0      0        \n",
       "3 1        660     26  M      student   3      0       0      0        \n",
       "4 1        339     35  M      lawyer    5      0       0      0        \n",
       "5 1        699     44  M      other     3      0       0      0        \n",
       "6 1         94     26  M      student   4      0       0      0        \n",
       "  Animation ... Fantasy Film.Noir Horror Musical Mystery Romance Sci.Fi\n",
       "1 1         ... 0       0         0      0       0       0       0     \n",
       "2 1         ... 0       0         0      0       0       0       0     \n",
       "3 1         ... 0       0         0      0       0       0       0     \n",
       "4 1         ... 0       0         0      0       0       0       0     \n",
       "5 1         ... 0       0         0      0       0       0       0     \n",
       "6 1         ... 0       0         0      0       0       0       0     \n",
       "  Thriller War Western\n",
       "1 0        0   0      \n",
       "2 0        0   0      \n",
       "3 0        0   0      \n",
       "4 0        0   0      \n",
       "5 0        0   0      \n",
       "6 0        0   0      "
      ]
     },
     "metadata": {},
     "output_type": "display_data"
    }
   ],
   "source": [
    "# merge users and ratings\n",
    "names(u.user)<- c('user.id','age','gender','job')\n",
    "u.user <- u.user[,c(-5)]\n",
    "head(u.user)\n",
    "\n",
    "names(u.data)<- c('user.id','movie.id','rating')\n",
    "u.data <- u.data[,c(-4)]\n",
    "head(u.data)\n",
    "\n",
    "u.item <- u.item[,c(-2,-3,-4,-5)]\n",
    "head(u.item)\n",
    "\n",
    "u.r <- merge(u.user, u.data, by = \"user.id\")\n",
    "head(u.r)\n",
    "# merge userRating with movie to have actual movie titles instead of ids\n",
    "u.r.v <- merge(u.r, u.item, by = \"movie.id\")\n",
    "head(u.r.v)\n"
   ]
  },
  {
   "cell_type": "code",
   "execution_count": 7,
   "metadata": {},
   "outputs": [
    {
     "name": "stderr",
     "output_type": "stream",
     "text": [
      "randomForest 4.6-14\n",
      "Type rfNews() to see new features/changes/bug fixes.\n"
     ]
    }
   ],
   "source": [
    "library(randomForest)"
   ]
  },
  {
   "cell_type": "code",
   "execution_count": 10,
   "metadata": {},
   "outputs": [],
   "source": [
    "formula <- as.factor(rating) ~ .\n"
   ]
  },
  {
   "cell_type": "code",
   "execution_count": 9,
   "metadata": {},
   "outputs": [],
   "source": [
    "new.m.cv <- function(dimRedu){\n",
    "# matrice diagonale pour réduire les matrices originales\n",
    "m.d2 <- diag(c(m.svd$d[1:dimRedu],rep(0,length(m.svd$d)-dimRedu)))\n",
    "# nouvelle matrice basée sur les deux premières dimensions uniquement\n",
    "m.svd2 <- round((m.svd$u %*% m.d2 %*% t(m.svd$v)),2)\n",
    "mae(m.svd2[i.test.c], m.na[i.test.c])\n",
    "    }\n",
    "to.plot <- c()"
   ]
  },
  {
   "cell_type": "code",
   "execution_count": null,
   "metadata": {},
   "outputs": [],
   "source": [
    "i.observed <- dim(u.r.v)[1]\n",
    "set.seed(5)\n",
    "i.hasard <- sample(seq(1,i.observed,1), i.observed)\n",
    "fold.size <- round(length(i.hasard) / 5)\n",
    "i.false <- rep(FALSE, dim(u.r.v)[1])\n",
    "for (i in 1:5){\n",
    "fold.number <- i\n",
    "\n",
    "## Index booléen pour les cellules de test et d'entraînement\n",
    "i.test.b <- i.false\n",
    "## Les cellules indexées du replis correspondant sont fixées à TRUE pour le test...\n",
    "i.test.b[ i.hasard[((fold.number-1) * fold.size):((fold.number) * fold.size)] ] <- TRUE\n",
    "    \n",
    "\n",
    "## ...et à FALSE pour l'entraînement\n",
    "i.train.b <-  !i.test.b\n",
    "u.r.v.train <- u.r.v[i.train.b,]\n",
    "u.r.v.test <- u.r.v[i.test.b,]\n",
    "\n",
    "rf <- randomForest(formula, data = u.r.v.train, ntree = 10)\n",
    "new.m <- m\n",
    "i.test.c <- rep(FALSE,943*1682)\n",
    "for (j in seq_len(fold.size)){\n",
    "    new.m[u.r.v.test[j,2],u.r.v.test[j,1]]<-0\n",
    "    i.test.c[943*(u.r.v.test[j,1]-1)+u.r.v.test[j,2]]<-TRUE\n",
    "}\n",
    "for (k in seq_len(943)){\n",
    "    for (l in seq_len(1682)){\n",
    "        if (new.m[k,l]==0){\n",
    "            new.m[k,l]<- predict(rf, newdata = cbind(u.item[l,],u.user[k,])) \n",
    "        }\n",
    "    }\n",
    "}\n",
    "write.table(new.m,file=paste(\"rF2_\", toString(i), \".csv\", sep = \"\")) # drops the rownames\n",
    "write.table(i.test.c,file=paste(\"rFTestc2_\", toString(i), \".csv\", sep = \"\")) # drops the rownames\n",
    "write.table(i.test.b,file=paste(\"rFTestb2_\", toString(i), \".csv\", sep = \"\")) # drops the rownames\n",
    "m.train <- new.m\n",
    "m.train <- m.train\n",
    "m.svd <- svd(m.train)\n",
    "to.plot<-rbind(to.plot,unlist(lapply(seq(22), new.m.cv)))\n",
    "    }\n"
   ]
  },
  {
   "cell_type": "code",
   "execution_count": null,
   "metadata": {},
   "outputs": [],
   "source": []
  },
  {
   "cell_type": "code",
   "execution_count": 1,
   "metadata": {},
   "outputs": [],
   "source": [
    "table = list()\n",
    "test = list()"
   ]
  },
  {
   "cell_type": "code",
   "execution_count": 2,
   "metadata": {},
   "outputs": [],
   "source": [
    "table[[1]] <- read.table(file=paste(\"rF1_1.csv\", sep = \"\")) # drops the rownames\n",
    "table[[2]] <- read.table(file=paste(\"rF1_2.csv\", sep = \"\")) # drops the rownames\n",
    "table[[3]] <- read.table(file=paste(\"rF1_3.csv\", sep = \"\")) # drops the rownames\n",
    "table[[4]] <- read.table(file=paste(\"rF1_4.csv\", sep = \"\")) # drops the rownames\n",
    "table[[5]] <- read.table(file=paste(\"rF1_5.csv\", sep = \"\")) # drops the rownames\n",
    "\n",
    "test[[1]] <- read.table(file=paste(\"rFTestc1_1.csv\", sep = \"\")) # drops the rownames\n",
    "test[[2]] <- read.table(file=paste(\"rFTestc1_2.csv\", sep = \"\")) # drops the rownames\n",
    "test[[3]] <- read.table(file=paste(\"rFTestc1_3.csv\", sep = \"\")) # drops the rownames\n",
    "test[[4]] <- read.table(file=paste(\"rFTestc1_4.csv\", sep = \"\")) # drops the rownames\n",
    "test[[5]] <- read.table(file=paste(\"rFTestc1_5.csv\", sep = \"\")) # drops the rownames\n",
    "\n"
   ]
  },
  {
   "cell_type": "code",
   "execution_count": 10,
   "metadata": {},
   "outputs": [
    {
     "name": "stdout",
     "output_type": "stream",
     "text": [
      "[1] 0.81275\n",
      "[1] 0.828\n",
      "[1] 0.8174\n",
      "[1] 0.81555\n",
      "[1] 0.8102\n"
     ]
    }
   ],
   "source": [
    "cv.b <- c()\n",
    "to.plot <- c()\n",
    "for (i in 1:5){\n",
    "m.train <- data.matrix(table[[i]])\n",
    "i.test.c <- unlist(test[[i]])\n",
    "print(mae(m.train[i.test.c],m.na[i.test.c]))\n",
    "m.svd <- svd(m.train)\n",
    "to.plot<-rbind(to.plot,unlist(lapply(seq(22), new.m.cv)))\n",
    "cv.b <- c(cv.b, mae(m.train[i.test.c],m.na[i.test.c]))\n",
    "    }"
   ]
  },
  {
   "cell_type": "code",
   "execution_count": 11,
   "metadata": {},
   "outputs": [],
   "source": [
    "to.plot<-apply(to.plot,2,unlist)"
   ]
  },
  {
   "cell_type": "code",
   "execution_count": 12,
   "metadata": {},
   "outputs": [],
   "source": [
    "sdev <- apply(to.plot,2,sd) \n",
    "avg <- colMeans(to.plot)\n",
    "x <- 1:length(avg)"
   ]
  },
  {
   "cell_type": "code",
   "execution_count": 14,
   "metadata": {},
   "outputs": [
    {
     "ename": "ERROR",
     "evalue": "Error in png(tf, width, height, \"in\", pointsize, bg, res, antialias = antialias): unable to start png() device\n",
     "output_type": "error",
     "traceback": [
      "Error in png(tf, width, height, \"in\", pointsize, bg, res, antialias = antialias): unable to start png() device\nTraceback:\n"
     ]
    },
    {
     "data": {
      "text/plain": [
       "Plot with title \"Random Forest\""
      ]
     },
     "metadata": {},
     "output_type": "display_data"
    }
   ],
   "source": [
    "plot(x,colMeans(to.plot),ylim=range(c(avg-sdev, avg+sdev)),pch=19, xlab=\"Dimensions\", ylab=\"MAE +/- SD\",\n",
    "    main=\"Random Forest\"\n",
    ")\n",
    "# hack: we draw arrows but with very special \"arrowheads\"\n",
    "arrows(x, avg-sdev, x, avg+sdev, length=0.05, angle=90, code=3)"
   ]
  },
  {
   "cell_type": "code",
   "execution_count": null,
   "metadata": {},
   "outputs": [],
   "source": [
    "write.table(avg, file=\"out/total/RF.csv\")"
   ]
  },
  {
   "cell_type": "code",
   "execution_count": 15,
   "metadata": {},
   "outputs": [
    {
     "data": {
      "text/html": [
       "<ol class=list-inline>\n",
       "\t<li>0.8066036</li>\n",
       "\t<li>0.8030098</li>\n",
       "\t<li>0.7995978</li>\n",
       "\t<li>0.7988269</li>\n",
       "\t<li>0.7988691</li>\n",
       "\t<li>0.7985776</li>\n",
       "\t<li>0.7984156</li>\n",
       "\t<li>0.798372</li>\n",
       "\t<li>0.7983108</li>\n",
       "\t<li>0.7981063</li>\n",
       "\t<li>0.7983487</li>\n",
       "\t<li>0.7983757</li>\n",
       "\t<li>0.7987115</li>\n",
       "\t<li>0.7985772</li>\n",
       "\t<li>0.7982933</li>\n",
       "\t<li>0.7983824</li>\n",
       "\t<li>0.7984002</li>\n",
       "\t<li>0.7984742</li>\n",
       "\t<li>0.7985333</li>\n",
       "\t<li>0.798775</li>\n",
       "\t<li>0.7990491</li>\n",
       "\t<li>0.7988038</li>\n",
       "</ol>\n"
      ],
      "text/latex": [
       "\\begin{enumerate*}\n",
       "\\item 0.8066036\n",
       "\\item 0.8030098\n",
       "\\item 0.7995978\n",
       "\\item 0.7988269\n",
       "\\item 0.7988691\n",
       "\\item 0.7985776\n",
       "\\item 0.7984156\n",
       "\\item 0.798372\n",
       "\\item 0.7983108\n",
       "\\item 0.7981063\n",
       "\\item 0.7983487\n",
       "\\item 0.7983757\n",
       "\\item 0.7987115\n",
       "\\item 0.7985772\n",
       "\\item 0.7982933\n",
       "\\item 0.7983824\n",
       "\\item 0.7984002\n",
       "\\item 0.7984742\n",
       "\\item 0.7985333\n",
       "\\item 0.798775\n",
       "\\item 0.7990491\n",
       "\\item 0.7988038\n",
       "\\end{enumerate*}\n"
      ],
      "text/markdown": [
       "1. 0.8066036\n",
       "2. 0.8030098\n",
       "3. 0.7995978\n",
       "4. 0.7988269\n",
       "5. 0.7988691\n",
       "6. 0.7985776\n",
       "7. 0.7984156\n",
       "8. 0.798372\n",
       "9. 0.7983108\n",
       "10. 0.7981063\n",
       "11. 0.7983487\n",
       "12. 0.7983757\n",
       "13. 0.7987115\n",
       "14. 0.7985772\n",
       "15. 0.7982933\n",
       "16. 0.7983824\n",
       "17. 0.7984002\n",
       "18. 0.7984742\n",
       "19. 0.7985333\n",
       "20. 0.798775\n",
       "21. 0.7990491\n",
       "22. 0.7988038\n",
       "\n",
       "\n"
      ],
      "text/plain": [
       " [1] 0.8066036 0.8030098 0.7995978 0.7988269 0.7988691 0.7985776 0.7984156\n",
       " [8] 0.7983720 0.7983108 0.7981063 0.7983487 0.7983757 0.7987115 0.7985772\n",
       "[15] 0.7982933 0.7983824 0.7984002 0.7984742 0.7985333 0.7987750 0.7990491\n",
       "[22] 0.7988038"
      ]
     },
     "metadata": {},
     "output_type": "display_data"
    }
   ],
   "source": [
    "avg"
   ]
  },
  {
   "cell_type": "code",
   "execution_count": 17,
   "metadata": {},
   "outputs": [
    {
     "data": {
      "text/html": [
       "0.81678"
      ],
      "text/latex": [
       "0.81678"
      ],
      "text/markdown": [
       "0.81678"
      ],
      "text/plain": [
       "[1] 0.81678"
      ]
     },
     "metadata": {},
     "output_type": "display_data"
    }
   ],
   "source": [
    "mean(cv.b)"
   ]
  },
  {
   "cell_type": "code",
   "execution_count": null,
   "metadata": {},
   "outputs": [],
   "source": []
  }
 ],
 "metadata": {
  "kernelspec": {
   "display_name": "R",
   "language": "R",
   "name": "ir"
  },
  "language_info": {
   "codemirror_mode": "r",
   "file_extension": ".r",
   "mimetype": "text/x-r-source",
   "name": "R",
   "pygments_lexer": "r",
   "version": "3.5.1"
  }
 },
 "nbformat": 4,
 "nbformat_minor": 2
}
